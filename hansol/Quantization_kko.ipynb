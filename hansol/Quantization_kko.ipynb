{
 "cells": [
  {
   "cell_type": "code",
   "execution_count": 1,
   "id": "cb5d97ba-eb9a-408a-94c3-dfeb5efbe1f8",
   "metadata": {},
   "outputs": [],
   "source": [
    "# !pip install transformers\n",
    "# !pip install accelerate\n",
    "\n",
    "import os\n",
    "os.environ[\"CUDA_VISIBLE_DEVICES\"]=\"2\""
   ]
  },
  {
   "cell_type": "code",
   "execution_count": 2,
   "id": "4dc6f51b-90d2-43b8-ae76-54ca5f7db3d5",
   "metadata": {},
   "outputs": [],
   "source": [
    "# #양자화에 필요한 패키지 설치\n",
    "# !pip install -q -U bitsandbytes\n",
    "# !pip install -q -U git+https://github.com/huggingface/transformers.git\n",
    "# !pip install -q -U git+https://github.com/huggingface/peft.git\n",
    "# !pip install -q -U git+https://github.com/huggingface/accelerate.git\n",
    "# !pip install git+https://github.com/huggingface/peft\n"
   ]
  },
  {
   "cell_type": "code",
   "execution_count": 3,
   "id": "c26e35b5-ce83-4579-b893-1abd3d5eb82d",
   "metadata": {},
   "outputs": [
    {
     "name": "stdout",
     "output_type": "stream",
     "text": [
      "Using device: cuda\n"
     ]
    }
   ],
   "source": [
    "import pandas as pd\n",
    "import numpy as np\n",
    "import torch\n",
    "from transformers import GPT2LMHeadModel, PreTrainedTokenizerFast, AdamW, AutoTokenizer\n",
    "from torch.optim.lr_scheduler import CosineAnnealingLR\n",
    "\n",
    "from tqdm import tqdm\n",
    "from torch import nn\n",
    "from transformers import Trainer\n",
    "import torch.nn.functional as F\n",
    "import torchvision.transforms as tr # 이미지 전처리 기능들을 제공하는 라이브러리\n",
    "from torch.utils.data import DataLoader, Dataset # 데이터를 모델에 사용할 수 있도록 정리해 주는 라이브러리\n",
    "\n",
    "# CUDA 사용 가능 여부 확인\n",
    "device = torch.device(\"cuda\" if torch.cuda.is_available() else \"cpu\")\n",
    "print(f\"Using device: {device}\")"
   ]
  },
  {
   "cell_type": "code",
   "execution_count": 4,
   "id": "d4f02a49-1951-44a5-add3-98d56a9cd733",
   "metadata": {},
   "outputs": [],
   "source": [
    "import torch\n",
    "from transformers import AutoTokenizer, AutoModelForCausalLM, BitsAndBytesConfig\n",
    "\n",
    "# bnb_config = BitsAndBytesConfig(\n",
    "#     load_in_4bit=True,\n",
    "#     bnb_4bit_use_double_quant=True,\n",
    "#     bnb_4bit_quant_type=\"nf4\",\n",
    "#     bnb_4bit_compute_dtype=torch.bfloat16\n",
    "# )"
   ]
  },
  {
   "cell_type": "code",
   "execution_count": 5,
   "id": "42b2a451-7b1c-4019-91cd-c1f9efdd0448",
   "metadata": {},
   "outputs": [],
   "source": [
    "CFG = {\n",
    "    'LR' : 5e-6, # Learning Rate\n",
    "    'EPOCHS' : 50, # 학습 Epoch\n",
    "    'BATCH_SIZE' : 1,\n",
    "    'AUG_RATIO' : 0.15,\n",
    "    'AUG_PROB' : 0.5,\n",
    "}"
   ]
  },
  {
   "cell_type": "code",
   "execution_count": 6,
   "id": "8779ea5f-506a-45b8-9a16-b2e1a48c392f",
   "metadata": {},
   "outputs": [],
   "source": [
    "data_df = pd.read_csv('./data/train.csv')\n",
    "data_df = data_df.drop(['id','category'], axis=1)\n"
   ]
  },
  {
   "cell_type": "code",
   "execution_count": 7,
   "id": "c672fc9a-825c-4007-a093-0911802984ff",
   "metadata": {},
   "outputs": [
    {
     "data": {
      "application/vnd.jupyter.widget-view+json": {
       "model_id": "cde9bec318754a4bbcd6399135239348",
       "version_major": 2,
       "version_minor": 0
      },
      "text/plain": [
       "Loading checkpoint shards:   0%|          | 0/6 [00:00<?, ?it/s]"
      ]
     },
     "metadata": {},
     "output_type": "display_data"
    },
    {
     "name": "stderr",
     "output_type": "stream",
     "text": [
      "Special tokens have been added in the vocabulary, make sure the associated word embeddings are fine-tuned or trained.\n"
     ]
    }
   ],
   "source": [
    "# Load model directly\n",
    "# from transformers import AutoTokenizer, AutoModelForCausalLM\n",
    "\n",
    "# Load model directly\n",
    "from transformers import AutoTokenizer, AutoModelForCausalLM\n",
    "# tokenizer = PreTrainedTokenizerFast.from_pretrained('skt/kogpt2-base-v2', eos_token='</s>')\n",
    "# tokenizer = PreTrainedTokenizerFast.from_pretrained('./skt_aug2_2_29_epoch/', max_length=10000, eos_token='</s>',  truncation=True)\n",
    "# model = GPT2LMHeadModel.from_pretrained(\"./skt_aug2_2_29_epoch/\")\n",
    "\n",
    "# tokenizer = AutoTokenizer.from_pretrained(\"Edentns/DataVortexS-10.7B-dpo-v1.0\", eos_token='</s>', max_length=5000, truncation=True)\n",
    "# model = AutoModelForCausalLM.from_pretrained(\"Edentns/DataVortexS-10.7B-dpo-v1.0\")\n",
    "model = AutoModelForCausalLM.from_pretrained(\"./kko_aug2_5_epoch/\")\n",
    "tokenizer = AutoTokenizer.from_pretrained(\"./kko_aug2_5_epoch/\", eos_token='</s>',max_length=10000)\n"
   ]
  },
  {
   "cell_type": "code",
   "execution_count": 8,
   "id": "1ffc99ee-841f-438d-854f-dcdeb18d7810",
   "metadata": {},
   "outputs": [],
   "source": [
    "# loaded_model = PeftModel.from_pretrained(\n",
    "#     foundation_model,    # 프롬프트 튜닝에 사용될 기본 모델\n",
    "#     peft_model_path,     # Peft 모델이 저장된 위치\n",
    "#     is_trainable = False # 불러온 모델은 훈련될 필요 없음\n",
    "# )\n",
    "from peft import get_peft_model, PromptTuningConfig, TaskType, PromptTuningInit, PeftModel, PeftConfig\n",
    "\n",
    "model = PeftModel.from_pretrained(\n",
    "    model,    # 프롬프트 튜닝에 사용될 기본 모델\n",
    "    \"./kko_lora_4_2_epoch/\",     # Peft 모델이 저장된 위치\n",
    "    is_trainable = True \n",
    ")\n",
    "\n",
    "\n"
   ]
  },
  {
   "cell_type": "code",
   "execution_count": 9,
   "id": "d533ad1f-e353-4ab5-adef-2bdb311eda3b",
   "metadata": {},
   "outputs": [],
   "source": [
    "# from transformers import AutoModelForSeq2SeqLM+ \n",
    "# from peft import PeftModel, PeftConfig \n",
    "# peft_model_id = \"smangrul/twitter_complaints_bigscience_T0_3B_LORA_SEQ_2_SEQ_LM\"+ config = PeftConfig.from_pretrained(peft_model_id) \n",
    "# model = AutoModelForSeq2SeqLM.from_pretrained(config.base_model_name_or_path)+ model = PeftModel.from_pretrained(model, peft_model_id)\n",
    "# tokenizer = AutoTokenizer.from_pretrained(config.base_model_name_or_path)\n",
    "# model = model.to(device)  \n",
    "# model.eval() \n",
    "# inputs = tokenizer(\"Tweet text : @HondaCustSvc Your customer service has been horrible during the recall process. I will never purchase a Honda again. Label :\", return_tensors=\"pt\")   \n",
    "# with torch.no_grad():     \n",
    "#     outputs = model.generate(input_ids=inputs[\"input_ids\"].to(\"cuda\"), max_new_tokens=10)  \n",
    "#     print(tokenizer.batch_decode(outputs.detach().cpu().numpy(), skip_special_tokens=True)[0])  'complaint'\n"
   ]
  },
  {
   "cell_type": "code",
   "execution_count": 10,
   "id": "df8ad2d3-c5c3-4418-99a7-4dc15a51784e",
   "metadata": {},
   "outputs": [],
   "source": [
    "# from peft import LoraConfig, TaskType, get_peft_model, prepare_model_for_int8_training\n",
    "# lora_config = LoraConfig(r=8,\n",
    "#                          lora_alpha=32,\n",
    "#                          target_modules=['q_proj','v_proj'],\n",
    "#                          lora_dropout=0.1,\n",
    "#                          # inference_mode=False,\n",
    "#                          bias=\"none\",\n",
    "#                          task_type=TaskType.CAUSAL_LM)\n",
    "\n",
    "# model = prepare_model_for_int8_training(model)\n",
    "# model = get_peft_model(model, lora_config)\n"
   ]
  },
  {
   "cell_type": "code",
   "execution_count": 11,
   "id": "376104f6-9e7e-465b-98f4-a4c51bf55481",
   "metadata": {},
   "outputs": [
    {
     "name": "stdout",
     "output_type": "stream",
     "text": [
      "trainable params: 3,670,016 || all params: 6,170,172,416 || trainable%: 0.059479958622926106\n"
     ]
    }
   ],
   "source": [
    "model.print_trainable_parameters()\n",
    "# model.to(device)"
   ]
  },
  {
   "cell_type": "code",
   "execution_count": 12,
   "id": "76f92a9b-4e64-40f9-91ef-6ca820c75551",
   "metadata": {},
   "outputs": [
    {
     "data": {
      "text/plain": [
       "PeftModelForCausalLM(\n",
       "  (base_model): LoraModel(\n",
       "    (model): GPTJForCausalLM(\n",
       "      (transformer): GPTJModel(\n",
       "        (wte): Embedding(64512, 4096)\n",
       "        (drop): Dropout(p=0.1, inplace=False)\n",
       "        (h): ModuleList(\n",
       "          (0-27): 28 x GPTJBlock(\n",
       "            (ln_1): LayerNorm((4096,), eps=1e-05, elementwise_affine=True)\n",
       "            (attn): GPTJAttention(\n",
       "              (attn_dropout): Dropout(p=0.1, inplace=False)\n",
       "              (resid_dropout): Dropout(p=0.0, inplace=False)\n",
       "              (k_proj): Linear(in_features=4096, out_features=4096, bias=False)\n",
       "              (v_proj): lora.Linear(\n",
       "                (base_layer): Linear(in_features=4096, out_features=4096, bias=False)\n",
       "                (lora_dropout): ModuleDict(\n",
       "                  (default): Dropout(p=0.1, inplace=False)\n",
       "                )\n",
       "                (lora_A): ModuleDict(\n",
       "                  (default): Linear(in_features=4096, out_features=8, bias=False)\n",
       "                )\n",
       "                (lora_B): ModuleDict(\n",
       "                  (default): Linear(in_features=8, out_features=4096, bias=False)\n",
       "                )\n",
       "                (lora_embedding_A): ParameterDict()\n",
       "                (lora_embedding_B): ParameterDict()\n",
       "              )\n",
       "              (q_proj): lora.Linear(\n",
       "                (base_layer): Linear(in_features=4096, out_features=4096, bias=False)\n",
       "                (lora_dropout): ModuleDict(\n",
       "                  (default): Dropout(p=0.1, inplace=False)\n",
       "                )\n",
       "                (lora_A): ModuleDict(\n",
       "                  (default): Linear(in_features=4096, out_features=8, bias=False)\n",
       "                )\n",
       "                (lora_B): ModuleDict(\n",
       "                  (default): Linear(in_features=8, out_features=4096, bias=False)\n",
       "                )\n",
       "                (lora_embedding_A): ParameterDict()\n",
       "                (lora_embedding_B): ParameterDict()\n",
       "              )\n",
       "              (out_proj): Linear(in_features=4096, out_features=4096, bias=False)\n",
       "            )\n",
       "            (mlp): GPTJMLP(\n",
       "              (fc_in): Linear(in_features=4096, out_features=16384, bias=True)\n",
       "              (fc_out): Linear(in_features=16384, out_features=4096, bias=True)\n",
       "              (act): NewGELUActivation()\n",
       "              (dropout): Dropout(p=0.0, inplace=False)\n",
       "            )\n",
       "          )\n",
       "        )\n",
       "        (ln_f): LayerNorm((4096,), eps=1e-05, elementwise_affine=True)\n",
       "      )\n",
       "      (lm_head): Linear(in_features=4096, out_features=64512, bias=True)\n",
       "    )\n",
       "  )\n",
       ")"
      ]
     },
     "execution_count": 12,
     "metadata": {},
     "output_type": "execute_result"
    }
   ],
   "source": [
    "model"
   ]
  },
  {
   "cell_type": "code",
   "execution_count": 13,
   "id": "b88c6eca-6770-424e-91e4-08b68c14d540",
   "metadata": {},
   "outputs": [],
   "source": [
    "import random\n",
    "\n",
    "\n",
    "class HansolDataset(Dataset):\n",
    "    def __init__(self, data_df, tokenizer):\n",
    "        self.tokenizer = tokenizer\n",
    "        self.data_df = None\n",
    "        self.sentence_list = []\n",
    "        self._augment_question(data_df)\n",
    "        self._generate_data()\n",
    "        \n",
    "    def __getitem__(self, index):\n",
    "        return self.sentence_list[index]\n",
    "    \n",
    "    def __len__(self):\n",
    "        return len(self.sentence_list)\n",
    "\n",
    "    def _augment_question(self, data_df):\n",
    "        for _, row in data_df.iterrows():\n",
    "            new_row = {}\n",
    "            random_number = random.choice(range(0, len(data_df)))\n",
    "            new_row['질문_1'] = row['질문_1'] + ' ' + data_df['질문_1'][random_number]\n",
    "            new_row['질문_2'] = row['질문_2'] + ' ' + data_df['질문_2'][random_number]\n",
    "            new_row['답변_1'] = row['답변_1'] + ' ' + data_df['답변_1'][random_number]\n",
    "            new_row['답변_2'] = row['답변_2'] + ' ' + data_df['답변_2'][random_number]\n",
    "            new_row['답변_3'] = row['답변_3'] + ' ' + data_df['답변_3'][random_number]\n",
    "            new_row['답변_4'] = row['답변_4'] + ' ' + data_df['답변_4'][random_number]\n",
    "            new_row['답변_5'] = row['답변_5'] + ' ' + data_df['답변_5'][random_number]\n",
    "            df = pd.DataFrame(new_row,  index = [0])\n",
    "            data_df = pd.concat([data_df, df], ignore_index=True)\n",
    "        self.data_df = data_df.copy(deep=True)\n",
    "        \n",
    "    def _generate_data(self):\n",
    "        for _, row in self.data_df.iterrows():\n",
    "            for q_col in ['질문_1', '질문_2']:\n",
    "                for a_col in ['답변_1', '답변_2', '답변_3', '답변_4', '답변_5']:\n",
    "                    # 질문과 답변 쌍을 </s> token으로 연결\n",
    "                    input_text = row[q_col] + tokenizer.eos_token + row[a_col] + tokenizer.eos_token\n",
    "                    input_ids = tokenizer.encode(input_text, return_tensors='pt')\n",
    "                    self.sentence_list.append(input_ids)\n",
    "                    \n"
   ]
  },
  {
   "cell_type": "code",
   "execution_count": null,
   "id": "0bc054be-fdd4-458b-847d-e48c230e4ed4",
   "metadata": {},
   "outputs": [
    {
     "name": "stderr",
     "output_type": "stream",
     "text": [
      "/usr/local/lib/python3.8/dist-packages/transformers/optimization.py:429: FutureWarning: This implementation of AdamW is deprecated and will be removed in a future version. Use the PyTorch implementation torch.optim.AdamW instead, or set `no_deprecation_warning=True` to disable this warning\n",
      "  warnings.warn(\n",
      "Epoch 1 - Avg Loss: 0.0757: 100%|██████| 12880/12880 [1:07:53<00:00,  3.16it/s]\n",
      "/usr/local/lib/python3.8/dist-packages/peft/utils/save_and_load.py:154: UserWarning: Could not find a config file in ./kakao_aug_2_epoch/ - will assume that the vocabulary was not modified.\n",
      "  warnings.warn(\n"
     ]
    },
    {
     "name": "stdout",
     "output_type": "stream",
     "text": [
      "Epoch 1/50, Average Loss: 0.07565374240237259\n"
     ]
    },
    {
     "name": "stderr",
     "output_type": "stream",
     "text": [
      "Epoch 2 - Avg Loss: 0.0770:  16%|█▍       | 2040/12880 [10:31<41:26,  4.36it/s]"
     ]
    }
   ],
   "source": [
    "\n",
    "model.to(device) # 모델을 GPU단으로 이동\n",
    "\n",
    "# 모델 학습 설정\n",
    "optimizer = AdamW(model.parameters(), lr=CFG['LR'])\n",
    "scheduler = CosineAnnealingLR(optimizer, T_max=100, eta_min=0.001)\n",
    "\n",
    "model.train()\n",
    "\n",
    "# 모델 학습\n",
    "for epoch in range(CFG['EPOCHS']):\n",
    "    total_loss = 0\n",
    "    dataset = HansolDataset(data_df = data_df, tokenizer=tokenizer)\n",
    "    dataloader = DataLoader(dataset, batch_size=CFG['BATCH_SIZE'], shuffle=True) # 미니 배치 형태로 데이터 갖추기\n",
    "    progress_bar = tqdm(enumerate(dataloader), total=len(dataloader))\n",
    "    for batch_idx, batch in progress_bar:\n",
    "        # 데이터를 GPU단으로 이동\n",
    "        batch = batch[0]\n",
    "        # batch.unsqueeze(0)\n",
    "        batch = batch.to(device)\n",
    "        outputs = model(batch, labels=batch)\n",
    "        loss = outputs.loss\n",
    "        loss.backward()\n",
    "        optimizer.step()\n",
    "        optimizer.zero_grad()\n",
    "\n",
    "        total_loss += loss.item()\n",
    "\n",
    "        # 진행률 표시줄에 평균 손실 업데이트\n",
    "        progress_bar.set_description(f\"Epoch {epoch+1} - Avg Loss: {total_loss / (batch_idx+1):.4f}\")\n",
    "    scheduler.step()\n",
    "    # 에폭의 평균 손실을 출력\n",
    "    print(f\"Epoch {epoch+1}/{CFG['EPOCHS']}, Average Loss: {total_loss / len(dataloader)}\")\n",
    "    model.save_pretrained(f\"./kko_lora_5_{epoch}_epoch\")\n",
    "    tokenizer.save_pretrained(f\"./kko_lora_5_{epoch}_epoch\")"
   ]
  },
  {
   "cell_type": "code",
   "execution_count": null,
   "id": "8c36fb0a-420d-485b-866b-2d6586100987",
   "metadata": {},
   "outputs": [],
   "source": []
  }
 ],
 "metadata": {
  "kernelspec": {
   "display_name": "Python 3 (ipykernel)",
   "language": "python",
   "name": "python3"
  },
  "language_info": {
   "codemirror_mode": {
    "name": "ipython",
    "version": 3
   },
   "file_extension": ".py",
   "mimetype": "text/x-python",
   "name": "python",
   "nbconvert_exporter": "python",
   "pygments_lexer": "ipython3",
   "version": "3.8.10"
  }
 },
 "nbformat": 4,
 "nbformat_minor": 5
}
