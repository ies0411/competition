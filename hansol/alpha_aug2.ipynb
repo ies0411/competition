{
 "cells": [
  {
   "cell_type": "code",
   "execution_count": 1,
   "id": "40b23663-6d1f-4ab4-afab-db77038cb2e9",
   "metadata": {},
   "outputs": [],
   "source": [
    "# !pip install git+https://github.com/haven-jeon/PyKoSpacing.git\n",
    "# !pip install git+https://github.com/ssut/py-hanspell.git\n"
   ]
  },
  {
   "cell_type": "code",
   "execution_count": 2,
   "id": "35d516bb-b5e0-43b4-9cfb-0091798caf0a",
   "metadata": {
    "scrolled": true
   },
   "outputs": [],
   "source": [
    "# !pip install transformers\n",
    "# !pip install accelerate\n",
    "\n",
    "import os\n",
    "os.environ[\"CUDA_VISIBLE_DEVICES\"]=\"1\""
   ]
  },
  {
   "cell_type": "code",
   "execution_count": 3,
   "id": "0199ae5e-4f53-4b06-813a-a5ca68e61b6e",
   "metadata": {},
   "outputs": [
    {
     "name": "stdout",
     "output_type": "stream",
     "text": [
      "Using device: cuda\n"
     ]
    }
   ],
   "source": [
    "import pandas as pd\n",
    "import numpy as np\n",
    "import torch\n",
    "import random\n",
    "\n",
    "from transformers import GPT2LMHeadModel, PreTrainedTokenizerFast, AdamW, AutoTokenizer\n",
    "from tqdm import tqdm\n",
    "from torch.utils.data import DataLoader, Dataset # 데이터를 모델에 사용할 수 있도록 정리해 주는 라이브러리\n",
    "\n",
    "# CUDA 사용 가능 여부 확인\n",
    "device = torch.device(\"cuda\" if torch.cuda.is_available() else \"cpu\")\n",
    "print(f\"Using device: {device}\")"
   ]
  },
  {
   "cell_type": "code",
   "execution_count": 4,
   "id": "478167df-5cc7-45f0-88f5-466112964dd3",
   "metadata": {},
   "outputs": [],
   "source": [
    "CFG = {\n",
    "    'LR' : 5e-6, # Learning Rate\n",
    "    'EPOCHS' : 15, # 학습 Epoch\n",
    "    'BATCH_SIZE' : 1,\n",
    "    # 'AUG_RATIO' : 0.15,\n",
    "    'AUG_PROB' : 0.5,\n",
    "}"
   ]
  },
  {
   "cell_type": "code",
   "execution_count": 5,
   "id": "82c5270e-167f-4baf-9b5f-07349f83c9d8",
   "metadata": {},
   "outputs": [],
   "source": [
    "data_df = pd.read_csv('./data/train.csv')\n",
    "data_df = data_df.drop(['id','category'], axis=1)\n"
   ]
  },
  {
   "cell_type": "code",
   "execution_count": 6,
   "id": "bfc52484-7bc9-4170-adef-a6c56225cb47",
   "metadata": {},
   "outputs": [
    {
     "name": "stderr",
     "output_type": "stream",
     "text": [
      "Special tokens have been added in the vocabulary, make sure the associated word embeddings are fine-tuned or trained.\n"
     ]
    },
    {
     "data": {
      "application/vnd.jupyter.widget-view+json": {
       "model_id": "80508231068b446ab4c6d8af89d08a6d",
       "version_major": 2,
       "version_minor": 0
      },
      "text/plain": [
       "Loading checkpoint shards:   0%|          | 0/5 [00:00<?, ?it/s]"
      ]
     },
     "metadata": {},
     "output_type": "display_data"
    }
   ],
   "source": [
    "from transformers import AutoTokenizer, AutoModelForCausalLM\n",
    "\n",
    "tokenizer = AutoTokenizer.from_pretrained(\"./alpha_4_29_epoch/\", eos_token='</s>', max_length=4000, truncation=True)\n",
    "model = AutoModelForCausalLM.from_pretrained(\"./alpha_4_29_epoch/\")"
   ]
  },
  {
   "cell_type": "code",
   "execution_count": 7,
   "id": "14b609c8-7c43-4f9b-b697-1bc6efad472c",
   "metadata": {},
   "outputs": [],
   "source": [
    "import random\n",
    "\n",
    "\n",
    "class HansolDataset(Dataset):\n",
    "    def __init__(self, data_df, tokenizer):\n",
    "        self.tokenizer = tokenizer\n",
    "        self.data_df = None\n",
    "        self.sentence_list = []\n",
    "        self._augment_question(data_df)\n",
    "        self._generate_data()\n",
    "        \n",
    "    def __getitem__(self, index):\n",
    "        return self.sentence_list[index]\n",
    "    \n",
    "    def __len__(self):\n",
    "        return len(self.sentence_list)\n",
    "\n",
    "    def _augment_question(self, data_df):\n",
    "        for _, row in data_df.iterrows():\n",
    "            new_row = {}\n",
    "            random_number = random.choice(range(0, len(data_df)))\n",
    "            new_row['질문_1'] = row['질문_1'] + ' ' + data_df['질문_1'][random_number]\n",
    "            new_row['질문_2'] = row['질문_2'] + ' ' + data_df['질문_2'][random_number]\n",
    "            new_row['답변_1'] = row['답변_1'] + ' ' + data_df['답변_1'][random_number]\n",
    "            new_row['답변_2'] = row['답변_2'] + ' ' + data_df['답변_2'][random_number]\n",
    "            new_row['답변_3'] = row['답변_3'] + ' ' + data_df['답변_3'][random_number]\n",
    "            new_row['답변_4'] = row['답변_4'] + ' ' + data_df['답변_4'][random_number]\n",
    "            new_row['답변_5'] = row['답변_5'] + ' ' + data_df['답변_5'][random_number]\n",
    "            df = pd.DataFrame(new_row,  index = [0])\n",
    "            data_df = pd.concat([data_df, df], ignore_index=True)\n",
    "        self.data_df = data_df.copy(deep=True)\n",
    "        \n",
    "    def _generate_data(self):\n",
    "        for _, row in self.data_df.iterrows():\n",
    "            for q_col in ['질문_1', '질문_2']:\n",
    "                for a_col in ['답변_1', '답변_2', '답변_3', '답변_4', '답변_5']:\n",
    "                    # 질문과 답변 쌍을 </s> token으로 연결\n",
    "                    input_text = row[q_col] + tokenizer.eos_token + row[a_col] + tokenizer.eos_token\n",
    "                    input_ids = tokenizer.encode(input_text, return_tensors='pt')\n",
    "                    self.sentence_list.append(input_ids)\n",
    "                    \n"
   ]
  },
  {
   "cell_type": "code",
   "execution_count": 8,
   "id": "c9c0b384-2b7a-4d96-baa3-a3b5421758c5",
   "metadata": {},
   "outputs": [],
   "source": [
    "for name, module in model.named_children():\n",
    "    if name == \"gpt_neox\":\n",
    "        for name, sub_module in module.named_children():\n",
    "            # print(name)\n",
    "            if name == \"embed_in\":\n",
    "                for param in sub_module.parameters():\n",
    "                    param.requires_grad = False\n",
    "            elif name == \"emb_dropout\":\n",
    "                for param in sub_module.parameters():\n",
    "                    param.requires_grad = False\n",
    "            elif name == \"layers\":\n",
    "                # print(name)\n",
    "                 for name, layer_module in sub_module.named_children():\n",
    "                     if int(name) < 26:\n",
    "                        for param in layer_module.parameters():\n",
    "                            param.requires_grad = False\n",
    "            "
   ]
  },
  {
   "cell_type": "code",
   "execution_count": null,
   "id": "72cd1c3f-f27c-43a0-bd9e-c216ff8a51c5",
   "metadata": {},
   "outputs": [
    {
     "name": "stderr",
     "output_type": "stream",
     "text": [
      "/usr/local/lib/python3.8/dist-packages/transformers/optimization.py:429: FutureWarning: This implementation of AdamW is deprecated and will be removed in a future version. Use the PyTorch implementation torch.optim.AdamW instead, or set `no_deprecation_warning=True` to disable this warning\n",
      "  warnings.warn(\n",
      "Epoch 1 - Avg Loss: 0.2368:   4%|█████▋                                                                                                                                     | 527/12880 [01:58<41:22,  4.98it/s]"
     ]
    }
   ],
   "source": [
    "\n",
    "model.to(device) # 모델을 GPU단으로 이동\n",
    "\n",
    "# 모델 학습 설정\n",
    "optimizer = AdamW(model.parameters(), lr=CFG['LR'])\n",
    "model.train()\n",
    "\n",
    "# 모델 학습\n",
    "for epoch in range(CFG['EPOCHS']):\n",
    "    total_loss = 0\n",
    "    dataset = HansolDataset(data_df = data_df, tokenizer=tokenizer)\n",
    "    dataloader = DataLoader(dataset, batch_size=CFG['BATCH_SIZE'], shuffle=True) # 미니 배치 형태로 데이터 갖추기\n",
    "    progress_bar = tqdm(enumerate(dataloader), total=len(dataloader))\n",
    "    for batch_idx, batch in progress_bar:\n",
    "        # 데이터를 GPU단으로 이동\n",
    "        # batch.unsqueeze(0)\n",
    "        batch = batch[0]\n",
    "        batch = batch.to(device)\n",
    "        outputs = model(batch, labels=batch)\n",
    "        loss = outputs.loss\n",
    "        loss.backward()\n",
    "        optimizer.step()\n",
    "        optimizer.zero_grad()\n",
    "\n",
    "        total_loss += loss.item()\n",
    "\n",
    "        # 진행률 표시줄에 평균 손실 업데이트\n",
    "        progress_bar.set_description(f\"Epoch {epoch+1} - Avg Loss: {total_loss / (batch_idx+1):.4f}\")\n",
    "\n",
    "    # 에폭의 평균 손실을 출력\n",
    "    print(f\"Epoch {epoch+1}/{CFG['EPOCHS']}, Average Loss: {total_loss / len(dataloader)}\")\n",
    "    model.save_pretrained(f\"./alpha_aug2_{epoch}_epoch\")\n",
    "    tokenizer.save_pretrained(f\"./alpha_aug2_{epoch}_epoch\")"
   ]
  },
  {
   "cell_type": "code",
   "execution_count": null,
   "id": "e1370575-3554-4b60-88a3-1555a01c401b",
   "metadata": {},
   "outputs": [],
   "source": []
  },
  {
   "cell_type": "code",
   "execution_count": null,
   "id": "bdda8b13-3206-430c-8d08-eaa2e52c210b",
   "metadata": {},
   "outputs": [],
   "source": [
    "ㅣ"
   ]
  },
  {
   "cell_type": "code",
   "execution_count": null,
   "id": "a69c2c6e-8f27-4d97-89f8-6bee72424a1c",
   "metadata": {},
   "outputs": [],
   "source": []
  }
 ],
 "metadata": {
  "kernelspec": {
   "display_name": "Python 3 (ipykernel)",
   "language": "python",
   "name": "python3"
  },
  "language_info": {
   "codemirror_mode": {
    "name": "ipython",
    "version": 3
   },
   "file_extension": ".py",
   "mimetype": "text/x-python",
   "name": "python",
   "nbconvert_exporter": "python",
   "pygments_lexer": "ipython3",
   "version": "3.8.10"
  }
 },
 "nbformat": 4,
 "nbformat_minor": 5
}
