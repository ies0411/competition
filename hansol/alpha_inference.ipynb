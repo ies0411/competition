{
 "cells": [
  {
   "cell_type": "code",
   "execution_count": 1,
   "id": "35d516bb-b5e0-43b4-9cfb-0091798caf0a",
   "metadata": {
    "scrolled": true
   },
   "outputs": [],
   "source": [
    "# !pip install transformers\n",
    "# !pip install git+https://github.com/yuchenlin/LLM-Blender.git\n",
    "# !pip install \"pydantic<2\"\n",
    "import os\n",
    "os.environ[\"CUDA_VISIBLE_DEVICES\"]=\"1\"\n",
    "# !pip install pip install accelerate"
   ]
  },
  {
   "cell_type": "code",
   "execution_count": 2,
   "id": "52f6df33-af56-41b5-a023-98330676e48e",
   "metadata": {},
   "outputs": [],
   "source": [
    "# !pip install pip install accelerate"
   ]
  },
  {
   "cell_type": "code",
   "execution_count": 3,
   "id": "0199ae5e-4f53-4b06-813a-a5ca68e61b6e",
   "metadata": {},
   "outputs": [
    {
     "name": "stdout",
     "output_type": "stream",
     "text": [
      "Using device: cuda\n"
     ]
    }
   ],
   "source": [
    "import pandas as pd\n",
    "import numpy as np\n",
    "import torch\n",
    "from transformers import AutoTokenizer, AutoModelForCausalLM \n",
    "from transformers import GPT2LMHeadModel, PreTrainedTokenizerFast, AdamW, AutoTokenizer\n",
    "from tqdm import tqdm\n",
    "# CUDA 사용 가능 여부 확인\n",
    "device = torch.device(\"cuda\" if torch.cuda.is_available() else \"cpu\")\n",
    "print(f\"Using device: {device}\")"
   ]
  },
  {
   "cell_type": "code",
   "execution_count": 4,
   "id": "cf9e2fc2-b52d-4551-a782-7b386d25f5ca",
   "metadata": {
    "scrolled": true
   },
   "outputs": [
    {
     "name": "stderr",
     "output_type": "stream",
     "text": [
      "Special tokens have been added in the vocabulary, make sure the associated word embeddings are fine-tuned or trained.\n"
     ]
    },
    {
     "data": {
      "application/vnd.jupyter.widget-view+json": {
       "model_id": "92a658ec2d554c7fa55f5143f023dbe2",
       "version_major": 2,
       "version_minor": 0
      },
      "text/plain": [
       "Loading checkpoint shards:   0%|          | 0/5 [00:00<?, ?it/s]"
      ]
     },
     "metadata": {},
     "output_type": "display_data"
    }
   ],
   "source": [
    "\n",
    "from transformers import AutoTokenizer, AutoModelForCausalLM\n",
    "\n",
    "tokenizer = AutoTokenizer.from_pretrained(\"./alpha_4_29_epoch/\", eos_token='</s>')\n",
    "model = AutoModelForCausalLM.from_pretrained(\"./alpha_4_29_epoch/\")\n",
    "# eos_token='</s>'"
   ]
  },
  {
   "cell_type": "code",
   "execution_count": 5,
   "id": "67c3dbf7-c1cf-44d6-bd59-8bafadbf7596",
   "metadata": {},
   "outputs": [],
   "source": [
    "test_df = pd.read_csv(\"./data/test.csv\")\n",
    "# test_df\n",
    "# test_df[\"질문\"].iloc[107]"
   ]
  },
  {
   "cell_type": "code",
   "execution_count": 6,
   "id": "166357bc-d5b0-4f94-b803-d08a69ba24c8",
   "metadata": {},
   "outputs": [
    {
     "data": {
      "text/plain": [
       "{0: '또한, 원목사이딩을 사용하는 것에 어떤 단점이 있을까요?',\n",
       " 11: '또한, 부실 시공으로 인해 타공하자가 발생할 가능성이 있나요?',\n",
       " 16: '그리고 유성페인트를 사용하는 것에 대한 부작용이 있을까요?',\n",
       " 17: '그리고 반점이 생긴지 1년 이내인 하자에 대해 어떤 보수작업을 해야 하나요?',\n",
       " 20: '또한, 피스 하자가 무엇인지 자세히 설명해 주실 수 있나요?',\n",
       " 22: '또한, 겨울에 도배를 할 때 특별히 신경써야 할 사항이 있을까요?',\n",
       " 23: '또한, 페인트가 남으면 어디에 보관하는 게 좋을까요?',\n",
       " 24: '또한, 유광 자기질 타일은 얼마나 오랫동안 사용할 수 있을까요?',\n",
       " 25: '그리고 스탠드조명을 선택할 때 주의할 점이 있을까요?',\n",
       " 26: '그리고 불량 도배지를 사용할 경우 도배지가 얼마나 오랫동안 버틸까요?',\n",
       " 27: '그리고 실크벽지의 교체 주기는 얼마나인가요?',\n",
       " 28: '그리고 철골구조의 장점은 무엇인가요?',\n",
       " 29: '그리고 조적식 구조란 무엇인가요?',\n",
       " 33: '또한, 액체방수공사는 무엇을 하는 것인가요?',\n",
       " 35: '그리고 장판이 남을 때 어떻게 처리해야 하나요?',\n",
       " 38: '또한, 콘크리트 벽에 구멍을 뚫는 방법에는 어떤 도구나 기술을 사용해야 하나요?',\n",
       " 39: '그리고 인테리어에 가장 많이 사용되는 도배재료는 무엇인가요?',\n",
       " 42: '그리고 복도나 협소한 공간을 확장시키기 위해 가장 효과적인 방법이 무엇일까요?',\n",
       " 48: '또한, 배관공사 시 통기구를 설치해야 하는 이유가 무엇인가요?',\n",
       " 49: '또한, 규산질계 침투성 도포 방수공사는 어떤 방식으로 이루어지나요?',\n",
       " 50: '또한, 내부와 외부 온도의 큰 차이로 인해 곰팡이 발생이 빨라지나요?',\n",
       " 54: '그리고 기둥-보 구조 방식은 무엇을 의미하나요?',\n",
       " 56: '그리고 새집증후군을 예방하는 데 가장 효과적인 방법은 무엇인가요?',\n",
       " 59: '또한, 옥상 방수용 탄성 에멀전 페인트를 사용하는 장점은 무엇인가요?',\n",
       " 63: '그리고 MSDS(Material Safety Data Sheet)는 무엇을 포함하고 있나요?',\n",
       " 66: '또한, 건조시간이 충분하지 않으면 도배지가 꼬일 수 있는 이유가 무엇인가요?',\n",
       " 70: '그리고 이를 해결하기 위해 어떤 방법을 사용할 수 있나요?',\n",
       " 74: '또한, 공간을 넓게 보이도록 인테리어를 꾸미는 방법은 뭐가 있을까요?',\n",
       " 76: '그리고 아파트 도배 평수를 어떻게 계산해야 하나요?',\n",
       " 77: '또한, 구조적 결함 때문에 석고수정이 발생할 가능성이 있는가요?',\n",
       " 81: '그리고 부적절한 설치로 인해 제품의 품질에 영향을 미칠 수 있을까요?',\n",
       " 83: '그리고 마감재의 하자를 판단하는 데 어떤 방법을 사용해야 할까요?',\n",
       " 87: '그리고 중목구조 방식에 대해 좀 더 자세히 설명해 주실 수 있을까요?',\n",
       " 91: '그리고 벽돌구조란 무엇인가요?',\n",
       " 92: '그리고 기둥-보 구조 방식은 무엇을 의미하나요?',\n",
       " 95: '그리고 인테리어에서 바닥재를 선택할 때 고려해야 할 중요한 요소는 무엇인가요?',\n",
       " 105: '또한, 도료와 벽지 중에서 어떤 것을 선택하는 것이 더 나은 선택일까요?',\n",
       " 106: '또한, 징크판넬의 단점에는 어떤 것들이 있을까요?',\n",
       " 109: '그리고 높은 습도로 인해 도배지 패턴이 이어지지 않을 수 있는 이유가 무엇일까요?',\n",
       " 112: '그리고 라돈을 측정하는 데 가장 적합한 지점은 어디인가요?',\n",
       " 113: '그리고 분말 소화기는 어떤 용도로 사용되는 건가요?',\n",
       " 114: '그리고 면진구조는 어떤 건물 구조나 시스템을 의미하나요?',\n",
       " 120: '또한, 벽에 구멍을 막는 가장 효과적인 방법은 무엇인가요?',\n",
       " 124: '그리고 내진구조란 무엇인가요?',\n",
       " 125: '그리고 아파트 도배 평수를 어떻게 계산해야 하나요?',\n",
       " 129: '그리고 오리지널징크의 장점에는 무엇이 있나요?'}"
      ]
     },
     "execution_count": 6,
     "metadata": {},
     "output_type": "execute_result"
    }
   ],
   "source": [
    "\n",
    "appedix_dict_1 = {}\n",
    "for idx, row in test_df.iterrows():\n",
    "    for q_col in ['질문','id']:\n",
    "        if q_col == '질문':\n",
    "            if row[q_col].count('?') >=2:\n",
    "                appendix = row[q_col].split('?')[1] + \"?\"\n",
    "                appendix = appendix.strip()\n",
    "                row[q_col] = row[q_col].split('?')[0] + \"?\"\n",
    "                row[q_col] = row[q_col].strip()\n",
    "                appedix_dict_1[idx] = appendix\n",
    "            else:\n",
    "                row[q_col] = row[q_col].strip()\n",
    "appedix_dict_1   "
   ]
  },
  {
   "cell_type": "code",
   "execution_count": 7,
   "id": "192018a8-bfdf-4236-9856-654c7a643781",
   "metadata": {},
   "outputs": [
    {
     "data": {
      "text/plain": [
       "{6: '합지벽지의 어떤 단점이 있나요?',\n",
       " 15: '페인트 상도재의 역할과 사용 방법에 대해 알려주세요.',\n",
       " 47: '습도가 높을 때 곰팡이가 어떻게 발생하는지 자세히 알고 싶습니다.',\n",
       " 55: '도배지가 남으면 어떻게 처리해야 하나요?',\n",
       " 64: '소화기 종류에는 어떤 것들이 있는지 알려주세요.',\n",
       " 86: '토목이 무엇인지 설명해줘.',\n",
       " 93: '셀룰로오스의 단점에 대해 설명해주세요.',\n",
       " 94: '반려동물을 위한 바닥재에는 어떤 종류가 있는지 알려주세요.',\n",
       " 98: '밀풀 사용 시 주의할 점은 무엇인가요?',\n",
       " 99: '통나무구조 방식은 어떤 건물에 사용되는 건축 구조 방식인가요?',\n",
       " 108: '펫테리어가 무엇인지 자세히 알려주세요.',\n",
       " 119: '철근콘크리트 구조에 대해 좀 더 자세히 알려주세요.'}"
      ]
     },
     "execution_count": 7,
     "metadata": {},
     "output_type": "execute_result"
    }
   ],
   "source": [
    "\n",
    "appedix_dict_2 = {}\n",
    "for idx, row in test_df.iterrows():\n",
    "    for q_col in ['질문','id']:\n",
    "        if q_col == '질문':\n",
    "            if row[q_col].count('그리고') > 0 and row[q_col].count('이를') == 0:\n",
    "                appendix = row[q_col].split('그리고')[1]\n",
    "                appendix = appendix.strip()\n",
    "                row[q_col] = row[q_col].split('그리고')[0]\n",
    "                row[q_col] = row[q_col].strip()\n",
    "                appedix_dict_2[idx] = appendix\n",
    "            else:\n",
    "                row[q_col] = row[q_col].strip()\n",
    "appedix_dict_2     "
   ]
  },
  {
   "cell_type": "code",
   "execution_count": 8,
   "id": "298eff93-aeae-4f88-85ce-8bffac9ff17e",
   "metadata": {},
   "outputs": [
    {
     "data": {
      "text/plain": [
       "{2: ', 압출법 단열판을 사용하는 것의 장점은 무엇인가요?또한',\n",
       " 32: ', 세라믹 타일을 사용할 때 고려해야 할 단점은 무엇인가요?또한',\n",
       " 45: ', 낡은 목재 가구의 흠집을 숨기는 방법을 알려주세요.또한',\n",
       " 52: ', 속건형 유성 발수제의 사용 목적과 효과에 대해 알려주세요.또한',\n",
       " 72: ', 강화마루의 장점은 무엇입니까?또한',\n",
       " 89: ', 아이소핑크의 장점은 무엇인가요?또한'}"
      ]
     },
     "execution_count": 8,
     "metadata": {},
     "output_type": "execute_result"
    }
   ],
   "source": [
    "appedix_dict_3 = {}\n",
    "for idx, row in test_df.iterrows():\n",
    "    for q_col in ['질문','id']:\n",
    "        if q_col == '질문':\n",
    "            if row[q_col].count('또한') > 0:\n",
    "                appendix = row[q_col].split('또한')[1] + \"또한\"\n",
    "                appendix = appendix.strip()\n",
    "                row[q_col] = row[q_col].split('또한')[0] + \"또한\"\n",
    "                row[q_col] = row[q_col].strip()\n",
    "                appedix_dict_3[idx] = appendix\n",
    "            else:\n",
    "                row[q_col] = row[q_col].strip()\n",
    "\n",
    "appedix_dict_3"
   ]
  },
  {
   "cell_type": "code",
   "execution_count": 9,
   "id": "0822e01e-87d1-4f44-af57-ab845d559c3e",
   "metadata": {},
   "outputs": [
    {
     "data": {
      "text/plain": [
       "GPTNeoXForCausalLM(\n",
       "  (gpt_neox): GPTNeoXModel(\n",
       "    (embed_in): Embedding(30080, 4096)\n",
       "    (emb_dropout): Dropout(p=0.0, inplace=False)\n",
       "    (layers): ModuleList(\n",
       "      (0-27): 28 x GPTNeoXLayer(\n",
       "        (input_layernorm): LayerNorm((4096,), eps=1e-05, elementwise_affine=True)\n",
       "        (post_attention_layernorm): LayerNorm((4096,), eps=1e-05, elementwise_affine=True)\n",
       "        (post_attention_dropout): Dropout(p=0.0, inplace=False)\n",
       "        (post_mlp_dropout): Dropout(p=0.0, inplace=False)\n",
       "        (attention): GPTNeoXAttention(\n",
       "          (rotary_emb): GPTNeoXRotaryEmbedding()\n",
       "          (query_key_value): Linear(in_features=4096, out_features=12288, bias=True)\n",
       "          (dense): Linear(in_features=4096, out_features=4096, bias=True)\n",
       "          (attention_dropout): Dropout(p=0.0, inplace=False)\n",
       "        )\n",
       "        (mlp): GPTNeoXMLP(\n",
       "          (dense_h_to_4h): Linear(in_features=4096, out_features=16384, bias=True)\n",
       "          (dense_4h_to_h): Linear(in_features=16384, out_features=4096, bias=True)\n",
       "          (act): GELUActivation()\n",
       "        )\n",
       "      )\n",
       "    )\n",
       "    (final_layer_norm): LayerNorm((4096,), eps=1e-05, elementwise_affine=True)\n",
       "  )\n",
       "  (embed_out): Linear(in_features=4096, out_features=30080, bias=False)\n",
       ")"
      ]
     },
     "execution_count": 9,
     "metadata": {},
     "output_type": "execute_result"
    }
   ],
   "source": [
    "model.to(device)\n",
    "model.eval()"
   ]
  },
  {
   "cell_type": "code",
   "execution_count": 10,
   "id": "11ad5b43-c236-4b87-88e5-a4e14b800d6e",
   "metadata": {},
   "outputs": [
    {
     "name": "stderr",
     "output_type": "stream",
     "text": [
      "  0%|                                                                                                                                                                                   | 0/130 [00:00<?, ?it/s]The attention mask and the pad token id were not set. As a consequence, you may observe unexpected behavior. Please pass your input's `attention_mask` to obtain reliable results.\n",
      "Setting `pad_token_id` to `eos_token_id`:30003 for open-end generation.\n",
      "A decoder-only architecture is being used, but right-padding was detected! For correct generation results, please set `padding_side='left'` when initializing the tokenizer.\n"
     ]
    },
    {
     "name": "stdout",
     "output_type": "stream",
     "text": [
      "방청 페인트는 다양한 종류로 분류됩니다. 그 종류에는 광명단 페인트, 방청산화철 페인트, 알루미늄 페인트, 역청질 페인트, 워시 프라이머, 크롬산아연 페인트, 규산염 페인트 등이 있습니다. 이러한 다양한 종류의 방청 페인트가 각자의 특성과 용도에 맞게 선택되어 사용됩니다.\n"
     ]
    },
    {
     "name": "stderr",
     "output_type": "stream",
     "text": [
      "  1%|█▎                                                                                                                                                                         | 1/130 [00:10<23:21, 10.86s/it]The attention mask and the pad token id were not set. As a consequence, you may observe unexpected behavior. Please pass your input's `attention_mask` to obtain reliable results.\n",
      "Setting `pad_token_id` to `eos_token_id`:30003 for open-end generation.\n",
      "A decoder-only architecture is being used, but right-padding was detected! For correct generation results, please set `padding_side='left'` when initializing the tokenizer.\n"
     ]
    },
    {
     "name": "stdout",
     "output_type": "stream",
     "text": [
      "도배지에 녹이 묻어나올 수 있는 원인은 대기 중의 습도가 높고, 표면 온도가 낮은 조건에서 발생합니다. 이러한 조건은 도배지가 젖은 상태이거나, 습기가 충분히 흡수되지 않은 경우에 발생할 수 있습니다. 따라서 도배를 하기 전에는 충분한 건조 시간을 확보하고, 실내의 습도를 적정 수준으로 유지하는 것이 중요합니다. 또한, 충분한 두께의 단열재를 사용하고, 밀착시공하여 단열재와 단열재 사이의 이음부를 통한 열교를 방지하여 온도차를 줄이는 것이 좋습니다.\n"
     ]
    },
    {
     "name": "stderr",
     "output_type": "stream",
     "text": [
      "  2%|██▋                                                                                                                                                                        | 2/130 [00:26<29:27, 13.81s/it]The attention mask and the pad token id were not set. As a consequence, you may observe unexpected behavior. Please pass your input's `attention_mask` to obtain reliable results.\n",
      "Setting `pad_token_id` to `eos_token_id`:30003 for open-end generation.\n",
      "A decoder-only architecture is being used, but right-padding was detected! For correct generation results, please set `padding_side='left'` when initializing the tokenizer.\n"
     ]
    },
    {
     "name": "stdout",
     "output_type": "stream",
     "text": [
      "큐블럭은 일반 벽돌에 비해 가격이 비싸고 균열이 생기기 쉬우며 습기로 인해 하자가 발생할 수 있다는 점이 단점입니다.\n"
     ]
    },
    {
     "name": "stderr",
     "output_type": "stream",
     "text": [
      "  2%|███▉                                                                                                                                                                       | 3/130 [00:30<19:03,  9.00s/it]The attention mask and the pad token id were not set. As a consequence, you may observe unexpected behavior. Please pass your input's `attention_mask` to obtain reliable results.\n",
      "Setting `pad_token_id` to `eos_token_id`:30003 for open-end generation.\n",
      "A decoder-only architecture is being used, but right-padding was detected! For correct generation results, please set `padding_side='left'` when initializing the tokenizer.\n"
     ]
    },
    {
     "name": "stdout",
     "output_type": "stream",
     "text": [
      "철골구조는 일반적으로 주택, 창고, 농자재 등에 사용되며, 단열성능이 뛰어나고 운반, 보관 및 취급이 용이하다는 장점이 있습니다. 이러한 이유로 철골구조는 건축 및 인테리어 분야에서 널리 사용되고 있습니다.\n"
     ]
    },
    {
     "name": "stderr",
     "output_type": "stream",
     "text": [
      "  3%|█████▎                                                                                                                                                                     | 4/130 [00:37<17:36,  8.38s/it]The attention mask and the pad token id were not set. As a consequence, you may observe unexpected behavior. Please pass your input's `attention_mask` to obtain reliable results.\n",
      "Setting `pad_token_id` to `eos_token_id`:30003 for open-end generation.\n",
      "A decoder-only architecture is being used, but right-padding was detected! For correct generation results, please set `padding_side='left'` when initializing the tokenizer.\n"
     ]
    },
    {
     "name": "stdout",
     "output_type": "stream",
     "text": [
      "도배지의 건조 시간은 일반적으로 2~3일 정도입니다. 하지만 환경적인 요인에 따라 건조 시간이 달라질 수 있으므로 습도와 온도를 고려하여 적정한 시간을 고려해야 합니다. 또한, 제조사의 권장 건조시간을 따르는 것이 중요하며, 도배작업이 완전히 마무리되기 전에는 벽면에 부담을 주지 말고 조심해야 합니다.\n"
     ]
    },
    {
     "name": "stderr",
     "output_type": "stream",
     "text": [
      "  4%|██████▌                                                                                                                                                                    | 5/130 [00:44<16:13,  7.78s/it]The attention mask and the pad token id were not set. As a consequence, you may observe unexpected behavior. Please pass your input's `attention_mask` to obtain reliable results.\n",
      "Setting `pad_token_id` to `eos_token_id`:30003 for open-end generation.\n",
      "A decoder-only architecture is being used, but right-padding was detected! For correct generation results, please set `padding_side='left'` when initializing the tokenizer.\n"
     ]
    },
    {
     "name": "stdout",
     "output_type": "stream",
     "text": [
      "철근철골구조는 콘크리트의 압축강도와 철근의 인장강도를 결합하여 구성된 구조로, 일반적으로 도심에서 가장 많이 사용하는 구조 중 하나입니다. 이러한 구조는 내구성, 내화 및 내진 성능이 우수하며, 철근의 사용으로 콘크리트의 인장응력 약점을 보완할 수 있습니다. 다만, 고층 건물에서는 구조물의 하중을 지탱하기 위해 아래층의 보나 기둥의 단면이 커져야 하는 문제가 있습니다.\n"
     ]
    },
    {
     "name": "stderr",
     "output_type": "stream",
     "text": [
      "  5%|███████▉                                                                                                                                                                   | 6/130 [00:51<15:54,  7.70s/it]The attention mask and the pad token id were not set. As a consequence, you may observe unexpected behavior. Please pass your input's `attention_mask` to obtain reliable results.\n",
      "Setting `pad_token_id` to `eos_token_id`:30003 for open-end generation.\n",
      "A decoder-only architecture is being used, but right-padding was detected! For correct generation results, please set `padding_side='left'` when initializing the tokenizer.\n"
     ]
    },
    {
     "name": "stdout",
     "output_type": "stream",
     "text": [
      "개별 공간은 공간을 확장하기 위해 몇 가지 간단한 방법을 활용할 수 있습니다. 먼저, 개별 공간을 밝은 색상으로 칠하여 공간을 밝고 개방적으로 만들 수 있습니다. 또한, 거울을 활용하여 공간을 확장시킬 수 있습니다. 수평적인 패턴을 선택하여 벽이나 바닥을 꾸밀 수 있고, 가구 배치의 효율성을 높일 수 있습니다.\n"
     ]
    },
    {
     "name": "stderr",
     "output_type": "stream",
     "text": [
      "  5%|█████████▏                                                                                                                                                                 | 7/130 [01:00<16:48,  8.20s/it]The attention mask and the pad token id were not set. As a consequence, you may observe unexpected behavior. Please pass your input's `attention_mask` to obtain reliable results.\n",
      "Setting `pad_token_id` to `eos_token_id`:30003 for open-end generation.\n",
      "A decoder-only architecture is being used, but right-padding was detected! For correct generation results, please set `padding_side='left'` when initializing the tokenizer.\n"
     ]
    },
    {
     "name": "stdout",
     "output_type": "stream",
     "text": [
      "도배지 들뜨는 원인은 주로 습도, 온도 차이, 또는 벽면의 손상으로 인해 발생합니다. 먼저, 습도가 높을 경우 도배지의 접착력이 감소하여 벽면에서 떨어질 수 있습니다. 따라서, 제습기를 가동하고 실내 환기를 통해 적정 습도를 유지하는 것이 중요합니다. 내외부의 심한 온도 차도 도배지의 들뜸 현상을 유발할 수 있습니다. 온도 관리와 습도 조절을 통해 온도 차를 줄이고, 습기의 유입을 막는 것이 필요합니다. 마지막으로, 벽면에 손상이 있을 경우에도 도배지 들뜸이 발생할 가능성이 있습니다. 벽면을 제대로 복원하고 평평하게 균형을 맞춘 후 재작업을 하는 것을 추천합니다. 이러한 보수 작업은 전문가의 도움을 받으면 더욱 효과적일 수 있습니다.\n"
     ]
    },
    {
     "name": "stderr",
     "output_type": "stream",
     "text": [
      "  6%|██████████▌                                                                                                                                                                | 8/130 [01:13<19:47,  9.74s/it]The attention mask and the pad token id were not set. As a consequence, you may observe unexpected behavior. Please pass your input's `attention_mask` to obtain reliable results.\n",
      "Setting `pad_token_id` to `eos_token_id`:30003 for open-end generation.\n",
      "A decoder-only architecture is being used, but right-padding was detected! For correct generation results, please set `padding_side='left'` when initializing the tokenizer.\n"
     ]
    },
    {
     "name": "stdout",
     "output_type": "stream",
     "text": [
      "도배지에 얼룩을 지우는 방법은 다양한데, 먼저 식빵에 치약이나 주방세제를 조금 묻혀 얼룩진 부위를 문질러주세요. 그런 다음 물기를 제거한 물걸레로 닦아 건조시키면 됩니다. 치약이나 주방세제만으로 얼룩이 지워지지 않는다면, 따뜻한 물에 베이킹소다를 섞어 반죽을 만들어 활용하는 것이 도움이 될 수 있습니다.\n"
     ]
    },
    {
     "name": "stderr",
     "output_type": "stream",
     "text": [
      "  7%|███████████▊                                                                                                                                                               | 9/130 [01:36<27:48, 13.79s/it]The attention mask and the pad token id were not set. As a consequence, you may observe unexpected behavior. Please pass your input's `attention_mask` to obtain reliable results.\n",
      "Setting `pad_token_id` to `eos_token_id`:30003 for open-end generation.\n",
      "A decoder-only architecture is being used, but right-padding was detected! For correct generation results, please set `padding_side='left'` when initializing the tokenizer.\n"
     ]
    },
    {
     "name": "stdout",
     "output_type": "stream",
     "text": [
      "층간소음 방지에 효과적인 철골구조는 건물의 외벽에는 그다지 효과적이지 않기 때문에 내부 공간에서 발생하는 소음을 줄이기 위해 사용됩니다. 또한, 철골구조는 강도가 뛰어나고 시공이 편리하며 경제적인 재료로 여겨집니다.\n"
     ]
    },
    {
     "name": "stderr",
     "output_type": "stream",
     "text": [
      "  8%|█████████████                                                                                                                                                             | 10/130 [01:43<23:22, 11.69s/it]The attention mask and the pad token id were not set. As a consequence, you may observe unexpected behavior. Please pass your input's `attention_mask` to obtain reliable results.\n",
      "Setting `pad_token_id` to `eos_token_id`:30003 for open-end generation.\n",
      "A decoder-only architecture is being used, but right-padding was detected! For correct generation results, please set `padding_side='left'` when initializing the tokenizer.\n"
     ]
    },
    {
     "name": "stdout",
     "output_type": "stream",
     "text": [
      "유성페인트의 특징은 주로 휘발성을 가지고 있어 냄새가 강하고 건조 속도가 상대적으로 느리다는 것입니다. 또한, 철재나 목재와 같은 표면에 주로 사용되며, 유성 도장을 하면 표면이 매끈해지고 물에 강하며 내구성이 뛰어나다는 특징이 있습니다. 추가적으로 유성페인트는 수성페인트에 비해 냄새가 강하다는 점도 특징으로 꼽힙니다.\n"
     ]
    },
    {
     "name": "stderr",
     "output_type": "stream",
     "text": [
      "  8%|██████████████▍                                                                                                                                                           | 11/130 [01:55<23:11, 11.70s/it]The attention mask and the pad token id were not set. As a consequence, you may observe unexpected behavior. Please pass your input's `attention_mask` to obtain reliable results.\n",
      "Setting `pad_token_id` to `eos_token_id`:30003 for open-end generation.\n",
      "A decoder-only architecture is being used, but right-padding was detected! For correct generation results, please set `padding_side='left'` when initializing the tokenizer.\n"
     ]
    },
    {
     "name": "stdout",
     "output_type": "stream",
     "text": [
      "훼손과 오염의 차이는 물리적인 변화의 유무입니다. 훼손은 찍힘, 터짐 등의 물리적인 충격이나 힘을 받아 상태가 변한 것을 의미합니다. 이에 반해 오염은 녹 오염, 반점 등의 얼룩 형태로 나타나는 경우를 의미합니다.\n"
     ]
    },
    {
     "name": "stderr",
     "output_type": "stream",
     "text": [
      "  9%|███████████████▋                                                                                                                                                          | 12/130 [02:01<19:35,  9.96s/it]The attention mask and the pad token id were not set. As a consequence, you may observe unexpected behavior. Please pass your input's `attention_mask` to obtain reliable results.\n",
      "Setting `pad_token_id` to `eos_token_id`:30003 for open-end generation.\n",
      "A decoder-only architecture is being used, but right-padding was detected! For correct generation results, please set `padding_side='left'` when initializing the tokenizer.\n"
     ]
    },
    {
     "name": "stdout",
     "output_type": "stream",
     "text": [
      "철근콘크리트 구조는 콘크리트의 압축강도와 철근의 인장강도를 결합하여 구성된 구조로, 일반적으로 도심에서 가장 많이 사용하는 구조 중 하나입니다. 이러한 구조는 내구성, 내화 및 내진 성능이 우수하며, 철근의 사용으로 콘크리트의 인장응력 약점을 보완할 수 있습니다. 다만, 고층 건물에서는 구조물의 하중을 지탱하기 위해 아래층의 보나 기둥의 단면이 커져야 하는 문제가 있습니다.\n"
     ]
    },
    {
     "name": "stderr",
     "output_type": "stream",
     "text": [
      " 10%|█████████████████                                                                                                                                                         | 13/130 [02:09<18:22,  9.42s/it]The attention mask and the pad token id were not set. As a consequence, you may observe unexpected behavior. Please pass your input's `attention_mask` to obtain reliable results.\n",
      "Setting `pad_token_id` to `eos_token_id`:30003 for open-end generation.\n",
      "A decoder-only architecture is being used, but right-padding was detected! For correct generation results, please set `padding_side='left'` when initializing the tokenizer.\n"
     ]
    },
    {
     "name": "stdout",
     "output_type": "stream",
     "text": [
      "방염벽지는 PVC 코팅을 하고 방염처리가 된 벽지로, 화재 시 유독가스의 확산속도를 지연시키는 장점이 있습니다. 이러한 특성으로 화재로부터의 안전을 증대시킬 수 있지만, 시공이 어렵고 비용이 상대적으로 높다는 단점이 있습니다. 일반적으로 실크벽지와 같은 고가의 벽지로 분류되며, 평당 10,000~13,000원의 비용이 소요됩니다.\n"
     ]
    },
    {
     "name": "stderr",
     "output_type": "stream",
     "text": [
      " 11%|██████████████████▎                                                                                                                                                       | 14/130 [02:16<16:33,  8.57s/it]The attention mask and the pad token id were not set. As a consequence, you may observe unexpected behavior. Please pass your input's `attention_mask` to obtain reliable results.\n",
      "Setting `pad_token_id` to `eos_token_id`:30003 for open-end generation.\n",
      "A decoder-only architecture is being used, but right-padding was detected! For correct generation results, please set `padding_side='left'` when initializing the tokenizer.\n"
     ]
    },
    {
     "name": "stdout",
     "output_type": "stream",
     "text": [
      "도배지에 곰팡이와 곰팡이가 발생한 경우, 먼저 제습기를 가동하여 실내의 습도를 조절해야 합니다. 이후에는 환기를 통해 곰팡이와 곰팡이 냄새를 제거하고, 필요시 교체하는 것이 좋습니다. 특히 곰팡이는 습기와 어두운 환경에서 번식하기 때문에, 실내 환경을 개선하고 통풍을 유지하는 것이 중요합니다. 또한, 곰팡이 발생한 부분을 교체하거나 청소하여 복원하는 것이 도움이 될 수 있습니다.\n"
     ]
    },
    {
     "name": "stderr",
     "output_type": "stream",
     "text": [
      " 12%|███████████████████▌                                                                                                                                                      | 15/130 [02:25<16:52,  8.80s/it]The attention mask and the pad token id were not set. As a consequence, you may observe unexpected behavior. Please pass your input's `attention_mask` to obtain reliable results.\n",
      "Setting `pad_token_id` to `eos_token_id`:30003 for open-end generation.\n",
      "A decoder-only architecture is being used, but right-padding was detected! For correct generation results, please set `padding_side='left'` when initializing the tokenizer.\n"
     ]
    },
    {
     "name": "stdout",
     "output_type": "stream",
     "text": [
      "롱브릭타 일은 일반적으로 점토를 주원료로 사용하여 만든 유광 타일입니다. 가격대는 보통 평당 10~20만원 정도로 형성되어 있습니다. 이러한 폴리싱 타일은 여름에는 서늘하고 겨울에는 따뜻하며 내구성이 뛰어나고 바닥 울림이 적다는 장점이 있습니다. 그러나 가격이 다소 높고 충격을 흡수하는 능력이 낮아 노약자가 있는 집안에는 적합하지 않을 수 있습니다. 특히 유광 타일의 경우, 물에 젖으면 미끄러울 수 있는 단점을 가지고 있습니다.\n"
     ]
    },
    {
     "name": "stderr",
     "output_type": "stream",
     "text": [
      " 12%|████████████████████▉                                                                                                                                                     | 16/130 [02:37<18:31,  9.75s/it]The attention mask and the pad token id were not set. As a consequence, you may observe unexpected behavior. Please pass your input's `attention_mask` to obtain reliable results.\n",
      "Setting `pad_token_id` to `eos_token_id`:30003 for open-end generation.\n",
      "A decoder-only architecture is being used, but right-padding was detected! For correct generation results, please set `padding_side='left'` when initializing the tokenizer.\n"
     ]
    },
    {
     "name": "stdout",
     "output_type": "stream",
     "text": [
      "준불연재료란 화재에 견딜 수 있는 소재로, 일정 기간 동안(보통 10분) 화재에 견디는 소재를 의미합니다. 주로 건물 내부의 건축 재료로 사용되며, 화재를 예방하고 인명피해를 최소화하는 데 기여합니다.\n"
     ]
    },
    {
     "name": "stderr",
     "output_type": "stream",
     "text": [
      " 13%|██████████████████████▏                                                                                                                                                   | 17/130 [02:41<15:08,  8.04s/it]The attention mask and the pad token id were not set. As a consequence, you may observe unexpected behavior. Please pass your input's `attention_mask` to obtain reliable results.\n",
      "Setting `pad_token_id` to `eos_token_id`:30003 for open-end generation.\n",
      "A decoder-only architecture is being used, but right-padding was detected! For correct generation results, please set `padding_side='left'` when initializing the tokenizer.\n"
     ]
    },
    {
     "name": "stdout",
     "output_type": "stream",
     "text": [
      "몰딩이 수정되는 것은 주로 환경적인 요인에 의해 발생합니다. 햇빛, 습기, 화학물질 등의 외부 요인에 노출될 경우 몰딩이 수정될 가능성이 있습니다. 특히, 습기가 많은 환경이나 강한 햇빛이 비추는 곳, 화학물질이 사용되는 구역 등에서 몰딩 수정 현상이 발생할 수 있습니다. 따라서 몰딩의 수명을 연장하기 위해서는 이러한 환경적인 요인들을 최대한 배제하고 유지보수를 꾸준히 해주어야 합니다.\n"
     ]
    },
    {
     "name": "stderr",
     "output_type": "stream",
     "text": [
      " 14%|███████████████████████▌                                                                                                                                                  | 18/130 [02:49<15:00,  8.04s/it]The attention mask and the pad token id were not set. As a consequence, you may observe unexpected behavior. Please pass your input's `attention_mask` to obtain reliable results.\n",
      "Setting `pad_token_id` to `eos_token_id`:30003 for open-end generation.\n",
      "A decoder-only architecture is being used, but right-padding was detected! For correct generation results, please set `padding_side='left'` when initializing the tokenizer.\n"
     ]
    },
    {
     "name": "stdout",
     "output_type": "stream",
     "text": [
      "벽에 구멍을 메우기 위해서는 먼저 구멍 주변을 깨끗하게 솔로 닦아내고, 모래지거나 부서진 부분을 제거해야 합니다. 그 후에 구멍을 메우면 됩니다. 하지만, 타일의 표면이 울퉁불퉁하거나 균일하지 않은 경우에는 도배지를 붙일 때 면 불량이 발생할 수 있습니다. 따라서, 해당 부분을 복원하고 균형을 맞춘 후 재작업을 하는 것이 좋습니다. 이러한 작업은 전문가의 도움을 받는 것이 추천됩니다.\n"
     ]
    },
    {
     "name": "stderr",
     "output_type": "stream",
     "text": [
      " 15%|████████████████████████▊                                                                                                                                                 | 19/130 [02:57<15:00,  8.11s/it]The attention mask and the pad token id were not set. As a consequence, you may observe unexpected behavior. Please pass your input's `attention_mask` to obtain reliable results.\n",
      "Setting `pad_token_id` to `eos_token_id`:30003 for open-end generation.\n",
      "A decoder-only architecture is being used, but right-padding was detected! For correct generation results, please set `padding_side='left'` when initializing the tokenizer.\n"
     ]
    },
    {
     "name": "stdout",
     "output_type": "stream",
     "text": [
      "다이닝 룸을 전통적으로 꾸미려면 대형 식탁과 고풍스러운 의자를 선택하는 것이 중요합니다. 이외에도 다이닝 룸을 위해 선택한 아트워크나 미끄럼 방지 패드로써의 프로테쿠터도 꾸밀 수 있는 항목입니다.전통적으로는 차를 마시기 위한 높은 곳에 장식된 바구니 또는 와인 창고, 유리컵들을 포함하는 것이 좋습니다. 부엌이 아닌 고급 느낌을 위해 특별한 테이블보와 피아노를 두면 현란함을 느낄 수 있을 것입니다. 추가로 본란은 더 많은 디테일을 더할 수 있습니다.\n"
     ]
    },
    {
     "name": "stderr",
     "output_type": "stream",
     "text": [
      " 15%|██████████████████████████▏                                                                                                                                               | 20/130 [03:11<17:54,  9.77s/it]The attention mask and the pad token id were not set. As a consequence, you may observe unexpected behavior. Please pass your input's `attention_mask` to obtain reliable results.\n",
      "Setting `pad_token_id` to `eos_token_id`:30003 for open-end generation.\n",
      "A decoder-only architecture is being used, but right-padding was detected! For correct generation results, please set `padding_side='left'` when initializing the tokenizer.\n"
     ]
    },
    {
     "name": "stdout",
     "output_type": "stream",
     "text": [
      "석고는 습기를 흡수하고 물에 녹는 성질이 있기에 습도가 높으면 석고가 변형될 수 있습니다. 따라서, 높은 습도의 환경에서 석고제품을 사용할 때에는 습기 관리에 유의해야 합니다. 공간 내 습기를 제어하고 적절한 환기를 통해 실내 습도를 유지하는 것이 중요합니다. 때때로 제습기를 활용하여 습도를 조절하는 것도 도움이 될 수 있습니다.\n"
     ]
    },
    {
     "name": "stderr",
     "output_type": "stream",
     "text": [
      " 16%|███████████████████████████▍                                                                                                                                              | 21/130 [03:18<16:13,  8.93s/it]The attention mask and the pad token id were not set. As a consequence, you may observe unexpected behavior. Please pass your input's `attention_mask` to obtain reliable results.\n",
      "Setting `pad_token_id` to `eos_token_id`:30003 for open-end generation.\n",
      "A decoder-only architecture is being used, but right-padding was detected! For correct generation results, please set `padding_side='left'` when initializing the tokenizer.\n"
     ]
    },
    {
     "name": "stdout",
     "output_type": "stream",
     "text": [
      "라돈을 제외한 공동주택의 실내공기질 측정지점은 공동주택 실내공기질 측정시에는 기본적으로 100세대에서 3개 세대를 선정하여 시료를 채취합니다. 이때, 저층부, 중층부, 그리고 고층부 순으로 선택하여 채취합니다. 그리고 100세대가 증가할 때마다 1세대씩 추가하여 최대 20세대까지 시료를 채취하게 됩니다.\n"
     ]
    },
    {
     "name": "stderr",
     "output_type": "stream",
     "text": [
      " 17%|████████████████████████████▊                                                                                                                                             | 22/130 [03:28<16:44,  9.30s/it]The attention mask and the pad token id were not set. As a consequence, you may observe unexpected behavior. Please pass your input's `attention_mask` to obtain reliable results.\n",
      "Setting `pad_token_id` to `eos_token_id`:30003 for open-end generation.\n",
      "A decoder-only architecture is being used, but right-padding was detected! For correct generation results, please set `padding_side='left'` when initializing the tokenizer.\n"
     ]
    },
    {
     "name": "stdout",
     "output_type": "stream",
     "text": [
      "손상된 타일을 제거하고 새로운 타일을 설치하기 위해 접착제와 못을 사용하세요.\n"
     ]
    },
    {
     "name": "stderr",
     "output_type": "stream",
     "text": [
      " 18%|██████████████████████████████                                                                                                                                            | 23/130 [03:38<16:40,  9.35s/it]The attention mask and the pad token id were not set. As a consequence, you may observe unexpected behavior. Please pass your input's `attention_mask` to obtain reliable results.\n",
      "Setting `pad_token_id` to `eos_token_id`:30003 for open-end generation.\n",
      "A decoder-only architecture is being used, but right-padding was detected! For correct generation results, please set `padding_side='left'` when initializing the tokenizer.\n"
     ]
    },
    {
     "name": "stdout",
     "output_type": "stream",
     "text": [
      "유성페인트의 사용은 주로 석유나 석탄에서 추출한 기름이나 화학물질로 만들어지며, 이들 중 일부는 인체에 유해한 영향을 미칠 수 있습니다. 유성페인트의 주요 단점은 다음과 같습니다. 1. 유해성: 유성페인트에는 벤젠, 톨루엔, 자일렌 등의 유해물질이 포함되어 있으며, 이러한 물질들은 호흡기나 피부 등을 통해 체내에 흡수될 수 있습니다. 장기간 노출되면 암, 호흡기 질환, 피부 질환 등의 건강 문제를 유발할 수 있습니다. 2. 냄새: 유성페인트는 강한 냄새를 가지고 있으며, 이는 작업자뿐만 아니라 주변 사람들에게도 불쾌감을 줄 수 있습니다. 3. 건조 시간: 유성페인트 작업 시에는 몇 가지 주요 단점이 있습니다. 첫째로, 건조 시간이 길어서 작업 시간이 더 오래 걸릴 수 있습니다. 둘째로, 건조 과정에서 발생하는 열로 인해 작업자가 불편함을 느낄 수 있습니다. 셋째로, 유성페인트는 건조가 완료된 후에도 올바른 색상을 유지하지 못할 수 있습니다. 따라서, 유성페인트를 사용할 때에는 안전하고 적절한 환경에서 사용하고, 꼭 필요한 경우에만 사용하는 것이 좋습니다.\n"
     ]
    },
    {
     "name": "stderr",
     "output_type": "stream",
     "text": [
      " 18%|███████████████████████████████▍                                                                                                                                          | 24/130 [04:02<24:25, 13.83s/it]The attention mask and the pad token id were not set. As a consequence, you may observe unexpected behavior. Please pass your input's `attention_mask` to obtain reliable results.\n",
      "Setting `pad_token_id` to `eos_token_id`:30003 for open-end generation.\n",
      "A decoder-only architecture is being used, but right-padding was detected! For correct generation results, please set `padding_side='left'` when initializing the tokenizer.\n"
     ]
    },
    {
     "name": "stdout",
     "output_type": "stream",
     "text": [
      "가장 비싼 바닥재로는 대리석 타일이 가장 많이 사용됩니다. 대리석은 자연스러운 아름다움과 내구성으로 유명하며, 고급스러운 분위기를 연출할 수 있습니다. 또한, 그만큼 가격이 높기 때문에 대리석은 비교적 고가의 바닥재로 알려져 있습니다.\n"
     ]
    },
    {
     "name": "stderr",
     "output_type": "stream",
     "text": [
      " 19%|████████████████████████████████▋                                                                                                                                         | 25/130 [04:06<19:08, 10.94s/it]The attention mask and the pad token id were not set. As a consequence, you may observe unexpected behavior. Please pass your input's `attention_mask` to obtain reliable results.\n",
      "Setting `pad_token_id` to `eos_token_id`:30003 for open-end generation.\n",
      "A decoder-only architecture is being used, but right-padding was detected! For correct generation results, please set `padding_side='left'` when initializing the tokenizer.\n"
     ]
    },
    {
     "name": "stdout",
     "output_type": "stream",
     "text": [
      "풍수지리를 고려할 때는 문의 위치, 가구 배치, 그리고 색상 선택에 신중하게 접근하세요.\n"
     ]
    },
    {
     "name": "stderr",
     "output_type": "stream",
     "text": [
      " 20%|██████████████████████████████████                                                                                                                                        | 26/130 [04:17<18:58, 10.95s/it]The attention mask and the pad token id were not set. As a consequence, you may observe unexpected behavior. Please pass your input's `attention_mask` to obtain reliable results.\n",
      "Setting `pad_token_id` to `eos_token_id`:30003 for open-end generation.\n",
      "A decoder-only architecture is being used, but right-padding was detected! For correct generation results, please set `padding_side='left'` when initializing the tokenizer.\n"
     ]
    },
    {
     "name": "stdout",
     "output_type": "stream",
     "text": [
      "반점이 생긴 경우, 먼저 전문가의 조언을 받아야 합니다. 이후, 필요한 경우 보수 작업을 진행하는 것이 좋습니다. 먼저, 전문가의 조언을 통해 문제를 진단하고 적절한 조치를 취하는 것이 중요합니다. 또한,반점이 생긴 부분을 접착제로 메우고, 수리된 부분을 투명 유리 수리 테이프로 보호하는 것도 도움이 될 수 있습니다. 이렇게 하면 면 불량이 발생한 경우에는 전문가의 도움을 받아 문제를 해결할 수 있습니다.\n"
     ]
    },
    {
     "name": "stderr",
     "output_type": "stream",
     "text": [
      " 21%|███████████████████████████████████▎                                                                                                                                      | 27/130 [04:26<17:40, 10.30s/it]The attention mask and the pad token id were not set. As a consequence, you may observe unexpected behavior. Please pass your input's `attention_mask` to obtain reliable results.\n",
      "Setting `pad_token_id` to `eos_token_id`:30003 for open-end generation.\n",
      "A decoder-only architecture is being used, but right-padding was detected! For correct generation results, please set `padding_side='left'` when initializing the tokenizer.\n"
     ]
    },
    {
     "name": "stdout",
     "output_type": "stream",
     "text": [
      "평지붕의 단점으로는 경사지붕에 비해 에너지 손실이 크고, 단열 및 방수를 위한 시공비가 많이 들며 누수의 위험이 있습니다. 또한, 다른 지붕자재보다 수명이 짧은 것이 또 다른 단점으로 꼽힙니다.\n"
     ]
    },
    {
     "name": "stderr",
     "output_type": "stream",
     "text": [
      " 22%|████████████████████████████████████▌                                                                                                                                     | 28/130 [04:30<14:37,  8.60s/it]The attention mask and the pad token id were not set. As a consequence, you may observe unexpected behavior. Please pass your input's `attention_mask` to obtain reliable results.\n",
      "Setting `pad_token_id` to `eos_token_id`:30003 for open-end generation.\n",
      "A decoder-only architecture is being used, but right-padding was detected! For correct generation results, please set `padding_side='left'` when initializing the tokenizer.\n"
     ]
    },
    {
     "name": "stdout",
     "output_type": "stream",
     "text": [
      "경량철골구조란 주로 주택, 창고, 농자재 등에 사용되는 철골구조로, 약 1.5~3mm 두께의 철골로 이루어져 있습니다. 이러한 경량철골구조는 주로 파이프, C형 채널, LEB 자재 등을 사용하여 건축물을 구성하는 구조체입니다. 이러한 구조물은 경제적이면서도 강도가 뛰어나기 때문에 많은 건물에서 사용됩니다.\n"
     ]
    },
    {
     "name": "stderr",
     "output_type": "stream",
     "text": [
      " 22%|█████████████████████████████████████▉                                                                                                                                    | 29/130 [04:37<13:12,  7.85s/it]The attention mask and the pad token id were not set. As a consequence, you may observe unexpected behavior. Please pass your input's `attention_mask` to obtain reliable results.\n",
      "Setting `pad_token_id` to `eos_token_id`:30003 for open-end generation.\n",
      "A decoder-only architecture is being used, but right-padding was detected! For correct generation results, please set `padding_side='left'` when initializing the tokenizer.\n"
     ]
    },
    {
     "name": "stdout",
     "output_type": "stream",
     "text": [
      "프리케스트콘크리트 구조는 PC라고도 불리며, 건축물의 벽, 슬래브(SLAB), 보 등의 콘크리트 부재를 공장에서 미리 제작하여 현장에서 조립하는 방식을 말합니다. 이는 공장 내에서 안정된 환경에서 품질관리와 대량생산이 가능하기 때문에 품질 확보와 원가절감이 가능하다는 장점이 있습니다. 또한, 현장에서는 일부 구간을 RC(철근 콘크리트) 공법과 병행하여 공장에서 생산한 PC 부재와의 연결을 통해 공기 단축이 가능하다는 점이 있습니다.\n"
     ]
    },
    {
     "name": "stderr",
     "output_type": "stream",
     "text": [
      " 23%|███████████████████████████████████████▏                                                                                                                                  | 30/130 [04:46<13:50,  8.30s/it]The attention mask and the pad token id were not set. As a consequence, you may observe unexpected behavior. Please pass your input's `attention_mask` to obtain reliable results.\n",
      "Setting `pad_token_id` to `eos_token_id`:30003 for open-end generation.\n",
      "A decoder-only architecture is being used, but right-padding was detected! For correct generation results, please set `padding_side='left'` when initializing the tokenizer.\n"
     ]
    },
    {
     "name": "stdout",
     "output_type": "stream",
     "text": [
      "반려동물을 위한 바닥재로는 미끄럼 방지 기능이 있는 바닥재를 선택하는 것이 좋습니다. 반려동물은 뛰어다니는 습성이 있기 때문에 미끄러질 경우 다칠 위험이 있고 다리 관절에 무리가 갈 수 있습니다. 또한, 바닥재를 바꾸기 어려운 상황이라면 카펫이나 러그를 깔아두는 것도 좋은 대안이 될 수 있습니다.\n"
     ]
    },
    {
     "name": "stderr",
     "output_type": "stream",
     "text": [
      " 24%|████████████████████████████████████████▌                                                                                                                                 | 31/130 [04:54<13:42,  8.30s/it]The attention mask and the pad token id were not set. As a consequence, you may observe unexpected behavior. Please pass your input's `attention_mask` to obtain reliable results.\n",
      "Setting `pad_token_id` to `eos_token_id`:30003 for open-end generation.\n",
      "A decoder-only architecture is being used, but right-padding was detected! For correct generation results, please set `padding_side='left'` when initializing the tokenizer.\n"
     ]
    },
    {
     "name": "stdout",
     "output_type": "stream",
     "text": [
      "몰딩이 수정되는 것은 주로 실내 흡연으로 인해 발생하는 문제입니다. 담배 연기에 함유된 니코틴과 기타 화학 물질이 벽지에 흡수되면서 변색이 발생할 수 있습니다. 따라서 실내 흡연 공간에서는 벽지의 변색을 줄이기 위해 자주 환기하고, 가능하다면 실내 흡연을 피하는 것이 좋습니다.\n"
     ]
    },
    {
     "name": "stderr",
     "output_type": "stream",
     "text": [
      " 25%|█████████████████████████████████████████▊                                                                                                                                | 32/130 [05:02<13:14,  8.11s/it]The attention mask and the pad token id were not set. As a consequence, you may observe unexpected behavior. Please pass your input's `attention_mask` to obtain reliable results.\n",
      "Setting `pad_token_id` to `eos_token_id`:30003 for open-end generation.\n",
      "A decoder-only architecture is being used, but right-padding was detected! For correct generation results, please set `padding_side='left'` when initializing the tokenizer.\n"
     ]
    },
    {
     "name": "stdout",
     "output_type": "stream",
     "text": [
      "KMEW 세라믹지붕재의 단점은 주로 수입품이기 때문에 가격이 비싸며, 금속지붕에 비해 보다 무겁다는 점이 있습니다. 그러나 이러한 단점을 상쇄시킬 만큼 세라믹 지붕재는 탁월한 내구성과 화려한 외관을 가지고 있어서 많은 사용자들에게 인기가 높습니다.\n"
     ]
    },
    {
     "name": "stderr",
     "output_type": "stream",
     "text": [
      " 25%|███████████████████████████████████████████▏                                                                                                                              | 33/130 [05:07<11:33,  7.15s/it]The attention mask and the pad token id were not set. As a consequence, you may observe unexpected behavior. Please pass your input's `attention_mask` to obtain reliable results.\n",
      "Setting `pad_token_id` to `eos_token_id`:30003 for open-end generation.\n",
      "A decoder-only architecture is being used, but right-padding was detected! For correct generation results, please set `padding_side='left'` when initializing the tokenizer.\n"
     ]
    },
    {
     "name": "stdout",
     "output_type": "stream",
     "text": [
      "줄퍼티 마감이란 석고보드의 이음메 부분을 메꾼 후 1차, 2차로 퍼티를 해 마감하는 것을 의미합니다. 줄퍼티 마감은 올퍼티 마감보다 단가가 저렴하다는 장점이 있지만 이음메 부분의 배부름 현상이 있으며, 줄퍼티를 한 곳과 하지 않은 곳의 질감 차이가 있다는 단점이 있어 주로 가게, 식당, 공장 등에서 시공됩니다.\n"
     ]
    },
    {
     "name": "stderr",
     "output_type": "stream",
     "text": [
      " 26%|████████████████████████████████████████████▍                                                                                                                             | 34/130 [05:14<11:16,  7.04s/it]The attention mask and the pad token id were not set. As a consequence, you may observe unexpected behavior. Please pass your input's `attention_mask` to obtain reliable results.\n",
      "Setting `pad_token_id` to `eos_token_id`:30003 for open-end generation.\n",
      "A decoder-only architecture is being used, but right-padding was detected! For correct generation results, please set `padding_side='left'` when initializing the tokenizer.\n"
     ]
    },
    {
     "name": "stdout",
     "output_type": "stream",
     "text": [
      "페인트 하도재는 페인트를 칠하기 전에 기존 바탕면에 발리는 것을 방지하기 위해 사용되며, 페인트를 칠한 후에는 보수 및 수정이 어려우며, 특히 습기가 많은 환경에서는 추가적인 보호 코팅이 필요할 수 있습니다. 이러한 단점으로 인해 페인트를 바로 칠하는 것은 권장되지 않습니다.\n"
     ]
    },
    {
     "name": "stderr",
     "output_type": "stream",
     "text": [
      " 27%|█████████████████████████████████████████████▊                                                                                                                            | 35/130 [05:21<11:09,  7.05s/it]The attention mask and the pad token id were not set. As a consequence, you may observe unexpected behavior. Please pass your input's `attention_mask` to obtain reliable results.\n",
      "Setting `pad_token_id` to `eos_token_id`:30003 for open-end generation.\n",
      "A decoder-only architecture is being used, but right-padding was detected! For correct generation results, please set `padding_side='left'` when initializing the tokenizer.\n"
     ]
    },
    {
     "name": "stdout",
     "output_type": "stream",
     "text": [
      "나무재질의 바닥재를 처리하는 방법은 특수 규격 봉투(불연성 폐기물 마대)에 넣어서 배출하면 됩니다. 하지만 특수 규격 봉투를 구하기 어려운 경우가 많으니 지역의 구청이나 주민센터에 사전 문의하여 처리 방법에 대해 상담을 받아보세요. 또한 5톤 이상의 양은 전문 업체를 통해서 처리해야 하니 해당 업체에 문의하거나 조치를 취하셔야 합니다.\n"
     ]
    },
    {
     "name": "stderr",
     "output_type": "stream",
     "text": [
      " 28%|███████████████████████████████████████████████                                                                                                                           | 36/130 [05:29<11:30,  7.34s/it]The attention mask and the pad token id were not set. As a consequence, you may observe unexpected behavior. Please pass your input's `attention_mask` to obtain reliable results.\n",
      "Setting `pad_token_id` to `eos_token_id`:30003 for open-end generation.\n",
      "A decoder-only architecture is being used, but right-padding was detected! For correct generation results, please set `padding_side='left'` when initializing the tokenizer.\n"
     ]
    },
    {
     "name": "stdout",
     "output_type": "stream",
     "text": [
      "도배지에 반점이 발생한 경우, 먼저 반점을 제거하는 것이 중요합니다. 그 후에 필요하다면 전문가의 도움을 받아 부분 혹은 전체 재작업을 고려해야 합니다.  1. 공간 내 높은 습도 원인: 높은 습도로 인해 도배지의 표면이 젖게 되면, 다양한 물질이 흡수되어 표면에 녹이 묻어나올 수 있습니다. 이로 인해 도배지의 색상이 변하거나 표면이 손상될 수 있습니다. 따라서 공간 내 습도를 줄이기 위해 제습기를 가동하고 환기를 통해 실내 적정 습도를 유지하는 것이 필요합니다. 2. 내외부 온도의 큰 차이로 인한 결로 원인: 내외부의 심한 온도 차로 인해 도배지가 팽창하거나 수축하여 결로가 발생할 수 있습니다. 온도 관리를 통해 내부와 외부 온도 차이를 줄이고, 습기가 목재 가구나 건축 자재에 스며들지 않도록 주의해야 합니다. 3. 벽면의손상(불균형) 원인: 벽면에 손상이 있을 경우 손상된 벽을 통해 습기가 유입하는 등의 원인으로 인해 반점이 발생할 가능성이 있습니다. 벽면을 제대로 복원하고 균형을 맞춘 후 재작업을 진행해야 합니다.  이러한 반점 제거를 위해서는 전문가의 도움을 받는 것이 좋습니다.\n"
     ]
    },
    {
     "name": "stderr",
     "output_type": "stream",
     "text": [
      " 28%|████████████████████████████████████████████████▍                                                                                                                         | 37/130 [05:51<18:31, 11.95s/it]The attention mask and the pad token id were not set. As a consequence, you may observe unexpected behavior. Please pass your input's `attention_mask` to obtain reliable results.\n",
      "Setting `pad_token_id` to `eos_token_id`:30003 for open-end generation.\n",
      "A decoder-only architecture is being used, but right-padding was detected! For correct generation results, please set `padding_side='left'` when initializing the tokenizer.\n"
     ]
    },
    {
     "name": "stdout",
     "output_type": "stream",
     "text": [
      "새집증후군은 새로 지은 집에 입주했을 때 이전에 없던 이상 증상이 신체에 나타나는 증후군으로, 그 원인은 휘발성 화학물질에 의한 것입니다. 특히, 주요 원인 물질로는 포름알데히드가 있으며, 이 물질은 주로 방부제나 접착제의 원료로 사용됩니다. 때문에, 새 집에 입주하면서 새로 지은 건물 내에서의 공기 중 유해물질로 인해 새집증후군 증상이 나타날 수 있습니다.\n"
     ]
    },
    {
     "name": "stderr",
     "output_type": "stream",
     "text": [
      " 29%|█████████████████████████████████████████████████▋                                                                                                                        | 38/130 [06:00<16:40, 10.87s/it]The attention mask and the pad token id were not set. As a consequence, you may observe unexpected behavior. Please pass your input's `attention_mask` to obtain reliable results.\n",
      "Setting `pad_token_id` to `eos_token_id`:30003 for open-end generation.\n",
      "A decoder-only architecture is being used, but right-padding was detected! For correct generation results, please set `padding_side='left'` when initializing the tokenizer.\n"
     ]
    },
    {
     "name": "stdout",
     "output_type": "stream",
     "text": [
      "방청도료 도장은 일반적으로 좁은 부분을 붓을 사용하고, 큰 부분은 스프레이를 이용합니다. 보통 방청도료는 2~3회에 걸쳐 도장하며, 종류에 따라 완전히 건조된 후에 다음 층을 칠하게 됩니다. 또한, 방청 도료로 도장 작업을 완료한 후에는 페인트를 바를 수 있습니다.\n"
     ]
    },
    {
     "name": "stderr",
     "output_type": "stream",
     "text": [
      " 30%|███████████████████████████████████████████████████                                                                                                                       | 39/130 [06:05<14:03,  9.27s/it]The attention mask and the pad token id were not set. As a consequence, you may observe unexpected behavior. Please pass your input's `attention_mask` to obtain reliable results.\n",
      "Setting `pad_token_id` to `eos_token_id`:30003 for open-end generation.\n",
      "A decoder-only architecture is being used, but right-padding was detected! For correct generation results, please set `padding_side='left'` when initializing the tokenizer.\n"
     ]
    },
    {
     "name": "stdout",
     "output_type": "stream",
     "text": [
      "실내 식물을 가꾸려면 자연조명이 있는 곳에 맞는 식물, 공기 정화식물, 그리고 효과적인 관리를 위한 식물을 고려하세요.\n"
     ]
    },
    {
     "name": "stderr",
     "output_type": "stream",
     "text": [
      " 31%|████████████████████████████████████████████████████▎                                                                                                                     | 40/130 [06:13<13:27,  8.97s/it]The attention mask and the pad token id were not set. As a consequence, you may observe unexpected behavior. Please pass your input's `attention_mask` to obtain reliable results.\n",
      "Setting `pad_token_id` to `eos_token_id`:30003 for open-end generation.\n",
      "A decoder-only architecture is being used, but right-padding was detected! For correct generation results, please set `padding_side='left'` when initializing the tokenizer.\n"
     ]
    },
    {
     "name": "stdout",
     "output_type": "stream",
     "text": [
      "원목마루는 주로 3mm 이상의 두께를 가진 원목으로 만들어진 바닥재를 말합니다. 평당 가격은 20~30만원으로, 고가의 바닥재로 분류됩니다. 이러한 바닥재의 장점은 열전도율이 높아 난방 효율이 좋고, 시각적으로도 매우 우수하며 촉감과 쿠션감이 뛰어나다는 것입니다.  그러나 원목마루는 습기에 취약하며, 두꺼운 표면 때문에 온돌에 시공할 경우 갈라질 우려가 있다는 점을 염두에 두시길 바랍니다.\n"
     ]
    },
    {
     "name": "stderr",
     "output_type": "stream",
     "text": [
      " 32%|█████████████████████████████████████████████████████▌                                                                                                                    | 41/130 [06:23<13:44,  9.26s/it]The attention mask and the pad token id were not set. As a consequence, you may observe unexpected behavior. Please pass your input's `attention_mask` to obtain reliable results.\n",
      "Setting `pad_token_id` to `eos_token_id`:30003 for open-end generation.\n",
      "A decoder-only architecture is being used, but right-padding was detected! For correct generation results, please set `padding_side='left'` when initializing the tokenizer.\n"
     ]
    },
    {
     "name": "stdout",
     "output_type": "stream",
     "text": [
      "침실을 아늑하게 만들기 위해서는 부드러운 조명, 포근한 이불과 함께 나무 가구를 활용하는 것이 좋습니다. 뿐만 아니라, 강렬한 색상보다는 부드러운 색감을 활용하고, 공간을 깔끔하게 정리하여 물건들이 과도하게 늘어지거나 밀집되지 않도록 유의해야 합니다. 또한 식물을 두고 자연적인 원소를 더하면, 침실 분위기를 더욱 아늑하게 만들 수 있습니다. 최종적으로는 개인적으로 소중한 것들과 사랑하는 물건들로 침실을 꾸며 아늑함을 더해보세요.\n"
     ]
    },
    {
     "name": "stderr",
     "output_type": "stream",
     "text": [
      " 32%|██████████████████████████████████████████████████████▉                                                                                                                   | 42/130 [06:43<18:14, 12.44s/it]The attention mask and the pad token id were not set. As a consequence, you may observe unexpected behavior. Please pass your input's `attention_mask` to obtain reliable results.\n",
      "Setting `pad_token_id` to `eos_token_id`:30003 for open-end generation.\n",
      "A decoder-only architecture is being used, but right-padding was detected! For correct generation results, please set `padding_side='left'` when initializing the tokenizer.\n"
     ]
    },
    {
     "name": "stdout",
     "output_type": "stream",
     "text": [
      "컬러매치를 위해서는 대비 컬러와 조화 컬러를 활용하는 것이 중요합니다. 주요 색상과 보조 색상을 조합하여 공간의 분위기를 조절하고, 색상의 밝고 어두운 정도를 고려하여 조화로운 매치를 만들어야 합니다. 또한, 컬러매치를 위해서는 공간의 크기와 목적, 채광, 가구의 색상과 재질 등을 모두 고려해야 합니다. 이러한 다양한 요소들을 고려하여 조화로운 컬러매치를 연출할 수 있습니다.\n"
     ]
    },
    {
     "name": "stderr",
     "output_type": "stream",
     "text": [
      " 33%|████████████████████████████████████████████████████████▏                                                                                                                 | 43/130 [06:54<17:30, 12.08s/it]The attention mask and the pad token id were not set. As a consequence, you may observe unexpected behavior. Please pass your input's `attention_mask` to obtain reliable results.\n",
      "Setting `pad_token_id` to `eos_token_id`:30003 for open-end generation.\n",
      "A decoder-only architecture is being used, but right-padding was detected! For correct generation results, please set `padding_side='left'` when initializing the tokenizer.\n"
     ]
    },
    {
     "name": "stdout",
     "output_type": "stream",
     "text": [
      "그라스울 보온 판은 건축용 단열·음향재로, 유리섬유에 폴리우레탄 필름으로 래핑하여 만들어진 제품입니다. 이 제품의 장점으로는 우수한 흡음능력과 상대적으로 저렴한 가격, 쉬운 가공성이 있습니다. 또한, 보온판은 불연재료이며 화재시에 유독한 가스를 발생시키지 않아 안전한 재료입니다. 하지만 수분 흡수성이 강해 열성능이 떨어지고 단열재가 쳐지는 현상이 발생하므로, 통기와 방수 처리가 필요합니다. 또한, 그라스울의 상태유지 한계온도는 약 350℃로, 대부분의 화재시 이 온도를 넘어가기 때문에 녹는 순간부터 화재 억제 능력이 없어지므로 내화성면에서는 한계가 있습니다. 이러한 특징으로 보아, 목구조 건물에 적합한 보온재로 사용됩니다.\n"
     ]
    },
    {
     "name": "stderr",
     "output_type": "stream",
     "text": [
      " 34%|█████████████████████████████████████████████████████████▌                                                                                                                | 44/130 [07:08<17:59, 12.55s/it]The attention mask and the pad token id were not set. As a consequence, you may observe unexpected behavior. Please pass your input's `attention_mask` to obtain reliable results.\n",
      "Setting `pad_token_id` to `eos_token_id`:30003 for open-end generation.\n",
      "A decoder-only architecture is being used, but right-padding was detected! For correct generation results, please set `padding_side='left'` when initializing the tokenizer.\n"
     ]
    },
    {
     "name": "stdout",
     "output_type": "stream",
     "text": [
      "미네랄울 보온 판은 규산 칼슘계의 광석을 고온으로 용융시켜 만든 순수 무기질 섬유로, 고온부위나 내화 및 내열을 위해 사용되는 이중보온 시스템의 일부로 쓰입니다. 보온판은 유리 섬유와 비교했을 때 열전도도가 낮고 내열성이 뛰어나며, 불연성 및 내화학성이 우수하여 고온에도 변형되지 않으며, 내구성과 조직력이 우수하여 장기간 사용 가능합니다. 또한, 흡음성과 유연성을 갖고 있어 시공성이 좋습니다. 그러나 습기를 잘 조절하지 못해 시간이 지나면 곰팡이가 생길 수 있는 단점이 있습니다. 적용부위로는 목구조 및 난연, 방부목재 가구, 부엌 및 욕실의 벽체 등이 있습니다.  미네랄울 보온판은 이러한 특성으로 인해 물을 사용하는 수영장, 창고, 차고, 공장, 병원, 식품 가공업체, 레스토랑, 주차장 등 다양한 장소에서 사용됩니다.  중밀도 폴리우레탄 폼은 폴리우레탄 수지를 물 또는 발포제에 의해 발포시켜 기포와 격막으로 현장에서 시공하는 단열재로, 수성연질폼으로 불립니다. 이 제품의 특징은 스프레이처럼 뿌리는 형식이기 때문에 구석구석 밀실하게 채워져 건축물의 기밀성능을 높일 수 있으며, 경량목구조에서 흔히 사용되는 그라스울처럼 투습성이 원활하여 기본적으로 습기에 강합니다. 또한, 목구조에 주로 적용되며, 난연재료로 제작되어 화재로부터 건물을 보호합니다. 그러나 주의할 점으로는 어느정도의 탄성은 있으나 눌린 후에 형태가 복원되지 않기 때문에 작업시에는 눌리지 않도록 주의해야 하며, 내부에서 결로수가 동결되어 늘어난 수분의 부피로 인해 셀 내부에 공극이 생겨 방습층 시공이 필요하며, 작업시 다량의 이산화탄소 가스 발생으로 작업자에게는 좋지 않은 환경입니다.\n"
     ]
    },
    {
     "name": "stderr",
     "output_type": "stream",
     "text": [
      " 35%|██████████████████████████████████████████████████████████▊                                                                                                               | 45/130 [08:03<35:51, 25.31s/it]The attention mask and the pad token id were not set. As a consequence, you may observe unexpected behavior. Please pass your input's `attention_mask` to obtain reliable results.\n",
      "Setting `pad_token_id` to `eos_token_id`:30003 for open-end generation.\n",
      "A decoder-only architecture is being used, but right-padding was detected! For correct generation results, please set `padding_side='left'` when initializing the tokenizer.\n"
     ]
    },
    {
     "name": "stdout",
     "output_type": "stream",
     "text": [
      "일반적으로 도배 후 필름을 시공하는 것이 일반적인가요?\n"
     ]
    },
    {
     "name": "stderr",
     "output_type": "stream",
     "text": [
      " 35%|████████████████████████████████████████████████████████████▏                                                                                                             | 46/130 [08:05<25:34, 18.27s/it]The attention mask and the pad token id were not set. As a consequence, you may observe unexpected behavior. Please pass your input's `attention_mask` to obtain reliable results.\n",
      "Setting `pad_token_id` to `eos_token_id`:30003 for open-end generation.\n",
      "A decoder-only architecture is being used, but right-padding was detected! For correct generation results, please set `padding_side='left'` when initializing the tokenizer.\n"
     ]
    },
    {
     "name": "stdout",
     "output_type": "stream",
     "text": [
      "복도나 입구를 환영적으로 꾸미려면 몇 가지 요소를 고려해보세요. 따뜻하고 부드러운 조명을 활용하여 분위기를 조성하고, 작은 식물이나 조화 등의 개인적 요소를 추가하여 쾌적한 분위기를 연출할 수 있습니다. 또한 수납 공간을 활용하여 깔끔한 모습을 유지하고, 가죽이나 헤링본 패턴 등의 디자인을 활용하여 세련된 분위기를 조성할 수도 있습니다.\n"
     ]
    },
    {
     "name": "stderr",
     "output_type": "stream",
     "text": [
      " 36%|█████████████████████████████████████████████████████████████▍                                                                                                            | 47/130 [08:13<20:59, 15.17s/it]The attention mask and the pad token id were not set. As a consequence, you may observe unexpected behavior. Please pass your input's `attention_mask` to obtain reliable results.\n",
      "Setting `pad_token_id` to `eos_token_id`:30003 for open-end generation.\n",
      "A decoder-only architecture is being used, but right-padding was detected! For correct generation results, please set `padding_side='left'` when initializing the tokenizer.\n"
     ]
    },
    {
     "name": "stdout",
     "output_type": "stream",
     "text": [
      "도배지는 일반적으로 도배하려는 평수에 5를 나눈 값만큼 필요합니다. 예를 들어, 32평 아파트의 경우 도배평수는 80평(32*2.5)이며, 5로 나눈 값인 16롤만큼 필요합니다. 다만, 작업자의 숙련도나 작업환경에 따라 필요한 도배지의 양이 달라질 수 있으니, 보다 정확한 견적을 위해서는 전문가와의 상담이 필요합니다.\n"
     ]
    },
    {
     "name": "stderr",
     "output_type": "stream",
     "text": [
      " 37%|██████████████████████████████████████████████████████████████▊                                                                                                           | 48/130 [08:20<17:23, 12.72s/it]The attention mask and the pad token id were not set. As a consequence, you may observe unexpected behavior. Please pass your input's `attention_mask` to obtain reliable results.\n",
      "Setting `pad_token_id` to `eos_token_id`:30003 for open-end generation.\n",
      "A decoder-only architecture is being used, but right-padding was detected! For correct generation results, please set `padding_side='left'` when initializing the tokenizer.\n"
     ]
    },
    {
     "name": "stdout",
     "output_type": "stream",
     "text": [
      "방청페인트의 시공방법은 피도면 정리, 방청도료 도장, 상도작업 순으로 진행됩니다. 먼저 피도면을 꼼꼼히 정리하고, 방청도료를 도장한 후 마지막으로 상도작업을 수행합니다. 이러한 순서를 지키면 방청페인트를 효과적으로 시공할 수 있습니다.\n"
     ]
    },
    {
     "name": "stderr",
     "output_type": "stream",
     "text": [
      " 38%|████████████████████████████████████████████████████████████████                                                                                                          | 49/130 [08:25<14:09, 10.48s/it]The attention mask and the pad token id were not set. As a consequence, you may observe unexpected behavior. Please pass your input's `attention_mask` to obtain reliable results.\n",
      "Setting `pad_token_id` to `eos_token_id`:30003 for open-end generation.\n",
      "A decoder-only architecture is being used, but right-padding was detected! For correct generation results, please set `padding_side='left'` when initializing the tokenizer.\n"
     ]
    },
    {
     "name": "stdout",
     "output_type": "stream",
     "text": [
      "유성발수제의 장점은 소재에 물이 침투하는 것을 근본적으로 차단하여 동결, 염에 의한 손상, 화학적 파괴, 생물에 의한 부식 등을 막아준다는 것입니다. 이러한 특성으로 인해 건물의 내구성을 향상시키고 장기적으로 유지보수 비용을 절감하는 효과를 기대할 수 있습니다. 또한, 유성발수제는 건축물뿐만 아니라 도로, 다리, 터널, 지하시설 등 다양한 건설물에 적용될 수 있어 다재다능한 장점을 갖고 있습니다.\n"
     ]
    },
    {
     "name": "stderr",
     "output_type": "stream",
     "text": [
      " 38%|█████████████████████████████████████████████████████████████████▍                                                                                                        | 50/130 [08:35<13:34, 10.18s/it]The attention mask and the pad token id were not set. As a consequence, you may observe unexpected behavior. Please pass your input's `attention_mask` to obtain reliable results.\n",
      "Setting `pad_token_id` to `eos_token_id`:30003 for open-end generation.\n",
      "A decoder-only architecture is being used, but right-padding was detected! For correct generation results, please set `padding_side='left'` when initializing the tokenizer.\n"
     ]
    },
    {
     "name": "stdout",
     "output_type": "stream",
     "text": [
      "답변 네, 고습도 환경에서 몰딩 소재가 팽창하거나 수축하여 변형될 수 있습니다. 따라서, 습도가 높은 공간에 몰딩을 설치할 경우 몰딩 소재의 품질과 내구성을 고려하여 적합한 소재를 선택하는 것이 중요합니다. 또한, 몰딩 설치 전에는 습도 조절에 신경을 쓰고, 몰딩 소재의 건조시간을 충분히 고려해야 합니다.\n"
     ]
    },
    {
     "name": "stderr",
     "output_type": "stream",
     "text": [
      " 39%|██████████████████████████████████████████████████████████████████▋                                                                                                       | 51/130 [08:41<11:48,  8.97s/it]The attention mask and the pad token id were not set. As a consequence, you may observe unexpected behavior. Please pass your input's `attention_mask` to obtain reliable results.\n",
      "Setting `pad_token_id` to `eos_token_id`:30003 for open-end generation.\n",
      "A decoder-only architecture is being used, but right-padding was detected! For correct generation results, please set `padding_side='left'` when initializing the tokenizer.\n"
     ]
    },
    {
     "name": "stdout",
     "output_type": "stream",
     "text": [
      "소품을 선택할 때는 전체적인 분위기와 조화로움을 고려하며, 크기와 색상의 조절을 통해 공간에 균형을 유지하는 것이 중요합니다.\n"
     ]
    },
    {
     "name": "stderr",
     "output_type": "stream",
     "text": [
      " 40%|████████████████████████████████████████████████████████████████████                                                                                                      | 52/130 [09:14<21:00, 16.16s/it]The attention mask and the pad token id were not set. As a consequence, you may observe unexpected behavior. Please pass your input's `attention_mask` to obtain reliable results.\n",
      "Setting `pad_token_id` to `eos_token_id`:30003 for open-end generation.\n",
      "A decoder-only architecture is being used, but right-padding was detected! For correct generation results, please set `padding_side='left'` when initializing the tokenizer.\n",
      " 41%|█████████████████████████████████████████████████████████████████████▎                                                                                                    | 53/130 [09:24<18:21, 14.30s/it]The attention mask and the pad token id were not set. As a consequence, you may observe unexpected behavior. Please pass your input's `attention_mask` to obtain reliable results.\n",
      "Setting `pad_token_id` to `eos_token_id`:30003 for open-end generation.\n",
      "A decoder-only architecture is being used, but right-padding was detected! For correct generation results, please set `padding_side='left'` when initializing the tokenizer.\n"
     ]
    },
    {
     "name": "stdout",
     "output_type": "stream",
     "text": [
      "초배지는 벽면에 있는 기존 도배를 제거하고 새로운 도배를 하기 위해 필요한 공구입니다. 이러한 특성으로 인해 초배지는 매우 얇고 페인트와는 다른 종류의 재료이기 때문에 직접 페인트를 칠하는 것은 적절하지 않습니다. 또한, 초배지는 페인트를 흡수하지 않을 수 있어 페인트의 접착력을 감소시킬 수 있습니다. 따라서 벽면에 초배지가 남아 있는 경우에는 페인트를 바로 칠하는 것보다는 적절한 접착력을 가진 벽면 처리 솔루션을 사용하여 페인트 작업을 진행하는 것이 좋습니다.\n"
     ]
    },
    {
     "name": "stderr",
     "output_type": "stream",
     "text": [
      " 42%|██████████████████████████████████████████████████████████████████████▌                                                                                                   | 54/130 [09:34<16:25, 12.96s/it]The attention mask and the pad token id were not set. As a consequence, you may observe unexpected behavior. Please pass your input's `attention_mask` to obtain reliable results.\n",
      "Setting `pad_token_id` to `eos_token_id`:30003 for open-end generation.\n",
      "A decoder-only architecture is being used, but right-padding was detected! For correct generation results, please set `padding_side='left'` when initializing the tokenizer.\n"
     ]
    },
    {
     "name": "stdout",
     "output_type": "stream",
     "text": [
      "벽지의 경우, 초배지만 남은 벽 대신에 도배하는 것으로는 도배지가 찢어질 수 있고, 이음새 롤러가 제대로 고정되지 않을 수 있습니다. 따라서, 도배하기 전에 벽면을 꼼꼼하게 확인하고 이물질을 제거하여 주십시오. 이렇게 하면 면 불량이 발생할 수 있습니다.\n"
     ]
    },
    {
     "name": "stderr",
     "output_type": "stream",
     "text": [
      " 42%|███████████████████████████████████████████████████████████████████████▉                                                                                                  | 55/130 [09:38<12:51, 10.29s/it]The attention mask and the pad token id were not set. As a consequence, you may observe unexpected behavior. Please pass your input's `attention_mask` to obtain reliable results.\n",
      "Setting `pad_token_id` to `eos_token_id`:30003 for open-end generation.\n",
      "A decoder-only architecture is being used, but right-padding was detected! For correct generation results, please set `padding_side='left'` when initializing the tokenizer.\n"
     ]
    },
    {
     "name": "stdout",
     "output_type": "stream",
     "text": [
      "석구조는 주로 석재로 쌓아 만든 건축물을 의미합니다. 이러한 구조는 주로 궁전, 불사, 탑비와 같은 고건물에서 볼 수 있습니다. 그러나 풍압력, 지진력 및 기타 인위적인 힘에는 극히 취약하므로 고층 건물에는 부적합하며 강화된 구조가 요구됩니다.\n"
     ]
    },
    {
     "name": "stderr",
     "output_type": "stream",
     "text": [
      " 43%|█████████████████████████████████████████████████████████████████████████▏                                                                                                | 56/130 [09:44<11:19,  9.19s/it]The attention mask and the pad token id were not set. As a consequence, you may observe unexpected behavior. Please pass your input's `attention_mask` to obtain reliable results.\n",
      "Setting `pad_token_id` to `eos_token_id`:30003 for open-end generation.\n",
      "A decoder-only architecture is being used, but right-padding was detected! For correct generation results, please set `padding_side='left'` when initializing the tokenizer.\n"
     ]
    },
    {
     "name": "stdout",
     "output_type": "stream",
     "text": [
      "원목마루의 단점은 주로 비용 측면에서 언급됩니다. 원목마루는 다른 바닥재에 비해 비용이 비싸며, 특히 실내 습기나 온습도 변화에 쉽게 영향을 받기 때문에 유지 보수 비용도 높을 수 있습니다. 또한, 원목은 특히 습기에 민감하기 때문에 습기에 노출될 경우 변형이나 손상의 우려가 있습니다. 따라서 실내 환경이나 예산 등을 고려할 때 원목마루를 선택할 때 고려해야 하는 단점들입니다.\n"
     ]
    },
    {
     "name": "stderr",
     "output_type": "stream",
     "text": [
      " 44%|██████████████████████████████████████████████████████████████████████████▌                                                                                               | 57/130 [09:55<11:41,  9.62s/it]The attention mask and the pad token id were not set. As a consequence, you may observe unexpected behavior. Please pass your input's `attention_mask` to obtain reliable results.\n",
      "Setting `pad_token_id` to `eos_token_id`:30003 for open-end generation.\n",
      "A decoder-only architecture is being used, but right-padding was detected! For correct generation results, please set `padding_side='left'` when initializing the tokenizer.\n"
     ]
    },
    {
     "name": "stdout",
     "output_type": "stream",
     "text": [
      "마감재의 하자는 여부를 판단하기 위해서는 몇 가지 요소를 고려해야 합니다. 첫째로는 설계도서와의 일치 여부가 있습니다. 마감재가 설계도서에 명시된 내용과 일치하는지 확인해야 합니다. 둘째로는 기능상의 문제, 예를 들어 마감재가 쉽게 파손되거나 사용상의 문제가 있는지를 확인해야 합니다. 그 다음으로는 미관상의 문제 여부도 중요합니다. 마감재의 외관이나 마감재들 간의 조화가 보존적인 측면에서 좋은지도 고려해야 합니다. 마지막으로, 안전상의 문제 여부도 마감재가 안전에 영향을 미치는 문제인지 확인해야 합니다. 이러한 다양한 요소를 종합적으로 고려하여 마감재의 하자 여부를 판단해야 합니다.\n"
     ]
    },
    {
     "name": "stderr",
     "output_type": "stream",
     "text": [
      " 45%|███████████████████████████████████████████████████████████████████████████▊                                                                                              | 58/130 [09:58<09:14,  7.70s/it]The attention mask and the pad token id were not set. As a consequence, you may observe unexpected behavior. Please pass your input's `attention_mask` to obtain reliable results.\n",
      "Setting `pad_token_id` to `eos_token_id`:30003 for open-end generation.\n",
      "A decoder-only architecture is being used, but right-padding was detected! For correct generation results, please set `padding_side='left'` when initializing the tokenizer.\n"
     ]
    },
    {
     "name": "stdout",
     "output_type": "stream",
     "text": [
      "강마루는 내구성이 뛰어나고 다양한 디자인으로 공간을 꾸밀 수 있으며 유지보수가 쉽다는 점이 장점입니다. 또한 열 전도율이 높아 난방 효과가 우수하고 소음 발생이 적다는 특징도 갖고 있습니다.\n"
     ]
    },
    {
     "name": "stderr",
     "output_type": "stream",
     "text": [
      " 45%|█████████████████████████████████████████████████████████████████████████████▏                                                                                            | 59/130 [10:10<10:32,  8.91s/it]The attention mask and the pad token id were not set. As a consequence, you may observe unexpected behavior. Please pass your input's `attention_mask` to obtain reliable results.\n",
      "Setting `pad_token_id` to `eos_token_id`:30003 for open-end generation.\n",
      "A decoder-only architecture is being used, but right-padding was detected! For correct generation results, please set `padding_side='left'` when initializing the tokenizer.\n"
     ]
    },
    {
     "name": "stdout",
     "output_type": "stream",
     "text": [
      "새집증후군은 새로 지은 집에 입주했을 때 이전에 없던 이상 증상이 신체에 나타나는 증후군으로, 그 원인은 휘발성 화학물질에 의한 것입니다. 특히, 주요 원인 물질로는 포름알데히드가 있으며, 이 물질은 주로 방부제나 접착제의 원료로 사용됩니다. 때문에, 새 집에 입주하면서 새로 지은 건물 내에서의 공기 중 포름알데히 드 농도는 위험 수준까지 높아질 수 있으며, 이로 인해 새집증후군 증상이 나타날 수 있습니다. 따라서, 이사를 하기 전에는 실내 난방을 30도 이상으로 8시간 정도 유지하여 휘발성 유기물질을 제거하는 것이 좋습니다. 또한, 창문을 열어 자연 환기를 유도하는 것도 도움이 될 수 있습니다.\n"
     ]
    },
    {
     "name": "stderr",
     "output_type": "stream",
     "text": [
      " 46%|██████████████████████████████████████████████████████████████████████████████▍                                                                                           | 60/130 [10:16<09:22,  8.03s/it]The attention mask and the pad token id were not set. As a consequence, you may observe unexpected behavior. Please pass your input's `attention_mask` to obtain reliable results.\n",
      "Setting `pad_token_id` to `eos_token_id`:30003 for open-end generation.\n",
      "A decoder-only architecture is being used, but right-padding was detected! For correct generation results, please set `padding_side='left'` when initializing the tokenizer.\n"
     ]
    },
    {
     "name": "stdout",
     "output_type": "stream",
     "text": [
      "도배 후 바닥이나 몰딩, 벽지에 붙은 도배풀을 제거하려면 먼저 걸레로 부드럽게 쓸어내야 합니다. 만약 이것만으로 제거되지 않는 경우에는 도배풀 제거제를 사용하여 깨끗하게 닦아내야 합니다. 옷 안에 제거제를 묻힌 후 도배풀이 묻은 부분을 가볍게 문지르고, 다시 걸레로 살짝 닦아내면 됩니다.\n"
     ]
    },
    {
     "name": "stderr",
     "output_type": "stream",
     "text": [
      " 47%|███████████████████████████████████████████████████████████████████████████████▊                                                                                          | 61/130 [10:24<09:18,  8.09s/it]The attention mask and the pad token id were not set. As a consequence, you may observe unexpected behavior. Please pass your input's `attention_mask` to obtain reliable results.\n",
      "Setting `pad_token_id` to `eos_token_id`:30003 for open-end generation.\n",
      "A decoder-only architecture is being used, but right-padding was detected! For correct generation results, please set `padding_side='left'` when initializing the tokenizer.\n"
     ]
    },
    {
     "name": "stdout",
     "output_type": "stream",
     "text": [
      "목구조 방식은 건물의 지탱을 위해 구조물을 배치하는 방식으로, 이 방식은 통나무구조 방식과 유사합니다. 이 방식은 원형 또는 각형의 내력벽으로 구성되며, 나머지 바닥이나 지붕은 2x4 경량 목구조와 유사한 방식으로 조립됩니다. 이 구조는 벽체가 통나무를 쌓는 형태이기 때문에 1층 높이에서 7~12cm 정도의 침하가 발생할 수 있습니다. 따라서 창문틀 등의 개구부에는 침하를 고려한 디테일을 추가하는 것이 좋습니다.\n"
     ]
    },
    {
     "name": "stderr",
     "output_type": "stream",
     "text": [
      " 48%|█████████████████████████████████████████████████████████████████████████████████                                                                                         | 62/130 [10:34<09:47,  8.65s/it]The attention mask and the pad token id were not set. As a consequence, you may observe unexpected behavior. Please pass your input's `attention_mask` to obtain reliable results.\n",
      "Setting `pad_token_id` to `eos_token_id`:30003 for open-end generation.\n",
      "A decoder-only architecture is being used, but right-padding was detected! For correct generation results, please set `padding_side='left'` when initializing the tokenizer.\n"
     ]
    },
    {
     "name": "stdout",
     "output_type": "stream",
     "text": [
      "MSDS(M은 물질안전보건자료로, 화학 물질의 잠재적 위험에 대한 정보를 담은 문서를 말합니다. 이는 물질의 유해성, 위험성, 응급조치요령, 취급 방법 등을 설명하며, 사업주는 MSDS를 통해 취급하는 화학물질에 대한 정보를 얻어 관리하며, 근로자는 직업병이나 재해사고로부터 자신을 예방할 수 있습니다. MSDS는 산업안전보건공단, 환경공단, 미국의 OSHA(산업안전보건국)와 같은 규제 기관에서 요구하는 것으로, 각 국가마다 MSDS 양식이 다르지만, 최근에는 전세계가 동일한 양식과 체계의 MSDS를 사용하고 있습니다.\n"
     ]
    },
    {
     "name": "stderr",
     "output_type": "stream",
     "text": [
      " 48%|██████████████████████████████████████████████████████████████████████████████████▍                                                                                       | 63/130 [10:40<08:54,  7.98s/it]The attention mask and the pad token id were not set. As a consequence, you may observe unexpected behavior. Please pass your input's `attention_mask` to obtain reliable results.\n",
      "Setting `pad_token_id` to `eos_token_id`:30003 for open-end generation.\n",
      "A decoder-only architecture is being used, but right-padding was detected! For correct generation results, please set `padding_side='left'` when initializing the tokenizer.\n"
     ]
    },
    {
     "name": "stdout",
     "output_type": "stream",
     "text": [
      "색상을 선택할 때는 공간의 크기, 채광 상태, 가구의 색상, 그리고 사용 목적과 사용자의 취향을 고려해야 합니다. 또한, 각 색상이 전달하는 감정과 분위기를 고려하여 조화로운 조합을 찾는 것이 중요합니다. 색채심리학을 이용하여 각 색이 주는 감정적 영향을 고려하고, 일상에서의 적용과 조화로운 시각적 효과를 고려하여 색상을 선택하는 것이 좋습니다.\n"
     ]
    },
    {
     "name": "stderr",
     "output_type": "stream",
     "text": [
      " 49%|███████████████████████████████████████████████████████████████████████████████████▋                                                                                      | 64/130 [10:49<09:06,  8.28s/it]The attention mask and the pad token id were not set. As a consequence, you may observe unexpected behavior. Please pass your input's `attention_mask` to obtain reliable results.\n",
      "Setting `pad_token_id` to `eos_token_id`:30003 for open-end generation.\n",
      "A decoder-only architecture is being used, but right-padding was detected! For correct generation results, please set `padding_side='left'` when initializing the tokenizer.\n"
     ]
    },
    {
     "name": "stdout",
     "output_type": "stream",
     "text": [
      "라돈은 자연적으로 발생하는 기체 상태의 방사성 물질로, 건물 내부의 공기질 측정을 위해 사용되는 것이 일반적입니다. 이러한 종류의 물질은 공기 중에 농도가 높은 경우에도 측정이 가능하며, 공동주택의 총 세대수가 100세대일 때 3세대를 측정하고, 이후 100세대가 증가할 때마다 1세대씩 추가하여 최대 12세대까지 시료를 채취할 수 있습니다.\n"
     ]
    },
    {
     "name": "stderr",
     "output_type": "stream",
     "text": [
      " 50%|█████████████████████████████████████████████████████████████████████████████████████                                                                                     | 65/130 [10:59<09:22,  8.66s/it]The attention mask and the pad token id were not set. As a consequence, you may observe unexpected behavior. Please pass your input's `attention_mask` to obtain reliable results.\n",
      "Setting `pad_token_id` to `eos_token_id`:30003 for open-end generation.\n",
      "A decoder-only architecture is being used, but right-padding was detected! For correct generation results, please set `padding_side='left'` when initializing the tokenizer.\n"
     ]
    },
    {
     "name": "stdout",
     "output_type": "stream",
     "text": [
      "새집증후군을 예방하기 위해서는 몇 가지 주의사항을 준수해야 합니다. 먼저, 자재로는 언뜻보기에는 화려해 보이지만 인공적인 화학물질을 포함하고 있는 것보다는 천연 소재를 사용하는 것이 좋습니다. 그리고 창문을 열어 실내에 공기가 자유롭게 흐를 수 있도록 하는 것이 중요합니다. 또한, 새로 이사를 하기 전에는 실내를 30도 이상으로 온도를 올려 8시간 이상 유지하여 휘발성 유기물질을 제거하는 것이 도움이 될 수 있습니다. 추가적으로, 공기 청정기를 사용하거나 베란다에 식물을 배치하여 쾌적한 실내 환경 조성에 도움을 줄 수 있습니다.\n"
     ]
    },
    {
     "name": "stderr",
     "output_type": "stream",
     "text": [
      " 51%|██████████████████████████████████████████████████████████████████████████████████████▎                                                                                   | 66/130 [11:05<08:22,  7.86s/it]The attention mask and the pad token id were not set. As a consequence, you may observe unexpected behavior. Please pass your input's `attention_mask` to obtain reliable results.\n",
      "Setting `pad_token_id` to `eos_token_id`:30003 for open-end generation.\n",
      "A decoder-only architecture is being used, but right-padding was detected! For correct generation results, please set `padding_side='left'` when initializing the tokenizer.\n"
     ]
    },
    {
     "name": "stdout",
     "output_type": "stream",
     "text": [
      "질석벽지는 운모계 광석을 가열하여 나온 결정 조각을 종이 위에 뿌려 접착하여 만든 벽지입니다. 질감이 풍부하여 아트월, 현관 입구 등에 많이 사용되며, 단열과 결로방지 기능이 뛰어나고 고급스러운 질감이 특징입니다. 다만, 가격이 비싸고 시공 및 유지보수가 어려운 단점이 있습니다.\n"
     ]
    },
    {
     "name": "stderr",
     "output_type": "stream",
     "text": [
      " 52%|███████████████████████████████████████████████████████████████████████████████████████▌                                                                                  | 67/130 [11:10<07:29,  7.13s/it]The attention mask and the pad token id were not set. As a consequence, you may observe unexpected behavior. Please pass your input's `attention_mask` to obtain reliable results.\n",
      "Setting `pad_token_id` to `eos_token_id`:30003 for open-end generation.\n",
      "A decoder-only architecture is being used, but right-padding was detected! For correct generation results, please set `padding_side='left'` when initializing the tokenizer.\n"
     ]
    },
    {
     "name": "stdout",
     "output_type": "stream",
     "text": [
      "도배지 꼬임의 하나의 가능한 원인으로 석고보드가 이동하는 상황이 있을 수 있습니다. 석고보드의 이동은 도배지 꼬임을 야기할 수 있으며, 이 경우 하자 부분의 도배지를 제거하고 퍼티 및 샌딩 작업을 거친 후 재시공을 해야 합니다. 이러한 작업은 전문가의 도움을 받는 것이 좋습니다.\n"
     ]
    },
    {
     "name": "stderr",
     "output_type": "stream",
     "text": [
      " 52%|████████████████████████████████████████████████████████████████████████████████████████▉                                                                                 | 68/130 [11:30<11:05, 10.74s/it]The attention mask and the pad token id were not set. As a consequence, you may observe unexpected behavior. Please pass your input's `attention_mask` to obtain reliable results.\n",
      "Setting `pad_token_id` to `eos_token_id`:30003 for open-end generation.\n",
      "A decoder-only architecture is being used, but right-padding was detected! For correct generation results, please set `padding_side='left'` when initializing the tokenizer.\n"
     ]
    },
    {
     "name": "stdout",
     "output_type": "stream",
     "text": [
      "폴리에스터 흡음 단열재는 폴리에스테르 섬유를 적층하여 열 융착한 단열재로, 일반형, 가공형, 타일형 등 다양한 형태와 디자인으로 제공됩니다. 이 제품은 환경표지인증(한국환경산업기술원), 친환경건축자재(한국공기청정협회), 우수재활용제품(GR인증) 등의 다양한 인증을 받고 있습니다.\n"
     ]
    },
    {
     "name": "stderr",
     "output_type": "stream",
     "text": [
      " 53%|██████████████████████████████████████████████████████████████████████████████████████████▏                                                                               | 69/130 [11:36<09:32,  9.38s/it]The attention mask and the pad token id were not set. As a consequence, you may observe unexpected behavior. Please pass your input's `attention_mask` to obtain reliable results.\n",
      "Setting `pad_token_id` to `eos_token_id`:30003 for open-end generation.\n",
      "A decoder-only architecture is being used, but right-padding was detected! For correct generation results, please set `padding_side='left'` when initializing the tokenizer.\n"
     ]
    },
    {
     "name": "stdout",
     "output_type": "stream",
     "text": [
      "도배 후 완전 건조되기 전까지는 일반적으로 도배지가 완전히 건조되지 않았을 수 있습니다. 제조사 권장 건조시간(보통 일주일) 동안 기다려야 하며, 건조 기간 동안에는 온도와 습도를 꾸준히 관리해야 합니다. 일주일 후에도 울음이 계속된다면 시공사에 연락하여 전문적인 진단과 조치를 받아야 합니다.\n"
     ]
    },
    {
     "name": "stderr",
     "output_type": "stream",
     "text": [
      " 54%|███████████████████████████████████████████████████████████████████████████████████████████▌                                                                              | 70/130 [11:39<07:31,  7.53s/it]The attention mask and the pad token id were not set. As a consequence, you may observe unexpected behavior. Please pass your input's `attention_mask` to obtain reliable results.\n",
      "Setting `pad_token_id` to `eos_token_id`:30003 for open-end generation.\n",
      "A decoder-only architecture is being used, but right-padding was detected! For correct generation results, please set `padding_side='left'` when initializing the tokenizer.\n"
     ]
    },
    {
     "name": "stdout",
     "output_type": "stream",
     "text": [
      "내단열 방식은 실내에서 작업하기에 날씨영향을 덜받으며 공사비, 재료비, 인건비가 적게 들고 외부벽체와 직접 닿지 않기 때문에 열교 현상을 줄일 수 있다는 장점이 있습니다.\n"
     ]
    },
    {
     "name": "stderr",
     "output_type": "stream",
     "text": [
      " 55%|████████████████████████████████████████████████████████████████████████████████████████████▊                                                                             | 71/130 [11:47<07:25,  7.55s/it]The attention mask and the pad token id were not set. As a consequence, you may observe unexpected behavior. Please pass your input's `attention_mask` to obtain reliable results.\n",
      "Setting `pad_token_id` to `eos_token_id`:30003 for open-end generation.\n",
      "A decoder-only architecture is being used, but right-padding was detected! For correct generation results, please set `padding_side='left'` when initializing the tokenizer.\n"
     ]
    },
    {
     "name": "stdout",
     "output_type": "stream",
     "text": [
      "도배지의 절단 부위가 구조물에 비해 과소하게 절단되거나, 부착된 경우에는 장력을 이기지 못하고 찢어질 수 있습니다. 따라서 절단 부위의 크기를 적절히 유지하여 도배지가 튼튼하게 고정될 수 있도록 해야 합니다. 이를 통해 도배지가 강도를 유지하고 잘 고정되어 찢어짐을 방지할 수 있습니다.\n"
     ]
    },
    {
     "name": "stderr",
     "output_type": "stream",
     "text": [
      " 55%|██████████████████████████████████████████████████████████████████████████████████████████████▏                                                                           | 72/130 [11:50<06:02,  6.25s/it]The attention mask and the pad token id were not set. As a consequence, you may observe unexpected behavior. Please pass your input's `attention_mask` to obtain reliable results.\n",
      "Setting `pad_token_id` to `eos_token_id`:30003 for open-end generation.\n",
      "A decoder-only architecture is being used, but right-padding was detected! For correct generation results, please set `padding_side='left'` when initializing the tokenizer.\n"
     ]
    },
    {
     "name": "stdout",
     "output_type": "stream",
     "text": [
      "면진장치는 건물의 지반으로부터 오는 진동 에너지를 흡수하여 건물에 전달되는 진동을 최소화해 주는 진동 격리장치입니다. 이를 통해 건물 내부의 진동을 줄이고 안정성을 유지하는 데 도움을 줍니다.\n"
     ]
    },
    {
     "name": "stderr",
     "output_type": "stream",
     "text": [
      " 56%|███████████████████████████████████████████████████████████████████████████████████████████████▍                                                                          | 73/130 [11:57<06:16,  6.60s/it]The attention mask and the pad token id were not set. As a consequence, you may observe unexpected behavior. Please pass your input's `attention_mask` to obtain reliable results.\n",
      "Setting `pad_token_id` to `eos_token_id`:30003 for open-end generation.\n",
      "A decoder-only architecture is being used, but right-padding was detected! For correct generation results, please set `padding_side='left'` when initializing the tokenizer.\n"
     ]
    },
    {
     "name": "stdout",
     "output_type": "stream",
     "text": [
      "페인트 상도 재질은 최종 마감으로 칠하는 페인트로, 영어로는 Top Coating이라고 합니다. 상도재는 하도재와 주도재의 제품을 보호하는 역할을 담당하며, 외부 표면에 노출될 때의 열 및 기후에 강하며 내구성이 높은 특징을 가지고 있습니다. 이러한 장점 때문에 가격이 다소 비쌉니다.\n"
     ]
    },
    {
     "name": "stderr",
     "output_type": "stream",
     "text": [
      " 57%|████████████████████████████████████████████████████████████████████████████████████████████████▊                                                                         | 74/130 [12:17<09:58, 10.69s/it]The attention mask and the pad token id were not set. As a consequence, you may observe unexpected behavior. Please pass your input's `attention_mask` to obtain reliable results.\n",
      "Setting `pad_token_id` to `eos_token_id`:30003 for open-end generation.\n",
      "A decoder-only architecture is being used, but right-padding was detected! For correct generation results, please set `padding_side='left'` when initializing the tokenizer.\n"
     ]
    },
    {
     "name": "stdout",
     "output_type": "stream",
     "text": [
      "경질우레탄 폼은 폴리소시아노레이트(Polyisocyanurate, PIR)를 단열소재로 사용하여 기존 폴리우레탄(Polyurethane, PUR)의 장점을 유지하면서 자기 소화성, 내열성, 저연성 등이 개선된 특징을 가지고 있습니다. 이러한 특성으로 인해 경질우레탄 폼은 작은 두께로도 건축물의 에너지 절약 설계를 충족하며 열전도를 완벽하게 차단합니다.  또한, 이 보온판은 난연성 재료이나 난연3급에 대한 시험성적서를 제공하지는 못하지만, 준불연 시험성능에 만족하는 준불연 경질우레탄 폼페인트가 따로 개발되었습니다.\n"
     ]
    },
    {
     "name": "stderr",
     "output_type": "stream",
     "text": [
      " 58%|██████████████████████████████████████████████████████████████████████████████████████████████████                                                                        | 75/130 [12:21<07:52,  8.60s/it]The attention mask and the pad token id were not set. As a consequence, you may observe unexpected behavior. Please pass your input's `attention_mask` to obtain reliable results.\n",
      "Setting `pad_token_id` to `eos_token_id`:30003 for open-end generation.\n",
      "A decoder-only architecture is being used, but right-padding was detected! For correct generation results, please set `padding_side='left'` when initializing the tokenizer.\n"
     ]
    },
    {
     "name": "stdout",
     "output_type": "stream",
     "text": [
      "상도작업은 건조가 완료된 방청도료(흰색 미분물) 위에 사용자가 원하는 색상의 성분인 에나멜이나 조합페인트 등으로 마무리하는 작업입니다. 이를 통해 마감재의 색상과 질감을 조절하여 원하는 외관을 만들 수 있습니다.\n"
     ]
    },
    {
     "name": "stderr",
     "output_type": "stream",
     "text": [
      " 58%|███████████████████████████████████████████████████████████████████████████████████████████████████▍                                                                      | 76/130 [12:53<14:06, 15.67s/it]The attention mask and the pad token id were not set. As a consequence, you may observe unexpected behavior. Please pass your input's `attention_mask` to obtain reliable results.\n",
      "Setting `pad_token_id` to `eos_token_id`:30003 for open-end generation.\n",
      "A decoder-only architecture is being used, but right-padding was detected! For correct generation results, please set `padding_side='left'` when initializing the tokenizer.\n"
     ]
    },
    {
     "name": "stdout",
     "output_type": "stream",
     "text": [
      "도배지의 끝 부분이 들뜨는 경우, 들뜸 현상이 발생하는 원인과 책임소재, 그리고 해결 방법에 대해 설명드리겠습니다.  1. 공간 내 높은 습도 원인 : 높은 습도로 인해 도배지의 표면이 젖게 되면, 다양한 물질이 흡수되어 접착력이 감소할 수 있습니다. 책임 소재 : 건물의 소유자나 거주자가 습기를 관리하는 책임이 있습니다. 해결 방법 : 제습기 가동, 환기를 통해 실내 적정 습도를 유지하고 전문가의 도움을 받아 보수작업하는 것을 추천합니다.  2. 벽면의손상(불균형) 원인 : 벽면에 손상이 있을 경우 손상된 벽을 통해 습기가 유입하는 등의 원인으로 인해 들뜸현상이 발생할 가능성이 있습니다. 책임소재 : 벽면에 손상을 방생시킨 주체가 책임을 집니다. 해결 방법 : 벽면을 제대로 복원하고 평평하게 균형을 맞춘 후 재작업 해야 합니다. 해당 작업은 개인이 하기 어려우니 전문가의 도움을 받는 것을 권장합니다.  3. 불안정한 온도 원인 : 온도의 큰 변화는 도배지의 팽창과 수축을 유발하고 접착제의 안정성에도 영향을 미쳐 도배지 들뜸 현상을 발생시킵니다. 책임소재 : 거주자가 온도 관리에 책임이 있으며, 적정온도를 유지하기 위해 난방 및 냉방을 적절히 해야 합니다. 해결 방법 : 냉열기를 가동하여 내외부의 온도차를 줄이고, 제습기를 가동하여 습도를 낮춰야 합니다. 또한, 필요에 따라 단열재를 보강하여 온도차를 줄이는 것을 고려해야 합니다.  이러한 원인들을 고려하여 적절한 보수 및 처리가 필요합니다.\n"
     ]
    },
    {
     "name": "stderr",
     "output_type": "stream",
     "text": [
      " 59%|████████████████████████████████████████████████████████████████████████████████████████████████████▋                                                                     | 77/130 [13:02<11:57, 13.53s/it]The attention mask and the pad token id were not set. As a consequence, you may observe unexpected behavior. Please pass your input's `attention_mask` to obtain reliable results.\n",
      "Setting `pad_token_id` to `eos_token_id`:30003 for open-end generation.\n",
      "A decoder-only architecture is being used, but right-padding was detected! For correct generation results, please set `padding_side='left'` when initializing the tokenizer.\n"
     ]
    },
    {
     "name": "stdout",
     "output_type": "stream",
     "text": [
      "실내공기의 측정은 일반적으로 사무실 내 공기질이 가장 나쁜 것으로 지적되고 있습니다. 또한, 사무실 내 습도가 높을 경우 도배지의 끝부분이 들뜰 수 있어?\n"
     ]
    },
    {
     "name": "stderr",
     "output_type": "stream",
     "text": [
      " 60%|██████████████████████████████████████████████████████████████████████████████████████████████████████                                                                    | 78/130 [13:09<10:01, 11.57s/it]The attention mask and the pad token id were not set. As a consequence, you may observe unexpected behavior. Please pass your input's `attention_mask` to obtain reliable results.\n",
      "Setting `pad_token_id` to `eos_token_id`:30003 for open-end generation.\n",
      "A decoder-only architecture is being used, but right-padding was detected! For correct generation results, please set `padding_side='left'` when initializing the tokenizer.\n"
     ]
    },
    {
     "name": "stdout",
     "output_type": "stream",
     "text": [
      "도배지에 얼룩이 발생하는 이유는 높은 습도 때문입니다. 높은 습도가 지속되면 도배지의 표면이 젖어 다양한 물질이 흡수되어 표면에 얼룩 형태로 나타날 수 있습니다. 이에 대비하여 실내의 습도를 적절히 관리하는 것이 중요합니다. 제습기를 가동하거나 환기를 통해 적정한 습도를 유지하는 것이 도배지의 표면을 보호하고 얼룩을 지우는 데 도움이 될 수 있습니다.\n"
     ]
    },
    {
     "name": "stderr",
     "output_type": "stream",
     "text": [
      " 61%|███████████████████████████████████████████████████████████████████████████████████████████████████████▎                                                                  | 79/130 [13:15<08:30, 10.02s/it]The attention mask and the pad token id were not set. As a consequence, you may observe unexpected behavior. Please pass your input's `attention_mask` to obtain reliable results.\n",
      "Setting `pad_token_id` to `eos_token_id`:30003 for open-end generation.\n",
      "A decoder-only architecture is being used, but right-padding was detected! For correct generation results, please set `padding_side='left'` when initializing the tokenizer.\n"
     ]
    },
    {
     "name": "stdout",
     "output_type": "stream",
     "text": [
      "대리석 타일은 일반적으로 실내 온도를 조절하는 데 사용되며, 열전도율이 높아 난방 효과를 향상시키는 데 도움이 됩니다. 이는 대리석 타일이 내구성이 뛰어나고 균일한 크기와 모양으로 시공되어 있어 공간을 효율적으로 활용할 수 있기 때문입니다. 또한, 대리석 타일은 수분에 강하고 내구성이 뛰어나며 청소가 쉬운 장점이 있습니다.\n"
     ]
    },
    {
     "name": "stderr",
     "output_type": "stream",
     "text": [
      " 62%|████████████████████████████████████████████████████████████████████████████████████████████████████████▌                                                                 | 80/130 [13:23<07:43,  9.27s/it]The attention mask and the pad token id were not set. As a consequence, you may observe unexpected behavior. Please pass your input's `attention_mask` to obtain reliable results.\n",
      "Setting `pad_token_id` to `eos_token_id`:30003 for open-end generation.\n",
      "A decoder-only architecture is being used, but right-padding was detected! For correct generation results, please set `padding_side='left'` when initializing the tokenizer.\n"
     ]
    },
    {
     "name": "stdout",
     "output_type": "stream",
     "text": [
      "외단열 시공은 건물 내부의 온도 변화를 외부의 기후 환경에 좀 더 견고하게 맞출 수 있는 것이 장점입니다. 이로써 냉난방비를 절감할 수 있으며, 결로와 곰팡이 등의 하자 발생도 줄일 수 있습니다. 그러나 외단열 시공은 열교로 인한 결로현상이 발생할 수 있고, 또한 내단열 시공에 비해 상대적으로 가격이 더 비싸다는 점이 단점으로 꼽힙니다.\n"
     ]
    },
    {
     "name": "stderr",
     "output_type": "stream",
     "text": [
      " 62%|█████████████████████████████████████████████████████████████████████████████████████████████████████████▉                                                                | 81/130 [13:29<06:43,  8.24s/it]The attention mask and the pad token id were not set. As a consequence, you may observe unexpected behavior. Please pass your input's `attention_mask` to obtain reliable results.\n",
      "Setting `pad_token_id` to `eos_token_id`:30003 for open-end generation.\n",
      "A decoder-only architecture is being used, but right-padding was detected! For correct generation results, please set `padding_side='left'` when initializing the tokenizer.\n"
     ]
    },
    {
     "name": "stdout",
     "output_type": "stream",
     "text": [
      "스탠드 조명은 이동이 가능한 조명으로, 필요에 따라 자유롭게 위치를 변경할 수 있는 휴대용 조명입니다. 주로 실내 공간에서 사용되며, 조명 기능 뿐만 아니라 소품으로서의 역할 또한 함께 합니다. 다양한 디자인으로 제공되며, 이동성이 좋은 것이 장점이지만 작은 공간에는 부적합하며, 불안정하게 설치할 경우 파손될 수 있는 단점도 있습니다.\n"
     ]
    },
    {
     "name": "stderr",
     "output_type": "stream",
     "text": [
      " 63%|███████████████████████████████████████████████████████████████████████████████████████████████████████████▏                                                              | 82/130 [13:35<06:13,  7.78s/it]The attention mask and the pad token id were not set. As a consequence, you may observe unexpected behavior. Please pass your input's `attention_mask` to obtain reliable results.\n",
      "Setting `pad_token_id` to `eos_token_id`:30003 for open-end generation.\n",
      "A decoder-only architecture is being used, but right-padding was detected! For correct generation results, please set `padding_side='left'` when initializing the tokenizer.\n"
     ]
    },
    {
     "name": "stdout",
     "output_type": "stream",
     "text": [
      "실크벽지에서 얼룩을 지우는 방법은 먼저 부드러운 천에 따뜻한 물을 조금 묻힌 후 얼룩을 가볍게 닦아보세요. 만약 얼룩이 지워지지 않는다면 중성세제나 알코올을 이용하여 얼룩을 제거할 수 있습니다. 하지만, 얼룩이 더욱 심각한 경우 실크벽지를 교체하거나 전문가의 도움을 받는 것이 좋습니다. 왜냐하면 실크벽지는 민감한 소재이기 때문에 무리하게 처리할 경우 손상을 입을 수 있기 때문입니다.\n"
     ]
    },
    {
     "name": "stderr",
     "output_type": "stream",
     "text": [
      " 64%|████████████████████████████████████████████████████████████████████████████████████████████████████████████▌                                                             | 83/130 [13:43<05:59,  7.65s/it]The attention mask and the pad token id were not set. As a consequence, you may observe unexpected behavior. Please pass your input's `attention_mask` to obtain reliable results.\n",
      "Setting `pad_token_id` to `eos_token_id`:30003 for open-end generation.\n",
      "A decoder-only architecture is being used, but right-padding was detected! For correct generation results, please set `padding_side='left'` when initializing the tokenizer.\n"
     ]
    },
    {
     "name": "stdout",
     "output_type": "stream",
     "text": [
      "차음재의 다양한 종류에 따라 차음 성능이 다를 수 있습니다. 일반적으로 차음재는 소리를 흡수하거나 반사하는 역할을 합니다. 이는 재료의 종류, 취부 방법, 구조 등에 따라 차이가 있을 수 있습니다.\n"
     ]
    },
    {
     "name": "stderr",
     "output_type": "stream",
     "text": [
      " 65%|█████████████████████████████████████████████████████████████████████████████████████████████████████████████▊                                                            | 84/130 [13:49<05:38,  7.36s/it]The attention mask and the pad token id were not set. As a consequence, you may observe unexpected behavior. Please pass your input's `attention_mask` to obtain reliable results.\n",
      "Setting `pad_token_id` to `eos_token_id`:30003 for open-end generation.\n",
      "A decoder-only architecture is being used, but right-padding was detected! For correct generation results, please set `padding_side='left'` when initializing the tokenizer.\n"
     ]
    },
    {
     "name": "stdout",
     "output_type": "stream",
     "text": [
      "라돈을 제외한 공동주택의 실내공기질 측정지점은 일반적으로 100세대일 때 3개 세대(저층부, 중층부, 고층부)를 기본으로 채취합니다. 그리고 100세대가 늘어날 때마다 1세대씩 추가하여 최대 20세대까지 측정지점을 확대합니다. 이때 중층부, 저층부, 고층부 순서로 추가하게 됩니다. 따라서 다양한 위치의 가구와 가전제품 등에 의한 영향을 반영하여 실내공기질 측정이 이루어지게 됩니다.\n"
     ]
    },
    {
     "name": "stderr",
     "output_type": "stream",
     "text": [
      " 65%|███████████████████████████████████████████████████████████████████████████████████████████████████████████████▏                                                          | 85/130 [13:57<05:28,  7.31s/it]The attention mask and the pad token id were not set. As a consequence, you may observe unexpected behavior. Please pass your input's `attention_mask` to obtain reliable results.\n",
      "Setting `pad_token_id` to `eos_token_id`:30003 for open-end generation.\n",
      "A decoder-only architecture is being used, but right-padding was detected! For correct generation results, please set `padding_side='left'` when initializing the tokenizer.\n"
     ]
    },
    {
     "name": "stdout",
     "output_type": "stream",
     "text": [
      "실크벽지를 사용하는 경우, 얼룩을 지우는 방법은 먼저 부드러운 천에 따뜻한 물을 조금 묻힌 후 얼룩을 가볍게 닦아보세요. 만약 얼룩이 지워지지 않는다면 중성세제나 알코올을 이용하여 얼룩을 제거할 수 있습니다. 하지만, 얼룩이 더욱 심각한 경우 실크벽지를 교체하거나 전문가의 도움을 받는 것이 좋습니다. 왜냐하면 실크벽지는 민감한 소재이기 때문에 무리하게 처리할 경우 손상을 입을 수 있기 때문입니다.\n"
     ]
    },
    {
     "name": "stderr",
     "output_type": "stream",
     "text": [
      " 66%|████████████████████████████████████████████████████████████████████████████████████████████████████████████████▍                                                         | 86/130 [14:08<06:20,  8.64s/it]The attention mask and the pad token id were not set. As a consequence, you may observe unexpected behavior. Please pass your input's `attention_mask` to obtain reliable results.\n",
      "Setting `pad_token_id` to `eos_token_id`:30003 for open-end generation.\n",
      "A decoder-only architecture is being used, but right-padding was detected! For correct generation results, please set `padding_side='left'` when initializing the tokenizer.\n"
     ]
    },
    {
     "name": "stdout",
     "output_type": "stream",
     "text": [
      "페인트를 처리하는 방법은 다음과 같습니다. 1. 피도면 정리: 방청 페인트를 도장하기 전에 페인트를 도장할 표면을 청소하고 평탄하게 다듬어 줍니다. 먼지나 오염물을 제거하고, 필요하다면 균열이나 결점을 보수합니다. 2. 방청 페인트 도장: 표면을 광택이 없는 상태로 만들고 나서 첫 번째 층의 방청 페인트를 도장합니다. 방청 페인트는 스프레이를 사용하여 균일하게 도포해야 하며, 각 층이 건조한 후에 다음 층이 도장됩니다. 3. 상도 페인트 도장: 방청 페인트의 도포가 완전히 끝난 후에 마지막으로 상도 페인트를 칠합니다. 이는 페인트의 내구성과 광택을 높이기 위한 작업으로, 페인트의 표면을 매끈하고 광택있게 마무리해 줍니다.\n"
     ]
    },
    {
     "name": "stderr",
     "output_type": "stream",
     "text": [
      " 67%|█████████████████████████████████████████████████████████████████████████████████████████████████████████████████▊                                                        | 87/130 [14:12<05:06,  7.14s/it]The attention mask and the pad token id were not set. As a consequence, you may observe unexpected behavior. Please pass your input's `attention_mask` to obtain reliable results.\n",
      "Setting `pad_token_id` to `eos_token_id`:30003 for open-end generation.\n",
      "A decoder-only architecture is being used, but right-padding was detected! For correct generation results, please set `padding_side='left'` when initializing the tokenizer.\n"
     ]
    },
    {
     "name": "stdout",
     "output_type": "stream",
     "text": [
      "건설은 건축과 토목의 총칭으로 건축물 또는 기반시설을 건설하는 프로세스와 관련된 모든 활동을 포함합니다. 이는 건물을 짓거나 만들거나 하는 것부터 도로, 다리, 터널, 댐 등의 토목구조물을 건설하는 과정을 의미합니다.\n"
     ]
    },
    {
     "name": "stderr",
     "output_type": "stream",
     "text": [
      " 68%|███████████████████████████████████████████████████████████████████████████████████████████████████████████████████                                                       | 88/130 [14:16<04:17,  6.14s/it]The attention mask and the pad token id were not set. As a consequence, you may observe unexpected behavior. Please pass your input's `attention_mask` to obtain reliable results.\n",
      "Setting `pad_token_id` to `eos_token_id`:30003 for open-end generation.\n",
      "A decoder-only architecture is being used, but right-padding was detected! For correct generation results, please set `padding_side='left'` when initializing the tokenizer.\n"
     ]
    },
    {
     "name": "stdout",
     "output_type": "stream",
     "text": [
      "제진구조란 지진이 발생했을 때 건물이 받게 되는 지진의 영향을 최소화하기 위해 설치된 시스템을 말합니다. 이러한 구조는 지진의 역학적 힘을 흡수하고 건물을 보호하여, 지진으로 인한 피해를 최소화하는 데 사용됩니다.\n"
     ]
    },
    {
     "name": "stderr",
     "output_type": "stream",
     "text": [
      " 68%|████████████████████████████████████████████████████████████████████████████████████████████████████████████████████▍                                                     | 89/130 [14:27<05:08,  7.52s/it]The attention mask and the pad token id were not set. As a consequence, you may observe unexpected behavior. Please pass your input's `attention_mask` to obtain reliable results.\n",
      "Setting `pad_token_id` to `eos_token_id`:30003 for open-end generation.\n",
      "A decoder-only architecture is being used, but right-padding was detected! For correct generation results, please set `padding_side='left'` when initializing the tokenizer.\n"
     ]
    },
    {
     "name": "stdout",
     "output_type": "stream",
     "text": [
      "작은 공간의 경우, 원목사이딩의 단점은 주로 가격대가 높고 관리가 어렵다는 점입니다. 또한 습기에 약해 뒤틀림, 부서짐, 수축 및 팽창이 발생할 수 있다는 점도 단점으로 꼽힙니다.\n"
     ]
    },
    {
     "name": "stderr",
     "output_type": "stream",
     "text": [
      " 69%|█████████████████████████████████████████████████████████████████████████████████████████████████████████████████████▋                                                    | 90/130 [14:31<04:22,  6.55s/it]The attention mask and the pad token id were not set. As a consequence, you may observe unexpected behavior. Please pass your input's `attention_mask` to obtain reliable results.\n",
      "Setting `pad_token_id` to `eos_token_id`:30003 for open-end generation.\n",
      "A decoder-only architecture is being used, but right-padding was detected! For correct generation results, please set `padding_side='left'` when initializing the tokenizer.\n"
     ]
    },
    {
     "name": "stdout",
     "output_type": "stream",
     "text": [
      "알루미늄징크는 독특한 디자인과 다양한 색상으로 마감할 수 있어서 시각적으로 매력적이며, 오랜 기간이 지나도 변색이나 부식이 거의 없는 것이 장점입니다. 또한 가벼우면서도 내구성이 뛰어나고, 비교적 저렴한 비용으로 사용할 수 있다는 점도 매력적입니다.\n"
     ]
    },
    {
     "name": "stderr",
     "output_type": "stream",
     "text": [
      " 70%|██████████████████████████████████████████████████████████████████████████████████████████████████████████████████████▉                                                   | 91/130 [14:35<03:53,  5.98s/it]The attention mask and the pad token id were not set. As a consequence, you may observe unexpected behavior. Please pass your input's `attention_mask` to obtain reliable results.\n",
      "Setting `pad_token_id` to `eos_token_id`:30003 for open-end generation.\n",
      "A decoder-only architecture is being used, but right-padding was detected! For correct generation results, please set `padding_side='left'` when initializing the tokenizer.\n"
     ]
    },
    {
     "name": "stdout",
     "output_type": "stream",
     "text": [
      "겨울철 도배 작업은 일반적으로 실내 온도가 일정하게 유지되어야 합니다. 겨울철에는 온도가 낮은 편이며, 이로 인해 도배지의 끝부분이 울퉁불퉁해지는 현상이 발생할 수 있습니다. 따라서 온도를 적절하게 유지하여 도배 작업을 진행하는 것이 중요합니다.\n"
     ]
    },
    {
     "name": "stderr",
     "output_type": "stream",
     "text": [
      " 71%|████████████████████████████████████████████████████████████████████████████████████████████████████████████████████████▎                                                 | 92/130 [14:45<04:26,  7.02s/it]The attention mask and the pad token id were not set. As a consequence, you may observe unexpected behavior. Please pass your input's `attention_mask` to obtain reliable results.\n",
      "Setting `pad_token_id` to `eos_token_id`:30003 for open-end generation.\n",
      "A decoder-only architecture is being used, but right-padding was detected! For correct generation results, please set `padding_side='left'` when initializing the tokenizer.\n"
     ]
    },
    {
     "name": "stdout",
     "output_type": "stream",
     "text": [
      "철골구조는 화재 발생 시 내구성이 약해지며, 이는 건물의 붕괴로 이어질 수 있습니다. 이러한 문제를 해결하기 위한 방법 중 하나는 내화성 구조물을 사용하는 것입니다. 예를 들어, 벽돌, 콘크리트 또는 석고보드와 같은 내화성 자재로 철골을 둘러싸 화재에 의한 파손을 최소화할 수 있습니다. 또한 화재감지 및 화재진압 장치를 설치하여 화재가 발생했을 때의 초기 대응에 대비하는 것도 중요합니다. 더 나아가 철골재의 피해를 최소화하기 위해 화재 대피 및 구조에 대한 교육, 규제 및 점검 프로토콜을 강화하는 것이 필요합니다.\n"
     ]
    },
    {
     "name": "stderr",
     "output_type": "stream",
     "text": [
      " 72%|█████████████████████████████████████████████████████████████████████████████████████████████████████████████████████████▌                                                | 93/130 [14:49<03:47,  6.14s/it]The attention mask and the pad token id were not set. As a consequence, you may observe unexpected behavior. Please pass your input's `attention_mask` to obtain reliable results.\n",
      "Setting `pad_token_id` to `eos_token_id`:30003 for open-end generation.\n",
      "A decoder-only architecture is being used, but right-padding was detected! For correct generation results, please set `padding_side='left'` when initializing the tokenizer.\n"
     ]
    },
    {
     "name": "stdout",
     "output_type": "stream",
     "text": [
      "석구조는 주로 석재로 쌓아 만든 건축물을 의미합니다. 이러한 구조는 주로 궁전, 불사, 탑비와 같은 고건물에서 볼 수 있습니다. 그러나 풍압력, 지진력 및 기타 인위적인 힘에는 극히 취약하므로 고층 건물에는 부적합하며 강화된 구조가 요구됩니다.\n"
     ]
    },
    {
     "name": "stderr",
     "output_type": "stream",
     "text": [
      " 72%|██████████████████████████████████████████████████████████████████████████████████████████████████████████████████████████▉                                               | 94/130 [14:52<03:09,  5.27s/it]The attention mask and the pad token id were not set. As a consequence, you may observe unexpected behavior. Please pass your input's `attention_mask` to obtain reliable results.\n",
      "Setting `pad_token_id` to `eos_token_id`:30003 for open-end generation.\n",
      "A decoder-only architecture is being used, but right-padding was detected! For correct generation results, please set `padding_side='left'` when initializing the tokenizer.\n"
     ]
    },
    {
     "name": "stdout",
     "output_type": "stream",
     "text": [
      "포세린 타일은 시공 방법에 따라 하자 발생률이 높고 오염에 취약하다는 단점이 있습니다. 또한, 표면이 미끄러울 수 있어서 바닥재로 사용할 때 환경에 따라 미끄러질 우려가 있을 수 있습니다.\n"
     ]
    },
    {
     "name": "stderr",
     "output_type": "stream",
     "text": [
      " 73%|████████████████████████████████████████████████████████████████████████████████████████████████████████████████████████████▏                                             | 95/130 [15:10<05:15,  9.01s/it]The attention mask and the pad token id were not set. As a consequence, you may observe unexpected behavior. Please pass your input's `attention_mask` to obtain reliable results.\n",
      "Setting `pad_token_id` to `eos_token_id`:30003 for open-end generation.\n",
      "A decoder-only architecture is being used, but right-padding was detected! For correct generation results, please set `padding_side='left'` when initializing the tokenizer.\n"
     ]
    },
    {
     "name": "stdout",
     "output_type": "stream",
     "text": [
      "욕실을 부드럽게 꾸밀려면 연한 파스텔 컬러, 부드러운 조명, 그리고 자연적인 소재를 활용하세요.\n"
     ]
    },
    {
     "name": "stderr",
     "output_type": "stream",
     "text": [
      " 74%|█████████████████████████████████████████████████████████████████████████████████████████████████████████████████████████████▌                                            | 96/130 [15:16<04:39,  8.22s/it]The attention mask and the pad token id were not set. As a consequence, you may observe unexpected behavior. Please pass your input's `attention_mask` to obtain reliable results.\n",
      "Setting `pad_token_id` to `eos_token_id`:30003 for open-end generation.\n",
      "A decoder-only architecture is being used, but right-padding was detected! For correct generation results, please set `padding_side='left'` when initializing the tokenizer.\n"
     ]
    },
    {
     "name": "stdout",
     "output_type": "stream",
     "text": [
      "팬던트 라이트는 천장으로부터 길게 늘어뜨린 전선에 전구를 부착한 조명으로, 다양한 디자인과 소재로 제공됩니다. 이러한 다채로운 스타일과 소재는 인테리어에 특별한 분위기를 연출하는 데 도움이 됩니다. 또한 팬던트 라이트는 조명의 위치를 심미적으로 조절할 수 있는 장점이 있습니다. 그러나 청소나 전구 교체와 같은 유지 보수가 어렵다는 단점도 있으므로 이 점을 고려하여 선택하시는 것이 좋습니다.\n"
     ]
    },
    {
     "name": "stderr",
     "output_type": "stream",
     "text": [
      " 75%|██████████████████████████████████████████████████████████████████████████████████████████████████████████████████████████████▊                                           | 97/130 [15:25<04:36,  8.37s/it]The attention mask and the pad token id were not set. As a consequence, you may observe unexpected behavior. Please pass your input's `attention_mask` to obtain reliable results.\n",
      "Setting `pad_token_id` to `eos_token_id`:30003 for open-end generation.\n",
      "A decoder-only architecture is being used, but right-padding was detected! For correct generation results, please set `padding_side='left'` when initializing the tokenizer.\n"
     ]
    },
    {
     "name": "stdout",
     "output_type": "stream",
     "text": [
      "속건형 유성발수제는 유성계 발수제로 도장 후 용제가 증발되면서 발수효과를 발휘하는 것을 의미합니다. 이러한 발수제는 보통 용융형 발수제와는 다르게 도장 후 발수 효과가 나타나는 제품으로, 특히 수성 도료와 함께 사용할 때 우수한 발수 성능을 발휘하는 특징을 가지고 있습니다. 이는 건축물의 외벽 또는 콘크리트 표면과 같은 다양한 재료에 사용될 수 있으며, 우수한 방수 특성을 보유하고 있습니다.\n"
     ]
    },
    {
     "name": "stderr",
     "output_type": "stream",
     "text": [
      " 75%|████████████████████████████████████████████████████████████████████████████████████████████████████████████████████████████████▏                                         | 98/130 [15:34<04:29,  8.41s/it]The attention mask and the pad token id were not set. As a consequence, you may observe unexpected behavior. Please pass your input's `attention_mask` to obtain reliable results.\n",
      "Setting `pad_token_id` to `eos_token_id`:30003 for open-end generation.\n",
      "A decoder-only architecture is being used, but right-padding was detected! For correct generation results, please set `padding_side='left'` when initializing the tokenizer.\n"
     ]
    },
    {
     "name": "stdout",
     "output_type": "stream",
     "text": [
      "주방은 식탁이 있는 다이닝 공간과 음식을 조리하는 조리대에 따라 추천하는 조명이 달라집니다. 식탁에는 팬던트 조명을 설치하여 식사하는 사람들 간의 집중도를 높여줄 수 있습니다. 또한, 조리대는 눈에 피로가 없을 정도로 밝게 하는 것이 중요합니다. 적정 조도는 조리 공간은 200lux를 기준으로 150~300lux, 식탁은 100lux를 유지하는 것이 좋습니다.\n"
     ]
    },
    {
     "name": "stderr",
     "output_type": "stream",
     "text": [
      " 76%|█████████████████████████████████████████████████████████████████████████████████████████████████████████████████████████████████▍                                        | 99/130 [15:35<03:18,  6.39s/it]The attention mask and the pad token id were not set. As a consequence, you may observe unexpected behavior. Please pass your input's `attention_mask` to obtain reliable results.\n",
      "Setting `pad_token_id` to `eos_token_id`:30003 for open-end generation.\n",
      "A decoder-only architecture is being used, but right-padding was detected! For correct generation results, please set `padding_side='left'` when initializing the tokenizer.\n"
     ]
    },
    {
     "name": "stdout",
     "output_type": "stream",
     "text": [
      "인테리어에서 벽면에 포스터를 걸 때 주의해야 할 점은 무엇인가요?\n"
     ]
    },
    {
     "name": "stderr",
     "output_type": "stream",
     "text": [
      " 77%|██████████████████████████████████████████████████████████████████████████████████████████████████████████████████████████████████                                       | 100/130 [15:42<03:12,  6.40s/it]The attention mask and the pad token id were not set. As a consequence, you may observe unexpected behavior. Please pass your input's `attention_mask` to obtain reliable results.\n",
      "Setting `pad_token_id` to `eos_token_id`:30003 for open-end generation.\n",
      "A decoder-only architecture is being used, but right-padding was detected! For correct generation results, please set `padding_side='left'` when initializing the tokenizer.\n"
     ]
    },
    {
     "name": "stdout",
     "output_type": "stream",
     "text": [
      "철근콘크리트구조는 콘크리트의 압축 강도를 활용하면서도 인장 응력에 대한 취약점을 보완하기 위해 철근을 사용하는 구조입니다. 일반적으로 도심 지역에서 많이 사용되며, 내구성, 내화 및 내진 성능이 뛰어나지만, 철근의 보강으로 인해 구조물의 중량이 증가하여 고층 건물에서는 아래층의 보나 기둥 단면적이 커져야 하는 문제가 있습니다.\n"
     ]
    },
    {
     "name": "stderr",
     "output_type": "stream",
     "text": [
      " 78%|███████████████████████████████████████████████████████████████████████████████████████████████████████████████████████████████████▎                                     | 101/130 [15:51<03:29,  7.21s/it]The attention mask and the pad token id were not set. As a consequence, you may observe unexpected behavior. Please pass your input's `attention_mask` to obtain reliable results.\n",
      "Setting `pad_token_id` to `eos_token_id`:30003 for open-end generation.\n",
      "A decoder-only architecture is being used, but right-padding was detected! For correct generation results, please set `padding_side='left'` when initializing the tokenizer.\n"
     ]
    },
    {
     "name": "stdout",
     "output_type": "stream",
     "text": [
      "흡음재의 종류는 크게 다공질, 공명형, 판 진동형으로 구분됩니다. 이들은 각각의 특성에 따라 특정한 주파수 범위에서 소리를 흡수하는 역할을 합니다. 다공질 흡음재는 구멍이 많이 뚫린 형태로 소리의 진폭을 줄이는 데 도움이 되며, 공명형은 공기 진동을 조절하여 특정 주파수 범위의 소리를 흡수합니다. 또한, 판 진동형은 진동을 흡수하여 소음을 감소시킵니다. 이러한 흡음재의 다양한 종류는 건물 내부의 다양한 주파수의 소리를 효과적으로 제어하는 데 사용됩니다.\n"
     ]
    },
    {
     "name": "stderr",
     "output_type": "stream",
     "text": [
      " 78%|████████████████████████████████████████████████████████████████████████████████████████████████████████████████████████████████████▌                                    | 102/130 [15:56<03:09,  6.76s/it]The attention mask and the pad token id were not set. As a consequence, you may observe unexpected behavior. Please pass your input's `attention_mask` to obtain reliable results.\n",
      "Setting `pad_token_id` to `eos_token_id`:30003 for open-end generation.\n",
      "A decoder-only architecture is being used, but right-padding was detected! For correct generation results, please set `padding_side='left'` when initializing the tokenizer.\n"
     ]
    },
    {
     "name": "stdout",
     "output_type": "stream",
     "text": [
      "결로가 발생하는 주된 원인은 높은 습도와 차가운 표면온도입니다. 물방울이 형성되고 이어서 발생하는 물기는 건물의 손상과 곰팡이 등을 유발할 수 있습니다. 그러므로 건물 내의 습도 및 온도를 관리하고 외부와 내부의 온도차를 줄이는 것이 중요합니다.\n"
     ]
    },
    {
     "name": "stderr",
     "output_type": "stream",
     "text": [
      " 79%|█████████████████████████████████████████████████████████████████████████████████████████████████████████████████████████████████████▉                                   | 103/130 [16:10<03:53,  8.66s/it]The attention mask and the pad token id were not set. As a consequence, you may observe unexpected behavior. Please pass your input's `attention_mask` to obtain reliable results.\n",
      "Setting `pad_token_id` to `eos_token_id`:30003 for open-end generation.\n",
      "A decoder-only architecture is being used, but right-padding was detected! For correct generation results, please set `padding_side='left'` when initializing the tokenizer.\n"
     ]
    },
    {
     "name": "stdout",
     "output_type": "stream",
     "text": [
      "현대적인 감각을 표현하기 위해서는 깔끔하고 간결한 디자인, 현대적인 가구와 소품의 선택, 조명과 색상의 현대적인 조합뿐만 아니라, 산업 디자인과 혁신적인 기술을 활용한 스마트 가전제품을 활용하는 것도 고려해야 합니다. 또한, 각 공간에서 개성있는 소재와 가장자리, 건축 요소를 자연과의 조화로운 디자인으로 표현하는 것이 현대적 감각을 더욱 강조할 수 있는 포인트입니다.\n"
     ]
    },
    {
     "name": "stderr",
     "output_type": "stream",
     "text": [
      " 80%|███████████████████████████████████████████████████████████████████████████████████████████████████████████████████████████████████████▏                                 | 104/130 [16:27<04:53, 11.27s/it]The attention mask and the pad token id were not set. As a consequence, you may observe unexpected behavior. Please pass your input's `attention_mask` to obtain reliable results.\n",
      "Setting `pad_token_id` to `eos_token_id`:30003 for open-end generation.\n",
      "A decoder-only architecture is being used, but right-padding was detected! For correct generation results, please set `padding_side='left'` when initializing the tokenizer.\n"
     ]
    },
    {
     "name": "stdout",
     "output_type": "stream",
     "text": [
      "페인트 작업 시에는 몇 가지 주의해야 할 점이 있습니다. 먼저, 페인트의 종류를 선택할 때에는 다양한 종류의 페인트가 있으며, 각각의 종류는 사용 용도와 특성에 따라 고르는 것이 중요합니다. 또한, 페인트의 유해물질로는 벤젠, 톨루엔, 자일렌 등이 있습니다. 이러한 유해물질은 호흡기나 피부를 통해 체내로 흡수되면 건강에 악영향을 미칠 수 있으므로, 개인의 안전을 위해 페인트 작업 시에는 적절한 환기 시설을 마련하고, 마스크와 같은 개인보호구를 착용하는 것이 필요합니다. 또한, 환경부에서는 휘발성유기화합물의 위험에 대비해 실내에는 유성페인트 사용을 금지하고 수성페인트를 사용하는 것을 권장하고 있습니다.\n"
     ]
    },
    {
     "name": "stderr",
     "output_type": "stream",
     "text": [
      " 81%|████████████████████████████████████████████████████████████████████████████████████████████████████████████████████████████████████████▌                                | 105/130 [16:34<04:11, 10.06s/it]The attention mask and the pad token id were not set. As a consequence, you may observe unexpected behavior. Please pass your input's `attention_mask` to obtain reliable results.\n",
      "Setting `pad_token_id` to `eos_token_id`:30003 for open-end generation.\n",
      "A decoder-only architecture is being used, but right-padding was detected! For correct generation results, please set `padding_side='left'` when initializing the tokenizer.\n"
     ]
    },
    {
     "name": "stdout",
     "output_type": "stream",
     "text": [
      "판 진동형 흡음재는 간격을 두고 얇고 통기성이 없는 판을 설치하여 소리가 전달될 때 판이 진동하여 마찰에 의해 소리가 소멸되는 흡음재입니다. 이러한 형태의 흡음재는 저주파의 진동음을 소멸시키는 특징이 있으며, 주로 소리를 흡수하는 것보다는 진동음을 반사시키는 것으로 알려져 있습니다. 따라서, 높은 주파수의 소리에는 효과적이지만, 흡음률이 상대적으로 높지 않을 수 있습니다.\n"
     ]
    },
    {
     "name": "stderr",
     "output_type": "stream",
     "text": [
      " 82%|█████████████████████████████████████████████████████████████████████████████████████████████████████████████████████████████████████████▊                               | 106/130 [16:39<03:23,  8.46s/it]The attention mask and the pad token id were not set. As a consequence, you may observe unexpected behavior. Please pass your input's `attention_mask` to obtain reliable results.\n",
      "Setting `pad_token_id` to `eos_token_id`:30003 for open-end generation.\n",
      "A decoder-only architecture is being used, but right-padding was detected! For correct generation results, please set `padding_side='left'` when initializing the tokenizer.\n"
     ]
    },
    {
     "name": "stdout",
     "output_type": "stream",
     "text": [
      "점토벽돌은 다른 벽돌에 비해 유지보수가 비교적 쉽고 저렴하며, 흙이 주 원료로 사용되기 때문에 친환경적입니다. 또한 다른 벽돌에 비해 열 및 소리를 잘 흡수하여 훌륭한 단열 및 소음 차단 특성을 가지고 있으며, 내구성이 뛰어나서 오랜 기간 동안 사용할 수 있는 것이 장점입니다.\n"
     ]
    },
    {
     "name": "stderr",
     "output_type": "stream",
     "text": [
      " 82%|███████████████████████████████████████████████████████████████████████████████████████████████████████████████████████████████████████████                              | 107/130 [16:44<02:53,  7.56s/it]The attention mask and the pad token id were not set. As a consequence, you may observe unexpected behavior. Please pass your input's `attention_mask` to obtain reliable results.\n",
      "Setting `pad_token_id` to `eos_token_id`:30003 for open-end generation.\n",
      "A decoder-only architecture is being used, but right-padding was detected! For correct generation results, please set `padding_side='left'` when initializing the tokenizer.\n"
     ]
    },
    {
     "name": "stdout",
     "output_type": "stream",
     "text": [
      "강화마루는 일반적으로 나무 널판지를 사용하여 만들어진 바닥재로, 평당 7~12만원의 비용이 듭니다. 이 제품은 열전도율이 높아 난방 효율이 좋고, 시각적으로 매력적이며 쿠션과 촉감이 우수합니다. 그러나 습기에 취약하며, 원목의 두께로 인해 온돌에 시공하면 갈라질 수 있는 위험이 있습니다.\n"
     ]
    },
    {
     "name": "stderr",
     "output_type": "stream",
     "text": [
      " 83%|████████████████████████████████████████████████████████████████████████████████████████████████████████████████████████████████████████████▍                            | 108/130 [16:53<02:56,  8.03s/it]The attention mask and the pad token id were not set. As a consequence, you may observe unexpected behavior. Please pass your input's `attention_mask` to obtain reliable results.\n",
      "Setting `pad_token_id` to `eos_token_id`:30003 for open-end generation.\n",
      "A decoder-only architecture is being used, but right-padding was detected! For correct generation results, please set `padding_side='left'` when initializing the tokenizer.\n"
     ]
    },
    {
     "name": "stdout",
     "output_type": "stream",
     "text": [
      "벽장 부위 결로의 대책은 외기에 면하는 외벽을 갖는 벽장을 만들지 않도록 하는 것이 최선이고, 대류가 잘 되도록 벽장의 구조를 개선하여 온도차를 낮춰야 합니다.\n"
     ]
    },
    {
     "name": "stderr",
     "output_type": "stream",
     "text": [
      " 84%|█████████████████████████████████████████████████████████████████████████████████████████████████████████████████████████████████████████████▋                           | 109/130 [17:03<03:00,  8.62s/it]The attention mask and the pad token id were not set. As a consequence, you may observe unexpected behavior. Please pass your input's `attention_mask` to obtain reliable results.\n",
      "Setting `pad_token_id` to `eos_token_id`:30003 for open-end generation.\n",
      "A decoder-only architecture is being used, but right-padding was detected! For correct generation results, please set `padding_side='left'` when initializing the tokenizer.\n"
     ]
    },
    {
     "name": "stdout",
     "output_type": "stream",
     "text": [
      "곰팡이를 제거하고 곰팡이 방지 페인트를 사용하여 냄새와 재생장을 방지하세요.\n"
     ]
    },
    {
     "name": "stderr",
     "output_type": "stream",
     "text": [
      " 85%|███████████████████████████████████████████████████████████████████████████████████████████████████████████████████████████████████████████████                          | 110/130 [17:05<02:08,  6.43s/it]The attention mask and the pad token id were not set. As a consequence, you may observe unexpected behavior. Please pass your input's `attention_mask` to obtain reliable results.\n",
      "Setting `pad_token_id` to `eos_token_id`:30003 for open-end generation.\n",
      "A decoder-only architecture is being used, but right-padding was detected! For correct generation results, please set `padding_side='left'` when initializing the tokenizer.\n"
     ]
    },
    {
     "name": "stdout",
     "output_type": "stream",
     "text": [
      "도배지를 작게 자르면 도배지 끝 부분이 들뜰 수 있어?\n"
     ]
    },
    {
     "name": "stderr",
     "output_type": "stream",
     "text": [
      " 85%|████████████████████████████████████████████████████████████████████████████████████████████████████████████████████████████████████████████████▎                        | 111/130 [17:13<02:11,  6.92s/it]The attention mask and the pad token id were not set. As a consequence, you may observe unexpected behavior. Please pass your input's `attention_mask` to obtain reliable results.\n",
      "Setting `pad_token_id` to `eos_token_id`:30003 for open-end generation.\n",
      "A decoder-only architecture is being used, but right-padding was detected! For correct generation results, please set `padding_side='left'` when initializing the tokenizer.\n"
     ]
    },
    {
     "name": "stdout",
     "output_type": "stream",
     "text": [
      "알러지가 있은 사람은 표면이 먼지나 알러지 유발물질이 적게 축적되는 매끄럽고 평평한 환경을 선택하는 것이 좋습니다. 또한, VOCs(휘발성 유기 화합물)이 없거나 낮은 무독성의 벽지를 사용하는 것도 도움이 될 수 있습니다. 따라서, 비닐벽지나 매끄럽고 간단한 패턴이 적용된 벽지가 적합한 경우가 있습니다.\n"
     ]
    },
    {
     "name": "stderr",
     "output_type": "stream",
     "text": [
      " 86%|█████████████████████████████████████████████████████████████████████████████████████████████████████████████████████████████████████████████████▌                       | 112/130 [17:17<01:50,  6.15s/it]The attention mask and the pad token id were not set. As a consequence, you may observe unexpected behavior. Please pass your input's `attention_mask` to obtain reliable results.\n",
      "Setting `pad_token_id` to `eos_token_id`:30003 for open-end generation.\n",
      "A decoder-only architecture is being used, but right-padding was detected! For correct generation results, please set `padding_side='left'` when initializing the tokenizer.\n"
     ]
    },
    {
     "name": "stdout",
     "output_type": "stream",
     "text": [
      "도배평수는 일반적으로 주택의 평수에 3.5를 곱해서 계산합니다. 주택의 평수는 거주 공간의 크기를 나타내는데, 도배할 벽면 및 천장의 면적을 모두 합한 값을 말합니다. 보통은 이 값을 3.5로 곱해서 도배평수를 계산합니다.\n"
     ]
    },
    {
     "name": "stderr",
     "output_type": "stream",
     "text": [
      " 87%|██████████████████████████████████████████████████████████████████████████████████████████████████████████████████████████████████████████████████▉                      | 113/130 [17:28<02:07,  7.53s/it]The attention mask and the pad token id were not set. As a consequence, you may observe unexpected behavior. Please pass your input's `attention_mask` to obtain reliable results.\n",
      "Setting `pad_token_id` to `eos_token_id`:30003 for open-end generation.\n",
      "A decoder-only architecture is being used, but right-padding was detected! For correct generation results, please set `padding_side='left'` when initializing the tokenizer.\n"
     ]
    },
    {
     "name": "stdout",
     "output_type": "stream",
     "text": [
      "마감재의 하자는 여부를 판단하기 위해서는 몇 가지 요소를 고려해야 합니다. 첫째로는 설계도서와의 일치 여부가 있습니다. 마감재가 설계도서에 명시된 내용과 일치하는지 확인해야 합니다. 둘째로는 기능상의 문제, 예를 들어 마감재가 쉽게 파손되거나 사용상의 문제가 있는지를 확인해야 합니다. 그 다음으로는 미관상의 문제 여부도 중요합니다. 마감재의 외관이나 마감재들 간의 조화가 보존적인 측면에서 좋은지도 고려해야 합니다. 마지막으로, 안전상의 문제 여부도 마감재가 안전에 영향을 미치는 문제를 해결해야 합니다. 이러한 다양한 요소를 종합적으로 고려하여 마감재의 하자 여부를 판단해야 합니다.\n"
     ]
    },
    {
     "name": "stderr",
     "output_type": "stream",
     "text": [
      " 88%|████████████████████████████████████████████████████████████████████████████████████████████████████████████████████████████████████████████████████▏                    | 114/130 [17:34<01:55,  7.20s/it]The attention mask and the pad token id were not set. As a consequence, you may observe unexpected behavior. Please pass your input's `attention_mask` to obtain reliable results.\n",
      "Setting `pad_token_id` to `eos_token_id`:30003 for open-end generation.\n",
      "A decoder-only architecture is being used, but right-padding was detected! For correct generation results, please set `padding_side='left'` when initializing the tokenizer.\n"
     ]
    },
    {
     "name": "stdout",
     "output_type": "stream",
     "text": [
      "이산화탄소 소화기는 이산화탄소(CO2)를 높은 압력으로 압축하여 액화시킨 후, 단단한 철제 용기에 넣은 소화기입니다. 이 종류의 소화기는 B, C급 화재에 대한 소화기능이 있으며, 물을 뿌리는 대신에 사용하기 적합하며 냉각 효과와 질식 효과가 큽니다. 이산화탄소 소화기는 전기기기, 기름, 페인트 등의 화재에 적합하며 전기를 차단한 후 안전하게 사용할 수 있습니다.\n"
     ]
    },
    {
     "name": "stderr",
     "output_type": "stream",
     "text": [
      " 88%|█████████████████████████████████████████████████████████████████████████████████████████████████████████████████████████████████████████████████████▌                   | 115/130 [17:39<01:35,  6.34s/it]The attention mask and the pad token id were not set. As a consequence, you may observe unexpected behavior. Please pass your input's `attention_mask` to obtain reliable results.\n",
      "Setting `pad_token_id` to `eos_token_id`:30003 for open-end generation.\n",
      "A decoder-only architecture is being used, but right-padding was detected! For correct generation results, please set `padding_side='left'` when initializing the tokenizer.\n"
     ]
    },
    {
     "name": "stdout",
     "output_type": "stream",
     "text": [
      "면진장치란 지반으로부터 발생하는 진동 에너지를 흡수하여 건물에 전달되는 진동을 줄여주는 장치를 말합니다. 이를 통해 건물의 안전성과 안정성을 향상시키고, 지진 등의 외부 충격으로부터 보호하는 역할을 합니다. 지진으로 인한 건물의 피해를 최소화하기 위해 주로 사용됩니다.\n"
     ]
    },
    {
     "name": "stderr",
     "output_type": "stream",
     "text": [
      " 89%|██████████████████████████████████████████████████████████████████████████████████████████████████████████████████████████████████████████████████████▊                  | 116/130 [17:47<01:36,  6.87s/it]The attention mask and the pad token id were not set. As a consequence, you may observe unexpected behavior. Please pass your input's `attention_mask` to obtain reliable results.\n",
      "Setting `pad_token_id` to `eos_token_id`:30003 for open-end generation.\n",
      "A decoder-only architecture is being used, but right-padding was detected! For correct generation results, please set `padding_side='left'` when initializing the tokenizer.\n"
     ]
    },
    {
     "name": "stdout",
     "output_type": "stream",
     "text": [
      "외단열재는 실내 환경을 개선하는 데 도움을 주는 재료로, 건축 자재로서의 역할을 합니다. 이는 건물 내부의 온도와 습도를 안정적으로 유지하여 에너지 효율성을 향상시키는 데 도움을 줍니다. 또한, 외단열재는 화재에 대한 내성이 뛰어나고 화재 발생 시 전파되지 않는다는 점도 내단열재의 장점 중 하나입니다.\n"
     ]
    },
    {
     "name": "stderr",
     "output_type": "stream",
     "text": [
      " 90%|████████████████████████████████████████████████████████████████████████████████████████████████████████████████████████████████████████████████████████                 | 117/130 [18:03<02:06,  9.70s/it]The attention mask and the pad token id were not set. As a consequence, you may observe unexpected behavior. Please pass your input's `attention_mask` to obtain reliable results.\n",
      "Setting `pad_token_id` to `eos_token_id`:30003 for open-end generation.\n",
      "A decoder-only architecture is being used, but right-padding was detected! For correct generation results, please set `padding_side='left'` when initializing the tokenizer.\n"
     ]
    },
    {
     "name": "stdout",
     "output_type": "stream",
     "text": [
      "외단열은 건물의 외부에 단열재를 설치하는 방식을 말합니다. 이는 외부에서의 열전달을 차단하여 건물 내부의 온도를 안정화시키는 데 도움을 줍니다. 반면에 내단열은 건물 내부에 설치된 단열재를 통해 열이 전달되어 온도가 일정하게 유지되도록 하는 방식입니다. 내단열은 외단열보다 상대적으로 적은 비용과 쉬운 시공 과정 때문에 많이 사용되지만, 열교(heat bridge) 문제가 발생할 수 있습니다. 이는 벽의 모서리나 창문 주변 등 단열재가 없는 부분에서 열이 새어나가는 것을 말하며, 이로 인해 열 손실과 온도 차이로 인한 곰팡이 발생이 우려됩니다. 따라서 내단열 방식을 선택할 때에는 이러한 열교 문제를 고려하고 적절한 설계 및 시공이 필수적입니다.\n"
     ]
    },
    {
     "name": "stderr",
     "output_type": "stream",
     "text": [
      " 91%|█████████████████████████████████████████████████████████████████████████████████████████████████████████████████████████████████████████████████████████▍               | 118/130 [18:08<01:37,  8.10s/it]The attention mask and the pad token id were not set. As a consequence, you may observe unexpected behavior. Please pass your input's `attention_mask` to obtain reliable results.\n",
      "Setting `pad_token_id` to `eos_token_id`:30003 for open-end generation.\n",
      "A decoder-only architecture is being used, but right-padding was detected! For correct generation results, please set `padding_side='left'` when initializing the tokenizer.\n"
     ]
    },
    {
     "name": "stdout",
     "output_type": "stream",
     "text": [
      "바닥재의 종류로는 데코타일, PVC 바닥재, 포세린 타일, 폴리싱 타일, 대리석 타일, 원목마루, 합판마루, 강화마루, 그리고 강마루가 있습니다. 이러한 바닥재들은 각각의 장단점과 다양한 디자인으로 다양한 실내 인테리어에 활용됩니다.\n"
     ]
    },
    {
     "name": "stderr",
     "output_type": "stream",
     "text": [
      " 92%|██████████████████████████████████████████████████████████████████████████████████████████████████████████████████████████████████████████████████████████▋              | 119/130 [18:14<01:24,  7.64s/it]The attention mask and the pad token id were not set. As a consequence, you may observe unexpected behavior. Please pass your input's `attention_mask` to obtain reliable results.\n",
      "Setting `pad_token_id` to `eos_token_id`:30003 for open-end generation.\n",
      "A decoder-only architecture is being used, but right-padding was detected! For correct generation results, please set `padding_side='left'` when initializing the tokenizer.\n"
     ]
    },
    {
     "name": "stdout",
     "output_type": "stream",
     "text": [
      "포세린 타일은 뛰어난 밀도와 강도를 가지고 있어 변형이 적고 오랜 기간 동안 사용할 수 있다는 장점이 있습니다. 또한, 표면의 반영구적인 성질 덕분에 일정한 광택을 유지할 수 있어 시간이 흐를수록 변색되거나 노후될 가능성이 낮습니다.\n"
     ]
    },
    {
     "name": "stderr",
     "output_type": "stream",
     "text": [
      " 92%|████████████████████████████████████████████████████████████████████████████████████████████████████████████████████████████████████████████████████████████             | 120/130 [18:20<01:09,  6.98s/it]The attention mask and the pad token id were not set. As a consequence, you may observe unexpected behavior. Please pass your input's `attention_mask` to obtain reliable results.\n",
      "Setting `pad_token_id` to `eos_token_id`:30003 for open-end generation.\n",
      "A decoder-only architecture is being used, but right-padding was detected! For correct generation results, please set `padding_side='left'` when initializing the tokenizer.\n"
     ]
    },
    {
     "name": "stdout",
     "output_type": "stream",
     "text": [
      "중목구조는 건물의 지탱을 하기 위해 건축물의 틀과 지지대로 사용되는 양식을 말합니다. 이 구조 방식은 기본적으로 기중-보 방식과 유사하지만, 구조용 목재로 큰 각재를 사용하여 건축하는 것이 특징입니다. 중목구조는 건물 전체에 일정한 하중을 전달하면서 내구성과 안정성을 확보하는 데에 사용됩니다.\n"
     ]
    },
    {
     "name": "stderr",
     "output_type": "stream",
     "text": [
      " 93%|█████████████████████████████████████████████████████████████████████████████████████████████████████████████████████████████████████████████████████████████▎           | 121/130 [18:25<01:00,  6.68s/it]The attention mask and the pad token id were not set. As a consequence, you may observe unexpected behavior. Please pass your input's `attention_mask` to obtain reliable results.\n",
      "Setting `pad_token_id` to `eos_token_id`:30003 for open-end generation.\n",
      "A decoder-only architecture is being used, but right-padding was detected! For correct generation results, please set `padding_side='left'` when initializing the tokenizer.\n"
     ]
    },
    {
     "name": "stdout",
     "output_type": "stream",
     "text": [
      "도배지는 일반적으로 도배하려는 평수에 5를 나눈 값만큼 필요합니다. 예를 들어, 32평 아파트의 경우 도배평수는 80평(32*2.5)이며, 5로 나눈 값인 16롤만큼 필요합니다. 다만, 작업자의 숙련도, 작업환경, 집 구조 등에 따라 필요한 도배지의 양이 달라질 수 있으니, 보다 정확한 견적을 위해서는 전문가와의 상담이 필요합니다.\n"
     ]
    },
    {
     "name": "stderr",
     "output_type": "stream",
     "text": [
      " 94%|██████████████████████████████████████████████████████████████████████████████████████████████████████████████████████████████████████████████████████████████▌          | 122/130 [18:31<00:49,  6.19s/it]The attention mask and the pad token id were not set. As a consequence, you may observe unexpected behavior. Please pass your input's `attention_mask` to obtain reliable results.\n",
      "Setting `pad_token_id` to `eos_token_id`:30003 for open-end generation.\n",
      "A decoder-only architecture is being used, but right-padding was detected! For correct generation results, please set `padding_side='left'` when initializing the tokenizer.\n"
     ]
    },
    {
     "name": "stdout",
     "output_type": "stream",
     "text": [
      "외단열 시공은 실내에서 작업하기에 날씨영향을 덜받으며 공사비, 재료비, 인건비가 적게 들고 외부벽체와 직접 닿지 않기 때문에 열교 현상을 줄일 수 있다는 장점이 있습니다.\n"
     ]
    },
    {
     "name": "stderr",
     "output_type": "stream",
     "text": [
      " 95%|███████████████████████████████████████████████████████████████████████████████████████████████████████████████████████████████████████████████████████████████▉         | 123/130 [18:37<00:43,  6.18s/it]The attention mask and the pad token id were not set. As a consequence, you may observe unexpected behavior. Please pass your input's `attention_mask` to obtain reliable results.\n",
      "Setting `pad_token_id` to `eos_token_id`:30003 for open-end generation.\n",
      "A decoder-only architecture is being used, but right-padding was detected! For correct generation results, please set `padding_side='left'` when initializing the tokenizer.\n"
     ]
    },
    {
     "name": "stdout",
     "output_type": "stream",
     "text": [
      "질석벽지는 운모계 광석을 가열하여 나온 결정 조각을 종이 위에 뿌려 접착하여 만든 벽지입니다. 질감이 풍부하여 아트월, 현관 입구 등에 많이 사용되며, 단열과 결로방지 기능이 뛰어나고 고급스러운 질감이 특징입니다. 다만, 가격이 비싸고 시공 및 유지보수가 어려운 단점이 있습니다.\n"
     ]
    },
    {
     "name": "stderr",
     "output_type": "stream",
     "text": [
      " 95%|█████████████████████████████████████████████████████████████████████████████████████████████████████████████████████████████████████████████████████████████████▏       | 124/130 [18:47<00:44,  7.43s/it]The attention mask and the pad token id were not set. As a consequence, you may observe unexpected behavior. Please pass your input's `attention_mask` to obtain reliable results.\n",
      "Setting `pad_token_id` to `eos_token_id`:30003 for open-end generation.\n",
      "A decoder-only architecture is being used, but right-padding was detected! For correct generation results, please set `padding_side='left'` when initializing the tokenizer.\n"
     ]
    },
    {
     "name": "stdout",
     "output_type": "stream",
     "text": [
      "방수공사를 위해 몇 가지 주의해야 할 점이 있습니다. 먼저, 적절한 보호장비를 착용하여 안전을 유지해야 합니다. 또한, 방수용으로 제조된 우레탄 고무계, 아크릴 고무계, 고무 아스팔트계 등의 액상형의 재료를 사용하여 바탕면과 무관하게 시공해야 합니다. 이를 통해 건물 내부의 누수가 발생할 수 있습니다.\n"
     ]
    },
    {
     "name": "stderr",
     "output_type": "stream",
     "text": [
      " 96%|██████████████████████████████████████████████████████████████████████████████████████████████████████████████████████████████████████████████████████████████████▌      | 125/130 [18:53<00:35,  7.05s/it]The attention mask and the pad token id were not set. As a consequence, you may observe unexpected behavior. Please pass your input's `attention_mask` to obtain reliable results.\n",
      "Setting `pad_token_id` to `eos_token_id`:30003 for open-end generation.\n",
      "A decoder-only architecture is being used, but right-padding was detected! For correct generation results, please set `padding_side='left'` when initializing the tokenizer.\n"
     ]
    },
    {
     "name": "stdout",
     "output_type": "stream",
     "text": [
      "내진설계에서 안전성을 높이기 위해서는 먼저 면진구조와 제진구조를 구분해야 합니다. 면진구조는 건물의 옆면에 지진 저항력을 제공하여 안정성을 높이는 데 도움이 되며, 제진구조는 지진력을 흡수하고 분산하여 건물을 보호합니다. 또한, 내진설계에서 안정성이 높은 순서로는 제진구조, 면진구조, 내진구조 등이 있습니다.\n"
     ]
    },
    {
     "name": "stderr",
     "output_type": "stream",
     "text": [
      " 97%|███████████████████████████████████████████████████████████████████████████████████████████████████████████████████████████████████████████████████████████████████▊     | 126/130 [19:00<00:28,  7.08s/it]The attention mask and the pad token id were not set. As a consequence, you may observe unexpected behavior. Please pass your input's `attention_mask` to obtain reliable results.\n",
      "Setting `pad_token_id` to `eos_token_id`:30003 for open-end generation.\n",
      "A decoder-only architecture is being used, but right-padding was detected! For correct generation results, please set `padding_side='left'` when initializing the tokenizer.\n"
     ]
    },
    {
     "name": "stdout",
     "output_type": "stream",
     "text": [
      "분말 소화기를 선택할 때는 몇 가지 주의해야 할 점이 있습니다. 우선, 압력계의 눈금 위치가 초록색에 있는지 확인해야 합니다. 또한, 받침대를 사용하여 소화기 부식을 방지하고, 매달 한 번씩 흔들어 분말이 굳어짐을 방지해야 합니다. 추가로, 직사광선이나 고온 다습한 장소를 피하고, 사용 후에는 내부 약품을 완전히 제거해야 합니다. 이러한 주의사항을 준수하여 분말 소화기를 안전하고 효과적으로 사용할 수 있습니다.\n"
     ]
    },
    {
     "name": "stderr",
     "output_type": "stream",
     "text": [
      " 98%|█████████████████████████████████████████████████████████████████████████████████████████████████████████████████████████████████████████████████████████████████████    | 127/130 [19:06<00:19,  6.54s/it]The attention mask and the pad token id were not set. As a consequence, you may observe unexpected behavior. Please pass your input's `attention_mask` to obtain reliable results.\n",
      "Setting `pad_token_id` to `eos_token_id`:30003 for open-end generation.\n",
      "A decoder-only architecture is being used, but right-padding was detected! For correct generation results, please set `padding_side='left'` when initializing the tokenizer.\n"
     ]
    },
    {
     "name": "stdout",
     "output_type": "stream",
     "text": [
      "압출법 보온 판은 습기에 강하고 곰팡이 및 세균 증식을 막아 주는 동시에 단열재 중 열전도율이 가장 낮은 편입니다. 또한 시공이 간편하고 가볍기 때문에 건축물 내부의 단열 및 보온에 매우 효과적입니다. 추가로 비싼 가격이 아니며 내화성과 방음효과도 좋다는 점도 내단열판의 장점 중 하나로 꼽힙니다.\n"
     ]
    },
    {
     "name": "stderr",
     "output_type": "stream",
     "text": [
      " 98%|██████████████████████████████████████████████████████████████████████████████████████████████████████████████████████████████████████████████████████████████████████▍  | 128/130 [19:11<00:12,  6.29s/it]The attention mask and the pad token id were not set. As a consequence, you may observe unexpected behavior. Please pass your input's `attention_mask` to obtain reliable results.\n",
      "Setting `pad_token_id` to `eos_token_id`:30003 for open-end generation.\n",
      "A decoder-only architecture is being used, but right-padding was detected! For correct generation results, please set `padding_side='left'` when initializing the tokenizer.\n"
     ]
    },
    {
     "name": "stdout",
     "output_type": "stream",
     "text": [
      "수성 벽체용 탄성 도료는 치밀한 표면구성과 탄성있는 도막을 형성하여 우수한 방수 기능을 제공합니다. 이 외에도 크랙의 방지와 물세척이 가능하며, 콘크리트 시멘트 구조물의 내외부 면에 다양한 용도로 사용될 수 있습니다. 또한 수성이기 때문에 환경과 안전에 더욱 친숙하면서도 편리하게 사용할 수 있는 장점이 있습니다.\n"
     ]
    },
    {
     "name": "stderr",
     "output_type": "stream",
     "text": [
      " 99%|███████████████████████████████████████████████████████████████████████████████████████████████████████████████████████████████████████████████████████████████████████▋ | 129/130 [19:27<00:09,  9.17s/it]The attention mask and the pad token id were not set. As a consequence, you may observe unexpected behavior. Please pass your input's `attention_mask` to obtain reliable results.\n",
      "Setting `pad_token_id` to `eos_token_id`:30003 for open-end generation.\n",
      "A decoder-only architecture is being used, but right-padding was detected! For correct generation results, please set `padding_side='left'` when initializing the tokenizer.\n"
     ]
    },
    {
     "name": "stdout",
     "output_type": "stream",
     "text": [
      "석고 수정은 벽을 이루고 있는 석고에 훼손이 생겼을 때 발생하는 현상으로, 이는 건물의 구조적 결함으로 인해 발생할 수 있습니다. 또한, 습기로 인해 석고가 팽창하거나 수축함으로써 변형될 수 있습니다. 석고 수정이 발생하는 원인과 책임 소재, 그리고 해결 방법은 다음과 같습니다.  1. 건축 물리적 변화    - 원인: 건물의 노후화나 지진과 같은 물리적 변화로 인해 석고가 수정됩니다.    - 책임 소재: 건물의 소유자나 거주자가 책임을 집니다.   2. 건축 자재의 종류    - 해결 방법: 석고보드를 설치하거나, 석고보드를 교체하는 것이 필요합니다. 이 외에도 제습기를 가동하고, 환기를 통해 실내 적정 습도를 유지하는 것이 중요합니다. 또한, 전문가의 도움을 받아 보수 작업을 진행하는 것이 좋습니다.\n"
     ]
    },
    {
     "name": "stderr",
     "output_type": "stream",
     "text": [
      "100%|█████████████████████████████████████████████████████████████████████████████████████████████████████████████████████████████████████████████████████████████████████████| 130/130 [19:31<00:00,  9.01s/it]"
     ]
    },
    {
     "name": "stdout",
     "output_type": "stream",
     "text": [
      "카페트의 기대수명은 일반적으로 6년입니다. 다만, 사용 빈도, 청소 방식, 햇빛 노출 정도 등 사용 환경과 관리에 따라 수명이 달라질 수 있으므로 주기적으로 청소 및 관리를 해야 합니다. 또한, 질 좋은 카페트를 구매하고 깔끔하게 관리하여 수명을 연장할 수 있습니다.\n"
     ]
    },
    {
     "name": "stderr",
     "output_type": "stream",
     "text": [
      "\n"
     ]
    }
   ],
   "source": [
    "\n",
    "# Inference를 위한 test.csv 파일 로드\n",
    "# test = pd.read_csv('./data/test.csv')\n",
    "\n",
    "# test.csv의 '질문'에 대한 '답변'을 저장할 리스트\n",
    "file_path = \"result_alpha_r2.txt\"\n",
    "total_preds = []\n",
    "# '질문' 컬럼의 각 질문에 대해 답변 생성\n",
    "# for idx,model in enumerate(model_list):\n",
    "preds = []\n",
    "idx = 0\n",
    "for test_question in tqdm(test_df['질문']):\n",
    "    # 입력 텍스트를 토큰화하고 모델 입력 형태로 변환\n",
    "    \n",
    "    input_ids = tokenizer.encode(test_question + tokenizer.eos_token, return_tensors='pt')\n",
    "\n",
    "    # 답변 생성\n",
    "    with torch.no_grad():\n",
    "\n",
    "        # output_sequences = model.generate(\n",
    "        #     input_ids=input_ids.to(device),\n",
    "        #     max_length=2000,\n",
    "        #     min_length=20,\n",
    "        #     temperature=1.5,\n",
    "        #     top_k=120,\n",
    "        #     top_p=1.5,\n",
    "        #     repetition_penalty=1.0,\n",
    "        #     do_sample=True,\n",
    "        #     num_beams=120,\n",
    "        #     # no_repeat_ngram_size=3,\n",
    "        #     # num_return_sequences=1,\n",
    "        #     # eos_token_id=tokenizer.eos_token_id\n",
    "        # )\n",
    "        output_sequences = model.generate(\n",
    "            input_ids=input_ids.to(device),\n",
    "            max_length=800,\n",
    "            min_length=20,\n",
    "            temperature=1.2,\n",
    "            top_k=500,\n",
    "            top_p=1.2,\n",
    "            repetition_penalty=1.5,\n",
    "            do_sample=True,\n",
    "            num_beams=18,\n",
    "            no_repeat_ngram_size=5,\n",
    "            # num_return_sequences=1,\n",
    "            eos_token_id=tokenizer.eos_token_id\n",
    "        )\n",
    "\n",
    "    for generated_sequence in output_sequences:\n",
    "        full_text = tokenizer.decode(generated_sequence, skip_special_tokens=False)\n",
    "        print(full_text)\n",
    "        answer_start = full_text.find(tokenizer.eos_token) \n",
    "        anser_end = full_text.rfind(tokenizer.eos_token) \n",
    "        answer_only = full_text[answer_start+4:anser_end].strip()\n",
    "        answer_only = answer_only.replace('\\n', ' ')\n",
    "        print(answer_only)\n",
    "        preds.append(answer_only)\n",
    "        answer_only = answer_only+'\\n'\n",
    "    if idx==0:\n",
    "        with open(file_path, \"w\") as file:\n",
    "            file.write(answer_only)\n",
    "    else:\n",
    "        with open(file_path, \"a\") as file:\n",
    "            file.write(answer_only)\n",
    "    idx+=1\n",
    "\n",
    "\n",
    "    # with open(csv_file_path, mode='w') as csv_file:\n",
    "    #     csv_writer = csv.writer(csv_file)\n",
    "    #     csv_writer.writerow(answer_only)\n",
    "# break\n",
    "# total_preds.append(preds)\n",
    "# model = model.cpu()\n",
    "# torch.cuda.empty_cache()\n"
   ]
  },
  {
   "cell_type": "code",
   "execution_count": 11,
   "id": "5219c545-c1eb-4302-82fe-1e0e5b067b46",
   "metadata": {},
   "outputs": [
    {
     "name": "stderr",
     "output_type": "stream",
     "text": [
      "  0%|                                                                                                                                                                                    | 0/46 [00:00<?, ?it/s]The attention mask and the pad token id were not set. As a consequence, you may observe unexpected behavior. Please pass your input's `attention_mask` to obtain reliable results.\n",
      "Setting `pad_token_id` to `eos_token_id`:30003 for open-end generation.\n",
      "A decoder-only architecture is being used, but right-padding was detected! For correct generation results, please set `padding_side='left'` when initializing the tokenizer.\n",
      "  2%|███▋                                                                                                                                                                        | 1/46 [00:03<02:54,  3.88s/it]The attention mask and the pad token id were not set. As a consequence, you may observe unexpected behavior. Please pass your input's `attention_mask` to obtain reliable results.\n",
      "Setting `pad_token_id` to `eos_token_id`:30003 for open-end generation.\n",
      "A decoder-only architecture is being used, but right-padding was detected! For correct generation results, please set `padding_side='left'` when initializing the tokenizer.\n"
     ]
    },
    {
     "name": "stdout",
     "output_type": "stream",
     "text": [
      "원목사이딩의 단점은 가격대가 높을 뿐 아니라 관리가 어렵고 습기에 민감하여 뒤틀림, 부서짐, 수축/팽창이 발생할 수 있다는 점입니다. 또한 특히 곰팡이와 곤충에 노출될 경우 훼손될 가능성이 높다는 점도 감안해야 합니다.\n"
     ]
    },
    {
     "name": "stderr",
     "output_type": "stream",
     "text": [
      "  4%|███████▍                                                                                                                                                                    | 2/46 [00:11<04:17,  5.84s/it]The attention mask and the pad token id were not set. As a consequence, you may observe unexpected behavior. Please pass your input's `attention_mask` to obtain reliable results.\n",
      "Setting `pad_token_id` to `eos_token_id`:30003 for open-end generation.\n",
      "A decoder-only architecture is being used, but right-padding was detected! For correct generation results, please set `padding_side='left'` when initializing the tokenizer.\n"
     ]
    },
    {
     "name": "stdout",
     "output_type": "stream",
     "text": [
      "타공불량은 부실한 시공으로 인해 발생할 수 있습니다. 예를 들어, 적절하지 않은 도구로 작업하거나 타공 부위의 크기를 정확히 측정하지 않고 작업하면 타공불량이 발생할 수 있으며, 이는 부실한 시공으로 이어질 수 있습니다. 따라서 시공자가 부실한 시공을 했거나 잘못된 도구로 작업하는 것을 방지하기 위해 제조사의 권장사항을 준수하고, 적절한 도구와 기술을 사용하여 작업하는 것이 중요합니다.\n"
     ]
    },
    {
     "name": "stderr",
     "output_type": "stream",
     "text": [
      "  7%|███████████▏                                                                                                                                                                | 3/46 [00:16<04:11,  5.86s/it]The attention mask and the pad token id were not set. As a consequence, you may observe unexpected behavior. Please pass your input's `attention_mask` to obtain reliable results.\n",
      "Setting `pad_token_id` to `eos_token_id`:30003 for open-end generation.\n",
      "A decoder-only architecture is being used, but right-padding was detected! For correct generation results, please set `padding_side='left'` when initializing the tokenizer.\n"
     ]
    },
    {
     "name": "stdout",
     "output_type": "stream",
     "text": [
      "유성페인트의 단점은 주로 두 가지입니다. 첫 번째로, 유성페인트는 특히 습기가 많은 환경에서 쉽게 노출될 경우가 있어, 노출된 부분에서는 용해될 수 있다는 점이 있습니다. 두 번째로, 이러한 페인트는 대기 중에 방출되면 미세먼지나 오존 등의 오염물질을 생성할 수 있다는 것이 단점으로 꼽힙니다.\n"
     ]
    },
    {
     "name": "stderr",
     "output_type": "stream",
     "text": [
      "  9%|██████████████▉                                                                                                                                                             | 4/46 [00:24<04:38,  6.62s/it]The attention mask and the pad token id were not set. As a consequence, you may observe unexpected behavior. Please pass your input's `attention_mask` to obtain reliable results.\n",
      "Setting `pad_token_id` to `eos_token_id`:30003 for open-end generation.\n",
      "A decoder-only architecture is being used, but right-padding was detected! For correct generation results, please set `padding_side='left'` when initializing the tokenizer.\n"
     ]
    },
    {
     "name": "stdout",
     "output_type": "stream",
     "text": [
      "반점이 생긴지 2년 이상된 경우, 벽지를 재시공하는 것이 가장 바람직한 보수작업 방법입니다. 이렇게 하면 기존의 반점이나 얼룩을 제거하고 벽지를 새로 시공하여 완전히 교체할 수 있습니다. 이 경우 전문가의 도움을 받아 작업하는 것이 좋습니다. 예를 들어, 전문 도배업체나 장인들의 도움을 받아 새로운 벽지 시공을 진행할 수 있습니다. 부분적으로 벽지를 교체하거나 전체적으로 벽지를 교체할지에 대한 판단은 전문가와 상의하여 결정하는 것이 중요합니다.\n"
     ]
    },
    {
     "name": "stderr",
     "output_type": "stream",
     "text": [
      " 11%|██████████████████▋                                                                                                                                                         | 5/46 [00:29<04:02,  5.92s/it]The attention mask and the pad token id were not set. As a consequence, you may observe unexpected behavior. Please pass your input's `attention_mask` to obtain reliable results.\n",
      "Setting `pad_token_id` to `eos_token_id`:30003 for open-end generation.\n",
      "A decoder-only architecture is being used, but right-padding was detected! For correct generation results, please set `padding_side='left'` when initializing the tokenizer.\n"
     ]
    },
    {
     "name": "stdout",
     "output_type": "stream",
     "text": [
      "피스 하자는 건물의 외벽에 사용되는 도장재료를 말합니다. 이러한 페인트는 건축물의 외관을 아름답게 꾸며주는 데에 기여하며, 때문에 건축문 주위에 많이 사용됩니다. 이를 통해 건물의 외관을 보호하고, 색상을 연출하여 시각적인 효과를 극대화합니다.\n"
     ]
    },
    {
     "name": "stderr",
     "output_type": "stream",
     "text": [
      " 13%|██████████████████████▍                                                                                                                                                     | 6/46 [00:42<05:30,  8.26s/it]The attention mask and the pad token id were not set. As a consequence, you may observe unexpected behavior. Please pass your input's `attention_mask` to obtain reliable results.\n",
      "Setting `pad_token_id` to `eos_token_id`:30003 for open-end generation.\n",
      "A decoder-only architecture is being used, but right-padding was detected! For correct generation results, please set `padding_side='left'` when initializing the tokenizer.\n"
     ]
    },
    {
     "name": "stdout",
     "output_type": "stream",
     "text": [
      "겨울철 도배는 몇 가지 주의해야 할 사항이 있습니다. 1. 온도 관리: 도배 작업 중에는 실내 온도가 일정하게 유지되어야 합니다. 특히 도배풀이 얼어버리는 것을 막기 위해 보일러나 전열기를 사용하여 온도를 적절하게 유지해야 합니다. 2. 과열 방지: 추운 날씨로 실내 온도를 높이기 위해 전열기를 오랜 시간 사용하는 것은 도배지에 해로울 수 있습니다. 지나치게 고열에 노출되면 도배지의 색상이 변하거나 이음매가 벌어질 수 있습니다. 3. 환기 주의: 도배 시공 직후 집안의 냄새를 제거하려는 용도로 환기를 하는 것은 좋지만, 춥고 건조한 겨울에는 도배지가 고르게 건조되지 않아 터질 수 있습니다. 이를 방지하기 위해 2일 정도는 창문을 닫아 놓는 것이 좋습니다.\n"
     ]
    },
    {
     "name": "stderr",
     "output_type": "stream",
     "text": [
      " 15%|██████████████████████████▏                                                                                                                                                 | 7/46 [00:47<04:43,  7.26s/it]The attention mask and the pad token id were not set. As a consequence, you may observe unexpected behavior. Please pass your input's `attention_mask` to obtain reliable results.\n",
      "Setting `pad_token_id` to `eos_token_id`:30003 for open-end generation.\n",
      "A decoder-only architecture is being used, but right-padding was detected! For correct generation results, please set `padding_side='left'` when initializing the tokenizer.\n"
     ]
    },
    {
     "name": "stdout",
     "output_type": "stream",
     "text": [
      "페인트는 일반적으로 내구성이 뛰어나기 때문에 오랜 기간 동안 사용할 수 있는 것이 장점입니다. 또한, 페인트는 환경 친화적이고 다양한 재료로 만들어져 있어 건강에 해를 끼치지 않는 것이 또 다른 장점입니다. 따라서 페인트는 실내 및 실외 장소에서 널리 사용되고 있습니다.\n"
     ]
    },
    {
     "name": "stderr",
     "output_type": "stream",
     "text": [
      " 17%|█████████████████████████████▉                                                                                                                                              | 8/46 [00:48<03:19,  5.25s/it]The attention mask and the pad token id were not set. As a consequence, you may observe unexpected behavior. Please pass your input's `attention_mask` to obtain reliable results.\n",
      "Setting `pad_token_id` to `eos_token_id`:30003 for open-end generation.\n",
      "A decoder-only architecture is being used, but right-padding was detected! For correct generation results, please set `padding_side='left'` when initializing the tokenizer.\n"
     ]
    },
    {
     "name": "stdout",
     "output_type": "stream",
     "text": [
      "유광 자기질 타일의 기대수명은 50년입니다.\n"
     ]
    },
    {
     "name": "stderr",
     "output_type": "stream",
     "text": [
      " 20%|█████████████████████████████████▋                                                                                                                                          | 9/46 [00:54<03:20,  5.41s/it]The attention mask and the pad token id were not set. As a consequence, you may observe unexpected behavior. Please pass your input's `attention_mask` to obtain reliable results.\n",
      "Setting `pad_token_id` to `eos_token_id`:30003 for open-end generation.\n",
      "A decoder-only architecture is being used, but right-padding was detected! For correct generation results, please set `padding_side='left'` when initializing the tokenizer.\n"
     ]
    },
    {
     "name": "stdout",
     "output_type": "stream",
     "text": [
      "스탠드 조명은 공간을 차지하지 않아 공간 활용이 좋고, 부드러운 분위기를 연출할 수 있다는 장점이 있습니다. 또한, 스탠드 조명은 소품의 역할을 하기 때문에 인테리어에 다양한 활용이 가능합니다. 그러나 작은 공간에는 부적합하며, 불안정하게 설치할 경우 파손의 위험이 있습니다.\n"
     ]
    },
    {
     "name": "stderr",
     "output_type": "stream",
     "text": [
      " 22%|█████████████████████████████████████▏                                                                                                                                     | 10/46 [00:57<02:51,  4.77s/it]The attention mask and the pad token id were not set. As a consequence, you may observe unexpected behavior. Please pass your input's `attention_mask` to obtain reliable results.\n",
      "Setting `pad_token_id` to `eos_token_id`:30003 for open-end generation.\n",
      "A decoder-only architecture is being used, but right-padding was detected! For correct generation results, please set `padding_side='left'` when initializing the tokenizer.\n"
     ]
    },
    {
     "name": "stdout",
     "output_type": "stream",
     "text": [
      "도배지의 내구성이 떨어질 경우 사용 중에 찢어질 가능성이 높아집니다. 따라서 품질이 낮은 도배지를 사용하면 찢어지는 문제가 발생할 수 있으니, 품질이 검증된 제품을 선택하는 것이 좋습니다.\n"
     ]
    },
    {
     "name": "stderr",
     "output_type": "stream",
     "text": [
      " 24%|████████████████████████████████████████▉                                                                                                                                  | 11/46 [01:01<02:36,  4.46s/it]The attention mask and the pad token id were not set. As a consequence, you may observe unexpected behavior. Please pass your input's `attention_mask` to obtain reliable results.\n",
      "Setting `pad_token_id` to `eos_token_id`:30003 for open-end generation.\n",
      "A decoder-only architecture is being used, but right-padding was detected! For correct generation results, please set `padding_side='left'` when initializing the tokenizer.\n"
     ]
    },
    {
     "name": "stdout",
     "output_type": "stream",
     "text": [
      "실크벽지의 교체주기는 일반적으로 5년에서 7년 사이입니다. 그러나 사용 환경 및 유지 관리 상태에 따라 차이가 있을 수 있습니다. 주기적인 청소와 유지보수를 통해 실크벽지의 수명을 연장시킬 수 있으니 주기적인 관리가 중요합니다.\n"
     ]
    },
    {
     "name": "stderr",
     "output_type": "stream",
     "text": [
      " 26%|████████████████████████████████████████████▌                                                                                                                              | 12/46 [01:03<02:04,  3.68s/it]The attention mask and the pad token id were not set. As a consequence, you may observe unexpected behavior. Please pass your input's `attention_mask` to obtain reliable results.\n",
      "Setting `pad_token_id` to `eos_token_id`:30003 for open-end generation.\n",
      "A decoder-only architecture is being used, but right-padding was detected! For correct generation results, please set `padding_side='left'` when initializing the tokenizer.\n"
     ]
    },
    {
     "name": "stdout",
     "output_type": "stream",
     "text": [
      "철골구조는 건물의 외벽에는 그다지 하중이 걸리지 않기 때문에 고층 건물의 건축이 가능한 것이 장점입니다.\n"
     ]
    },
    {
     "name": "stderr",
     "output_type": "stream",
     "text": [
      " 28%|████████████████████████████████████████████████▎                                                                                                                          | 13/46 [01:08<02:13,  4.06s/it]The attention mask and the pad token id were not set. As a consequence, you may observe unexpected behavior. Please pass your input's `attention_mask` to obtain reliable results.\n",
      "Setting `pad_token_id` to `eos_token_id`:30003 for open-end generation.\n",
      "A decoder-only architecture is being used, but right-padding was detected! For correct generation results, please set `padding_side='left'` when initializing the tokenizer.\n"
     ]
    },
    {
     "name": "stdout",
     "output_type": "stream",
     "text": [
      "조적식 구조는 벽돌이나 콘크리트 블록을 모르타르로 쌓아 만드는 건축 구조를 말합니다. 주택과 같은 소규모 건물에 주로 사용되며 내습, 내구성이 우수하고 내화구조로서 안전성이 뛰어나며 경제적입니다. 그러나 수평한 외력에 상대적으로 취약하며 단일 벽체로는 수평 및 수직적 제한이 있을 수 있습니다.\n"
     ]
    },
    {
     "name": "stderr",
     "output_type": "stream",
     "text": [
      " 30%|████████████████████████████████████████████████████                                                                                                                       | 14/46 [01:12<02:12,  4.15s/it]The attention mask and the pad token id were not set. As a consequence, you may observe unexpected behavior. Please pass your input's `attention_mask` to obtain reliable results.\n",
      "Setting `pad_token_id` to `eos_token_id`:30003 for open-end generation.\n",
      "A decoder-only architecture is being used, but right-padding was detected! For correct generation results, please set `padding_side='left'` when initializing the tokenizer.\n"
     ]
    },
    {
     "name": "stdout",
     "output_type": "stream",
     "text": [
      "액체방수공사란 콘크리트, 모르타르 등의 표면에 액체 형태의 방수제를 도포하거나 침투시키고 방수제를 혼합한 모르타르를 덧발라 침투를 막는 공법입니다. 이를 통해 건물 내부로의 수분 유입을 방지하여 건물의 내구성과 수명을 유지하는 데 도움이 됩니다.\n"
     ]
    },
    {
     "name": "stderr",
     "output_type": "stream",
     "text": [
      " 33%|███████████████████████████████████████████████████████▊                                                                                                                   | 15/46 [01:17<02:17,  4.43s/it]The attention mask and the pad token id were not set. As a consequence, you may observe unexpected behavior. Please pass your input's `attention_mask` to obtain reliable results.\n",
      "Setting `pad_token_id` to `eos_token_id`:30003 for open-end generation.\n",
      "A decoder-only architecture is being used, but right-padding was detected! For correct generation results, please set `padding_side='left'` when initializing the tokenizer.\n"
     ]
    },
    {
     "name": "stdout",
     "output_type": "stream",
     "text": [
      "장판 처리방법은 생활폐기물 스티커를 구매한 뒤, 지역의 구청 또는 주민센터에서 배출하면 됩니다. 다만, 장판의 크기에 따라 비용이 달라지므로 사전에 크기를 확인하는 것이 중요합니다. 장판을 정확히 배출하는 것은 친환경적인 방법이며, 지역 사회의 깨끗한 환경을 유지하는 데 기여하는 좋은 방법입니다.\n"
     ]
    },
    {
     "name": "stderr",
     "output_type": "stream",
     "text": [
      " 35%|███████████████████████████████████████████████████████████▍                                                                                                               | 16/46 [01:26<02:56,  5.87s/it]The attention mask and the pad token id were not set. As a consequence, you may observe unexpected behavior. Please pass your input's `attention_mask` to obtain reliable results.\n",
      "Setting `pad_token_id` to `eos_token_id`:30003 for open-end generation.\n",
      "A decoder-only architecture is being used, but right-padding was detected! For correct generation results, please set `padding_side='left'` when initializing the tokenizer.\n"
     ]
    },
    {
     "name": "stdout",
     "output_type": "stream",
     "text": [
      "콘크리트에 구멍을 뚫으려면 먼저 안전한 안경과 마스크를 착용해야 합니다. 그리고 코어드릴이나 해머드릴과 같은 강력한 전동 툴을 사용하여 구멍을 뚫어야 합니다. 이떄 사용하는 드릴 비트는 콘크리트의 강도와 종류에 따라 다르며, 일반적으로 고강도나 중강도의 드릴 비트를 사용합니다. 또한 구멍을 뚫기 전에 콘크리트 구멍을 뚫어도 괜찮은지 확인하기 위해 전기선, 수도관, 다른 배관 및 구조물이 없는지 확인하는 것이 중요합니다. 보호장비를 착용하고 안전 수칙을 준수하여 구멍을 뚫어 주세요.\n"
     ]
    },
    {
     "name": "stderr",
     "output_type": "stream",
     "text": [
      " 37%|███████████████████████████████████████████████████████████████▏                                                                                                           | 17/46 [01:29<02:22,  4.93s/it]The attention mask and the pad token id were not set. As a consequence, you may observe unexpected behavior. Please pass your input's `attention_mask` to obtain reliable results.\n",
      "Setting `pad_token_id` to `eos_token_id`:30003 for open-end generation.\n",
      "A decoder-only architecture is being used, but right-padding was detected! For correct generation results, please set `padding_side='left'` when initializing the tokenizer.\n"
     ]
    },
    {
     "name": "stdout",
     "output_type": "stream",
     "text": [
      "인테리어에서 사용되는 바닥재로는 주로 대리석, 목재, 대나무, 종이 등이 사용됩니다. 이러한 바닥재들은 각각의 특성에 따라 고르는 방법이 다를 수 있습니다.\n"
     ]
    },
    {
     "name": "stderr",
     "output_type": "stream",
     "text": [
      " 39%|██████████████████████████████████████████████████████████████████▉                                                                                                        | 18/46 [01:36<02:39,  5.68s/it]The attention mask and the pad token id were not set. As a consequence, you may observe unexpected behavior. Please pass your input's `attention_mask` to obtain reliable results.\n",
      "Setting `pad_token_id` to `eos_token_id`:30003 for open-end generation.\n",
      "A decoder-only architecture is being used, but right-padding was detected! For correct generation results, please set `padding_side='left'` when initializing the tokenizer.\n"
     ]
    },
    {
     "name": "stdout",
     "output_type": "stream",
     "text": [
      "복도나 협소한 공간에서도 쾌적한 인테리어를 구성하는 데에는 몇 가지 방법이 있습니다. 먼저, 큰 거울을 사용하여 공간을 확장시킬 수 있습니다. 거울은 시각적인 확장 효과를 주어 공간을 넓어 보이게 만들어줍니다. 또한, 밝은 컬러의 벽지나 인테리어 소품을 활용하여 공간을 밝고 개방적으로 만들 수 있습니다. 마지막으로, 슬림한 디자인의 가구를 선택하여 협소한 공간에 적합한 가구를 활용하여 쾌적한 분위기를 조성할 수 있습니다.\n"
     ]
    },
    {
     "name": "stderr",
     "output_type": "stream",
     "text": [
      " 41%|██████████████████████████████████████████████████████████████████████▋                                                                                                    | 19/46 [01:40<02:13,  4.93s/it]The attention mask and the pad token id were not set. As a consequence, you may observe unexpected behavior. Please pass your input's `attention_mask` to obtain reliable results.\n",
      "Setting `pad_token_id` to `eos_token_id`:30003 for open-end generation.\n",
      "A decoder-only architecture is being used, but right-padding was detected! For correct generation results, please set `padding_side='left'` when initializing the tokenizer.\n"
     ]
    },
    {
     "name": "stdout",
     "output_type": "stream",
     "text": [
      "배관공사 시 통기구란 배관 내부에서 공기와 물의 순환이 원활하게 이루어지도록 하고, 온도와 압력을 조절하는 역할을 합니다. 또한 배관의 수명을 연장하고 유지보수 비용을 줄이는 데 도움이 됩니다.\n"
     ]
    },
    {
     "name": "stderr",
     "output_type": "stream",
     "text": [
      " 43%|██████████████████████████████████████████████████████████████████████████▎                                                                                                | 20/46 [01:40<01:35,  3.68s/it]The attention mask and the pad token id were not set. As a consequence, you may observe unexpected behavior. Please pass your input's `attention_mask` to obtain reliable results.\n",
      "Setting `pad_token_id` to `eos_token_id`:30003 for open-end generation.\n",
      "A decoder-only architecture is being used, but right-padding was detected! For correct generation results, please set `padding_side='left'` when initializing the tokenizer.\n"
     ]
    },
    {
     "name": "stdout",
     "output_type": "stream",
     "text": [
      "규산질계 침투성이 뭐야?\n"
     ]
    },
    {
     "name": "stderr",
     "output_type": "stream",
     "text": [
      " 46%|██████████████████████████████████████████████████████████████████████████████                                                                                             | 21/46 [01:48<02:01,  4.87s/it]The attention mask and the pad token id were not set. As a consequence, you may observe unexpected behavior. Please pass your input's `attention_mask` to obtain reliable results.\n",
      "Setting `pad_token_id` to `eos_token_id`:30003 for open-end generation.\n",
      "A decoder-only architecture is being used, but right-padding was detected! For correct generation results, please set `padding_side='left'` when initializing the tokenizer.\n"
     ]
    },
    {
     "name": "stdout",
     "output_type": "stream",
     "text": [
      "내부와 외부의 온도의 큰 차이는 곰팡이 발생을 촉진시키는 요인이 됩니다. 이는 온도의 큰 차이에 의해 도배지에 결로가 발생하여 곰팡이가 발생할 수 있기 때문입니다. 따라서 온도 관리가 중요하며, 온도차를 줄이기 위해 냉열기를 가동하는 것이 도움이 될 수 있습니다. 또한, 제습기를 가동하여 실내 습도를 관리하는 것도 중요합니다. 만약 이러한 조치에도 불구하고 곰팡이가 발생한다면, 전문가의 도움을 받아 곰팡이 제거와 취급하는 것이 좋습니다.\n"
     ]
    },
    {
     "name": "stderr",
     "output_type": "stream",
     "text": [
      " 48%|█████████████████████████████████████████████████████████████████████████████████▊                                                                                         | 22/46 [01:54<02:06,  5.29s/it]The attention mask and the pad token id were not set. As a consequence, you may observe unexpected behavior. Please pass your input's `attention_mask` to obtain reliable results.\n",
      "Setting `pad_token_id` to `eos_token_id`:30003 for open-end generation.\n",
      "A decoder-only architecture is being used, but right-padding was detected! For correct generation results, please set `padding_side='left'` when initializing the tokenizer.\n"
     ]
    },
    {
     "name": "stdout",
     "output_type": "stream",
     "text": [
      "기둥의 장점은 건물의 외벽에 하중이 적게 걸리기 때문에 고층 건물의 건축이 용이하다는 점입니다. 또한 철골구조는 높은 강도를 가지고 있어 안정성이 뛰어나며, 시공성이 우수하여 건설 기간을 단축할 수 있는 장점이 있습니다.\n"
     ]
    },
    {
     "name": "stderr",
     "output_type": "stream",
     "text": [
      " 50%|█████████████████████████████████████████████████████████████████████████████████████▌                                                                                     | 23/46 [02:02<02:15,  5.87s/it]The attention mask and the pad token id were not set. As a consequence, you may observe unexpected behavior. Please pass your input's `attention_mask` to obtain reliable results.\n",
      "Setting `pad_token_id` to `eos_token_id`:30003 for open-end generation.\n",
      "A decoder-only architecture is being used, but right-padding was detected! For correct generation results, please set `padding_side='left'` when initializing the tokenizer.\n"
     ]
    },
    {
     "name": "stdout",
     "output_type": "stream",
     "text": [
      "새집증후군을 예방할 수 있는 방법은 목재 가구나 건축 자재에 포름알데히드 등 유해 물질이 사용되지 않도록 주의해야 합니다. 또한 실내 흡연을 피하고, 휘발성 유기 화합물을 함유한 제품 및 방향제를 사용하지 않아야 합니다. 실내에 공기 정화 식물을 두고, 자주 환기를 시켜 공기를 맑고 건강하게 유지하는 것이 중요합니다. 또한 실내 습도를 적정하게 유지하고 정기적으로 청소를 하면 더욱 효과적일 것입니다.\n"
     ]
    },
    {
     "name": "stderr",
     "output_type": "stream",
     "text": [
      " 52%|█████████████████████████████████████████████████████████████████████████████████████████▏                                                                                 | 24/46 [02:09<02:17,  6.26s/it]The attention mask and the pad token id were not set. As a consequence, you may observe unexpected behavior. Please pass your input's `attention_mask` to obtain reliable results.\n",
      "Setting `pad_token_id` to `eos_token_id`:30003 for open-end generation.\n",
      "A decoder-only architecture is being used, but right-padding was detected! For correct generation results, please set `padding_side='left'` when initializing the tokenizer.\n"
     ]
    },
    {
     "name": "stdout",
     "output_type": "stream",
     "text": [
      "옥상 방수용 탄성 에멜전 페인트의 장점은 건조 후 이음매 없이 연속적으로 형성된 도막이 뛰어난 내수성을 가지고 있어 건물의 충격이나 수축과 팽창에도 도막이 갈라지거나 손상되지 않으며, 침수가 장기간 반복되는 옥외폭로 조건에서도 소지 부착성과 내구성을 유지할 수 있는 것입니다. 또한, 이 제품은 탄성과 인장강도를 보유하여 방수성을 높일 뿐만 아니라 건축물의 옥상을 보호하는 데 효과적입니다.\n"
     ]
    },
    {
     "name": "stderr",
     "output_type": "stream",
     "text": [
      " 54%|████████████████████████████████████████████████████████████████████████████████████████████▉                                                                              | 25/46 [02:23<03:00,  8.62s/it]The attention mask and the pad token id were not set. As a consequence, you may observe unexpected behavior. Please pass your input's `attention_mask` to obtain reliable results.\n",
      "Setting `pad_token_id` to `eos_token_id`:30003 for open-end generation.\n",
      "A decoder-only architecture is being used, but right-padding was detected! For correct generation results, please set `padding_side='left'` when initializing the tokenizer.\n"
     ]
    },
    {
     "name": "stdout",
     "output_type": "stream",
     "text": [
      "MSDS는 주로 물질안전보건자료로 사용되며, 화학 물질의 잠재적 위험에 대한 정보와 안전한 취급, 보관, 폐기에 대한 지침을 포함하는 문서입니다. MSDS는 작업장 내 화학물질에 대한 유해한 노출로부터 근로자를 보호하기 위해 산업안전보건공단, 환경공단, 미국의 OSHA(산업안전보건국)와 같은 규제 기관에서 요구하고 있습니다. 또한, MSDS는 화학물질의 유해성, 위험성, 응급조치 요령, 취급 방법 등을 설명하며, 사업주는 MSDS를 통해 취급하는 화학물질에 대한 정보를 얻어 관리하며, 근로자는 직업병이나 재해사고로부터 자신을 예방할 수 있습니다. 제조사는 산업안전보건법에 따라 MSDS를 작성하여야 하며, 각 국가마다 MSDS 양식은 다르지만, 최근에는 전세계가 동일한 양식과 체계의 MSDS를 사용하고 있습니다.\n"
     ]
    },
    {
     "name": "stderr",
     "output_type": "stream",
     "text": [
      " 57%|████████████████████████████████████████████████████████████████████████████████████████████████▋                                                                          | 26/46 [02:24<02:10,  6.52s/it]The attention mask and the pad token id were not set. As a consequence, you may observe unexpected behavior. Please pass your input's `attention_mask` to obtain reliable results.\n",
      "Setting `pad_token_id` to `eos_token_id`:30003 for open-end generation.\n",
      "A decoder-only architecture is being used, but right-padding was detected! For correct generation results, please set `padding_side='left'` when initializing the tokenizer.\n"
     ]
    },
    {
     "name": "stdout",
     "output_type": "stream",
     "text": [
      "건조시간이 충분하다면 도배 후 완전 건조되기 전까지 꼬임이 발생할 수 있습니다.\n"
     ]
    },
    {
     "name": "stderr",
     "output_type": "stream",
     "text": [
      " 59%|████████████████████████████████████████████████████████████████████████████████████████████████████▎                                                                      | 27/46 [02:28<01:44,  5.51s/it]The attention mask and the pad token id were not set. As a consequence, you may observe unexpected behavior. Please pass your input's `attention_mask` to obtain reliable results.\n",
      "Setting `pad_token_id` to `eos_token_id`:30003 for open-end generation.\n",
      "A decoder-only architecture is being used, but right-padding was detected! For correct generation results, please set `padding_side='left'` when initializing the tokenizer.\n"
     ]
    },
    {
     "name": "stdout",
     "output_type": "stream",
     "text": [
      "벽지를 선택할 때는 공간의 크기, 조명 상태, 가구의 색상 등을 고려해야 합니다. 또한, 벽지의 패턴과 질감도 전체적인 디자인에 맞게 조화롭게 선택하는 것이 중요합니다.\n"
     ]
    },
    {
     "name": "stderr",
     "output_type": "stream",
     "text": [
      " 61%|████████████████████████████████████████████████████████████████████████████████████████████████████████                                                                   | 28/46 [02:41<02:20,  7.79s/it]The attention mask and the pad token id were not set. As a consequence, you may observe unexpected behavior. Please pass your input's `attention_mask` to obtain reliable results.\n",
      "Setting `pad_token_id` to `eos_token_id`:30003 for open-end generation.\n",
      "A decoder-only architecture is being used, but right-padding was detected! For correct generation results, please set `padding_side='left'` when initializing the tokenizer.\n"
     ]
    },
    {
     "name": "stdout",
     "output_type": "stream",
     "text": [
      "넓은 공간을 연출하기 위해서는 몇 가지 포인트를 고려해야 합니다. 먼저, 큰 거울을 설치하여 공간을 확장하는 것이 중요합니다. 또한, 밝은 컬러의 벽지나 가구를 선택하여 공간을 밝고 개방적으로 만들 수 있습니다. 마지막으로, 조명과 색상을 효율적으로 활용하여 공간을 밝하고 개방적으로 만들어보세요. 예를 들어, 간접 조명과 밝은 조명을 활용하여 공간의 분위기를 조절하고, 이중선반을 활용하여 수납 공간을 효과적으로 확보할 수 있습니다. 또한, 공간을 넓어 보이게 하는 데코타일을 활용하는 것도 좋은 방법입니다. 데코타일은 저렴한 가격과 간편한 시공뿐만 아니라 우수한 내구성과 내수성을 갖추고 있어 많은 사람들에게 선호되고 있습니다.\n"
     ]
    },
    {
     "name": "stderr",
     "output_type": "stream",
     "text": [
      " 63%|███████████████████████████████████████████████████████████████████████████████████████████████████████████▊                                                               | 29/46 [02:42<01:38,  5.80s/it]The attention mask and the pad token id were not set. As a consequence, you may observe unexpected behavior. Please pass your input's `attention_mask` to obtain reliable results.\n",
      "Setting `pad_token_id` to `eos_token_id`:30003 for open-end generation.\n",
      "A decoder-only architecture is being used, but right-padding was detected! For correct generation results, please set `padding_side='left'` when initializing the tokenizer.\n"
     ]
    },
    {
     "name": "stdout",
     "output_type": "stream",
     "text": [
      "아파트 도배평수는 일반적으로 분양 평수*2.5로 계산합니다.\n"
     ]
    },
    {
     "name": "stderr",
     "output_type": "stream",
     "text": [
      " 65%|███████████████████████████████████████████████████████████████████████████████████████████████████████████████▌                                                           | 30/46 [02:49<01:40,  6.31s/it]The attention mask and the pad token id were not set. As a consequence, you may observe unexpected behavior. Please pass your input's `attention_mask` to obtain reliable results.\n",
      "Setting `pad_token_id` to `eos_token_id`:30003 for open-end generation.\n",
      "A decoder-only architecture is being used, but right-padding was detected! For correct generation results, please set `padding_side='left'` when initializing the tokenizer.\n"
     ]
    },
    {
     "name": "stdout",
     "output_type": "stream",
     "text": [
      "석고수정은 건물의 구조적 결함으로 인해 발생할 수 있습니다. 건물 구조적 결함은 건물의 설계 또는 시공 단계에서 발생한 결함으로, 예를 들어 지지체의 불균형, 부재의 미반영 등이 해당됩니다. 이러한 결함으로 인해 석고수정이 용이하게 발생할 수 있으며, 이에 대한 대책으로는 제습기를 가동하고 환기를 통해 실내 적정 습도를 유지하는 것이 중요합니다. 또한, 전문가의 도움을 받아 보수 작업을 진행하는 것이 좋습니다.\n"
     ]
    },
    {
     "name": "stderr",
     "output_type": "stream",
     "text": [
      " 67%|███████████████████████████████████████████████████████████████████████████████████████████████████████████████████▏                                                       | 31/46 [02:53<01:22,  5.52s/it]The attention mask and the pad token id were not set. As a consequence, you may observe unexpected behavior. Please pass your input's `attention_mask` to obtain reliable results.\n",
      "Setting `pad_token_id` to `eos_token_id`:30003 for open-end generation.\n",
      "A decoder-only architecture is being used, but right-padding was detected! For correct generation results, please set `padding_side='left'` when initializing the tokenizer.\n"
     ]
    },
    {
     "name": "stdout",
     "output_type": "stream",
     "text": [
      "면 불량은 주로 시공자가 부실 설치를 했거나 잘못된 공구와 재료를 사용했을 때 발생할 수 있습니다. 이러한 경우에는 면 불량이 발생할 가능성이 높으므로 시공자로부터 연락을 받는 것이 좋습니다.\n"
     ]
    },
    {
     "name": "stderr",
     "output_type": "stream",
     "text": [
      " 70%|██████████████████████████████████████████████████████████████████████████████████████████████████████████████████████▉                                                    | 32/46 [03:03<01:37,  6.95s/it]The attention mask and the pad token id were not set. As a consequence, you may observe unexpected behavior. Please pass your input's `attention_mask` to obtain reliable results.\n",
      "Setting `pad_token_id` to `eos_token_id`:30003 for open-end generation.\n",
      "A decoder-only architecture is being used, but right-padding was detected! For correct generation results, please set `padding_side='left'` when initializing the tokenizer.\n"
     ]
    },
    {
     "name": "stdout",
     "output_type": "stream",
     "text": [
      "마감재의 하자 여부를 판단하기 위해서는 몇 가지 요소를 고려해야 합니다. 첫째로는 설계도서와의 일치 여부가 있습니다. 마감재가 설계도서에 명시된 내용과 일치하는지 확인해야 합니다. 둘째로는 기능상의 문제, 예를 들어 마감재가 쉽게 파손되거나 사용상의 문제가 있는지를 확인해야 합니다. 그 다음으로는 미관상의 문제 여부도 중요합니다. 마감재의 외관이나 마감재들 간의 조화가 보존되었는지 확인해야 합니다공극이 발생하는 원인 - 책임소재 - 해결방법에 대해 설명드리겠습니다. 1. 공간 내 높은 습도 원인 : 높은 습기는 도배지의 끝 부분이 들뜰 수 있어?\n"
     ]
    },
    {
     "name": "stderr",
     "output_type": "stream",
     "text": [
      " 72%|██████████████████████████████████████████████████████████████████████████████████████████████████████████████████████████▋                                                | 33/46 [03:09<01:24,  6.51s/it]The attention mask and the pad token id were not set. As a consequence, you may observe unexpected behavior. Please pass your input's `attention_mask` to obtain reliable results.\n",
      "Setting `pad_token_id` to `eos_token_id`:30003 for open-end generation.\n",
      "A decoder-only architecture is being used, but right-padding was detected! For correct generation results, please set `padding_side='left'` when initializing the tokenizer.\n"
     ]
    },
    {
     "name": "stdout",
     "output_type": "stream",
     "text": [
      "중목구조는 건물의 지탱을 하기 위해 건축물의 틀과 지지대로 사용되는 양식을 말합니다. 이 구조 방식은 기본적으로 기중-보 방식과 유사하지만, 구조용 목재로 큰 각재를 사용하여 건축하는 것이 특징입니다. 중목구조는 건물 전체에 일정한 하중을 전달하면서 내구성과 안정성을 확보하는 데에 사용됩니다.\n"
     ]
    },
    {
     "name": "stderr",
     "output_type": "stream",
     "text": [
      " 74%|██████████████████████████████████████████████████████████████████████████████████████████████████████████████████████████████▍                                            | 34/46 [03:14<01:12,  6.02s/it]The attention mask and the pad token id were not set. As a consequence, you may observe unexpected behavior. Please pass your input's `attention_mask` to obtain reliable results.\n",
      "Setting `pad_token_id` to `eos_token_id`:30003 for open-end generation.\n",
      "A decoder-only architecture is being used, but right-padding was detected! For correct generation results, please set `padding_side='left'` when initializing the tokenizer.\n"
     ]
    },
    {
     "name": "stdout",
     "output_type": "stream",
     "text": [
      "벽돌은 건물의 벽체나 기초를 벽돌과 모르타르로 쌓아 만드는 건축 방식을 말합니다. 이는 조적식 구조의 기본이며, 블록, 석재, 타일 등을 섞어 사용하기도 합니다. 이러한 구조법은 주로 담장, 굴뚝, 그리고 기타 다양한 구조물을 축조하는 데 활용됩니다.\n"
     ]
    },
    {
     "name": "stderr",
     "output_type": "stream",
     "text": [
      " 76%|██████████████████████████████████████████████████████████████████████████████████████████████████████████████████████████████████                                         | 35/46 [03:20<01:08,  6.19s/it]The attention mask and the pad token id were not set. As a consequence, you may observe unexpected behavior. Please pass your input's `attention_mask` to obtain reliable results.\n",
      "Setting `pad_token_id` to `eos_token_id`:30003 for open-end generation.\n",
      "A decoder-only architecture is being used, but right-padding was detected! For correct generation results, please set `padding_side='left'` when initializing the tokenizer.\n"
     ]
    },
    {
     "name": "stdout",
     "output_type": "stream",
     "text": [
      "기둥의 장점은 건물의 외벽에 하중이 적게 걸리기 때문에 고층 건물의 건축이 용이하다는 점입니다. 또한 철골구조는 높은 강도를 가지고 있어 안정성이 뛰어나며, 시공성이 우수하여 건설 기간을 단축할 수 있는 장점이 있습니다.\n"
     ]
    },
    {
     "name": "stderr",
     "output_type": "stream",
     "text": [
      " 78%|█████████████████████████████████████████████████████████████████████████████████████████████████████████████████████████████████████▊                                     | 36/46 [03:26<01:00,  6.07s/it]The attention mask and the pad token id were not set. As a consequence, you may observe unexpected behavior. Please pass your input's `attention_mask` to obtain reliable results.\n",
      "Setting `pad_token_id` to `eos_token_id`:30003 for open-end generation.\n",
      "A decoder-only architecture is being used, but right-padding was detected! For correct generation results, please set `padding_side='left'` when initializing the tokenizer.\n"
     ]
    },
    {
     "name": "stdout",
     "output_type": "stream",
     "text": [
      "바닥재를 선택할 경우 가장 중요한 것은 사용 공간의 특성을 고려하는 것입니다. 예를 들어, 주방이나 욕실과 같은 습기가 많은 공간에는 습기에 강한 소재를 선택해야 합니다. 또한, 바닥재의 색상과 디자인은 기존 가구와 잘 어울리는지, 그리고 청소와 유지보수가 쉬운지도 고려해야 합니다. 따라서 바닥재를 선택하면 공간을 효율적으로 활용할 수 있습니다.\n"
     ]
    },
    {
     "name": "stderr",
     "output_type": "stream",
     "text": [
      " 80%|█████████████████████████████████████████████████████████████████████████████████████████████████████████████████████████████████████████▌                                 | 37/46 [03:30<00:49,  5.49s/it]The attention mask and the pad token id were not set. As a consequence, you may observe unexpected behavior. Please pass your input's `attention_mask` to obtain reliable results.\n",
      "Setting `pad_token_id` to `eos_token_id`:30003 for open-end generation.\n",
      "A decoder-only architecture is being used, but right-padding was detected! For correct generation results, please set `padding_side='left'` when initializing the tokenizer.\n"
     ]
    },
    {
     "name": "stdout",
     "output_type": "stream",
     "text": [
      "도배지는 패턴과 텍스처를 추가할 때 좋고, 도료는 단색이며 부드러운 마감을 원할 때 유용합니다.\n"
     ]
    },
    {
     "name": "stderr",
     "output_type": "stream",
     "text": [
      " 83%|█████████████████████████████████████████████████████████████████████████████████████████████████████████████████████████████████████████████▎                             | 38/46 [03:36<00:43,  5.46s/it]The attention mask and the pad token id were not set. As a consequence, you may observe unexpected behavior. Please pass your input's `attention_mask` to obtain reliable results.\n",
      "Setting `pad_token_id` to `eos_token_id`:30003 for open-end generation.\n",
      "A decoder-only architecture is being used, but right-padding was detected! For correct generation results, please set `padding_side='left'` when initializing the tokenizer.\n"
     ]
    },
    {
     "name": "stdout",
     "output_type": "stream",
     "text": [
      "징크판넬의 가격이 다른 소재에 비해 비교적 높은 편이며, 시공이 잘못될 경우 쉽게 녹슬 수 있다는 점이 있습니다. 이러한 단점을 고려하여 적절한 유지보수와 정기적인 관리가 필요합니다.\n"
     ]
    },
    {
     "name": "stderr",
     "output_type": "stream",
     "text": [
      " 85%|████████████████████████████████████████████████████████████████████████████████████████████████████████████████████████████████████████████████▉                          | 39/46 [03:42<00:40,  5.72s/it]The attention mask and the pad token id were not set. As a consequence, you may observe unexpected behavior. Please pass your input's `attention_mask` to obtain reliable results.\n",
      "Setting `pad_token_id` to `eos_token_id`:30003 for open-end generation.\n",
      "A decoder-only architecture is being used, but right-padding was detected! For correct generation results, please set `padding_side='left'` when initializing the tokenizer.\n"
     ]
    },
    {
     "name": "stdout",
     "output_type": "stream",
     "text": [
      "높은 습도로 인해 석고보드의 패턴이 이어지지 이는 않은 경우, 이음메 부분이 들뜰 수 있습니다. 이는 도배 작업의 품질을 떨어지게 만들 수 있습니다. 따라서 습도를 관리하고 적절한 환기를 유지하는 것이 중요합니다. 또한, 온도와 습도의 변화에 따라 도배지의 패턴이 달라질 수 있으므로 이러한 요소들을 고려하여 도배 작업을 진행하는 것이 좋습니다.\n"
     ]
    },
    {
     "name": "stderr",
     "output_type": "stream",
     "text": [
      " 87%|████████████████████████████████████████████████████████████████████████████████████████████████████████████████████████████████████████████████████▋                      | 40/46 [03:48<00:35,  5.91s/it]The attention mask and the pad token id were not set. As a consequence, you may observe unexpected behavior. Please pass your input's `attention_mask` to obtain reliable results.\n",
      "Setting `pad_token_id` to `eos_token_id`:30003 for open-end generation.\n",
      "A decoder-only architecture is being used, but right-padding was detected! For correct generation results, please set `padding_side='left'` when initializing the tokenizer.\n"
     ]
    },
    {
     "name": "stdout",
     "output_type": "stream",
     "text": [
      "라돈은 공동주택의 실내공기질 측정지점으로 알려져 있습니다. 공동주택의 총 세대수가 100세대일 때는 3세대를 측정하고, 이후 100세대가 증가할 때마다 1세대씩 추가하여 최대 12세대까지 시료를 채취합니다. 이는 공동주택의 구조와 크기를 고려하여 대표성 있는 측정값을 얻기 위한 것입니다.\n"
     ]
    },
    {
     "name": "stderr",
     "output_type": "stream",
     "text": [
      " 89%|████████████████████████████████████████████████████████████████████████████████████████████████████████████████████████████████████████████████████████▍                  | 41/46 [03:53<00:28,  5.66s/it]The attention mask and the pad token id were not set. As a consequence, you may observe unexpected behavior. Please pass your input's `attention_mask` to obtain reliable results.\n",
      "Setting `pad_token_id` to `eos_token_id`:30003 for open-end generation.\n",
      "A decoder-only architecture is being used, but right-padding was detected! For correct generation results, please set `padding_side='left'` when initializing the tokenizer.\n"
     ]
    },
    {
     "name": "stdout",
     "output_type": "stream",
     "text": [
      "분말 소화기는 탄산수소 나트륨 분말을 사용하여 불을 질식시키는 불연성 고압가스에 의해 소화약제를 방출하는 소화기입니다. 주로 기체 화재에 사용되며, 높은 화재 위험이 있는 곳에 설치되어 있습니다. 독특한 작동 방식으로 인해 일반적인 불화재 소화기보다 불연소 화재를 진압하는 효과적인 소화기입니다.\n"
     ]
    },
    {
     "name": "stderr",
     "output_type": "stream",
     "text": [
      " 91%|████████████████████████████████████████████████████████████████████████████████████████████████████████████████████████████████████████████████████████████▏              | 42/46 [03:55<00:17,  4.40s/it]The attention mask and the pad token id were not set. As a consequence, you may observe unexpected behavior. Please pass your input's `attention_mask` to obtain reliable results.\n",
      "Setting `pad_token_id` to `eos_token_id`:30003 for open-end generation.\n",
      "A decoder-only architecture is being used, but right-padding was detected! For correct generation results, please set `padding_side='left'` when initializing the tokenizer.\n"
     ]
    },
    {
     "name": "stdout",
     "output_type": "stream",
     "text": [
      "면진구조란 면진 장치를 사용해 지반과 건물을 분리시키는 방법을 의미합니다.\n"
     ]
    },
    {
     "name": "stderr",
     "output_type": "stream",
     "text": [
      " 93%|███████████████████████████████████████████████████████████████████████████████████████████████████████████████████████████████████████████████████████████████▊           | 43/46 [03:56<00:10,  3.52s/it]The attention mask and the pad token id were not set. As a consequence, you may observe unexpected behavior. Please pass your input's `attention_mask` to obtain reliable results.\n",
      "Setting `pad_token_id` to `eos_token_id`:30003 for open-end generation.\n",
      "A decoder-only architecture is being used, but right-padding was detected! For correct generation results, please set `padding_side='left'` when initializing the tokenizer.\n"
     ]
    },
    {
     "name": "stdout",
     "output_type": "stream",
     "text": [
      "구멍을 메우기 위해 합성 먼지 또는 석고를 사용하고, 필요하면 패팅을 적용합니다.\n"
     ]
    },
    {
     "name": "stderr",
     "output_type": "stream",
     "text": [
      " 96%|███████████████████████████████████████████████████████████████████████████████████████████████████████████████████████████████████████████████████████████████████▌       | 44/46 [04:02<00:08,  4.23s/it]The attention mask and the pad token id were not set. As a consequence, you may observe unexpected behavior. Please pass your input's `attention_mask` to obtain reliable results.\n",
      "Setting `pad_token_id` to `eos_token_id`:30003 for open-end generation.\n",
      "A decoder-only architecture is being used, but right-padding was detected! For correct generation results, please set `padding_side='left'` when initializing the tokenizer.\n"
     ]
    },
    {
     "name": "stdout",
     "output_type": "stream",
     "text": [
      "내진구조는 건물의 구조물에 충격이 발생했을 때 붕괴되지 않도록 설계된 구조를 말합니다. 내진구조는 지진 발생 시 건물의 붕괴나 큰 피해를 최소화하기 위해 설계된 시스템으로, 건물의 기초나 건물 구조물에 충격을 완화시키는 장치 등을 설치하여 지진으로 인한 피해를 최소화합니다.\n"
     ]
    },
    {
     "name": "stderr",
     "output_type": "stream",
     "text": [
      " 98%|███████████████████████████████████████████████████████████████████████████████████████████████████████████████████████████████████████████████████████████████████████▎   | 45/46 [04:03<00:03,  3.31s/it]The attention mask and the pad token id were not set. As a consequence, you may observe unexpected behavior. Please pass your input's `attention_mask` to obtain reliable results.\n",
      "Setting `pad_token_id` to `eos_token_id`:30003 for open-end generation.\n",
      "A decoder-only architecture is being used, but right-padding was detected! For correct generation results, please set `padding_side='left'` when initializing the tokenizer.\n"
     ]
    },
    {
     "name": "stdout",
     "output_type": "stream",
     "text": [
      "아파트 도배평수는 일반적으로 분양 평수*2.5로 계산합니다.\n"
     ]
    },
    {
     "name": "stderr",
     "output_type": "stream",
     "text": [
      "100%|███████████████████████████████████████████████████████████████████████████████████████████████████████████████████████████████████████████████████████████████████████████| 46/46 [04:08<00:00,  5.40s/it]"
     ]
    },
    {
     "name": "stdout",
     "output_type": "stream",
     "text": [
      "오리지널징크는 다른 징크에 비해 수명이 길고 다양한 패턴과 디자인이 가능하며 친환경적이고 금속 부식에 대한 내식성이 뛰어나 유지보수가 쉽다는 장점이 있습니다. 또한 오리지널징크는 가벼우면서도 매우 견고하며 낮은 유지보수 비용과 높은 재활용 가능성을 갖고 있습니다.\n"
     ]
    },
    {
     "name": "stderr",
     "output_type": "stream",
     "text": [
      "\n"
     ]
    }
   ],
   "source": [
    "file_path = \"result_alpha_appendix_1_r2.txt\"\n",
    "\n",
    "\n",
    "for idx, test_question in tqdm(appedix_dict_1.items()):\n",
    "    # 입력 텍스트를 토큰화하고 모델 입력 형태로 변환\n",
    "    \n",
    "    input_ids = tokenizer.encode(test_question + tokenizer.eos_token, return_tensors='pt')\n",
    "\n",
    "    # 답변 생성\n",
    "    with torch.no_grad():\n",
    "\n",
    "        # output_sequences = model.generate(\n",
    "        #     input_ids=input_ids.to(device),\n",
    "        #     max_length=2000,\n",
    "        #     min_length=20,\n",
    "        #     temperature=1.5,\n",
    "        #     top_k=120,\n",
    "        #     top_p=1.5,\n",
    "        #     repetition_penalty=1.0,\n",
    "        #     do_sample=True,\n",
    "        #     num_beams=120,\n",
    "        #     # no_repeat_ngram_size=3,\n",
    "        #     # num_return_sequences=1,\n",
    "        #     # eos_token_id=tokenizer.eos_token_id\n",
    "        # )\n",
    "        output_sequences = model.generate(\n",
    "            input_ids=input_ids.to(device),\n",
    "            max_length=800,\n",
    "            min_length=20,\n",
    "            temperature=0.8,\n",
    "            top_k=500,\n",
    "            top_p=0.8,\n",
    "            repetition_penalty=1.5,\n",
    "            do_sample=True,\n",
    "            num_beams=18,\n",
    "            no_repeat_ngram_size=5,\n",
    "            # num_return_sequences=1,\n",
    "            eos_token_id=tokenizer.eos_token_id\n",
    "        )\n",
    "\n",
    "\n",
    "    for generated_sequence in output_sequences:\n",
    "        full_text = tokenizer.decode(generated_sequence, skip_special_tokens=False)\n",
    "        print(full_text)\n",
    "        answer_start = full_text.find(tokenizer.eos_token) \n",
    "        anser_end = full_text.rfind(tokenizer.eos_token) \n",
    "        answer_only = full_text[answer_start+4:anser_end].strip()\n",
    "        answer_only = answer_only.replace('\\n', ' ')\n",
    "        preds.append(answer_only)\n",
    "        print(answer_only)\n",
    "        answer_only = str(idx)+answer_only+'\\n'\n",
    "    if idx==0:\n",
    "        with open(file_path, \"w\") as file:\n",
    "            file.write(answer_only)\n",
    "    else:\n",
    "        with open(file_path, \"a\") as file:\n",
    "            file.write(answer_only)\n",
    "    idx+=1"
   ]
  },
  {
   "cell_type": "code",
   "execution_count": 12,
   "id": "16f13b91-1b26-4860-9e71-acfc62cc4f52",
   "metadata": {},
   "outputs": [
    {
     "name": "stderr",
     "output_type": "stream",
     "text": [
      "  0%|                                                                                                                                                                                    | 0/12 [00:00<?, ?it/s]The attention mask and the pad token id were not set. As a consequence, you may observe unexpected behavior. Please pass your input's `attention_mask` to obtain reliable results.\n",
      "Setting `pad_token_id` to `eos_token_id`:30003 for open-end generation.\n",
      "A decoder-only architecture is being used, but right-padding was detected! For correct generation results, please set `padding_side='left'` when initializing the tokenizer.\n",
      "  8%|██████████████▎                                                                                                                                                             | 1/12 [00:01<00:21,  1.96s/it]The attention mask and the pad token id were not set. As a consequence, you may observe unexpected behavior. Please pass your input's `attention_mask` to obtain reliable results.\n",
      "Setting `pad_token_id` to `eos_token_id`:30003 for open-end generation.\n",
      "A decoder-only architecture is being used, but right-padding was detected! For correct generation results, please set `padding_side='left'` when initializing the tokenizer.\n"
     ]
    },
    {
     "name": "stdout",
     "output_type": "stream",
     "text": [
      "합지벽지는 가격이 저렴하고 이음새 겹침으로 시공이 쉬우며 실크벽지보다 친환경인 점이 장점입니다.\n",
      "합지벽지는 가격이 저렴하고 이음새 겹침으로 시공이 쉬우며 실크벽지보다 친환경인 점이 장점입니다.\n"
     ]
    },
    {
     "name": "stderr",
     "output_type": "stream",
     "text": [
      " 17%|████████████████████████████▋                                                                                                                                               | 2/12 [00:07<00:39,  3.95s/it]The attention mask and the pad token id were not set. As a consequence, you may observe unexpected behavior. Please pass your input's `attention_mask` to obtain reliable results.\n",
      "Setting `pad_token_id` to `eos_token_id`:30003 for open-end generation.\n",
      "A decoder-only architecture is being used, but right-padding was detected! For correct generation results, please set `padding_side='left'` when initializing the tokenizer.\n"
     ]
    },
    {
     "name": "stdout",
     "output_type": "stream",
     "text": [
      "페인트 상도기는 최종 마감으로 칠하는 페인트로, 영어로는 Top Coating이라고 합니다. 상도재는 하도재와 주도재의 제품을 보호하는 역할을 담당하며, 외부 표면에 노출될 때의 열 및 기후에 강하며 내구성이 높은 특징을 가지고 있습니다. 이러한 장점 때문에 가격이 다소 비쌉니다.\n",
      "페인트 상도기는 최종 마감으로 칠하는 페인트로, 영어로는 Top Coating이라고 합니다. 상도재는 하도재와 주도재의 제품을 보호하는 역할을 담당하며, 외부 표면에 노출될 때의 열 및 기후에 강하며 내구성이 높은 특징을 가지고 있습니다. 이러한 장점 때문에 가격이 다소 비쌉니다.\n"
     ]
    },
    {
     "name": "stderr",
     "output_type": "stream",
     "text": [
      " 25%|███████████████████████████████████████████                                                                                                                                 | 3/12 [00:08<00:26,  2.90s/it]The attention mask and the pad token id were not set. As a consequence, you may observe unexpected behavior. Please pass your input's `attention_mask` to obtain reliable results.\n",
      "Setting `pad_token_id` to `eos_token_id`:30003 for open-end generation.\n",
      "A decoder-only architecture is being used, but right-padding was detected! For correct generation results, please set `padding_side='left'` when initializing the tokenizer.\n"
     ]
    },
    {
     "name": "stdout",
     "output_type": "stream",
     "text": [
      "네, 습도가 높으면 환경이 곰팡이에게 이상적이므로 곰팡이가 쉽게 발생할 수 있습니다.\n",
      "네, 습도가 높으면 환경이 곰팡이에게 이상적이므로 곰팡이가 쉽게 발생할 수 있습니다.\n"
     ]
    },
    {
     "name": "stderr",
     "output_type": "stream",
     "text": [
      " 33%|█████████████████████████████████████████████████████████▎                                                                                                                  | 4/12 [00:14<00:32,  4.01s/it]The attention mask and the pad token id were not set. As a consequence, you may observe unexpected behavior. Please pass your input's `attention_mask` to obtain reliable results.\n",
      "Setting `pad_token_id` to `eos_token_id`:30003 for open-end generation.\n",
      "A decoder-only architecture is being used, but right-padding was detected! For correct generation results, please set `padding_side='left'` when initializing the tokenizer.\n"
     ]
    },
    {
     "name": "stdout",
     "output_type": "stream",
     "text": [
      "도배지를 처리하는 방법 중 하나는 폐기물 스티커를 부착하는 것입니다. 폐기물 스티커는 동사무소, 편의점, 일반 슈퍼 등에서 구매할 수 있습니다. 또한, 아파트의 경우에는 경비실에 비치되어 있는 경우가 있으니 해당 시설의 담당자나 관리사무실에 문의하여 얻을 수도 있습니다.\n",
      "도배지를 처리하는 방법 중 하나는 폐기물 스티커를 부착하는 것입니다. 폐기물 스티커는 동사무소, 편의점, 일반 슈퍼 등에서 구매할 수 있습니다. 또한, 아파트의 경우에는 경비실에 비치되어 있는 경우가 있으니 해당 시설의 담당자나 관리사무실에 문의하여 얻을 수도 있습니다.\n"
     ]
    },
    {
     "name": "stderr",
     "output_type": "stream",
     "text": [
      " 42%|███████████████████████████████████████████████████████████████████████▋                                                                                                    | 5/12 [00:17<00:24,  3.50s/it]The attention mask and the pad token id were not set. As a consequence, you may observe unexpected behavior. Please pass your input's `attention_mask` to obtain reliable results.\n",
      "Setting `pad_token_id` to `eos_token_id`:30003 for open-end generation.\n",
      "A decoder-only architecture is being used, but right-padding was detected! For correct generation results, please set `padding_side='left'` when initializing the tokenizer.\n"
     ]
    },
    {
     "name": "stdout",
     "output_type": "stream",
     "text": [
      "소화기의 주요 종류로는 ABC 소화기, 분말 소화기, 이산화탄소 소화기가 있습니다. 또한 물 소화기와 거품 소화기 등도 있으며, 화재 종류에 따라 다양한 소화기가 사용됩니다.\n",
      "소화기의 주요 종류로는 ABC 소화기, 분말 소화기, 이산화탄소 소화기가 있습니다. 또한 물 소화기와 거품 소화기 등도 있으며, 화재 종류에 따라 다양한 소화기가 사용됩니다.\n"
     ]
    },
    {
     "name": "stderr",
     "output_type": "stream",
     "text": [
      " 50%|██████████████████████████████████████████████████████████████████████████████████████                                                                                      | 6/12 [00:24<00:29,  4.90s/it]The attention mask and the pad token id were not set. As a consequence, you may observe unexpected behavior. Please pass your input's `attention_mask` to obtain reliable results.\n",
      "Setting `pad_token_id` to `eos_token_id`:30003 for open-end generation.\n",
      "A decoder-only architecture is being used, but right-padding was detected! For correct generation results, please set `padding_side='left'` when initializing the tokenizer.\n"
     ]
    },
    {
     "name": "stdout",
     "output_type": "stream",
     "text": [
      "토목은 목재, 철재, 토석 등을 활용하여 도로, 교량, 항만, 제방, 철도, 건물, 상하수도 등을 건설하는 공사를 의미합니다. 이와 같은 공사를 수행하는 전문가들을 토목기술자라고 하며, 토목은 인프라를 구축하고 유지하는 데 중요한 역할을 합니다. 토목 기술은 안전하고 효율적인 건설을 위해 세밀한 계획과 전문적인 기술이 필요합니다. 또한, 환경 보호 및 지속가능한 발전을 고려하여 현대적이고 친환경적인 건설을 지향하고 있습니다.\n",
      "토목은 목재, 철재, 토석 등을 활용하여 도로, 교량, 항만, 제방, 철도, 건물, 상하수도 등을 건설하는 공사를 의미합니다. 이와 같은 공사를 수행하는 전문가들을 토목기술자라고 하며, 토목은 인프라를 구축하고 유지하는 데 중요한 역할을 합니다. 토목 기술은 안전하고 효율적인 건설을 위해 세밀한 계획과 전문적인 기술이 필요합니다. 또한, 환경 보호 및 지속가능한 발전을 고려하여 현대적이고 친환경적인 건설을 지향하고 있습니다.\n"
     ]
    },
    {
     "name": "stderr",
     "output_type": "stream",
     "text": [
      " 58%|████████████████████████████████████████████████████████████████████████████████████████████████████▎                                                                       | 7/12 [00:25<00:18,  3.66s/it]The attention mask and the pad token id were not set. As a consequence, you may observe unexpected behavior. Please pass your input's `attention_mask` to obtain reliable results.\n",
      "Setting `pad_token_id` to `eos_token_id`:30003 for open-end generation.\n",
      "A decoder-only architecture is being used, but right-padding was detected! For correct generation results, please set `padding_side='left'` when initializing the tokenizer.\n"
     ]
    },
    {
     "name": "stdout",
     "output_type": "stream",
     "text": [
      "셀룰로오스는 정밀한 시공능력이 전제된다는 단점이 있습니다.\n",
      "셀룰로오스는 정밀한 시공능력이 전제된다는 단점이 있습니다.\n"
     ]
    },
    {
     "name": "stderr",
     "output_type": "stream",
     "text": [
      " 67%|██████████████████████████████████████████████████████████████████████████████████████████████████████████████████▋                                                         | 8/12 [00:30<00:16,  4.08s/it]The attention mask and the pad token id were not set. As a consequence, you may observe unexpected behavior. Please pass your input's `attention_mask` to obtain reliable results.\n",
      "Setting `pad_token_id` to `eos_token_id`:30003 for open-end generation.\n",
      "A decoder-only architecture is being used, but right-padding was detected! For correct generation results, please set `padding_side='left'` when initializing the tokenizer.\n"
     ]
    },
    {
     "name": "stdout",
     "output_type": "stream",
     "text": [
      "반려동물을 위한바닥재로는 미끄럼 방지 기능이 있는 바닥재가 적합합니다. 반려동물은 뛰어다니는 습성이 있기 때문에 미끄러질 경우 다칠 위험이 있고 다리 관절에 무리가 갈 수 있습니다. 또한, 바닥재를 바꾸기 어려운 상황이라면 카펫이나 러그를 깔아두는 것도 좋은 대안이 될 수 있습니다.\n",
      "반려동물을 위한바닥재로는 미끄럼 방지 기능이 있는 바닥재가 적합합니다. 반려동물은 뛰어다니는 습성이 있기 때문에 미끄러질 경우 다칠 위험이 있고 다리 관절에 무리가 갈 수 있습니다. 또한, 바닥재를 바꾸기 어려운 상황이라면 카펫이나 러그를 깔아두는 것도 좋은 대안이 될 수 있습니다.\n"
     ]
    },
    {
     "name": "stderr",
     "output_type": "stream",
     "text": [
      " 75%|█████████████████████████████████████████████████████████████████████████████████████████████████████████████████████████████████                                           | 9/12 [00:35<00:12,  4.29s/it]The attention mask and the pad token id were not set. As a consequence, you may observe unexpected behavior. Please pass your input's `attention_mask` to obtain reliable results.\n",
      "Setting `pad_token_id` to `eos_token_id`:30003 for open-end generation.\n",
      "A decoder-only architecture is being used, but right-padding was detected! For correct generation results, please set `padding_side='left'` when initializing the tokenizer.\n"
     ]
    },
    {
     "name": "stdout",
     "output_type": "stream",
     "text": [
      "밀풀은 가루 형태의 도배재료로, 시공 전에 물과 혼합하여 사용합니다. 이 제품은 밀풀과는 달리 곰팡이 발생이 적고 무게가 가벼운 것이 장점이며, 하지만 접착력이 상대적으로 낮다는 단점이 있습니다. 이러한 특징을 감안하여 시공 전에 적합한 환경과 접착제를 선택하는 것이 중요합니다.\n",
      "밀풀은 가루 형태의 도배재료로, 시공 전에 물과 혼합하여 사용합니다. 이 제품은 밀풀과는 달리 곰팡이 발생이 적고 무게가 가벼운 것이 장점이며, 하지만 접착력이 상대적으로 낮다는 단점이 있습니다. 이러한 특징을 감안하여 시공 전에 적합한 환경과 접착제를 선택하는 것이 중요합니다.\n"
     ]
    },
    {
     "name": "stderr",
     "output_type": "stream",
     "text": [
      " 83%|██████████████████████████████████████████████████████████████████████████████████████████████████████████████████████████████████████████████▌                            | 10/12 [00:43<00:10,  5.39s/it]The attention mask and the pad token id were not set. As a consequence, you may observe unexpected behavior. Please pass your input's `attention_mask` to obtain reliable results.\n",
      "Setting `pad_token_id` to `eos_token_id`:30003 for open-end generation.\n",
      "A decoder-only architecture is being used, but right-padding was detected! For correct generation results, please set `padding_side='left'` when initializing the tokenizer.\n"
     ]
    },
    {
     "name": "stdout",
     "output_type": "stream",
     "text": [
      "통나무구조 방식이란 주로 원형이나 각형의 내력벽으로 구성되며, 나머지 바닥이나 지붕은 2x4 경량 목구조와 유사한 방식으로 조립됩니다. 이 구조는 벽체가 통나무를 쌓는 형태이기 때문에 1층 높이에서 7~12cm 정도의 침하가 장기적으로 발생할 수 있으므로, 창문틀 등의 개구부에는 침하를 고려한 디테일을 고려해야 합니다. 통나무구조 방식은 자연적이고 따뜻한 분위기를 연출해내기 때문에 주택 및 휴양시설에서 선호되는 구조 방식 중 하나입니다.\n",
      "통나무구조 방식이란 주로 원형이나 각형의 내력벽으로 구성되며, 나머지 바닥이나 지붕은 2x4 경량 목구조와 유사한 방식으로 조립됩니다. 이 구조는 벽체가 통나무를 쌓는 형태이기 때문에 1층 높이에서 7~12cm 정도의 침하가 장기적으로 발생할 수 있으므로, 창문틀 등의 개구부에는 침하를 고려한 디테일을 고려해야 합니다. 통나무구조 방식은 자연적이고 따뜻한 분위기를 연출해내기 때문에 주택 및 휴양시설에서 선호되는 구조 방식 중 하나입니다.\n"
     ]
    },
    {
     "name": "stderr",
     "output_type": "stream",
     "text": [
      " 92%|████████████████████████████████████████████████████████████████████████████████████████████████████████████████████████████████████████████████████████████▊              | 11/12 [00:50<00:05,  5.80s/it]The attention mask and the pad token id were not set. As a consequence, you may observe unexpected behavior. Please pass your input's `attention_mask` to obtain reliable results.\n",
      "Setting `pad_token_id` to `eos_token_id`:30003 for open-end generation.\n",
      "A decoder-only architecture is being used, but right-padding was detected! For correct generation results, please set `padding_side='left'` when initializing the tokenizer.\n"
     ]
    },
    {
     "name": "stdout",
     "output_type": "stream",
     "text": [
      "펫테리어란 ‘반려동물(pet)’과 ‘인테리어(interior)’의 합성어로, 반려동물과의 생활을 고려한 편의성을 높이면서도 주거 공간의 인테리어를 고려하는 스타일을 말합니다. 즉, 반려동물과 관련된 편의시설과 인테리어 소품을 활용하여 쾌적하고 안락한 공간을 조성하는 것이 펫테리어의 핵심입니다. 이를 통해 주거 환경을 반려동물과 함께하는 가족들에게 쾌적한 공간을 제공하는 것이 목표입니다.\n",
      "펫테리어란 ‘반려동물(pet)’과 ‘인테리어(interior)’의 합성어로, 반려동물과의 생활을 고려한 편의성을 높이면서도 주거 공간의 인테리어를 고려하는 스타일을 말합니다. 즉, 반려동물과 관련된 편의시설과 인테리어 소품을 활용하여 쾌적하고 안락한 공간을 조성하는 것이 펫테리어의 핵심입니다. 이를 통해 주거 환경을 반려동물과 함께하는 가족들에게 쾌적한 공간을 제공하는 것이 목표입니다.\n"
     ]
    },
    {
     "name": "stderr",
     "output_type": "stream",
     "text": [
      "100%|███████████████████████████████████████████████████████████████████████████████████████████████████████████████████████████████████████████████████████████████████████████| 12/12 [00:56<00:00,  4.75s/it]"
     ]
    },
    {
     "name": "stdout",
     "output_type": "stream",
     "text": [
      "철근콘크리트구조는 콘크리트의 압축 강도를 활용하면서도 인장 응력에 대한 취약점을 보완하기 위해 철근을 사용하는 구조입니다. 일반적으로 도심 지역에서 많이 사용되며, 내구성, 내화 및 내진 성능이 뛰어나지만, 철근의 보강으로 인해 구조물의 중량이 증가하여 고층 건물에서는 아래층의 보나 기둥 단면적이 커져야 하는 문제가 있습니다.\n",
      "철근콘크리트구조는 콘크리트의 압축 강도를 활용하면서도 인장 응력에 대한 취약점을 보완하기 위해 철근을 사용하는 구조입니다. 일반적으로 도심 지역에서 많이 사용되며, 내구성, 내화 및 내진 성능이 뛰어나지만, 철근의 보강으로 인해 구조물의 중량이 증가하여 고층 건물에서는 아래층의 보나 기둥 단면적이 커져야 하는 문제가 있습니다.\n"
     ]
    },
    {
     "name": "stderr",
     "output_type": "stream",
     "text": [
      "\n"
     ]
    }
   ],
   "source": [
    "file_path = \"result_alpha_appendix_2_r2.txt\"\n",
    "\n",
    "\n",
    "for idx, test_question in tqdm(appedix_dict_2.items()):\n",
    "    # 입력 텍스트를 토큰화하고 모델 입력 형태로 변환\n",
    "    \n",
    "    input_ids = tokenizer.encode(test_question + tokenizer.eos_token, return_tensors='pt')\n",
    "\n",
    "    # 답변 생성\n",
    "    with torch.no_grad():\n",
    "\n",
    "        # output_sequences = model.generate(\n",
    "        #     input_ids=input_ids.to(device),\n",
    "        #     max_length=2000,\n",
    "        #     min_length=20,\n",
    "        #     temperature=1.5,\n",
    "        #     top_k=120,\n",
    "        #     top_p=1.5,\n",
    "        #     repetition_penalty=1.0,\n",
    "        #     do_sample=True,\n",
    "        #     num_beams=120,\n",
    "        #     # no_repeat_ngram_size=3,\n",
    "        #     # num_return_sequences=1,\n",
    "        #     # eos_token_id=tokenizer.eos_token_id\n",
    "        # )\n",
    "        output_sequences = model.generate(\n",
    "            input_ids=input_ids.to(device),\n",
    "            max_length=800,\n",
    "            min_length=20,\n",
    "            temperature=1.2,\n",
    "            top_k=500,\n",
    "            top_p=1.2,\n",
    "            repetition_penalty=1.5,\n",
    "            do_sample=True,\n",
    "            num_beams=18,\n",
    "            no_repeat_ngram_size=5,\n",
    "            # num_return_sequences=1,\n",
    "            eos_token_id=tokenizer.eos_token_id\n",
    "        )\n",
    "\n",
    "\n",
    "    for generated_sequence in output_sequences:\n",
    "        full_text = tokenizer.decode(generated_sequence, skip_special_tokens=False)\n",
    "        print(full_text)\n",
    "        answer_start = full_text.find(tokenizer.eos_token) \n",
    "        anser_end = full_text.rfind(tokenizer.eos_token) \n",
    "        answer_only = full_text[answer_start+4:anser_end].strip()\n",
    "        answer_only = answer_only.replace('\\n', ' ')\n",
    "        preds.append(answer_only)\n",
    "        print(answer_only)\n",
    "        print(answer_only)\n",
    "        answer_only = str(idx)+answer_only+'\\n'\n",
    "    if idx==0:\n",
    "        with open(file_path, \"w\") as file:\n",
    "            file.write(answer_only)\n",
    "    else:\n",
    "        with open(file_path, \"a\") as file:\n",
    "            file.write(answer_only)\n",
    "    idx+=1"
   ]
  },
  {
   "cell_type": "code",
   "execution_count": 13,
   "id": "063d2123-28e5-4302-a192-86b00735ab3d",
   "metadata": {},
   "outputs": [
    {
     "name": "stderr",
     "output_type": "stream",
     "text": [
      "  0%|                                                                                                                                                                                     | 0/6 [00:00<?, ?it/s]The attention mask and the pad token id were not set. As a consequence, you may observe unexpected behavior. Please pass your input's `attention_mask` to obtain reliable results.\n",
      "Setting `pad_token_id` to `eos_token_id`:30003 for open-end generation.\n",
      "A decoder-only architecture is being used, but right-padding was detected! For correct generation results, please set `padding_side='left'` when initializing the tokenizer.\n",
      " 17%|████████████████████████████▊                                                                                                                                                | 1/6 [00:05<00:25,  5.08s/it]The attention mask and the pad token id were not set. As a consequence, you may observe unexpected behavior. Please pass your input's `attention_mask` to obtain reliable results.\n",
      "Setting `pad_token_id` to `eos_token_id`:30003 for open-end generation.\n",
      "A decoder-only architecture is being used, but right-padding was detected! For correct generation results, please set `padding_side='left'` when initializing the tokenizer.\n"
     ]
    },
    {
     "name": "stdout",
     "output_type": "stream",
     "text": [
      "압출법단열판은 습기에 강하고 곰팡이 및 세균 증식을 막을 수 있는데, 이는 건강한 실내 환경을 유지하는 데 도움을 줍니다. 또한, 열전도율이 가장 낮아서 효율적인 단열 효과를 제공하며 시공이 간편하여 공사 기간을 단축하는 장점이 있습니다.\n"
     ]
    },
    {
     "name": "stderr",
     "output_type": "stream",
     "text": [
      " 33%|█████████████████████████████████████████████████████████▋                                                                                                                   | 2/6 [00:10<00:20,  5.16s/it]The attention mask and the pad token id were not set. As a consequence, you may observe unexpected behavior. Please pass your input's `attention_mask` to obtain reliable results.\n",
      "Setting `pad_token_id` to `eos_token_id`:30003 for open-end generation.\n",
      "A decoder-only architecture is being used, but right-padding was detected! For correct generation results, please set `padding_side='left'` when initializing the tokenizer.\n"
     ]
    },
    {
     "name": "stdout",
     "output_type": "stream",
     "text": [
      "세라믹 타일의 단점으로는 시공이 어려워 하자가 발생할 확률이 높고, 숙련된 기술자가 시공을 맡아야 하므로 가격과 시공비가 상대적으로 높다는 점이 있습니다. 또한 일반 타일보다 슬립리스 처리가 부족하여 미끄러질 수 있는 위험이 있을 수 있습니다.\n"
     ]
    },
    {
     "name": "stderr",
     "output_type": "stream",
     "text": [
      " 50%|██████████████████████████████████████████████████████████████████████████████████████▌                                                                                      | 3/6 [00:15<00:15,  5.13s/it]The attention mask and the pad token id were not set. As a consequence, you may observe unexpected behavior. Please pass your input's `attention_mask` to obtain reliable results.\n",
      "Setting `pad_token_id` to `eos_token_id`:30003 for open-end generation.\n",
      "A decoder-only architecture is being used, but right-padding was detected! For correct generation results, please set `padding_side='left'` when initializing the tokenizer.\n"
     ]
    },
    {
     "name": "stdout",
     "output_type": "stream",
     "text": [
      "흠집을 목재 펜스틱으로 채우고 흠집을 완만한 흠집 채우기 바로 전에 샌드지로 문질러 조각을 지나치게 여기지 않는 것이 중요합니다. 도마 위에서 펜스틱이 식으면, 나무 왁스를 사용하여 마감하세요. 이러한 마무리 작업은 가구에 쉽게 흠집이 들어가거나 노출되는 부분이 자주 있는 상황에서 효과적입니다.\n"
     ]
    },
    {
     "name": "stderr",
     "output_type": "stream",
     "text": [
      " 67%|███████████████████████████████████████████████████████████████████████████████████████████████████████████████████▎                                                         | 4/6 [00:17<00:07,  3.86s/it]The attention mask and the pad token id were not set. As a consequence, you may observe unexpected behavior. Please pass your input's `attention_mask` to obtain reliable results.\n",
      "Setting `pad_token_id` to `eos_token_id`:30003 for open-end generation.\n",
      "A decoder-only architecture is being used, but right-padding was detected! For correct generation results, please set `padding_side='left'` when initializing the tokenizer.\n"
     ]
    },
    {
     "name": "stdout",
     "output_type": "stream",
     "text": [
      "속건형 유성 발수제로 도장된 표면에 도장된 색상이 변하지 않도록 하는 방법이 있을까요?\n"
     ]
    },
    {
     "name": "stderr",
     "output_type": "stream",
     "text": [
      " 83%|████████████████████████████████████████████████████████████████████████████████████████████████████████████████████████████████████████████████▏                            | 5/6 [00:22<00:04,  4.42s/it]The attention mask and the pad token id were not set. As a consequence, you may observe unexpected behavior. Please pass your input's `attention_mask` to obtain reliable results.\n",
      "Setting `pad_token_id` to `eos_token_id`:30003 for open-end generation.\n",
      "A decoder-only architecture is being used, but right-padding was detected! For correct generation results, please set `padding_side='left'` when initializing the tokenizer.\n"
     ]
    },
    {
     "name": "stdout",
     "output_type": "stream",
     "text": [
      "강화마루는 원목 무늬 필름지가 하드코팅 처리된 바닥재를 의미합니다. 일반적으로 평당 7~12 만원의 가격대를 가지고 있습니다. 이 바닥재는 온도나 습도에 의한 변색이 거의 없고, 강도가 뛰어나 수명이 긴 장점이 있습니다. 하지만, 필름지로 코팅처리되어 있기 때문에 질감이나 보행감이 조금 떨어진다는 단점이 있습니다.\n"
     ]
    },
    {
     "name": "stderr",
     "output_type": "stream",
     "text": [
      "100%|█████████████████████████████████████████████████████████████████████████████████████████████████████████████████████████████████████████████████████████████████████████████| 6/6 [00:30<00:00,  5.12s/it]"
     ]
    },
    {
     "name": "stdout",
     "output_type": "stream",
     "text": [
      "아이소핑크의 단점은 주로 비용 측면에서 언급됩니다. 이 외에도 아이소핑크는 단열재 중에서 열전도율이 가장 낮아 에너지 절약 효과가 크며, 습기에 강하고 곰팡이 및 세균 증식을 막아주는 특징이 있습니다. 또한 시공이 간편하여 공사 기간과 비용을 절약할 수 있는 장점이 있습니다.\n"
     ]
    },
    {
     "name": "stderr",
     "output_type": "stream",
     "text": [
      "\n"
     ]
    }
   ],
   "source": [
    "file_path = \"result_alpha_appendix_3_r2.txt\"\n",
    "\n",
    "\n",
    "for idx, test_question in tqdm(appedix_dict_3.items()):\n",
    "    # 입력 텍스트를 토큰화하고 모델 입력 형태로 변환\n",
    "    \n",
    "    input_ids = tokenizer.encode(test_question + tokenizer.eos_token, return_tensors='pt')\n",
    "\n",
    "    # 답변 생성\n",
    "    with torch.no_grad():\n",
    "\n",
    "        # output_sequences = model.generate(\n",
    "        #     input_ids=input_ids.to(device),\n",
    "        #     max_length=2000,\n",
    "        #     min_length=20,\n",
    "        #     temperature=1.5,\n",
    "        #     top_k=120,\n",
    "        #     top_p=1.5,\n",
    "        #     repetition_penalty=1.0,\n",
    "        #     do_sample=True,\n",
    "        #     num_beams=120,\n",
    "        #     # no_repeat_ngram_size=3,\n",
    "        #     # num_return_sequences=1,\n",
    "        #     # eos_token_id=tokenizer.eos_token_id\n",
    "        # )\n",
    "        output_sequences = model.generate(\n",
    "            input_ids=input_ids.to(device),\n",
    "            max_length=800,\n",
    "            min_length=20,\n",
    "            temperature=1.2,\n",
    "            top_k=500,\n",
    "            top_p=1.2,\n",
    "            repetition_penalty=1.5,\n",
    "            do_sample=True,\n",
    "            num_beams=18,\n",
    "            no_repeat_ngram_size=5,\n",
    "            # num_return_sequences=1,\n",
    "            eos_token_id=tokenizer.eos_token_id\n",
    "        )\n",
    "\n",
    "\n",
    "    for generated_sequence in output_sequences:\n",
    "        full_text = tokenizer.decode(generated_sequence, skip_special_tokens=False)\n",
    "        print(full_text)\n",
    "        answer_start = full_text.find(tokenizer.eos_token) \n",
    "        anser_end = full_text.rfind(tokenizer.eos_token) \n",
    "        answer_only = full_text[answer_start+4:anser_end].strip()\n",
    "        answer_only = answer_only.replace('\\n', ' ')\n",
    "        preds.append(answer_only)\n",
    "        print(answer_only)\n",
    "        answer_only = str(idx)+answer_only+'\\n'\n",
    "    if idx==0:\n",
    "        with open(file_path, \"w\") as file:\n",
    "            file.write(answer_only)\n",
    "    else:\n",
    "        with open(file_path, \"a\") as file:\n",
    "            file.write(answer_only)\n",
    "    idx+=1"
   ]
  },
  {
   "cell_type": "code",
   "execution_count": 14,
   "id": "0e2a3e6d-b53b-4dc3-9bc5-f9466245b55c",
   "metadata": {},
   "outputs": [],
   "source": [
    "\n",
    "\n",
    "# source_prefix = \"<|source|>\"\n",
    "# cand1_prefix = \"<|candidate1|>\"\n",
    "# cand2_prefix = \"<|candidate2|>\"\n",
    "# inputs = [\"hello!\", \"I love you!\"]\n",
    "# candidates_A = [\"hi!\", \"I hate you!\"]\n",
    "# candidates_B = [\"f**k off!\", \"I love you, too!\"]\n",
    "# def tokenize_pair(sources:List[str], candidate1s:List[str], candidate2s:List[str], source_max_length=1224, candidate_max_length=412):\n",
    "#     ids = []\n",
    "#     assert len(sources) == len(candidate1s) == len(candidate2s)\n",
    "#     max_length = source_max_length + 2 * candidate_max_length\n",
    "#     for i in range(len(sources)):\n",
    "#         source_ids = tokenizer.encode(source_prefix + sources[i], max_length=source_max_length, truncation=True)\n",
    "#         candidate_max_length = (max_length - len(source_ids)) // 2\n",
    "#         candidate1_ids = tokenizer.encode(cand1_prefix + candidate1s[i], max_length=candidate_max_length, truncation=True)\n",
    "#         candidate2_ids = tokenizer.encode(cand2_prefix + candidate2s[i], max_length=candidate_max_length, truncation=True)\n",
    "#         ids.append(source_ids + candidate1_ids + candidate2_ids)\n",
    "#     encodings = tokenizer.pad({\"input_ids\": ids}, return_tensors=\"pt\", padding=\"max_length\", max_length=max_length)\n",
    "#     return encodings\n",
    "\n",
    "# encodings = tokenize_pair(inputs, candidates_A, candidates_B)\n",
    "# encodings = {k:v.to(pairrm.device) for k,v in encodings.items()}\n",
    "# outputs = pairrm(**encodings)\n",
    "# logits = outputs.logits.tolist()\n",
    "# comparison_results = outputs.logits > 0\n",
    "# print(logits)\n",
    "# # [1.9003021717071533, -1.2547134160995483]\n",
    "# print(comparison_results)"
   ]
  },
  {
   "cell_type": "code",
   "execution_count": null,
   "id": "3aeb3ca3-79db-4997-96b5-a0918f677309",
   "metadata": {},
   "outputs": [],
   "source": []
  },
  {
   "cell_type": "code",
   "execution_count": null,
   "id": "2125879a-50b4-43e8-9542-e987e6e656c3",
   "metadata": {},
   "outputs": [],
   "source": []
  }
 ],
 "metadata": {
  "kernelspec": {
   "display_name": "Python 3 (ipykernel)",
   "language": "python",
   "name": "python3"
  },
  "language_info": {
   "codemirror_mode": {
    "name": "ipython",
    "version": 3
   },
   "file_extension": ".py",
   "mimetype": "text/x-python",
   "name": "python",
   "nbconvert_exporter": "python",
   "pygments_lexer": "ipython3",
   "version": "3.8.10"
  }
 },
 "nbformat": 4,
 "nbformat_minor": 5
}
