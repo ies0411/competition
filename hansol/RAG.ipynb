{
 "cells": [
  {
   "cell_type": "code",
   "execution_count": 3,
   "id": "6313e68c-b0d1-4aaa-865f-7e775ae48412",
   "metadata": {
    "scrolled": true
   },
   "outputs": [],
   "source": [
    "#langchain : LLM \n",
    "#.env , OPENAI_API_KEY=\"\"\n",
    "# pip install python-dotenv\n",
    "# from dotenv import load_dotenv\n",
    "# load_dotenv()\n",
    "\n",
    "\n",
    "# https://python.langchain.com/docs/get_started/quickstart\n",
    "# !pip install langchain"
   ]
  },
  {
   "cell_type": "code",
   "execution_count": 5,
   "id": "52a3124e-74e7-4570-ab1e-4b7df6d83678",
   "metadata": {},
   "outputs": [],
   "source": [
    "# !pip install openai"
   ]
  },
  {
   "cell_type": "code",
   "execution_count": 8,
   "id": "ddd4ac81-45e0-4ffb-8f64-045e6fa29692",
   "metadata": {},
   "outputs": [],
   "source": [
    "# !pip install langchain-openai"
   ]
  },
  {
   "cell_type": "code",
   "execution_count": 6,
   "id": "46c7627d-07b3-4bfc-9951-51c88933098d",
   "metadata": {},
   "outputs": [],
   "source": [
    "OPENAI_KEY = \"\""
   ]
  },
  {
   "cell_type": "code",
   "execution_count": null,
   "id": "7b4b6460-2b4e-4a94-877c-b9b0da730428",
   "metadata": {},
   "outputs": [],
   "source": [
    "from lanchain.llms import OpenAI\n",
    "\n",
    "llm = OpenAI(openai_api_key=\"\")"
   ]
  }
 ],
 "metadata": {
  "kernelspec": {
   "display_name": "Python 3 (ipykernel)",
   "language": "python",
   "name": "python3"
  },
  "language_info": {
   "codemirror_mode": {
    "name": "ipython",
    "version": 3
   },
   "file_extension": ".py",
   "mimetype": "text/x-python",
   "name": "python",
   "nbconvert_exporter": "python",
   "pygments_lexer": "ipython3",
   "version": "3.8.10"
  }
 },
 "nbformat": 4,
 "nbformat_minor": 5
}
