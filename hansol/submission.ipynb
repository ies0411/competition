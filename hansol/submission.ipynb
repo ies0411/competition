{
 "cells": [
  {
   "cell_type": "code",
   "execution_count": 2,
   "id": "35d516bb-b5e0-43b4-9cfb-0091798caf0a",
   "metadata": {
    "scrolled": true
   },
   "outputs": [],
   "source": [
    "# !pip install transformers\n",
    "# !pip install git+https://github.com/yuchenlin/LLM-Blender.git\n",
    "# !pip install \"pydantic<2\"\n",
    "import os\n",
    "os.environ[\"CUDA_VISIBLE_DEVICES\"]=\"0\""
   ]
  },
  {
   "cell_type": "code",
   "execution_count": 3,
   "id": "0199ae5e-4f53-4b06-813a-a5ca68e61b6e",
   "metadata": {},
   "outputs": [
    {
     "name": "stdout",
     "output_type": "stream",
     "text": [
      "\n",
      "===================================BUG REPORT===================================\n",
      "Welcome to bitsandbytes. For bug reports, please submit your error trace to: https://github.com/TimDettmers/bitsandbytes/issues\n",
      "================================================================================\n",
      "CUDA_SETUP: WARNING! libcudart.so not found in any environmental path. Searching /usr/local/cuda/lib64...\n",
      "CUDA SETUP: CUDA runtime path found: /usr/local/cuda/lib64/libcudart.so\n",
      "CUDA SETUP: Highest compute capability among GPUs detected: 8.6\n",
      "CUDA SETUP: Detected CUDA version 118\n",
      "CUDA SETUP: Loading binary /usr/local/lib/python3.8/dist-packages/bitsandbytes/libbitsandbytes_cuda118.so...\n"
     ]
    },
    {
     "name": "stderr",
     "output_type": "stream",
     "text": [
      "/usr/local/lib/python3.8/dist-packages/bitsandbytes/cuda_setup/main.py:136: UserWarning: WARNING: The following directories listed in your path were found to be non-existent: {PosixPath('/usr/local/nvidia/lib'), PosixPath('/usr/local/nvidia/lib64')}\n",
      "  warn(msg)\n",
      "/usr/local/lib/python3.8/dist-packages/bitsandbytes/cuda_setup/main.py:136: UserWarning: /usr/local/nvidia/lib:/usr/local/nvidia/lib64 did not contain libcudart.so as expected! Searching further paths...\n",
      "  warn(msg)\n",
      "/usr/local/lib/python3.8/dist-packages/bitsandbytes/cuda_setup/main.py:136: UserWarning: WARNING: The following directories listed in your path were found to be non-existent: {PosixPath('//matplotlib_inline.backend_inline'), PosixPath('module')}\n",
      "  warn(msg)\n"
     ]
    },
    {
     "name": "stdout",
     "output_type": "stream",
     "text": [
      "Using device: cuda\n"
     ]
    }
   ],
   "source": [
    "import pandas as pd\n",
    "import numpy as np\n",
    "import torch\n",
    "from transformers import GPT2LMHeadModel, PreTrainedTokenizerFast, AdamW, AutoTokenizer, AutoModelForCausalLM\n",
    "from tqdm import tqdm\n",
    "from torch import nn\n",
    "from transformers import Trainer\n",
    "import torch.nn.functional as F\n",
    "import torchvision.transforms as tr # 이미지 전처리 기능들을 제공하는 라이브러리\n",
    "from torch.utils.data import DataLoader, Dataset # 데이터를 모델에 사용할 수 있도록 정리해 주는 라이브러리\n",
    "import csv\n",
    "\n",
    "from llm_blender.pair_ranker.pairrm import DebertaV2PairRM # or copy the DebertaV2PairRM definition here, https://github.com/yuchenlin/LLM-Blender/blob/main/llm_blender/pair_ranker/pairrm.py\n",
    "from transformers import AutoTokenizer\n",
    "from typing import List\n",
    "\n",
    "# CUDA 사용 가능 여부 확인\n",
    "device = torch.device(\"cuda\" if torch.cuda.is_available() else \"cpu\")\n",
    "print(f\"Using device: {device}\")"
   ]
  },
  {
   "cell_type": "code",
   "execution_count": 4,
   "id": "690f5c25-a3f2-4934-b1f1-2cd3e6a3d587",
   "metadata": {},
   "outputs": [
    {
     "data": {
      "text/html": [
       "<div>\n",
       "<style scoped>\n",
       "    .dataframe tbody tr th:only-of-type {\n",
       "        vertical-align: middle;\n",
       "    }\n",
       "\n",
       "    .dataframe tbody tr th {\n",
       "        vertical-align: top;\n",
       "    }\n",
       "\n",
       "    .dataframe thead th {\n",
       "        text-align: right;\n",
       "    }\n",
       "</style>\n",
       "<table border=\"1\" class=\"dataframe\">\n",
       "  <thead>\n",
       "    <tr style=\"text-align: right;\">\n",
       "      <th></th>\n",
       "      <th>id</th>\n",
       "      <th>질문</th>\n",
       "    </tr>\n",
       "  </thead>\n",
       "  <tbody>\n",
       "    <tr>\n",
       "      <th>0</th>\n",
       "      <td>TEST_000</td>\n",
       "      <td>방청 페인트의 종류에는 어떤 것들이 있는지 알고 계신가요? 또한, 원목사이딩을 사용...</td>\n",
       "    </tr>\n",
       "    <tr>\n",
       "      <th>1</th>\n",
       "      <td>TEST_001</td>\n",
       "      <td>도배지에 녹은 자국이 발생하는 주된 원인과 그 해결 방법은 무엇인가요?</td>\n",
       "    </tr>\n",
       "    <tr>\n",
       "      <th>2</th>\n",
       "      <td>TEST_002</td>\n",
       "      <td>큐블럭의 단점을 알려주세요. 또한, 압출법 단열판을 사용하는 것의 장점은 무엇인가요?</td>\n",
       "    </tr>\n",
       "    <tr>\n",
       "      <th>3</th>\n",
       "      <td>TEST_003</td>\n",
       "      <td>철골구조를 사용하는 고층 건물에서, 단열 효과를 높이기 위한 시공 방법은 무엇이 있...</td>\n",
       "    </tr>\n",
       "    <tr>\n",
       "      <th>4</th>\n",
       "      <td>TEST_004</td>\n",
       "      <td>도배지의 완전한 건조를 위해 몇 주 동안 기다려야 하나요?</td>\n",
       "    </tr>\n",
       "    <tr>\n",
       "      <th>...</th>\n",
       "      <td>...</td>\n",
       "      <td>...</td>\n",
       "    </tr>\n",
       "    <tr>\n",
       "      <th>125</th>\n",
       "      <td>TEST_125</td>\n",
       "      <td>분말 소화기를 사용할 때 주의해야 할 사항은 무엇인가요? 그리고 아파트 도배 평수를...</td>\n",
       "    </tr>\n",
       "    <tr>\n",
       "      <th>126</th>\n",
       "      <td>TEST_126</td>\n",
       "      <td>압출법 보온판의 가장 큰 장점은 무엇인가요?\"</td>\n",
       "    </tr>\n",
       "    <tr>\n",
       "      <th>127</th>\n",
       "      <td>TEST_127</td>\n",
       "      <td>평지붕의 누수 문제를 방지하기 위해 수성 벽체용 탄성 방수 도료를 사용하는 것이 어...</td>\n",
       "    </tr>\n",
       "    <tr>\n",
       "      <th>128</th>\n",
       "      <td>TEST_128</td>\n",
       "      <td>석고수정이 발생하는 가장 큰 원인은 무엇인가요? 그리고 이를 해결하는 방법에 대해 ...</td>\n",
       "    </tr>\n",
       "    <tr>\n",
       "      <th>129</th>\n",
       "      <td>TEST_129</td>\n",
       "      <td>카페트의 기대 수명은 얼마나 될까요? 그리고 오리지널징크의 장점에는 무엇이 있나요?</td>\n",
       "    </tr>\n",
       "  </tbody>\n",
       "</table>\n",
       "<p>130 rows × 2 columns</p>\n",
       "</div>"
      ],
      "text/plain": [
       "           id                                                 질문\n",
       "0    TEST_000  방청 페인트의 종류에는 어떤 것들이 있는지 알고 계신가요? 또한, 원목사이딩을 사용...\n",
       "1    TEST_001            도배지에 녹은 자국이 발생하는 주된 원인과 그 해결 방법은 무엇인가요?\n",
       "2    TEST_002    큐블럭의 단점을 알려주세요. 또한, 압출법 단열판을 사용하는 것의 장점은 무엇인가요?\n",
       "3    TEST_003  철골구조를 사용하는 고층 건물에서, 단열 효과를 높이기 위한 시공 방법은 무엇이 있...\n",
       "4    TEST_004                   도배지의 완전한 건조를 위해 몇 주 동안 기다려야 하나요?\n",
       "..        ...                                                ...\n",
       "125  TEST_125  분말 소화기를 사용할 때 주의해야 할 사항은 무엇인가요? 그리고 아파트 도배 평수를...\n",
       "126  TEST_126                          압출법 보온판의 가장 큰 장점은 무엇인가요?\"\n",
       "127  TEST_127  평지붕의 누수 문제를 방지하기 위해 수성 벽체용 탄성 방수 도료를 사용하는 것이 어...\n",
       "128  TEST_128  석고수정이 발생하는 가장 큰 원인은 무엇인가요? 그리고 이를 해결하는 방법에 대해 ...\n",
       "129  TEST_129     카페트의 기대 수명은 얼마나 될까요? 그리고 오리지널징크의 장점에는 무엇이 있나요?\n",
       "\n",
       "[130 rows x 2 columns]"
      ]
     },
     "execution_count": 4,
     "metadata": {},
     "output_type": "execute_result"
    }
   ],
   "source": [
    "test_df = pd.read_csv(\"./data/test.csv\")\n",
    "test_df"
   ]
  },
  {
   "cell_type": "code",
   "execution_count": 5,
   "id": "a2ddc033-411a-4699-adac-00b2c8fd9c75",
   "metadata": {},
   "outputs": [
    {
     "data": {
      "text/plain": [
       "['방청 페인트의 종류에는 어떤 것들이 있는지 알고 계신가요? 또한, 원목사이딩을 사용하는 것에 어떤 단점이 있을까요?',\n",
       " '도배지에 녹은 자국이 발생하는 주된 원인과 그 해결 방법은 무엇인가요?',\n",
       " '큐블럭의 단점을 알려주세요. 또한, 압출법 단열판을 사용하는 것의 장점은 무엇인가요?',\n",
       " '철골구조를 사용하는 고층 건물에서, 단열 효과를 높이기 위한 시공 방법은 무엇이 있을까요?',\n",
       " '도배지의 완전한 건조를 위해 몇 주 동안 기다려야 하나요?',\n",
       " '철근철골콘크리트 구조가 적용된 건물의 장단점은 무엇인가요?',\n",
       " '어떤 상황에 개별 공간이 더 적합한지, 어떤 상황에 오픈 플랜 공간이 더 적합한지 알려주세요. 그리고 합지벽지의 어떤 단점이 있나요?',\n",
       " '도배지 들뜸 현상이 발생하는 가장 일반적인 원인은 무엇인가요?',\n",
       " '도배지에 얼룩이 생기는 다양한 원인들에 대해서 자세히 알려주세요.',\n",
       " '고층 건물을 건축할 때 철골구조가 주로 선택되는 이유는 무엇인가요?',\n",
       " '유성페인트의 환경 오염에 대한 예시를 알려주세요.',\n",
       " '훼손과 오염은 어떻게 다른가요? 또한, 부실 시공으로 인해 타공하자가 발생할 가능성이 있나요?',\n",
       " '철골콘크리트 구조에서 사용되는 철근의 재료적 특징은 무엇인가요?\"',\n",
       " '방염벽지가 실크벽지와 합지벽지와 다른 점은 무엇인가요?',\n",
       " '도배지에 곰팡이가 생겼을 때 높은 습도가 원인인 경우, 습기 관리는 어떻게 해야 할까요?\"',\n",
       " '롱브릭타일은 어떤 종류의 타일인가요? 그리고 페인트 상도재의 역할과 사용 방법에 대해 알려주세요.',\n",
       " '준불연재료는 무엇인가요? 그리고 유성페인트를 사용하는 것에 대한 부작용이 있을까요?',\n",
       " '어떤 환경 요인이 몰딩 수정을 유발할 수 있는가요? 그리고 반점이 생긴지 1년 이내인 하자에 대해 어떤 보수작업을 해야 하나요?',\n",
       " '벽에 뚫린 구멍이 이상하다고 하셨는데, 타공 불량이 발생하는 원인과 그 해결 방법에 대해 자세히 설명해주실 수 있을까요?\"',\n",
       " '다이닝 룸을 더 고급스럽게 꾸밀려면 어떻게 해야 하나요와 아레카 야자를 키우면 어떤 이점이 있는지의 관계는 무엇인가요?',\n",
       " '습도가 높아서 석고수정이 발생하나요? 또한, 피스 하자가 무엇인지 자세히 설명해 주실 수 있나요?',\n",
       " '공동주택의 실내 공기질을 측정할 때, 어떤 층에서 샘플을 채취하는 것이 가장 적절한가요?\"',\n",
       " '타일 바닥에서 파손된 타일을 교체하는 과정에 어떤 단계가 포함되나요? 또한, 겨울에 도배를 할 때 특별히 신경써야 할 사항이 있을까요?',\n",
       " '유성페인트를 사용하는 것에 대한 부작용이 있을까요? 또한, 페인트가 남으면 어디에 보관하는 게 좋을까요?',\n",
       " '가장 비싼 바닥재는 어떤 종류인가요? 또한, 유광 자기질 타일은 얼마나 오랫동안 사용할 수 있을까요?',\n",
       " '풍수지리를 활용하여 집을 꾸밀 때 어떤 주의사항을 고려해야 할까요? 그리고 스탠드조명을 선택할 때 주의할 점이 있을까요?',\n",
       " '반점이 1년 이상 생긴 하자를 보수하는 방법은 무엇인가요? 그리고 불량 도배지를 사용할 경우 도배지가 얼마나 오랫동안 버틸까요?',\n",
       " '평지붕의 단점은 무엇인가요? 그리고 실크벽지의 교체 주기는 얼마나인가요?',\n",
       " '경량철골구조는 어떤 건물에 사용되는 건축 구조물인가요? 그리고 철골구조의 장점은 무엇인가요?',\n",
       " '프리케스트 콘크리트 구조에 대해 자세히 설명해 주실 수 있나요? 그리고 조적식 구조란 무엇인가요?',\n",
       " '반려동물을 위한 가구로 낮은 높이의 가구와 패브릭 소재의 가구가 선택되는 이유는 무엇인가요?',\n",
       " '몰딩 수정을 예방하기 위해 건물 내부에서 어떤 종류의 환경 관리가 필요한가요?',\n",
       " 'KMEW 세라믹 지붕재의 단점에 대해 알려주세요. 또한, 세라믹 타일을 사용할 때 고려해야 할 단점은 무엇인가요?',\n",
       " '줄퍼티 마감은 무엇인가요? 또한, 액체방수공사는 무엇을 하는 것인가요?',\n",
       " '페인트 하도재 없이 페인트를 바로 칠할 경우 어떤 문제가 발생할 수 있나요?',\n",
       " '바닥재가 남으면 어떻게 처리하는 게 좋을까요? 그리고 장판이 남을 때 어떻게 처리해야 하나요?',\n",
       " '도배지에 생긴 반점을 없애기 위해 가장 효과적인 방법은 무엇인가요?',\n",
       " '새집증후군의 주요 원인은 무엇인가요?',\n",
       " '방청도료 도장 작업을 위해 필요한 단계는 무엇인가요? 또한, 콘크리트 벽에 구멍을 뚫는 방법에는 어떤 도구나 기술을 사용해야 하나요?',\n",
       " '어떤 종류의 실내 식물을 선택해야 식물을 효과적으로 가꾸는 데 도움이 될까요? 그리고 인테리어에 가장 많이 사용되는 도배재료는 무엇인가요?',\n",
       " '원목마루와 롱브릭타일에 대해 설명해주세요. 각각의 단점과 특징은 무엇인가요?',\n",
       " '침실을 더 아늑하게 꾸밀 수 있는 방법에는 어떤 것이 있을까요와 아이가 있는 집을 꾸밀 때 안전을 위해 고려해야 할 요소는 무엇인가요의 관계는 무엇인가요?',\n",
       " '인테리어에서 컬러매치를 위한 효과적인 팁이 있을까요? 그리고 복도나 협소한 공간을 확장시키기 위해 가장 효과적인 방법이 무엇일까요?',\n",
       " '그라스울 보온판의 주요 장점 중 하나인 흡음 성능은 어떻게 발휘될까요?\"',\n",
       " '미네랄울 보온판은 왜 고속 회전원심공법으로 제조되는 건가요?\"',\n",
       " '도배 후 필름 시공은 어떤 경우에 추천하시나요? 또한, 낡은 목재 가구의 흠집을 숨기는 방법을 알려주세요.',\n",
       " '입구나 복도의 표면에 사용하기 적합한 페인트 종류는 무엇이며, 이 공간을 환영스럽게 꾸미는 데 있어 어떤 인테리어 요소가 중요한가요?',\n",
       " '도배지가 먼지나 연기로 인해 얼마나 빨리 오염될 수 있나요? 그리고 습도가 높을 때 곰팡이가 어떻게 발생하는지 자세히 알고 싶습니다.',\n",
       " '방청페인트를 시공하는 방법에는 어떤 단계가 포함되나요? 또한, 배관공사 시 통기구를 설치해야 하는 이유가 무엇인가요?',\n",
       " '유성발수제를 사용하는 것의 실제 효과는 무엇인가요? 또한, 규산질계 침투성 도포 방수공사는 어떤 방식으로 이루어지나요?',\n",
       " '높은 습도로 인해 몰딩수정이 발생하는 경우가 있을까요? 또한, 내부와 외부 온도의 큰 차이로 인해 곰팡이 발생이 빨라지나요?',\n",
       " '인테리어 소품을 선택할 때 어떤 요소에 주의해야 할까요와 주방을 활기차게 꾸미기 위해 어떤 요소를 추가할 수 있을까요의 관계는 무엇인가요?',\n",
       " '초배지만 남은 벽에 페인트를 칠하면 어떤 문제가 발생하나요? 또한, 속건형 유성 발수제의 사용 목적과 효과에 대해 알려주세요.',\n",
       " '벽지에 반점이 생겼을 때, 왜 1년 이내인 경우에만 벽지 아세톤 용제 함침 방법을 사용하고 개선 벽지로 재시공해야 하나요?',\n",
       " '석구조란 무엇인가요? 그리고 기둥-보 구조 방식은 무엇을 의미하나요?',\n",
       " '원목마루의 어떤 단점이 있는지 알려주세요. 그리고 도배지가 남으면 어떻게 처리해야 하나요?',\n",
       " '마감재의 하자를 판단하는 데 어떤 방법을 사용해야 할까요? 그리고 새집증후군을 예방하는 데 가장 효과적인 방법은 무엇인가요?',\n",
       " '강마루 바닥재의 장점은 무엇인가요?',\n",
       " '새집증후군을 예방하기 위해 창문을 열어 환기하는 이유는 무엇인가요?',\n",
       " '도배풀을 제거하는 데 어떤 도구가 가장 효과적인가요? 또한, 옥상 방수용 탄성 에멀전 페인트를 사용하는 장점은 무엇인가요?',\n",
       " '통나무구조 방식의 건물에서 침하 현상을 최소화하기 위해 어떤 디테일을 고려해야 하나요?',\n",
       " 'MSDS(Material Safety Data Sheet)가 필요한 이유는 무엇인가요?',\n",
       " '인테리어 디자인에서 에나멜 계열 페인트를 사용하여 공간의 색상을 선택할 때 고려해야 할 요소들은 무엇인가요?',\n",
       " '라돈을 측정하는 데 가장 적합한 지점은 어디인가요? 그리고 MSDS(Material Safety Data Sheet)는 무엇을 포함하고 있나요?',\n",
       " '새집증후군을 해결하기 위한 방법에는 어떤 것들이 있나요? 그리고 소화기 종류에는 어떤 것들이 있는지 알려주세요.',\n",
       " '질석벽지가 아트월이나 현관 입구에서 많이 사용되는 이유는 무엇인가요?',\n",
       " '석고보드를 이동하면 도배지 꼬임이 발생할 가능성이 있나요? 또한, 건조시간이 충분하지 않으면 도배지가 꼬일 수 있는 이유가 무엇인가요?',\n",
       " '폴리에스테르 흡음 단열재의 장점 중 하나인 \"배수기능\"은 어떤 종류의 공간에 사용하기에 적합한가요?',\n",
       " '도배 후 제조사 권장 건조시간을 지키지 않으면 어떤 문제가 발생할 수 있나요?',\n",
       " '내단열 방식에서 발생하는 열교 문제와 곰팡이 발생의 원인은 무엇인가요?',\n",
       " '도배지가 찢어진 경우 터짐 하자가 발생하는 원인과 그에 따른 책임소재는 무엇인가요? 그리고 이를 해결하기 위해 어떤 방법을 사용할 수 있나요?',\n",
       " '건물의 면진장치는 지진 발생 시 어떻게 작동하나요?',\n",
       " '페인트 상도재의 역할과 사용 방법에 대해 알려주세요. 또한, 강화마루의 장점은 무엇입니까?',\n",
       " '경질우레탄폼 보온판은 왜 경제적인 선택인가요?',\n",
       " '상도작업은 어떻게 이뤄지나요? 또한, 공간을 넓게 보이도록 인테리어를 꾸미는 방법은 뭐가 있을까요?',\n",
       " '도배지가 울음 현상을 보일 때 그 원인과 대처 방법은 무엇인가요?',\n",
       " '사무실 실내공기 측정을 위한 적절한 위치는 어디일까요? 그리고 아파트 도배 평수를 어떻게 계산해야 하나요?',\n",
       " '도배지에 고습도로 인해 생기는 얼룩을 제거하는 방법이 있을까요? 또한, 구조적 결함 때문에 석고수정이 발생할 가능성이 있는가요?',\n",
       " '대리석 타일이 난방 절감에 어떤 역할을 하는 건가요?',\n",
       " '외단열 시공 시 외부 환경 조건이 중요한 이유는 무엇인가요?',\n",
       " '스탠드 조명을 선택할 때 어떤 조명이 적합한가요?',\n",
       " '실크벽지의 얼룩을 지워내는 가장 효과적인 방법이 있을까요? 그리고 부적절한 설치로 인해 제품의 품질에 영향을 미칠 수 있을까요?',\n",
       " '차음재의 차음 성능은 어떻게 평가되나요?',\n",
       " '공동주택의 실내 공기질을 측정하기 위한 적절한 지점은 어디일까요? 그리고 마감재의 하자를 판단하는 데 어떤 방법을 사용해야 할까요?',\n",
       " '실크벽지의 얼룩을 제거하기 위한 다양한 방법 중에서 특히 효과적인 방법은 무엇인가요?',\n",
       " '페인트 처리 시 페인트의 양에 따라 어떤 절차를 따라야 하나요?',\n",
       " '건설 산업은 어떤 종류의 작업을 포함하는지, 그리고 토목이 무엇인지 설명해줘.',\n",
       " '제진구조는 건물 구조 중에서 어떤 역할을 하는 건가요? 그리고 중목구조 방식에 대해 좀 더 자세히 설명해 주실 수 있을까요?',\n",
       " '작은 공간의 홈오피스에 원목사이딩을 사용할 때 고려해야 할 단점과 이를 극복하기 위한 인테리어 팁은 무엇인가요?',\n",
       " '알루미늄징크의 단점에 대해서 자세히 알려주세요 또한, 아이소핑크의 장점은 무엇인가요?',\n",
       " '겨울철 도배 작업에서 실내 온도를 일정하게 유지해야 하는 이유는 무엇인가요?',\n",
       " '철골구조의 화재 안전 보완을 위한 다양한 방법에는 무엇이 있을까요? 그리고 벽돌구조란 무엇인가요?',\n",
       " '석구조란 무엇인가요? 그리고 기둥-보 구조 방식은 무엇을 의미하나요?',\n",
       " '포세린 타일을 사용하는 것에 대한 단점이 무엇인가요? 그리고 셀룰로오스의 단점에 대해 설명해주세요.',\n",
       " '부드러운 욕실 인테리어를 위해 사용할 수 있는 소재나 색상은 어떤 것들이 있을까요? 그리고 반려동물을 위한 바닥재에는 어떤 종류가 있는지 알려주세요.',\n",
       " '팬던트 라이트는 무엇이며, 어떤 용도로 사용되나요? 그리고 인테리어에서 바닥재를 선택할 때 고려해야 할 중요한 요소는 무엇인가요?',\n",
       " '속건형 유성 발수제가 건물의 수명을 연장시키는 원리는 무엇인가요?',\n",
       " '주방에서 조리할 때 어떤 종류의 조명이 가장 적합한가요?',\n",
       " '인테리어에서 생기 넘치는 식물과 아트워크를 부착할 때 밀풀을 사용하는 것이 좋은가요, 그리고 밀풀 사용 시 주의할 점은 무엇인가요?',\n",
       " '철근콘크리트 구조에 대해 좀 더 자세히 알려주세요. 그리고 통나무구조 방식은 어떤 건물에 사용되는 건축 구조 방식인가요?',\n",
       " '공명형 흡음재가 특정 주파수에 한정적으로 적용되는 이유는 무엇인가요?\"',\n",
       " '결로의 발생 원인은 무엇이고, 이를 방지하기 위해 어떤 시공방법을 사용해야 하나요?',\n",
       " '베란다를 활용하여 야외 라운지를 만들기 위해 필요한 장비나 소품은 어떤 것이 있을까요와 거실에 현대적인 느낌을 주기 위한 팁은 무엇인가요의 관계는 무엇인가요?',\n",
       " '페인트 작업 시 유해물질을 최소화하기 위해 어떤 점을 유의해야 하나요?\"',\n",
       " '흡음재 중 판 진동형의 작동 원리는 무엇인가요?\"',\n",
       " '점토벽돌을 사용하는 것의 장점은 무엇인가요? 또한, 도료와 벽지 중에서 어떤 것을 선택하는 것이 더 나은 선택일까요?',\n",
       " '강화마루는 어떤 재료로 제작되나요? 또한, 징크판넬의 단점에는 어떤 것들이 있을까요?',\n",
       " '벽에 타공하자가 발생했을 때, 이로 인해 벽장 부위에 결로가 생길 수 있는지, 그리고 이를 방지하기 위한 방법은 무엇인가요?',\n",
       " '물 누수로 인한 곰팡이와 곰팡이 냄새를 제거하는 데 사용할 수 있는 가정용 청소용품이 있을까요? 그리고 펫테리어가 무엇인지 자세히 알려주세요.',\n",
       " '도배지를 너무 작게 자르면 어떤 문제가 발생할 수 있을까요? 그리고 높은 습도로 인해 도배지 패턴이 이어지지 않을 수 있는 이유가 무엇일까요?',\n",
       " '알러지가 있는 사람들이 매끄럽고 평평한 벽지를 선택하는 이유는 무엇인가요?',\n",
       " '아파트 도배 평수를 계산하는 방법과 소화기 설치 시 주의해야 할 사항에 대해 설명해줄 수 있나요?',\n",
       " '마감재의 하자를 판단하는 데 어떤 방법을 사용해야 할까요? 그리고 라돈을 측정하는 데 가장 적합한 지점은 어디인가요?',\n",
       " '이산화탄소 소화기에 대해 좀 더 자세히 알 수 있을까요? 그리고 분말 소화기는 어떤 용도로 사용되는 건가요?',\n",
       " '면진장치는 어떤 용도로 사용되는 건가요? 그리고 면진구조는 어떤 건물 구조나 시스템을 의미하나요?',\n",
       " '외단열재가 실내 온도 유지에 어떻게 도움을 주며, 이를 시공할 때 고려해야 할 주요 장점들은 무엇인가요?',\n",
       " '외단열과 내단열의 차이점은 무엇이며, 각각의 시공방법이 어떻게 단열 효과에 영향을 미치나요?',\n",
       " '바닥재의 종류 중에서 가장 인기 있는 것은 무엇이며, 가장 비싼 바닥재는 무엇인가요?',\n",
       " '포세린 타일의 장점과 단점은 무엇인가요?',\n",
       " '중목구조 방식에 대해 좀 더 자세히 설명해 주실 수 있을까요? 그리고 철근콘크리트 구조에 대해 좀 더 자세히 알려주세요.',\n",
       " '도배지는 얼마나의 양이 필요한가요? 또한, 벽에 구멍을 막는 가장 효과적인 방법은 무엇인가요?',\n",
       " '경질우레탄폼 보온판을 사용한 외단열 시공은 어떤 장점을 가지며, 이를 통해 어떻게 결로와 곰팡이 발생을 줄일 수 있나요?',\n",
       " '질석벽지가 아트월이나 현관 입구에 많이 사용되는 이유는 무엇인가요?',\n",
       " '시트 방수공사를 통해 건물의 에너지 절감 효과를 어떻게 얻을 수 있나요?\"',\n",
       " '내진설계에서 안정성을 높이기 위한 순서는 무엇인가요? 그리고 내진구조란 무엇인가요?',\n",
       " '분말 소화기를 사용할 때 주의해야 할 사항은 무엇인가요? 그리고 아파트 도배 평수를 어떻게 계산해야 하나요?',\n",
       " '압출법 보온판의 가장 큰 장점은 무엇인가요?\"',\n",
       " '평지붕의 누수 문제를 방지하기 위해 수성 벽체용 탄성 방수 도료를 사용하는 것이 어떤 장점이 있나요?',\n",
       " '석고수정이 발생하는 가장 큰 원인은 무엇인가요? 그리고 이를 해결하는 방법에 대해 알려주세요.\"',\n",
       " '카페트의 기대 수명은 얼마나 될까요? 그리고 오리지널징크의 장점에는 무엇이 있나요?']"
      ]
     },
     "execution_count": 5,
     "metadata": {},
     "output_type": "execute_result"
    }
   ],
   "source": [
    "inputs = test_df['질문'].tolist()\n",
    "inputs"
   ]
  },
  {
   "cell_type": "code",
   "execution_count": 6,
   "id": "5a958839-4f8f-4b4c-9e2f-e4de6acba9ab",
   "metadata": {},
   "outputs": [],
   "source": [
    "import re\n",
    "\n",
    "\n",
    "\n",
    "def find_number_and_remainder(s):\n",
    "    # Regular expression to match a number at the beginning of the string\n",
    "    pattern = r'^(\\d+)(.*)'\n",
    "    \n",
    "    # Find the match\n",
    "    match = re.match(pattern, s)\n",
    "    \n",
    "    if match:\n",
    "        # Extract the matched number and the rest of the string\n",
    "        number_str, remainder = match.groups()\n",
    "        \n",
    "        # Convert the extracted number to an integer\n",
    "        number = int(number_str)\n",
    "        \n",
    "        return number, remainder\n",
    "    else:\n",
    "        # Return None if no match is found\n",
    "        return None, None\n",
    "\n"
   ]
  },
  {
   "cell_type": "code",
   "execution_count": 7,
   "id": "17545f1e-9f82-4883-b0fc-c74c3b7f6e77",
   "metadata": {},
   "outputs": [],
   "source": [
    "# Open the text file\n",
    "with open('./result_skt_r.txt', 'r') as file:\n",
    "    # Read all lines from the file and store them in a list\n",
    "    lines = file.readlines()\n",
    "# lines\n",
    "skt_result = []\n",
    "for line in lines:\n",
    "    skt_result.append(line.strip())\n",
    "\n",
    "with open('./result_skt_appendix_1.txt', 'r') as file:\n",
    "    # Read all lines from the file and store them in a list\n",
    "    lines = file.readlines()\n",
    "# lines\n",
    "result_1 = []\n",
    "for line in lines:\n",
    "    result_1.append(line.strip())\n",
    "len(result_1)\n",
    "\n",
    "with open('./result_skt_appendix_2.txt', 'r') as file:\n",
    "    # Read all lines from the file and store them in a list\n",
    "    lines = file.readlines()\n",
    "# lines\n",
    "result_2 = []\n",
    "for line in lines:\n",
    "    result_2.append(line.strip())\n",
    "\n",
    "with open('./result_skt_appendix_3.txt', 'r') as file:\n",
    "    # Read all lines from the file and store them in a list\n",
    "    lines = file.readlines()\n",
    "# lines\n",
    "result_3 = []\n",
    "for line in lines:\n",
    "    result_3.append(line.strip())\n",
    "\n",
    "for app in result_1:\n",
    "    index, remain = find_number_and_remainder(app)\n",
    "    skt_result[index] = skt_result[index] + ' ' + remain\n",
    "for app in result_2:\n",
    "    index, remain = find_number_and_remainder(app)\n",
    "    skt_result[index] = skt_result[index] + ' ' + remain\n",
    "for app in result_3:\n",
    "    index, remain = find_number_and_remainder(app)\n",
    "    skt_result[index] = skt_result[index] + ' ' + remain"
   ]
  },
  {
   "cell_type": "code",
   "execution_count": 8,
   "id": "f7f81165-1dc2-44de-9fa3-6362842913d1",
   "metadata": {},
   "outputs": [],
   "source": [
    "# Open the text file\n",
    "with open('./result_alpha.txt', 'r') as file:\n",
    "    # Read all lines from the file and store them in a list\n",
    "    lines = file.readlines()\n",
    "# lines\n",
    "alpha_result = []\n",
    "for line in lines:\n",
    "    alpha_result.append(line.strip())\n",
    "\n",
    "with open('./result_alpha_appendix_1_r.txt', 'r') as file:\n",
    "    # Read all lines from the file and store them in a list\n",
    "    lines = file.readlines()\n",
    "# lines\n",
    "result_1 = []\n",
    "for line in lines:\n",
    "    result_1.append(line.strip())\n",
    "len(result_1)\n",
    "\n",
    "with open('./result_alpha_appendix_2_r.txt', 'r') as file:\n",
    "    # Read all lines from the file and store them in a list\n",
    "    lines = file.readlines()\n",
    "# lines\n",
    "result_2 = []\n",
    "for line in lines:\n",
    "    result_2.append(line.strip())\n",
    "\n",
    "with open('./result_alpha_appendix_3_r.txt', 'r') as file:\n",
    "    # Read all lines from the file and store them in a list\n",
    "    lines = file.readlines()\n",
    "# lines\n",
    "result_3 = []\n",
    "for line in lines:\n",
    "    result_3.append(line.strip())\n",
    "\n",
    "for app in result_1:\n",
    "    index, remain = find_number_and_remainder(app)\n",
    "    alpha_result[index] = alpha_result[index] + ' ' + remain\n",
    "for app in result_2:\n",
    "    index, remain = find_number_and_remainder(app)\n",
    "    alpha_result[index] = alpha_result[index] + ' ' + remain\n",
    "for app in result_3:\n",
    "    index, remain = find_number_and_remainder(app)\n",
    "    alpha_result[index] = alpha_result[index] + ' ' + remain"
   ]
  },
  {
   "cell_type": "code",
   "execution_count": 8,
   "id": "11f2448e-88eb-4497-9f77-c3975aa90cd6",
   "metadata": {},
   "outputs": [],
   "source": [
    "# # Open the text file\n",
    "# #kko\n",
    "# with open('./result_alpha.txt', 'r') as file:\n",
    "#     # Read all lines from the file and store them in a list\n",
    "#     lines = file.readlines()\n",
    "# # lines\n",
    "# alpha_result = []\n",
    "# for line in lines:\n",
    "#     alpha_result.append(line.strip())\n",
    "\n",
    "# with open('./result_alpha_appendix_1_r.txt', 'r') as file:\n",
    "#     # Read all lines from the file and store them in a list\n",
    "#     lines = file.readlines()\n",
    "# # lines\n",
    "# result_1 = []\n",
    "# for line in lines:\n",
    "#     result_1.append(line.strip())\n",
    "# len(result_1)\n",
    "\n",
    "# with open('./result_alpha_appendix_2_r.txt', 'r') as file:\n",
    "#     # Read all lines from the file and store them in a list\n",
    "#     lines = file.readlines()\n",
    "# # lines\n",
    "# result_2 = []\n",
    "# for line in lines:\n",
    "#     result_2.append(line.strip())\n",
    "\n",
    "# with open('./result_alpha_appendix_3_r.txt', 'r') as file:\n",
    "#     # Read all lines from the file and store them in a list\n",
    "#     lines = file.readlines()\n",
    "# # lines\n",
    "# result_3 = []\n",
    "# for line in lines:\n",
    "#     result_3.append(line.strip())\n",
    "\n",
    "# for app in result_1:\n",
    "#     index, remain = find_number_and_remainder(app)\n",
    "#     alpha_result[index] = alpha_result[index] + ' ' + remain\n",
    "# for app in result_2:\n",
    "#     index, remain = find_number_and_remainder(app)\n",
    "#     alpha_result[index] = alpha_result[index] + ' ' + remain\n",
    "# for app in result_3:\n",
    "#     index, remain = find_number_and_remainder(app)\n",
    "#     alpha_result[index] = alpha_result[index] + ' ' + remain"
   ]
  },
  {
   "cell_type": "code",
   "execution_count": 9,
   "id": "d2db5040-8fd8-40b5-aa98-9be08bab3db6",
   "metadata": {},
   "outputs": [],
   "source": [
    "# # Open the text file\n",
    "# #kllum\n",
    "# with open('./result_alpha.txt', 'r') as file:\n",
    "#     # Read all lines from the file and store them in a list\n",
    "#     lines = file.readlines()\n",
    "# # lines\n",
    "# alpha_result = []\n",
    "# for line in lines:\n",
    "#     alpha_result.append(line.strip())\n",
    "\n",
    "# with open('./result_alpha_appendix_1_r.txt', 'r') as file:\n",
    "#     # Read all lines from the file and store them in a list\n",
    "#     lines = file.readlines()\n",
    "# # lines\n",
    "# result_1 = []\n",
    "# for line in lines:\n",
    "#     result_1.append(line.strip())\n",
    "# len(result_1)\n",
    "\n",
    "# with open('./result_alpha_appendix_2_r.txt', 'r') as file:\n",
    "#     # Read all lines from the file and store them in a list\n",
    "#     lines = file.readlines()\n",
    "# # lines\n",
    "# result_2 = []\n",
    "# for line in lines:\n",
    "#     result_2.append(line.strip())\n",
    "\n",
    "# with open('./result_alpha_appendix_3_r.txt', 'r') as file:\n",
    "#     # Read all lines from the file and store them in a list\n",
    "#     lines = file.readlines()\n",
    "# # lines\n",
    "# result_3 = []\n",
    "# for line in lines:\n",
    "#     result_3.append(line.strip())\n",
    "\n",
    "# for app in result_1:\n",
    "#     index, remain = find_number_and_remainder(app)\n",
    "#     alpha_result[index] = alpha_result[index] + ' ' + remain\n",
    "# for app in result_2:\n",
    "#     index, remain = find_number_and_remainder(app)\n",
    "#     alpha_result[index] = alpha_result[index] + ' ' + remain\n",
    "# for app in result_3:\n",
    "#     index, remain = find_number_and_remainder(app)\n",
    "#     alpha_result[index] = alpha_result[index] + ' ' + remain"
   ]
  },
  {
   "cell_type": "code",
   "execution_count": 23,
   "id": "75f7795b-c5b6-4767-97f7-0317ed92b4a3",
   "metadata": {
    "scrolled": true
   },
   "outputs": [
    {
     "name": "stderr",
     "output_type": "stream",
     "text": [
      "WARNING:root:No ranker config provided, no ranker loaded, please load ranker first through load_ranker()\n",
      "WARNING:root:No fuser config provided, no fuser loaded, please load fuser first through load_fuser()\n",
      "/usr/local/lib/python3.8/dist-packages/dataclasses_json/core.py:188: RuntimeWarning: 'NoneType' object value of non-optional type load_checkpoint detected when decoding RankerConfig.\n",
      "  warnings.warn(\n",
      "/usr/local/lib/python3.8/dist-packages/dataclasses_json/core.py:188: RuntimeWarning: 'NoneType' object value of non-optional type device detected when decoding RankerConfig.\n",
      "  warnings.warn(\n",
      "/usr/local/lib/python3.8/dist-packages/transformers/convert_slow_tokenizer.py:515: UserWarning: The sentencepiece tokenizer that you are converting to a fast tokenizer uses the byte fallback option which is not implemented in the fast tokenizers. In practice this means that the fast version of the tokenizer can produce unknown tokens whereas the sentencepiece version would have converted these unknown tokens into a sequence of byte tokens matching the original piece of text.\n",
      "  warnings.warn(\n"
     ]
    },
    {
     "name": "stdout",
     "output_type": "stream",
     "text": [
      "Successfully loaded ranker from  /root/.cache/huggingface/hub/llm-blender/PairRM\n"
     ]
    }
   ],
   "source": [
    "import llm_blender\n",
    "blender = llm_blender.Blender()\n",
    "blender.loadranker(\"llm-blender/PairRM\") # load ranker checkpoint\n"
   ]
  },
  {
   "cell_type": "code",
   "execution_count": 24,
   "id": "0794b390-a1fd-456e-89ea-2a7dcb6de317",
   "metadata": {},
   "outputs": [
    {
     "data": {
      "text/plain": [
       "130"
      ]
     },
     "execution_count": 24,
     "metadata": {},
     "output_type": "execute_result"
    }
   ],
   "source": [
    "# inputs = inputs[:2]\n",
    "len(inputs)"
   ]
  },
  {
   "cell_type": "code",
   "execution_count": 26,
   "id": "9001ea50-e9f3-499f-8122-69bafeb43159",
   "metadata": {},
   "outputs": [
    {
     "data": {
      "text/plain": [
       "130"
      ]
     },
     "execution_count": 26,
     "metadata": {},
     "output_type": "execute_result"
    }
   ],
   "source": [
    "candidates_texts = []\n",
    "for idx, skt in enumerate(skt_result):\n",
    "    candidates_texts.append([skt,alpha_result[idx]])\n",
    "                            \n",
    "\n",
    "\n",
    "# candidates_texts = [[skt_result[0],alpha_result[0]],[skt_result[1],alpha_result[1]]]\n",
    "len(candidates_texts)"
   ]
  },
  {
   "cell_type": "code",
   "execution_count": 13,
   "id": "af8393aa-be34-4270-b9c8-8bd9fc92c754",
   "metadata": {},
   "outputs": [
    {
     "data": {
      "text/plain": [
       "'답변 네, 고습도 환경에서 몰딩 소재가 팽창하거나 수축하여 변형될 수 있습니다. 따라서, 습도가 높은 공간에 몰딩을 설치할 경우 몰딩 소재의 품질과 내구성을 고려하여 적합한 소재를 선택하는 것이 중요합니다. 또한, 몰딩 설치 전에는 습도 조절에 신경을 쓰고, 몰딩 소재의 건조시간을 충분히 고려해야 합니다. 내외부 온도의 큰 차이는 도배지에 결로를 발생시키고, 이로 인해 곰팡이가 생길 가능성이 있습니다. 따라서 온도 관리가 중요하며, 온도차를 줄이기 위해 냉열기를 가동하는 것이 도움이 될 수 있습니다. 또한, 제습기를 가동하여 실내 습도를 관리하는 것도 중요합니다. 만약 이러한 조치에도 불구하고 곰팡이가 발생한다면, 전문가의 도움을 받아 곰팡이 제거와 취급하는 것이 좋습니다.'"
      ]
     },
     "execution_count": 13,
     "metadata": {},
     "output_type": "execute_result"
    }
   ],
   "source": [
    "# alpha_result[0]\n",
    "alpha_result[50]"
   ]
  },
  {
   "cell_type": "code",
   "execution_count": 12,
   "id": "2bc1d030-4504-4472-b4ed-cdaf19e0b545",
   "metadata": {},
   "outputs": [
    {
     "data": {
      "text/plain": [
       "'고습도 환경에서 몰딩 소재가 팽창하거나 수축하여 변형될 수 있습니다. 따라서, 습도가 높은 공간에서 몰딩을 사용할 때는 소재의 특성을 고려하여 적합한 소재를 선택하는 것이 중요합니다. 또한, 몰딩을 시공한 후에도 공간의 습도를 적절히 관리하여 변형을 최소화할 필요가 있습니다. 내부와 외부 온도의 큰 차이로 인해 도배지에 결로가 발생하여 곰팡이가 발생할 수 있습니다. 온도 변화로 인해 도배지가 팽창하고 수축할 때 결로가 생기므로, 실내와 외부의 온도차를 줄이는 것이 중요합니다. 추가로, 제습기를 사용하여 실내의 적정 습도를 유지하고 공간을 환기시키는 것이 도움이 될 수 있습니다. 만약 곰팡이 발생이 지속된다면, 전문가의 도움을 받아야 합니다.'"
      ]
     },
     "execution_count": 12,
     "metadata": {},
     "output_type": "execute_result"
    }
   ],
   "source": [
    "# skt_result[0]\n",
    "skt_result[50]"
   ]
  },
  {
   "cell_type": "code",
   "execution_count": 32,
   "id": "af958c4c-926b-494c-9d1c-1b51c1e687ad",
   "metadata": {},
   "outputs": [
    {
     "name": "stderr",
     "output_type": "stream",
     "text": [
      "Ranking candidates: 100%|█████████████████████████████████████████████████████████████████████████████████████████████████████████████████████████████████████████████████████| 130/130 [00:11<00:00, 11.64it/s]\n"
     ]
    },
    {
     "data": {
      "text/plain": [
       "array([[2, 1],\n",
       "       [1, 2],\n",
       "       [1, 2],\n",
       "       [2, 1],\n",
       "       [2, 1],\n",
       "       [1, 2],\n",
       "       [1, 2],\n",
       "       [2, 1],\n",
       "       [1, 2],\n",
       "       [2, 1],\n",
       "       [2, 1],\n",
       "       [1, 2],\n",
       "       [1, 2],\n",
       "       [1, 2],\n",
       "       [2, 1],\n",
       "       [1, 2],\n",
       "       [2, 1],\n",
       "       [2, 1],\n",
       "       [2, 1],\n",
       "       [1, 2],\n",
       "       [1, 2],\n",
       "       [1, 1],\n",
       "       [2, 1],\n",
       "       [1, 2],\n",
       "       [1, 2],\n",
       "       [1, 2],\n",
       "       [1, 2],\n",
       "       [1, 2],\n",
       "       [2, 1],\n",
       "       [1, 2],\n",
       "       [1, 2],\n",
       "       [1, 2],\n",
       "       [1, 2],\n",
       "       [1, 2],\n",
       "       [1, 2],\n",
       "       [2, 1],\n",
       "       [2, 1],\n",
       "       [2, 1],\n",
       "       [1, 2],\n",
       "       [1, 2],\n",
       "       [1, 2],\n",
       "       [1, 2],\n",
       "       [1, 2],\n",
       "       [2, 1],\n",
       "       [2, 1],\n",
       "       [2, 1],\n",
       "       [2, 1],\n",
       "       [1, 2],\n",
       "       [1, 2],\n",
       "       [2, 1],\n",
       "       [1, 2],\n",
       "       [1, 2],\n",
       "       [2, 1],\n",
       "       [2, 1],\n",
       "       [1, 2],\n",
       "       [2, 1],\n",
       "       [1, 2],\n",
       "       [1, 1],\n",
       "       [2, 1],\n",
       "       [1, 2],\n",
       "       [1, 2],\n",
       "       [1, 2],\n",
       "       [2, 1],\n",
       "       [2, 1],\n",
       "       [2, 1],\n",
       "       [1, 2],\n",
       "       [2, 1],\n",
       "       [2, 1],\n",
       "       [2, 1],\n",
       "       [1, 2],\n",
       "       [1, 2],\n",
       "       [2, 1],\n",
       "       [1, 2],\n",
       "       [2, 1],\n",
       "       [2, 1],\n",
       "       [1, 2],\n",
       "       [1, 2],\n",
       "       [1, 2],\n",
       "       [1, 2],\n",
       "       [2, 1],\n",
       "       [1, 2],\n",
       "       [2, 1],\n",
       "       [2, 1],\n",
       "       [2, 1],\n",
       "       [1, 2],\n",
       "       [1, 2],\n",
       "       [2, 1],\n",
       "       [1, 2],\n",
       "       [1, 2],\n",
       "       [1, 2],\n",
       "       [1, 1],\n",
       "       [2, 1],\n",
       "       [1, 2],\n",
       "       [1, 2],\n",
       "       [1, 2],\n",
       "       [1, 2],\n",
       "       [1, 2],\n",
       "       [2, 1],\n",
       "       [1, 2],\n",
       "       [1, 2],\n",
       "       [2, 1],\n",
       "       [2, 1],\n",
       "       [1, 2],\n",
       "       [1, 2],\n",
       "       [1, 2],\n",
       "       [2, 1],\n",
       "       [2, 1],\n",
       "       [1, 2],\n",
       "       [1, 2],\n",
       "       [1, 2],\n",
       "       [2, 1],\n",
       "       [2, 1],\n",
       "       [2, 1],\n",
       "       [2, 1],\n",
       "       [1, 2],\n",
       "       [2, 1],\n",
       "       [2, 1],\n",
       "       [1, 2],\n",
       "       [1, 2],\n",
       "       [2, 1],\n",
       "       [2, 1],\n",
       "       [1, 2],\n",
       "       [1, 2],\n",
       "       [2, 1],\n",
       "       [1, 2],\n",
       "       [1, 2],\n",
       "       [1, 2],\n",
       "       [2, 1],\n",
       "       [1, 2],\n",
       "       [1, 2]], dtype=int32)"
      ]
     },
     "execution_count": 32,
     "metadata": {},
     "output_type": "execute_result"
    }
   ],
   "source": [
    "ranks = blender.rank(inputs, candidates_texts, return_scores=False, batch_size=1)\n",
    "ranks"
   ]
  },
  {
   "cell_type": "code",
   "execution_count": 50,
   "id": "40e03677-1498-4b51-b8c7-c10004240fb1",
   "metadata": {},
   "outputs": [
    {
     "name": "stdout",
     "output_type": "stream",
     "text": [
      "130\n",
      "130\n"
     ]
    }
   ],
   "source": [
    "print(len(ranks))\n",
    "print(len(skt_result))"
   ]
  },
  {
   "cell_type": "code",
   "execution_count": 55,
   "id": "b58ce846-a4ae-4b69-bb30-163f38ac50ec",
   "metadata": {},
   "outputs": [
    {
     "name": "stdout",
     "output_type": "stream",
     "text": [
      "0\n",
      "1\n",
      "2\n",
      "3\n",
      "4\n",
      "5\n",
      "6\n",
      "7\n",
      "8\n",
      "9\n",
      "10\n",
      "11\n",
      "12\n",
      "13\n",
      "14\n",
      "15\n",
      "16\n",
      "17\n",
      "18\n",
      "19\n",
      "20\n",
      "21\n",
      "22\n",
      "23\n",
      "24\n",
      "25\n",
      "26\n",
      "27\n",
      "28\n",
      "29\n",
      "30\n",
      "31\n",
      "32\n",
      "33\n",
      "34\n",
      "35\n",
      "36\n",
      "37\n",
      "38\n",
      "39\n",
      "40\n",
      "41\n",
      "42\n",
      "43\n",
      "44\n",
      "45\n",
      "46\n",
      "47\n",
      "48\n",
      "49\n",
      "50\n",
      "51\n",
      "52\n",
      "53\n",
      "54\n",
      "55\n",
      "56\n",
      "57\n",
      "58\n",
      "59\n",
      "60\n",
      "61\n",
      "62\n",
      "63\n",
      "64\n",
      "65\n",
      "66\n",
      "67\n",
      "68\n",
      "69\n",
      "70\n",
      "71\n",
      "72\n",
      "73\n",
      "74\n",
      "75\n",
      "76\n",
      "77\n",
      "78\n",
      "79\n",
      "80\n",
      "81\n",
      "82\n",
      "83\n",
      "84\n",
      "85\n",
      "86\n",
      "87\n",
      "88\n",
      "89\n",
      "90\n",
      "91\n",
      "92\n",
      "93\n",
      "94\n",
      "95\n",
      "96\n",
      "97\n",
      "98\n",
      "99\n",
      "100\n",
      "101\n",
      "102\n",
      "103\n",
      "104\n",
      "105\n",
      "106\n",
      "107\n",
      "108\n",
      "109\n",
      "110\n",
      "111\n",
      "112\n",
      "113\n",
      "114\n",
      "115\n",
      "116\n",
      "117\n",
      "118\n",
      "119\n",
      "120\n",
      "121\n",
      "122\n",
      "123\n",
      "124\n",
      "125\n",
      "126\n",
      "127\n",
      "128\n",
      "129\n"
     ]
    }
   ],
   "source": [
    "ensemble_results = []\n",
    "for total_idx, rank in enumerate(ranks):\n",
    "    print(total_idx)\n",
    "    for idx, r in enumerate(rank):\n",
    "        if r==1:\n",
    "            if idx == 0:\n",
    "                ensemble_results.append(skt_result[total_idx])\n",
    "            elif idx == 1:\n",
    "                ensemble_results.append(alpha_result[total_idx])\n",
    "            else:\n",
    "                print(\"error\")\n",
    "            break\n"
   ]
  },
  {
   "cell_type": "code",
   "execution_count": 57,
   "id": "c65283e0-c51c-4118-8648-549e21690d01",
   "metadata": {},
   "outputs": [
    {
     "name": "stdout",
     "output_type": "stream",
     "text": [
      "130\n"
     ]
    },
    {
     "data": {
      "text/plain": [
       "['방청페인트의 종류는 광명단페인트, 방청산화철페인트, 알미늄페인트, 역청질페인트, 워시프라이머, 크롬산아연페인트, 규산염페인트가 있습니다. 원목사이딩의 단점은 주로 가격대가 높고 관리가 어렵다는 점입니다. 또한 습기에 약해 뒤틀림, 부서짐, 수축 및 팽창이 발생할 수 있다는 점도 단점으로 꼽힙니다.',\n",
       " '도배지에 녹이 발생하는 원인은 공간 내 습도가 높거나 누수가 발생하여 발생할 수 있습니다. 이로 인해 도배지 안쪽의 금속이 녹아서 녹이 도배지에 베어나오게 됩니다. 습기가 높은 상태가 지속될 경우 녹오염이 발생할 수 있으며, 또한 누수에 의해 도배지가 젖은 상태가 유지될 경우 곰팡이가 발생할 수 있습니다.  이러한 경우에는 먼저, 제습기를 가동하거나 환기를 통해 공간 내 적정한 습도를 유지하는 것이 중요합니다. 또한, 누수를 제거하고 곰팡이가 발생한 도배지의 부분 및 전체를 교체하는 것이 필요할 수 있습니다. 이러한 보수작업은 전문가의 도움을 받아 진행하는 것이 좋습니다.',\n",
       " '큐블럭은 일반 벽돌에 비해 가격이 비싸고 균열이 생기기 쉬우며 습기로 인해 하자가 발생할 수 있다는 점이 단점으로 꼽힙니다. 이러한 단점으로 인해 섬유 시멘트 블록이나 기타 대안적 소재를 고려하는 경우가 많습니다. 압출법단열판은 습기에 강하고 곰팡이 및 세균 증식을 막을 수 있으며 단열재 중 열전도율이 가장 낮은 편이고 시공이 간편하다는 장점이 있습니다.',\n",
       " '철골구조는 화재 발생 시 내구성이 약해지며, 이는 건물의 붕괴로 이어질 수 있습니다. 이러한 문제를 해결하기 위한 방법 중 하나는 내화성 구조물을 사용하는 것입니다. 예를 들어, 벽돌, 콘크리트 또는 석고보드와 같은 내화성 자재로 철골을 둘러싸 화재에 의한 파손을 최소화할 수 있습니다. 또한 화재감지 및 화재진압 장치를 설치하여 화재가 발생했을 때의 초기 대응에 대비하는 것도 중요합니다. 더 나아가 철골재의 피해를 최소화하기 위해 화재 대피 및 구조에 대한 교육, 규제 및 점검 프로토콜을 강화하는 것이 필요합니다.',\n",
       " '도배지의 건조 시간은 일반적으로 약 8시간 정도 소요됩니다. 이 시간에는 벽면에 부착된 기구 탈거, 기존 벽지의 제거, 벽면의 보수, 그리고 초배/정배 작업이 포함되어 있습니다. 그러나 도배 작업에 소요되는 시간은 실제 도배 면적과 추가 작업 여부에 따라 달라질 수 있으니, 시공사에게 직접 견적을 받아보시는 것이 좋습니다.',\n",
       " '철근철골콘크리트는 철골과 철근, 그리고 콘크리트를 함께 사용하는 건축 구조입니다. 철골은 강하고 가벼운 소재로, 높은 내구성과 강도를 가지고 있어 대규모 공간이나 강성이 요구되는 대형 고층건물에 적합합니다. 그러나 화재에 취약하고 녹이 슬면 강성이 떨어지는 단점이 있습니다. 이를 보완하기 위해 철근과 콘크리트를 섞어 사용하는 방식이 개발되었습니다. 철근콘크리트는 철근이 인장력을, 콘크리트가 압축력을 담당하여 강성을 가지며 콘크리트의 열전도가 낮은 재료상 특징을 이용해 서로의 단점을 보완하도록 결합한 구조입니다. 내화성, 내구성, 내진성능이 뛰어나지만 자중이 크고 시공과정이 복잡하며 공사기간이 길고 균일한 시공이 불가능하다는 단점이 있습니다. 철근철골콘크리트는 이 두 가지 구조의 장점을 살려 만든 것으로, 철골 뼈대로 구조를 세우고 그 주변을 철근과 콘크리트로 감싸거나, 철근과 콘크리트로 구조를 만들고 그 위에 철골을 올리는 형태로 만들어집니다. 이렇게 함으로써 철골의 내구성과 강도를 높이면서도 화재에 대한 안전성을 높일 수 있습니다.',\n",
       " '개별 공간은 개인의 공간과 더 많은 프라이버시를 제공하는 반면, 오픈 플랜은 공간을 확장시키고 연결감을 높여 활동적인 라이프스타일을 즐기기에 더 적합할 수 있습니다. 만약 온전히 개인 공간에서 안락함을 느끼는 편이라면 개별 공간이 더 적합할 수 있고, 대화와 활동을 즐기는데 중점을 두는 경우에는 오픈 플랜이 보다 적합할 것입니다. 합지벽지의 단점은 상대적으로 수명이 짧고 내구성이 약하며 오염이 생기면 닦거나 청소가 어렵고 시간이 지나면 변색이 될 수 있는 점이 단점입니다. 합지벽지의 단점은 상대적으로 수명이 짧고 내구성이 약하며 오염이 생기면 닦거나 청소가 어렵고 시간이 지나면 변색이 될 수 있는 점이 단점입니다. 합지벽지의 단점은 상대적으로 수명이 짧고 내구성이 약하며 오염이 생기면 닦거나 청소가 어렵고 시간이 지나면 변색이 될 수 있는 점이 단점입니다. 합지벽지의 단점은 상대적으로 수명이 짧고 내구성이 약하며 오염이 생기면 닦거나 청소가 어렵고 시간이 지나면 변색이 될 수 있는 점이 단점입니다.',\n",
       " '도배지의 끝 부분이 들뜨는 현상은 주로 습도, 온도 차이, 또는 벽면의 손상으로 인해 발생합니다. 먼저, 습도가 높을 경우 도배지의 접착력이 감소하여 벽면에서 떨어질 수 있습니다. 따라서, 제습기를 가동하고 실내 환기를 통해 적정 습도를 유지하는 것이 중요합니다. 내외부의 심한 온도 차도 도배지의 들뜸 현상을 유발할 수 있습니다. 온도 관리와 습도 조절을 통해 온도 차를 줄이고, 습기의 유입을 막는 것이 필요합니다. 마지막으로, 벽면에 손상이 있을 경우에도 도배지 들뜸이 발생할 가능성이 있습니다. 벽면을 제대로 복원하고 평평하게 균형을 맞춘 후 재작업을 하는 것을 추천합니다. 이러한 보수 작업은 전문가의 도움을 받으면 더욱 효과적일 수 있습니다.',\n",
       " '도배지에 생긴 얼룩은 다양한 원인에 의해 발생할 수 있습니다. 주요 원인과 그에 따른 책임소재 및 해결방법을 알아보겠습니다.  1. **습도와 이물질로 인한 오염**    - 원인: 높은 습도로 도배지 표면이 젖거나, 이물질이 표면에 흡수됨으로써 얼룩이 발생할 수 있습니다.    - 책임소재: 건물의 소유자나 거주자가 습기 및 공간 관리에 책임이 있습니다.    - 해결방법: 제습기를 가동하거나 환기를 통해 실내 습도를 조절하고, 전문가의 도움을 받아 보수작업이 필요합니다.  2. **먼지 및 연기로 인한 오염**    - 원인: 도배지 표면에 먼지나 연기가 축적되면 얼룩이 발생할 수 있습니다.   - 책임소재: 건물의 소유자나 거주자가 환경 관리에 책임이 있습니다.    - 해결방법: 얼룩 제거제나 청소용품을 사용하여 얼룩을 처리하고, 얼룩이 지워지지 않으면 부분 또는 전체 도배를 고려해야 합니다.  3. **화학물질로 인한 오염**    - 원인: 도배지가 화학물질에 노출되면 오염이 발생할 수 있습니다.   - 책임소재: 건물의 소유자나 거주자가 책임이 있습니다.   - 해결방법: 화학물질의 종류를 파악한 후 적절한 방법으로 오염을 제거하거나, 오염이 지워지지 않는다면 벽지를 교체하는 것을 고려해야 합니다.  이러한 원인들을 고려하여 적절한 대응을 통해 도배지의 얼룩을 해결할 수 있습니다.',\n",
       " '철골구조는 건물의 외벽에는 그다지 하중이 걸리지 않기 때문에 고층 건물의 건축자재로 많이 사용됩니다. 또한, 철골구조는 화재, 지진 및 기타 자연재해로부터 건물을 보호하는 안전성이 뛰어나며, 건물의 내부 공간을 유연하게 구성할 수 있는 유연성 역시 갖추고 있습니다.',\n",
       " '유성페인트는 주로 석유나 석탄에서 추출한 기름이나 화학물질로 만들어지며, 이들 중 일부는 인체에 유해한 영향을 미칠 수 있습니다. 유성페인트의 주요 단점은 무엇인가요?',\n",
       " '훼손과 오염은 물리적인 변화의 유무를 기준으로 구분됩니다. 훼손은 물리적 충격이나 힘을 받아 상태가 변한 것을 말하며, 찍힘이나 터짐과 같은 물리적 손상을 포함합니다. 반면에 오염은 물리적인 힘이나 충격으로 인한 변화가 아니라, 녹 오염이나 얼룩과 같은 물질의 부착으로 인해 생기는 변화를 의미합니다. 부실 시공으로 인해 타공불량이 발생할 수 있습니다. 타공을 할 때 적절하지 않은 도구를 사용하거나 타공 부위의 크기를 정확히 측정하지 않으면 타공이 원하는 크기나 위치에 맞지 않을 수 있습니다. 이는 부실한 시공으로 인해 발생하는 문제로, 신중한 작업과 적합한 도구를 사용하여 부실 시공을 방지할 필요가 있습니다.',\n",
       " '철골콘크리트는 철근을 사용하여 콘크리트와 결합하여 건축물의 구조를 형성하는 구조물입니다. 기둥, 보, 내력벽, 바닥 슬라브 등의 주요 구조부가 철근 콘크리트로 시공되어 강한 인장력과 압축력을 견디는 구조를 형성합니다. 이러한 구조는 자유로운 형상을 구현하는 것이 가능하며, 내구성, 내화성, 내진성을 갖추고 있습니다. 하지만 비강도가 비교적 작고, 여러 가지 이유로 균열 발생 위험이 있는 점이 단점으로 지적되고 있습니다.',\n",
       " '방염벽지는 합지, 실크벽지보다 비싸며 전문시공이 필요하여 시공비가 높아질 수 있다는 단점이 있습니다.',\n",
       " '도배지에 곰팡이와 곰팡이가 발생한 경우, 해당 부분을 전문적인 도구와 화학약품을 사용하여 철저히 제거해야 합니다. 먼저 곰팡이가 번진 도배지 부분을 제거하고, 도배지 안쪽 벽 또는 석고보드에도 곰팡이가 번진 경우에는 전문가의 도움을 받아야 합니다. 또한, 재발 방지를 위해 철저한 제거 후 필요시 화학약품을 병행하여 사용하는 것이 좋습니다. 곰팡이 제거 후에는 적절한 방법으로 표면을 청소하고, 미생물이 번지지 않도록 습기와 환기를 관리하는 것이 중요합니다.',\n",
       " '롱브릭타일은 모노롱브릭타일이라고도 불리며, 전통적인 벽돌의 형태를 가진 시멘트 벽돌과는 다르게 더 긴 형태를 가진 타일입니다. 이러한 형태로 와이드 벽돌로도 불리며, 노출 콘크리트와 유사한 분위기를 연출할 수 있습니다. 따라서, 현대적이고 독특한 디자인을 선호하는 사람들 사이에서 인기가 있습니다. 페인트 상도재는 최종 마감으로 칠하는 페인트로, 영어로는 Top Coating이라고 합니다. 상도재는 하도재와 주도재의 제품을 보호하는 역할을 담당하며, 외부 표면에 노출될 때의 열 및 기후에 강하며 내구성이 높은 특징을 가지고 있습니다. 이러한 장점 때문에 가격이 다소 비쌉니다. 페인트 상도재는 최종 마감으로 칠하는 페인트로, 영어로는 Top Coating이라고 합니다. 상도재는 하도재와 주도재의 제품을 보호하는 역할을 담당하며, 외부 표면에 노출될 때의 열 및 기후에 강하며 내구성이 높은 특징을 가지고 있습니다. 이러한 장점 때문에 가격이 다소 비쌉니다. 페인트 상도재는 최종 마감으로 칠하는 페인트로, 영어로는 Top Coating이라고 합니다. 상도재는 하도재와 주도재의 제품을 보호하는 역할을 담당하며, 외부 표면에 노출될 때의 열 및 기후에 강하며 내구성이 높은 특징을 가지고 있습니다. 이러한 장점 때문에 가격이 다소 비쌉니다. 페인트 상도재는 최종 마감으로 칠하는 페인트로, 영어로는 Top Coating이라고 합니다. 상도재는 하도재와 주도재의 제품을 보호하는 역할을 담당하며, 외부 표면에 노출될 때의 열 및 기후에 강하며 내구성이 높은 특징을 가지고 있습니다. 이러한 장점 때문에 가격이 다소 비쌉니다.',\n",
       " '준불연재료란 화재에 견딜 수 있는 소재로, 일정 기간 동안(보통 10분) 화재에 견디는 소재를 의미합니다. 주로 건물 내부의 건축 재료로 사용되며, 화재를 예방하고 인명피해를 최소화하는 데 기여합니다. 유성페인트의 단점은 주로 두 가지입니다. 첫 번째로, 유성페인트는 주로 석유나 석탄에서 추출한 기름이나 화학물질로 만들어지기 때문에, 일부 성분은 인체에 유해한 영향을 미칠 수 있습니다. 특히, 벤젠, 톨루엔, 자일렌과 같은 유해물질이 포함되어 있어 장기간 노출될 경우 암, 호흡기 질환, 피부 질환 등의 건강 문제를 유발할 수 있습니다. 두 번째로는 유성페인트가 강한 냄새가 나며, 이는 주변 환경에서 불쾌감을 유발할 수 있다는 점입니다.',\n",
       " '몰딩이 수정되는 것은 주로 환경적인 요인에 의해 발생합니다. 햇빛, 습기, 화학물질 등의 외부 요인에 노출될 경우 몰딩이 수정될 가능성이 있습니다. 특히, 습기가 많은 환경이나 강한 햇빛이 비추는 곳, 화학물질이 사용되는 구역 등에서 몰딩 수정 현상이 발생할 수 있습니다. 따라서 몰딩의 수명을 연장하기 위해서는 이러한 환경적인 요인들을 최대한 배제하고 유지보수를 꾸준히 해주어야 합니다. 벽지에 반점이 생겼을 때 유색반점 발생 시기가 벽지시공 후 1년 이내인 경우, 보수작업은 아래와 같이 해야 합니다. 먼저, 이염 방지제를 도포한 후에 개선 벽지로 전면 재시공하는 것이 필요합니다. 반점이 생긴 상태에서 아세톤 용제를 사용하여 함침하는 것은 유색 반점을 확대시키거나 신규 이염이 발생할 우려가 있으므로 추천되지 않습니다. 따라서 반점이 눈에 띄고, 개선이 불가능한 상황이라면 전문가의 도움을 받아야 합니다.',\n",
       " '벽에 뚫린 구멍은 주로 천장이나 벽면의 못 등 작은 물체로 인해 발생합니다. 이는 부실 시공으로 인해 발생하는 것으로, 시공자가 부실한 시공을 했거나 잘못된 공구 및 재료를 사용했을 때 발생할 수 있습니다. 이러한 경우에는 벽면에 손상을 줄 수 있으므로 조속한 보수 및 처리가 필요합니다.',\n",
       " '다이닝 룸을 포멀하게 꾸미고 싶다면, 고풍스럽고 정교한 가구와 함께 크리스탈 조명 및 풍부한 직물을 활용해보세요. 또한, 다크 우드나 마호가니와 같은 고급스러운 목재를 사용하고, 고급스러운 장식품과 조화롭게 어우러진 장식적 요소들을 추가하는 것도 좋은 방법입니다. 또한, 포멀한 분위기를 연출하는 데 유리한 주변 환경을 고려해 창가에 커다란 커튼을 걸어주는 등의 방법도 효과적입니다. 이러한 세부 사항들이 다이닝 룸을 더욱 포멀하게 꾸밀 수 있도록 도와줄 것입니다.',\n",
       " '석고는 습기를 흡수하고 물에 녹는 성질이 있어서, 고습 환경에서는 석고수정이 발생할 수 있습니다. 이로 인해 석고보드나 도배지 등에 변형이 발생할 수 있으므로, 건조하고 습도가 적절한 환경에서 사용하는 것이 중요합니다. 변형을 최소화하기 위해서는 건조시간을 충분히 주고, 습도 관리에 신경써야 합니다. 피스 하자는 벽지 안쪽에 사용된 못이나 다른 작은 물체로 인해 발생하는 하자를 말합니다. 피스 하자가 심하다면 도배지가 터질 위험이 있으므로 조속한 처리가 필요합니다.',\n",
       " '라돈을 제외한 공동주택의 실내공기질 측정지점은 공동주택 실내공기질 측정시에는 기본적으로 100세대에서 3개 세대를 선정하여 시료를 채취합니다. 이때, 저층부, 중층부, 그리고 고층부 순으로 선택하여 채취합니다. 그리고 100세대가 증가할 때마다 1세대씩 추가하여 최대 20세대까지 시료를 채취하게 됩니다.',\n",
       " '파손된 타일을 교체할 때 주의할 점은 다음과 같습니다. 1. 먼저 파손된 타일을 완전히 제거합니다. 이 때, 타일 주변을 손상시키지 않도록 조심해야 합니다. 2. 타일이 제거되면, 남은 시멘트나 접착제를 철거하여 바닥을 깨끗하게 닦아줍니다. 3. 새로운 타일을 설치할 위치에 접착제를 발라줍니다.  4. 이후, 새로운 타일을 원하는 위치에 놓고 균등하게 눌러 밀착시킵니다.  5. 타일이 완전히 마르고 밀착된 후, 못 등으로 추가로 고정시켜 줄 수 있습니다. 겨울철 도배는 몇 가지 주의해야 할 사항이 있습니다. 1. 온도 관리: 도배 작업 중에는 실내 온도가 일정하게 유지되어야 합니다. 특히 도배풀이 얼어버리는 것을 막기 위해 보일러나 전열기를 사용하여 온도를 적절하게 유지해야 합니다. 2. 과열 방지: 추운 날씨로 실내 온도를 높이기 위해 전열기를 오랜 시간 사용하는 것은 도배지에 해로울 수 있습니다. 지나치게 고열에 노출되면 도배지의 색상이 변하거나 이음매가 벌어질 수 있습니다. 3. 환기 주의: 도배 시공 직후 집안의 냄새를 제거하려는 용도로 환기를 하는 것은 좋지만, 춥고 건조한 겨울에는 도배지가 고르게 건조되지 않아 터질 수 있습니다. 이를 방지하기 위해 2일 정도는 창문을 닫아 놓는 것이 좋습니다.',\n",
       " '유성페인트의 주요 단점은 다음과 같습니다.  1. 유성페인트: 유성페인트는 석유나 석탄에서 추출한 기름이나 화학물질로 만들어지기 때문에, 일부 성분은 인체에 유해한 영향을 미칠 수 있습니다. 특히, 벤젠, 톨루엔, 자일렌과 같은 유해물질이 포함되어 있어 장기간 노출될 경우 암, 호흡기 질환, 피부 질환 등의 건강 문제를 유발할 수 있습니다.  2. 유성페인트의 건조 시간: 유성페인트는 건조 시간이 길며, 이로 인해 작업 시간이 더 오래 걸릴 수 있습니다. 또한, 건조 과정에서 발생하는 열로 인해 작업자가 불편함을 느낄 수 있습니다.  3. 유성페인트의 건조 시간: 유성페인트는 건조 시간이 길며, 이로 인해 작업 시간이 더 오래 걸릴 수 있습니다. 또한, 건조 과정에서 발생하는 열로 인해 작업자가 불편함을 느낄 수 있습니다.  4. 유성페인트는 환경 오염을 유발할 수 있습니다. 유성페인트의 성분 중 일부는 대기 중에 방출되면 미세먼지나 오존 등의 오염물질을 생성할 수 있습니다.  5. 유성페인트의 성분 중 일부는 대기 중에 방출되면 미세먼지나 오존 등의 오염물질을 생성할 수 있습니다.  6. 유성페인트의 성분 중 일부는 대기 중에 방출되면 미세먼지나 오존 등의 오염물질을 생성할 수 있습니다.  6. 유성페인트의 성분 중 일부는 대기 중에 방출되면 미세먼지나 오존 등의 오염물질을 생성할 수 있습니다. 페인트를 처리하는 방법은 남은 페인트의 양에 따라 다릅니다. 남은 페인트 양이 적다면, 신문이나 폐 옷에 적신 후 종량제 봉투에 버릴 수 있습니다. 그러나 6밀리터 이상 100킬로그램 미만이라면 폐기물 수수료업체를 통해 처리해야 하고, 100킬로그램 이상이라면 지방 환경청에 신고해야 합니다. 이때 필요한 서류는 폐기물 처리 계획서, 폐기물 분석 결과서, 폐기물 수수료 확인서 각 한 통입니다.',\n",
       " '가장 비싼 바닥재는 대리석 타일입니다. 가장 비싼 바닥재는 고급 대리석 타일입니다. 대리석은 자연스러운 아름다움과 내구성으로 유명하며, 그만큼 가격도 높습니다. 그러나 그만큼의 비용이 들지만 뛰어난 품질과 탁월한 디자인으로 가장 고급스러운 인테리어를 만들어줄 수 있습니다. 유광 자기질 타일은 일반적으로 50년 정도의 기대수명을 가지고 있습니다. 그러나 정기적인 유지보수와 적절한 사용 환경에서는 이 수명을 더 오래 유지할 수 있습니다. 올바른 청소 및 보수와 함께 적절한 사용 시간을 고려하여 타일의 상태를 지속적으로 확인하는 것이 중요합니다.',\n",
       " '풍수지리를 고려할 때는 문의 위치, 가구 배치, 그리고 색상 선택에 신중하게 접근하세요. 스탠드 조명은 이동이 가능한 조명으로, 필요에 따라 자유롭게 위치를 변경할 수 있는 휴대용 조명입니다. 주로 실내 공간에서 사용되며, 조명 기능 뿐만 아니라 소품으로서의 역할 또한 함께 합니다. 다양한 디자인으로 제공되며, 이동성이 좋은 것이 장점이지만 작은 공간에는 부적합하며, 불안정하게 설치할 경우 파손될 수 있는 단점도 있습니다.',\n",
       " '반점이 생긴지 1년 이상된 경우, 벽지를 재시공하는 것이 가장 바람직한 보수작업 방법입니다. 이렇게 하면 기존의 반점이나 얼룩을 제거하고 벽지를 새로 시공하여 완전히 교체할 수 있습니다. 이 경우 전문가의 도움을 받아 작업하는 것이 좋습니다. 예를 들어, 전문 도배업체나 장인들의 도움을 받아 새로운 벽지 시공을 진행할 수 있습니다. 부분적으로 벽지를 교체하거나 전체적으로 벽지를 교체할지에 대한 판단은 전문가와 상의하여 결정하는 것이 좋습니다. 도배지의 내구성이 떨어질 경우 사용 중에 찢어질 가능성이 높아집니다. 따라서 품질이 낮은 도배지를 사용하면 찢어지는 문제가 발생할 수 있으니, 품질이 검증된 제품을 선택하는 것이 좋습니다.',\n",
       " '평지붕의 단점은 경사지붕과 비교했을 때 에너지 손실이 더 크며 단열 및 방수를 위한 시공비가 많이 들고, 누수의 위험이 높을 수 있습니다. 또한, 다른 지붕재에 비해 수명이 짧은 편이라는 것을 염두에 두어야 합니다. 실크벽지의 교체 주기는 일반적으로 5~7년이며, 그 이후에는 바탕이 되는 벽지의 상태 및 사용 환경에 따라 조금 더 나중이나 조금 더 이르게 교체해야 할 수도 있습니다. 때때로 빛의 노출이 많은 공간의 실크벽지는 색상이 바래어 보이거나 벽지 자체가 손상되는 경우가 있는데, 이러한 상황에서는 교체 주기를 조정할 필요가 있습니다. 혹은 특별히 신중하게 관리될 경우 교체 주기를 늘릴 수도 있습니다.',\n",
       " '경량철골구조란 주로 주택, 창고, 농자재 등에 사용되는 철골로, 약 1.5~3mm 두께의 철골로 이루어져 있습니다. 이러한 경량철골구조는 주로 파이프, C형 채널, LEB 자재 등을 사용하여 건축물을 구성하는 구조체입니다. 이러한 구조물은 경제적이면서도 강도가 뛰어나기 때문에 많은 건물에서 사용됩니다. 철골구조는 건물의 외벽에는 그다지 하중이 걸리지 않기 때문에 고층 건물의 건축이 가능한 것이 장점입니다.',\n",
       " '프리케스트콘크리트 구조는 PC라고도 불리며, 건축물의 벽, 슬래브(SLAB), 보 등의 콘크리트 부재를 공장에서 미리 제작하여 현장에서 조립하는 공법입니다. 이는 안정된 환경에서 품질관리와 대량생산이 가능하여 품질 확보 및 원가절감이 가능하며, 현장에서는 일부 구간 RC(철근 콘크리트) 공법과 병행하여 공장 생산 PC 부재와의 연결을 통해 공기 단축이 가능한 장점을 가지고 있습니다. 프리케스트콘크리트 구조는 건축물을 보다 신속하게 건설하고 품질을 관리할 수 있는 방법으로, 현재 건축산업에서 높은 인기를 얻고 있습니다. 조적식 구조는 벽돌 또는 콘크리트 블록을 모르타르로 서로 접착하여 쌓아 만드는 구조 방식을 말합니다. 이 방식은 보편적으로 주택과 같은 소규모 건물에 사용되며 내습, 내구성, 내화성이 좋고 경제적이라는 장점이 있습니다. 그러나 수평방향의 외력에 대해 상대적으로 취약하며, 단일 벽체로 쌓을 수 있는 수평 및 수직 방향에 제한이 있을 수 있습니다.',\n",
       " '낮은 높이의 가구를 선택하는 것은 반려동물의 목과 관절을 보호하는 데 도움이 됩니다. 또한, 패브릭 소재의 가구는 세탁이 용이하고 스크래치가 덜 발생하는 등 가죽 소재의 가구에 비해 유리할 수 있습니다. 이외에도 반려동물 전용 침대나 간이 계단, 스크래치 방지 소재로 제작된 가구 등이 있어요.',\n",
       " '몰딩 수정은 벽면과 몰딩 사이에 이격이 있는 것을 의미하며, 몰딩과 부속품의 파손도 포함됩니다. 몰딩 수정이 발생하는 가장 일반적인 원인은 고습도 환경에서 몰딩 소재가 팽창하거나 수축함으로써 변형되는 것입니다. 또한, 몰딩이 햇빛, 습기, 화학물질 또는 다른 외부요인에 노출될 때에도 수정이 발생할 수 있습니다.  몰딩 수정이 발생한 경우, 공간 내 습도 및 환경 조건을 관리하는 것이 중요합니다. 고습도가 문제라면, 제습기를 가동하고 실내 적정 습도를 유지해야 합니다. 또한, 몰딩을 교체하여 내구성이 뛰어난 몰딩 소재로 변경함으로써 수정을 방지할 수 있습니다. 앞으로 몰딩 수정을 방지하기 위해서는 환경 조건을 유의하고, 내구성이 강한 몰딩 소재를 선택하는 것이 필요합니다.',\n",
       " 'KMEW 세라믹 지붕재의 단점 중 하나는 가격이 비싸다는 것입니다. 또 다른 단점으로는 금속 지붕재에 비해 상대적으로 무겁다는 점이 있습니다. 그러나 이러한 단점에도 불구하고, KMEW 세라믹 지붕재는 탁월한 내구성과 아름다운 디자인으로 많은 사람들에게 인기가 있습니다. 세라믹 타일의 단점은 저온으로 구워내기 때문에 온도 변화에 민감하여 내장용으로만 사용되며, 경도가 상대적으로 약해 충격과 마모에 쉽게 영향을 받는다는 것입니다. 이는 세라믹 타일을 주로 실내나 경치 좋은 공간에서 사용하거나, 건물 건축 시 외부에서 적절한 보호를 받을 수 있는 부위에 사용하는 것을 권장하는 이유이기도 합니다.',\n",
       " '줄퍼티 마감은 석고보드의 이음메 부분을 메꾼 후 1차, 2차로 퍼티를 바르고 마감하는 작업을 의미합니다. 이 작업은 올퍼티 마감보다 저렴하고 간단하게 처리할 수 있는데, 이음메 부분의 배부름 현상이 있을 수 있고, 줄퍼티를 한 부분과 하지 않은 부분 사이에는 질감의 차이가 있을 수 있습니다. 이러한 특성으로 인해 주로 가게, 식당, 공장과 같은 상업 시설에 적합하게 사용됩니다. 액체방수공사는 건축물의 콘크리트나 모르타르 표면에 액체 형태의 방수제를 도포하거나 침투시켜 방수 기능을 부여하는 작업으로, 방습능력과 방수 효과를 향상시키는 공법입니다. 또한, 방수제를 혼합한 모르타르를 덧발라 침투를 막는 방식으로도 시공됩니다. 이를 통해 건물 내부가 수분에 의해 손상을 입히는 것을 방지하고 내구성을 높일 수 있습니다.',\n",
       " '페인트 하도재는 페인트가 표면에 잘 미끄러지도록 하거나, 페인트의 내구성 및 방수 효과를 높이기 위해 사용되는 소재입니다. 이것은 페인트와 바탕면 간의 접착력을 향상시키는 역할을 합니다. 또한, 상황에 따라 방청(녹방지) 기능이나 방수 기능이 추가된 제품을 사용하기도 합니다. 페인트를 바로 칠하기보다 하도재를 사용하면 페인트 도막의 내구성을 높여줘서 페인트가 오랫동안 벗겨지지 않고 유지될 수 있습니다.',\n",
       " '바닥재를 처리하는 방법은 일반적으로 지자체에서 지정한 방법에 따라 처리해야 합니다. 대부분의 경우, 남은 바닥재는 지정된 특수 규격 봉투(불연성 폐기물 마대)에 넣어서 배출해야 합니다. 하지만 특수 규격 봉투를 판매하는 곳이 제한적일 수 있으므로 해당 규정에 따라 확인해야 합니다.  만약 바닥재가 5톤 이상이라면, 전문 업체를 통해서 바닥재를 수거해야 합니다. 따라서 바닥재가 남으면 지역의 구청이나 주민센터 등 관련 기관에 사전 문의하여 처리 방법을 확인하는 것이 좋습니다. 지역에 따라 처리 방법이 상이할 수 있으므로 정확한 절차를 따르는 것이 중요합니다. 장판이 남을 경우에는 구청이나 주민센터에서 생활폐기물 스티커를 구매하여 해당 기관이 정한 방법에 따라 배출하셔야 합니다. 장판의 크기에 따라 처리 비용이 다를 수 있으므로 사전에 크기를 확인하는 것이 중요합니다. 장판을 적절히 처리함으로써 환경을 보호하고 법규를 준수할 수 있게 됩니다.',\n",
       " '도배지에 반점이 생기는 원인은 주로 석고보드에 함유된 안료나 염료 등의 구성 물질이 도배지에 전이되어 발생한다고 알려져 있습니다. 이러한 경우, 해결 방법으로는 다음과 같은 방법이 있습니다.  1. 반점 위에 바인더나 수성프라이머를 도포하여 코팅하고 다시 도배 장점: 비교적 간단한 해결 방법으로 바로 수정이 가능합니다. 단점: 재발의 위험이 있을 수 있으며, 코팅에서 발생하는 냄새가 날 수도 있습니다.  2. 반점이 생긴 석고보드를 부분적으로 잘라내고, 석고보드를 보강 후 재작업 장점: 수정이 발생한 위치에서의 재발 위험이 낮고 전체 석고보드 작업하는 것에 비해 시간과 비용이 적게 듭니다. 단점: 수정하지 않은 부분에서 다시 반점이 생길 우려가 있을 수 있습니다.  3. 벽면 전체 석고보드를 잘라내고, 새로운 석고보드를 설치하여 재작업 장점: 가장 근본적인 해결 방법으로 반점이 재발할 가능성이 낮아집니다. 단점: 시간과 비용이 많이 소요되며, 기존의 석고보드를 제거하는 작업이 필요합니다.  위 방법 중 적절한 방법을 선택하여 사용하는 것이 중요하며, 전문가의 조언을 받는 것이 좋습니다.',\n",
       " '새집증후군은 새로 지은 집에 입주했을 때 이전에 없던 이상 증상이 나타나는 증후군으로, 주로 휘발성 화학물질이 원인이 됩니다. 대표적인 물질로는 포름알데히드가 있으며, 이는 주로 방부제나 접착제의 원료로 사용됩니다. 새로 지은 집 내부의 재료나 가구에서 나오는 휘발성 유기 화합물에 노출됨으로써 발생할 수 있습니다.',\n",
       " '방청도료 도장 작업은 일반적으로 좁은 부분을 붓을 사용하고, 큰 부분은 스프레이를 이용합니다. 보통 방청도료는 2~3회에 걸쳐 도장하며, 종류에 따라 완전히 건조된 후에 다음 층을 칠하게 됩니다. 또한, 방청 도료로 도장 작업을 완료한 후에는 페인트를 바를 수 있습니다. 콘크리트에 구멍을 뚫으려면 먼저 안전한 안경과 마스크를 착용해야 합니다. 그리고 코어드릴이나 해머드릴과 같은 강력한 전동 툴을 사용하여 구멍을 뚫어야 합니다. 이떄 사용하는 드릴 비트는 콘크리트를 깰 수 있는 강도를 가진 것으로 선택해야 합니다. 또한 작업 전에 꼭 콘크리트 주변을 깰 수 있는 공간이 있는지 확인하는 것이 중요합니다.',\n",
       " '실내 식물을 가꾸려면 먼저 공기 정화식물, 간편한 관리식물, 그리고 조명과 습도에 맞는 식물을 선택해야 합니다. 예를 들어 습도가 높은 욕실이나 주방에는 아레카야스 같은 공기 정화식물이 적합하며, 햇빛이 잘 드는 창가에는 선인장과 선인장과 같은 간편한 관리식물을 선택할 수 있습니다. 그 외에도 관리 난이도에 따라 식물을 선택해야 합니다. 페인트 도배 소재는 페인트가 표면에 잘 미끄러지도록 하거나, 페인트의 내구성 및 방수 효과를 높이기 위해 사용되는 소재입니다. 이것은 페인트와 바탕면 간의 접착력을 향상시키는 역할을 합니다. 또한, 상황에 따라 방청(녹방지) 기능이나 방수 기능이 추가된 제품을 사용하기도 합니다. 페인트를 바로 칠하기보다 하도재를 사용하면 페인트 도막의 내구성을 높여줘서 페인트가 오랫동안 벗겨지지 않고 유지될 수 있습니다.',\n",
       " '롱브릭타일은 점토벽돌보다 강도가 높고 시공비 측면에서 경제적이라는 점이 주요 장점입니다. 더불어 열전도율이 낮아 에너지 절약효과도 기대할 수 있습니다. 이는 건축 자재로서의 다양한 장점으로 롱브릭타일의 사용성을 높이는데 일조합니다.',\n",
       " '침실을 아늑하게 만들기 위해서는 몇 가지 조치를 취할 수 있습니다. 부드러운 조명과 포근한 이불은 기본이지만, 추가로 나무 가구를 활용하여 자연적이고 온기가 느껴지는 분위기를 조성할 수 있습니다. 또한, 벽에 자연적인 텍스처의 장식품을 붙이거나 식물을 배치하여 공간에 생동감을 불어넣을 수 있습니다. 끝으로, 진흙색, 연한 회색 또는 베이지 등 부드러운 색감을 베이스로 사용하여 차분하고 포근한 분위기를 연출할 수 있습니다. 이러한 조치들을 통해 침실을 아늑하게 꾸밀 수 있습니다.',\n",
       " '컬러매치를 위해서는 대비 컬러와 조화 컬러를 활용하는 것이 중요합니다. 주요 색상과 보조 색상을 조합하여 공간의 분위기를 조절하고, 색상의 밝고 어두운 정도를 고려하여 조화로운 매치를 만들어야 합니다. 또한, 인테리어 스타일과 공간의 크기, 사용목적 등을 고려하여 컬러매치를 결정하는 것이 좋습니다. 예를 들어, 작은 공간에는 밝고 활기찬 컬러를 이용하여 공간을 확장시키는 효과를 내거나, 안정감을 주기 위해 중성적인 컬러를 활용하는 것이 효과적입니다. 또한, 조명의 영향을 고려하여 컬러를 선택하고, 같은 색상 계열을 사용해 조화로운 분위기를 연출할 수 있습니다. 복도나 협소한 공간을 확장시키기 위해서는 몇 가지 간단한 방법을 활용할 수 있습니다. 우선, 큰 거울을 설치하여 공간을 시각적으로 더 넓어 보이도록 하고, 밝은 컬러의 벽지나 페인트를 활용하여 쾌적하고 밝은 분위기를 조성할 수 있습니다. 또한, 슬림한 디자인의 가구를 활용하여 적은 공간을 차지하면서도 기능적인 면에서 충분한 효용성을 뽐낼 수 있습니다. 그 외에도 조명의 설치 위치와 밝기를 조절하여 쾌적한 조명 환경을 조성하는 것도 도움이 될 것입니다.',\n",
       " '그라스울 보온 판은 유리섬유에 폴리우레탄 필름으로 래핑하여 시공이 간편하고 별도의 방습층이 필요하지 않으며, 흡음 성능이 뛰어나다는 장점이 있습니다. 이러한 특징으로 인해 그라스울 보온판은 주로 저주파 음을 감소시키는 데 효과적이고, 전체적으로 소리를 흡수하는 데 도움이 됩니다.',\n",
       " '미네랄울 보온 판은 규산 칼슘계의 광석을 고온으로 용융시켜 만든 순수무기질섬유로, 이중보온 시스템에서 주로 사용되는 보온재입니다. 이 보온판은 근거리열전달을 효과적으로 차단하여 열 흐름을 효율적으로 조절할 수 있는데, 이는 건물의 내부온도를 안정적으로 유지하는 데 도움을 줍니다. 또한, 근거리열전달을 차단하여 건물의 내부와 외부 온도차를 줄이고, 결로와 곰팡이 등의 발생을 줄여주는 역할을 합니다.  그러나 이 제품은 수분을 흡수할 때 열저항이 크게 감소하여 에너지 효율이 크게 떨어지는 단점이 있습니다. 적용부위로는 주로 철근콘크리트 구조이며, 난연성 재료이지만 난연3급에 대한 시험성적서를 제공하지 못해 소방필증을 받을 수 없는 경우가 있습니다. 이는 준불연 시험성능에 만족하는 준불연경질우레탄보드에 비해 가격이 높고, 시공 시 깔끔한 절단을 위해 톱을 사용해야 하므로 절단이 어렵다는 것을 의미합니다.',\n",
       " '일반적으로 도배 후 필름을 시공하는 것은 일반적으로 권장되지 않습니다. 이유는 벽지 위에 붙은 필름의 부착력이 떨어질 수 있기 때문입니다. 미관상의 호불호가 갈리기 때문에 실리콘 마감을 하게 되는데, 필요에 따라 일정을 조절하여 순서를 바꿔서 진행할 수도 있습니다.그러나 일반적인 방법은 도배 후 필름 시공입니다. 집을 목재 펜스틱으로 채우고, 같은 색상의 나무 왁스로 마무리하면 효과적일 것입니다. 또한, 흠집 부분에 목재 접착제를 사용하여 흠집을 메우고 샌드페이퍼로 가볍게 갈아 표면을 매끄럽게 다듬을 수도 있습니다. 추가로 흠집을 가리기 위해 나무 재생제나 선반도료를 사용하는 것도 좋은 방법입니다. 흠집을 목재 펜스틱으로 채우고, 같은 색상의 나무 왁스로 마무리하면 효과적입니다. 또한, 흠집 부분에 목재 접착제를 사용하여 흠집을 메우고 샌드페이퍼로 가볍게 갈아 표면을 매끄럽게 다듬을 수도 있습니다. 추가로 흠집을 가리기 위해 나무 재생제나 선반도료를 사용하는 것도 도움이 될 수 있습니다.',\n",
       " '인테리어에서 사용되는 바닥재 중 목재 바닥은 따뜻한 느낌을 주며, 자연스러운 질감과 색상으로 공간에 풍부한 표현을 제공합니다. 또한, 고급스러운 분위기를 연출할 수 있어 많은 사람들에게 선호되고 있습니다. 반면에, 대리석 바닥은 시원한 느낌을 주고 청결감을 강조할 수 있어 현대적이고 깔끔한 느낌을 연출할 수 있습니다. 선택 시, 공간의 특성과 사용환경에 맞는 바닥재를 고려하시기 바랍니다.',\n",
       " '도배지 표면에 먼지나 연기(담배, 조리과정에서 발생하는 연기 등)가 축적되면 얼룩이 발생할 수 있습니다. 네, 습도가 높으면 곰팡이가 서식하기 쉬운 환경이므로 곰팡이가 발생할 가능성이 높아집니다. 습도 조절이 중요하며, 습기를 흡수하고 공기 중의 습도를 낮추는 제습기 사용이 도움이 될 수 있습니다. 또한, 환기를 통해 실내를 건조하게 유지하는 것도 곰팡이 예방에 효과적입니다. 네, 습도가 높으면 곰팡이가 서식하기 쉬운 환경이므로 곰팡이가 발생할 가능성이 높아집니다. 습도 조절이 중요하며, 습기를 흡수하고 공기 중의 습도를 낮추는 제습기 사용이 도움이 될 수 있습니다. 또한, 환기를 통해 실내를 건조하게 유지하는 것도 곰팡이 예방에 효과적입니다. 네, 습도가 높으면 곰팡이가 서식하기 쉬운 환경이므로 곰팡이가 발생할 가능성이 높아집니다. 습도 조절이 중요하며, 습기를 흡수하고 공기 중의 습도를 낮추는 제습기 사용이 도움이 될 수 있습니다. 또한, 환기를 통해 실내를 건조하게 유지하는 것도 곰팡이 예방에 효과적입니다. 네, 습도가 높으면 곰팡이가 서식하기 쉬운 환경이므로 곰팡이가 발생할 가능성이 높아집니다. 습도 조절이 중요하며, 습기를 흡수하고 공기 중의 습도를 낮추는 제습기 사용이 도움이 될 수 있습니다. 또한, 환기를 통해 실내를 건조하게 유지하는 것도 곰팡이 예방에 효과적입니다.',\n",
       " '방청페인트의 시공방법은 다음과 같습니다. 1. 피도면 정리 2. 방청도료 도장 3. 상도작업 순으로 진행합니다. 배관공사 시 통기구를 설치하는 이유는 주로 두 가지입니다. 첫 번째는 악취를 제거하기 위해서입니다. 통기구는 배수관에서 나는 악취를 외부로 배출하여 실내 환경을 개선시킵니다. 두 번째는 배수도의 원활한 기능을 도와주는 것입니다. 통기구를 통해 공기가 완충되어 배수관에서 발생하는 고압을 완화시켜 스스로 자유롭게 흐를 수 있게 해줍니다. 이를 통해 배수관의 누수나 파열 등을 예방할 수 있습니다.',\n",
       " '유성발수제의 장점은 소재에 물이 침투하는 것을 근본적으로 차단하여 동결, 염에 의한 손상, 화학적 파괴, 생물에 의한 부식 등을 막아준다는 것입니다. 이러한 특성으로 인해 건물의 내구성을 향상시키고 장기적으로 유지보수 비용을 절감하는 효과를 기대할 수 있습니다. 또한, 유성발수제는 건축물뿐만 아니라 도로, 다리, 터널, 지하시설 등 다양한 건설물에 적용될 수 있어 다재다능한 장점을 갖고 있습니다. 규산질계 침투방수공사는 콘크리트 표면에 무기질의 활성 실리카 성분을 포함한 침투성 물질을 도포하여, 콘크리트의 간극이나 공극에 침투시켜 수밀하게 만들어 방수층을 형성하는 작업입니다. 이 방법은 노출된 외부 콘크리트 표면, 노출된 실내 콘크리트 표면, 외부 제물치장 콘크리트 표면, 실내 제물치장 구조물에 적용됩니다. 이를 통해 건물의 내구성과 방수 기능을 향상시키는 효과를 얻을 수 있습니다.',\n",
       " '고습도 환경에서 몰딩 소재가 팽창하거나 수축하여 변형될 수 있습니다. 따라서, 습도가 높은 공간에서 몰딩을 사용할 때는 소재의 특성을 고려하여 적합한 소재를 선택하는 것이 중요합니다. 또한, 몰딩을 시공한 후에도 공간의 습도를 적절히 관리하여 변형을 최소화할 필요가 있습니다. 내부와 외부 온도의 큰 차이로 인해 도배지에 결로가 발생하여 곰팡이가 발생할 수 있습니다. 온도 변화로 인해 도배지가 팽창하고 수축할 때 결로가 생기므로, 실내와 외부의 온도차를 줄이는 것이 중요합니다. 추가로, 제습기를 사용하여 실내의 적정 습도를 유지하고 공간을 환기시키는 것이 도움이 될 수 있습니다. 만약 곰팡이 발생이 지속된다면, 전문가의 도움을 받아야 합니다.',\n",
       " '활기찬 주방을 꾸미기 위해 가장 먼저 고려해볼 요소는 밝은 컬러 스키마, 식물, 그리고 개방형 수납입니다. 밝은 컬러는 공간을 시원하고 활기차게 만들어 주고, 느낌을 환하게 전달할 수 있습니다. 또한, 식물을 추가하여 자연의 느낌을 더해보세요. 마지막으로, 개방형 수납은 주방을 깔끔하고 활기차게 보이게 만들어줄 것입니다.',\n",
       " '초배지를 벽면에 붙인 후에는 벽면에 페인트를 칠하는 것이 좋은 방법일까요? 건형 유성 발수제로는 유성계 발수제가 주로 사용되며, 유성계 발수제는 유성계 화합물로 제작된 무독성, 무취의 발수제를 말합니다. 이러한 유성계 화합물은 보통 용융형 발수제와는 다르게 도장 후 용제가 증발되면서 발수 효과를 발휘하는 제품으로, 특히 수성 도료와 함께 사용할 때 우수한 발수 성능을 발휘하는 특징을 가지고 있습니다. 이러한 발수제는 건축물의 외벽 또는 콘크리트 표면과 같은 다양한 재료에 사용될 수 있으며, 우수한 방수 특성을 보유하고 있습니다. 속건형 유성 발수제로는 주로 유성계 발수제가 사용되며, 이는 유성계 화합물로 이루어진 도장 후 용제가 증발되면서 발수효과를 발휘하는 제품입니다. 이 제품은 흔히 자동차나 창고 등에서 사용되며, 표면에 발라지면 용제가 증발하여 수분이 잘 떨어지는 효과를 내어 물을 효과적으로 방지하는 역할을 합니다. 그러므로 특히 수분에 노출되는 환경에서 사용하기에 적합한 발수제로 폭넓게 활용되고 있습니다.',\n",
       " '벽지의 얼룩을 지우는 방법은 식빵에 치약이나 주방세제를 조금 뭍혀 얼룩진 부위를 문지르고, 물기를 꽉 짠 물걸레로 닦아낸 후 건조시키면 됩니다. 얼룩이 잘 지워지지 않는다면, 따뜻한 물에 베이킹소다를 섞어 반죽을 만들어 활용하는 것이 도움이 될 수 있습니다.',\n",
       " '석구조는 주로 석재로 쌓아 만든 건축물 구조를 가리킵니다. 이러한 구조는 주로 궁전, 불사, 탑비 등의 고건물에서 볼 수 있습니다. 하지만 석구조는 풍압력, 지진력, 그리고 기타 인위적인 횡력에 대해 극히 취약하기 때문에 고층 건물에는 부적합합니다. 따라서 고층 건물을 건설할 경우에는 보강구조로 설계해야 합니다. 기둥-보 구조 방식은 건물을 지탱하는 구조물을 기둥(천정을 받치는 세로 구조물)과 보(지지하는 수평 구조물)의 결합을 통해 구현하는 건축 방식입니다. 이 방식은 주로 상업 건물이나 대규모 주택 등에서 사용되며, 과거에는 통나무 구조에서 파생되었지만 현재는 전형적인 플랫폼 구조와 결합하여 사용되기도 합니다.',\n",
       " '원목마루의 단점은 주로 비용 측면에서 언급됩니다. 원목마루는 다른 바닥재에 비해 비용이 비싸며, 특히 실내 습기나 온습도 변화에 쉽게 영향을 받기 때문에 유지 보수 비용도 높을 수 있습니다. 또한, 원목은 특히 습기에 민감하기 때문에 습기에 노출될 경우 변형이나 손상의 우려가 있습니다. 따라서 실내 환경이나 예산 등을 고려할 때 원목마루를 선택할 때 고려해야 하는 단점들입니다. 배지를 처리하는 방법 중 하나는 폐기물 스티커를 부착하는 것입니다. 이러한 스티커는 일반적으로 동사무소, 편의점, 슈퍼마켓 등에서 구매할 수 있습니다. 또한, 아파트의 경우에는 경비실에 비치되어 있을 수 있으니 관련 정보를 문의하시는 것이 좋습니다. 도배지를 적절히 처리하여 환경을 보호하는 데 도움이 되는 것을 잊지 마십시오. 도배지를 처리하는 방법 중 하나는 폐기물 스티커를 부착하는 것입니다. 폐기물 스티커는 동사무소, 편의점, 일반 슈퍼 등에서 구매할 수 있습니다. 또한, 아파트의 경우에는 경비실에 비치되어 있는 경우가 있으니 해당 시설의 담당자나 관리사무실에 문의하여 얻을 수도 있습니다.',\n",
       " '마감재의 하자 여부를 판단하기 위해서는 몇 가지 요소를 고려해야 합니다. 먼저 설계도서와의 일치 여부를 확인해야 하고, 마감재의 기능상 문제 유무를 점검해야 합니다. 또한, 마감재의 미관상 문제나 안전상의 문제도 주의 깊게 살펴야 합니다. 결국 마감재의 하자 여부를 판단하기 위해서는 다양한 요소를 종합적으로 고려해야 합니다. 새집증후군을 예방하는 방법은 목재 가구를 선택할 때에는 포르말린과 같은 유해 물질을 사용하지 않은 제품을 선택하고, 휘발성 유기 화합물이 함유된 방향제를 피하는 것이 중요합니다. 또한 적절한 공기 청정 식물을 실내에 배치하고, 자주 환기를 시켜 공기 중의 유해 물질을 줄이는 것이 좋습니다. 또한, 실내 흡연을 금지하여 쾌적한 실내 환경을 유지하는 것도 중요한 예방 방법 중 하나입니다.',\n",
       " '강마루는 표면 내구성이 좋고 디자인이 다양하며 유지 관리가 쉽고 열전도율이 높아 난방효과가 좋으며 소음 발생이 적다는 장점이 있습니다.',\n",
       " '새집증후군을 해결하기 위해서는 천연 소재를 사용한 가구를 선택하고, 새집에 입주하기 전에 실내 난방을 30도 이상으로 8시간 정도 유지하여 휘발성 유기물질을 제거하는 것이 좋습니다. 또한, 창문을 열어 자연 환기를 유도하는 것도 도움이 됩니다. 추가로, 실내 식물을 통해 공기 중의 유해물질을 흡수하는 데에 도움이 되므로, 생활 속에서 자연스러운 방법으로 공기를 정화하는 것도 좋은 선택입니다.',\n",
       " '도배 후 바닥이나 몰딩, 벽지에 붙은 도배풀을 제거하려면 걸레로 살살 닦아내야 하며, 지워지지 않을 시 도배풀 제거제를 사용하여 깨끗하게 제거할 수 있습니다. 또한, 도배풀을 완전히 제거한 후 청소 잔해물을 제거하고 나서 다음 단계로 넘어가야 합니다. 옥상 방수용 탄성 에멀전 페인트의 장점은 건조 후 이음매 없이 연속적으로 형성된 도막이 뛰어난 내수성을 갖으며, 건물의 충격이나 수축과 팽창에도 도막이 갈라지거나 손상되는 것을 방지하도록 탄성과 인장강도를 보유합니다. 또한, 장기간의 옥외폭로 조건에서도 소지 부착성과 내구성을 보유하여 침수가 반복되는 환경에서도 우수한 성능을 발휘합니다.',\n",
       " '통나무구조 방식은 내력벽이 원형 또는 각형의 통나무로 구성되고, 나머지 바닥이나 지붕 구조는 2x4 경량 목구조와 유사한 방식으로 짓는 구조입니다. 이러한 구조는 내력벽이 통나무 쌓음으로 이루어지기 때문에 1층 높이에서 7~12cm의 침하가 장기적으로 발생할 수 있습니다. 따라서 창문틀 등의 개구부는 침하를 고려한 디테일을 고려하여 설계해야 합니다.',\n",
       " 'MSDS(Material Safety Data Sheet)는 물질안전보건자료로, 화학물질의 잠재적 위험에 대한 정보와 안전한 취급, 보관, 폐기에 대한 지침을 포함하는 문서입니다. 작업장 내 화학물질에 대한 유해한 노출로부터 근로자를 보호하기 위해 산업안전보건공단, 환경공단, 미국 OSHA(산업안전보건국)와 같은 규제 기관에서 요구합니다. MSDS는 화학물질의 유해성, 위험성, 응급조치 요령, 취급 방법 등을 설명하며, 사업주는 MSDS를 통해 취급하는 화학물질에 대한 정보를 얻어 관리하며, 근로자는 직업병이나 재해사고로부터 자신을 예방할 수 있습니다. 제조사는 산업안전보건법에 따라 MSDS를 작성하여야 하며, 각 국가마다 MSDS 양식은 다르지만, 최근에는 전세계가 동일한 양식과 체계의 MSDS를 사용하고 있습니다.',\n",
       " '색상 선택은 인테리어 디자인의 중요한 부분 중 하나입니다. 공간의 크기와 형태, 조명의 밝기, 그리고 주변 환경과의 조화를 고려해야 합니다. 또한, 선택한 색상이 주는 감정적 영향과 개인의 취향도 함께 고려해야 합니다. 예를 들어, 밝고 경쾌한 분위기를 원한다면 화이트, 옐로우, 라임 그린과 같은 밝은 톤의 색상을 선택하는 것이 좋습니다. 반면에 진중하고 안정적인 분위기를 원한다면 블루, 그린, 그레이와 같은 쿨 톤의 색상을 고려할 수 있습니다. 따라서, 색상 선택은 공간의 특성과 주변 환경뿐만 아니라 개인적인 기호와 사용 목적에 맞춰 다양한 측면을 고려하여 결정해야 합니다.',\n",
       " '라돈은 밀봉된 병에 채취되며, 공동주택의 경우 공동주택의 최저층에 위치한 세대에서 측정됩니다. 공동주택의 총 세대수가 100세대일 때는 3세대를 측정하고, 이후 100세대가 증가할 때마다 1세대를 추가로 측정하며, 최대 12세대까지 시료를 채취합니다. 이렇게 함으로써 해당 주택의 라돈 농도를 측정하고 저감 조치를 취할 수 있게 됩니다. MSDS(Materual Safety Catalog)는 물질안전보건자료로, 화학 물질의 잠재적 위험에 대한 정보와 안전한 취급, 보관 및 폐기에 대한 지침을 담은 문서입니다. 이는 산업안전보건공단, 환경공단, 미국의 OSHA(산업안전보건국)과 같은 규제 기관에서 요구하는데, 작업장 내 화학물질에 대한 유해한 노출에서 근로자를 보호하기 위한 목적으로 사용됩니다. MSDS는 화학물질의 유해성, 위험성, 응급조치 요령, 취급 방법 등을 설명하며, 제조사는 산업안전보건법에 따라 반드시 작성하여야 합니다. 각 국가마다 MSDS 양식이 다를 수 있으나, 현재는 대부분의 국가가 동일한 양식과 체계의 MSDS를 사용하고 있습니다. 이를 통해 사업주는 화학물질에 대한 정보를 관리하고, 근로자는 직업병이나 재해사고로부터 예방할 수 있도록 도움을 받게 됩니다.',\n",
       " '새집증후군을 예방하기 위해서는 천연 소재를 사용하고 포름알데히드 처리를 하지 않은 자재를 사용해야 합니다. 뿐만 아니라, 신규 주택으로 이사하기 전에는 실내 난방 온도를 30도 이상으로 8시간 정도 유지하여 휘발성 유기물질을 제거하는 것이 좋습니다. 또한, 창문을 열어 자연 환기를 유도하는 것도 도움이 됩니다. 추가로, 실내 식물을 통해 공기 중의 유해물질을 흡수하는 데에 도움이 되므로, 생활 속에서 자연스러운 방법으로 공기를 정화하는 것도 좋은 선택입니다. 화기에는 ABC 소화기, 분말 소화기, 이산화탄소 소화기 등이 있습니다. 이외에도 물 소화기, 거품 소화기, 블루젤 소화기, 화학방지복용 소화기 등 다양한 종류가 있으며, 화재의 종류와 용도에 따라 적합한 소화기를 선택해야 합니다. 소화기 종류는 ABC 소화기, 분말 소화기, 이산화탄소 소화기가 있습니다.',\n",
       " '질석벽지는 운모계 광석을 가열하여 나온 결정 조각을 종이 위에 뿌려 접착하여 만든 벽지입니다. 질감이 풍부하여 아트월, 현관 입구 등에 많이 사용되며, 단열과 결로방지 기능이 뛰어나고 고급스러운 질감이 특징입니다. 다만, 가격이 비싸고 시공 및 유지보수가 어려운 단점이 있습니다.',\n",
       " '도배지 꼬임 하자란 도배지에 꽈배기 형태의 주름이 생기는 것을 의미합니다. 석고보드가 이동하면서 꼬임이 발생하거나, 도배지가 팽창하거나 수축함으로써 꼬임이 생길 수 있습니다. 이러한 상황은 건물 내부의 습도, 내외부 온도차, 또는 벽면의 불균형 등이 원인일 수 있습니다. 습도가 높으면 도배지의 접착력이 감소하여 꼬임이 더 자주 발생할 수 있습니다. 따라서 제습기를 가동하고 실내 환기를 통해 적정 습도를 유지하는 것이 중요합니다. 또한, 전문가의 도움을 받아 보수 작업을 진행하는 것이 좋습니다. 건조시간이 충분하다면 도배 후 완전 건조되기 전까지 꼬임이 발생할 수 있습니다. 일반적으로 제조사 권장 건조시간은 일주일입니다. 따라서, 건조기간 동안에는 온도와 습도에 유의해야 합니다. 만약 일주일이 지난 후에도 꼬임이 지속된다면 전문가의 도움을 받아 부분 또는 전체 재작업을 하는 것이 좋습니다.',\n",
       " '폴리에스터 흡음 단열재는 폴리에스테르 섬유를 적층하여 열 융착한 단열재로, 일반형, 가공형, 타일형 등의 가공방법에 따라 다양한 형태로 제공됩니다. 이 제품은 환경표지인증(한국환경산업기술원), 친환경건축자재(한국공기청정협회), 우수재활용제품(GR인증) 등의 인증을 받았습니다. 또한, 물을 흡수할 때의 결합력과 인장강도가 뛰어나 배수가 효과적이며, 뭉침(떡짐) 현상이 발생하지 않습니다. 또한, 자체 수분율이 매우 낮고 빠르게 건조되는 특징을 가지고 있어 형태가 지속 유지되어 열전도율과 흡음 특성 등이 변하지 않습니다. 더불어, 대기오염에 의한 풍화가 적고 재활용 및 소각이 용이하며, 난연 / 방염 특성을 가지고 있습니다.  하지만 이 제품의 단점으로는 폴리에스테르 재질의 특성상 부착면 상태가 불량하면 오염 현상이 발생할 수 있으며, 표면 초기 상태는 양호하지만 박리(하나의 재료가 다른 재료와의 경계면에서 떨어져 나감)시 복원이 불가능하다는 점입니다. 따라서 이 제품은 주로 철근콘크리트 구조에 적용되며, 적합한 부착면을 유지하고 관리하는 것이 중요합니다.',\n",
       " '도배 후 도배지가 완전히 건조되기까지는 일반적으로 최소 3일에서 최대 일주일이 걸립니다. 건조 시간은 환경의 습도와 온도, 사용된 재료 등에 따라 다를 수 있기 때문에, 제조사의 권장사항을 따르는 것이 중요합니다. 최종적으로 건조 시간은 완전한 단단함과 안정성을 확보하기 위해 충분한 시간이 소요되므로 너무 서둘지 않는 것이 좋습니다.',\n",
       " '높은 습도로 인해 도배지의 패턴이 이어지지 않을 수 있습니다. 습도가 높으면 도배 풀의 접착력이 감소하여 도배지가 벽면에 제대로 부착되지 않을 수 있습니다. 따라서 습도 관리가 중요하며, 제습기를 가동하고 환기를 통해 적정한 습도를 유지하는 것이 도배작업의 품질을 높이는 데 도움이 됩니다.',\n",
       " '도배지가 찢어진 하자를 터짐 하자라고 합니다. 터짐 하자가 발생하는 원인과 책임소재, 그리고 해결방법에 대해 설명드리겠습니다.  1. 기존 실크 벽지 불완전 제거    - 원인: 기존 실크 벽지를 제대로 제거하지 않은 경우 터짐 하자가 발생할 수 있습니다.    - 책임소재: 시공자    - 해결 방법: 시공사에 연락하여 재시공을 요청할 수 있습니다.  2. 절단 부위 과소    - 원인: 도배지 절단 부위가 구조물에 비해 과소하게 절단돼 장력을 이기지 못하고 찢어질 수 있습니다.    - 책임소재: 시공자    - 해결 방법: 시공사에 연락하여 재시공을 요청할 수 있습니다.  3. 불량 도배지    - 원인: 도배지가 불량일 경우 내구성이 약해 찢어질 수 있습니다.    - 책임소재: 제조사    - 해결 방법: 불량 도배지를 제거하고 교체하는 것을 권장합니다. 페인트를 만들기 위해 필요한 방법은 다음과 같습니다. 1. 페인트를 만들기 위해 필요한 공간의 크기와 목적에 맞는 페인트 2. 액자 속의 페인트 3. 벽면을 준비하고 복원하기 위한 스패틀링 도구와 코너래퍼 2. 벽지를 선택해야 합니다. 벽지를 선택할 때는 공간의 크기와 목적에 맞는 페인트 종류를 선택하는 것이 중요합니다. 예를 들어, 액자의 중심이 눈 높이에 맞도록 하는 것이 좋습니다. 2. 액자를 선택할 때는 벽의 색상과 조화를 이루도록 하는 것이 좋습니다. 예를 들어, 액자의 중심이 눈 높이에 맞도록 하는 것이 좋습니다. 3. 액자를 선택할 때는 벽의 색상과 조화를 이루도록 하는 것이 좋습니다.',\n",
       " '면진장치는 건물의 지반으로부터 오는 진동 에너지를 흡수하여 건물에 전달되는 진동을 최소화해 주는 진동 격리장치입니다. 이를 통해 건물 내부의 진동을 줄이고 안정성을 유지하는 데 도움을 줍니다.',\n",
       " '페인트 상도재는 최종 마감으로 칠하는 페인트로, 영어로는 Top Coating이라고 합니다. 상도재는 하도재와 주도재의 제품을 보호하는 역할을 담당하며, 외부 표면에 노출될 때의 열 및 기후에 강하며 내구성이 높은 특징을 가지고 있습니다. 이러한 장점 때문에 가격이 다소 비쌉니다. 강화마루의 장점은 비교적 저렴한 시공 비용과 강화된 내구성을 가지고 있다는 것입니다. 이러한 특성으로 인해 강화마루는 충격이나 흠집에도 강하며, 쉽게 시공 및 유지보수할 수 있습니다. 또한, 강화마루는 접착 시공을 하지 않아 친환경적이라는 장점도 있습니다.',\n",
       " '경질우레탄 폼의 장점은 주로 단열 성능이 우수하며, 시공이 쉽고 가격이 비교적 저렴하다는 점입니다. 이로 인해 경질우레탄 폼은 건물의 내부 온도를 안정적으로 유지하는 데 도움이 되며, 온도 변화에 따른 결로와 곰팡이 등의 하자 발생을 예방할 수 있습니다.',\n",
       " '상도작업은 건조된 방청도료 위에 원하는 컬러의 에나멜이나 조합페인트를 바르는 작업입니다. 이를 통해 바닥이나 벽면에 보다 세련된 마무리 효과를 낼 수 있습니다. 일반적으로 옅은 색과 세로 패턴의 벽지를 사용하면 공간이 넓어보이게 연출됩니다. 또한, 커튼을 최대한 천장에 가까이 걸어 길게 만들면 창문이 확장된 느낌을 줄 수 있습니다. 이에 더해 작고 얇은 가구보다는 높고 슬림한 가구를 사용하는 것도 도움이 될 수 있습니다. 마지막으로는 거울을 사용하여 빛을 반사하고 공간을 확장하는 효과를 낼 수 있습니다.',\n",
       " '도배지 울음이란 도배지가 평평하지 않고 국소적으로 볼록하게 튀어나오는 현상을 말합니다. 이런 경우 일반적으로는 도배가 완전히 건조되기 전까지 발생하는 것으로, 건조가 완료된 후에도 이 현상이 계속된다면 시공사에게 연락하여 상태를 진단하고 조치를 취해야 합니다.',\n",
       " '사무실의 실내공기 측정을 위해서는 공기질이 가장 나쁠 것으로 예상되는 2곳 이상에서 시료를 채취해야 합니다. 이때, 측정은 사무실 바닥면으로부터 0.9미터 이상 1.5미터 이하의 높이에서 진행되어야 합니다. 만일 사무실 면적이 500제곱미터를 초과하는 경우에는 500제곱미터마다 1곳씩 추가적으로 측정지점을 설정해야 합니다. 이렇게 함으로써 측정 시료를 평균화시켜서 정확한 결과를 얻을 수 있습니다. 아파트 도배평수는 일반적으로 분양 평수의 2.5배로 계산합니다. 이는 일반적인 규모의 아파트 도배 작업에 적용되는 규칙적인 계산 방식입니다. 도배 작업을 위한 재료 및 공사비 등을 산정할 때 유용하게 사용될 수 있습니다.',\n",
       " '높은 습도로 인해 도배지의 표면이 젖으면, 다양한 물질이 흡수되기 쉽습니다. 이는 도배지에 얼룩 형태로 나타날 수 있는데, 일반적으로 물, 오염물질, 또는 곰팡이와 같은 성장 요인들이 원인이 될 수 있습니다. 따라서 공간의 습도를 적정 수준으로 유지하고, 필요에 따라 제습기나 환풍기를 이용하여 습도를 조절하는 것이 중요합니다. 또한 공간 내 습기 관리를 위해 적절한 환기와 건조가 필요하며, 공간 내 곰팡이가 발견된다면 즉시 제거하는 것이 좋습니다. 석고수정은 건물의 구조적 결함으로 인해 발생할 수 있습니다. 건물 구조적 결함은 건물의 설계 또는 시공 단계에서 발생한 결함으로, 예를 들어 지지체의 불균형, 부재의 미반영 등이 해당됩니다. 이러한 결함으로 인해 석고수정이 발생할 수 있으며, 이에 대한 보수 및 개선 작업이 필요합니다.',\n",
       " '대리석 타일은 대리석으로 만들어진 타일로, 가격은 평당 40~50만원으로 비싼 편에 속합니다. 대리석은 열전도율이 높아 난방비를 절감할 수 있는 장점이 있으며 깔끔하고 고급스러운 분위기를 연출해 실제보다 공간이 넓게 보이는 효과를 줄 수 있습니다. 하지만 시공 난이도가 높은 편이며 고가의 재료로 인해 비용적인 측면에서 단점으로 언급될 수 있습니다.',\n",
       " '외단열 시공은 건물 내부의 온도 변화를 외부의 기후 환경에 좀 더 견고하게 맞출 수 있어요. 이로써 냉난방비를 절감할 수 있으며 결로와 곰팡이 등의 하자 발생도 줄일 수 있는데요. 이것은 건물 내부의 쾌적한 환경을 유지시키는 데 도움을 준답니다.',\n",
       " '스탠드 조명은 이동이 가능한 조명으로, 필요에 따라 자유롭게 위치를 변경할 수 있는 휴대용 조명입니다. 주로 실내 공간에서 사용되며, 조명 기능 뿐만 아니라 소품으로서의 역할 또한 함께 합니다. 다양한 디자인으로 제공되며, 이동성이 좋은 것이 장점이지만 작은 공간에는 부적합하며, 불안정하게 설치할 경우 파손될 수 있는 단점도 있습니다.',\n",
       " '실크벽지에서 얼룩을 지우는 방법은 먼저 부드러운 천에 따뜻한 물을 조금 묻힌 후 얼룩을 가볍게 닦아보세요. 만약 얼룩이 지워지지 않는다면 중성세제나 알코올을 이용하여 얼룩을 제거할 수 있습니다. 하지만, 얼룩이 더욱 심각한 경우 실크벽지를 교체하거나 전문가의 도움을 받는 것이 좋습니다. 왜냐하면 실크벽지는 민감한 소재이기 때문에 무리하게 처리할 경우 손상을 입을 수 있기 때문입니다. 시공자가 부실 설치를 했거나 질못된 공구 및 재료를 사용할 경우면 불량이 발생할 수 있습니다.',\n",
       " '차음재는 일반적으로 단일재와 이중벽 두 가지 종류가 있습니다. 단일재는 단일 재질을 사용하여 소음을 흡수하는 역할을 합니다. 반면, 이중벽은 중간에 공기층이 있어서 소음을 흡수하고 반사시키는 효과를 가지고 있습니다. 또한, 이중벽은 외부 소음의 흡수와 내부 소음의 방지를 위해 설치되는 것이 일반적입니다.',\n",
       " '라돈을 제외한 공동주택의 실내공기질 측정시료는 실내공기질공정시험기준에 의하여 100세대일 때 3개 세대(저층부,  중층부, 고층부)룰 기본으로 하며 100세대가 증가할 때마다 1세대씩 추가하며 최대 20세대까지 시료를 채취하며 이때 중층부, 저층부, 고층부 순으로 증가합니다. 마감재의 하자를 가리는 방법은 주로 설계도서와의 일치 여부를 확인하는 것입니다. 또한, 마감재의 기능상 문제를 확인하기 위해서는 전문가의 조언을 구하는 것이 좋습니다.',\n",
       " '실크벽지의 얼룩을 지우기 위해서는 주방세제를 물과 함께 걸레에 묻혀서 부드럽게 닦아내야 합니다. 하지만 이 방법으로도 얼룩이 사라지지 않는다면 전문 가구 청소제를 이용하여 신중하게 시도해 볼 수 있습니다. 만일 모든 방법이 실패한다면 오염된 부분을 교체해야 할 수도 있습니다.',\n",
       " '페인트 처리방법은 남은 페인트의 양에 따라 다릅니다. 작은 양의 경우, 신문 또는 헌 옷에 적셔서 종량제 봉투에 버리는 것이 가능합니다. 6ml 이상 100kg 미만의 양은 폐기물 수탁업체를 통해 처리해야 하고, 100kg 이상일 경우 구청 환경과에 신고해야 합니다. 이때 필요한 서류는 폐기물 처리계획서, 폐기물 분석 결과서, 폐기물 수탁 확인서 각 1통입니다.',\n",
       " '건설은 주로 건물이나 다른 시설물을 설계하고 건축하거나 고쳐 짓는 일련의 프로세스를 의미합니다. 주로 건축과 토목을 포함하며, 건물을 짓는 것부터 인프라구조물을 만드는 작업 등을 모두 포함합니다. 목은 목재, 철재, 토석 등을 활용하여 도로, 교량, 항만, 제방, 철도, 건물, 상하수도 등을 건설하는 분야를 가리킵니다. 이 분야는 여러 재료와 기술을 활용하여 기반구조물을 설계하고 건설하는 것을 포함하며, 인프라 및 건설 시설물의 안전과 효율성을 담보합니다. 토목은 목재, 철재, 토석 등을 활용하여 도로, 교량, 항만, 제방, 철도, 건물, 상하수도 등을 건설하는 공사를 의미합니다. 이와 같은 공사를 수행하는 전문가들을 토목기술자라고 하며, 토목은 인프라를 구축하고 유지하는 데 중요한 역할을 합니다. 토목 기술은 안전하고 효율적인 건설을 위해 세밀한 계획과 전문적인 기술이 필요합니다. 또한, 환경 보호 및 지속가능한 발전을 고려하여 현대적이고 친환경적인 건설을 지향하고 있습니다.',\n",
       " '제진구조란 지진이 발생했을 때 건물에 작용하는 지진 에너지를 줄이기 위한 구조물이나 시스템을 말합니다. 이는 건물의 안전성을 높이고 피해를 최소화하는 것을 목표로 합니다. 따라서 건축물의 지진 영향을 줄이기 위해 다양한 방법이 적용되며, 지진 차단, 지진 저감, 그리고 지진 흡수 등 여러 기술이 활용됩니다. 중목구조는 건물의 지탱을 하기 위해 건축물의 틀과 지지대로 사용되는 양식을 말합니다. 이 구조 방식은 기본적으로 기중-보 방식과 유사하지만, 구조용 목재로 큰 각재를 사용하여 건축하는 것이 특징입니다. 중목구조는 건물 전체에 일정한 하중을 전달하면서 내구성과 안정성을 확보하는 데에 사용됩니다.',\n",
       " '작은 공간을 넓어 보이게 만드는 방법은 다양한데요.  가장 기본적인 방법은 밝은 컬러를 활용하는 것입니다. 밝은 톤의 컬러는 공간을 확장시키고, 밝은 분위기를 연출해줍니다. 또한, 거울을 활용하여 공간을 확장시킬 수 있습니다. 거울은 반사 효과로 공간을 확장시켜주는데, 큰 거울을 사용하면 더욱 효과적입니다. 또한, 수평적인 패턴을 선택하여 공간을 더 넓어 보이게 만들 수 있습니다. 수평적 패턴은 공간을 넓어 보이게 만들어줄 뿐만 아니라, 안정감을 줄 수 있습니다.',\n",
       " '알루미늄징크의 단점은 시공이 잘못될 경우 울음 현상이 발생하고 리얼징크보다 가격이 좀 더 비싼 것입니다. 또한, 알루미늄징크는 산화되기 쉬운 성질을 가지고 있어서 표면에 적용된 도료가 빨리 떨어질 수 있는 것이 단점으로 언급됩니다. 아이소핑크는 단열재 중에서 열전도율이 가장 낮아 에너지 절약 효과가 크며, 습기에 강하고 곰팡이 및 세균 증식을 막아주는 특징이 있습니다. 또한 시공이 간편하여 공사 기간과 비용을 절약할 수 있는 장점이 있습니다.',\n",
       " '겨울철 도배 작업 시에는 온도가 10도 이상 유지되는 것이 가장 이상적입니다. 온도가 너무 낮으면 도배 제품의 접착력이 부족해지고, 건조 시간이 오래 걸릴 수 있으므로 작업 환경을 안정화시키고 적절한 난방을 유지하는 것이 중요합니다.따라서 도배 작업 전 온도를 체크하고, 필요 시 추가적인 난방기구를 사용하여 작업 환경을 최적화하는 것을 권장합니다.',\n",
       " '철골구조는 화재 발생 시 내구성이 약해지며, 이는 건물의 붕괴로 이어질 수 있습니다. 이러한 문제를 해결하기 위한 방법 중 하나는 내화성 구조물을 사용하는 것입니다. 예를 들어, 벽돌, 콘크리트 또는 석고보드와 같은 내화성 자재로 철골을 둘러싸 화재에 의한 파손을 최소화할 수 있습니다. 또한 화재감지 및 화재진압 장치를 설치하여 화재가 발생했을 때의 초기 대응에 대비하는 것도 중요합니다. 더 나아가 철골재의 피해를 최소화하기 위해 화재 대피 및 구조에 대한 교육, 규제 및 점검 프로토콜을 강화하는 것이 필요합니다. 벽돌구조는 건물의 벽체 및 기초 등으로 벽돌과 모르타르로 쌓아 만드는 것으로 조적식 구조의 기본입니다. 벽돌구조법은 실용상, 미관상으로 블록, 석재, 타일 등을 섞어 쓰기도 하고 담장, 굴뚝, 기타 여러가지 구조물을 축조하는데 이용합니다.',\n",
       " '석구조는 주로 석재로 쌓아 만든 건축물 구조를 가리킵니다. 이러한 구조는 주로 궁전, 불사, 탑비 등의 고건물에서 볼 수 있습니다. 하지만 석구조는 풍압력, 지진력, 그리고 기타 인위적인 횡력에 대해 극히 취약하기 때문에 고층 건물에는 부적합합니다. 따라서 고층 건물을 건설할 경우에는 보강구조로 설계해야 합니다. 기둥-보 구조 방식은 건물을 지탱하는 구조물을 기둥(천정을 받치는 세로 구조물)과 보(지지하는 수평 구조물)의 결합을 통해 구현하는 건축 방식입니다. 이 방식은 주로 상업 건물이나 대규모 주택 등에서 사용되며, 과거에는 통나무 구조에서 파생되었지만 현재는 전형적인 플랫폼 구조와 결합하여 사용되기도 합니다.',\n",
       " '포세린 타일은 시공 방법에 따라 하자 발생률이 높고 오염에 취약하다는 단점이 있습니다. 또한, 표면이 미끄러울 수 있어서 바닥재로 사용할 때 환경에 따라 미끄러질 우려가 있을 수 있습니다. 셀룰로오스의 단점 중 하나는 정밀한 시공 능력이 요구된다는 점입니다. 시공과정에서 정확한 조절이 필요하며 전문적인 기술과 경험이 필요하기 때문에 이 부분을 고려해야 합니다. 셀룰로오스의 단점 중 하나는 정밀한 시공 능력이 요구된다는 점입니다. 시공과정에서 정확한 조절이 필요하며 전문적인 기술과 경험이 필요하기 때문에 이 부분을 고려해야 합니다. 셀룰로오스의 단점 중 하나는 정밀한 시공 능력이 요구된다는 점입니다. 시공과정에서 정확한 조절이 필요하며 전문적인 기술과 경험이 필요하기 때문에 이 부분을 고려해야 합니다. 셀룰로오스의 단점 중 하나는 정밀한 시공 능력이 요구된다는 점입니다. 시공과정에서 정확한 조절이 필요하며 전문적인 기술과 경험이 필요하기 때문에 이 부분을 고려해야 합니다.',\n",
       " '욕실을 부드럽게 꾸미려면 다양한 방법을 활용할 수 있습니다. 연한 파스텔 컬러와 부드러운 조명을 선택하여 조용하고 편안한 분위기를 조성할 수 있습니다. 또한, 자연적인 소재로 만들어진 욕실 가구 및 소품을 활용하여 부드러운 느낌을 강조할 수 있습니다. 플랜트나 천연 나무 소재의 가구, 식물이 들어간 장식품 등을 활용하면 욕실 인테리어를 부드럽게 꾸밀 수 있습니다. 부드러운 터치의 수건과 거실과 연결된 욕실 또는 욕실과 통일된 컬러로 통일감을 주는 것도 좋은 방법입니다. 반려동물을 위한 바닥재로는 미끄럼 방지 기능이 있는 바닥재가 적합합니다. 반려동물은 활발하게 움직이는 습성이 있기 때문에 미끄러지면 다칠 우려가 있을 뿐만 아니라 다리 관절에도 부담이 될 수 있습니다. 만약 바닥재를 교체하는 것이 어려운 상황이라면 카펫이나 러그를 깔아두는 것도 좋은 대안이 될 수 있습니다. 반려동물을 위한 바닥재로는 미끄럼 방지 기능이 있는 바닥재가 적합합니다. 반려동물은 활발하게 움직이는 습성이 있기 때문에 미끄러지면 다칠 우려가 있을 뿐만 아니라 다리 관절에도 부담이 될 수 있습니다. 만약 바닥재를 교체하는 것이 어려운 상황이라면 카펫이나 러그를 깔아두는 것도 좋은 대안이 될 수 있습니다. 반려동물을 위한 바닥재로는 미끄럼 방지 기능이 있는 바닥재가 적합합니다. 반려동물은 활발하게 움직이는 습성이 있기 때문에 미끄러지면 다칠 우려가 있을 뿐만 아니라 다리 관절에도 부담이 될 수 있습니다. 만약 바닥재를 교체하는 것이 어려운 상황이라면 카펫이나 러그를 깔아두는 것도 좋은 대안이 될 수 있습니다. 반려동물을 위한 바닥재로는 미끄럼 방지 기능이 있는 바닥재가 적합합니다. 반려동물은 활발하게 움직이는 습성이 있기 때문에 미끄러지면 다칠 우려가 있을 뿐만 아니라 다리 관절에도 부담이 될 수 있습니다. 만약 바닥재를 교체하는 것이 어려운 상황이라면 카펫이나 러그를 깔아두는 것도 좋은 대안이 될 수 있습니다.',\n",
       " '팬던트 라이트는 천장에 길게 늘어뜨린 전선을 통해 조명을 설치하는 조명 스타일을 의미합니다. 이러한 조명은 다양한 디자인과 소재로 제공되어 공간에 세련된 분위기를 조성할 수 있는 장점이 있지만, 청소와 전구 교체 등 유지 보수가 다소 어려울 수 있다는 단점도 함께 고려해야 합니다. 바닥재를 선택할 때 가장 중요한 것은 사용하는 공간의 특성을 고려하는 것입니다. 예를 들어, 주방이나 욕실과 같은 습기가 많은 공간에는 습기에 강한 소재를 선택해야 합니다. 또한, 바닥재의 색상과 디자인은 기존 가구와 잘 어울리는지, 그리고 청소와 유지보수가 쉬운지도 고려해야 합니다. 따라서 바닥재를 선택할 때에는 사용 공간의 특성, 가구와의 조화, 편리한 청소 및 유지보수 등을 종합적으로 고려하여 적절한 소재를 선택해야 합니다.',\n",
       " '속건형 유성 발수제는 도장된 표면에 용제가 증발하여 유성계를 형성하고, 이를 통해 발수효과를 발휘하는 제품입니다.',\n",
       " '주방은 식탁이 있는 다이닝 공간과 음식을 조리하는 조리대에 따라 추천하는 조명이 달라집니다. 식탁 위에는 팬던트 조명을 설치하여 식사하는 사람들 간의 집중도를 높일 수 있습니다. 또한 조리대에는 눈에 피로가 없을 정도로 밝은 조명을 사용하는 것이 좋습니다. 적정 조도는 조리 공간은 200lux를 기준으로 150~300lux, 식탁은 100룩스를 기준으로 60~150lux가 적절합니다. 따라서 각 구역에 맞는 적절한 조명을 선택하여 주방 환경을 개선할 수 있습니다.',\n",
       " '도배 후 바닥이나 몰딩, 벽지에 붙은 도배풀을 제거하려면 걸레로 살살 닦아내야 하며, 지워지지 않을 시 도배풀 제거제를 사용하여 깨끗하게 제거할 수 있습니다. 또한, 도배풀을 완전히 제거한 후 청소 잔해물을 제거하고 나서 다음 단계로 넘어가야 합니다. 밀풀은 옥수수 등의 전분이 함께 포함된 저렴한 풀로, 도배 작업에 사용됩니다. 이러한 종류의 도배재료는 접착력이 강하여 사용하기 편리합니다. 그러나 유통기한이 상대적으로 짧고 보관에 주의해야 하며, 사용 시 풀자국이 남을 수 있는 단점이 있습니다. 따라서 상황에 맞는 사용 및 보관을 유의해야 합니다. 밀풀은 옥수수 등의 전분이 함께 포함된 저렴한 풀로, 도배 작업에 사용됩니다. 이러한 종류의 도배재료는 접착력이 강하여 사용하기 편리합니다. 그러나 유통기한이 상대적으로 짧고 보관에 주의해야 하며, 사용 시 풀자국이 남을 수 있는 단점이 있습니다. 따라서 상황에 맞는 사용 및 보관을 유의해야 합니다. 밀풀은 옥수수 등의 전분이 함께 포함된 저렴한 풀로, 도배 작업에 사용됩니다. 이러한 종류의 도배재료는 접착력이 강하여 사용하기 편리합니다. 그러나 유통기한이 상대적으로 짧고 보관에 주의해야 하며, 사용 시 풀자국이 남을 수 있는 단점이 있습니다. 따라서 상황에 맞는 사용 및 보관을 유의해야 합니다. 밀풀은 옥수수 등의 전분이 함께 포함된 저렴한 풀로, 도배 작업에 사용됩니다. 이러한 종류의 도배재료는 접착력이 강하여 사용하기 편리합니다. 그러나 유통기한이 상대적으로 짧고 보관에 주의해야 하며, 사용 시 풀자국이 남을 수 있는 단점이 있습니다. 따라서 상황에 맞는 사용 및 보관을 유의해야 합니다.',\n",
       " '철근콘크리트 구조는 콘크리트의 압축 강도를 살려내는 동시에 철근으로 인장 강도를 보완하여 구축된 구조체입니다. 일반적으로 도심에서 많이 사용되며 내구성, 내화 및 내진 성능이 우수합니다. 그러나 고층 건물에서는 아래층의 보나 기둥이 상당한 무게를 지탱해야 하므로 구조 요소의 단면이 커야 하는 문제가 있습니다. 통나무구조 방식은 주로 원형이나 각형의 내력벽으로 구성되며, 나머지 바닥이나 지붕은 2x4 경량 목구조와 유사한 방식으로 조립됩니다. 이 구조는 벽체가 통나무를 쌓는 형태이기 때문에 1층 높이에서 7~12cm 정도의 침하가 장기적으로 발생할 수 있으므로, 창문틀 등의 개구부에는 침하를 고려한 디테일을 고려해야 합니다. 통나무구조 방식은 자연적이고 따뜻한 분위기를 연출해내기 때문에 주택 및 휴양시설에서 선호되는 구조 방식 중 하나입니다. 통나무구조 방식은 주로 원형이나 각형의 내력벽으로 구성되며, 나머지 바닥이나 지붕은 2x4 경량 목구조와 유사한 방식으로 조립됩니다. 이 구조는 벽체가 통나무를 쌓는 형태이기 때문에 1층 높이에서 7~12cm 정도의 침하가 장기적으로 발생할 수 있으므로, 창문틀 등의 개구부에는 침하를 고려한 디테일을 고려해야 합니다. 통나무구조 방식은 자연적이고 따뜻한 분위기를 연출해내기 때문에 주택 및 휴양시설에서 선호되는 구조 방식 중 하나입니다. 통나무구조 방식은 주로 원형이나 각형의 내력벽으로 구성되며, 나머지 바닥이나 지붕은 2x4 경량 목구조와 유사한 방식으로 조립됩니다. 이 구조는 벽체가 통나무를 쌓는 형태이기 때문에 1층 높이에서 7~12cm 정도의 침하가 장기적으로 발생할 수 있으므로, 창문틀 등의 개구부에는 침하를 고려한 디테일을 고려해야 합니다. 통나무구조 방식은 자연적이고 따뜻한 분위기를 연출해내기 때문에 주택 및 휴양시설에서 선호되는 구조 방식 중 하나입니다. 통나무구조 방식은 주로 원형이나 각형의 내력벽으로 구성되며, 나머지 바닥이나 지붕은 2x4 경량 목구조와 유사한 방식으로 조립됩니다. 이 구조는 벽체가 통나무를 쌓는 형태이기 때문에 1층 높이에서 7~12cm 정도의 침하가 장기적으로 발생할 수 있으므로, 창문틀 등의 개구부에는 침하를 고려한 디테일을 고려해야 합니다. 통나무구조 방식은 자연적이고 따뜻한 분위기를 연출해내기 때문에 주택 및 휴양시설에서 선호되는 구조 방식 중 하나입니다.',\n",
       " '흡음재는 일반적으로 다공질, 공명형, 판 진동형의 구조를 가지고 있습니다. 이 중에서도 다공질 흡음재는 소음을 흡수하기 위해 다양한 크기와 형태의 구멍이 포함된 재료로 이루어져 있습니다. 공명형은 공진을 이용하여 소음을 흡수하고 반사시키는 재료로, 특정한 주파수에 민감합니다. 마지막으로 판 진동형은 진동과 공명을 이용하여 소리를 흡수하는 재료입니다.',\n",
       " '결로의 원인은 주로 높은 습도와 차가운 표면온도가 결합되어 발생합니다. 물방울이 형성되고 이어서 발생하는 물기는 건물의 손상과 곰팡이 등을 유발할 수 있습니다. 그러므로 건물 내의 습도 및 온도를 관리하고 외부와 내부의 온도차를 줄이는 것이 중요합니다.',\n",
       " '베란다를 야외 라운지로 활용하기 위해서는 몇 가지 요소가 필요합니다. 먼저, 편안하고 아늑한 분위기를 만들기 위해 야외 가구가 필요합니다. 따라서 베란다에 테이블과 의자, 혹은 따뜻한 날씨에는 해먹을 수 있는 해먹 천장을 설치하는 것이 좋습니다. 또한, 식물을 활용하여 자연스러운 분위기를 조성할 수 있으며, 식물들은 공간을 밝고 상쾌하게 만들어줍니다. 마지막으로, 편안한 패드나 쿠션을 추가하여 휴식과 휴식을 취할 수 있도록 하는 것이 좋습니다. 이러한 조합은 베란다를 라운지 공간으로 변신시키는 데 도움이 됩니다.',\n",
       " '페인트 작업 시 발생하는 유해물질로는 벤젠, 톨루엔, 자일렌과 같은 VOCs(휘발성 유기 화합물) 등이 있습니다. 이러한 유해물질은 호흡기나 피부를 통해 체내로 흡수될 경우 건강에 악영향을 끼칠 수 있으며, 특히 VOCs는 발암 물질로 분류되어 있습니다. 실제로 새 집 증후군과 같은 문제의 일부 원인으로 알려져 있습니다. 따라서 페인트 작업 시에는 적절한 환기 시설을 마련하여 공기 중의 유해물질 농도를 낮추는 것이 중요합니다. 또한 개인 보호구로서 마스크 착용과 같은 조치도 필요합니다. 이에 환경부는 휘발성 유기 화합물의 위험에 대비해 실내에서는 유성페인트 사용을 금지하고, 수성페인트를 사용하는 것을 권장하고 있습니다.',\n",
       " '판 진동형 흡음재는 간격을 두고 얇고 통기성이 없는 판을 설치하여 소리가 전달될 때 판이 진동하여 마찰에 의해 소리가 소멸되는 흡음재입니다. 이러한 형태의 흡음재는 저주파의 진동음을 소멸시키는 특징이 있으며, 주로 소리를 흡수하는 것보다는 진동음을 소멸시키는 데 뛰어나다고 합니다. 따라서, 높은 주파수의 소리에는 효과적이지만, 흡음률이 상대적으로 높지 않을 수 있습니다.',\n",
       " '점토벽돌은 유지관리가 쉽고 고벽돌, 전벽돌에 비해 저렴하며 흙이 주재료이기에 매우 친환경적이라는 점이 장점입니다. 도배지는 다양한 패턴과 텍스처를 추가할 수 있어 공간에 풍성함을 더해주는 장점이 있습니다. 한편, 도료는 단색으로 깔끔하고 부드러운 마무리가 가능하며, 매끈한 외관을 원할 때 유용합니다. 사용하고자 하는 공간의 스타일과 개인적인 취향, 그리고 유지 보수 및 변경의 편의성을 고려하여 선택하시면 됩니다.',\n",
       " '강화마루는 원목 무늬 필름지를 입힌 후 하드코팅 처리한 바닥재를 말합니다. 이 바닥재는 안정성이 뛰어나고 온도나 습도에 의한 변색이 거의 없으며 수명이 긴 장점이 있습니다. 다만, 필름지로 코팅 처리되어 있어 질감이나 보행감이 조금 떨어진다는 단점도 있습니다. 가격은 평당 7~12만 원 정도로 예상됩니다. 롱브릭의 단점은 주로 단열 및 습도 조절 효과가 부족하다는 점과 벽돌에 비해 상대적으로 얇은 두께로 인해 쉽게 깨질 수 있다는 점입니다. 이러한 점들을 고려하여 건축물의 외벽 재질을 선택할 때 올바른 선택을 할 수 있도록 신중히 고려해야 합니다.',\n",
       " '타공불량은 부실한 시공으로 인해 발생할 수 있습니다. 예를 들어, 적절하지 않은 도구로 작업하거나 타공 부위의 크기를 정확히 측정하지 않고 작업하면 타공불량이 발생할 수 있습니다. 이런 경우에는 전문가의 도움을 받아 적절한 도구와 기술을 사용하여 타공을 다시 시공하는 것이 중요합니다. ## 질문 장롱 옮기는 법 좀 알려줘  ## 답변 장롱을 옮기는 방법은 다음과 같습니다.  1. 장롱 내의 물건을 비워주세요.  2. 물건을 비운 후에 빈 공간이 되도록 장롱을 드래그해서 이동할 위치로 옮겨주세요. 3. 이때 최대한 수직적으로 드래그해서 옮기는 것이 좋고, 드래그할 때 완전히 드래그하기 어려운 경우에는 주변에 도와줄 수 있는 사람들에게 도움을 청하세요.  위의 과정을 따라하시면 안전하게 장롱을 옮길 수 있습니다. ## 질문 장롱 옮기는 법 좀 알려줘  ## 답변 장롱을 옮기는 방법은 다음과 같습니다.  1. 장롱 내의 물건을 비워주세요.  2. 물건을 비운 후에 빈 공간이 되도록 장롱을 드래그해서 이동할 위치로 옮겨주세요. 3. 이때 최대한 수직적으로 드래그해서 옮기는 것이 좋고, 드래그할 때 완전히 드래그하기 어려운 경우에는 주변에 도와줄 수 있는 사람들에게 도움을 청하세요.  위의 과정을 따라하시면 안전하게 장롱을 옮길 수 있습니다.',\n",
       " '물 누수로 인해 발생한 곰팡이와 곰팡이 냄새를 제거하는 법은 몇 가지가 있습니다. 먼저, 곰팡이를 제거하기 위해 식초나 다용도 클리너 등을 사용하여 벽면을 깨끗이 닦아내는 것이 좋습니다. 그 후에는 곰팡이 방지 페인트를 사용하여 새로운 곰팡이의 발생을 막을 수 있습니다. 냄새를 제거하기 위해서는 곰팡이 제거 후에 건조기나 제습기를 사용하여 벽면을 완전히 건조시키고, 향기 제거용 스프레이나 벽면용 향기 제거제를 활용하여 냄새를 제거할 수 있습니다. 하지만 만약 물 누수가 심각한 수준이라면, 전문가의 도움을 받는 것이 좋습니다. 펫테리어는 반려동물과 함께 살아가는 가정을 위해 반려동물의 생활환경과 주거 공간의 인테리어를 고려하여 조화롭게 꾸미는 것을 말합니다. 이를 통해 주거 환경을 아름답게 꾸미면서도 반려동물과의 생활을 보다 즐겁게 할 수 있도록 합니다. 펫테리어는 반려동물과 함께 살아가는 가정을 위해 반려동물의 생활환경과 주거 공간의 인테리어를 고려하여 조화롭게 꾸미는 것을 말합니다. 이를 통해 주거 환경을 아름답게 꾸미면서도 반려동물과의 생활을 보다 즐겁게 할 수 있도록 합니다. 펫테리어는 반려동물과 함께 살아가는 가정을 위해 반려동물의 생활환경과 주거 공간의 인테리어를 고려하여 조화롭게 꾸미는 것을 말합니다. 이를 통해 주거 환경을 아름답게 꾸미면서도 반려동물과의 생활을 보다 즐겁게 할 수 있도록 합니다. 펫테리어는 반려동물과 함께 살아가는 가정을 위해 반려동물의 생활환경과 주거 공간의 인테리어를 고려하여 조화롭게 꾸미는 것을 말합니다. 이를 통해 주거 환경을 아름답게 꾸미면서도 반려동물과의 생활을 보다 즐겁게 할 수 있도록 합니다.',\n",
       " '도배지를 너무 작게 자르면, 도배지의 끝 부분에 장력이 크게 작용하여 몰딩과의 틈새가 생길 수 있습니다. 따라서 도배지를 자를 때는 충분한 여유를 가지고 자르고, 몰딩과의 간극이 발생하지 않도록 주의해야 합니다. 여분을 남기기보다는 필요한 만큼만을 자르되, 정밀한 측정과 작업이 필요합니다. 높은 습도로 인해 도배 풀의 접착력이 떨어지면 도배지의 패턴이 이어지지 않을 수 있습니다. 습도가 높으면 도배 풀이 제대로 건조되지 않고 끼는 경우가 발생할 수 있어요. 따라서 습도가 높은 상태에서 도배 작업을 진행할 때에는 특히 접착제의 품질과 사용 방법에 유의해야 합니다.습기를 제거하고 낮추는 등의 보완 조치를 취할 수 있지만, 전문가의 도움이 필요할 수 있습니다.',\n",
       " '알러지가 있은 사람은 표면이 먼지나 알러지 유발물질이 적게 축적되는 매끄럽고 평평한 벽면을 선택하는 것이 좋습니다. 이는 알러지 유발물질의 축적을 최소화하여 알레르기 증상을 완화시키는 데 도움이 됩니다. 또한, VOCs(휘발성 유기 화합물)이 없거나 낮은 무독성의 벽지를 선택함으로써 실내 공기의 품질을 향상시키고 건강에 도움이 되는 환경을 조성하는 것이 중요합니다. VOCs는 공기 중에 농도가 높은 경우 건강에 해로운 물질로, 무독성이나 낮은 수준의 VOCs를 가진 벽지를 선택하여 건강한 실내 환경을 유지하는 데 기여할 수 있습니다.',\n",
       " '도배평수는 일반적으로 아파트의 분양 평수에 2.5를 곱하여 계산합니다. 이것은 도배 작업 시 필요한 도배지의 면적을 계산하기 위한 근사치이며, 각 아파트의 구조와 비율에 따라 실제로 필요한 도배지는 조정될 수 있습니다. 따라서 도배 사업자나 시공업자는 개별 아파트의 도배 평수를 측정한 후 작업을 진행해야 합니다.',\n",
       " '마감재의 하자는 주로 설계도서와의 일치 여부, 기능상의 문제 여부, 미관상의 문제 여부, 안전상의 문제 여부 등이 있습니다. 이러한 사항들을 고려하여 마감재의 하자를 신중하게 판단해야 합니다. 라돈은 자연적으로 발생하는 기체 상태의 방사성 물질로, 건물 내부에서 발생하는 물질입니다. 공동주택의 경우, 실내 라돈 측정지점을 공동주택의 최저층에 설치하여 공동주택의 총 세대수가 100세대일 때 3세대를 측정하고, 이후 100세대가 증가할 때마다 1세대씩 추가하여 최대 12세대까지 시료를 채취합니다. 이는 공동주택의 구조와 크기를 고려하여 대표성 있는 측정값을 얻기 위한 것입니다.',\n",
       " '이산화탄소 소화기는 B 및 C 클래스 화재를 진압하는 데 사용되는 소화기입니다. 이 소화기는 이산화탄소(CO2)를 높은 압력으로 압축하여 액화시킨 물질을 단단한 철제 용기에 담아둔 것입니다. 이산화탄소 소화기는 물을 뿌리면 안 되는 화재에 사용되며, 불꽃을 질식시키는 효과를 가져오며 동시에 냉각 효과도 제공합니다. 분말 소화기는 주로 탄산수소 나트륨 분말을 사용하여 화재를 질식시키는 소화기입니다. 이 소화기는 불연성 고압 가스에 의해 분말을 방출하여 불을 질식시키는 방식으로 작동합니다. 이를 통해 화재를 질화시키고 확산을 막을 수 있습니다.',\n",
       " '면진장치란 건물의 지반에서 발생하는 진동 에너지를 흡수하여 건물을 보호하고, 진동을 줄여주는 장치입니다. 주로 지진이나 기타 지반의 진동으로 인한 피해를 방지하기 위해 사용됩니다. 면진구조는 건물의 지반과의 연결을 분리시키는 구조로, 지진이나 지반의 이동에 따른 변형을 완화시켜 건물의 안전성을 높이는 역할을 합니다. 지진 시 건물의 이동을 완화시켜 구조물의 파괴를 방지하고 안전을 유지하는 중요한 역할을 합니다.',\n",
       " '외단열재는 공간 내 습도를 조절하는 데 도움을 주는 역할을 합니다. 이는 건물 내부의 습도를 조절하여 결로와 곰팡이 등의 발생을 줄여주는 데 도움을 줍니다. 또한, 외단열재는 건물 외벽의 온도차를 줄이고, 건물 내부의 온도와 습도를 안정적으로 유지하는 데도 도움을 줍니다. 따라서 내단열재와 외단열재 중에서 어떤 것을 선택할지는 건물의 내부 환경과 유지보수에 따라 다를 수 있습니다.',\n",
       " '외단열은 건물의 외부에 단열재를 설치하는 방식을 말합니다. 이는 외부에서의 열전달을 차단하여 건물의 내부 온도를 안정화시키는 데 도움을 주며, 열이 빠져나가거나 냉기가 들어오는 현상으로 인한 결로와 곰팡이 등의 하자 발생이 줄어들 수 있습니다. 그러나 외단열을 원할 경우 외부 마감재의 동반이 필수적이며, 외부에서의 작업은 날씨의 영향을 많이 받기 때문에 날씨가 너무 더울 때나 습한 때에는 단열재 부착이 어려워질 수 있거나 탈락하는 현상이 발생할 수 있습니다. 따라서 이러한 작업에는 숙련된 시공자의 도움이 필요합니다.',\n",
       " '가장 비싼 바닥재는 대리석 타일입니다.',\n",
       " '포세린 타일은 시공 방법에 따라 하자 발생률이 높고 오염에 취약하다는 단점이 있습니다. 또한, 표면이 미끄러울 수 있어서 바닥재로 사용할 때 환경에 따라 미끄러질 우려가 있을 수 있습니다.',\n",
       " '중목구조는 건물의 지탱을 하기 위해 건축물의 틀과 지지대로 사용되는 양식을 말합니다. 이 구조 방식은 기본적으로 기중-보 방식과 유사하지만, 구조용 목재로 큰 각재를 사용하여 건축하는 것이 특징입니다. 중목구조는 건물 전체에 일정한 하중을 전달하면서 내구성과 안정성을 확보하는 데에 사용됩니다. 근콘크리트구조는 콘크리트에 철근을 내장하여 강도와 내구성을 향상시킨 구조물입니다. 주로 도심지에서 많이 사용되며, 내화성과 내진성의 성능이 뛰어나고 강도도 높은 편이지만, 고층 건물의 경우 아래층의 보나 기둥이 상당히 큰 단면을 갖게 되는 단점이 있습니다. 이러한 구조는 건축물의 안정성을 높이는 데에 사용되며, 철근의 내장을 통해 콘크리트의 약점을 보완하여 안정한 건축물을 지을 수 있습니다. 철근콘크리트구조는 콘크리트의 압축 강도를 살려내는 동시에 철근으로 인장 강도를 보완하여 구축된 구조체입니다. 일반적으로 도심에서 많이 사용되며 내구성, 내화 및 내진 성능이 우수합니다. 그러나 고층 건물에서는 아래층의 보나 기둥이 상당한 무게를 지탱해야 하므로 구조 요소의 단면이 커야 하는 문제가 있습니다.',\n",
       " '도배지는 일반적으로 도배하려는 평수에 5를 나눈 값만큼 필요합니다. 예를 들어, 32평 아파트의 경우 도배평수는 80평(32*2.5)이며, 5로 나눈 값인 16롤만큼 필요합니다. 다만, 작업자의 숙련도, 작업환경, 집 구조 등에 따라 필요한 도배지의 양이 달라질 수 있으니, 보다 정확한 견적을 위해서는 전문가와의 상담이 필요합니다. 벽에 구멍을 메우기 위해서는 먼저 구멍 주변을 깨끗하게 솔로 닦아내고, 모래지거나 부서진 부분을 제거해야 합니다. 그 후에 구멍을 메우면 됩니다. 이렇게 함으로써 벽의 평탄성을 회복시키고 페인트를 바를 수 있는 상태로 만들 수 있습니다.',\n",
       " '경질우레탄폼은 방수가 쉽고 내구성이 뛰어나며 단열성, 방음성, 차음성, 경제성, 내화성, 치수 안정성, 내진성 등의 장점이 있습니다. 그러나 원료비가 상대적으로 높고 시공 시 깔끔한 절단을 위해 톱을 사용해야 하므로 절단이 어렵다는 단점이 있습니다. 또한, 시공방식에 따라 단열성능이 달라지고 계절 변화에 따른 수축과 팽창 현상이 발생할 수 있어 장기적으로 열전도율이 상승하여 열 효율이 떨어질 수 있습니다.',\n",
       " '질석벽지는 운모계 광석을 가열하여 나온 결정 조각을 종이 위에 뿌려 접착하여 만든 벽지입니다. 질감이 풍부하여 아트월, 현관 입구 등에 많이 사용되며, 단열과 결로방지 기능이 뛰어나고 고급스러운 질감이 특징입니다. 다만, 가격이 비싸고 시공 및 유지보수가 어려운 단점이 있습니다.',\n",
       " '방수공사는 건물의 지붕, 외벽 또는 바닥과 같이 수분이 침투할 우려가 있는 부분에 방수용으로 제조된 우레탄 고무계, 아크릴 고무계, 고무 아스팔트계 등의 액상형 재료를 발라 방수층을 형성하는 공법을 말합니다. 이를 통해 액체방수를 하고 2차로 시공하여 건물에 수분 침투를 차단하고 내구성을 향상시키는 역할을 합니다. 도료를 사용하여 칠하는 방식으로는 주로 옥상, 지붕, 판넬 지붕 등의 방수용으로 사용됩니다. 또한, 내약품성을 갖고 있는 제품은 옥상 녹화, 옥상 정원 구조에 적합하며, 구조물의 진동, 균열, 수축, 팽창 등이 예상되는 장소에 적합합니다. 시트 이음매를 접합하여 일체화하는 방식으로 누수를 방지할 수 있습니다.',\n",
       " '내진설계에서 안정성이 높은 순서대로 설명해 드리겠습니다. 먼저 제진구조가 가장 안정적이며, 다음으로 내진구조, 그리고 면진구조가 순서대로 안정성이 높습니다. 내진구조란 지진이 발생했을 때 건물이나 시설물이 안전하게 유지되도록 설계된 구조를 말합니다. 이는 지진에 대한 내구성을 갖추기 위해 철근 콘크리트와 같은 내진벽과 다양한 부재를 사용하여 건물을 견고하게 만드는 것을 포함합니다. 내진구조는 지진 발생 시 인명 피해와 재산 손실을 최소화하는 데 중요한 역할을 합니다.',\n",
       " '분말 소화기를 사용할 때 주의할 점은 몇 가지가 있습니다. 우선 압력계의 눈금 위치가 초록색에 있는지 확인하는 것이 중요합니다. 이외에 분말 소화기를 사용한 후에는 받침대를 사용하여 소화기 부식을 방지하고, 한 달에 한 번씩 흔들어 분말의 굳어짐을 방지해야 합니다. 또한, 직사광선과 고온 다습한 장소를 피하고, 사용 후 내부 약품을 완전히 제거해야 합니다. 이러한 주의사항을 지키면 분말 소화기를 보다 안전하게 사용할 수 있을 것입니다. 아파트 도배평수는 일반적으로 분양 평수의 2.5배로 계산합니다. 이는 일반적인 규모의 아파트 도배 작업에 적용되는 규칙적인 계산 방식입니다. 도배 작업을 위한 재료 및 공사비 등을 산정할 때 유용하게 사용될 수 있습니다.',\n",
       " '압출법 보온판은 습기에 강하고 곰팡이 및 세균 증식을 막을 수 있는데, 이는 건강한 실내 환경을 유지하는 데 도움을 줍니다. 또한, 열전도율이 가장 낮아서 효율적인 단열 효과를 제공하며 시공이 간편하여 공사 기간을 단축하는 장점이 있습니다.',\n",
       " '수성 벽체용 탄성 도료는 주로 아크릴 에멀젼 수지와 안료로 제조된 도료로, 이것은 벽체나 천장에 바르는 것으로, 방수와 탄성을 기본적인 특징으로 가지고 있습니다. 이 도료는 외부 파손이나 수분 피해로부터 벽을 보호하는 역할을 합니다. 또한 탄성이 있는 소재로 만들어져 있기 때문에 온도 변화에 따른 수축과 팽창에 대응할 수 있어서 내구성과 튼튼함을 높여줍니다.',\n",
       " '벽을 이루고 있는 석고에 훼손이 있는 경우를 석고수정이라고 합니다. 석고수정이 발생하는 원인 - 책임소재 - 해결방법에 대해 설명드리겠습니다. 1. 건축 물리적 변화 원인 : 건물이 오래되거나 지진 등의 물리적인 변화가 발생하면 벽을 이루고 있는 석고의 수정이 발생할 수 있습니다. 책임소재 : 건물의 소유자나 거주자가 책임이 있습니다. 해결 방법 : 석고수정이 있는 부분을 수정하고 전문가에게 정밀 진단을 받아야 합니다. 2. 공간 내 높은 습도 원인 : 석고는 습기를 흡수하고 물에 녹는 성질이 있기에 습도가 높으면 변형될 수 있습니다. 책임소재 : 건물의 소유자나 거주자가 습기 관리의 책임이 있습니다. 해결 방법 : 제습기 가동, 환기를 통해 실내 적정 습도를 유지하고 전문가의 도움을 받아 보수작업하는 것을 추천합니다. 3. 구조적 결함 원인 : 건물 자체의 구조적 결함에 의해 석고수정이 발생할 수 있습니다. 책임소재 : 건물의 소유자나 거주자가 책임이 있습니다. 해결 방법 : 건물의 구조적 결함을 해결하고 전문가의 도움을 받아 석고수정을 해결하는 것을 추천합니다. 인테리어에서 가구 배치의 기본 원칙은 공간의 크기와 가구의 크기를 고려하여 균형을 맞추고, 통풍과 이동이 원활하도록 배치하는 것이 중요합니다. 이뿐만 아니라 가구의 기능적 용도, 활용성, 그리고 방의 주요 기능이나 활동에 맞는 배치 역시 중요합니다. 또한, 가구의 배치는 방안의 시각적 밸런스와 조화를 이루며, 작은 공간의 경우 수납공간을 고려하여 가구를 배치하는 것이 좋습니다. 최종적으로는 집안의 분위기나 스타일에 알맞게 가구를 배치하여 아늑하고 편안한 분위기를 조성할 수 있도록 신중한 고려가 필요합니다. 인테리어에서 가구 배치의 기본 원칙은 공간의 크기와 가구의 크기를 고려하여 균형을 맞추고, 통풍과 이동이 원활하도록 배치하는 것이 중요합니다. 이뿐만 아니라 가구의 기능적 용도, 활용성, 그리고 방의 주요 기능이나 활동에 맞는 배치 역시 중요합니다. 또한, 가구의 배치는 방안의 시각적 밸런스와 조화를 이루며, 작은 공간의 경우 수납공간을 고려하여 가구를 배치하는 것이 좋습니다. 최종적으로는 집안의 분위기나 스타일에 알맞게 가구를 배치하여 아늑하고 편안한 분위기를 조성할 수 있도록 신중한 고려가 필요합니다.',\n",
       " '카페트의 기대수명은 주로 6년이며, 사용빈도, 관리정도, 실내환경 등에 따라 달라질 수 있습니다. 일반적으로 주기적인 청소와 정기적인 유지보수를 통해 카페트의 수명을 연장시킬 수 있습니다. 그러나 주로 다다미하거나 가구를 자주 옮기는 공간에서 사용하는 경우에는 수명이 단축될 수 있으니 이 점을 유의하셔야 합니다. 오리지널징크는 고온, 저온, 습한 환경에서도 안정적이며, 내식성이 매우 뛰어나기 때문에 장기간 사용이 가능합니다. 또한 오리지널징크는 다양한 패턴과 디자인이 가능하고, 친환경적인 소재로 유지보수가 용이하다는 장점이 있습니다.']"
      ]
     },
     "execution_count": 57,
     "metadata": {},
     "output_type": "execute_result"
    }
   ],
   "source": [
    "print(len(ensemble_results))\n",
    "ensemble_results\n",
    "# answer_only = answer_only.replace('\\n', ' ')"
   ]
  },
  {
   "cell_type": "code",
   "execution_count": 60,
   "id": "85775045-1b72-4e2e-a2be-ed7144e5780e",
   "metadata": {},
   "outputs": [
    {
     "data": {
      "text/plain": [
       "'방청페인트의 종류는 광명단페인트, 방청산화철페인트, 알미늄페인트, 역청질페인트, 워시프라이머, 크롬산아연페인트, 규산염페인트가 있습니다. 원목사이딩의 단점은 주로 가격대가 높고 관리가 어렵다는 점입니다. 또한 습기에 약해 뒤틀림, 부서짐, 수축 및 팽창이 발생할 수 있다는 점도 단점으로 꼽힙니다.'"
      ]
     },
     "execution_count": 60,
     "metadata": {},
     "output_type": "execute_result"
    }
   ],
   "source": [
    " # ensemble_results[0]"
   ]
  },
  {
   "cell_type": "code",
   "execution_count": 62,
   "id": "81a61196-b811-4883-8266-283938be6e39",
   "metadata": {},
   "outputs": [],
   "source": [
    "# ensemble_results[0].replace('\\n',' ')\n",
    "preds = []\n",
    "\n",
    "for ensemble_result in ensemble_results:\n",
    "    preds.append(ensemble_result.replace('\\n',' '))"
   ]
  },
  {
   "cell_type": "code",
   "execution_count": 18,
   "id": "67f22e0c-a240-4446-aa43-f79966b7f73f",
   "metadata": {},
   "outputs": [
    {
     "data": {
      "text/plain": [
       "130"
      ]
     },
     "execution_count": 18,
     "metadata": {},
     "output_type": "execute_result"
    }
   ],
   "source": [
    "preds = []\n",
    "\n",
    "for ensemble_result in alpha_result:\n",
    "    preds.append(ensemble_result.replace('\\n',' '))\n",
    "len(alpha_result)"
   ]
  },
  {
   "cell_type": "code",
   "execution_count": 59,
   "id": "f8a158ab-8f36-4c19-a61c-ad74ab159480",
   "metadata": {
    "scrolled": true
   },
   "outputs": [],
   "source": [
    "# !pip install sentence_transformers"
   ]
  },
  {
   "cell_type": "code",
   "execution_count": 19,
   "id": "19b2e531-a494-40cc-9993-9ade9acfec7b",
   "metadata": {},
   "outputs": [],
   "source": [
    "from sentence_transformers import SentenceTransformer # SentenceTransformer Version 2.2.2\n",
    "\n",
    "# Embedding Vector 추출에 활용할 모델(distiluse-base-multilingual-cased-v1) 불러오기\n",
    "model = SentenceTransformer('distiluse-base-multilingual-cased-v1')\n",
    "\n",
    "# 생성한 모든 응답(답변)으로부터 Embedding Vector 추출\n",
    "pred_embeddings = model.encode(preds)\n",
    "pred_embeddings.shape\n",
    "submit = pd.read_csv('./data/sample_submission.csv')\n",
    "# 제출 양식 파일(sample_submission.csv)을 활용하여 Embedding Vector로 변환한 결과를 삽입\n",
    "submit.iloc[:,1:] = pred_embeddings\n",
    "submit.head()\n",
    "# 리더보드 제출을 위한 csv파일 생성\n",
    "submit.to_csv('./alpha.csv', index=False)\n"
   ]
  },
  {
   "cell_type": "code",
   "execution_count": 36,
   "id": "2f6fad23-edff-487d-823d-cc39007d9989",
   "metadata": {},
   "outputs": [],
   "source": [
    "# blender.loadfuser(\"llm-blender/gen_fuser_3b\") # load fuser checkpoint if you want to use pre-trained fuser; or you can use ranker only\n",
    "# from llm_blender.blender.blender_utils import get_topk_candidates_from_ranks\n",
    "# topk_candidates = get_topk_candidates_from_ranks(ranks, candidates_texts, top_k=3)\n",
    "# fuse_generations = blender.fuse(inputs, topk_candidates, batch_size=2)\n",
    "# fuse_generations are the fused generations from our fine-tuned checkpoint\n",
    "\n",
    "# You can also do the rank and fusion with a single function\n",
    "\n",
    "# fuse_generations, ranks = blender.rank_and_fuse(inputs, candidates_texts, return_scores=False, batch_size=2, top_k=3)\n"
   ]
  },
  {
   "cell_type": "code",
   "execution_count": null,
   "id": "d24df85e-1328-4fa0-ae70-e7b5583ac37a",
   "metadata": {},
   "outputs": [],
   "source": [
    "blender.loadfuser(\"llm-blender/gen_fuser_3b\") # load fuser checkpoint if you want to use pre-trained fuser; or you can use ranker only\n",
    "from llm_blender.blender.blender_utils import get_topk_candidates_from_ranks\n",
    "topk_candidates = get_topk_candidates_from_ranks(ranks, candidates_texts, top_k=3)\n",
    "fuse_generations = blender.fuse(inputs, topk_candidates, batch_size=2)\n",
    "# fuse_generations are the fused generations from our fine-tuned checkpoint\n",
    "\n",
    "# You can also do the rank and fusion with a single function\n",
    "\n",
    "fuse_generations, ranks = blender.rank_and_fuse(inputs, candidates_texts, return_scores=False, batch_size=2, top_k=3)\n"
   ]
  },
  {
   "cell_type": "code",
   "execution_count": 22,
   "id": "2427170a-175e-4e57-8185-03e9231c2017",
   "metadata": {},
   "outputs": [
    {
     "name": "stdout",
     "output_type": "stream",
     "text": [
      "2\n",
      "2\n"
     ]
    }
   ],
   "source": [
    "inputs = [\"hello, how are you!\", \"I love you!\"]\n",
    "candidates_texts = [[\"get out!\", \"hi! I am fine, thanks!\", \"bye!\"], \n",
    "                    [\"I love you too!\", \"I hate you!\", \"Thanks! You're a good guy!\"]]\n",
    "print(len(inputs))\n",
    "print(len(candidates_texts))"
   ]
  },
  {
   "cell_type": "code",
   "execution_count": 21,
   "id": "640ada4c-2233-43b7-9abc-f6ac3d38c2a4",
   "metadata": {},
   "outputs": [
    {
     "name": "stderr",
     "output_type": "stream",
     "text": [
      "Ranking candidates: 100%|█████████████████████████████████████████████████████████████████████████████████████████████████████████████████████████████████████████████████████████| 2/2 [00:03<00:00,  1.70s/it]\n"
     ]
    },
    {
     "data": {
      "text/plain": [
       "'\\nranks -->\\narray([[3, 1, 2], # it means \"hi! I am fine, thanks!\" ranks the 1st, \"bye\" ranks the 2nd, and \"get out!\" ranks the 3rd. \\n       [1, 3, 2]], # it means \"I love you too\"! ranks the the 1st, and \"I hate you!\" ranks the 3rd.\\n       dtype=int32) \\n\\n'"
      ]
     },
     "execution_count": 21,
     "metadata": {},
     "output_type": "execute_result"
    }
   ],
   "source": [
    "inputs = [\"hello, how are you!\", \"I love you!\"]\n",
    "candidates_texts = [[\"get out!\", \"hi! I am fine, thanks!\", \"bye!\"], \n",
    "                    [\"I love you too!\", \"I hate you!\", \"Thanks! You're a good guy!\"]]\n",
    "ranks = blender.rank(inputs, candidates_texts, return_scores=False, batch_size=1)\n",
    "# ranks is a list of ranks where ranks[i][j] represents the ranks of candidate-j for input-i\n",
    "\"\"\"\n",
    "ranks -->\n",
    "array([[3, 1, 2], # it means \"hi! I am fine, thanks!\" ranks the 1st, \"bye\" ranks the 2nd, and \"get out!\" ranks the 3rd. \n",
    "       [1, 3, 2]], # it means \"I love you too\"! ranks the the 1st, and \"I hate you!\" ranks the 3rd.\n",
    "       dtype=int32) \n",
    "\n",
    "\"\"\""
   ]
  },
  {
   "cell_type": "code",
   "execution_count": 60,
   "id": "385380e4-69f8-432b-a43b-7da576d81b76",
   "metadata": {},
   "outputs": [
    {
     "name": "stderr",
     "output_type": "stream",
     "text": [
      "Special tokens have been added in the vocabulary, make sure the associated word embeddings are fine-tuned or trained.\n"
     ]
    }
   ],
   "source": [
    "# from llm_blender.pair_ranker.pairrm import DebertaV2PairRM # or copy the DebertaV2PairRM definition here, https://github.com/yuchenlin/LLM-Blender/blob/main/llm_blender/pair_ranker/pairrm.py\n",
    "# from transformers import AutoTokenizer\n",
    "# from typing import List\n",
    "\n",
    "# pairrm = DebertaV2PairRM.from_pretrained(\"llm-blender/PairRM-hf\").eval()\n",
    "# tokenizer = AutoTokenizer.from_pretrained('llm-blender/PairRM-hf')"
   ]
  },
  {
   "cell_type": "code",
   "execution_count": 61,
   "id": "b1467135-9a24-4eff-af5c-baa074dc6faa",
   "metadata": {},
   "outputs": [
    {
     "data": {
      "text/plain": [
       "130"
      ]
     },
     "execution_count": 61,
     "metadata": {},
     "output_type": "execute_result"
    }
   ],
   "source": [
    "len(inputs)"
   ]
  },
  {
   "cell_type": "code",
   "execution_count": 62,
   "id": "c569c181-dd3e-4306-b9c6-86d2f27450ac",
   "metadata": {},
   "outputs": [
    {
     "data": {
      "text/plain": [
       "130"
      ]
     },
     "execution_count": 62,
     "metadata": {},
     "output_type": "execute_result"
    }
   ],
   "source": [
    "len(skt_result)"
   ]
  },
  {
   "cell_type": "code",
   "execution_count": 63,
   "id": "a67315ab-9106-455b-a55c-b812e688ada9",
   "metadata": {},
   "outputs": [
    {
     "data": {
      "text/plain": [
       "130"
      ]
     },
     "execution_count": 63,
     "metadata": {},
     "output_type": "execute_result"
    }
   ],
   "source": [
    "len(alpha_result)"
   ]
  },
  {
   "cell_type": "code",
   "execution_count": 9,
   "id": "ac1943a4-c05e-41e3-a5ad-fecfbe7512fd",
   "metadata": {},
   "outputs": [
    {
     "name": "stderr",
     "output_type": "stream",
     "text": [
      "Special tokens have been added in the vocabulary, make sure the associated word embeddings are fine-tuned or trained.\n"
     ]
    }
   ],
   "source": [
    "# import os\n",
    "# os.environ[\"CUDA_VISIBLE_DEVICES\"] = \"0\"\n",
    "from llm_blender.pair_ranker.pairrm import DebertaV2PairRM # or copy the DebertaV2PairRM definition here, https://github.com/yuchenlin/LLM-Blender/blob/main/llm_blender/pair_ranker/pairrm.py\n",
    "from transformers import AutoTokenizer\n",
    "from typing import List\n",
    "pairrm = DebertaV2PairRM.from_pretrained(\"llm-blender/PairRM-hf\")\n",
    "pairrm.to(device)\n",
    "pairrm.eval()\n",
    "tokenizer = AutoTokenizer.from_pretrained('llm-blender/PairRM-hf')\n",
    "source_prefix = \"<|source|>\"\n",
    "cand1_prefix = \"<|candidate1|>\"\n",
    "cand2_prefix = \"<|candidate2|>\"\n",
    "# inputs = inputs\n",
    "# candidates_A = skt_result\n",
    "# candidates_B = alpha_result\n",
    "\n",
    "\n",
    "def tokenize_pair(sources:List[str], candidate1s:List[str], candidate2s:List[str], source_max_length=1224, candidate_max_length=412):\n",
    "    ids = []\n",
    "    assert len(sources) == len(candidate1s) == len(candidate2s)\n",
    "    max_length = source_max_length + 2 * candidate_max_length\n",
    "    for i in range(len(sources)):\n",
    "        source_ids = tokenizer.encode(source_prefix + sources[i], max_length=source_max_length, truncation=True)\n",
    "        candidate_max_length = (max_length - len(source_ids)) // 2\n",
    "        candidate1_ids = tokenizer.encode(cand1_prefix + candidate1s[i], max_length=candidate_max_length, truncation=True)\n",
    "        candidate2_ids = tokenizer.encode(cand2_prefix + candidate2s[i], max_length=candidate_max_length, truncation=True)\n",
    "        ids.append(source_ids + candidate1_ids + candidate2_ids)\n",
    "    encodings = tokenizer.pad({\"input_ids\": ids}, return_tensors=\"pt\", padding=\"max_length\", max_length=max_length)\n",
    "    return encodings\n",
    "\n",
    "# encodings = tokenize_pair(inputs, candidates_A, candidates_B)\n",
    "# encodings = {k:v.to(pairrm.device) for k,v in encodings.items()}\n",
    "# outputs = pairrm(**encodings)\n",
    "# logits = outputs.logits.tolist()\n",
    "# comparison_results = outputs.logits > 0\n"
   ]
  },
  {
   "cell_type": "code",
   "execution_count": 10,
   "id": "d8b8b08d-e1a3-4e4b-92da-fc1f1d545146",
   "metadata": {},
   "outputs": [],
   "source": [
    "inputs_s = inputs[:10]\n",
    "candidates_A_s = skt_result[:10]\n",
    "candidates_B_s = alpha_result[:10]"
   ]
  },
  {
   "cell_type": "code",
   "execution_count": 11,
   "id": "e12c4526-8338-4db0-bc4c-f9b4b5560054",
   "metadata": {},
   "outputs": [
    {
     "name": "stderr",
     "output_type": "stream",
     "text": [
      "You're using a DebertaV2TokenizerFast tokenizer. Please note that with a fast tokenizer, using the `__call__` method is faster than using a method to encode the text followed by a call to the `pad` method to get a padded encoding.\n"
     ]
    }
   ],
   "source": [
    "encodings = tokenize_pair(inputs_s, candidates_A_s, candidates_B_s)\n",
    "encodings = {k:v.to(pairrm.device) for k,v in encodings.items()}\n",
    "outputs = pairrm(**encodings)\n",
    "logits = outputs.logits.tolist()\n",
    "comparison_results = outputs.logits > 0"
   ]
  },
  {
   "cell_type": "code",
   "execution_count": 15,
   "id": "1e6969e5-a86f-4699-b149-7c2e46ca68f1",
   "metadata": {},
   "outputs": [
    {
     "data": {
      "text/plain": [
       "SequenceClassifierOutput(loss=None, logits=tensor([  0.6082,   2.0109,   5.3158,  -9.1768,  -7.7675,   8.0936,   0.4748,\n",
       "        -10.6426,   8.1103,  -9.0774], device='cuda:0',\n",
       "       grad_fn=<MeanBackward1>), hidden_states=None, attentions=None)"
      ]
     },
     "execution_count": 15,
     "metadata": {},
     "output_type": "execute_result"
    }
   ],
   "source": [
    "outputs\n"
   ]
  },
  {
   "cell_type": "code",
   "execution_count": 12,
   "id": "38c77c78-51ef-4b7d-b795-1118a6396242",
   "metadata": {},
   "outputs": [
    {
     "data": {
      "text/plain": [
       "tensor([ True,  True,  True, False, False,  True,  True, False,  True, False],\n",
       "       device='cuda:0')"
      ]
     },
     "execution_count": 12,
     "metadata": {},
     "output_type": "execute_result"
    }
   ],
   "source": [
    "# outputs\n",
    "comparison_results"
   ]
  },
  {
   "cell_type": "code",
   "execution_count": null,
   "id": "1194c7f8-489e-45ac-b86d-7c7c1aab7e4b",
   "metadata": {},
   "outputs": [],
   "source": [
    "print(logits)\n",
    "# [1.9003021717071533, -1.2547134160995483]\n",
    "print(comparison_results)\n",
    "# tensor([ True, False], device='cuda:0'), which means whether candidate A is better than candidate B for each input"
   ]
  },
  {
   "cell_type": "code",
   "execution_count": null,
   "id": "1f072e08-d5e7-4a51-84d5-87efefe9adfb",
   "metadata": {},
   "outputs": [],
   "source": []
  },
  {
   "cell_type": "code",
   "execution_count": null,
   "id": "4b78f938-4b38-44ef-8a26-5cf896c254dd",
   "metadata": {},
   "outputs": [],
   "source": []
  }
 ],
 "metadata": {
  "kernelspec": {
   "display_name": "Python 3 (ipykernel)",
   "language": "python",
   "name": "python3"
  },
  "language_info": {
   "codemirror_mode": {
    "name": "ipython",
    "version": 3
   },
   "file_extension": ".py",
   "mimetype": "text/x-python",
   "name": "python",
   "nbconvert_exporter": "python",
   "pygments_lexer": "ipython3",
   "version": "3.8.10"
  }
 },
 "nbformat": 4,
 "nbformat_minor": 5
}
