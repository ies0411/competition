{
 "cells": [
  {
   "cell_type": "code",
   "execution_count": 1,
   "id": "35d516bb-b5e0-43b4-9cfb-0091798caf0a",
   "metadata": {
    "scrolled": true
   },
   "outputs": [],
   "source": [
    "# !pip install transformers\n",
    "# !pip install git+https://github.com/yuchenlin/LLM-Blender.git\n",
    "# !pip install \"pydantic<2\"\n",
    "import os\n",
    "os.environ[\"CUDA_VISIBLE_DEVICES\"]=\"3\"\n",
    "# !pip install pip install accelerate"
   ]
  },
  {
   "cell_type": "code",
   "execution_count": 2,
   "id": "52f6df33-af56-41b5-a023-98330676e48e",
   "metadata": {},
   "outputs": [],
   "source": [
    "# !pip install pip install accelerate"
   ]
  },
  {
   "cell_type": "code",
   "execution_count": 3,
   "id": "0199ae5e-4f53-4b06-813a-a5ca68e61b6e",
   "metadata": {},
   "outputs": [
    {
     "name": "stdout",
     "output_type": "stream",
     "text": [
      "Using device: cuda\n"
     ]
    }
   ],
   "source": [
    "import pandas as pd\n",
    "import numpy as np\n",
    "import torch\n",
    "from transformers import GPT2LMHeadModel, PreTrainedTokenizerFast, AdamW, AutoTokenizer, AutoModelForCausalLM\n",
    "from tqdm import tqdm\n",
    "from torch import nn\n",
    "from transformers import Trainer\n",
    "import torch.nn.functional as F\n",
    "import torchvision.transforms as tr # 이미지 전처리 기능들을 제공하는 라이브러리\n",
    "from torch.utils.data import DataLoader, Dataset # 데이터를 모델에 사용할 수 있도록 정리해 주는 라이브러리\n",
    "import csv\n",
    "from torch.optim.lr_scheduler import CosineAnnealingLR\n",
    "\n",
    "\n",
    "# from llm_blender.pair_ranker.pairrm import DebertaV2PairRM # or copy the DebertaV2PairRM definition here, https://github.com/yuchenlin/LLM-Blender/blob/main/llm_blender/pair_ranker/pairrm.py\n",
    "from transformers import AutoTokenizer\n",
    "from typing import List\n",
    "\n",
    "# CUDA 사용 가능 여부 확인\n",
    "device = torch.device(\"cuda\" if torch.cuda.is_available() else \"cpu\")\n",
    "print(f\"Using device: {device}\")"
   ]
  },
  {
   "cell_type": "code",
   "execution_count": 4,
   "id": "cf9e2fc2-b52d-4551-a782-7b386d25f5ca",
   "metadata": {
    "scrolled": true
   },
   "outputs": [
    {
     "data": {
      "application/vnd.jupyter.widget-view+json": {
       "model_id": "aa165d76c57c4a6a84fa74d9933b120f",
       "version_major": 2,
       "version_minor": 0
      },
      "text/plain": [
       "Loading checkpoint shards:   0%|          | 0/6 [00:00<?, ?it/s]"
      ]
     },
     "metadata": {},
     "output_type": "display_data"
    },
    {
     "name": "stderr",
     "output_type": "stream",
     "text": [
      "Special tokens have been added in the vocabulary, make sure the associated word embeddings are fine-tuned or trained.\n"
     ]
    }
   ],
   "source": [
    "\n",
    "# tokenizer = AutoTokenizer.from_pretrained(\n",
    "#   'kakaobrain/kogpt', revision='KoGPT6B-ryan1.5b-float16',  # or float32 version: revision=KoGPT6B-ryan1.5b\n",
    "#   eos_token='</s>'\n",
    "# )\n",
    "import pandas as pd\n",
    "import numpy as np\n",
    "import torch\n",
    "from transformers import AutoTokenizer, AutoModelForCausalLM \n",
    "from transformers import GPT2LMHeadModel, PreTrainedTokenizerFast, AdamW, AutoTokenizer\n",
    "from tqdm import tqdm\n",
    "\n",
    "# model = AutoModelForCausalLM.from_pretrained(\"./kakao_aug_2_epoch/\")\n",
    "# tokenizer = AutoTokenizer.from_pretrained(\"./kakao_aug_2_epoch/\", eos_token='</s>')\n",
    "model = AutoModelForCausalLM.from_pretrained(\"./kko_aug2_5_epoch/\")\n",
    "tokenizer = AutoTokenizer.from_pretrained(\"./kko_aug2_5_epoch/\", eos_token='</s>',max_length=10000)\n",
    "\n"
   ]
  },
  {
   "cell_type": "code",
   "execution_count": 5,
   "id": "67c3dbf7-c1cf-44d6-bd59-8bafadbf7596",
   "metadata": {},
   "outputs": [],
   "source": [
    "test_df = pd.read_csv(\"./data/test.csv\")\n",
    "# test_df\n",
    "# test_df[\"질문\"].iloc[107]"
   ]
  },
  {
   "cell_type": "code",
   "execution_count": 6,
   "id": "166357bc-d5b0-4f94-b803-d08a69ba24c8",
   "metadata": {},
   "outputs": [
    {
     "data": {
      "text/plain": [
       "{0: '또한, 원목사이딩을 사용하는 것에 어떤 단점이 있을까요?',\n",
       " 11: '또한, 부실 시공으로 인해 타공하자가 발생할 가능성이 있나요?',\n",
       " 16: '그리고 유성페인트를 사용하는 것에 대한 부작용이 있을까요?',\n",
       " 17: '그리고 반점이 생긴지 1년 이내인 하자에 대해 어떤 보수작업을 해야 하나요?',\n",
       " 20: '또한, 피스 하자가 무엇인지 자세히 설명해 주실 수 있나요?',\n",
       " 22: '또한, 겨울에 도배를 할 때 특별히 신경써야 할 사항이 있을까요?',\n",
       " 23: '또한, 페인트가 남으면 어디에 보관하는 게 좋을까요?',\n",
       " 24: '또한, 유광 자기질 타일은 얼마나 오랫동안 사용할 수 있을까요?',\n",
       " 25: '그리고 스탠드조명을 선택할 때 주의할 점이 있을까요?',\n",
       " 26: '그리고 불량 도배지를 사용할 경우 도배지가 얼마나 오랫동안 버틸까요?',\n",
       " 27: '그리고 실크벽지의 교체 주기는 얼마나인가요?',\n",
       " 28: '그리고 철골구조의 장점은 무엇인가요?',\n",
       " 29: '그리고 조적식 구조란 무엇인가요?',\n",
       " 33: '또한, 액체방수공사는 무엇을 하는 것인가요?',\n",
       " 35: '그리고 장판이 남을 때 어떻게 처리해야 하나요?',\n",
       " 38: '또한, 콘크리트 벽에 구멍을 뚫는 방법에는 어떤 도구나 기술을 사용해야 하나요?',\n",
       " 39: '그리고 인테리어에 가장 많이 사용되는 도배재료는 무엇인가요?',\n",
       " 42: '그리고 복도나 협소한 공간을 확장시키기 위해 가장 효과적인 방법이 무엇일까요?',\n",
       " 48: '또한, 배관공사 시 통기구를 설치해야 하는 이유가 무엇인가요?',\n",
       " 49: '또한, 규산질계 침투성 도포 방수공사는 어떤 방식으로 이루어지나요?',\n",
       " 50: '또한, 내부와 외부 온도의 큰 차이로 인해 곰팡이 발생이 빨라지나요?',\n",
       " 54: '그리고 기둥-보 구조 방식은 무엇을 의미하나요?',\n",
       " 56: '그리고 새집증후군을 예방하는 데 가장 효과적인 방법은 무엇인가요?',\n",
       " 59: '또한, 옥상 방수용 탄성 에멀전 페인트를 사용하는 장점은 무엇인가요?',\n",
       " 63: '그리고 MSDS(Material Safety Data Sheet)는 무엇을 포함하고 있나요?',\n",
       " 66: '또한, 건조시간이 충분하지 않으면 도배지가 꼬일 수 있는 이유가 무엇인가요?',\n",
       " 70: '그리고 이를 해결하기 위해 어떤 방법을 사용할 수 있나요?',\n",
       " 74: '또한, 공간을 넓게 보이도록 인테리어를 꾸미는 방법은 뭐가 있을까요?',\n",
       " 76: '그리고 아파트 도배 평수를 어떻게 계산해야 하나요?',\n",
       " 77: '또한, 구조적 결함 때문에 석고수정이 발생할 가능성이 있는가요?',\n",
       " 81: '그리고 부적절한 설치로 인해 제품의 품질에 영향을 미칠 수 있을까요?',\n",
       " 83: '그리고 마감재의 하자를 판단하는 데 어떤 방법을 사용해야 할까요?',\n",
       " 87: '그리고 중목구조 방식에 대해 좀 더 자세히 설명해 주실 수 있을까요?',\n",
       " 91: '그리고 벽돌구조란 무엇인가요?',\n",
       " 92: '그리고 기둥-보 구조 방식은 무엇을 의미하나요?',\n",
       " 95: '그리고 인테리어에서 바닥재를 선택할 때 고려해야 할 중요한 요소는 무엇인가요?',\n",
       " 105: '또한, 도료와 벽지 중에서 어떤 것을 선택하는 것이 더 나은 선택일까요?',\n",
       " 106: '또한, 징크판넬의 단점에는 어떤 것들이 있을까요?',\n",
       " 109: '그리고 높은 습도로 인해 도배지 패턴이 이어지지 않을 수 있는 이유가 무엇일까요?',\n",
       " 112: '그리고 라돈을 측정하는 데 가장 적합한 지점은 어디인가요?',\n",
       " 113: '그리고 분말 소화기는 어떤 용도로 사용되는 건가요?',\n",
       " 114: '그리고 면진구조는 어떤 건물 구조나 시스템을 의미하나요?',\n",
       " 120: '또한, 벽에 구멍을 막는 가장 효과적인 방법은 무엇인가요?',\n",
       " 124: '그리고 내진구조란 무엇인가요?',\n",
       " 125: '그리고 아파트 도배 평수를 어떻게 계산해야 하나요?',\n",
       " 129: '그리고 오리지널징크의 장점에는 무엇이 있나요?'}"
      ]
     },
     "execution_count": 6,
     "metadata": {},
     "output_type": "execute_result"
    }
   ],
   "source": [
    "\n",
    "appedix_dict_1 = {}\n",
    "for idx, row in test_df.iterrows():\n",
    "    for q_col in ['질문','id']:\n",
    "        if q_col == '질문':\n",
    "            if row[q_col].count('?') >=2:\n",
    "                appendix = row[q_col].split('?')[1] + \"?\"\n",
    "                appendix = appendix.strip()\n",
    "                row[q_col] = row[q_col].split('?')[0] + \"?\"\n",
    "                row[q_col] = row[q_col].strip()\n",
    "                appedix_dict_1[idx] = appendix\n",
    "            else:\n",
    "                row[q_col] = row[q_col].strip()\n",
    "appedix_dict_1   "
   ]
  },
  {
   "cell_type": "code",
   "execution_count": 7,
   "id": "192018a8-bfdf-4236-9856-654c7a643781",
   "metadata": {},
   "outputs": [
    {
     "data": {
      "text/plain": [
       "{6: '합지벽지의 어떤 단점이 있나요?',\n",
       " 15: '페인트 상도재의 역할과 사용 방법에 대해 알려주세요.',\n",
       " 47: '습도가 높을 때 곰팡이가 어떻게 발생하는지 자세히 알고 싶습니다.',\n",
       " 55: '도배지가 남으면 어떻게 처리해야 하나요?',\n",
       " 64: '소화기 종류에는 어떤 것들이 있는지 알려주세요.',\n",
       " 86: '토목이 무엇인지 설명해줘.',\n",
       " 93: '셀룰로오스의 단점에 대해 설명해주세요.',\n",
       " 94: '반려동물을 위한 바닥재에는 어떤 종류가 있는지 알려주세요.',\n",
       " 98: '밀풀 사용 시 주의할 점은 무엇인가요?',\n",
       " 99: '통나무구조 방식은 어떤 건물에 사용되는 건축 구조 방식인가요?',\n",
       " 108: '펫테리어가 무엇인지 자세히 알려주세요.',\n",
       " 119: '철근콘크리트 구조에 대해 좀 더 자세히 알려주세요.'}"
      ]
     },
     "execution_count": 7,
     "metadata": {},
     "output_type": "execute_result"
    }
   ],
   "source": [
    "\n",
    "appedix_dict_2 = {}\n",
    "for idx, row in test_df.iterrows():\n",
    "    for q_col in ['질문','id']:\n",
    "        if q_col == '질문':\n",
    "            if row[q_col].count('그리고') > 0 and row[q_col].count('이를') == 0:\n",
    "                appendix = row[q_col].split('그리고')[1]\n",
    "                appendix = appendix.strip()\n",
    "                row[q_col] = row[q_col].split('그리고')[0]\n",
    "                row[q_col] = row[q_col].strip()\n",
    "                appedix_dict_2[idx] = appendix\n",
    "            else:\n",
    "                row[q_col] = row[q_col].strip()\n",
    "appedix_dict_2     "
   ]
  },
  {
   "cell_type": "code",
   "execution_count": 8,
   "id": "298eff93-aeae-4f88-85ce-8bffac9ff17e",
   "metadata": {},
   "outputs": [
    {
     "data": {
      "text/plain": [
       "{2: ', 압출법 단열판을 사용하는 것의 장점은 무엇인가요?또한',\n",
       " 32: ', 세라믹 타일을 사용할 때 고려해야 할 단점은 무엇인가요?또한',\n",
       " 45: ', 낡은 목재 가구의 흠집을 숨기는 방법을 알려주세요.또한',\n",
       " 52: ', 속건형 유성 발수제의 사용 목적과 효과에 대해 알려주세요.또한',\n",
       " 72: ', 강화마루의 장점은 무엇입니까?또한',\n",
       " 89: ', 아이소핑크의 장점은 무엇인가요?또한'}"
      ]
     },
     "execution_count": 8,
     "metadata": {},
     "output_type": "execute_result"
    }
   ],
   "source": [
    "appedix_dict_3 = {}\n",
    "for idx, row in test_df.iterrows():\n",
    "    for q_col in ['질문','id']:\n",
    "        if q_col == '질문':\n",
    "            if row[q_col].count('또한') > 0:\n",
    "                appendix = row[q_col].split('또한')[1] + \"또한\"\n",
    "                appendix = appendix.strip()\n",
    "                row[q_col] = row[q_col].split('또한')[0] + \"또한\"\n",
    "                row[q_col] = row[q_col].strip()\n",
    "                appedix_dict_3[idx] = appendix\n",
    "            else:\n",
    "                row[q_col] = row[q_col].strip()\n",
    "\n",
    "appedix_dict_3"
   ]
  },
  {
   "cell_type": "code",
   "execution_count": 9,
   "id": "9bbbb47e-ff67-4526-8ef2-c5dcdfd7181c",
   "metadata": {},
   "outputs": [],
   "source": [
    "from peft import get_peft_model, PromptTuningConfig, TaskType, PromptTuningInit, PeftModel, PeftConfig\n",
    "\n",
    "model = PeftModel.from_pretrained(\n",
    "    model,    # 프롬프트 튜닝에 사용될 기본 모델\n",
    "    \"./kko_lora_8_2_epoch/\",     # Peft 모델이 저장된 위치\n",
    "    is_trainable = False \n",
    ")"
   ]
  },
  {
   "cell_type": "code",
   "execution_count": 10,
   "id": "0822e01e-87d1-4f44-af57-ab845d559c3e",
   "metadata": {},
   "outputs": [
    {
     "data": {
      "text/plain": [
       "PeftModelForCausalLM(\n",
       "  (base_model): LoraModel(\n",
       "    (model): GPTJForCausalLM(\n",
       "      (transformer): GPTJModel(\n",
       "        (wte): Embedding(64512, 4096)\n",
       "        (drop): Dropout(p=0.1, inplace=False)\n",
       "        (h): ModuleList(\n",
       "          (0-27): 28 x GPTJBlock(\n",
       "            (ln_1): LayerNorm((4096,), eps=1e-05, elementwise_affine=True)\n",
       "            (attn): GPTJAttention(\n",
       "              (attn_dropout): Dropout(p=0.1, inplace=False)\n",
       "              (resid_dropout): Dropout(p=0.0, inplace=False)\n",
       "              (k_proj): Linear(in_features=4096, out_features=4096, bias=False)\n",
       "              (v_proj): lora.Linear(\n",
       "                (base_layer): Linear(in_features=4096, out_features=4096, bias=False)\n",
       "                (lora_dropout): ModuleDict(\n",
       "                  (default): Dropout(p=0.1, inplace=False)\n",
       "                )\n",
       "                (lora_A): ModuleDict(\n",
       "                  (default): Linear(in_features=4096, out_features=8, bias=False)\n",
       "                )\n",
       "                (lora_B): ModuleDict(\n",
       "                  (default): Linear(in_features=8, out_features=4096, bias=False)\n",
       "                )\n",
       "                (lora_embedding_A): ParameterDict()\n",
       "                (lora_embedding_B): ParameterDict()\n",
       "              )\n",
       "              (q_proj): lora.Linear(\n",
       "                (base_layer): Linear(in_features=4096, out_features=4096, bias=False)\n",
       "                (lora_dropout): ModuleDict(\n",
       "                  (default): Dropout(p=0.1, inplace=False)\n",
       "                )\n",
       "                (lora_A): ModuleDict(\n",
       "                  (default): Linear(in_features=4096, out_features=8, bias=False)\n",
       "                )\n",
       "                (lora_B): ModuleDict(\n",
       "                  (default): Linear(in_features=8, out_features=4096, bias=False)\n",
       "                )\n",
       "                (lora_embedding_A): ParameterDict()\n",
       "                (lora_embedding_B): ParameterDict()\n",
       "              )\n",
       "              (out_proj): Linear(in_features=4096, out_features=4096, bias=False)\n",
       "            )\n",
       "            (mlp): GPTJMLP(\n",
       "              (fc_in): Linear(in_features=4096, out_features=16384, bias=True)\n",
       "              (fc_out): Linear(in_features=16384, out_features=4096, bias=True)\n",
       "              (act): NewGELUActivation()\n",
       "              (dropout): Dropout(p=0.0, inplace=False)\n",
       "            )\n",
       "          )\n",
       "        )\n",
       "        (ln_f): LayerNorm((4096,), eps=1e-05, elementwise_affine=True)\n",
       "      )\n",
       "      (lm_head): Linear(in_features=4096, out_features=64512, bias=True)\n",
       "    )\n",
       "  )\n",
       ")"
      ]
     },
     "execution_count": 10,
     "metadata": {},
     "output_type": "execute_result"
    }
   ],
   "source": [
    "model.to(device)\n",
    "model.eval()"
   ]
  },
  {
   "cell_type": "code",
   "execution_count": 11,
   "id": "2f0131c0-8c11-48d9-a60d-773331eb08b2",
   "metadata": {},
   "outputs": [],
   "source": [
    "# from transformers import AutoModelForSeq2SeqLM+ \n",
    "# from peft import PeftModel, PeftConfig \n",
    "\n",
    "# # peft_model_id = \"smangrul/twitter_complaints_bigscience_T0_3B_LORA_SEQ_2_SEQ_LM\"\n",
    "# # config = PeftConfig.from_pretrained(peft_model_id) \n",
    "# # model = AutoModelForSeq2SeqLM.from_pretrained(config.base_model_name_or_path)\n",
    "# # model = PeftModel.from_pretrained(model, peft_model_id)\n",
    "# # tokenizer = AutoTokenizer.from_pretrained(config.base_model_name_or_path)\n",
    "# model = model.to(device)  \n",
    "# model.eval() \n",
    "# inputs = tokenizer(\"Tweet text : @HondaCustSvc Your customer service has been horrible during the recall process. I will never purchase a Honda again. Label :\", return_tensors=\"pt\")   \n",
    "# with torch.no_grad():     \n",
    "#     outputs = model.generate(input_ids=inputs[\"input_ids\"].to(\"cuda\"), max_new_tokens=10)  \n",
    "#     print(tokenizer.batch_decode(outputs.detach().cpu().numpy(), skip_special_tokens=True)[0])  'complaint'\n"
   ]
  },
  {
   "cell_type": "code",
   "execution_count": 12,
   "id": "11ad5b43-c236-4b87-88e5-a4e14b800d6e",
   "metadata": {},
   "outputs": [
    {
     "name": "stderr",
     "output_type": "stream",
     "text": [
      "  0%|                                                  | 0/130 [00:00<?, ?it/s]The attention mask and the pad token id were not set. As a consequence, you may observe unexpected behavior. Please pass your input's `attention_mask` to obtain reliable results.\n",
      "Setting `pad_token_id` to `eos_token_id`:63998 for open-end generation.\n",
      "A decoder-only architecture is being used, but right-padding was detected! For correct generation results, please set `padding_side='left'` when initializing the tokenizer.\n",
      "  1%|▎                                         | 1/130 [00:10<23:17, 10.84s/it]The attention mask and the pad token id were not set. As a consequence, you may observe unexpected behavior. Please pass your input's `attention_mask` to obtain reliable results.\n",
      "Setting `pad_token_id` to `eos_token_id`:63998 for open-end generation.\n",
      "A decoder-only architecture is being used, but right-padding was detected! For correct generation results, please set `padding_side='left'` when initializing the tokenizer.\n"
     ]
    },
    {
     "name": "stdout",
     "output_type": "stream",
     "text": [
      "방청 페인트의 주요 종류로는 광명단 페인트, 방청산화철 페인트, 알루미늄 페인트, 역청질 페인트, 워시 프라이머, 크롬산아연 페인트, 규산염 페인트 등이 있습니다. 이러한 페인트들은 노출되는 환경 및 건축물의 요구에 따라 선택되어 사용됩니다. 방청 페인트는 방수 및 방풍 특성을 가지고 있어 건축물의 내부나 외부에 사용되는데, 이를 통해 건축물을 보호하고 지속적으로 유지보수할 수 있습니다.\n"
     ]
    },
    {
     "name": "stderr",
     "output_type": "stream",
     "text": [
      "  2%|▋                                         | 2/130 [00:33<38:05, 17.85s/it]The attention mask and the pad token id were not set. As a consequence, you may observe unexpected behavior. Please pass your input's `attention_mask` to obtain reliable results.\n",
      "Setting `pad_token_id` to `eos_token_id`:63998 for open-end generation.\n",
      "A decoder-only architecture is being used, but right-padding was detected! For correct generation results, please set `padding_side='left'` when initializing the tokenizer.\n"
     ]
    },
    {
     "name": "stdout",
     "output_type": "stream",
     "text": [
      "도배지에 녹이 묻어나오는 현상은 녹 오염으로 도배지에 붉은색의 녹이 베어나오는 것을 말합니다. 이 현상은 보통 높은 습도나 누수로 인해 발생할 수 있습니다.  고습한 환경에서는 도배지 안쪽의 금속이 누수되어 녹이 생기기 쉽습니다. 이로 인해 도배지에 녹오염이 발생할 수 있으며, 이로 인해 도배지가 손상될 수 있습니다. 따라서 공간 내 습도를 적정하게 유지하기 위해 제습기를 가동하고, 환기를 통해 습도를 조절하는 것이 필요합니다. 또한, 도배지 주변의 누수를 조사하고 보수하는 것이 중요합니다.  만일 누수로 인해 도배지가 젖어서 곰팡이가 발생하게 된다면, 녹오염 뿐만 아니라 곰팡이까지 발생할 수 있으므로 이때는 누수 부분을 보수하고, 곰팡이가 발생한 도배지 부분을 교체하는 것이 좋습니다. 이러한 작업은 전문가의 도움을 받는 것이 추천됩니다.\n"
     ]
    },
    {
     "name": "stderr",
     "output_type": "stream",
     "text": [
      "  2%|▉                                         | 3/130 [00:35<22:48, 10.77s/it]The attention mask and the pad token id were not set. As a consequence, you may observe unexpected behavior. Please pass your input's `attention_mask` to obtain reliable results.\n",
      "Setting `pad_token_id` to `eos_token_id`:63998 for open-end generation.\n",
      "A decoder-only architecture is being used, but right-padding was detected! For correct generation results, please set `padding_side='left'` when initializing the tokenizer.\n"
     ]
    },
    {
     "name": "stdout",
     "output_type": "stream",
     "text": [
      "큐블럭은 일반 벽돌에 비해 가격이 비싸고 균열이 생기기 쉬우며 습기로 인해 하자가 발생할 수 있다는 점이 단점입니다.\n"
     ]
    },
    {
     "name": "stderr",
     "output_type": "stream",
     "text": [
      "  3%|█▎                                        | 4/130 [00:38<15:34,  7.42s/it]The attention mask and the pad token id were not set. As a consequence, you may observe unexpected behavior. Please pass your input's `attention_mask` to obtain reliable results.\n",
      "Setting `pad_token_id` to `eos_token_id`:63998 for open-end generation.\n",
      "A decoder-only architecture is being used, but right-padding was detected! For correct generation results, please set `padding_side='left'` when initializing the tokenizer.\n"
     ]
    },
    {
     "name": "stdout",
     "output_type": "stream",
     "text": [
      "철골구조는 화재 발생시 철골이 녹아 건물의 붕괴로 이어질 수 있다는 단점이 있습니다.\n"
     ]
    },
    {
     "name": "stderr",
     "output_type": "stream",
     "text": [
      "  4%|█▌                                        | 5/130 [00:43<13:50,  6.64s/it]The attention mask and the pad token id were not set. As a consequence, you may observe unexpected behavior. Please pass your input's `attention_mask` to obtain reliable results.\n",
      "Setting `pad_token_id` to `eos_token_id`:63998 for open-end generation.\n",
      "A decoder-only architecture is being used, but right-padding was detected! For correct generation results, please set `padding_side='left'` when initializing the tokenizer.\n"
     ]
    },
    {
     "name": "stdout",
     "output_type": "stream",
     "text": [
      "도배 후 완전 건조되기 전까지는 꼬임이 발생할 수 있습니다.\n"
     ]
    },
    {
     "name": "stderr",
     "output_type": "stream",
     "text": [
      "  5%|█▉                                        | 6/130 [00:56<18:12,  8.81s/it]The attention mask and the pad token id were not set. As a consequence, you may observe unexpected behavior. Please pass your input's `attention_mask` to obtain reliable results.\n",
      "Setting `pad_token_id` to `eos_token_id`:63998 for open-end generation.\n",
      "A decoder-only architecture is being used, but right-padding was detected! For correct generation results, please set `padding_side='left'` when initializing the tokenizer.\n"
     ]
    },
    {
     "name": "stdout",
     "output_type": "stream",
     "text": [
      "철근철골 콘크리트 구조는 강철 골조와 강철 철근, 그리고 콘크리트를 함께 사용하여 건축물을 구성하는 구조체입니다. 이 구조는 강철 골조가 건물을 지탱하고 그 주변에 강철 철근과 콘크리트가 감싸거나 연결되어 건물을 지탱하는 형태로 설계됩니다. 이러한 구조는 강철 골조의 내구성과 강도를 높이면서도 화재에 대한 안전성을 높일 수 있는 장점을 가지고 있습니다.  철골철근 콘크리트 구조는 강철의 강도와 콘크리트의 압축 강인성을 결합하여 강성을 가지며, 콘크리트의 열전도가 낮은 재료상 특징을 이용해 서로의 단점을 보완할 수 있습니다. 이는 내화성, 내구성, 내진성능 등 다양한 장점을 갖고 있어 건축물의 안정성을 높이는 데 도움이 됩니다.\n"
     ]
    },
    {
     "name": "stderr",
     "output_type": "stream",
     "text": [
      "  5%|██▎                                       | 7/130 [01:03<16:40,  8.13s/it]The attention mask and the pad token id were not set. As a consequence, you may observe unexpected behavior. Please pass your input's `attention_mask` to obtain reliable results.\n",
      "Setting `pad_token_id` to `eos_token_id`:63998 for open-end generation.\n",
      "A decoder-only architecture is being used, but right-padding was detected! For correct generation results, please set `padding_side='left'` when initializing the tokenizer.\n"
     ]
    },
    {
     "name": "stdout",
     "output_type": "stream",
     "text": [
      "개별 공간은 개인의 공간과 더 많은 프라이버시를 제공하는 반면, 오픈 플랜은 공간을 확장시키고 연결감을 높여 활동적인 라이프스타일을 즐기기에 더 적합할 수 있습니다. 만약 온전히 개인 공간에서 안락함을 느끼는 편이라면 개별 공간이 더 나을 수 있고, 대화와 활동을 즐기는데 중점을 두는 경우에는 오픈 플랜이 보다 적합할 것입니다.\n"
     ]
    },
    {
     "name": "stderr",
     "output_type": "stream",
     "text": [
      "  6%|██▌                                       | 8/130 [01:20<22:21, 11.00s/it]The attention mask and the pad token id were not set. As a consequence, you may observe unexpected behavior. Please pass your input's `attention_mask` to obtain reliable results.\n",
      "Setting `pad_token_id` to `eos_token_id`:63998 for open-end generation.\n",
      "A decoder-only architecture is being used, but right-padding was detected! For correct generation results, please set `padding_side='left'` when initializing the tokenizer.\n"
     ]
    },
    {
     "name": "stdout",
     "output_type": "stream",
     "text": [
      "도배지 들뜸의 원인은 주로 다음과 같습니다:  1. 습도: 습기가 많은 환경에 노출되면 도배지에 습기가 흡수되어 들뜸이 발생할 수 있습니다. 특히 습기가 많은 욕실이나 주방 등에서는 습기가 도배지에 스며들어 들뜸이 생길 가능성이 높습니다.  2. 온도: 온도가 높은 환경에서는 도배지의 접착력이 감소하여 들뜸이 생길 수 있습니다. 따라서 온도가 높은 곳에서는 도배 작업을 하지 않는 것이 좋습니다.  3. 건조시간: 도배작업이 완료된 후에는 충분한 건조시간을 확보해야 합니다. 건조기간이 충분하지 않으면 도배지가 제대로 건조되지 않고 들뜸이 생길 수도 있습니다.  이러한 원인들을 고려하여 적절한 환경에서 도배작업을 진행하는 것이 중요합니다.\n"
     ]
    },
    {
     "name": "stderr",
     "output_type": "stream",
     "text": [
      "  7%|██▉                                       | 9/130 [01:35<25:03, 12.43s/it]The attention mask and the pad token id were not set. As a consequence, you may observe unexpected behavior. Please pass your input's `attention_mask` to obtain reliable results.\n",
      "Setting `pad_token_id` to `eos_token_id`:63998 for open-end generation.\n",
      "A decoder-only architecture is being used, but right-padding was detected! For correct generation results, please set `padding_side='left'` when initializing the tokenizer.\n"
     ]
    },
    {
     "name": "stdout",
     "output_type": "stream",
     "text": [
      "도배지에 생긴 얼룩은 여러 가지 원인으로 인해 발생할 수 있습니다. 예를 들어, 다음과 같은 경우에는 곰팡이의 영향을 받을 수 있습니다:  1. 습기: 습기가 도배지에 스며들어 곰팡이의 번식을 촉진시킬 수 있습니다. 특히 습기가 많은 환경에서는 곰팡이의 번식이 더욱 촉진될 수 있습니다.  2. 화학물질: 도배지가 화학물질에 노출되면 표면이 오염되어 곰팡이의 증식을 촉진시킬 수도 있습니다.  3. 먼지: 도배지 표면에 먼지나 오염물질이 쌓이지 않도록 관리하는 것이 중요합니다. 특히 주기적으로 청소를 해주는 것이 좋습니다.  이런 경우에는 전문가의 도움을 받아 적절한 조치를 취하는 것이 필요합니다.\n"
     ]
    },
    {
     "name": "stderr",
     "output_type": "stream",
     "text": [
      "  8%|███▏                                     | 10/130 [01:45<22:53, 11.45s/it]The attention mask and the pad token id were not set. As a consequence, you may observe unexpected behavior. Please pass your input's `attention_mask` to obtain reliable results.\n",
      "Setting `pad_token_id` to `eos_token_id`:63998 for open-end generation.\n",
      "A decoder-only architecture is being used, but right-padding was detected! For correct generation results, please set `padding_side='left'` when initializing the tokenizer.\n"
     ]
    },
    {
     "name": "stdout",
     "output_type": "stream",
     "text": [
      "철골구조는 건물의 외벽에는 그다지 하중이 걸리지 않기 때문에 고층 건물의 건축이 가능한 것이었습니다. 또한, 철골구조는 화재, 지진 및 기타 자연재해로부터 건물을 보호하는 안전성이 뛰어나며, 건물 내부 공간을 유연하게 구성할 수 있는 유연성 역시 갖추고 있습니다.\n"
     ]
    },
    {
     "name": "stderr",
     "output_type": "stream",
     "text": [
      "  8%|███▍                                     | 11/130 [02:09<30:19, 15.29s/it]The attention mask and the pad token id were not set. As a consequence, you may observe unexpected behavior. Please pass your input's `attention_mask` to obtain reliable results.\n",
      "Setting `pad_token_id` to `eos_token_id`:63998 for open-end generation.\n",
      "A decoder-only architecture is being used, but right-padding was detected! For correct generation results, please set `padding_side='left'` when initializing the tokenizer.\n"
     ]
    },
    {
     "name": "stdout",
     "output_type": "stream",
     "text": [
      "유성페인트의 성분은 다음과 같습니다:  1. 유해물질: 유성페인트에는 벤젠, 톨루엔, 에딜벤젠, 자일렌 등의 유해물질이 포함되어 있습니다. 이러한 유해물질은 호흡기나 피부 등을 통해 체내에 흡수될 수 있습니다.  2. 냄새: 유성페인트는 강한 냄새를 가지고 있으며, 이는 주변 환경에서 불쾌감을 줄 수 있습니다. 따라서 페인트를 사용할 때에는 적절한 환기를 유지하고, 마스크를 착용하는 것이 좋습니다.  3. 건조 시간: 유성페인트의 건조 시간은 일반적으로 짧지만, 건조 시간이 충분하지 않을 경우에는 인체에 무해하지 않을 수도 있습니다. 따라서 적절한 건조 시간을 고려하여 사용하는 것이 중요합니다.\n"
     ]
    },
    {
     "name": "stderr",
     "output_type": "stream",
     "text": [
      "  9%|███▊                                     | 12/130 [02:15<24:37, 12.52s/it]The attention mask and the pad token id were not set. As a consequence, you may observe unexpected behavior. Please pass your input's `attention_mask` to obtain reliable results.\n",
      "Setting `pad_token_id` to `eos_token_id`:63998 for open-end generation.\n",
      "A decoder-only architecture is being used, but right-padding was detected! For correct generation results, please set `padding_side='left'` when initializing the tokenizer.\n"
     ]
    },
    {
     "name": "stdout",
     "output_type": "stream",
     "text": [
      "훼손과 오염은 물리적인 변화의 유무를 기준으로 구분됩니다. 훼손은 물리적 충격이나 힘을 받아 상태가 변한 것을 말하며, 찍힘이나 터짐과 같은 물리적 손상을 포함합니다. 반면에 오염은 물리적인 힘이나 충격으로 인한 변화가 아니라, 녹 오염이나 얼룩과 같은 물질의 부착으로 인해 생기는 변화를 의미합니다.\n"
     ]
    },
    {
     "name": "stderr",
     "output_type": "stream",
     "text": [
      " 10%|████                                     | 13/130 [02:24<22:07, 11.35s/it]The attention mask and the pad token id were not set. As a consequence, you may observe unexpected behavior. Please pass your input's `attention_mask` to obtain reliable results.\n",
      "Setting `pad_token_id` to `eos_token_id`:63998 for open-end generation.\n",
      "A decoder-only architecture is being used, but right-padding was detected! For correct generation results, please set `padding_side='left'` when initializing the tokenizer.\n"
     ]
    },
    {
     "name": "stdout",
     "output_type": "stream",
     "text": [
      "철골콘크리트는 철근을 사용하여 인장력과 압축력을 효과적으로 견딘다는 재료적 특징을 이용한 구조법으로, 기둥, 보, 내력벽, 바닥 슬라브 등의 구조물을 철근 콘크리트로 제작합니다. 이러한 구조는 건축물의 형태가 자유롭고 일체화된 구조를 가질 수 있으며, 경제적이고 내구성, 내화성, 내진성 등의 장점을 가지고 있습니다. 그러나 비강도(자중에 비한 강도)가 작고 균열이 발생하기 쉽다는 단점도 있습니다.\n"
     ]
    },
    {
     "name": "stderr",
     "output_type": "stream",
     "text": [
      " 11%|████▍                                    | 14/130 [02:34<21:21, 11.04s/it]The attention mask and the pad token id were not set. As a consequence, you may observe unexpected behavior. Please pass your input's `attention_mask` to obtain reliable results.\n",
      "Setting `pad_token_id` to `eos_token_id`:63998 for open-end generation.\n",
      "A decoder-only architecture is being used, but right-padding was detected! For correct generation results, please set `padding_side='left'` when initializing the tokenizer.\n"
     ]
    },
    {
     "name": "stdout",
     "output_type": "stream",
     "text": [
      "방염벽지는 화재에 대비할 수 있고 내구성과 내 스크래치성이 우수하여 장기간 사용하기에 안정적입니다. 또한 화재에서의 안전성을 고려할 때 좋은 선택지가 됩니다. 실크벽지는 대부분 표면이 오돌토돌하고 입체감이 있어 벽지를 부착하기 어렵습니다. 이는 벽지의 접착이 제대로 되지 않아 벽지가 떨어질 수 있기 때문입니다. 실크벽지 위에는 보통 일반적인 벽지보다 특수한 접착제나 특별한 기술이 필요할 수 있습니다. 따라서 실크벽지 위에 벽지를 도배하는 것은 까다로운 작업이며, 전문가의 도움이 필요한 경우가 많습니다.\n"
     ]
    },
    {
     "name": "stderr",
     "output_type": "stream",
     "text": [
      " 12%|████▋                                    | 15/130 [02:42<19:25, 10.13s/it]The attention mask and the pad token id were not set. As a consequence, you may observe unexpected behavior. Please pass your input's `attention_mask` to obtain reliable results.\n",
      "Setting `pad_token_id` to `eos_token_id`:63998 for open-end generation.\n",
      "A decoder-only architecture is being used, but right-padding was detected! For correct generation results, please set `padding_side='left'` when initializing the tokenizer.\n"
     ]
    },
    {
     "name": "stdout",
     "output_type": "stream",
     "text": [
      "도배지에 곰팡이 색깔은 주로 검정색, 황색, 분홍색 등이 있습니다. 이러한 색깔들은 곰팡이의 종류와 성장 조건에 따라 다양할 수 있습니다. 곰팡이는 주로 습기가 많은 환경에서 번식하므로, 공간 내 습도를 적정 수준으로 유지하고 규칙적인 환기를 통해 곰팡이 발생을 예방하는 것이 중요합니다. 또한, 저습도를 유지하고 청소를 규칙적으로 하여 곰팡이 방지에 효과적인 방법입니다.\n"
     ]
    },
    {
     "name": "stderr",
     "output_type": "stream",
     "text": [
      " 12%|█████                                    | 16/130 [02:48<17:05,  8.99s/it]The attention mask and the pad token id were not set. As a consequence, you may observe unexpected behavior. Please pass your input's `attention_mask` to obtain reliable results.\n",
      "Setting `pad_token_id` to `eos_token_id`:63998 for open-end generation.\n",
      "A decoder-only architecture is being used, but right-padding was detected! For correct generation results, please set `padding_side='left'` when initializing the tokenizer.\n"
     ]
    },
    {
     "name": "stdout",
     "output_type": "stream",
     "text": [
      "롱브릭타일은 일반 시멘트벽돌과는 다르게 얇고 긴 모양의 타일 형태로 와이드 벽돌이라고도 불리며, 노출 콘크리트와 비슷한 분위기를 연출할 수 있는 타일입니다. 이러한 특징으로 전통적인 벽돌 벽보다는 좀 더 현대적이고 세련된 느낌을 연출할 수 있으며, 다양한 디자인의 실내, 외부 벽면 장식에 활용될 수 있습니다.\n"
     ]
    },
    {
     "name": "stderr",
     "output_type": "stream",
     "text": [
      " 13%|█████▎                                   | 17/130 [02:53<14:15,  7.57s/it]The attention mask and the pad token id were not set. As a consequence, you may observe unexpected behavior. Please pass your input's `attention_mask` to obtain reliable results.\n",
      "Setting `pad_token_id` to `eos_token_id`:63998 for open-end generation.\n",
      "A decoder-only architecture is being used, but right-padding was detected! For correct generation results, please set `padding_side='left'` when initializing the tokenizer.\n"
     ]
    },
    {
     "name": "stdout",
     "output_type": "stream",
     "text": [
      "준불연재료란 화재에 견딜 수 있는 소재로, 일정 기간 동안(보통 10분) 화재에 견디는 소재를 의미합니다. 주로 건물 내부의 건축 재료로 사용되며, 화재를 예방하고 인명피해를 최소화하는 데 기여합니다.\n"
     ]
    },
    {
     "name": "stderr",
     "output_type": "stream",
     "text": [
      " 14%|█████▋                                   | 18/130 [03:00<14:15,  7.64s/it]The attention mask and the pad token id were not set. As a consequence, you may observe unexpected behavior. Please pass your input's `attention_mask` to obtain reliable results.\n",
      "Setting `pad_token_id` to `eos_token_id`:63998 for open-end generation.\n",
      "A decoder-only architecture is being used, but right-padding was detected! For correct generation results, please set `padding_side='left'` when initializing the tokenizer.\n"
     ]
    },
    {
     "name": "stdout",
     "output_type": "stream",
     "text": [
      "몰딩이 수정되는 것은 주로 환경적인 요인에 의해 발생합니다. 햇빛, 습기, 화학물질 등의 외부 요인에 노출될 경우 몰딩이 수정될 가능성이 있습니다. 특히, 습기가 많은 환경이나 강한 햇빛이 비추는 곳, 화학물질이 사용되는 구역 등에서 몰딩 수정 현상이 발생할 수 있습니다. 따라서 몰딩의 수명을 연장하기 위해서는 이러한 환경적인 요인들을 최대한 배제하고 유지보수를 꾸준히 해주어야 합니다.\n"
     ]
    },
    {
     "name": "stderr",
     "output_type": "stream",
     "text": [
      " 15%|█████▉                                   | 19/130 [03:16<18:49, 10.18s/it]The attention mask and the pad token id were not set. As a consequence, you may observe unexpected behavior. Please pass your input's `attention_mask` to obtain reliable results.\n",
      "Setting `pad_token_id` to `eos_token_id`:63998 for open-end generation.\n",
      "A decoder-only architecture is being used, but right-padding was detected! For correct generation results, please set `padding_side='left'` when initializing the tokenizer.\n"
     ]
    },
    {
     "name": "stdout",
     "output_type": "stream",
     "text": [
      "벽이나 천장에 잘못 뚫린 구멍은 \"타공하자\"라고 합니다. 타공하자가 발생하는 원인, 책임소재, 그리고 해결 방법에 대해 설명드리겠습니다.  1. 부실 시공     - 원인: 적절하지 않은 도구로 작업하거나 타공 부위의 크기를 정확히 측정하지 않고 작업하면 타공불량이 발생할 수 있습니다.     - 책임소재: 시공자     - 해결 방법: 시공자에게 연락하여 재작업을 요청하는 것이 가장 효과적일 수 있습니다.  2. 잘못된 도구나 재료 사용    - 원인: 도구나 재료를 적절하게 사용하지 않으면 타공이 원하는 크기나 위치에 맞지 않을 수 있습니다.    - 책임소재: 제조사, 시공자, 시공업체 등 다양한 주체가 있기 때문에 정확한 해결 방법을 찾는 것이 중요합니다.\n"
     ]
    },
    {
     "name": "stderr",
     "output_type": "stream",
     "text": [
      " 15%|██████▎                                  | 20/130 [03:26<18:26, 10.06s/it]The attention mask and the pad token id were not set. As a consequence, you may observe unexpected behavior. Please pass your input's `attention_mask` to obtain reliable results.\n",
      "Setting `pad_token_id` to `eos_token_id`:63998 for open-end generation.\n",
      "A decoder-only architecture is being used, but right-padding was detected! For correct generation results, please set `padding_side='left'` when initializing the tokenizer.\n"
     ]
    },
    {
     "name": "stdout",
     "output_type": "stream",
     "text": [
      "다이닝 룸을 정통적으로 꾸미려면 대형 식탁, 고풍스러운 의자, 그리고 아트워크를 포함하세요. 아레카 야자는 NASA에서 선정한 공기정화식물 1위에 해당하는 식물로 포름알데히드, 트리클로, 에틸렌, 벤젠 등의 실내 독성물질VOC를 효과적으로 제거하는 것으로 알려져 있습니다. 또한, 아레카 야자의 잎은 하루에 1리터의 수분을 공기 중으로 방출해서 실내 습도를 높이는 효과가 있다고 합니다.\n"
     ]
    },
    {
     "name": "stderr",
     "output_type": "stream",
     "text": [
      " 16%|██████▌                                  | 21/130 [03:33<16:22,  9.02s/it]The attention mask and the pad token id were not set. As a consequence, you may observe unexpected behavior. Please pass your input's `attention_mask` to obtain reliable results.\n",
      "Setting `pad_token_id` to `eos_token_id`:63998 for open-end generation.\n",
      "A decoder-only architecture is being used, but right-padding was detected! For correct generation results, please set `padding_side='left'` when initializing the tokenizer.\n"
     ]
    },
    {
     "name": "stdout",
     "output_type": "stream",
     "text": [
      "네, 습도가 높으면 곰팡이가 번식하기에 이상적인 환경이기 때문에 곰팡이가 발생할 수 있습니다. 습도 조절이 중요하며, 제습기를 사용하거나 공간을 꾸준히 환기시킴으로써 습도를 줄이는 것이 도움이 될 수 있습니다. 경우에 따라서는 전문가의 도움을 받아 습도 관리 시스템을 도입하는 것도 좋은 방법입니다.\n"
     ]
    },
    {
     "name": "stderr",
     "output_type": "stream",
     "text": [
      " 17%|██████▉                                  | 22/130 [03:47<19:02, 10.58s/it]The attention mask and the pad token id were not set. As a consequence, you may observe unexpected behavior. Please pass your input's `attention_mask` to obtain reliable results.\n",
      "Setting `pad_token_id` to `eos_token_id`:63998 for open-end generation.\n",
      "A decoder-only architecture is being used, but right-padding was detected! For correct generation results, please set `padding_side='left'` when initializing the tokenizer.\n"
     ]
    },
    {
     "name": "stdout",
     "output_type": "stream",
     "text": [
      "라돈을 제외한 공동주택의 실내공기질 측정시료는 실내공기질공정시험기준에 의하여 100세대일 때 3개 세대(저층부,  중층부, 고층부)룰 기본으로 하며 100세대가 증가할 때마다 1세대씩 추가하며 최대 20세대까지 시료를 채취하며 이때 중층부, 저층부, 고층부 순으로 증가합니다.\n"
     ]
    },
    {
     "name": "stderr",
     "output_type": "stream",
     "text": [
      " 18%|███████▎                                 | 23/130 [03:49<14:23,  8.07s/it]The attention mask and the pad token id were not set. As a consequence, you may observe unexpected behavior. Please pass your input's `attention_mask` to obtain reliable results.\n",
      "Setting `pad_token_id` to `eos_token_id`:63998 for open-end generation.\n",
      "A decoder-only architecture is being used, but right-padding was detected! For correct generation results, please set `padding_side='left'` when initializing the tokenizer.\n"
     ]
    },
    {
     "name": "stdout",
     "output_type": "stream",
     "text": [
      "손상된 타일을 제거하고 새로운 타일을 설치하기 위해 접착제와 못을 사용하세요.\n"
     ]
    },
    {
     "name": "stderr",
     "output_type": "stream",
     "text": [
      " 18%|███████▌                                 | 24/130 [04:04<17:43, 10.03s/it]The attention mask and the pad token id were not set. As a consequence, you may observe unexpected behavior. Please pass your input's `attention_mask` to obtain reliable results.\n",
      "Setting `pad_token_id` to `eos_token_id`:63998 for open-end generation.\n",
      "A decoder-only architecture is being used, but right-padding was detected! For correct generation results, please set `padding_side='left'` when initializing the tokenizer.\n"
     ]
    },
    {
     "name": "stdout",
     "output_type": "stream",
     "text": [
      "유성페인트의 사용은 몇 가지 주요한 단점이 있습니다.   1. 유해성: 유성페인트는 벤젠, 톨루엔, 자일렌 등의 유해물질을 포함하고 있어 장기적으로 노출되면 암, 호흡기 질환, 피부 질환 등의 건강 문제를 유발할 수 있습니다.  2. 냄새: 유성페인트의 냄새는 불쾌감을 줄 수 있으며, 환기가 잘 되지 않는 환경에서는 먼지 및 연기로 인해 위험할 수도 있습니다.  3. 건조 시간: 유성페인트를 사용하면 건조 시간이 길어질 수 있으며, 이로 인해 작업 시간이 더 오래 걸릴 수 있습니다. 또한, 건조 과정에서 발생하는 열로 인해 작업자가 불편함을 느낄 수도 있습니다. 이러한 단점들을 고려하여 적절한 대책을 마련하는 것이 중요합니다.\n"
     ]
    },
    {
     "name": "stderr",
     "output_type": "stream",
     "text": [
      " 19%|███████▉                                 | 25/130 [04:10<15:36,  8.92s/it]The attention mask and the pad token id were not set. As a consequence, you may observe unexpected behavior. Please pass your input's `attention_mask` to obtain reliable results.\n",
      "Setting `pad_token_id` to `eos_token_id`:63998 for open-end generation.\n",
      "A decoder-only architecture is being used, but right-padding was detected! For correct generation results, please set `padding_side='left'` when initializing the tokenizer.\n"
     ]
    },
    {
     "name": "stdout",
     "output_type": "stream",
     "text": [
      "가장 비싼 바닥재에는 대리석 타일이 가장 많이 사용됩니다. 대리석은 자연스러운 아름다움과 내구성으로 유명하며, 고급스러운 분위기를 연출할 수 있습니다. 또한, 그만큼 가격이 높기 때문에 대리석은 비교적 고가의 바닥재로 알려져 있습니다.\n"
     ]
    },
    {
     "name": "stderr",
     "output_type": "stream",
     "text": [
      " 20%|████████▏                                | 26/130 [04:16<13:52,  8.00s/it]The attention mask and the pad token id were not set. As a consequence, you may observe unexpected behavior. Please pass your input's `attention_mask` to obtain reliable results.\n",
      "Setting `pad_token_id` to `eos_token_id`:63998 for open-end generation.\n",
      "A decoder-only architecture is being used, but right-padding was detected! For correct generation results, please set `padding_side='left'` when initializing the tokenizer.\n"
     ]
    },
    {
     "name": "stdout",
     "output_type": "stream",
     "text": [
      "풍수지리를 활용할 때 주의해야 할 점 중 하나는 문의 위치, 가구 배치, 그리고 색상 선택입니다. 이것들을 조화롭게 배치하고 선택하는 것이 풍수지리를 적용하는 데 중요합니다. 또한, 각 구역의 기능과 특성을 이해하여 각 공간의 활용 목적에 부합하는 풍수지리 원칙을 적용하여 집을 꾸밀 수 있습니다.\n"
     ]
    },
    {
     "name": "stderr",
     "output_type": "stream",
     "text": [
      " 21%|████████▌                                | 27/130 [04:25<14:18,  8.33s/it]The attention mask and the pad token id were not set. As a consequence, you may observe unexpected behavior. Please pass your input's `attention_mask` to obtain reliable results.\n",
      "Setting `pad_token_id` to `eos_token_id`:63998 for open-end generation.\n",
      "A decoder-only architecture is being used, but right-padding was detected! For correct generation results, please set `padding_side='left'` when initializing the tokenizer.\n"
     ]
    },
    {
     "name": "stdout",
     "output_type": "stream",
     "text": [
      "반점이 생긴지 1년 이상된 경우, 벽지를 재시공하는 것이 가장 바람직한 보수작업 방법입니다. 이렇게 하면 기존의 반점이나 얼룩을 제거하고 벽지를 새로 시공하여 완전히 교체할 수 있습니다. 이 경우 전문가의 도움을 받아 작업하는 것이 좋습니다. 예를 들어, 전문 도배업체나 장인들의 도움을 받아 새로운 벽지 시공을 진행할 수 있습니다: 부분적으로 벽지를 교체하거나 전체적으로 벽지를 다시 교체할지에 대한 판단은 전문가와 상의하여 결정하는 것이 중요합니다.\n"
     ]
    },
    {
     "name": "stderr",
     "output_type": "stream",
     "text": [
      " 22%|████████▊                                | 28/130 [04:29<11:55,  7.01s/it]The attention mask and the pad token id were not set. As a consequence, you may observe unexpected behavior. Please pass your input's `attention_mask` to obtain reliable results.\n",
      "Setting `pad_token_id` to `eos_token_id`:63998 for open-end generation.\n",
      "A decoder-only architecture is being used, but right-padding was detected! For correct generation results, please set `padding_side='left'` when initializing the tokenizer.\n"
     ]
    },
    {
     "name": "stdout",
     "output_type": "stream",
     "text": [
      "평지붕의 단점으로는 경사지붕에 비해 에너지 손실이 크고, 단열 및 방수를 위한 시공비가 많이 들며 누수의 위험이 있습니다. 또한, 다른 지붕자재보다 수명이 짧은 것이 또 다른 단점으로 꼽힙니다.\n"
     ]
    },
    {
     "name": "stderr",
     "output_type": "stream",
     "text": [
      " 22%|█████████▏                               | 29/130 [04:35<11:27,  6.81s/it]The attention mask and the pad token id were not set. As a consequence, you may observe unexpected behavior. Please pass your input's `attention_mask` to obtain reliable results.\n",
      "Setting `pad_token_id` to `eos_token_id`:63998 for open-end generation.\n",
      "A decoder-only architecture is being used, but right-padding was detected! For correct generation results, please set `padding_side='left'` when initializing the tokenizer.\n"
     ]
    },
    {
     "name": "stdout",
     "output_type": "stream",
     "text": [
      "경량철골구조란 주로 주택, 창고, 농자재 등에 사용되며, 약 1.5~3mm 두께의 철골로 이루어져 있습니다. 이러한 경량철골구조는 주로 파이프, C형 채널, LEB 자재 등을 사용하여 건축물을 구성하는 구조체입니다. 이러한 구조물은 경제적이면서도 강도가 뛰어나기 때문에 많은 건물에서 사용됩니다.\n"
     ]
    },
    {
     "name": "stderr",
     "output_type": "stream",
     "text": [
      " 23%|█████████▍                               | 30/130 [04:44<12:16,  7.36s/it]The attention mask and the pad token id were not set. As a consequence, you may observe unexpected behavior. Please pass your input's `attention_mask` to obtain reliable results.\n",
      "Setting `pad_token_id` to `eos_token_id`:63998 for open-end generation.\n",
      "A decoder-only architecture is being used, but right-padding was detected! For correct generation results, please set `padding_side='left'` when initializing the tokenizer.\n"
     ]
    },
    {
     "name": "stdout",
     "output_type": "stream",
     "text": [
      "프리케스트콘크리트 구조는 PC라고도 불리며, 건축물의 벽, 슬래브(SLAB), 보 등의 콘크리트 부재를 공장에서 미리 제작하여 현장에서 조립하는 방식을 말합니다. 이는 공장 내에서 안정된 환경에서 품질관리와 대량생산이 가능하기 때문에 품질 확보와 원가절감이 가능하다는 장점이 있습니다. 또한, 현장에서는 일부 구간을 RC(철근 콘크리트) 공법과 병행하여 공장에서 생산한 PC 부재와의 연결을 통해 공기 단축이 가능하다는 점이 있습니다.\n"
     ]
    },
    {
     "name": "stderr",
     "output_type": "stream",
     "text": [
      " 24%|█████████▊                               | 31/130 [04:58<15:32,  9.42s/it]The attention mask and the pad token id were not set. As a consequence, you may observe unexpected behavior. Please pass your input's `attention_mask` to obtain reliable results.\n",
      "Setting `pad_token_id` to `eos_token_id`:63998 for open-end generation.\n",
      "A decoder-only architecture is being used, but right-padding was detected! For correct generation results, please set `padding_side='left'` when initializing the tokenizer.\n"
     ]
    },
    {
     "name": "stdout",
     "output_type": "stream",
     "text": [
      "반려동물을 위한 공간을 조성하는 것은 반려동물과 함께 살 때 벽지를 보호하는 한 가지 방법입니다. 이는 반려동물의 발로 인해 벽지가 훼손될 때, 하단부의 벽지만 교체함으로써 벽면 전체의 벽지를 갈아야 하는 부담을 줄일 수 있기 때문입니다. 또한, 몰딩을 통해 벽면의 보호 기능을 더할 수 있어서 반려동물과 함께 거주하는 집에서 벽지를 오랫동안 유지할 수 있는 장점이 있습니다.벽면과 바닥의 간격을 분명히 구분하여 깨끗하고 근사한 외관을 유지할 수 있고, 벽지에 이물질이 닿는 것을 방지하여 청결을 유지할 수도 있습니다.\n"
     ]
    },
    {
     "name": "stderr",
     "output_type": "stream",
     "text": [
      " 25%|██████████                               | 32/130 [05:19<20:56, 12.82s/it]The attention mask and the pad token id were not set. As a consequence, you may observe unexpected behavior. Please pass your input's `attention_mask` to obtain reliable results.\n",
      "Setting `pad_token_id` to `eos_token_id`:63998 for open-end generation.\n",
      "A decoder-only architecture is being used, but right-padding was detected! For correct generation results, please set `padding_side='left'` when initializing the tokenizer.\n"
     ]
    },
    {
     "name": "stdout",
     "output_type": "stream",
     "text": [
      "몰딩 수정은 벽면과 몰딩 사이에 이격이 있거나, 몰딩이 파손된 상태를 가리키며, 디자인적 결함으로도 흔히 볼 수 있습니다. 몰딩 수정이 발생하는 원인, 책임소재, 그리고 해결 방법을 설명드리겠습니다.  1. 환경적 요인 원인: 몰딩이 햇빛, 습기, 화학물질 또는 다른 외부 요인에 노출될 때 수정이 발생할 수 있습니다. 책임소재: 건물의 소유자나 거주자가 책임이 있습니다. 해결 방법: 주로 몰딩을 교체합니다. 수정을 방지하기 위해 내구성이 강한 몰딩 소재를 선택하는 것이 필요합니다.\n"
     ]
    },
    {
     "name": "stderr",
     "output_type": "stream",
     "text": [
      " 25%|██████████▍                              | 33/130 [05:22<16:10, 10.00s/it]The attention mask and the pad token id were not set. As a consequence, you may observe unexpected behavior. Please pass your input's `attention_mask` to obtain reliable results.\n",
      "Setting `pad_token_id` to `eos_token_id`:63998 for open-end generation.\n",
      "A decoder-only architecture is being used, but right-padding was detected! For correct generation results, please set `padding_side='left'` when initializing the tokenizer.\n"
     ]
    },
    {
     "name": "stdout",
     "output_type": "stream",
     "text": [
      "KMEW 세라믹 바닥재는 수입품이라 가격이 비싸고 금속지붕에 비해 무겁다는 것이 단점입니다.\n"
     ]
    },
    {
     "name": "stderr",
     "output_type": "stream",
     "text": [
      " 26%|██████████▋                              | 34/130 [05:30<14:36,  9.13s/it]The attention mask and the pad token id were not set. As a consequence, you may observe unexpected behavior. Please pass your input's `attention_mask` to obtain reliable results.\n",
      "Setting `pad_token_id` to `eos_token_id`:63998 for open-end generation.\n",
      "A decoder-only architecture is being used, but right-padding was detected! For correct generation results, please set `padding_side='left'` when initializing the tokenizer.\n"
     ]
    },
    {
     "name": "stdout",
     "output_type": "stream",
     "text": [
      "줄퍼티 마감이란 석고보드의 이음메 부분을 메꾼 후 1차, 2차로 퍼티를 해 마감하는 것을 의미합니다. 줄퍼티 마감은 올퍼티 마감보다 단가가 저렴하다는 장점이 있지만 이음메 부분의 배부름 현상이 있으며, 줄퍼티를 한 곳과 하지 않은 곳의 질감 차이가 있다는 단점이 있어 가게, 식당, 공장에 주로 시공합니다.\n"
     ]
    },
    {
     "name": "stderr",
     "output_type": "stream",
     "text": [
      " 27%|███████████                              | 35/130 [05:39<14:41,  9.27s/it]The attention mask and the pad token id were not set. As a consequence, you may observe unexpected behavior. Please pass your input's `attention_mask` to obtain reliable results.\n",
      "Setting `pad_token_id` to `eos_token_id`:63998 for open-end generation.\n",
      "A decoder-only architecture is being used, but right-padding was detected! For correct generation results, please set `padding_side='left'` when initializing the tokenizer.\n"
     ]
    },
    {
     "name": "stdout",
     "output_type": "stream",
     "text": [
      "페인트 하도재를 사용하지 않고 페인트를 직접 칠하는 경우에는 몇 가지 단점이 있습니다.   1. 페인트 도막의 내구성이 떨어져서 실외나 강한 마모에 노출될 경우 손상을 입을 수 있습니다.  2. 페인트 도막이 균일하게 고르게 형성되지 않을 수 있어 작업이 어려울 수 있습니다.   3. 페인트 도막이 빠르게 증발되어 건조 시간이 더 오래 걸릴 수 있습니다. 이러한 점들을 고려하여 상황에 맞는 페인트 도료를 선택하는 것이 중요합니다.\n"
     ]
    },
    {
     "name": "stderr",
     "output_type": "stream",
     "text": [
      " 28%|███████████▎                             | 36/130 [05:46<13:10,  8.41s/it]The attention mask and the pad token id were not set. As a consequence, you may observe unexpected behavior. Please pass your input's `attention_mask` to obtain reliable results.\n",
      "Setting `pad_token_id` to `eos_token_id`:63998 for open-end generation.\n",
      "A decoder-only architecture is being used, but right-padding was detected! For correct generation results, please set `padding_side='left'` when initializing the tokenizer.\n"
     ]
    },
    {
     "name": "stdout",
     "output_type": "stream",
     "text": [
      "나무재질의 바닥재를 처리하는 방법은 특수 규격 봉투(불연성 폐기물 마대)에 넣어서 배출하면 됩니다. 단, 특수 규격 봉투를 판매하는 곳이 많지 않으니 거주하고 지역의 구청이나 주민센터에 사전문의하는 것이 좋으며 5t 이상의 양은 전문 업체를 통해서 수거해야 합니다.\n"
     ]
    },
    {
     "name": "stderr",
     "output_type": "stream",
     "text": [
      " 28%|███████████▋                             | 37/130 [05:58<14:54,  9.62s/it]The attention mask and the pad token id were not set. As a consequence, you may observe unexpected behavior. Please pass your input's `attention_mask` to obtain reliable results.\n",
      "Setting `pad_token_id` to `eos_token_id`:63998 for open-end generation.\n",
      "A decoder-only architecture is being used, but right-padding was detected! For correct generation results, please set `padding_side='left'` when initializing the tokenizer.\n"
     ]
    },
    {
     "name": "stdout",
     "output_type": "stream",
     "text": [
      "도배지에 생긴 얼룩을 지우는 방법은 도배지의 종류에 따라 달라질 수 있습니다.   1. 종이 도배지에 얼룩이 난 경우: 식빵에 치약이나 주방세제를 조금 묻혀 얼룩진 부위를 문지르고, 물기를 짠 걸레로 얼룩을 닦아주고 마지막으로 건조시키면 됩니다. 만약 얼룩이 지워지지 않는다면, 물에 섞은 베이킹소다 반죽을 활용해볼 수 있습니다.  2. 실크 도배지에 생긴 얼룩이라면: 주방세제를 물과 함께 적당히 섞은 후 걸레에 묻혀 얼룩이 난 도배지를 닦아내야 합니다.   얼룩이 사라지지 않는다면, 해당 부분을 교체하는 게 좋습니다.\n"
     ]
    },
    {
     "name": "stderr",
     "output_type": "stream",
     "text": [
      " 29%|███████████▉                             | 38/130 [06:05<13:39,  8.90s/it]The attention mask and the pad token id were not set. As a consequence, you may observe unexpected behavior. Please pass your input's `attention_mask` to obtain reliable results.\n",
      "Setting `pad_token_id` to `eos_token_id`:63998 for open-end generation.\n",
      "A decoder-only architecture is being used, but right-padding was detected! For correct generation results, please set `padding_side='left'` when initializing the tokenizer.\n"
     ]
    },
    {
     "name": "stdout",
     "output_type": "stream",
     "text": [
      "새집증후군은 새솔 지은 집에 입주했을 때 이전에 없던 이상 증상이 신체에 나타나는 것을 통칭하며, 휘발성 화학물질에 의해 발생합니다. 대표적인 물질은 포름알데히드입니다. 포름알데히드는 주로 방부제, 접착제의 원료로 사용됩니다.\n"
     ]
    },
    {
     "name": "stderr",
     "output_type": "stream",
     "text": [
      " 30%|████████████▎                            | 39/130 [06:09<11:16,  7.43s/it]The attention mask and the pad token id were not set. As a consequence, you may observe unexpected behavior. Please pass your input's `attention_mask` to obtain reliable results.\n",
      "Setting `pad_token_id` to `eos_token_id`:63998 for open-end generation.\n",
      "A decoder-only architecture is being used, but right-padding was detected! For correct generation results, please set `padding_side='left'` when initializing the tokenizer.\n"
     ]
    },
    {
     "name": "stdout",
     "output_type": "stream",
     "text": [
      "방청도료 도장은 좁은 부분은 붓을 이용하고, 큰 작업은 스프레이를 활용합니다. 방청도료는 2~3회 도장을 원칙으로 하며, 방청 도료의 종류에 따라 시간을 두고 완전 건조 후 페인트 합니다.\n"
     ]
    },
    {
     "name": "stderr",
     "output_type": "stream",
     "text": [
      " 31%|████████████▌                            | 40/130 [06:12<08:55,  5.95s/it]The attention mask and the pad token id were not set. As a consequence, you may observe unexpected behavior. Please pass your input's `attention_mask` to obtain reliable results.\n",
      "Setting `pad_token_id` to `eos_token_id`:63998 for open-end generation.\n",
      "A decoder-only architecture is being used, but right-padding was detected! For correct generation results, please set `padding_side='left'` when initializing the tokenizer.\n"
     ]
    },
    {
     "name": "stdout",
     "output_type": "stream",
     "text": [
      "실내 식물을 가꾸려면 자연조명이 있는 곳에 맞는 식물, 공기 정화식물, 그리고 효과적인 관리를 위한 식물을 고려하세요.\n"
     ]
    },
    {
     "name": "stderr",
     "output_type": "stream",
     "text": [
      " 32%|████████████▉                            | 41/130 [06:20<09:47,  6.60s/it]The attention mask and the pad token id were not set. As a consequence, you may observe unexpected behavior. Please pass your input's `attention_mask` to obtain reliable results.\n",
      "Setting `pad_token_id` to `eos_token_id`:63998 for open-end generation.\n",
      "A decoder-only architecture is being used, but right-padding was detected! For correct generation results, please set `padding_side='left'` when initializing the tokenizer.\n"
     ]
    },
    {
     "name": "stdout",
     "output_type": "stream",
     "text": [
      "원목마루는 두께가 약 3mm 이상인 원목으로 만들어진 바닥재입니다. 가격은 평당 20~30 만원입니다. 열전도율이 높아 난방효율이 좋고 심미성과 쿠션감, 촉감이 우수하다는 장점이 있지만 습기에 취약하며 표면이 두꺼워 온돌에 시공하면 갈라질 위험이 있습니다. 롱브릭타일은 단열, 습도조절과 같은 효과가 없으며 타일은 벽돌보다 두께가 얇아 깨질 수 있다는 점이 단점입니다.\n"
     ]
    },
    {
     "name": "stderr",
     "output_type": "stream",
     "text": [
      " 32%|█████████████▏                           | 42/130 [06:41<15:58, 10.90s/it]The attention mask and the pad token id were not set. As a consequence, you may observe unexpected behavior. Please pass your input's `attention_mask` to obtain reliable results.\n",
      "Setting `pad_token_id` to `eos_token_id`:63998 for open-end generation.\n",
      "A decoder-only architecture is being used, but right-padding was detected! For correct generation results, please set `padding_side='left'` when initializing the tokenizer.\n"
     ]
    },
    {
     "name": "stdout",
     "output_type": "stream",
     "text": [
      "침실을 아늑하게 만들기 위해서는 다양한 방법이 있지만, 부드러운 조명, 포근한 이불, 그리고 나무 가구를 활용하는 것이 좋은 방법입니다. 또한 침실에는 개인적인 취향이 반영될 수 있는 작은 소품과 감각적인 조명을 활용하여 포인트를 주는 것도 효과적입니다. 예를 들어, 식물을 배치하거나 개인이 선호하는 색상의 소품을 활용하는 것으로도 아늑한 분위기를 조성할 수 있습니다. 또한 드레스룸이나 수납 공간을 충분히 마련하여 침실을 깔끔하게 정리하는 것도 중요합니다. 아이가 놀기 편안한 공간을 만들기 위해서는 내구성이 좋고 청소가 쉬운 가구를 선택하는 것이 중요합니다. 또한 안전을 위해 어린이용 매트나 안전가드도 고려해보세요. 세탁이 가능한 러그나 미끄러짐 방지가 튼튼한 바닥재도 좋은 선택지입니다. 또한 수납공간을 충분히 확보하여 아이의 장난감과 물품을 깔끔하게 보관할 수 있도록 하는 것이 좋습니다. 마지막으로 주변에 예쁜 식물을 두어 아이들의 호기심을 자극하고 공기를 맑게 해주는 역할을 할 수도 있습니다.\n"
     ]
    },
    {
     "name": "stderr",
     "output_type": "stream",
     "text": [
      " 33%|█████████████▌                           | 43/130 [06:49<14:48, 10.22s/it]The attention mask and the pad token id were not set. As a consequence, you may observe unexpected behavior. Please pass your input's `attention_mask` to obtain reliable results.\n",
      "Setting `pad_token_id` to `eos_token_id`:63998 for open-end generation.\n",
      "A decoder-only architecture is being used, but right-padding was detected! For correct generation results, please set `padding_side='left'` when initializing the tokenizer.\n"
     ]
    },
    {
     "name": "stdout",
     "output_type": "stream",
     "text": [
      "컬러매치를 위해서는 대비 컬러와 조화 컬러를 활용하는 것이 중요합니다. 주요 색상과 보조 색상을 조합하여 공간의 분위기를 조절하고, 색상의 밝고 어두운 정도를 고려하여 조화로운 매치를 만들어야 합니다. 또한, 컬러매치를 위해서는 공간의 크기와 목적, 채광, 가구의 색상과 재질 등을 모두 고려해야 합니다. 이러한 다양한 요소들을 고려하여 조화로운 컬러매치를 연출할 수 있습니다.\n"
     ]
    },
    {
     "name": "stderr",
     "output_type": "stream",
     "text": [
      " 34%|█████████████▉                           | 44/130 [07:16<21:30, 15.00s/it]The attention mask and the pad token id were not set. As a consequence, you may observe unexpected behavior. Please pass your input's `attention_mask` to obtain reliable results.\n",
      "Setting `pad_token_id` to `eos_token_id`:63998 for open-end generation.\n",
      "A decoder-only architecture is being used, but right-padding was detected! For correct generation results, please set `padding_side='left'` when initializing the tokenizer.\n"
     ]
    },
    {
     "name": "stdout",
     "output_type": "stream",
     "text": [
      "그라스울 보온판은 유리섬유에 폴리우레탄 필름으로 래핑하여 만들어진 건축용 단열흠음재입니다. 이 제품은 건축물의 단열 및 소음 저감에 적합하며, 호흡을 통해 인체 내에 들어가지는 않지만 매우 단단한 유리조직이므로 주의가 필요합니다. 또한, 수분흡수성이 강하고 열성능이 떨어지며 글라스울의 상태유지 온도는 350℃로, 화재 시 내화성이 약간 부족할 수 있습니다. 이 제품은 목구조에 주로 적용되며, 불연재료로 분류됩니다.\n"
     ]
    },
    {
     "name": "stderr",
     "output_type": "stream",
     "text": [
      " 35%|██████████████▏                          | 45/130 [07:28<20:02, 14.15s/it]The attention mask and the pad token id were not set. As a consequence, you may observe unexpected behavior. Please pass your input's `attention_mask` to obtain reliable results.\n",
      "Setting `pad_token_id` to `eos_token_id`:63998 for open-end generation.\n",
      "A decoder-only architecture is being used, but right-padding was detected! For correct generation results, please set `padding_side='left'` when initializing the tokenizer.\n"
     ]
    },
    {
     "name": "stdout",
     "output_type": "stream",
     "text": [
      "미네랄울 보온판의 장점은 다음과 같습니다.  1. 열전달 계수가 낮아 효율적인 단열성능을 제공합니다. 2. 얇은 두께로 시공이 간편하고 경량화되어 운반 및 설치가 용이합니다. 3. 내식성이 뛰어나서 오랜 시간 동안도 견고하게 유지됩니다. 4. 다양한 색상과 디자인으로 공간의 분위기를 풍부하게 표현할 수 있습니다.  미네랄울 보온판은 고온에도 안정적이며, 내열성과 내구성이 뛰어나기 때문에 오랜 시간 동안 사용해도 변형이나 손상이 적습니다. 또한, 비교적 저렴한 가격대로 구매할 수 있어 경제적인 이점이 있습니다.\n"
     ]
    },
    {
     "name": "stderr",
     "output_type": "stream",
     "text": [
      " 35%|██████████████▌                          | 46/130 [07:34<16:27, 11.75s/it]The attention mask and the pad token id were not set. As a consequence, you may observe unexpected behavior. Please pass your input's `attention_mask` to obtain reliable results.\n",
      "Setting `pad_token_id` to `eos_token_id`:63998 for open-end generation.\n",
      "A decoder-only architecture is being used, but right-padding was detected! For correct generation results, please set `padding_side='left'` when initializing the tokenizer.\n"
     ]
    },
    {
     "name": "stdout",
     "output_type": "stream",
     "text": [
      "일반적으로 도배 후 필름을 시공하는 것이 일반적입니다. 이유는 벽지 위에 붙은 필름의 부착력이 도배지로 인해 떨어질 수 있기 때문입니다. 미관상의 호불호가 갈리기 때문에 실리콘 마감을 하게 되는데, 필요에 따라 일정을 조절하여 순서를 바꿔서 진행할 수도 있습니다.그러나 일반적인 방법은 도배 후 필름 시공입니다.\n"
     ]
    },
    {
     "name": "stderr",
     "output_type": "stream",
     "text": [
      " 36%|██████████████▊                          | 47/130 [07:43<15:12, 10.99s/it]The attention mask and the pad token id were not set. As a consequence, you may observe unexpected behavior. Please pass your input's `attention_mask` to obtain reliable results.\n",
      "Setting `pad_token_id` to `eos_token_id`:63998 for open-end generation.\n",
      "A decoder-only architecture is being used, but right-padding was detected! For correct generation results, please set `padding_side='left'` when initializing the tokenizer.\n"
     ]
    },
    {
     "name": "stdout",
     "output_type": "stream",
     "text": [
      "벽지에 반점이 생겼을 때 유색반점 발생 시기가 벽지시공 후 1년 이내인 경우 벽지 아세톤 용제 함침 방법을 사용할 경우 유색 반점이 확대되거나 신규 이염이 발생할 우려가 있으므로 이염 방지제를 도포한 후 개선 벽지로 전면 재시공해야합니다.\n"
     ]
    },
    {
     "name": "stderr",
     "output_type": "stream",
     "text": [
      " 37%|███████████████▏                         | 48/130 [07:50<13:09,  9.62s/it]The attention mask and the pad token id were not set. As a consequence, you may observe unexpected behavior. Please pass your input's `attention_mask` to obtain reliable results.\n",
      "Setting `pad_token_id` to `eos_token_id`:63998 for open-end generation.\n",
      "A decoder-only architecture is being used, but right-padding was detected! For correct generation results, please set `padding_side='left'` when initializing the tokenizer.\n"
     ]
    },
    {
     "name": "stdout",
     "output_type": "stream",
     "text": [
      "도배지 표면에 먼지나 연기(담배, 조리과정에서 발생하는 연기 등)가 축적되면 얼룩이 발생할 수 있습니다. 이러한 오염물질은 도배지 표면에 눈에 띄는 얼룩을 형성할 뿐만 아니라 도배지의 색상이 변하거나 표면이 더러워 보일 수 있습니다. 따라서 주기적인 청소 및 관리로 도배지의 오염을 방지하는 것이 중요합니다.\n"
     ]
    },
    {
     "name": "stderr",
     "output_type": "stream",
     "text": [
      " 38%|███████████████▍                         | 49/130 [08:03<14:23, 10.66s/it]The attention mask and the pad token id were not set. As a consequence, you may observe unexpected behavior. Please pass your input's `attention_mask` to obtain reliable results.\n",
      "Setting `pad_token_id` to `eos_token_id`:63998 for open-end generation.\n",
      "A decoder-only architecture is being used, but right-padding was detected! For correct generation results, please set `padding_side='left'` when initializing the tokenizer.\n"
     ]
    },
    {
     "name": "stdout",
     "output_type": "stream",
     "text": [
      "방청페인트의 시공방법은 다음과 같습니다. 1. 피도면 정리: 방청페인트를 도장하기 전에 페인트를 도장할 표면을 청소하고 평탄하게 다듬어 줍니다. 먼지나 오염물을 제거하고, 필요하다면 균열이나 결점을 보수합니다. 2. 방청도료 도장: 표면을 광택이 없는 상태로 만들고 나서 첫 번째 층의 방청도료를 도장합니다. 방청도료는 스프레이를 사용하여 균일하게 도포해야 하며, 각 층이 건조한 후에 다음 층의 방청도료가 도장됩니다. 3. 상도작업: 방청도료가 완전히 건조한 후에 마지막으로 상도작업을 수행합니다. 이는 페인트의 내구성과 광택을 높이기 위한 작업으로, 페인트의 표면을 매끈하고 광택있게 마무리해 줍니다.\n"
     ]
    },
    {
     "name": "stderr",
     "output_type": "stream",
     "text": [
      " 38%|███████████████▊                         | 50/130 [08:11<13:23, 10.05s/it]The attention mask and the pad token id were not set. As a consequence, you may observe unexpected behavior. Please pass your input's `attention_mask` to obtain reliable results.\n",
      "Setting `pad_token_id` to `eos_token_id`:63998 for open-end generation.\n",
      "A decoder-only architecture is being used, but right-padding was detected! For correct generation results, please set `padding_side='left'` when initializing the tokenizer.\n"
     ]
    },
    {
     "name": "stdout",
     "output_type": "stream",
     "text": [
      "유성발수제의 장점은 소재에 물이 침투하는 것을 근본적으로 차단하여 동결, 염에 의한 손상, 화학적 파괴, 생물에 의한 부식 등을 막아준다는 것입니다. 이러한 특성으로 인해 건물의 내구성을 향상시키고 장기적으로 유지보수 비용을 절감하는 효과를 기대할 수 있습니다. 또한, 유성발수제는 건축물뿐만 아니라 도로, 다리, 터널, 지하시설 등 다양한 건설물에 적용될 수 있어 다재다능한 장점을 갖고 있습니다.\n"
     ]
    },
    {
     "name": "stderr",
     "output_type": "stream",
     "text": [
      " 39%|████████████████                         | 51/130 [08:17<11:36,  8.82s/it]The attention mask and the pad token id were not set. As a consequence, you may observe unexpected behavior. Please pass your input's `attention_mask` to obtain reliable results.\n",
      "Setting `pad_token_id` to `eos_token_id`:63998 for open-end generation.\n",
      "A decoder-only architecture is being used, but right-padding was detected! For correct generation results, please set `padding_side='left'` when initializing the tokenizer.\n"
     ]
    },
    {
     "name": "stdout",
     "output_type": "stream",
     "text": [
      "고습도 환경에서 몰딩 소재가 팽창하거나 수축하여 변형될 수 있습니다. 따라서, 습도가 높은 공간에서 몰딩을 사용할 때는 소재의 특성을 고려하여 적합한 소재를 선택하는 것이 중요합니다. 또한, 몰딩을 시공한 후에도 공간의 습도를 적절히 관리하여 변형을 최소화할 필요가 있습니다.\n"
     ]
    },
    {
     "name": "stderr",
     "output_type": "stream",
     "text": [
      " 40%|████████████████▍                        | 52/130 [08:38<16:04, 12.37s/it]The attention mask and the pad token id were not set. As a consequence, you may observe unexpected behavior. Please pass your input's `attention_mask` to obtain reliable results.\n",
      "Setting `pad_token_id` to `eos_token_id`:63998 for open-end generation.\n",
      "A decoder-only architecture is being used, but right-padding was detected! For correct generation results, please set `padding_side='left'` when initializing the tokenizer.\n"
     ]
    },
    {
     "name": "stdout",
     "output_type": "stream",
     "text": [
      "인테리어 소품을 선택하는 데 있어서 가장 중요한 것은 전체적인 컨셉에 부합하는지 여부입니다. 선택한 소품이 공간의 분위기와 테마에 어울리는지를 고려해야 합니다. 또한, 소품의 크기와 비율을 고려하여 조화로운 느낌을 주는 것이 중요합니다. 감각적인 디자인과 자연스러운 배치는 이를 더욱 아름답게 만들어 줄 것입니다. 더불어, 사용자의 취향과 삶의 방식을 반영하면 더욱 개성 있는 공간을 조성할 수 있을 것입니다. 주방을 활기차게 꾸미려면 몇 가지 추가적인 요소를 고려해보면 좋습니다. 밝은 컬러 스키마와 식물은 확실히 주방을 밝고 상쾌하게 만들어 줄 수 있지만, 더불어 개방형 수납도 고려해보시는 것이 좋습니다. 개방형 수납은 주방 내의 물건들을 공개적으로 보여주며, 주방 공간을 시각적으로 확장시켜주고 활기차게 만들어주는 효과가 있습니다. 또한, 주방 활기를 더해줄 수 있는 디자인적 요소로는 섬과 같은 중심적 요소도 고려해볼 가치가 있습니다.\n"
     ]
    },
    {
     "name": "stderr",
     "output_type": "stream",
     "text": [
      " 41%|████████████████▋                        | 53/130 [08:40<12:04,  9.41s/it]The attention mask and the pad token id were not set. As a consequence, you may observe unexpected behavior. Please pass your input's `attention_mask` to obtain reliable results.\n",
      "Setting `pad_token_id` to `eos_token_id`:63998 for open-end generation.\n",
      "A decoder-only architecture is being used, but right-padding was detected! For correct generation results, please set `padding_side='left'` when initializing the tokenizer.\n"
     ]
    },
    {
     "name": "stdout",
     "output_type": "stream",
     "text": [
      "초배지는 매우 얇기 얇아 페인트를 바로 칠하면 표면이 쭈글쭈글하게 울기에 초배지 위 페인팅은 부적할합니다.\n"
     ]
    },
    {
     "name": "stderr",
     "output_type": "stream",
     "text": [
      " 42%|█████████████████                        | 54/130 [08:46<10:41,  8.44s/it]The attention mask and the pad token id were not set. As a consequence, you may observe unexpected behavior. Please pass your input's `attention_mask` to obtain reliable results.\n",
      "Setting `pad_token_id` to `eos_token_id`:63998 for open-end generation.\n",
      "A decoder-only architecture is being used, but right-padding was detected! For correct generation results, please set `padding_side='left'` when initializing the tokenizer.\n"
     ]
    },
    {
     "name": "stdout",
     "output_type": "stream",
     "text": [
      "벽지에 반점이 생기는 원인은 대개 가소제의 변경으로 인한 것으로 추정됩니다. 환경 요인으로는 습기, 곰팡이, 먼지 등이 해당될 수 있으며, 건축 자재의 품질 차이나 시공 상태에 따른 결과로도 나타날 수 있습니다. 이러한 반점이 발생하는 이유에 대해서는 정확한 과학적인 연구 결과가 아직은 명확히 밝혀지지 않았습니다.\n"
     ]
    },
    {
     "name": "stderr",
     "output_type": "stream",
     "text": [
      " 42%|█████████████████▎                       | 55/130 [08:53<09:38,  7.71s/it]The attention mask and the pad token id were not set. As a consequence, you may observe unexpected behavior. Please pass your input's `attention_mask` to obtain reliable results.\n",
      "Setting `pad_token_id` to `eos_token_id`:63998 for open-end generation.\n",
      "A decoder-only architecture is being used, but right-padding was detected! For correct generation results, please set `padding_side='left'` when initializing the tokenizer.\n"
     ]
    },
    {
     "name": "stdout",
     "output_type": "stream",
     "text": [
      "석구조는 주로 석재로 쌓아 만든 건축물 구조를 가리킵니다. 이러한 구조는 주로 궁전, 불사, 탑비 등의 고건물에서 볼 수 있습니다. 하지만 석구조는 풍압력, 지진력, 그리고 기타 인위적인 횡력에 대해 극히 취약하기 때문에 고층 건물에는 부적합합니다. 따라서 고층 건물을 건설할 경우에는 보강구조로 설계해야 합니다.\n"
     ]
    },
    {
     "name": "stderr",
     "output_type": "stream",
     "text": [
      " 43%|█████████████████▋                       | 56/130 [08:57<08:15,  6.69s/it]The attention mask and the pad token id were not set. As a consequence, you may observe unexpected behavior. Please pass your input's `attention_mask` to obtain reliable results.\n",
      "Setting `pad_token_id` to `eos_token_id`:63998 for open-end generation.\n",
      "A decoder-only architecture is being used, but right-padding was detected! For correct generation results, please set `padding_side='left'` when initializing the tokenizer.\n"
     ]
    },
    {
     "name": "stdout",
     "output_type": "stream",
     "text": [
      "원목마루의 단점 중 하나는 비용이 비교적 높다는 점입니다. 또한, 원목은 두께감이 있어 열전도율이 낮아 온도 변화에 민감할 수 있고, 습기에 민감하여 변형될 수 있다는 점도 단점으로 꼽힙니다.\n"
     ]
    },
    {
     "name": "stderr",
     "output_type": "stream",
     "text": [
      " 44%|█████████████████▉                       | 57/130 [09:04<08:16,  6.80s/it]The attention mask and the pad token id were not set. As a consequence, you may observe unexpected behavior. Please pass your input's `attention_mask` to obtain reliable results.\n",
      "Setting `pad_token_id` to `eos_token_id`:63998 for open-end generation.\n",
      "A decoder-only architecture is being used, but right-padding was detected! For correct generation results, please set `padding_side='left'` when initializing the tokenizer.\n"
     ]
    },
    {
     "name": "stdout",
     "output_type": "stream",
     "text": [
      "마감재의 하자를 판정하는 방법은 몇 가지가 있습니다. 먼저, 설계도서와의 일치 여부를 확인해야 합니다. 마감재가 설계도에 맞게 적절하게 사용되었는지 확인하는 것이 중요합니다. 또한, 마감재의 기능상 문제와 미관적인 문제, 그리고 안전상의 문제 여부도 확인해야 합니다. 이러한 다양한 요소들을 고려하여 마감재의 하자를 신중하게 판단해야 합니다.\n"
     ]
    },
    {
     "name": "stderr",
     "output_type": "stream",
     "text": [
      " 45%|██████████████████▎                      | 58/130 [09:23<12:36, 10.51s/it]The attention mask and the pad token id were not set. As a consequence, you may observe unexpected behavior. Please pass your input's `attention_mask` to obtain reliable results.\n",
      "Setting `pad_token_id` to `eos_token_id`:63998 for open-end generation.\n",
      "A decoder-only architecture is being used, but right-padding was detected! For correct generation results, please set `padding_side='left'` when initializing the tokenizer.\n"
     ]
    },
    {
     "name": "stdout",
     "output_type": "stream",
     "text": [
      "강마루는 다양한 디자인과 탁월한 표면 내구성을 갖추고 있어 인기가 많습니다. 또한 유지 보수가 간편하고 열전도율이 높아 난방에 탁월한 효과를 보여주며, 소음을 최소화하는 등 다양한 장점이 있습니다.\n"
     ]
    },
    {
     "name": "stderr",
     "output_type": "stream",
     "text": [
      " 45%|██████████████████▌                      | 59/130 [09:37<13:47, 11.66s/it]The attention mask and the pad token id were not set. As a consequence, you may observe unexpected behavior. Please pass your input's `attention_mask` to obtain reliable results.\n",
      "Setting `pad_token_id` to `eos_token_id`:63998 for open-end generation.\n",
      "A decoder-only architecture is being used, but right-padding was detected! For correct generation results, please set `padding_side='left'` when initializing the tokenizer.\n"
     ]
    },
    {
     "name": "stdout",
     "output_type": "stream",
     "text": [
      "새집증후군을 해결하는데 있어서 가장 중요한 것은 다음과 같습니다:  1. 창문을 열어 자연적인 환기를 유도하는 것이 도움이 될 수 있습니다. 창문을 열어서 자연적으로 공기를 순환시키면 실내 공기를 정화하고 건강한 환경을 유지할 수 있습니다.  2. 수분을 적절히 유지하는 것도 중요합니다. 예를 들어, 에어컨이나 선풍기 등을 사용하여 습기를 제거하고 공기를 맑고 상쾌하게 유지하는 것이 좋습니다.  3. 새집증후군을 해결하기 위해 전문가의 도움을 받는 것도 좋은 방법입니다. 전문가에게 상담을 받아 적절한 조치를 취하는 것이 중요합니다.  이러한 방법들을 활용하여 새집증후군을 예방하고 쾌적한 환경을 유지하는 데 도움을 줄 수 있습니다.\n"
     ]
    },
    {
     "name": "stderr",
     "output_type": "stream",
     "text": [
      " 46%|██████████████████▉                      | 60/130 [09:52<14:31, 12.45s/it]The attention mask and the pad token id were not set. As a consequence, you may observe unexpected behavior. Please pass your input's `attention_mask` to obtain reliable results.\n",
      "Setting `pad_token_id` to `eos_token_id`:63998 for open-end generation.\n",
      "A decoder-only architecture is being used, but right-padding was detected! For correct generation results, please set `padding_side='left'` when initializing the tokenizer.\n"
     ]
    },
    {
     "name": "stdout",
     "output_type": "stream",
     "text": [
      "도배풀을 변기에 버리는 것이 안전한지 확인해야 할까요?\n"
     ]
    },
    {
     "name": "stderr",
     "output_type": "stream",
     "text": [
      " 47%|███████████████████▏                     | 61/130 [10:02<13:26, 11.69s/it]The attention mask and the pad token id were not set. As a consequence, you may observe unexpected behavior. Please pass your input's `attention_mask` to obtain reliable results.\n",
      "Setting `pad_token_id` to `eos_token_id`:63998 for open-end generation.\n",
      "A decoder-only architecture is being used, but right-padding was detected! For correct generation results, please set `padding_side='left'` when initializing the tokenizer.\n"
     ]
    },
    {
     "name": "stdout",
     "output_type": "stream",
     "text": [
      "통나무구조 방식은 원형 또는 각형의 내력벽으로 하고 나머지 바닥이나 지붕구조는 2x4경량 목구조와 동일한 구조로 구성된다. 이러한 구조는 통나무를 쌓아 벽체를 만들기 때문에 1층 높이에서 7~12cm의 침하가 장기적으로 발생할 수 있으며, 따라서 창문틀 등의 개구부에는 침하를 고려한 디테일을 만들어야 합니다. 통나무구조 방식은 기존의 목조 주택과는 다른 매력적인 디자인과 특성을 가지고 있어, 자연 속에서 편안하게 생활하길 원하는 사람들에게 인기가 있습니다.\n"
     ]
    },
    {
     "name": "stderr",
     "output_type": "stream",
     "text": [
      " 48%|███████████████████▌                     | 62/130 [10:17<14:27, 12.76s/it]The attention mask and the pad token id were not set. As a consequence, you may observe unexpected behavior. Please pass your input's `attention_mask` to obtain reliable results.\n",
      "Setting `pad_token_id` to `eos_token_id`:63998 for open-end generation.\n",
      "A decoder-only architecture is being used, but right-padding was detected! For correct generation results, please set `padding_side='left'` when initializing the tokenizer.\n"
     ]
    },
    {
     "name": "stdout",
     "output_type": "stream",
     "text": [
      "MSDS(Materal Safety Data Sheet, 물질안전보건자료)는 화학물질의 잠재적 위험에 대한 정보와 안전한 취급, 보관, 폐기에 대한 지침을 담은 문서입니다. 산업안전보건공단, 환경공단, 미국의 OSHA(산업안전보건국)과 같은 규제 기관에서 요구하는데, 작업장 내 화학물질에 대한 유해한 노출에서 근로자를 보호하기 위한 목적으로 사용됩니다. MSDS는 화학물질의 유해성, 위험성, 응급조치 요령, 취급 방법 등을 설명하며, 제조사는 산업안전보건법에 따라 반드시 작성하여야 합니다. 각 국가마다 MSDS 양식이 다를 수 있으나, 현재는 대부분의 국가가 동일한 양식과 체계의 MSDS를 사용하고 있습니다. 이를 통해 사업주는 화학물질에 대한 정보를 관리하고, 근로자는 직업병이나 재해사고로부터 예방할 수 있도록 도움을 받게 됩니다.\n"
     ]
    },
    {
     "name": "stderr",
     "output_type": "stream",
     "text": [
      " 48%|███████████████████▊                     | 63/130 [10:30<14:19, 12.83s/it]The attention mask and the pad token id were not set. As a consequence, you may observe unexpected behavior. Please pass your input's `attention_mask` to obtain reliable results.\n",
      "Setting `pad_token_id` to `eos_token_id`:63998 for open-end generation.\n",
      "A decoder-only architecture is being used, but right-padding was detected! For correct generation results, please set `padding_side='left'` when initializing the tokenizer.\n"
     ]
    },
    {
     "name": "stdout",
     "output_type": "stream",
     "text": [
      "페인트는 주로 내화학성이 뛰어나면서 동시에 쉽게 색상을 입힐 수 있는 유기염료를 사용하여 제작됩니다. 그래서 플라스틱이나 철판 등 국소적인 부분의 표면처리에 주로 사용됩니다. 특히 가구, 창틀, 문틀, 철제품 등을 색칠하거나 표면을 처리할 때 많이 활용됩니다. 더불어 내화학성이 높아서 내구성이 요구되는 부분에 활용됩니다.\n"
     ]
    },
    {
     "name": "stderr",
     "output_type": "stream",
     "text": [
      " 49%|████████████████████▏                    | 64/130 [10:42<13:55, 12.66s/it]The attention mask and the pad token id were not set. As a consequence, you may observe unexpected behavior. Please pass your input's `attention_mask` to obtain reliable results.\n",
      "Setting `pad_token_id` to `eos_token_id`:63998 for open-end generation.\n",
      "A decoder-only architecture is being used, but right-padding was detected! For correct generation results, please set `padding_side='left'` when initializing the tokenizer.\n"
     ]
    },
    {
     "name": "stdout",
     "output_type": "stream",
     "text": [
      "라돈을 측정하기 위해서는 일반적으로 다음과 같은 방법을 활용할 수 있습니다:  1. 스탠드나 책장 등에서 펜던트 라이트를 사용하여 천장이나 바닥에 맞는 위치를 파악합니다.  2. 스탠드나 책장 위에 펜던트 라이트를 놓아서 시각적으로 위치를 확인합니다.  3. 경험이 있는 전문가나 컨설턴트에게 상담을 받아 정확한 위치를 파악하는 것도 도움이 될 수 있습니다.  4. 위치를 파악한 후에는 전문가와 상담하여 적절한 대책을 마련하는 것이 좋습니다.  이러한 방법들을 활용하여 라돈을 측정하고 조치를 취하는 것이 안전한 환경을 유지하는 데 도움이 될 것입니다.\n"
     ]
    },
    {
     "name": "stderr",
     "output_type": "stream",
     "text": [
      " 50%|████████████████████▌                    | 65/130 [10:54<13:19, 12.30s/it]The attention mask and the pad token id were not set. As a consequence, you may observe unexpected behavior. Please pass your input's `attention_mask` to obtain reliable results.\n",
      "Setting `pad_token_id` to `eos_token_id`:63998 for open-end generation.\n",
      "A decoder-only architecture is being used, but right-padding was detected! For correct generation results, please set `padding_side='left'` when initializing the tokenizer.\n"
     ]
    },
    {
     "name": "stdout",
     "output_type": "stream",
     "text": [
      "새집증후군을 예방하는 방법은 목재 가구나 건축자재 등에 사용된 화학물질을 최소화하는 것이 중요합니다. 포르말린이 사용되지 않은 목재 가구를 선택하고, 휘발성 유기화합물을 방출하는 방향제 및 화학물질 함유 제품을 사용하지 않도록 주의해야 합니다.  또한 실내 흡연을 피하고, 공기 청정식물을 키우며, 실내 환기를 자주 시키는 것도 중요한 예방 방법입니다. 공기 청정기를 사용하여 공기 중의 유해 물질을 제거하는 것도 도움이 될 수 있습니다. 또한 주거 공간이나 사무실의 습도를 적정하게 유지하고 정기적으로 청소를 하면 더욱 효과적일 것입니다.\n"
     ]
    },
    {
     "name": "stderr",
     "output_type": "stream",
     "text": [
      " 51%|████████████████████▊                    | 66/130 [11:00<11:14, 10.55s/it]The attention mask and the pad token id were not set. As a consequence, you may observe unexpected behavior. Please pass your input's `attention_mask` to obtain reliable results.\n",
      "Setting `pad_token_id` to `eos_token_id`:63998 for open-end generation.\n",
      "A decoder-only architecture is being used, but right-padding was detected! For correct generation results, please set `padding_side='left'` when initializing the tokenizer.\n"
     ]
    },
    {
     "name": "stdout",
     "output_type": "stream",
     "text": [
      "질석벽지는 운모계 광석을 1,000도 정도로 가열하여 나온 결정 조각을 종이 위에 뿌려 접착한 벽지로, 질감이 뛰어나 아트월, 현관 입구 미김 용도로 많이 사용됩니다. 이러한 벽지는 단열과 결로방지가 탁월하며 고급스러운 질감이 특징이지만, 가격이 비싸고 시공 및 유지관리가 어렵다는 점이 단점으로 언급됩니다.\n"
     ]
    },
    {
     "name": "stderr",
     "output_type": "stream",
     "text": [
      " 52%|█████████████████████▏                   | 67/130 [11:01<08:11,  7.80s/it]The attention mask and the pad token id were not set. As a consequence, you may observe unexpected behavior. Please pass your input's `attention_mask` to obtain reliable results.\n",
      "Setting `pad_token_id` to `eos_token_id`:63998 for open-end generation.\n",
      "A decoder-only architecture is being used, but right-padding was detected! For correct generation results, please set `padding_side='left'` when initializing the tokenizer.\n"
     ]
    },
    {
     "name": "stdout",
     "output_type": "stream",
     "text": [
      "도배지를 붙인 석고보드가 이동하면서 꼬임이 발생할 수 있습니다.\n"
     ]
    },
    {
     "name": "stderr",
     "output_type": "stream",
     "text": [
      " 52%|█████████████████████▍                   | 68/130 [11:24<12:37, 12.21s/it]The attention mask and the pad token id were not set. As a consequence, you may observe unexpected behavior. Please pass your input's `attention_mask` to obtain reliable results.\n",
      "Setting `pad_token_id` to `eos_token_id`:63998 for open-end generation.\n",
      "A decoder-only architecture is being used, but right-padding was detected! For correct generation results, please set `padding_side='left'` when initializing the tokenizer.\n"
     ]
    },
    {
     "name": "stdout",
     "output_type": "stream",
     "text": [
      "폴리에스테르 흡성 단열재는 폴리에스테르 섬유를 적층하여 열 융착한 단열재로 다양한 가공방법에 따라 일반형, 가공형, 타일형 등이 있습니다. 이 제품은 환경표지인증(한국환경산업기술원), 친환경건축자재(한국공기청정협회), 우수재활용제품(GR인증) 등의 인증을 받았습니다. 폴리에스테르 흡음 단열재는 물을 흡수할 때 결합력과 인장강도가 강하여 배수가 잘 되고 뭉침(떡짐) 현상이 발생하지 않습니다. 또한, 형태가 지속 유지되어 열전도율, 흡음 특성 등에 변화가 없으며, 자체 수분율이 0에 가까우며 빠른 시간 내에 건조되는 특징을 가지고 있습니다. 또한, 결합력이 강하여 대기오염에 의한 섬유질의 비산이 발생하지 않으며, 재활용 및 소각이 용이합니다. 다만, 폴리에스터 재질 특성상 표면초기 상태는 양호하지만 박리(하나의 재료가 다른 재료와의 경계면에서 떨어져 나감)가 발생하면 복원이 불가능하며, 부착면 상태가 불량하면 오염 현상이 발생할 수 있습니다. 주로 철근콘크리트 구조에 적용되며, 가연성재료이므로 난연성이 필요한 경우에는 추가적인 방염 처리가 필요합니다.\n"
     ]
    },
    {
     "name": "stderr",
     "output_type": "stream",
     "text": [
      " 53%|█████████████████████▊                   | 69/130 [11:35<11:57, 11.76s/it]The attention mask and the pad token id were not set. As a consequence, you may observe unexpected behavior. Please pass your input's `attention_mask` to obtain reliable results.\n",
      "Setting `pad_token_id` to `eos_token_id`:63998 for open-end generation.\n",
      "A decoder-only architecture is being used, but right-padding was detected! For correct generation results, please set `padding_side='left'` when initializing the tokenizer.\n"
     ]
    },
    {
     "name": "stdout",
     "output_type": "stream",
     "text": [
      "도배 후 도배지가 완전히 건조되기 전까지는 올바른 접착이 이루어지지 않을 수 있습니다. 제조사 권장 건조시간(보통 1주일) 동안 기다려야 하며, 이 기간 동안에는 온도와 습도를 적정하게 유지해야 합니다. 만약 일주일이 지나도 완전히 건조되지 않는다면 시공사에 연락하여 전문가의 진단을 받아야 합니다.\n"
     ]
    },
    {
     "name": "stderr",
     "output_type": "stream",
     "text": [
      " 54%|██████████████████████                   | 70/130 [11:43<10:42, 10.71s/it]The attention mask and the pad token id were not set. As a consequence, you may observe unexpected behavior. Please pass your input's `attention_mask` to obtain reliable results.\n",
      "Setting `pad_token_id` to `eos_token_id`:63998 for open-end generation.\n",
      "A decoder-only architecture is being used, but right-padding was detected! For correct generation results, please set `padding_side='left'` when initializing the tokenizer.\n"
     ]
    },
    {
     "name": "stdout",
     "output_type": "stream",
     "text": [
      "내단열 시공의 단점은 외단열 시공과 비교하여 열교로 인한 결로현상 발생 확률이 높아지고, 또한 내단열재의 두께만큼 실내 유효면적이 줄어든다는 것입니다. 실내 유효면적의 감소는 공간 활용에 제약을 줄 수 있으며, 결로현상은 건물 내부에서 습기 문제를 야기할 수 있어 건물 내부 환경을 유지하는 데 어려움을 초래할 수 있습니다.\n"
     ]
    },
    {
     "name": "stderr",
     "output_type": "stream",
     "text": [
      " 55%|██████████████████████▍                  | 71/130 [12:03<13:19, 13.55s/it]The attention mask and the pad token id were not set. As a consequence, you may observe unexpected behavior. Please pass your input's `attention_mask` to obtain reliable results.\n",
      "Setting `pad_token_id` to `eos_token_id`:63998 for open-end generation.\n",
      "A decoder-only architecture is being used, but right-padding was detected! For correct generation results, please set `padding_side='left'` when initializing the tokenizer.\n"
     ]
    },
    {
     "name": "stdout",
     "output_type": "stream",
     "text": [
      "도배지가 찢어진 하자를 터짐 하자라고 합니다. 터짐 하자가 생기는 원인과 책임소재 그리고 해결 방법에 대해 설명드리겠습니다.  1. 기존 실크 벽지의 불완전 제거 터짐 현상이 발생하는 원인 중 하나로, 기존 실크 벽지를 충분히 제거하지 않은 경우가 있습니다. 이는 시공자의 부실 설치나 잘못된 공구 및 재료 사용으로 인해 발생할 수 있습니다.  2. 절단 부위 과소 또 다른 원인으로는 도배지의 절단 부위가 구조물에 비해 과소하게 절단되어 장력을 이기지 못하고 찢어질 수 있는 경우가 있다. 이 경우도 시공자의 책임으로 귀속될 수 있습니다.    3. 불량 도배지 사용 도배지 자체의 품질이 좋지 않거나 불량한 경우에는 내구성이 약해 찢어질 수 있습니다. 이 경우에도 시공자가 책임을 집니다.    터짐 하자의 경우, 안전을 위해 전문가의 의견을 받아 문제를 신속히 해결하는 것이 중요합니다.\n"
     ]
    },
    {
     "name": "stderr",
     "output_type": "stream",
     "text": [
      " 55%|██████████████████████▋                  | 72/130 [12:08<10:37, 11.00s/it]The attention mask and the pad token id were not set. As a consequence, you may observe unexpected behavior. Please pass your input's `attention_mask` to obtain reliable results.\n",
      "Setting `pad_token_id` to `eos_token_id`:63998 for open-end generation.\n",
      "A decoder-only architecture is being used, but right-padding was detected! For correct generation results, please set `padding_side='left'` when initializing the tokenizer.\n"
     ]
    },
    {
     "name": "stdout",
     "output_type": "stream",
     "text": [
      "면진장치는 건물의 지반으로부터 오는 진동 에너지를 흡수하여 건물에 전달되는 진동을 최소화해 주는 진동 격리장치입니다. 이를 통해 건물 내부의 진동을 줄이고 안정성을 유지하는 데 도움을 줍니다.\n"
     ]
    },
    {
     "name": "stderr",
     "output_type": "stream",
     "text": [
      " 56%|███████████████████████                  | 73/130 [12:14<08:59,  9.47s/it]The attention mask and the pad token id were not set. As a consequence, you may observe unexpected behavior. Please pass your input's `attention_mask` to obtain reliable results.\n",
      "Setting `pad_token_id` to `eos_token_id`:63998 for open-end generation.\n",
      "A decoder-only architecture is being used, but right-padding was detected! For correct generation results, please set `padding_side='left'` when initializing the tokenizer.\n"
     ]
    },
    {
     "name": "stdout",
     "output_type": "stream",
     "text": [
      "페인트 상도재는 최종 마감으로 칠하는 페인트로, 영어로는 Top Coating이라고 합니다. 상도재는 하도재와 주도재의 제품을 보호하는 역할을 담당하며, 외부 표면에 노출될 때의 열 및 기후에 강하며 내구성이 높은 특징을 가지고 있습니다. 이러한 장점 때문에 가격이 다소 비쌉니다.\n"
     ]
    },
    {
     "name": "stderr",
     "output_type": "stream",
     "text": [
      " 57%|███████████████████████▎                 | 74/130 [12:33<11:35, 12.41s/it]The attention mask and the pad token id were not set. As a consequence, you may observe unexpected behavior. Please pass your input's `attention_mask` to obtain reliable results.\n",
      "Setting `pad_token_id` to `eos_token_id`:63998 for open-end generation.\n",
      "A decoder-only architecture is being used, but right-padding was detected! For correct generation results, please set `padding_side='left'` when initializing the tokenizer.\n"
     ]
    },
    {
     "name": "stdout",
     "output_type": "stream",
     "text": [
      "경질우레탄 폼은 폴리소시아노레이트(Polyisocyanurate, PIR)를 단열소재로 사용하여 기존 폴리우레탄(Polyurethane, PUR)의 장점을 유지하면서 자기 소화성, 내열성, 저연성 등이 개선된 특징을 가지고 있습니다. 이러한 특성으로 인해 경질우레탄 폼은 작은 두께로도 건축물의 에너지 절약 설계를 충족하며 열전도를 완벽하게 차단합니다.  또한, 이 보온판은 난연성 재료이나 난연3급에 대한 시험성적서를 제공하지는 않지만, 준불연 시험성능에 만족하는 준불연 경질우레탄 폼 또한 개발되었습니다. 이러한 제품은 주로 철근콘크리트 구조에 적용되며, 난연성과 방음성이 뛰어나고 방습층 없이도 해결 가능합니다.   시공 시에는 다른 단열재에 비해 절단이 어렵고, 시공방식에 따라 단열성능이 달라질 수 있으나, 이러한 단점에 비해 경질우레탄 폼의 우수한 성능과 탁월한 차습성, 에너지 효율성은 건축 구조물에 매우 유용합니다.\n"
     ]
    },
    {
     "name": "stderr",
     "output_type": "stream",
     "text": [
      " 58%|███████████████████████▋                 | 75/130 [12:38<09:19, 10.16s/it]The attention mask and the pad token id were not set. As a consequence, you may observe unexpected behavior. Please pass your input's `attention_mask` to obtain reliable results.\n",
      "Setting `pad_token_id` to `eos_token_id`:63998 for open-end generation.\n",
      "A decoder-only architecture is being used, but right-padding was detected! For correct generation results, please set `padding_side='left'` when initializing the tokenizer.\n"
     ]
    },
    {
     "name": "stdout",
     "output_type": "stream",
     "text": [
      "상도작업은 건조된 방청도료 위에 원하는 컬러의 에나멜이나 조합페인트를 바르는 작업입니다. 이를 통해 바닥이나 벽면에 보다 세련된 마무리 효과를 낼 수 있습니다.\n"
     ]
    },
    {
     "name": "stderr",
     "output_type": "stream",
     "text": [
      " 58%|███████████████████████▉                 | 76/130 [12:48<09:00, 10.00s/it]The attention mask and the pad token id were not set. As a consequence, you may observe unexpected behavior. Please pass your input's `attention_mask` to obtain reliable results.\n",
      "Setting `pad_token_id` to `eos_token_id`:63998 for open-end generation.\n",
      "A decoder-only architecture is being used, but right-padding was detected! For correct generation results, please set `padding_side='left'` when initializing the tokenizer.\n"
     ]
    },
    {
     "name": "stdout",
     "output_type": "stream",
     "text": [
      "도배지 울음이란 도배지가 평평하지 않고 국소적으로 볼록하게 튀어나오는 현상을 의미합니다. 도배지 끝 부분에서 발생하는 들뜸하자와 달리 울음 하자는 도배지 면 부분에 발생합니다. 1. 건조시간 부족 원인 : 도배 후 완전 건조되기 전까지 울음이 발생할 수 있습니다. 책임소재 : 없음 해결 방법 : 제조사 권장 건조시간(일반적으로 일주일)동안 기다려주세요. 건조기간 동안에는 온도와 습도에 유의해야 합니다. 일주일이 이후에도 울음이 있을 시 시공사에 연락해서 진단받아야 합니다.\n"
     ]
    },
    {
     "name": "stderr",
     "output_type": "stream",
     "text": [
      " 59%|████████████████████████▎                | 77/130 [12:53<07:36,  8.61s/it]The attention mask and the pad token id were not set. As a consequence, you may observe unexpected behavior. Please pass your input's `attention_mask` to obtain reliable results.\n",
      "Setting `pad_token_id` to `eos_token_id`:63998 for open-end generation.\n",
      "A decoder-only architecture is being used, but right-padding was detected! For correct generation results, please set `padding_side='left'` when initializing the tokenizer.\n"
     ]
    },
    {
     "name": "stdout",
     "output_type": "stream",
     "text": [
      "실내공기의 측정시료는 사무실 안에서 공기질이 가장 나쁠 것으로 예상되는 2곳 이상에서 채취하고, 측정은 사무실 바닥면으로부터 0.9미터 이상 1.5미터 이하의 높이에서 합니다. 다만, 사무실 면적이 500제곱미터를 초과하는 경우에는 500제곱미터마다 1곳씩 추가해야 합니다.\n"
     ]
    },
    {
     "name": "stderr",
     "output_type": "stream",
     "text": [
      " 60%|████████████████████████▌                | 78/130 [13:03<07:53,  9.11s/it]The attention mask and the pad token id were not set. As a consequence, you may observe unexpected behavior. Please pass your input's `attention_mask` to obtain reliable results.\n",
      "Setting `pad_token_id` to `eos_token_id`:63998 for open-end generation.\n",
      "A decoder-only architecture is being used, but right-padding was detected! For correct generation results, please set `padding_side='left'` when initializing the tokenizer.\n"
     ]
    },
    {
     "name": "stdout",
     "output_type": "stream",
     "text": [
      "도배지에 생긴 얼룩을 지우는 방법은 다음과 같습니다.  1. 식빵에 치약이나 주방세제를 조금 묻혀 얼룩진 부위를 가볍게 문지르고, 물기를 짠 걸레로 얼룩을 닦아주세요.  2. 미지근한 물에 베이킹소다를 섞어 반죽을 만들어 사용하는 것도 도움이 될 수 있습니다.  3. 얼룩이 더욱 심각한 경우, 전문가의 도움을 받는 것도 좋은 방법입니다.\n"
     ]
    },
    {
     "name": "stderr",
     "output_type": "stream",
     "text": [
      " 61%|████████████████████████▉                | 79/130 [13:10<07:12,  8.49s/it]The attention mask and the pad token id were not set. As a consequence, you may observe unexpected behavior. Please pass your input's `attention_mask` to obtain reliable results.\n",
      "Setting `pad_token_id` to `eos_token_id`:63998 for open-end generation.\n",
      "A decoder-only architecture is being used, but right-padding was detected! For correct generation results, please set `padding_side='left'` when initializing the tokenizer.\n"
     ]
    },
    {
     "name": "stdout",
     "output_type": "stream",
     "text": [
      "대리석 타일은 대리석으로 만들어진 타일을 의미합니다. 가격은 평당 40~50만원입니다. 열전도율이 높아 난방비를 절감할 수 있으며 깔끔하고 실제보다 공간이 넓게 보이는 효과가 있다는 장점이 있지만 시공 난이도 높은 편이며 고가라는 단점이 있습니다.\n"
     ]
    },
    {
     "name": "stderr",
     "output_type": "stream",
     "text": [
      " 62%|█████████████████████████▏               | 80/130 [13:20<07:12,  8.65s/it]The attention mask and the pad token id were not set. As a consequence, you may observe unexpected behavior. Please pass your input's `attention_mask` to obtain reliable results.\n",
      "Setting `pad_token_id` to `eos_token_id`:63998 for open-end generation.\n",
      "A decoder-only architecture is being used, but right-padding was detected! For correct generation results, please set `padding_side='left'` when initializing the tokenizer.\n"
     ]
    },
    {
     "name": "stdout",
     "output_type": "stream",
     "text": [
      "외단열 시공은 내단열 시공에 비해 높은 시공 난이도와 전문 시공자 필요로 인해 시공비가 상대적으로 많이 듭니다. 또한 외단열 시공은 내부 공간에 비해 외부 공간에서 더 많은 열 전달로 인해 내부 온도의 조절이 어렵다는 단점이 있습니다.\n"
     ]
    },
    {
     "name": "stderr",
     "output_type": "stream",
     "text": [
      " 62%|█████████████████████████▌               | 81/130 [13:27<06:42,  8.21s/it]The attention mask and the pad token id were not set. As a consequence, you may observe unexpected behavior. Please pass your input's `attention_mask` to obtain reliable results.\n",
      "Setting `pad_token_id` to `eos_token_id`:63998 for open-end generation.\n",
      "A decoder-only architecture is being used, but right-padding was detected! For correct generation results, please set `padding_side='left'` when initializing the tokenizer.\n"
     ]
    },
    {
     "name": "stdout",
     "output_type": "stream",
     "text": [
      "스탠드 조명은 바다에 설치하는 조명으로 이동이 가능하다는 특징이 있어 필요에 따라 자유롭게 위치를 변경할 수 있으며 소품의 기능을 함께하는 조명입니다. 이동성이 좋고 디자인이 다양하다는 장점이 있지만 작은 공간에는 부적합하고 불안정하게 설치 시 파손위험이 있다는 단점이 있습니다.\n"
     ]
    },
    {
     "name": "stderr",
     "output_type": "stream",
     "text": [
      " 63%|█████████████████████████▊               | 82/130 [13:35<06:28,  8.08s/it]The attention mask and the pad token id were not set. As a consequence, you may observe unexpected behavior. Please pass your input's `attention_mask` to obtain reliable results.\n",
      "Setting `pad_token_id` to `eos_token_id`:63998 for open-end generation.\n",
      "A decoder-only architecture is being used, but right-padding was detected! For correct generation results, please set `padding_side='left'` when initializing the tokenizer.\n"
     ]
    },
    {
     "name": "stdout",
     "output_type": "stream",
     "text": [
      "실크벽지의 오염을 지우는 방법은 먼저 부드러운 천에 따뜻한 물을 조금 묻힌 후 얼룩을 가볍게 닦아보세요. 만약 얼룩이 지워지지 않는다면 중성세제나 알코올을 이용하여 얼룩을 제거할 수 있습니다. 하지만, 얼룩이 더욱 심각한 경우 실크벽지를 교체하거나 전문가의 도움을 받는 것이 좋습니다. 왜냐하면 실크벽지는 민감한 소재이기 때문에 무리하게 처리할 경우 손상을 입을 수 있기 때문입니다.\n"
     ]
    },
    {
     "name": "stderr",
     "output_type": "stream",
     "text": [
      " 64%|██████████████████████████▏              | 83/130 [13:42<06:15,  7.99s/it]The attention mask and the pad token id were not set. As a consequence, you may observe unexpected behavior. Please pass your input's `attention_mask` to obtain reliable results.\n",
      "Setting `pad_token_id` to `eos_token_id`:63998 for open-end generation.\n",
      "A decoder-only architecture is being used, but right-padding was detected! For correct generation results, please set `padding_side='left'` when initializing the tokenizer.\n"
     ]
    },
    {
     "name": "stdout",
     "output_type": "stream",
     "text": [
      "차음재는 음의 전파를 감쇠시키거나 차단하기 위해 사용되는 재료로, 주로 소리를 줄여주는 데 사용됩니다. 차음재는 소리의 전파를 차단하거나 줄이는 역할을 하므로, 건물 내부나 외부에서 발생하는 소음을 줄이고 쾌적한 환경을 조성하는 데 중요한 역할을 합니다. 따라서 건축물의 구조나 위치에 맞게 적절한 차음재를 선택하여 사용하는 것이 중요합니다.\n"
     ]
    },
    {
     "name": "stderr",
     "output_type": "stream",
     "text": [
      " 65%|██████████████████████████▍              | 84/130 [13:49<05:44,  7.48s/it]The attention mask and the pad token id were not set. As a consequence, you may observe unexpected behavior. Please pass your input's `attention_mask` to obtain reliable results.\n",
      "Setting `pad_token_id` to `eos_token_id`:63998 for open-end generation.\n",
      "A decoder-only architecture is being used, but right-padding was detected! For correct generation results, please set `padding_side='left'` when initializing the tokenizer.\n"
     ]
    },
    {
     "name": "stdout",
     "output_type": "stream",
     "text": [
      "라돈을 제외한 공동주택의 실내공기질 측정지점은 공동주택 실내공기질 측정시에는 기본적으로 100세대에서 3개 세대를 선정하여 시료를 채취합니다. 이때, 저층부, 중층부, 그리고 고층부 순으로 선택하여 채취합니다. 그리고 100세대가 증가할 때마다 1세대씩 추가하여 최대 20세대까지 시료를 채취하게 됩니다.\n"
     ]
    },
    {
     "name": "stderr",
     "output_type": "stream",
     "text": [
      " 65%|██████████████████████████▊              | 85/130 [13:57<05:45,  7.69s/it]The attention mask and the pad token id were not set. As a consequence, you may observe unexpected behavior. Please pass your input's `attention_mask` to obtain reliable results.\n",
      "Setting `pad_token_id` to `eos_token_id`:63998 for open-end generation.\n",
      "A decoder-only architecture is being used, but right-padding was detected! For correct generation results, please set `padding_side='left'` when initializing the tokenizer.\n"
     ]
    },
    {
     "name": "stdout",
     "output_type": "stream",
     "text": [
      "실크벽지의 오염을 지우는 방법은 먼저 부드러운 천에 따뜻한 물을 조금 묻힌 후 얼룩을 가볍게 닦아보세요. 만약 얼룩이 지워지지 않는다면 중성세제나 알코올을 이용하여 얼룩을 제거할 수 있습니다. 하지만, 얼룩이 더욱 심각한 경우 실크벽지를 교체하거나 전문가의 도움을 받는 것이 좋습니다. 왜냐하면 실크벽지는 민감한 소재이기 때문에 무리하게 처리할 경우 손상을 입을 수 있기 때문입니다.\n"
     ]
    },
    {
     "name": "stderr",
     "output_type": "stream",
     "text": [
      " 66%|███████████████████████████              | 86/130 [14:08<06:19,  8.63s/it]The attention mask and the pad token id were not set. As a consequence, you may observe unexpected behavior. Please pass your input's `attention_mask` to obtain reliable results.\n",
      "Setting `pad_token_id` to `eos_token_id`:63998 for open-end generation.\n",
      "A decoder-only architecture is being used, but right-padding was detected! For correct generation results, please set `padding_side='left'` when initializing the tokenizer.\n"
     ]
    },
    {
     "name": "stdout",
     "output_type": "stream",
     "text": [
      "페인트 처리방법은 남은 페인트의 양에 따른 다릅니다. 만약, 남은 페인트의 양이 적다면 신문이나 헌 옷에 적신 다음 종량제 봉투에 버리는 것이 가능합니다. 남은 페인트 양이 6ml이상 100kg 미만일 경우 페기물 수탁업체를 통해 처리해야 하며, 100kg 이상이라면 구청 환경과에 신고해야 합니다. 신고시 준비해야할 서류는 폐기물처리계획서, 폐기물분석결과서,폐기물수탁확인서 각 1통입니다. 만약 페인트가 재사용 가능한 양이라면 깨끗한 컨테이너에 담아서 보관하고, 장기간 보관 시에는 상판에 날짜와 페인트 종류를 표시하여 보관하는 것이 좋습니다.\n"
     ]
    },
    {
     "name": "stderr",
     "output_type": "stream",
     "text": [
      " 67%|███████████████████████████▍             | 87/130 [14:09<04:42,  6.57s/it]The attention mask and the pad token id were not set. As a consequence, you may observe unexpected behavior. Please pass your input's `attention_mask` to obtain reliable results.\n",
      "Setting `pad_token_id` to `eos_token_id`:63998 for open-end generation.\n",
      "A decoder-only architecture is being used, but right-padding was detected! For correct generation results, please set `padding_side='left'` when initializing the tokenizer.\n"
     ]
    },
    {
     "name": "stdout",
     "output_type": "stream",
     "text": [
      "건설은 건축과 토목의 총칭으로 보통 건물을 짓거나 만들거나 하는 일을 의미합니다.\n"
     ]
    },
    {
     "name": "stderr",
     "output_type": "stream",
     "text": [
      " 68%|███████████████████████████▊             | 88/130 [14:14<04:12,  6.02s/it]The attention mask and the pad token id were not set. As a consequence, you may observe unexpected behavior. Please pass your input's `attention_mask` to obtain reliable results.\n",
      "Setting `pad_token_id` to `eos_token_id`:63998 for open-end generation.\n",
      "A decoder-only architecture is being used, but right-padding was detected! For correct generation results, please set `padding_side='left'` when initializing the tokenizer.\n"
     ]
    },
    {
     "name": "stdout",
     "output_type": "stream",
     "text": [
      "제진구조란 지진이 발생했을 때 건물이 받게 되는 지진의 영향을 최소화하기 위해 설치된 시스템을 말합니다. 이러한 구조는 지진의 역학적 힘을 흡수하고 건물을 보호하여, 지진으로 인한 피해를 최소화하는 데 사용됩니다.\n"
     ]
    },
    {
     "name": "stderr",
     "output_type": "stream",
     "text": [
      " 68%|████████████████████████████             | 89/130 [14:17<03:31,  5.16s/it]The attention mask and the pad token id were not set. As a consequence, you may observe unexpected behavior. Please pass your input's `attention_mask` to obtain reliable results.\n",
      "Setting `pad_token_id` to `eos_token_id`:63998 for open-end generation.\n",
      "A decoder-only architecture is being used, but right-padding was detected! For correct generation results, please set `padding_side='left'` when initializing the tokenizer.\n"
     ]
    },
    {
     "name": "stdout",
     "output_type": "stream",
     "text": [
      "작은 공간을 활용하여 효과적인 홈오피스를 만드는 방법이 무엇인가요?\n"
     ]
    },
    {
     "name": "stderr",
     "output_type": "stream",
     "text": [
      " 69%|████████████████████████████▍            | 90/130 [14:22<03:22,  5.05s/it]The attention mask and the pad token id were not set. As a consequence, you may observe unexpected behavior. Please pass your input's `attention_mask` to obtain reliable results.\n",
      "Setting `pad_token_id` to `eos_token_id`:63998 for open-end generation.\n",
      "A decoder-only architecture is being used, but right-padding was detected! For correct generation results, please set `padding_side='left'` when initializing the tokenizer.\n"
     ]
    },
    {
     "name": "stdout",
     "output_type": "stream",
     "text": [
      "알루미늄징크는 가볍고 오리지널 징크보다 저렴하면서도 탁월한 내구성을 자랑하며, 부식과 변색에 대한 우려가 적습니다. 또한 다양한 색상과 디자인을 적용할 수 있어 시각적인 선택폭이 다양하며 오랫동안 유지할 수 있는 장점이 있습니다.\n"
     ]
    },
    {
     "name": "stderr",
     "output_type": "stream",
     "text": [
      " 70%|████████████████████████████▋            | 91/130 [14:26<03:07,  4.82s/it]The attention mask and the pad token id were not set. As a consequence, you may observe unexpected behavior. Please pass your input's `attention_mask` to obtain reliable results.\n",
      "Setting `pad_token_id` to `eos_token_id`:63998 for open-end generation.\n",
      "A decoder-only architecture is being used, but right-padding was detected! For correct generation results, please set `padding_side='left'` when initializing the tokenizer.\n"
     ]
    },
    {
     "name": "stdout",
     "output_type": "stream",
     "text": [
      "겨울철 도배 작업 시 온도가 일정하지 않을 경우 도배지가 제대로 부착되지 않고, 이로 인해 도배지가 찢어질 수 있습니다. 따라서 겨울 도배 작업시에는 온도를 10도 이상 유지하는 것이 중요합니다.\n"
     ]
    },
    {
     "name": "stderr",
     "output_type": "stream",
     "text": [
      " 71%|█████████████████████████████            | 92/130 [14:30<02:52,  4.54s/it]The attention mask and the pad token id were not set. As a consequence, you may observe unexpected behavior. Please pass your input's `attention_mask` to obtain reliable results.\n",
      "Setting `pad_token_id` to `eos_token_id`:63998 for open-end generation.\n",
      "A decoder-only architecture is being used, but right-padding was detected! For correct generation results, please set `padding_side='left'` when initializing the tokenizer.\n"
     ]
    },
    {
     "name": "stdout",
     "output_type": "stream",
     "text": [
      "철골구조는 화재 발생 시 내구성이 약해지며, 이는 건물의 붕괴로 이어질 수 있습니다. 이를 해결하기 위해 벽돌, 콘크리트 또는 석고보드와 같은 내화성 구조물을 둘러싸 화재에 의한 파손을 예방합니다.\n"
     ]
    },
    {
     "name": "stderr",
     "output_type": "stream",
     "text": [
      " 72%|█████████████████████████████▎           | 93/130 [14:36<03:04,  4.98s/it]The attention mask and the pad token id were not set. As a consequence, you may observe unexpected behavior. Please pass your input's `attention_mask` to obtain reliable results.\n",
      "Setting `pad_token_id` to `eos_token_id`:63998 for open-end generation.\n",
      "A decoder-only architecture is being used, but right-padding was detected! For correct generation results, please set `padding_side='left'` when initializing the tokenizer.\n"
     ]
    },
    {
     "name": "stdout",
     "output_type": "stream",
     "text": [
      "석구조는 주로 석재로 쌓아 만든 건축물 구조를 가리킵니다. 이러한 구조는 주로 궁전, 불사, 탑비 등의 고건물에서 볼 수 있습니다. 하지만 석구조는 풍압력, 지진력, 그리고 기타 인위적인 횡력에 대해 극히 취약하기 때문에 고층 건물에는 부적합합니다. 따라서 고층 건물을 건설할 경우에는 보강구조로 설계해야 합니다.\n"
     ]
    },
    {
     "name": "stderr",
     "output_type": "stream",
     "text": [
      " 72%|█████████████████████████████▋           | 94/130 [14:41<03:01,  5.04s/it]The attention mask and the pad token id were not set. As a consequence, you may observe unexpected behavior. Please pass your input's `attention_mask` to obtain reliable results.\n",
      "Setting `pad_token_id` to `eos_token_id`:63998 for open-end generation.\n",
      "A decoder-only architecture is being used, but right-padding was detected! For correct generation results, please set `padding_side='left'` when initializing the tokenizer.\n"
     ]
    },
    {
     "name": "stdout",
     "output_type": "stream",
     "text": [
      "포세린 타일의 단점 중 하나로는 시공 방법에 따라 하자 발생률이 높을 수 있다는 점이 있습니다. 또한, 오염에 취약하다는 단점도 있습니다. 도배시에는 시공사의 전문적인 기술과 꼼꼼한 관리가 필요하며, 오랜 시간 사용할 경우에도 적절한 관리가 필요합니다.\n"
     ]
    },
    {
     "name": "stderr",
     "output_type": "stream",
     "text": [
      " 73%|█████████████████████████████▉           | 95/130 [14:43<02:22,  4.08s/it]The attention mask and the pad token id were not set. As a consequence, you may observe unexpected behavior. Please pass your input's `attention_mask` to obtain reliable results.\n",
      "Setting `pad_token_id` to `eos_token_id`:63998 for open-end generation.\n",
      "A decoder-only architecture is being used, but right-padding was detected! For correct generation results, please set `padding_side='left'` when initializing the tokenizer.\n"
     ]
    },
    {
     "name": "stdout",
     "output_type": "stream",
     "text": [
      "욕실을 부드럽게 꾸미려면 연한 파스텔 컬러, 부드러운 조명, 그리고 자연적인 소재를 활용하세요.\n"
     ]
    },
    {
     "name": "stderr",
     "output_type": "stream",
     "text": [
      " 74%|██████████████████████████████▎          | 96/130 [14:49<02:36,  4.59s/it]The attention mask and the pad token id were not set. As a consequence, you may observe unexpected behavior. Please pass your input's `attention_mask` to obtain reliable results.\n",
      "Setting `pad_token_id` to `eos_token_id`:63998 for open-end generation.\n",
      "A decoder-only architecture is being used, but right-padding was detected! For correct generation results, please set `padding_side='left'` when initializing the tokenizer.\n"
     ]
    },
    {
     "name": "stdout",
     "output_type": "stream",
     "text": [
      "팬던트 라이트는 천장에 길게 늘어뜨린 전선을 통해 조명을 제공하는 조명기구를 말합니다. 이러한 조명은 다양한 디자인과 소재로 제공되어 다양한 실내 공간에 잘 어울리며, 분위기를 조성하는 데 사용됩니다. 그러나 청소가 어렵고 전구를 교체하는 것이 어려울 수 있다는 단점이 있습니다.\n"
     ]
    },
    {
     "name": "stderr",
     "output_type": "stream",
     "text": [
      " 75%|██████████████████████████████▌          | 97/130 [14:56<02:53,  5.27s/it]The attention mask and the pad token id were not set. As a consequence, you may observe unexpected behavior. Please pass your input's `attention_mask` to obtain reliable results.\n",
      "Setting `pad_token_id` to `eos_token_id`:63998 for open-end generation.\n",
      "A decoder-only architecture is being used, but right-padding was detected! For correct generation results, please set `padding_side='left'` when initializing the tokenizer.\n"
     ]
    },
    {
     "name": "stdout",
     "output_type": "stream",
     "text": [
      "속건형 유성 도료는 도장된 표면에 용제가 증발하여 유성계를 형성하고, 이를 통해 발수효과를 발휘하는 제품입니다. 이 제품은 도장 후 용제가 증발되면서 발수효과를 지속적으로 유지할 수 있어, 다양한 재료와 표면에 사용됩니다. 이는 특히 건축물 외벽 및 지붕 등 수분으로부터 보호할 필요가 있는 부분에 유용한 제품입니다.\n"
     ]
    },
    {
     "name": "stderr",
     "output_type": "stream",
     "text": [
      " 75%|██████████████████████████████▉          | 98/130 [15:03<03:06,  5.83s/it]The attention mask and the pad token id were not set. As a consequence, you may observe unexpected behavior. Please pass your input's `attention_mask` to obtain reliable results.\n",
      "Setting `pad_token_id` to `eos_token_id`:63998 for open-end generation.\n",
      "A decoder-only architecture is being used, but right-padding was detected! For correct generation results, please set `padding_side='left'` when initializing the tokenizer.\n"
     ]
    },
    {
     "name": "stdout",
     "output_type": "stream",
     "text": [
      "주방은 식탁이 있는 다이닝공간과 음식을 조리하는 조리대에 따라 추천하는 조명이 달라집니다. 틱탁에는 팬던트 조명을 달아 식사하는 사람들 간의 집중도를 높여주고 조리대는 눈에 피로가 없을 정도로 밝게해야 합니다. 적정조도는 조리공간은 200lux를 기준으로 150~300lux, 식탁은 100lux를 기준 60~150lux입니다.\n"
     ]
    },
    {
     "name": "stderr",
     "output_type": "stream",
     "text": [
      " 76%|███████████████████████████████▏         | 99/130 [15:16<04:05,  7.92s/it]The attention mask and the pad token id were not set. As a consequence, you may observe unexpected behavior. Please pass your input's `attention_mask` to obtain reliable results.\n",
      "Setting `pad_token_id` to `eos_token_id`:63998 for open-end generation.\n",
      "A decoder-only architecture is being used, but right-padding was detected! For correct generation results, please set `padding_side='left'` when initializing the tokenizer.\n"
     ]
    },
    {
     "name": "stdout",
     "output_type": "stream",
     "text": [
      "식물은 인테리어에 활용할 때 공간을 생기있게 만들어주고, 동시에 공기를 정화해주는 기능을 합니다. 이로써 자연스러운 분위기를 조성하며, 건강에도 도움을 줄 수 있습니다. 또한, 식물은 공간을 부드럽게 만들어주어 더욱 안락하고 편안한 분위기를 조성하는 데에 도움을 줍니다. 따라서 식물은 인테리어 디자인에 자연스러움과 아늑함을 더하고, 쾌적한 실내환경을 조성하는 데 큰 도움이 됩니다.\n"
     ]
    },
    {
     "name": "stderr",
     "output_type": "stream",
     "text": [
      " 77%|██████████████████████████████▊         | 100/130 [15:22<03:41,  7.37s/it]The attention mask and the pad token id were not set. As a consequence, you may observe unexpected behavior. Please pass your input's `attention_mask` to obtain reliable results.\n",
      "Setting `pad_token_id` to `eos_token_id`:63998 for open-end generation.\n",
      "A decoder-only architecture is being used, but right-padding was detected! For correct generation results, please set `padding_side='left'` when initializing the tokenizer.\n"
     ]
    },
    {
     "name": "stdout",
     "output_type": "stream",
     "text": [
      "철근콘크리트 구조는 콘크리트의 압축 강도를 살려내는 동시에 철근으로 인장 강도를 보완하여 구축된 구조체입니다. 일반적으로 도심에서 많이 사용되며 내구성, 내화 및 내진 성능이 우수합니다. 그러나 고층 건물에서는 아래층의 보나 기둥이 상당한 무게를 지탱해야 하므로 구조 요소의 단면이 커야 하는 문제가 있습니다.\n"
     ]
    },
    {
     "name": "stderr",
     "output_type": "stream",
     "text": [
      " 78%|███████████████████████████████         | 101/130 [15:30<03:38,  7.53s/it]The attention mask and the pad token id were not set. As a consequence, you may observe unexpected behavior. Please pass your input's `attention_mask` to obtain reliable results.\n",
      "Setting `pad_token_id` to `eos_token_id`:63998 for open-end generation.\n",
      "A decoder-only architecture is being used, but right-padding was detected! For correct generation results, please set `padding_side='left'` when initializing the tokenizer.\n"
     ]
    },
    {
     "name": "stdout",
     "output_type": "stream",
     "text": [
      "흡음재 중 공명형은 작은 구멍이나 틈의 공명을 이용하여 소리를 제어하는 재료를 말합니다. 주로 석면 시멘트판, 석고보드, 알루미늄판, 연질 섬유판, 합성수지판 등이 사용되며, 구멍 내부로 들어간 소리가 공진에 의해 소멸되는 구조로 특정 주파수 범위의 소리를 효과적으로 제어할 수 있습니다. 이러한 특성으로 인해 특정 주파수 범위에서 효과적으로 소리를 흡수해 소음을 감소시키는 역할을 합니다.\n"
     ]
    },
    {
     "name": "stderr",
     "output_type": "stream",
     "text": [
      " 78%|███████████████████████████████▍        | 102/130 [15:37<03:31,  7.56s/it]The attention mask and the pad token id were not set. As a consequence, you may observe unexpected behavior. Please pass your input's `attention_mask` to obtain reliable results.\n",
      "Setting `pad_token_id` to `eos_token_id`:63998 for open-end generation.\n",
      "A decoder-only architecture is being used, but right-padding was detected! For correct generation results, please set `padding_side='left'` when initializing the tokenizer.\n"
     ]
    },
    {
     "name": "stdout",
     "output_type": "stream",
     "text": [
      "결로가 발생하는 주된 원인은 높은 습도와 차가운 표면온도입니다. 물방울이 형성되고 이어서 발생하는 물기는 건물의 손상과 곰팡이 등을 유발할 수 있습니다. 그러므로 건물 내의 습도 및 온도를 관리하고 외부와 내부의 온도차를 줄이는 것이 중요합니다.\n"
     ]
    },
    {
     "name": "stderr",
     "output_type": "stream",
     "text": [
      " 79%|███████████████████████████████▋        | 103/130 [15:48<03:47,  8.42s/it]The attention mask and the pad token id were not set. As a consequence, you may observe unexpected behavior. Please pass your input's `attention_mask` to obtain reliable results.\n",
      "Setting `pad_token_id` to `eos_token_id`:63998 for open-end generation.\n",
      "A decoder-only architecture is being used, but right-padding was detected! For correct generation results, please set `padding_side='left'` when initializing the tokenizer.\n"
     ]
    },
    {
     "name": "stdout",
     "output_type": "stream",
     "text": [
      "베란다를 활용하려면 가구, 식물, 그리고 편안한 패드를 추가하세요. 거실을 더 넓어 보이게 하고 싶다면 밝은 컬러 팔레트를 활용하는 것이 좋습니다. 또한, 거실에 큰 거울을 설치하여 반사된 조명과 공간을 활용해 시야를 확장하는 데 도움이 될 것입니다. 또한, 열린 책장을 활용하여 물건을 직접적으로 노출시키면 시야를 막지 않고 공간이 더 넓어 보일 수 있습니다. 이 외에도 가구 배치, 조명 처리 등 다양한 요소를 고려하여 실용적이고 아름다운 인테리어를 실현할 수 있습니다.\n"
     ]
    },
    {
     "name": "stderr",
     "output_type": "stream",
     "text": [
      " 80%|████████████████████████████████        | 104/130 [16:03<04:28, 10.35s/it]The attention mask and the pad token id were not set. As a consequence, you may observe unexpected behavior. Please pass your input's `attention_mask` to obtain reliable results.\n",
      "Setting `pad_token_id` to `eos_token_id`:63998 for open-end generation.\n",
      "A decoder-only architecture is being used, but right-padding was detected! For correct generation results, please set `padding_side='left'` when initializing the tokenizer.\n"
     ]
    },
    {
     "name": "stdout",
     "output_type": "stream",
     "text": [
      "페인트에는 건강에 해로운 다양한 화합물이 함유되어 있습니다. 페인트의 유해물질로는 벤젠, 톨루엔, 자일렌과 같은 VOCs(휘발성유기화합물) 등이 있습니다. 이러한 유해물질은 호흡기나 피부를 통해 체내로 흡수될 경우 건강에 악영향을 미치며, 일반적으로 VOCs는 공기 중에 오랫동안 머무르는 기간이 길어 노출시키는 것에 주의해야 합니다. VOCs에는 발암물질이 포함되어 있어 새집증후군과 같은 문제를 야기할 수 있습니다. 따라서 페인트 작업 시 적절한 환기 시설을 설치하고, 마스크와 같은 개인보호구를 착용하는 것이 중요합니다. 또한, 환경부에서는 휘발성유기화합물의 위험에 대비하여 실내에서는 유성페인트 사용을 금지하고 수성페인트를 사용하는 것을 권장하고 있습니다.\n"
     ]
    },
    {
     "name": "stderr",
     "output_type": "stream",
     "text": [
      " 81%|████████████████████████████████▎       | 105/130 [16:09<03:45,  9.04s/it]The attention mask and the pad token id were not set. As a consequence, you may observe unexpected behavior. Please pass your input's `attention_mask` to obtain reliable results.\n",
      "Setting `pad_token_id` to `eos_token_id`:63998 for open-end generation.\n",
      "A decoder-only architecture is being used, but right-padding was detected! For correct generation results, please set `padding_side='left'` when initializing the tokenizer.\n"
     ]
    },
    {
     "name": "stdout",
     "output_type": "stream",
     "text": [
      "흡음재 중 판상형 흡은재는 벽과 간격을 두고 얇고 통기성이 없는 판을 설치하여 소리가 전달되었을 때 판이 진동하여 마찰에 의해 소리가 소멸되는 것으로 판상형 흡음재의 특징은 소리를 흡수하기 보다는 저주파의 진동음을 소멸시키는 것으로 흡음률이 높진 않습니다.\n"
     ]
    },
    {
     "name": "stderr",
     "output_type": "stream",
     "text": [
      " 82%|████████████████████████████████▌       | 106/130 [16:15<03:14,  8.12s/it]The attention mask and the pad token id were not set. As a consequence, you may observe unexpected behavior. Please pass your input's `attention_mask` to obtain reliable results.\n",
      "Setting `pad_token_id` to `eos_token_id`:63998 for open-end generation.\n",
      "A decoder-only architecture is being used, but right-padding was detected! For correct generation results, please set `padding_side='left'` when initializing the tokenizer.\n"
     ]
    },
    {
     "name": "stdout",
     "output_type": "stream",
     "text": [
      "점토벽돌은 건축 재료로서 유지 관리가 쉽고, 고벽돌이나 전벽돌에 비해 비교적 저렴하며 친환경적인 재료로 평가받습니다. 이러한 특성으로 인해 건축물의 내열성과 단열성을 향상시키는데 도움을 줄 뿐만 아니라 지역 특성에 맞는 건축물을 건설하는 데도 사용됩니다.\n"
     ]
    },
    {
     "name": "stderr",
     "output_type": "stream",
     "text": [
      " 82%|████████████████████████████████▉       | 107/130 [16:21<02:54,  7.59s/it]The attention mask and the pad token id were not set. As a consequence, you may observe unexpected behavior. Please pass your input's `attention_mask` to obtain reliable results.\n",
      "Setting `pad_token_id` to `eos_token_id`:63998 for open-end generation.\n",
      "A decoder-only architecture is being used, but right-padding was detected! For correct generation results, please set `padding_side='left'` when initializing the tokenizer.\n"
     ]
    },
    {
     "name": "stdout",
     "output_type": "stream",
     "text": [
      "강화마루는 원목 무늬 필름지를 입힌 후 하드코팅 처리한 바닥재를 말합니다. 이 바닥재는 안정성이 뛰어나고 온도나 습도에 의한 변색이 거의 없으며 수명이 긴 장점이 있습니다. 다만, 필름지로 코팅 처리되어 있어 질감이나 보행감이 조금 떨어진다는 단점도 있습니다. 가격은 평당 7~12만 원 정도로 예상됩니다.\n"
     ]
    },
    {
     "name": "stderr",
     "output_type": "stream",
     "text": [
      " 83%|█████████████████████████████████▏      | 108/130 [16:28<02:45,  7.51s/it]The attention mask and the pad token id were not set. As a consequence, you may observe unexpected behavior. Please pass your input's `attention_mask` to obtain reliable results.\n",
      "Setting `pad_token_id` to `eos_token_id`:63998 for open-end generation.\n",
      "A decoder-only architecture is being used, but right-padding was detected! For correct generation results, please set `padding_side='left'` when initializing the tokenizer.\n"
     ]
    },
    {
     "name": "stdout",
     "output_type": "stream",
     "text": [
      "벽장 부위 결로의 대책으로는 외기에 노출되지 않도록 외벽을 가진 벽장을 만들지 않도록 주의해야 합니다. 또한 벽장의 구조를 개선하여 대류가 잘 되도록 하고 온도차를 최소화하는 것이 중요합니다. 또한, 벽면의 습도를 줄이기 위해 건물 내부의 적절한 환기 및 보일러나 제습기 등을 이용하여 온도와 습도를 조절하는 것도 필요합니다.\n"
     ]
    },
    {
     "name": "stderr",
     "output_type": "stream",
     "text": [
      " 84%|█████████████████████████████████▌      | 109/130 [16:34<02:27,  7.04s/it]The attention mask and the pad token id were not set. As a consequence, you may observe unexpected behavior. Please pass your input's `attention_mask` to obtain reliable results.\n",
      "Setting `pad_token_id` to `eos_token_id`:63998 for open-end generation.\n",
      "A decoder-only architecture is being used, but right-padding was detected! For correct generation results, please set `padding_side='left'` when initializing the tokenizer.\n"
     ]
    },
    {
     "name": "stdout",
     "output_type": "stream",
     "text": [
      "누수로 인해 도배지가 젖은 상태가 오랫동안 지속되면, 곰팡이가 발생할 수 있습니다. 곰팡이는 습기와 어두운 환경에서 번식하기 때문에, 누수로 인해 습기가 유지되면 곰팡이 발생 가능성이 높아집니다. 또한, 곰팡이는 건강에 해로울 수 있으므로, 누수가 발견되면 신속히 수리하는 것이 중요합니다.\n"
     ]
    },
    {
     "name": "stderr",
     "output_type": "stream",
     "text": [
      " 85%|█████████████████████████████████▊      | 110/130 [16:43<02:30,  7.55s/it]The attention mask and the pad token id were not set. As a consequence, you may observe unexpected behavior. Please pass your input's `attention_mask` to obtain reliable results.\n",
      "Setting `pad_token_id` to `eos_token_id`:63998 for open-end generation.\n",
      "A decoder-only architecture is being used, but right-padding was detected! For correct generation results, please set `padding_side='left'` when initializing the tokenizer.\n"
     ]
    },
    {
     "name": "stdout",
     "output_type": "stream",
     "text": [
      "네, 도배지를 작게 자르면 공간이 더 넓어 보이는 효과가 있을 수 있습니다. 예를 들어, 큰 거울을 사용하여 공간을 확장시킬 수 있고, 작은 가구를 활용하여 공간을 효율적으로 활용할 수 있습니다. 또한, 조명을 조절하여 공간의 분위기를 변화시킬 수도 있습니다. 따라서 도배지를 자를 때는 적절한 크기로 자르는 것이 중요합니다.\n"
     ]
    },
    {
     "name": "stderr",
     "output_type": "stream",
     "text": [
      " 85%|██████████████████████████████████▏     | 111/130 [16:52<02:29,  7.86s/it]The attention mask and the pad token id were not set. As a consequence, you may observe unexpected behavior. Please pass your input's `attention_mask` to obtain reliable results.\n",
      "Setting `pad_token_id` to `eos_token_id`:63998 for open-end generation.\n",
      "A decoder-only architecture is being used, but right-padding was detected! For correct generation results, please set `padding_side='left'` when initializing the tokenizer.\n"
     ]
    },
    {
     "name": "stdout",
     "output_type": "stream",
     "text": [
      "알러지가 있을 경우, 먼지나 알러지 유발물질이 표면에 적게 축적되는 매끄럽고 평평한 벽지가 좋습니다. 또한, VOCs(휘발성 유기 화합물)이 없거나 낮은 무독성 벽지를 사용하는 것도 도움이 될 수 있습니다. VOCs는 공기 중에 농도가 높은 경우 건강에 해로운 물질로, 무독성이나 낮은 수준의 VOCs를 가진 벽지를 선택하여 건강한 실내 환경을 유지하는 데 기여할 수 있습니다.\n"
     ]
    },
    {
     "name": "stderr",
     "output_type": "stream",
     "text": [
      " 86%|██████████████████████████████████▍     | 112/130 [16:56<02:03,  6.87s/it]The attention mask and the pad token id were not set. As a consequence, you may observe unexpected behavior. Please pass your input's `attention_mask` to obtain reliable results.\n",
      "Setting `pad_token_id` to `eos_token_id`:63998 for open-end generation.\n",
      "A decoder-only architecture is being used, but right-padding was detected! For correct generation results, please set `padding_side='left'` when initializing the tokenizer.\n"
     ]
    },
    {
     "name": "stdout",
     "output_type": "stream",
     "text": [
      "아파트 도배평수는 일반적으로 분양 평수의 2.5배로 계산합니다. 이는 일반적인 규모의 아파트 도배 작업에 적용되는 규칙적인 계산 방식입니다. 도배 작업을 위한 재료 및 공사비 등을 산정할 때 유용하게 사용될 수 있습니다.\n"
     ]
    },
    {
     "name": "stderr",
     "output_type": "stream",
     "text": [
      " 87%|██████████████████████████████████▊     | 113/130 [17:03<01:57,  6.92s/it]The attention mask and the pad token id were not set. As a consequence, you may observe unexpected behavior. Please pass your input's `attention_mask` to obtain reliable results.\n",
      "Setting `pad_token_id` to `eos_token_id`:63998 for open-end generation.\n",
      "A decoder-only architecture is being used, but right-padding was detected! For correct generation results, please set `padding_side='left'` when initializing the tokenizer.\n"
     ]
    },
    {
     "name": "stdout",
     "output_type": "stream",
     "text": [
      "마감재의 하자를 판정하는 방법은 몇 가지가 있습니다. 먼저, 설계도서와의 일치 여부를 확인해야 합니다. 마감재가 설계도에 맞게 적절하게 사용되었는지 확인하는 것이 중요합니다. 또한, 마감재의 기능상 문제와 미관적인 문제, 그리고 안전상의 문제 여부도 확인해야 합니다. 이러한 다양한 요소들을 고려하여 마감재의 하자를 신중하게 판단해야 합니다.\n"
     ]
    },
    {
     "name": "stderr",
     "output_type": "stream",
     "text": [
      " 88%|███████████████████████████████████     | 114/130 [17:11<01:54,  7.13s/it]The attention mask and the pad token id were not set. As a consequence, you may observe unexpected behavior. Please pass your input's `attention_mask` to obtain reliable results.\n",
      "Setting `pad_token_id` to `eos_token_id`:63998 for open-end generation.\n",
      "A decoder-only architecture is being used, but right-padding was detected! For correct generation results, please set `padding_side='left'` when initializing the tokenizer.\n"
     ]
    },
    {
     "name": "stdout",
     "output_type": "stream",
     "text": [
      "이산화탄소 소화기는 이산화탄소(CO2)를 높은 압력으로 압축하여 액화시킨 후, 단단한 철제 용기에 넣은 소화기입니다. 이 종류의 소화기는 B, C급 화재에 대한 소화기능이 있으며, 물을 뿌리는 대신에 사용하기 적합하며 냉각 효과와 질식 효과가 큽니다. 이산화탄소 소화기는 전기기기, 기름, 페인트 등의 화재에 적합하며 전기를 차단한 후 안전하게 사용할 수 있습니다.\n"
     ]
    },
    {
     "name": "stderr",
     "output_type": "stream",
     "text": [
      " 88%|███████████████████████████████████▍    | 115/130 [17:15<01:32,  6.17s/it]The attention mask and the pad token id were not set. As a consequence, you may observe unexpected behavior. Please pass your input's `attention_mask` to obtain reliable results.\n",
      "Setting `pad_token_id` to `eos_token_id`:63998 for open-end generation.\n",
      "A decoder-only architecture is being used, but right-padding was detected! For correct generation results, please set `padding_side='left'` when initializing the tokenizer.\n"
     ]
    },
    {
     "name": "stdout",
     "output_type": "stream",
     "text": [
      "면진장치는 건물의 지반으로부터 오는 진동 에너지를 흡수하여 건물에 전달되는 진동을 최소화해 주는 진동 격리장치입니다. 이를 통해 건물 내부의 진동을 줄이고 안정성을 유지하는 데 도움을 줍니다.\n"
     ]
    },
    {
     "name": "stderr",
     "output_type": "stream",
     "text": [
      " 89%|███████████████████████████████████▋    | 116/130 [17:33<02:17,  9.84s/it]The attention mask and the pad token id were not set. As a consequence, you may observe unexpected behavior. Please pass your input's `attention_mask` to obtain reliable results.\n",
      "Setting `pad_token_id` to `eos_token_id`:63998 for open-end generation.\n",
      "A decoder-only architecture is being used, but right-padding was detected! For correct generation results, please set `padding_side='left'` when initializing the tokenizer.\n"
     ]
    },
    {
     "name": "stdout",
     "output_type": "stream",
     "text": [
      "외단열재는 건물 내부의 온도를 안정적으로 유지하는 데 도움을 줄 수 있습니다. 외단열재의 장점은 다음과 같습니다:  1. 내구성: 외단열재는 내구성이 뛰어나서 오랫동안 사용해도 변형이나 손상이 발생하지 않습니다.  2. 환경 친화적: 외단열재의 재질은 친환경적이며 재활용이 가능하기 때문에 환경에 미치는 영향이 적습니다.  3. 에너지 효율성: 외단열재로 벽을 꾸밀 경우 에너지 효율성이 향상되어 자원을 절약할 수 있습니다.  4. 다양한 디자인: 외단열벽은 다양한 색상과 디자인으로 꾸밀 수 있어 공간의 분위기를 풍부하게 만들어 줍니다.  5. 유지보수가 쉽다: 외단열판은 주기적인 유지보수가 필요하지 않기 때문에 빠르게 변화하는 환경에 적합합니다.  이러한 장점들을 고려하여 외단열재를 사용하면 건물 내부의 온도 안정성을 높이고 에너지 효율성을 향상시킬 수 있습니다.\n"
     ]
    },
    {
     "name": "stderr",
     "output_type": "stream",
     "text": [
      " 90%|████████████████████████████████████    | 117/130 [17:58<03:06, 14.37s/it]The attention mask and the pad token id were not set. As a consequence, you may observe unexpected behavior. Please pass your input's `attention_mask` to obtain reliable results.\n",
      "Setting `pad_token_id` to `eos_token_id`:63998 for open-end generation.\n",
      "A decoder-only architecture is being used, but right-padding was detected! For correct generation results, please set `padding_side='left'` when initializing the tokenizer.\n"
     ]
    },
    {
     "name": "stdout",
     "output_type": "stream",
     "text": [
      "외단열은 건물의 콘크리트 골조와 외벽 재료 사이에 단열재를 부착하는 방식입니다. 이 방법은 건축물 겉면을 단열재로 감싸줌으로써 우수한 단열 효과를 제공하며, 열이 빠져나가거나 냉기가 들어오는 현상으로 인한 결로와 곰팡이 등의 하자 발생을 줄여줄 수 있습니다. 그러나 외단열을 실시하려면 외부 마감재가 필수이며, 외부에서의 작업은 날씨의 영향을 많이 받기 때문에 너무 더운 날이나 습한 날에는 단열재 부착이 어려울 수 있습니다. 따라서 외단열 작업 시에는 숙련된 시공자의 전문 기술과 경험이 매우 중요합니다.\n"
     ]
    },
    {
     "name": "stderr",
     "output_type": "stream",
     "text": [
      " 91%|████████████████████████████████████▎   | 118/130 [18:03<02:18, 11.57s/it]The attention mask and the pad token id were not set. As a consequence, you may observe unexpected behavior. Please pass your input's `attention_mask` to obtain reliable results.\n",
      "Setting `pad_token_id` to `eos_token_id`:63998 for open-end generation.\n",
      "A decoder-only architecture is being used, but right-padding was detected! For correct generation results, please set `padding_side='left'` when initializing the tokenizer.\n"
     ]
    },
    {
     "name": "stdout",
     "output_type": "stream",
     "text": [
      "바닥재의 종류로는 데코타일, PVC 바닥재, 포세린 타일, 폴리싱 타일, 대리석 타일, 원목마루, 합판마루, 강화마루, 그리고 강마루가 있습니다. 이러한 다양한 바닥재는 각각의 특징에 따라 실내 공간에 적합한 다양한 선택지를 제공합니다.\n"
     ]
    },
    {
     "name": "stderr",
     "output_type": "stream",
     "text": [
      " 92%|████████████████████████████████████▌   | 119/130 [18:11<01:54, 10.40s/it]The attention mask and the pad token id were not set. As a consequence, you may observe unexpected behavior. Please pass your input's `attention_mask` to obtain reliable results.\n",
      "Setting `pad_token_id` to `eos_token_id`:63998 for open-end generation.\n",
      "A decoder-only architecture is being used, but right-padding was detected! For correct generation results, please set `padding_side='left'` when initializing the tokenizer.\n"
     ]
    },
    {
     "name": "stdout",
     "output_type": "stream",
     "text": [
      "포세린 타일은 점토를 기본 재료로 사용하여 만든 무광의 타일을 말합니다. 이러한 타일의 평당 가격은 일반적으로 10만원부터 20만원 정도입니다. 포세린 타일은 여름에는 시원하고 겨울에는 따뜻한 느낌을 주며 내구성이 뛰어나 바닥 울림이 적다는 장점이 있습니다. 다만, 가격이 다소 비싸고 충격 흡수율이 낮아 노약자가 있는 집안에는 적절하지 않을 수 있습니다.\n"
     ]
    },
    {
     "name": "stderr",
     "output_type": "stream",
     "text": [
      " 92%|████████████████████████████████████▉   | 120/130 [18:18<01:33,  9.34s/it]The attention mask and the pad token id were not set. As a consequence, you may observe unexpected behavior. Please pass your input's `attention_mask` to obtain reliable results.\n",
      "Setting `pad_token_id` to `eos_token_id`:63998 for open-end generation.\n",
      "A decoder-only architecture is being used, but right-padding was detected! For correct generation results, please set `padding_side='left'` when initializing the tokenizer.\n"
     ]
    },
    {
     "name": "stdout",
     "output_type": "stream",
     "text": [
      "중목구조는 건물을 지지하기 위해 중앙에 큰 기둥(중목)을 설치하고 그 주변에 보(보근)를 배열하는 구조 방식입니다. 이 방식은 기중-보 방식과 유사하지만 구조용 목재로 큰 각재를 사용하여 건축한다는 것이 차이점입니다. 중목구조는 구조물에 안정성을 제공하며, 전통적으로 동양 건축에서 사용된 구조 방식 중 하나입니다.\n"
     ]
    },
    {
     "name": "stderr",
     "output_type": "stream",
     "text": [
      " 93%|█████████████████████████████████████▏  | 121/130 [18:25<01:18,  8.71s/it]The attention mask and the pad token id were not set. As a consequence, you may observe unexpected behavior. Please pass your input's `attention_mask` to obtain reliable results.\n",
      "Setting `pad_token_id` to `eos_token_id`:63998 for open-end generation.\n",
      "A decoder-only architecture is being used, but right-padding was detected! For correct generation results, please set `padding_side='left'` when initializing the tokenizer.\n"
     ]
    },
    {
     "name": "stdout",
     "output_type": "stream",
     "text": [
      "도배지는 일반적으로 도배하려는 평수에 5를 나눈 값만큼 필요합니다. 예를 들어, 32평 아파트의 경우 도배평수는 80평(32*2.5)이며, 5로 나눈 값인 16롤만큼 필요합니다. 다만, 작업자의 숙련도, 작업환경, 집 구조 등에 따라 필요한 도배지의 양이 달라질 수 있으니, 보다 정확한 견적을 위해서는 전문가와의 상담이 필요합니다.\n"
     ]
    },
    {
     "name": "stderr",
     "output_type": "stream",
     "text": [
      " 94%|█████████████████████████████████████▌  | 122/130 [18:46<01:38, 12.31s/it]The attention mask and the pad token id were not set. As a consequence, you may observe unexpected behavior. Please pass your input's `attention_mask` to obtain reliable results.\n",
      "Setting `pad_token_id` to `eos_token_id`:63998 for open-end generation.\n",
      "A decoder-only architecture is being used, but right-padding was detected! For correct generation results, please set `padding_side='left'` when initializing the tokenizer.\n"
     ]
    },
    {
     "name": "stdout",
     "output_type": "stream",
     "text": [
      "경질우레탄 폼은 폴리소시아노레이트(Polyisocyanurate, PIR)를 단열소재로 사용하여 기존 폴리우레탄(Polyurethane, PUR)의 장점을 유지하면서 자기 소화성, 내열성, 저연성 등이 개선된 특징을 가지고 있습니다. 이러한 특성으로 인해 경질우레탄 폼은 작은 두께로도 건축물의 에너지 절약 설계를 충족하며 열전도를 완벽하게 차단합니다.  또한, 이 보온판은 난연성 재료이나 난연3급에 대한 시험성적서를 제공하지는 못하지만, 준불연 시험성능에 만족하는 준불연 경질우레탄보드페놀폼 또한 개발되었습니다. 이러한 보온판은 주로 철근콘크리트 구조에 적용되며, 난연성과 방음성이 뛰어나고 방습층 없이도 해결 가능하다는 장점이 있습니다.   하지만 경질우레탄 폼의 단점으로는 붕레의 취약성이 있습니다. 그리고 난연성과 방염성이 다른 단열재에 비해 떨어지는 편이기도 합니다. 이러한 단점을 고려하여 장기적인 성능과 내구성 측면에서의 주의가 필요합니다.\n"
     ]
    },
    {
     "name": "stderr",
     "output_type": "stream",
     "text": [
      " 95%|█████████████████████████████████████▊  | 123/130 [18:52<01:13, 10.56s/it]The attention mask and the pad token id were not set. As a consequence, you may observe unexpected behavior. Please pass your input's `attention_mask` to obtain reliable results.\n",
      "Setting `pad_token_id` to `eos_token_id`:63998 for open-end generation.\n",
      "A decoder-only architecture is being used, but right-padding was detected! For correct generation results, please set `padding_side='left'` when initializing the tokenizer.\n"
     ]
    },
    {
     "name": "stdout",
     "output_type": "stream",
     "text": [
      "질석벽지는 운모계 광석을 1,000도 정도로 가열하여 나온 결정 조각을 종이 위에 뿌려 접착한 벽지로, 질감이 뛰어나 아트월, 현관 입구 미김 용도로 많이 사용됩니다. 이러한 벽지는 단열과 결로방지가 탁월하며 고급스러운 질감이 특징이지만, 가격이 비싸고 시공 및 유지관리가 어렵다는 점이 단점으로 언급됩니다.\n"
     ]
    },
    {
     "name": "stderr",
     "output_type": "stream",
     "text": [
      " 95%|██████████████████████████████████████▏ | 124/130 [19:03<01:04, 10.77s/it]The attention mask and the pad token id were not set. As a consequence, you may observe unexpected behavior. Please pass your input's `attention_mask` to obtain reliable results.\n",
      "Setting `pad_token_id` to `eos_token_id`:63998 for open-end generation.\n",
      "A decoder-only architecture is being used, but right-padding was detected! For correct generation results, please set `padding_side='left'` when initializing the tokenizer.\n"
     ]
    },
    {
     "name": "stdout",
     "output_type": "stream",
     "text": [
      "시트 방수공사는 수지를 기본으로 안정제, 향균제, 방염제, 초내후성 안료를 혼합하여 제조한 방수제로, 바탕면과 무관하게 시공이 가능합니다. 이 방수제는 외단열 공법으로 에너지를 절감시킬 수 있는 장점이 있으며, 주로 옥상, 지붕, 판넬 지붕 등의 방수용으로 사용됩니다. 또한 내약품성을 갖고 있는 제품은 옥상 녹화, 옥상 정원 구조에 적합하며, 구조물의 진동, 균열, 수축, 팽창 등이 예상되는 장소에 적합합니다. 시트 이음매를 접합하여 일체화하는 방식으로 누수를 방지할 수 있는 특징을 가지고 있습니다.\n"
     ]
    },
    {
     "name": "stderr",
     "output_type": "stream",
     "text": [
      " 96%|██████████████████████████████████████▍ | 125/130 [19:19<01:01, 12.23s/it]The attention mask and the pad token id were not set. As a consequence, you may observe unexpected behavior. Please pass your input's `attention_mask` to obtain reliable results.\n",
      "Setting `pad_token_id` to `eos_token_id`:63998 for open-end generation.\n",
      "A decoder-only architecture is being used, but right-padding was detected! For correct generation results, please set `padding_side='left'` when initializing the tokenizer.\n"
     ]
    },
    {
     "name": "stdout",
     "output_type": "stream",
     "text": [
      "내진설계에서 안전성을 높이기 위한 방법은 다음과 같습니다. 먼저 내진설계에서 안정성이 높은 순서대로 설명드리겠습니다. 일반적으로 내진설계에서는 내진구조, 제진구조, 면진구조의 순서로 안정성이 높은 것으로 알려져 있습니다. 내진구조는 지진 발생 시 건물의 전반적인 안정성을 고려하여 설계되며, 고층 건물이나 중요한 시설물에서 주로 사용됩니다. 제진구조는 건물의 지반 부분에 특수한 시스템을 도입하여 지진으로부터 보호하는 설계로, 지진에 따른 지반의 변동을 흡수하는 역할을 합니다. 마지막으로 면진구조는 건물 외벽에 직접 지진에 대한 안전을 고려하여 설계하는 방법으로, 내진구조와 제진구조에 비해 상대적으로 안정성이 낮은 편입니다.\n"
     ]
    },
    {
     "name": "stderr",
     "output_type": "stream",
     "text": [
      " 97%|██████████████████████████████████████▊ | 126/130 [19:28<00:44, 11.17s/it]The attention mask and the pad token id were not set. As a consequence, you may observe unexpected behavior. Please pass your input's `attention_mask` to obtain reliable results.\n",
      "Setting `pad_token_id` to `eos_token_id`:63998 for open-end generation.\n",
      "A decoder-only architecture is being used, but right-padding was detected! For correct generation results, please set `padding_side='left'` when initializing the tokenizer.\n"
     ]
    },
    {
     "name": "stdout",
     "output_type": "stream",
     "text": [
      "분말 소화기를 사용하는 경우 주의할 점은 몇 가지가 있습니다. 압력계의 눈금 위치가 초록색에 있는지 확인하는 것과 받침대를 사용하여 소화기 부식을 방지하는 것은 중요합니다. 또한, 한 달에 한 번씩 소화기를 흔들어 분말이 굳어짐을 방지하고, 직사광선과 고온 다습한 장소를 피해야 합니다. 사용 후 내부 약제를 완전히 제거하는 것도 중요한 점 중 하나입니다. 이러한 주의사항을 준수하여 분말 소화기를 안전하게 사용할 수 있습니다.\n"
     ]
    },
    {
     "name": "stderr",
     "output_type": "stream",
     "text": [
      " 98%|███████████████████████████████████████ | 127/130 [19:48<00:42, 14.06s/it]The attention mask and the pad token id were not set. As a consequence, you may observe unexpected behavior. Please pass your input's `attention_mask` to obtain reliable results.\n",
      "Setting `pad_token_id` to `eos_token_id`:63998 for open-end generation.\n",
      "A decoder-only architecture is being used, but right-padding was detected! For correct generation results, please set `padding_side='left'` when initializing the tokenizer.\n"
     ]
    },
    {
     "name": "stdout",
     "output_type": "stream",
     "text": [
      "압출법 보온판은 원료를 가열하여 용융한 후 연속적으로 압출하여 발포시켜 성형한 제품으로, 아이소핑크, 골드폼 등의 상표명으로 불리는 제품입니다. 이러한 보온판은 우수한 단열효과와 탁월한 압축강도를 가지고 있어 시공이 간단하며, 높은 내부식성과 내수성을 갖추고 있어 다양한 환경에서 사용이 가능합니다.  하지만 압축법 보온판의 단점으로는 일반적인 비드법 보온판 1종(EPS)에 비해 가격이 비쌉니다. 또한 시간이 지나면 단열성능이 저하될 수 있고, 마감미장의 접착력이 나오지 않아 외단열 미장마감공법에 사용할 수 없습니다. 노출된 햇빛이나 바닥마루 등의 곳에서 70℃를 넘어가면 2차 발포가 발생하여 외장재나 마루가 들뜨는 현상이 발생할 수 있습니다. 그래서 이러한 보온판 설치 시 이러한 단점을 고려하여야 합니다.\n"
     ]
    },
    {
     "name": "stderr",
     "output_type": "stream",
     "text": [
      " 98%|███████████████████████████████████████▍| 128/130 [19:57<00:24, 12.48s/it]The attention mask and the pad token id were not set. As a consequence, you may observe unexpected behavior. Please pass your input's `attention_mask` to obtain reliable results.\n",
      "Setting `pad_token_id` to `eos_token_id`:63998 for open-end generation.\n",
      "A decoder-only architecture is being used, but right-padding was detected! For correct generation results, please set `padding_side='left'` when initializing the tokenizer.\n"
     ]
    },
    {
     "name": "stdout",
     "output_type": "stream",
     "text": [
      "평지붕의 누수를 방지하기 위한 대책으로는 먼저, 실내에서 발생하는 수증기의 양을 최대한 억제해야 합니다. 이를 위해 환기를 적절하게 유지하고, 습기 발생원을 관리하며, 건물 내부의 습도를 적정 수준으로 유지해야 합니다. 또한, 충분한 두께의 단열재를 사용하고, 밀착시공하여 단열재와 단열재 사이의 이음부를 통한 열교를 방지하여 온도와 습도의 변화를 최소화해야 합니다. 이렇게 함으로써 누수가 발생할 가능성을 줄일 수 있습니다.\n"
     ]
    },
    {
     "name": "stderr",
     "output_type": "stream",
     "text": [
      " 99%|███████████████████████████████████████▋| 129/130 [20:08<00:12, 12.02s/it]The attention mask and the pad token id were not set. As a consequence, you may observe unexpected behavior. Please pass your input's `attention_mask` to obtain reliable results.\n",
      "Setting `pad_token_id` to `eos_token_id`:63998 for open-end generation.\n",
      "A decoder-only architecture is being used, but right-padding was detected! For correct generation results, please set `padding_side='left'` when initializing the tokenizer.\n"
     ]
    },
    {
     "name": "stdout",
     "output_type": "stream",
     "text": [
      "석고수정은 벽을 이루고 있는 석고에 훼손이 생겼을 때 발생하는 현상을 말합니다. 석고수정이 발생한 경우 건물의 소유자나 거주자가 책임을 질 수 있습니다. 해결책으로는 석고수정이 있는 부분을 수정하고 전문가에게 접근하여 정밀한 진단을 받아야 합니다. 특히 습기를 흡수하고 물에 녹는 석고의 성질을 고려하여 제습기를 가동하고 환기를 통해 실내 적정 습도를 유지하는 것이 중요합니다. 추가적으로 건축적인 결함이 있는 경우에는 해당 결함을 해결하고 전문가의 도움을 받아 수정하는 것이 필요합니다.\n"
     ]
    },
    {
     "name": "stderr",
     "output_type": "stream",
     "text": [
      "100%|████████████████████████████████████████| 130/130 [20:14<00:00,  9.34s/it]"
     ]
    },
    {
     "name": "stdout",
     "output_type": "stream",
     "text": [
      "카페트의 기대수명은 일반적으로 6년입니다. 다만, 사용 빈도, 청소 방식, 햇빛 노출 정도 등 사용 환경과 관리에 따라 수명이 달라질 수 있으므로 주기적으로 청소 및 관리를 해야 합니다. 또한, 질 좋은 카페트를 구매하고 깔끔하게 관리하여 수명을 연장할 수 있습니다.\n"
     ]
    },
    {
     "name": "stderr",
     "output_type": "stream",
     "text": [
      "\n"
     ]
    }
   ],
   "source": [
    "\n",
    "# Inference를 위한 test.csv 파일 로드\n",
    "# test = pd.read_csv('./data/test.csv')\n",
    "# test.csv의 '질문'에 대한 '답변'을 저장할 리스트\n",
    "file_path = \"result_kko.txt\"\n",
    "total_preds = []\n",
    "# '질문' 컬럼의 각 질문에 대해 답변 생성\n",
    "# for idx,model in enumerate(model_list):\n",
    "preds = []\n",
    "idx = 0\n",
    "for test_question in tqdm(test_df['질문']):    \n",
    "    input_ids = tokenizer.encode(test_question + tokenizer.eos_token, return_tensors='pt')\n",
    "    # 답변 생성\n",
    "    with torch.no_grad():\n",
    "\n",
    "        # output_sequences = model.generate(\n",
    "        #     input_ids=input_ids.to(device),\n",
    "        #     max_length=2000,\n",
    "        #     min_length=20,\n",
    "        #     temperature=1.5,\n",
    "        #     top_k=120,\n",
    "        #     top_p=1.5,\n",
    "        #     repetition_penalty=1.0,\n",
    "        #     do_sample=True,\n",
    "        #     num_beams=120,\n",
    "        #     # no_repeat_ngram_size=3,\n",
    "        #     # num_return_sequences=1,\n",
    "        #     # eos_token_id=tokenizer.eos_token_id\n",
    "        # )\n",
    "        output_sequences = model.generate(\n",
    "            input_ids=input_ids.to(device),\n",
    "            max_length=700,\n",
    "            min_length=20,\n",
    "            temperature=0.9,\n",
    "            top_k=500,\n",
    "            top_p=0.9,\n",
    "            repetition_penalty=1.5,\n",
    "            do_sample=True,\n",
    "            num_beams=10,\n",
    "            no_repeat_ngram_size=5,\n",
    "            # num_return_sequences=1,\n",
    "            eos_token_id=tokenizer.eos_token_id\n",
    "        )\n",
    "\n",
    "    for generated_sequence in output_sequences:\n",
    "        full_text = tokenizer.decode(generated_sequence, skip_special_tokens=False)\n",
    "        # print(full_text)\n",
    "        answer_start = full_text.find(tokenizer.eos_token) \n",
    "        anser_end = full_text.rfind(tokenizer.eos_token) \n",
    "        answer_only = full_text[answer_start+4:anser_end].strip()\n",
    "        answer_only = answer_only.replace('\\n', ' ')\n",
    "        print(answer_only)\n",
    "        preds.append(answer_only)\n",
    "        answer_only = answer_only+'\\n'\n",
    "    if idx==0:\n",
    "        with open(file_path, \"w\") as file:\n",
    "            file.write(answer_only)\n",
    "    else:\n",
    "        with open(file_path, \"a\") as file:\n",
    "            file.write(answer_only)\n",
    "    idx+=1\n",
    "\n",
    "\n",
    "    # with open(csv_file_path, mode='w') as csv_file:\n",
    "    #     csv_writer = csv.writer(csv_file)\n",
    "    #     csv_writer.writerow(answer_only)\n",
    "# break\n",
    "# total_preds.append(preds)\n",
    "# model = model.cpu()\n",
    "# torch.cuda.empty_cache()\n"
   ]
  },
  {
   "cell_type": "code",
   "execution_count": 13,
   "id": "5219c545-c1eb-4302-82fe-1e0e5b067b46",
   "metadata": {},
   "outputs": [
    {
     "name": "stderr",
     "output_type": "stream",
     "text": [
      "  0%|                                                   | 0/46 [00:00<?, ?it/s]The attention mask and the pad token id were not set. As a consequence, you may observe unexpected behavior. Please pass your input's `attention_mask` to obtain reliable results.\n",
      "Setting `pad_token_id` to `eos_token_id`:63998 for open-end generation.\n",
      "A decoder-only architecture is being used, but right-padding was detected! For correct generation results, please set `padding_side='left'` when initializing the tokenizer.\n",
      "  2%|▉                                          | 1/46 [00:03<02:35,  3.46s/it]The attention mask and the pad token id were not set. As a consequence, you may observe unexpected behavior. Please pass your input's `attention_mask` to obtain reliable results.\n",
      "Setting `pad_token_id` to `eos_token_id`:63998 for open-end generation.\n",
      "A decoder-only architecture is being used, but right-padding was detected! For correct generation results, please set `padding_side='left'` when initializing the tokenizer.\n"
     ]
    },
    {
     "name": "stdout",
     "output_type": "stream",
     "text": [
      "원목사이딩의 단점은 주로 가격대가 높고 관리가 어렵다는 점입니다. 또한 습기에 약해 뒤틀림, 부서짐, 수축 및 팽창이 발생할 수 있다는 점도 단점으로 꼽힙니다.\n"
     ]
    },
    {
     "name": "stderr",
     "output_type": "stream",
     "text": [
      "  4%|█▊                                         | 2/46 [00:10<03:55,  5.35s/it]The attention mask and the pad token id were not set. As a consequence, you may observe unexpected behavior. Please pass your input's `attention_mask` to obtain reliable results.\n",
      "Setting `pad_token_id` to `eos_token_id`:63998 for open-end generation.\n",
      "A decoder-only architecture is being used, but right-padding was detected! For correct generation results, please set `padding_side='left'` when initializing the tokenizer.\n"
     ]
    },
    {
     "name": "stdout",
     "output_type": "stream",
     "text": [
      "적절하지 않은 도구로 작업하거나 타공부위의 크기를 정확히 측정하지 않고 작업하면 타공불량이 발생할 수 있습니다.\n"
     ]
    },
    {
     "name": "stderr",
     "output_type": "stream",
     "text": [
      "  7%|██▊                                        | 3/46 [00:27<07:38, 10.67s/it]The attention mask and the pad token id were not set. As a consequence, you may observe unexpected behavior. Please pass your input's `attention_mask` to obtain reliable results.\n",
      "Setting `pad_token_id` to `eos_token_id`:63998 for open-end generation.\n",
      "A decoder-only architecture is being used, but right-padding was detected! For correct generation results, please set `padding_side='left'` when initializing the tokenizer.\n"
     ]
    },
    {
     "name": "stdout",
     "output_type": "stream",
     "text": [
      "유성페인트의 사용은 몇 가지 단점이 존재합니다.   1. 유해성: 유성페인트는 벤젠, 톨루엔, 자일렌 등의 유해물질을 포함하고 있어 장기적으로 노출되면 암, 호흡기 질환, 피부 질환 등의 건강 문제를 유발할 수 있습니다.  2. 냄새: 유성페인트에는 강한 냄새가 나며, 이는 작업자뿐만 아니라 주변 사람들에게도 좋지 않은 환경을 제공합니다.  3. 건조 시간: 유성페인트의 건조 시간이 길어 작업 시간이 더 오래 걸릴 수 있으며, 이로 인해 작업자가 불편함을 느낄 수도 있습니다.  4. 환경 오염: 일부 유성페인트는 대기 중에 방출되면 미세먼지나 오존 등의 오염물질을 생성할 수 있으며, 이는 건강에 해로울 수 있습니다. 따라서 유성페인트를 다룰 때에는 안전장비를 착용하고 적절한 환기를 유지하는 것이 중요합니다.\n"
     ]
    },
    {
     "name": "stderr",
     "output_type": "stream",
     "text": [
      "  9%|███▋                                       | 4/46 [00:35<06:47,  9.69s/it]The attention mask and the pad token id were not set. As a consequence, you may observe unexpected behavior. Please pass your input's `attention_mask` to obtain reliable results.\n",
      "Setting `pad_token_id` to `eos_token_id`:63998 for open-end generation.\n",
      "A decoder-only architecture is being used, but right-padding was detected! For correct generation results, please set `padding_side='left'` when initializing the tokenizer.\n"
     ]
    },
    {
     "name": "stdout",
     "output_type": "stream",
     "text": [
      "벽지에 반점이 생겼을 때 유색반점 발생 시기가 벽지시공 후 1년 이내인 경우 벽지 아세톤 용제 함침 방법을 사용할 경우 유색 반점이 확대되거나 신규 이염이 발생할 우려가 있으므로 이염 방지제를 도포한 후 개선 벽지로 전면 재시공해야합니다.\n"
     ]
    },
    {
     "name": "stderr",
     "output_type": "stream",
     "text": [
      " 11%|████▋                                      | 5/46 [00:39<05:12,  7.62s/it]The attention mask and the pad token id were not set. As a consequence, you may observe unexpected behavior. Please pass your input's `attention_mask` to obtain reliable results.\n",
      "Setting `pad_token_id` to `eos_token_id`:63998 for open-end generation.\n",
      "A decoder-only architecture is being used, but right-padding was detected! For correct generation results, please set `padding_side='left'` when initializing the tokenizer.\n"
     ]
    },
    {
     "name": "stdout",
     "output_type": "stream",
     "text": [
      "피스 하자란 벽지 안쪽에 숨어있는 못 등의 작은 물질로 인해 발생하는 하자를 말합니다. 이러한 하자가 무시되고 방치될 경우, 도배지가 터져서 더 큰 문제를 초래할 수 있으므로 조속히 해결해야 합니다.\n"
     ]
    },
    {
     "name": "stderr",
     "output_type": "stream",
     "text": [
      " 13%|█████▌                                     | 6/46 [00:58<07:49, 11.74s/it]The attention mask and the pad token id were not set. As a consequence, you may observe unexpected behavior. Please pass your input's `attention_mask` to obtain reliable results.\n",
      "Setting `pad_token_id` to `eos_token_id`:63998 for open-end generation.\n",
      "A decoder-only architecture is being used, but right-padding was detected! For correct generation results, please set `padding_side='left'` when initializing the tokenizer.\n"
     ]
    },
    {
     "name": "stdout",
     "output_type": "stream",
     "text": [
      "겨울철 도배는 몇 가지 주의해야 할 사항이 있습니다. 1. 온도 관리: 도배 작업 중에는 실내 온도가 일정하게 유지되어야 합니다. 특히 도배풀이 얼어버리는 것을 막기 위해 보일러나 전열기를 사용하여 온도를 적절하게 유지해야 합니다. 2. 과열 방지: 추운 날씨로 실내 온도를 높이기 위해 전열기를 오랜 시간 사용하는 것은 도배지에 해로울 수 있습니다. 지나치게 고열에 노출되면 도배지의 색상이 변하거나 이음매가 벌어질 수 있습니다. 3. 환기 주의: 도배 시공 직후 집안의 냄새를 제거하려는 용도로 환기를 하는 것은 좋지만, 춥고 건조한 겨울에는 도배지가 고르게 건조되지 않아 터질 수 있습니다. 이를 방지하기 위해 2일 정도는 창문을 닫아 놓는 것이 좋습니다.\n"
     ]
    },
    {
     "name": "stderr",
     "output_type": "stream",
     "text": [
      " 15%|██████▌                                    | 7/46 [01:09<07:26, 11.45s/it]The attention mask and the pad token id were not set. As a consequence, you may observe unexpected behavior. Please pass your input's `attention_mask` to obtain reliable results.\n",
      "Setting `pad_token_id` to `eos_token_id`:63998 for open-end generation.\n",
      "A decoder-only architecture is being used, but right-padding was detected! For correct generation results, please set `padding_side='left'` when initializing the tokenizer.\n"
     ]
    },
    {
     "name": "stdout",
     "output_type": "stream",
     "text": [
      "페인트 처리방법은 남은 페인트의 양에 따라 다릅니다. 작은 양의 경우, 신문 또는 헌 옷에 적셔서 종량제 봉투에 버리는 것이 가능합니다. 6ml 이상 100kg 미만의 양은 폐기물 수탁업체를 통해 처리해야 하고, 100kg 이상일 경우 구청 환경과에 신고해야 합니다. 이때 필요한 서류는 폐기물 처리계획서, 폐기물 분석 결과서, 폐기물 수탁 확인서 각 1통입니다.\n"
     ]
    },
    {
     "name": "stderr",
     "output_type": "stream",
     "text": [
      " 17%|███████▍                                   | 8/46 [01:16<06:12,  9.79s/it]The attention mask and the pad token id were not set. As a consequence, you may observe unexpected behavior. Please pass your input's `attention_mask` to obtain reliable results.\n",
      "Setting `pad_token_id` to `eos_token_id`:63998 for open-end generation.\n",
      "A decoder-only architecture is being used, but right-padding was detected! For correct generation results, please set `padding_side='left'` when initializing the tokenizer.\n"
     ]
    },
    {
     "name": "stdout",
     "output_type": "stream",
     "text": [
      "유광 자기질 타일의 기대수명은 평균적으로 50년 정도입니다. 이는 적절한 유지보수와 관리가 이루어졌을 경우 해당되는 값으로, 사용 환경 및 조건에 따라 달라질 수 있습니다. 또한 제조사와 시공 업체의 품질, 작업 방법 등도 영향을 미칠 수 있습니다.따라서 정기적인 유지보수와 청소를 통해 수명을 연장시킬 수 있습니다.\n"
     ]
    },
    {
     "name": "stderr",
     "output_type": "stream",
     "text": [
      " 20%|████████▍                                  | 9/46 [01:21<05:16,  8.54s/it]The attention mask and the pad token id were not set. As a consequence, you may observe unexpected behavior. Please pass your input's `attention_mask` to obtain reliable results.\n",
      "Setting `pad_token_id` to `eos_token_id`:63998 for open-end generation.\n",
      "A decoder-only architecture is being used, but right-padding was detected! For correct generation results, please set `padding_side='left'` when initializing the tokenizer.\n"
     ]
    },
    {
     "name": "stdout",
     "output_type": "stream",
     "text": [
      "스탠드 조명은 바다에 설치하는 조명으로 이동이 가능하다는 특징이 있어 필요에 따라 자유롭게 위치를 변경할 수 있으며 소품의 기능을 함께하는 조명입니다. 이동성이 좋고 디자인이 다양하다는 장점이 있지만 작은 공간에는 부적합하고 불안정하게 설치 시 파손위험이 있다는 단점이 있습니다.\n"
     ]
    },
    {
     "name": "stderr",
     "output_type": "stream",
     "text": [
      " 22%|█████████▏                                | 10/46 [01:26<04:18,  7.19s/it]The attention mask and the pad token id were not set. As a consequence, you may observe unexpected behavior. Please pass your input's `attention_mask` to obtain reliable results.\n",
      "Setting `pad_token_id` to `eos_token_id`:63998 for open-end generation.\n",
      "A decoder-only architecture is being used, but right-padding was detected! For correct generation results, please set `padding_side='left'` when initializing the tokenizer.\n"
     ]
    },
    {
     "name": "stdout",
     "output_type": "stream",
     "text": [
      "불량 도배지는 내구성이 약해져 도배지가 찢어질 수 있습니다. 따라서 품질이 좋은 도배지를 선택하여 시공하는 것이 중요합니다. 내구성이 뛰어난 도배지를 사용하면 보다 오랜 시간 동안 건물 내부를 보호할 수 있습니다.\n"
     ]
    },
    {
     "name": "stderr",
     "output_type": "stream",
     "text": [
      " 24%|██████████                                | 11/46 [01:49<07:04, 12.13s/it]The attention mask and the pad token id were not set. As a consequence, you may observe unexpected behavior. Please pass your input's `attention_mask` to obtain reliable results.\n",
      "Setting `pad_token_id` to `eos_token_id`:63998 for open-end generation.\n",
      "A decoder-only architecture is being used, but right-padding was detected! For correct generation results, please set `padding_side='left'` when initializing the tokenizer.\n"
     ]
    },
    {
     "name": "stdout",
     "output_type": "stream",
     "text": [
      "실크벽지의 교체 주기를 늘리기 위해서는 몇 가지 방법이 있습니다. 먼저, 매일 수차례 이상 환기를 하는 것이 중요합니다. 또한 가구, 전자제품, 의류 등을 벽지와 적당한 거리를 유지하여 벽지에 습기가 고여 생길 수 있는 곰팡이와 이물질을 방지하는 것이 좋습니다. 뿐만 아니라, 에어컨이나 선풍기 등을 활용하여 공간의 공기를 적절히 순환시키는 것도 중요합니다. 수시로 청소를 하고 먼지와 이물질을 제거하는 것도 벽지의 수명을 늘리는 데 도움이 됩니다. 마지막으로 강한 태양광을 피하고 벽지를 보호하기 위해 암막커튼을 사용하는 것도 고려해 볼 만한 방법입니다. 만약 공간 내 습도가 높거나 누수가 발생한다면, 전문가의 도움을 받아 빠른 조치가 필요합니다. 실크벽지의 교체주기는 일반적으로 5~7년이며, 그 이후에는 바탕이 되는 벽지의 상태 및 사용 환경에 따라 조금 더 나중이나 조금 더 이르게 교체해야 할 수도 있습니다. 때때로 빛의 노출이 많은 공간의 실크벽지는 색상이 바래어 보이거나 벽지 자체가 손상되는 경우가 있는데, 이러한 상황에서는 교체 주기를 조정할 필요가 있습니다. 혹은 특별히 신중하게 관리될 경우 교체 주기를 늘릴 수도 있습니다.\n"
     ]
    },
    {
     "name": "stderr",
     "output_type": "stream",
     "text": [
      " 26%|██████████▉                               | 12/46 [01:51<05:06,  9.00s/it]The attention mask and the pad token id were not set. As a consequence, you may observe unexpected behavior. Please pass your input's `attention_mask` to obtain reliable results.\n",
      "Setting `pad_token_id` to `eos_token_id`:63998 for open-end generation.\n",
      "A decoder-only architecture is being used, but right-padding was detected! For correct generation results, please set `padding_side='left'` when initializing the tokenizer.\n"
     ]
    },
    {
     "name": "stdout",
     "output_type": "stream",
     "text": [
      "철골구조는 화재 발생시 철골이 녹아 건물의 붕괴로 이어질 수 있다는 단점이 있습니다.\n"
     ]
    },
    {
     "name": "stderr",
     "output_type": "stream",
     "text": [
      " 28%|███████████▊                              | 13/46 [01:57<04:30,  8.19s/it]The attention mask and the pad token id were not set. As a consequence, you may observe unexpected behavior. Please pass your input's `attention_mask` to obtain reliable results.\n",
      "Setting `pad_token_id` to `eos_token_id`:63998 for open-end generation.\n",
      "A decoder-only architecture is being used, but right-padding was detected! For correct generation results, please set `padding_side='left'` when initializing the tokenizer.\n"
     ]
    },
    {
     "name": "stdout",
     "output_type": "stream",
     "text": [
      "조적식 구조는 벽돌 또는 콘크리트 블록을 모르타르로 점착하여 쌓는 구조로서 주택과 같은 소규모 건물에 쓰이며 내습, 내구성이 좋고 내화구조이며 경제적이어서 가장 보편적인 방식으로 평가됩니다. 단, 수평방향의 외력에 대하여 약점으로 보이며 단일 벽체면으로 쌓을 수 있는 수평, 수직적인 한계가 있습니다.\n"
     ]
    },
    {
     "name": "stderr",
     "output_type": "stream",
     "text": [
      " 30%|████████████▊                             | 14/46 [02:00<03:34,  6.69s/it]The attention mask and the pad token id were not set. As a consequence, you may observe unexpected behavior. Please pass your input's `attention_mask` to obtain reliable results.\n",
      "Setting `pad_token_id` to `eos_token_id`:63998 for open-end generation.\n",
      "A decoder-only architecture is being used, but right-padding was detected! For correct generation results, please set `padding_side='left'` when initializing the tokenizer.\n"
     ]
    },
    {
     "name": "stdout",
     "output_type": "stream",
     "text": [
      "액체방수공사란 콘크리트, 모르타르 등의 표면에 액체 형태의 방수제를 도포하거나 침투시키고 방수제를 혼합한 모르타르를 덧발라 침투를 막는 공법입니다.\n"
     ]
    },
    {
     "name": "stderr",
     "output_type": "stream",
     "text": [
      " 33%|█████████████▋                            | 15/46 [02:03<02:51,  5.53s/it]The attention mask and the pad token id were not set. As a consequence, you may observe unexpected behavior. Please pass your input's `attention_mask` to obtain reliable results.\n",
      "Setting `pad_token_id` to `eos_token_id`:63998 for open-end generation.\n",
      "A decoder-only architecture is being used, but right-padding was detected! For correct generation results, please set `padding_side='left'` when initializing the tokenizer.\n"
     ]
    },
    {
     "name": "stdout",
     "output_type": "stream",
     "text": [
      "장판 처리방법은 구청, 주민센터에서 생활폐기물 스티커를 구매 후 배출해야 합니다. 단, 장판은 크기마다 비용이 다르므로 사전에 크기를 확인해야 합니다.\n"
     ]
    },
    {
     "name": "stderr",
     "output_type": "stream",
     "text": [
      " 35%|██████████████▌                           | 16/46 [02:13<03:22,  6.76s/it]The attention mask and the pad token id were not set. As a consequence, you may observe unexpected behavior. Please pass your input's `attention_mask` to obtain reliable results.\n",
      "Setting `pad_token_id` to `eos_token_id`:63998 for open-end generation.\n",
      "A decoder-only architecture is being used, but right-padding was detected! For correct generation results, please set `padding_side='left'` when initializing the tokenizer.\n"
     ]
    },
    {
     "name": "stdout",
     "output_type": "stream",
     "text": [
      "콘크리트에 구멍을 뚫으려면 먼저 코어드릴이나 해머드릴과 콘크리트용 드릴 비트를 사용해야 합니다. 코어드릴은 대규모 구멍을 뚫기에 적합하며 해머드릴은 작은 구멍을 뚫는 데 사용됩니다. 뚫고자 하는 위치에 마킹을 하고 시작하기 전에 안전 고글과 마스크를 착용하는 것이 좋습니다. 또한, 콘크리트를 뚫기 전에 전기 및 수도 관련 시설의 위치를 파악하여 안전에 유의해야 합니다.\n"
     ]
    },
    {
     "name": "stderr",
     "output_type": "stream",
     "text": [
      " 37%|███████████████▌                          | 17/46 [02:23<03:48,  7.90s/it]The attention mask and the pad token id were not set. As a consequence, you may observe unexpected behavior. Please pass your input's `attention_mask` to obtain reliable results.\n",
      "Setting `pad_token_id` to `eos_token_id`:63998 for open-end generation.\n",
      "A decoder-only architecture is being used, but right-padding was detected! For correct generation results, please set `padding_side='left'` when initializing the tokenizer.\n"
     ]
    },
    {
     "name": "stdout",
     "output_type": "stream",
     "text": [
      "현재 가장 인기 있는 도배 소재는 실크벽지입니다. 실크벽지는 다양한 패턴과 색상이 있으며 유지보수가 쉽고 내구성이 좋아 많은 사람들에게 선호되고 있습니다. 또한 실크벽지는 고급스러움과 질감이 뛰어나며, 고급 인테리어에서 널리 사용되며, 특히 조명의 변화에 따라 독특한 광택을 더해주는 등 효과적으로 공간의 분위기를 연출할 수 있다는 장점도 가지고 있습니다. 실크벽지는 집안 곳곳에서 사용할 수 있는 다재다능한 소재로 평판이 높고, 특히 현대적이고 고급스러운 분위기를 연출하고 싶을 때 많이 활용됩니다.\n"
     ]
    },
    {
     "name": "stderr",
     "output_type": "stream",
     "text": [
      " 39%|████████████████▍                         | 18/46 [02:31<03:42,  7.96s/it]The attention mask and the pad token id were not set. As a consequence, you may observe unexpected behavior. Please pass your input's `attention_mask` to obtain reliable results.\n",
      "Setting `pad_token_id` to `eos_token_id`:63998 for open-end generation.\n",
      "A decoder-only architecture is being used, but right-padding was detected! For correct generation results, please set `padding_side='left'` when initializing the tokenizer.\n"
     ]
    },
    {
     "name": "stdout",
     "output_type": "stream",
     "text": [
      "복도나 협소한 공간에는 몇 가지 방법이 있습니다. 먼저, 큰 거울을 사용하여 공간을 확장시킬 수 있습니다. 거울은 시각적인 확장 효과를 주어 공간을 넓어 보이게 만들어줍니다. 또한, 밝은 컬러의 벽지나 인테리어 소품을 활용하여 공간을 밝고 개방적으로 만들 수 있습니다. 마지막으로, 슬림한 디자인의 가구를 선택하여 협소한 공간에 적합한 가구를 활용하여 쾌적한 분위기를 조성할 수 있습니다.\n"
     ]
    },
    {
     "name": "stderr",
     "output_type": "stream",
     "text": [
      " 41%|█████████████████▎                        | 19/46 [02:38<03:25,  7.59s/it]The attention mask and the pad token id were not set. As a consequence, you may observe unexpected behavior. Please pass your input's `attention_mask` to obtain reliable results.\n",
      "Setting `pad_token_id` to `eos_token_id`:63998 for open-end generation.\n",
      "A decoder-only architecture is being used, but right-padding was detected! For correct generation results, please set `padding_side='left'` when initializing the tokenizer.\n"
     ]
    },
    {
     "name": "stdout",
     "output_type": "stream",
     "text": [
      "배관공사 시 통기구란 배관 내부에서 공기와 물의 순환이 원활하게 이루어지도록 하고, 온도와 압력을 조절하는 역할을 하는 부품입니다. 이를 통해 배관 시스템이 효율적으로 작동할 수 있도록 돕습니다.\n"
     ]
    },
    {
     "name": "stderr",
     "output_type": "stream",
     "text": [
      " 43%|██████████████████▎                       | 20/46 [02:47<03:29,  8.07s/it]The attention mask and the pad token id were not set. As a consequence, you may observe unexpected behavior. Please pass your input's `attention_mask` to obtain reliable results.\n",
      "Setting `pad_token_id` to `eos_token_id`:63998 for open-end generation.\n",
      "A decoder-only architecture is being used, but right-padding was detected! For correct generation results, please set `padding_side='left'` when initializing the tokenizer.\n"
     ]
    },
    {
     "name": "stdout",
     "output_type": "stream",
     "text": [
      "규산질계 침투도료는 콘크리트 표면에 무기질의 활성 실리카 성분을 포함한 침투성 물질을 도포하여, 콘크리트의 간극이나 공극에 침투시켜 수밀하게 만들어 방수층을 형성하는 공사입니다. 이 방법은 노출된 외부 콘크리트 표면, 노출된 실내 콘크리트 표면, 외부 제물치장 콘크리트 표면, 실내 제물치장 기둥, 그리고 실내 제물치장 바닥에 모두 적용됩니다. 이를 통해 건물의 내구성과 방수 기능을 향상시키는 효과를 얻을 수 있습니다.\n"
     ]
    },
    {
     "name": "stderr",
     "output_type": "stream",
     "text": [
      " 46%|███████████████████▏                      | 21/46 [02:54<03:08,  7.53s/it]The attention mask and the pad token id were not set. As a consequence, you may observe unexpected behavior. Please pass your input's `attention_mask` to obtain reliable results.\n",
      "Setting `pad_token_id` to `eos_token_id`:63998 for open-end generation.\n",
      "A decoder-only architecture is being used, but right-padding was detected! For correct generation results, please set `padding_side='left'` when initializing the tokenizer.\n"
     ]
    },
    {
     "name": "stdout",
     "output_type": "stream",
     "text": [
      "네, 습도가 높으면 곰팡이가 번식하기 좋은 환경이 되어 곰팡이가 발생할 수 있습니다. 습도 조절이 중요하며, 제습기를 사용하거나 공간을 꾸준히 환기시킴으로써 습도를 줄이는 것이 도움이 될 수 있습니다. 경우에 따라서는 전문가의 도움을 받아 습도 관리 시스템을 도입하는 것도 고려해볼 만 합니다.\n"
     ]
    },
    {
     "name": "stderr",
     "output_type": "stream",
     "text": [
      " 48%|████████████████████                      | 22/46 [02:59<02:45,  6.88s/it]The attention mask and the pad token id were not set. As a consequence, you may observe unexpected behavior. Please pass your input's `attention_mask` to obtain reliable results.\n",
      "Setting `pad_token_id` to `eos_token_id`:63998 for open-end generation.\n",
      "A decoder-only architecture is being used, but right-padding was detected! For correct generation results, please set `padding_side='left'` when initializing the tokenizer.\n"
     ]
    },
    {
     "name": "stdout",
     "output_type": "stream",
     "text": [
      "기둥-보 구조 방식이란 건축에서 사용되는 가장 오래된 목구조 방식 중 하나입니다. 이 방식은 통나무 구조에서 발전하여 주로 상업 건물이나 대형 주택 등에 사용됩니다. 최근에는 전통적인 기둥-보 구조와 함께 현대적인 플랫폼 구조를 혼용하는 경우도 많습니다.\n"
     ]
    },
    {
     "name": "stderr",
     "output_type": "stream",
     "text": [
      " 50%|█████████████████████                     | 23/46 [03:09<02:58,  7.77s/it]The attention mask and the pad token id were not set. As a consequence, you may observe unexpected behavior. Please pass your input's `attention_mask` to obtain reliable results.\n",
      "Setting `pad_token_id` to `eos_token_id`:63998 for open-end generation.\n",
      "A decoder-only architecture is being used, but right-padding was detected! For correct generation results, please set `padding_side='left'` when initializing the tokenizer.\n"
     ]
    },
    {
     "name": "stdout",
     "output_type": "stream",
     "text": [
      "새집증후군을 예방하기 위해서는 천연 소재를 사용하고 포름알데히드 처리를 하지 않은 자재를 사용해야 합니다. 뿐만 아니라, 신규 주택으로 이사하기 전에는 실내 난방 온도를 30도 이상으로 8시간 정도 유지하여 휘발성 유기물질을 제거하는 것이 좋습니다. 또한, 창문을 열어 자연 환기를 유도하는 것도 도움이 됩니다. 추가로, 실내 식물을 통해 공기 중의 유해물질을 흡수하는 데에 도움이 되므로, 생활 속에서 자연스러운 방법으로 공기를 정화하는 것도 좋은 선택입니다.\n"
     ]
    },
    {
     "name": "stderr",
     "output_type": "stream",
     "text": [
      " 52%|█████████████████████▉                    | 24/46 [03:16<02:46,  7.56s/it]The attention mask and the pad token id were not set. As a consequence, you may observe unexpected behavior. Please pass your input's `attention_mask` to obtain reliable results.\n",
      "Setting `pad_token_id` to `eos_token_id`:63998 for open-end generation.\n",
      "A decoder-only architecture is being used, but right-padding was detected! For correct generation results, please set `padding_side='left'` when initializing the tokenizer.\n"
     ]
    },
    {
     "name": "stdout",
     "output_type": "stream",
     "text": [
      "옥상 방수용 탄성 에매전 페인트의 장점은 건조 후 이음매 없이 연속적으로 형성된 도막이 뛰어난 내수성을 갖으며, 건물의 충격이나 수축과 팽창에도 도막이 갈라지거나 손상되는 것을 방지하도록 탄성과 인장강도를 보유합니다. 또한, 장기간의 옥외폭로 조건에서도 소지 부착성과 내구성을 보유하여 침수가 반복되는 환경에서도 우수한 성능을 발휘합니다.\n"
     ]
    },
    {
     "name": "stderr",
     "output_type": "stream",
     "text": [
      " 54%|██████████████████████▊                   | 25/46 [03:34<03:45, 10.76s/it]The attention mask and the pad token id were not set. As a consequence, you may observe unexpected behavior. Please pass your input's `attention_mask` to obtain reliable results.\n",
      "Setting `pad_token_id` to `eos_token_id`:63998 for open-end generation.\n",
      "A decoder-only architecture is being used, but right-padding was detected! For correct generation results, please set `padding_side='left'` when initializing the tokenizer.\n"
     ]
    },
    {
     "name": "stdout",
     "output_type": "stream",
     "text": [
      "MSDS(Material안전 Data Sheet)란 물질안전보건자료를 나타내며, 화학 물질의 잠재적 위험에 대한 정보와 안전한 취급, 보관, 폐기에 대한 지침을 포함하는 문서입니다. MSDS는 작업장 내 화학물질에 대한 유해한 노출로부터 근로자를 보호하기 위해 산업안전보건공단, 환경공단, 미국의 OSHA(산업안전보건국)와 같은 규제 기관에서 요구하고 있습니다. 또한, MSDS는 화학물질의 유해성, 위험성, 응급조치 요령, 취급 방법 등을 설명한 자료로, 사업주는 MSDS 상의 유해성·위험성 정보, 취급·저장방법, 응급조치요령, 독성 등의 정보를 통하여 사업장에서 취급하는 화학물질에 대한 정보를 얻어 관리하며, 근로자는 직업병이나 재해사고로부터 자신을 예방할 수 있게 됩니다. MSDS는 산업안전보건법에 따라 제조사는 반드시 작성야만 하며, 각 국가마다 MSDS 양식이 다르지만, 현재는 전세계가 모두 동일한 양식과 체계의 MSDS를 사용하고 있습니다.\n"
     ]
    },
    {
     "name": "stderr",
     "output_type": "stream",
     "text": [
      " 57%|███████████████████████▋                  | 26/46 [03:41<03:13,  9.68s/it]The attention mask and the pad token id were not set. As a consequence, you may observe unexpected behavior. Please pass your input's `attention_mask` to obtain reliable results.\n",
      "Setting `pad_token_id` to `eos_token_id`:63998 for open-end generation.\n",
      "A decoder-only architecture is being used, but right-padding was detected! For correct generation results, please set `padding_side='left'` when initializing the tokenizer.\n"
     ]
    },
    {
     "name": "stdout",
     "output_type": "stream",
     "text": [
      "건조시간이 충분하게 확보되지 않을 경우, 도배지 꼬임이 발생할 수 있습니다. 도배를 마친 후 제조사에서 권장하는 건조기간(일반적으로 일주일)동안 충분한 시간을 확보하는 것이 중요합니다. 건조기간 동안 온도와 습도를 신경 써야 하며, 만약 한 주가 지난 후에도 꼬임이 지속된다면 전문가의 도움을 받아 부분 또는 전체 재작업을 하는 것이 좋습니다.\n"
     ]
    },
    {
     "name": "stderr",
     "output_type": "stream",
     "text": [
      " 59%|████████████████████████▋                 | 27/46 [03:54<03:19, 10.50s/it]The attention mask and the pad token id were not set. As a consequence, you may observe unexpected behavior. Please pass your input's `attention_mask` to obtain reliable results.\n",
      "Setting `pad_token_id` to `eos_token_id`:63998 for open-end generation.\n",
      "A decoder-only architecture is being used, but right-padding was detected! For correct generation results, please set `padding_side='left'` when initializing the tokenizer.\n"
     ]
    },
    {
     "name": "stdout",
     "output_type": "stream",
     "text": [
      "건축물의 구조는 다양한 유형으로 분류할 수 있습니다. 주로 사용되는 구조 유형에는 목구조, 조적조, 철골구조, 콘크리트구조 등이 있습니다. 이러한 다양한 구조는 건물의 사용 용도, 지역별 건축 관행 및 건축 재료의 가용성에 따라 선택됩니다. 파벽돌은 기존에 사용된 벽돌을 분쇄하고 타일 모양으로 잘라내어 새로운 건물이나 구조물을 건설할 때 재활용하는 재료입니다. 이는 자원의 재활용과 친환경적인 건설 방식을 지향하며, 기존의 벽돌을 새로운 구조물에 활용함으로써 자연자원을 보존하는 데 도움을 줍니다. 또한, 파벽돌은 건물의 외관을 독특하게 꾸밀 수 있는 창의적이고 매력적인 재료로 사용됩니다.\n"
     ]
    },
    {
     "name": "stderr",
     "output_type": "stream",
     "text": [
      " 61%|█████████████████████████▌                | 28/46 [04:02<02:58,  9.92s/it]The attention mask and the pad token id were not set. As a consequence, you may observe unexpected behavior. Please pass your input's `attention_mask` to obtain reliable results.\n",
      "Setting `pad_token_id` to `eos_token_id`:63998 for open-end generation.\n",
      "A decoder-only architecture is being used, but right-padding was detected! For correct generation results, please set `padding_side='left'` when initializing the tokenizer.\n"
     ]
    },
    {
     "name": "stdout",
     "output_type": "stream",
     "text": [
      "넓은 공간을 연출하기 위해서는 옅은 색의 벽지와 세로 패턴을 활용하는 것이 좋습니다. 이 조합은 벽면을 확장시키는 효과를 주어 공간을 더 넓게 느끼게 해줍니다. 또한, 커튼을 천장에 가깝게 걸어 길게 내려주면 창문이 더 크게 보이게 하여 공간을 확장하는 효과를 얻을 수 있습니다. 마지막으로 가구나 소품을 벽지와 같은 색상으로 맞추면 통일된 분위기를 연출하여 공간을 더 넓어보이게 만들어줍니다.\n"
     ]
    },
    {
     "name": "stderr",
     "output_type": "stream",
     "text": [
      " 63%|██████████████████████████▍               | 29/46 [04:04<02:05,  7.37s/it]The attention mask and the pad token id were not set. As a consequence, you may observe unexpected behavior. Please pass your input's `attention_mask` to obtain reliable results.\n",
      "Setting `pad_token_id` to `eos_token_id`:63998 for open-end generation.\n",
      "A decoder-only architecture is being used, but right-padding was detected! For correct generation results, please set `padding_side='left'` when initializing the tokenizer.\n"
     ]
    },
    {
     "name": "stdout",
     "output_type": "stream",
     "text": [
      "아파트 도배평수는 일반적으로 분양 평수*2.5로 계산합니다.\n"
     ]
    },
    {
     "name": "stderr",
     "output_type": "stream",
     "text": [
      " 65%|███████████████████████████▍              | 30/46 [04:08<01:44,  6.52s/it]The attention mask and the pad token id were not set. As a consequence, you may observe unexpected behavior. Please pass your input's `attention_mask` to obtain reliable results.\n",
      "Setting `pad_token_id` to `eos_token_id`:63998 for open-end generation.\n",
      "A decoder-only architecture is being used, but right-padding was detected! For correct generation results, please set `padding_side='left'` when initializing the tokenizer.\n"
     ]
    },
    {
     "name": "stdout",
     "output_type": "stream",
     "text": [
      "구조적 결함으로 인해 석고수정이 발생하는 것은 가능합니다. 건물 구조의 결함은 건물의 안정성에 영향을 미치므로 조속한 전문가의 진단과 보수가 필요합니다. 건물의 안전을 위해 구조적 결함에 대한 조기 발견과 개선이 필수적입니다.\n"
     ]
    },
    {
     "name": "stderr",
     "output_type": "stream",
     "text": [
      " 67%|████████████████████████████▎             | 31/46 [04:14<01:36,  6.43s/it]The attention mask and the pad token id were not set. As a consequence, you may observe unexpected behavior. Please pass your input's `attention_mask` to obtain reliable results.\n",
      "Setting `pad_token_id` to `eos_token_id`:63998 for open-end generation.\n",
      "A decoder-only architecture is being used, but right-padding was detected! For correct generation results, please set `padding_side='left'` when initializing the tokenizer.\n"
     ]
    },
    {
     "name": "stdout",
     "output_type": "stream",
     "text": [
      "면 불량은 시공자가 부실 설치를 하거나 잘못된 공구 및 재료를 사용할 때 발생할 수 있습니다. 따라서 시공자가 적합한 방법과 재료를 사용하여 정확히 설치하는 것이 중요합니다. 만약 면 불량이 발생했다면, 시공자로부터 설치 과정과 사용된 재료에 대한 자세한 정보를 확인하여 문제를 해결할 수 있으니 주의해야 합니다.\n"
     ]
    },
    {
     "name": "stderr",
     "output_type": "stream",
     "text": [
      " 70%|█████████████████████████████▏            | 32/46 [04:21<01:29,  6.37s/it]The attention mask and the pad token id were not set. As a consequence, you may observe unexpected behavior. Please pass your input's `attention_mask` to obtain reliable results.\n",
      "Setting `pad_token_id` to `eos_token_id`:63998 for open-end generation.\n",
      "A decoder-only architecture is being used, but right-padding was detected! For correct generation results, please set `padding_side='left'` when initializing the tokenizer.\n"
     ]
    },
    {
     "name": "stdout",
     "output_type": "stream",
     "text": [
      "마감재의 하자 여부를 판단하기 위해서는 몇 가지 요소를 고려해야 합니다. 먼저 설계도서와의 일치 여부를 확인해야 하고, 마감재의 기능상 문제 유무를 점검해야 합니다. 또한, 마감재의 미관상 문제나 안전상의 문제도 주의 깊게 살펴야 합니다. 결국 마감재의 하자 여부를 정확하게 판단하기 위해서는 다양한 요소를 종합적으로 고려해야 합니다.\n"
     ]
    },
    {
     "name": "stderr",
     "output_type": "stream",
     "text": [
      " 72%|██████████████████████████████▏           | 33/46 [04:23<01:07,  5.21s/it]The attention mask and the pad token id were not set. As a consequence, you may observe unexpected behavior. Please pass your input's `attention_mask` to obtain reliable results.\n",
      "Setting `pad_token_id` to `eos_token_id`:63998 for open-end generation.\n",
      "A decoder-only architecture is being used, but right-padding was detected! For correct generation results, please set `padding_side='left'` when initializing the tokenizer.\n"
     ]
    },
    {
     "name": "stdout",
     "output_type": "stream",
     "text": [
      "중목구조는 기본적으로 기중-보 방식과 유사하지만 구조용 목재로 큰 각재를 사용하여 건축한다는 것이 차이점입니다.\n"
     ]
    },
    {
     "name": "stderr",
     "output_type": "stream",
     "text": [
      " 74%|███████████████████████████████           | 34/46 [04:31<01:12,  6.04s/it]The attention mask and the pad token id were not set. As a consequence, you may observe unexpected behavior. Please pass your input's `attention_mask` to obtain reliable results.\n",
      "Setting `pad_token_id` to `eos_token_id`:63998 for open-end generation.\n",
      "A decoder-only architecture is being used, but right-padding was detected! For correct generation results, please set `padding_side='left'` when initializing the tokenizer.\n"
     ]
    },
    {
     "name": "stdout",
     "output_type": "stream",
     "text": [
      "벽돌구조는 건물의 벽체 및 기초 등을 벽돌과 모르타르로 쌓아 만드는 방식으로, 조적식 구조의 기본입니다. 이러한 구조법은 건물의 외벽, 내벽, 기둥, 그리고 굴뚝과 같은 다양한 구조물을 건설하는 데에 사용됩니다. 때로는 블록, 석재, 그리고 타일 등을 혼합하여 사용하기도 합니다. 이러한 구조는 미관적인 측면 뿐만 아니라 강도와 내구성 면에서도 매우 탁월한 장점을 갖고 있습니다.\n"
     ]
    },
    {
     "name": "stderr",
     "output_type": "stream",
     "text": [
      " 76%|███████████████████████████████▉          | 35/46 [04:36<01:04,  5.83s/it]The attention mask and the pad token id were not set. As a consequence, you may observe unexpected behavior. Please pass your input's `attention_mask` to obtain reliable results.\n",
      "Setting `pad_token_id` to `eos_token_id`:63998 for open-end generation.\n",
      "A decoder-only architecture is being used, but right-padding was detected! For correct generation results, please set `padding_side='left'` when initializing the tokenizer.\n"
     ]
    },
    {
     "name": "stdout",
     "output_type": "stream",
     "text": [
      "기둥-보 구조 방식이란 건축에서 사용되는 가장 오래된 목구조 방식 중 하나입니다. 이 방식은 통나무 구조에서 발전하여 주로 상업 건물이나 대형 주택 등에 사용됩니다. 최근에는 전통적인 기둥-보 구조와 함께 현대적인 플랫폼 구조를 혼용하는 경우도 많습니다.\n"
     ]
    },
    {
     "name": "stderr",
     "output_type": "stream",
     "text": [
      " 78%|████████████████████████████████▊         | 36/46 [04:39<00:48,  4.88s/it]The attention mask and the pad token id were not set. As a consequence, you may observe unexpected behavior. Please pass your input's `attention_mask` to obtain reliable results.\n",
      "Setting `pad_token_id` to `eos_token_id`:63998 for open-end generation.\n",
      "A decoder-only architecture is being used, but right-padding was detected! For correct generation results, please set `padding_side='left'` when initializing the tokenizer.\n"
     ]
    },
    {
     "name": "stdout",
     "output_type": "stream",
     "text": [
      "바닥재를 선택할 경우, 사용 공간의 특성, 가구와의 조화, 편리한 청소 및 유지보수 등을 고려하여 적절한 소재를 선택해야 합니다.\n"
     ]
    },
    {
     "name": "stderr",
     "output_type": "stream",
     "text": [
      " 80%|█████████████████████████████████▊        | 37/46 [04:47<00:51,  5.69s/it]The attention mask and the pad token id were not set. As a consequence, you may observe unexpected behavior. Please pass your input's `attention_mask` to obtain reliable results.\n",
      "Setting `pad_token_id` to `eos_token_id`:63998 for open-end generation.\n",
      "A decoder-only architecture is being used, but right-padding was detected! For correct generation results, please set `padding_side='left'` when initializing the tokenizer.\n"
     ]
    },
    {
     "name": "stdout",
     "output_type": "stream",
     "text": [
      "도배와 벽지는 각각의 장단점을 가지고 있습니다. 벽지는 다양한 패턴과 텍스처로 공간에 아름다움을 더해주는 장점이 있고, 도료는 단색으로 고급스럽고 부드러운 마무리를 원할 때 유용합니다. 고려해야 할 요소는 사용하고자 하는 공간의 크기, 조명, 가구 및 인테리어 스타일 등입니다. 따라서, 벽지와 도료 중에서 어떤 것이 더 잘 어울리고 필요한지를 고려하여 선택해야 합니다.\n"
     ]
    },
    {
     "name": "stderr",
     "output_type": "stream",
     "text": [
      " 83%|██████████████████████████████████▋       | 38/46 [04:52<00:45,  5.71s/it]The attention mask and the pad token id were not set. As a consequence, you may observe unexpected behavior. Please pass your input's `attention_mask` to obtain reliable results.\n",
      "Setting `pad_token_id` to `eos_token_id`:63998 for open-end generation.\n",
      "A decoder-only architecture is being used, but right-padding was detected! For correct generation results, please set `padding_side='left'` when initializing the tokenizer.\n"
     ]
    },
    {
     "name": "stdout",
     "output_type": "stream",
     "text": [
      "알루미늄징크의 단점은 시공이 제대로 이루어지지 않을 경우 울음 현상이 발생할 수 있는 점입니다. 또한, 알루미늄징크는 리얼징크에 비해 가격이 상대적으로 높다는 것도 단점으로 언급됩니다.재료의 품질과 시공 방법에 따라 울음 현상이 발생하지 않도록 주의하는 것이 중요합니다.\n"
     ]
    },
    {
     "name": "stderr",
     "output_type": "stream",
     "text": [
      " 85%|███████████████████████████████████▌      | 39/46 [04:59<00:42,  6.11s/it]The attention mask and the pad token id were not set. As a consequence, you may observe unexpected behavior. Please pass your input's `attention_mask` to obtain reliable results.\n",
      "Setting `pad_token_id` to `eos_token_id`:63998 for open-end generation.\n",
      "A decoder-only architecture is being used, but right-padding was detected! For correct generation results, please set `padding_side='left'` when initializing the tokenizer.\n"
     ]
    },
    {
     "name": "stdout",
     "output_type": "stream",
     "text": [
      "높은 습도로 인해 습기가 도배지에 스며들거나 습기로 인해 도배지가 팽창할 때 꼬임이 발생할 수 있습니다. 따라서 습도를 적정 수준으로 유지하고, 제습기를 사용하거나 환기를 통해 건물 내부의 습기를 줄이는 것이 중요합니다. 만약 꼬임이 계속 발생한다면, 전문가의 도움을 받아 부분 혹은 전체 재작업을 하는 것이 좋습니다.\n"
     ]
    },
    {
     "name": "stderr",
     "output_type": "stream",
     "text": [
      " 87%|████████████████████████████████████▌     | 40/46 [05:06<00:37,  6.31s/it]The attention mask and the pad token id were not set. As a consequence, you may observe unexpected behavior. Please pass your input's `attention_mask` to obtain reliable results.\n",
      "Setting `pad_token_id` to `eos_token_id`:63998 for open-end generation.\n",
      "A decoder-only architecture is being used, but right-padding was detected! For correct generation results, please set `padding_side='left'` when initializing the tokenizer.\n"
     ]
    },
    {
     "name": "stdout",
     "output_type": "stream",
     "text": [
      "라돈은 밀봉된 병에 채취되며, 공동주택의 최저층에 위치한 세대에서 측정됩니다. 공동주택의 총 세대수가 100세대일 때는 3세대를 측정하고, 이후 100세대가 증가할 때마다 1세대를 추가로 측정하며, 최대 12세대까지 시료를 채취합니다. 이렇게 함으로써 해당 주택의 라돈 농도를 측정하고 저감 조치를 취할 수 있게 됩니다.\n"
     ]
    },
    {
     "name": "stderr",
     "output_type": "stream",
     "text": [
      " 89%|█████████████████████████████████████▍    | 41/46 [05:12<00:30,  6.18s/it]The attention mask and the pad token id were not set. As a consequence, you may observe unexpected behavior. Please pass your input's `attention_mask` to obtain reliable results.\n",
      "Setting `pad_token_id` to `eos_token_id`:63998 for open-end generation.\n",
      "A decoder-only architecture is being used, but right-padding was detected! For correct generation results, please set `padding_side='left'` when initializing the tokenizer.\n"
     ]
    },
    {
     "name": "stdout",
     "output_type": "stream",
     "text": [
      "분말 소화기는 탄산수소 나트륨 분말을 사용하여 불을 질식시키는 불연성 고압가스에 의해 소화약제를 방출하는 소화기입니다. 주로 기체 화재에 사용되며, 높은 화재 위험이 있는 곳에 설치되어 있습니다. 독특한 작동 방식으로 인해 일반적인 불화재 소화기보다 불연소 화재를 진압하는 효과적인 소화기입니다.\n"
     ]
    },
    {
     "name": "stderr",
     "output_type": "stream",
     "text": [
      " 91%|██████████████████████████████████████▎   | 42/46 [05:14<00:19,  4.85s/it]The attention mask and the pad token id were not set. As a consequence, you may observe unexpected behavior. Please pass your input's `attention_mask` to obtain reliable results.\n",
      "Setting `pad_token_id` to `eos_token_id`:63998 for open-end generation.\n",
      "A decoder-only architecture is being used, but right-padding was detected! For correct generation results, please set `padding_side='left'` when initializing the tokenizer.\n"
     ]
    },
    {
     "name": "stdout",
     "output_type": "stream",
     "text": [
      "면진구조란 면진 장치를 사용해 지반과 건물을 분리시키는 방법을 의미합니다.\n"
     ]
    },
    {
     "name": "stderr",
     "output_type": "stream",
     "text": [
      " 93%|███████████████████████████████████████▎  | 43/46 [05:18<00:13,  4.63s/it]The attention mask and the pad token id were not set. As a consequence, you may observe unexpected behavior. Please pass your input's `attention_mask` to obtain reliable results.\n",
      "Setting `pad_token_id` to `eos_token_id`:63998 for open-end generation.\n",
      "A decoder-only architecture is being used, but right-padding was detected! For correct generation results, please set `padding_side='left'` when initializing the tokenizer.\n"
     ]
    },
    {
     "name": "stdout",
     "output_type": "stream",
     "text": [
      "벽에 구멍을 메우기 위해 먼저 합성 먼지나 석고를 사용하여 구멍을 메우고, 이후에는 필요에 따라 패팅을 적용합니다. 패팅은 벽의 표면을 매끈하게 하고 색상을 일치시키는 데 도움이 됩니다.\n"
     ]
    },
    {
     "name": "stderr",
     "output_type": "stream",
     "text": [
      " 96%|████████████████████████████████████████▏ | 44/46 [05:25<00:10,  5.34s/it]The attention mask and the pad token id were not set. As a consequence, you may observe unexpected behavior. Please pass your input's `attention_mask` to obtain reliable results.\n",
      "Setting `pad_token_id` to `eos_token_id`:63998 for open-end generation.\n",
      "A decoder-only architecture is being used, but right-padding was detected! For correct generation results, please set `padding_side='left'` when initializing the tokenizer.\n"
     ]
    },
    {
     "name": "stdout",
     "output_type": "stream",
     "text": [
      "내진구조란 지진이 발생했을 때 건물이나 시설물이 붕괴되지 않도록 설계된 구조를 의미합니다. 내진벽과 같은 부재를 설치하여 지진파에 대비하여 건물을 보다 안전하게 만드는 것이 내진구조의 핵심입니다. 내진설계를 통해 건물이 지진에 대응할 수 있도록 고려되며, 지진 시 건물의 토양이나 지반에 의해 발생하는 흔들림에도 견딜 수 있도록 설계됩니다.\n"
     ]
    },
    {
     "name": "stderr",
     "output_type": "stream",
     "text": [
      " 98%|█████████████████████████████████████████ | 45/46 [05:26<00:04,  4.16s/it]The attention mask and the pad token id were not set. As a consequence, you may observe unexpected behavior. Please pass your input's `attention_mask` to obtain reliable results.\n",
      "Setting `pad_token_id` to `eos_token_id`:63998 for open-end generation.\n",
      "A decoder-only architecture is being used, but right-padding was detected! For correct generation results, please set `padding_side='left'` when initializing the tokenizer.\n"
     ]
    },
    {
     "name": "stdout",
     "output_type": "stream",
     "text": [
      "아파트 도배평수는 일반적으로 분양 평수*2.5로 계산합니다.\n"
     ]
    },
    {
     "name": "stderr",
     "output_type": "stream",
     "text": [
      "100%|██████████████████████████████████████████| 46/46 [05:32<00:00,  7.23s/it]"
     ]
    },
    {
     "name": "stdout",
     "output_type": "stream",
     "text": [
      "오리지널징크는 다른 징크에 비해 수명이 길고 다양한 패턴과 디자인이 가능하며 친환경적이고 금속 부식에 대한 내식성이 뛰어나 유지보수가 용이하다는 장점이 있습니다. 또한 오리지널징크는 가벼우면서도 매우 견고하며 낮은 유지보수 비용과 높은 재활용 가능성을 갖고 있습니다.\n"
     ]
    },
    {
     "name": "stderr",
     "output_type": "stream",
     "text": [
      "\n"
     ]
    }
   ],
   "source": [
    "file_path = \"result_kko_appendix_1.txt\"\n",
    "\n",
    "\n",
    "for idx, test_question in tqdm(appedix_dict_1.items()):\n",
    "    # 입력 텍스트를 토큰화하고 모델 입력 형태로 변환\n",
    "    \n",
    "    input_ids = tokenizer.encode(test_question + tokenizer.eos_token, return_tensors='pt')\n",
    "\n",
    "    # 답변 생성\n",
    "    with torch.no_grad():\n",
    "\n",
    "        # output_sequences = model.generate(\n",
    "        #     input_ids=input_ids.to(device),\n",
    "        #     max_length=2000,\n",
    "        #     min_length=20,\n",
    "        #     temperature=1.5,\n",
    "        #     top_k=120,\n",
    "        #     top_p=1.5,\n",
    "        #     repetition_penalty=1.0,\n",
    "        #     do_sample=True,\n",
    "        #     num_beams=120,\n",
    "        #     # no_repeat_ngram_size=3,\n",
    "        #     # num_return_sequences=1,\n",
    "        #     # eos_token_id=tokenizer.eos_token_id\n",
    "        # )\n",
    "        output_sequences = model.generate(\n",
    "            input_ids=input_ids.to(device),\n",
    "            max_length=700,\n",
    "            min_length=20,\n",
    "            temperature=0.9,\n",
    "            top_k=500,\n",
    "            top_p=0.9,\n",
    "            repetition_penalty=1.5,\n",
    "            do_sample=True,\n",
    "            num_beams=10,\n",
    "            no_repeat_ngram_size=5,\n",
    "            # num_return_sequences=1,\n",
    "            eos_token_id=tokenizer.eos_token_id\n",
    "        )\n",
    "\n",
    "\n",
    "    for generated_sequence in output_sequences:\n",
    "        full_text = tokenizer.decode(generated_sequence, skip_special_tokens=False)\n",
    "        # print(full_text)\n",
    "        answer_start = full_text.find(tokenizer.eos_token) \n",
    "        anser_end = full_text.rfind(tokenizer.eos_token) \n",
    "        answer_only = full_text[answer_start+4:anser_end].strip()\n",
    "        answer_only = answer_only.replace('\\n', ' ')\n",
    "        preds.append(answer_only)\n",
    "        print(answer_only)\n",
    "        answer_only = str(idx)+answer_only+'\\n'\n",
    "    if idx==0:\n",
    "        with open(file_path, \"w\") as file:\n",
    "            file.write(answer_only)\n",
    "    else:\n",
    "        with open(file_path, \"a\") as file:\n",
    "            file.write(answer_only)\n",
    "    idx+=1"
   ]
  },
  {
   "cell_type": "code",
   "execution_count": 14,
   "id": "16f13b91-1b26-4860-9e71-acfc62cc4f52",
   "metadata": {},
   "outputs": [
    {
     "name": "stderr",
     "output_type": "stream",
     "text": [
      "  0%|                                                   | 0/12 [00:00<?, ?it/s]The attention mask and the pad token id were not set. As a consequence, you may observe unexpected behavior. Please pass your input's `attention_mask` to obtain reliable results.\n",
      "Setting `pad_token_id` to `eos_token_id`:63998 for open-end generation.\n",
      "A decoder-only architecture is being used, but right-padding was detected! For correct generation results, please set `padding_side='left'` when initializing the tokenizer.\n",
      "  8%|███▌                                       | 1/12 [00:04<00:46,  4.25s/it]The attention mask and the pad token id were not set. As a consequence, you may observe unexpected behavior. Please pass your input's `attention_mask` to obtain reliable results.\n",
      "Setting `pad_token_id` to `eos_token_id`:63998 for open-end generation.\n",
      "A decoder-only architecture is being used, but right-padding was detected! For correct generation results, please set `padding_side='left'` when initializing the tokenizer.\n"
     ]
    },
    {
     "name": "stdout",
     "output_type": "stream",
     "text": [
      "합지벽지의 어떤 단점이 있나요?</s>합지벽지의 단점은 상대적으로 수명이 짧고 내구성이 약하여 금방 오염될 수 있으며, 오염이 발생하면 청소가 어렵고 변색이 생길 수 있다는 점입니다. 또한, 시간이 지남에 따라 모양이 훼손될 수도 있습니다.</s>\n",
      "지벽지의 단점은 상대적으로 수명이 짧고 내구성이 약하여 금방 오염될 수 있으며, 오염이 발생하면 청소가 어렵고 변색이 생길 수 있다는 점입니다. 또한, 시간이 지남에 따라 모양이 훼손될 수도 있습니다.\n"
     ]
    },
    {
     "name": "stderr",
     "output_type": "stream",
     "text": [
      " 17%|███████▏                                   | 2/12 [00:10<00:52,  5.21s/it]The attention mask and the pad token id were not set. As a consequence, you may observe unexpected behavior. Please pass your input's `attention_mask` to obtain reliable results.\n",
      "Setting `pad_token_id` to `eos_token_id`:63998 for open-end generation.\n",
      "A decoder-only architecture is being used, but right-padding was detected! For correct generation results, please set `padding_side='left'` when initializing the tokenizer.\n"
     ]
    },
    {
     "name": "stdout",
     "output_type": "stream",
     "text": [
      "페인트 상도재의 역할과 사용 방법에 대해 알려주세요.</s>페인트 상도재는 최종 마감으로 칠하는 페인트로, 영어로는 Top Coating이라고 합니다. 상도재는 하도재와 주도재의 제품을 보호하는 역할을 담당하며, 외부 표면에 노출될 때의 열 및 기후에 강하며 내구성이 높은 특징을 가지고 있습니다. 이러한 장점 때문에 가격이 다소 비쌉니다.</s>\n",
      "인트 상도재는 최종 마감으로 칠하는 페인트로, 영어로는 Top Coating이라고 합니다. 상도재는 하도재와 주도재의 제품을 보호하는 역할을 담당하며, 외부 표면에 노출될 때의 열 및 기후에 강하며 내구성이 높은 특징을 가지고 있습니다. 이러한 장점 때문에 가격이 다소 비쌉니다.\n"
     ]
    },
    {
     "name": "stderr",
     "output_type": "stream",
     "text": [
      " 25%|██████████▊                                | 3/12 [00:16<00:53,  5.90s/it]The attention mask and the pad token id were not set. As a consequence, you may observe unexpected behavior. Please pass your input's `attention_mask` to obtain reliable results.\n",
      "Setting `pad_token_id` to `eos_token_id`:63998 for open-end generation.\n",
      "A decoder-only architecture is being used, but right-padding was detected! For correct generation results, please set `padding_side='left'` when initializing the tokenizer.\n"
     ]
    },
    {
     "name": "stdout",
     "output_type": "stream",
     "text": [
      "습도가 높을 때 곰팡이가 어떻게 발생하는지 자세히 알고 싶습니다.</s>네, 습도가 높으면 곰팡이가 서식하기 좋은 환경이 되어 곰팡이가 발생할 수 있습니다. 습도 조절을 통해 실내 습도를 적정 수준으로 유지하고 규칙적인 환기를 통해 곰팡이 발생을 예방하는 것이 중요합니다. 또한, 저습도를 유지하고 청소를 규칙적으로 하여 곰팡이 방지에 효과적인 방법을 찾는 것도 좋은 방법입니다.</s>\n",
      ", 습도가 높으면 곰팡이가 서식하기 좋은 환경이 되어 곰팡이가 발생할 수 있습니다. 습도 조절을 통해 실내 습도를 적정 수준으로 유지하고 규칙적인 환기를 통해 곰팡이 발생을 예방하는 것이 중요합니다. 또한, 저습도를 유지하고 청소를 규칙적으로 하여 곰팡이 방지에 효과적인 방법을 찾는 것도 좋은 방법입니다.\n"
     ]
    },
    {
     "name": "stderr",
     "output_type": "stream",
     "text": [
      " 33%|██████████████▎                            | 4/12 [00:23<00:49,  6.17s/it]The attention mask and the pad token id were not set. As a consequence, you may observe unexpected behavior. Please pass your input's `attention_mask` to obtain reliable results.\n",
      "Setting `pad_token_id` to `eos_token_id`:63998 for open-end generation.\n",
      "A decoder-only architecture is being used, but right-padding was detected! For correct generation results, please set `padding_side='left'` when initializing the tokenizer.\n"
     ]
    },
    {
     "name": "stdout",
     "output_type": "stream",
     "text": [
      "도배지가 남으면 어떻게 처리해야 하나요?</s>도배지를 처리하는 방법 중 하나는 폐기물 스티커를 부착하는 것입니다. 폐기물 스티커는 동사무소, 편의점, 일반 슈퍼 등에서 구매할 수 있습니다. 또한, 아파트의 경우에는 경비실에 비치되어 있는 경우가 있으니 해당 시설의 담당자나 관리사무실에 문의하여 얻을 수도 있습니다.</s>\n",
      "배지를 처리하는 방법 중 하나는 폐기물 스티커를 부착하는 것입니다. 폐기물 스티커는 동사무소, 편의점, 일반 슈퍼 등에서 구매할 수 있습니다. 또한, 아파트의 경우에는 경비실에 비치되어 있는 경우가 있으니 해당 시설의 담당자나 관리사무실에 문의하여 얻을 수도 있습니다.\n"
     ]
    },
    {
     "name": "stderr",
     "output_type": "stream",
     "text": [
      " 42%|█████████████████▉                         | 5/12 [00:28<00:39,  5.71s/it]The attention mask and the pad token id were not set. As a consequence, you may observe unexpected behavior. Please pass your input's `attention_mask` to obtain reliable results.\n",
      "Setting `pad_token_id` to `eos_token_id`:63998 for open-end generation.\n",
      "A decoder-only architecture is being used, but right-padding was detected! For correct generation results, please set `padding_side='left'` when initializing the tokenizer.\n"
     ]
    },
    {
     "name": "stdout",
     "output_type": "stream",
     "text": [
      "소화기 종류에는 어떤 것들이 있는지 알려주세요.</s>소화기에는 여러 종류가 있습니다. 주로 사용되는 소화기로는 ABC 소화기, 분말 소화기, 이산화탄소 소화기 등이 있습니다. 하지만 이외에도 물 소화기, 거품 소화기, 물 분무 소화기 등의 다양한 종류가 있으며, 사용 용도에 따라 적합한 소화기를 선택하는 것이 중요합니다.</s>\n",
      "화기에는 여러 종류가 있습니다. 주로 사용되는 소화기로는 ABC 소화기, 분말 소화기, 이산화탄소 소화기 등이 있습니다. 하지만 이외에도 물 소화기, 거품 소화기, 물 분무 소화기 등의 다양한 종류가 있으며, 사용 용도에 따라 적합한 소화기를 선택하는 것이 중요합니다.\n"
     ]
    },
    {
     "name": "stderr",
     "output_type": "stream",
     "text": [
      " 50%|█████████████████████▌                     | 6/12 [00:36<00:38,  6.47s/it]The attention mask and the pad token id were not set. As a consequence, you may observe unexpected behavior. Please pass your input's `attention_mask` to obtain reliable results.\n",
      "Setting `pad_token_id` to `eos_token_id`:63998 for open-end generation.\n",
      "A decoder-only architecture is being used, but right-padding was detected! For correct generation results, please set `padding_side='left'` when initializing the tokenizer.\n"
     ]
    },
    {
     "name": "stdout",
     "output_type": "stream",
     "text": [
      "토목이 무엇인지 설명해줘.</s>토목은 목재, 철재, 토석 등을 활용하여 도로, 교량, 항만, 제방, 철도, 건물, 상하수도 등을 건설하는 분야를 가리킵니다. 이 분야는 여러 재료와 기술을 활용하여 기반구조물을 설계하고 건설하는 것을 포함하며, 인프라 및 건설 시설물의 안전과 효율성을 담보합니다. 토목은 인프라를 구축하고 유지하는 데 필수적인 역할을 담당하며, 공공 및 민간의 다양한 건설프로젝트에 관여하고 있습니다.</s>\n",
      "목은 목재, 철재, 토석 등을 활용하여 도로, 교량, 항만, 제방, 철도, 건물, 상하수도 등을 건설하는 분야를 가리킵니다. 이 분야는 여러 재료와 기술을 활용하여 기반구조물을 설계하고 건설하는 것을 포함하며, 인프라 및 건설 시설물의 안전과 효율성을 담보합니다. 토목은 인프라를 구축하고 유지하는 데 필수적인 역할을 담당하며, 공공 및 민간의 다양한 건설프로젝트에 관여하고 있습니다.\n"
     ]
    },
    {
     "name": "stderr",
     "output_type": "stream",
     "text": [
      " 58%|█████████████████████████                  | 7/12 [00:37<00:24,  4.81s/it]The attention mask and the pad token id were not set. As a consequence, you may observe unexpected behavior. Please pass your input's `attention_mask` to obtain reliable results.\n",
      "Setting `pad_token_id` to `eos_token_id`:63998 for open-end generation.\n",
      "A decoder-only architecture is being used, but right-padding was detected! For correct generation results, please set `padding_side='left'` when initializing the tokenizer.\n"
     ]
    },
    {
     "name": "stdout",
     "output_type": "stream",
     "text": [
      "셀룰로오스의 단점에 대해 설명해주세요.</s>셀룰로오스는 정밀한 시공능력이 전제된다는 단점이 있습니다.</s>\n",
      "룰로오스는 정밀한 시공능력이 전제된다는 단점이 있습니다.\n"
     ]
    },
    {
     "name": "stderr",
     "output_type": "stream",
     "text": [
      " 67%|████████████████████████████▋              | 8/12 [00:46<00:24,  6.15s/it]The attention mask and the pad token id were not set. As a consequence, you may observe unexpected behavior. Please pass your input's `attention_mask` to obtain reliable results.\n",
      "Setting `pad_token_id` to `eos_token_id`:63998 for open-end generation.\n",
      "A decoder-only architecture is being used, but right-padding was detected! For correct generation results, please set `padding_side='left'` when initializing the tokenizer.\n"
     ]
    },
    {
     "name": "stdout",
     "output_type": "stream",
     "text": [
      "반려동물을 위한 바닥재에는 어떤 종류가 있는지 알려주세요.</s>반려동물을 위한 다양한 바닥재가 있습니다. 예를 들어 미끄럼 방지 기능이 있는 바닥재가 있어서 반려 동물들이 미끄러지지 않도록 도와주는 역할을 합니다. 이는 반려동물이 뛰어다니는 습성을 고려하여 다칠 위험이나 다리 관절에 무리가 가지 않도록 도와줍니다. 또한, 바닥재를 교체하기 어려운 상황이라면 카펫이나 러그를 깔아두는 것도 좋은 방법입니다. 이러한 바닥재들은 반려동물의 건강과 안전을 위해 선택할 수 있는 옵션들 중 하나입니다.</s>\n",
      "려동물을 위한 다양한 바닥재가 있습니다. 예를 들어 미끄럼 방지 기능이 있는 바닥재가 있어서 반려 동물들이 미끄러지지 않도록 도와주는 역할을 합니다. 이는 반려동물이 뛰어다니는 습성을 고려하여 다칠 위험이나 다리 관절에 무리가 가지 않도록 도와줍니다. 또한, 바닥재를 교체하기 어려운 상황이라면 카펫이나 러그를 깔아두는 것도 좋은 방법입니다. 이러한 바닥재들은 반려동물의 건강과 안전을 위해 선택할 수 있는 옵션들 중 하나입니다.\n"
     ]
    },
    {
     "name": "stderr",
     "output_type": "stream",
     "text": [
      " 75%|████████████████████████████████▎          | 9/12 [00:53<00:18,  6.24s/it]The attention mask and the pad token id were not set. As a consequence, you may observe unexpected behavior. Please pass your input's `attention_mask` to obtain reliable results.\n",
      "Setting `pad_token_id` to `eos_token_id`:63998 for open-end generation.\n",
      "A decoder-only architecture is being used, but right-padding was detected! For correct generation results, please set `padding_side='left'` when initializing the tokenizer.\n"
     ]
    },
    {
     "name": "stdout",
     "output_type": "stream",
     "text": [
      "밀풀 사용 시 주의할 점은 무엇인가요?</s>밀풀은 옥수수 등의 전분이 함께 포함된 풀로, 저렴한 가격과 뛰어난 접착력이 특징입니다. 그러나 유통기간이 짧고 보관에 유의해야 하며, 사용 후에는 풀자국이 남을 수 있는 점에 유의해야 합니다.특히, 밀풀은 대부분의 재료와 잘 변색되지 않아 색상의 일광 처리를 하고자 할 때 사용하기에 좋습니다.</s>\n",
      "풀은 옥수수 등의 전분이 함께 포함된 풀로, 저렴한 가격과 뛰어난 접착력이 특징입니다. 그러나 유통기간이 짧고 보관에 유의해야 하며, 사용 후에는 풀자국이 남을 수 있는 점에 유의해야 합니다.특히, 밀풀은 대부분의 재료와 잘 변색되지 않아 색상의 일광 처리를 하고자 할 때 사용하기에 좋습니다.\n"
     ]
    },
    {
     "name": "stderr",
     "output_type": "stream",
     "text": [
      " 83%|███████████████████████████████████       | 10/12 [01:02<00:14,  7.10s/it]The attention mask and the pad token id were not set. As a consequence, you may observe unexpected behavior. Please pass your input's `attention_mask` to obtain reliable results.\n",
      "Setting `pad_token_id` to `eos_token_id`:63998 for open-end generation.\n",
      "A decoder-only architecture is being used, but right-padding was detected! For correct generation results, please set `padding_side='left'` when initializing the tokenizer.\n"
     ]
    },
    {
     "name": "stdout",
     "output_type": "stream",
     "text": [
      "통나무구조 방식은 어떤 건물에 사용되는 건축 구조 방식인가요?</s>통나무구조 방식이란 주로 원형이나 각형의 내력벽으로 구성되며, 나머지 바닥이나 지붕은 2x4 경량 목구조와 유사한 방식으로 조립됩니다. 이 구조는 벽체가 통나무를 쌓는 형태이기 때문에 1층 높이에서 7~12cm 정도의 침하가 장기적으로 발생할 수 있으므로, 창문틀 등의 개구부에는 침하를 고려한 디테일을 고려해야 합니다. 통나무구조 방식은 자연적이고 따뜻한 분위기를 연출해내기 때문에 주택 및 휴양시설에서 선호되는 구조 방식 중 하나입니다.</s>\n",
      "나무구조 방식이란 주로 원형이나 각형의 내력벽으로 구성되며, 나머지 바닥이나 지붕은 2x4 경량 목구조와 유사한 방식으로 조립됩니다. 이 구조는 벽체가 통나무를 쌓는 형태이기 때문에 1층 높이에서 7~12cm 정도의 침하가 장기적으로 발생할 수 있으므로, 창문틀 등의 개구부에는 침하를 고려한 디테일을 고려해야 합니다. 통나무구조 방식은 자연적이고 따뜻한 분위기를 연출해내기 때문에 주택 및 휴양시설에서 선호되는 구조 방식 중 하나입니다.\n"
     ]
    },
    {
     "name": "stderr",
     "output_type": "stream",
     "text": [
      " 92%|██████████████████████████████████████▌   | 11/12 [01:06<00:06,  6.26s/it]The attention mask and the pad token id were not set. As a consequence, you may observe unexpected behavior. Please pass your input's `attention_mask` to obtain reliable results.\n",
      "Setting `pad_token_id` to `eos_token_id`:63998 for open-end generation.\n",
      "A decoder-only architecture is being used, but right-padding was detected! For correct generation results, please set `padding_side='left'` when initializing the tokenizer.\n"
     ]
    },
    {
     "name": "stdout",
     "output_type": "stream",
     "text": [
      "펫테리어가 무엇인지 자세히 알려주세요.</s>펫테리어는 반려동물과 함께 살아가는 가정을 위해 반려동물의 생활환경과 주거 공간의 인테리어를 고려하여 조화롭게 꾸미는 것을 말합니다. 이를 통해 주거 환경을 아름답게 꾸미면서도 반려동물과의 생활을 보다 즐겁게 할 수 있도록 합니다.</s>\n",
      "테리어는 반려동물과 함께 살아가는 가정을 위해 반려동물의 생활환경과 주거 공간의 인테리어를 고려하여 조화롭게 꾸미는 것을 말합니다. 이를 통해 주거 환경을 아름답게 꾸미면서도 반려동물과의 생활을 보다 즐겁게 할 수 있도록 합니다.\n"
     ]
    },
    {
     "name": "stderr",
     "output_type": "stream",
     "text": [
      "100%|██████████████████████████████████████████| 12/12 [01:12<00:00,  6.06s/it]"
     ]
    },
    {
     "name": "stdout",
     "output_type": "stream",
     "text": [
      "철근콘크리트 구조에 대해 좀 더 자세히 알려주세요.</s>철근콘크리트 구조는 콘크리트의 압축 강도를 살려내는 동시에 철근으로 인장 강도를 보완하여 구축된 구조체입니다. 일반적으로 도심에서 많이 사용되며 내구성, 내화 및 내진 성능이 우수합니다. 그러나 고층 건물에서는 아래층의 보나 기둥이 상당한 무게를 지탱해야 하므로 구조 요소의 단면이 커야 하는 문제가 있습니다.</s>\n",
      "근콘크리트 구조는 콘크리트의 압축 강도를 살려내는 동시에 철근으로 인장 강도를 보완하여 구축된 구조체입니다. 일반적으로 도심에서 많이 사용되며 내구성, 내화 및 내진 성능이 우수합니다. 그러나 고층 건물에서는 아래층의 보나 기둥이 상당한 무게를 지탱해야 하므로 구조 요소의 단면이 커야 하는 문제가 있습니다.\n"
     ]
    },
    {
     "name": "stderr",
     "output_type": "stream",
     "text": [
      "\n"
     ]
    }
   ],
   "source": [
    "file_path = \"result_kko_appendix_2.txt\"\n",
    "\n",
    "\n",
    "for idx, test_question in tqdm(appedix_dict_2.items()):\n",
    "    # 입력 텍스트를 토큰화하고 모델 입력 형태로 변환\n",
    "    \n",
    "    input_ids = tokenizer.encode(test_question + tokenizer.eos_token, return_tensors='pt')\n",
    "\n",
    "    # 답변 생성\n",
    "    with torch.no_grad():\n",
    "\n",
    "        # output_sequences = model.generate(\n",
    "        #     input_ids=input_ids.to(device),\n",
    "        #     max_length=2000,\n",
    "        #     min_length=20,\n",
    "        #     temperature=1.5,\n",
    "        #     top_k=120,\n",
    "        #     top_p=1.5,\n",
    "        #     repetition_penalty=1.0,\n",
    "        #     do_sample=True,\n",
    "        #     num_beams=120,\n",
    "        #     # no_repeat_ngram_size=3,\n",
    "        #     # num_return_sequences=1,\n",
    "        #     # eos_token_id=tokenizer.eos_token_id\n",
    "        # )\n",
    "        output_sequences = model.generate(\n",
    "            input_ids=input_ids.to(device),\n",
    "            max_length=700,\n",
    "            min_length=20,\n",
    "            temperature=0.9,\n",
    "            top_k=500,\n",
    "            top_p=0.9,\n",
    "            repetition_penalty=1.5,\n",
    "            do_sample=True,\n",
    "            num_beams=10,\n",
    "            no_repeat_ngram_size=5,\n",
    "            # num_return_sequences=1,\n",
    "            eos_token_id=tokenizer.eos_token_id\n",
    "        )\n",
    "\n",
    "    for generated_sequence in output_sequences:\n",
    "        full_text = tokenizer.decode(generated_sequence, skip_special_tokens=False)\n",
    "        print(full_text)\n",
    "        answer_start = full_text.find(tokenizer.eos_token) \n",
    "        anser_end = full_text.rfind(tokenizer.eos_token) \n",
    "        answer_only = full_text[answer_start+5:anser_end].strip()\n",
    "        answer_only = answer_only.replace('\\n', ' ')\n",
    "        preds.append(answer_only)\n",
    "        print(answer_only)\n",
    "        answer_only = str(idx)+answer_only+'\\n'\n",
    "    if idx==0:\n",
    "        with open(file_path, \"w\") as file:\n",
    "            file.write(answer_only)\n",
    "    else:\n",
    "        with open(file_path, \"a\") as file:\n",
    "            file.write(answer_only)\n",
    "    idx+=1"
   ]
  },
  {
   "cell_type": "code",
   "execution_count": 15,
   "id": "063d2123-28e5-4302-a192-86b00735ab3d",
   "metadata": {},
   "outputs": [
    {
     "name": "stderr",
     "output_type": "stream",
     "text": [
      "  0%|                                                    | 0/6 [00:00<?, ?it/s]The attention mask and the pad token id were not set. As a consequence, you may observe unexpected behavior. Please pass your input's `attention_mask` to obtain reliable results.\n",
      "Setting `pad_token_id` to `eos_token_id`:63998 for open-end generation.\n",
      "A decoder-only architecture is being used, but right-padding was detected! For correct generation results, please set `padding_side='left'` when initializing the tokenizer.\n",
      " 17%|███████▎                                    | 1/6 [00:14<01:11, 14.33s/it]The attention mask and the pad token id were not set. As a consequence, you may observe unexpected behavior. Please pass your input's `attention_mask` to obtain reliable results.\n",
      "Setting `pad_token_id` to `eos_token_id`:63998 for open-end generation.\n",
      "A decoder-only architecture is being used, but right-padding was detected! For correct generation results, please set `padding_side='left'` when initializing the tokenizer.\n"
     ]
    },
    {
     "name": "stdout",
     "output_type": "stream",
     "text": [
      ", 압출법 단열판을 사용하는 것의 장점은 무엇인가요?또한</s>압출법 단열판의 장점은 다음과 같습니다:  1. 내구성: 비드법 단열재에 비해 내구성이 뛰어나며 오랜 시간 동안 사용해도 변형이나 손상이 적습니다.  2. 환경 친화적: 재활용이 가능하기 때문에 환경에 미치는 영향을 최소화할 수 있습니다.  3. 저렴한 가격: 다른 단열재에 비해 비교적 저렴하게 구매할 수 있어 경제적인 이점을 가지고 있습니다.  4. 다양한 디자인과 색상: 다양한 형태와 색상으로 제공되어 다양한 인테리어 스타일에 적합합니다.  5. 유지보수가 쉽고 간편합니다. 필요에 따라 교체할 수 있어 유지보수가 편리합니다.  이러한 장점들로 인해 압출법 보온판은 많은 사람들에게 선호되는 단열재로 평가받고 있습니다.</s>\n"
     ]
    },
    {
     "name": "stderr",
     "output_type": "stream",
     "text": [
      " 33%|██████████████▋                             | 2/6 [00:19<00:35,  8.84s/it]The attention mask and the pad token id were not set. As a consequence, you may observe unexpected behavior. Please pass your input's `attention_mask` to obtain reliable results.\n",
      "Setting `pad_token_id` to `eos_token_id`:63998 for open-end generation.\n",
      "A decoder-only architecture is being used, but right-padding was detected! For correct generation results, please set `padding_side='left'` when initializing the tokenizer.\n"
     ]
    },
    {
     "name": "stdout",
     "output_type": "stream",
     "text": [
      ", 세라믹 타일을 사용할 때 고려해야 할 단점은 무엇인가요?또한</s>세라믹 타일의 단점으로는 온도 변화에 민감하여 내장용으로만 사용해야 하는 점과 경도가 약해 충격과 마모에 쉽게 영향을 받는다는 것이 있습니다. 이러한 특성으로 인해 바닥과 벽면에서 주로 사용되며, 평평한 표면과 내장장식으로 활용되어야 합니다.</s>\n"
     ]
    },
    {
     "name": "stderr",
     "output_type": "stream",
     "text": [
      " 50%|██████████████████████                      | 3/6 [00:25<00:22,  7.57s/it]The attention mask and the pad token id were not set. As a consequence, you may observe unexpected behavior. Please pass your input's `attention_mask` to obtain reliable results.\n",
      "Setting `pad_token_id` to `eos_token_id`:63998 for open-end generation.\n",
      "A decoder-only architecture is being used, but right-padding was detected! For correct generation results, please set `padding_side='left'` when initializing the tokenizer.\n"
     ]
    },
    {
     "name": "stdout",
     "output_type": "stream",
     "text": [
      ", 낡은 목재 가구의 흠집을 숨기는 방법을 알려주세요.또한</s>흠집을 목재 펜스틱으로 채우고 흠집을 완만한 흠집 채우기 바로 전에 샌드지로 문질러 조각을 지나치게 여기지 않는 것이 중요합니다. 도마 위에서 펜스틱이 식으면, 나무 왁스를 사용하여 마감하세요. 이러한 마무리 작업은 가구에 쉽게 흠집이 들어가거나 노출되는 부분이 자주 있는 상황에서 효과적입니다.</s>\n"
     ]
    },
    {
     "name": "stderr",
     "output_type": "stream",
     "text": [
      " 67%|█████████████████████████████▎              | 4/6 [00:32<00:14,  7.47s/it]The attention mask and the pad token id were not set. As a consequence, you may observe unexpected behavior. Please pass your input's `attention_mask` to obtain reliable results.\n",
      "Setting `pad_token_id` to `eos_token_id`:63998 for open-end generation.\n",
      "A decoder-only architecture is being used, but right-padding was detected! For correct generation results, please set `padding_side='left'` when initializing the tokenizer.\n"
     ]
    },
    {
     "name": "stdout",
     "output_type": "stream",
     "text": [
      ", 속건형 유성 발수제의 사용 목적과 효과에 대해 알려주세요.또한</s>속건형 유성 발수제는 다공성이 있는 각종 건축자재의 표면에 도장되어 빗물 등의 침투를 막아줌으로써 건축자재의 색상을 보호, 유지시켜주며 건물의 균열이나 백화현상, 철근의 부식을 방지하여 건축물의 수명을 연장시켜주는 장점이 있습니다.</s>\n"
     ]
    },
    {
     "name": "stderr",
     "output_type": "stream",
     "text": [
      " 83%|████████████████████████████████████▋       | 5/6 [00:37<00:06,  6.66s/it]The attention mask and the pad token id were not set. As a consequence, you may observe unexpected behavior. Please pass your input's `attention_mask` to obtain reliable results.\n",
      "Setting `pad_token_id` to `eos_token_id`:63998 for open-end generation.\n",
      "A decoder-only architecture is being used, but right-padding was detected! For correct generation results, please set `padding_side='left'` when initializing the tokenizer.\n"
     ]
    },
    {
     "name": "stdout",
     "output_type": "stream",
     "text": [
      ", 강화마루의 장점은 무엇입니까?또한</s>강화마루는 저렴한 가격과 시공비로 지은 장점이 있습니다. 또한, 강화마루는 충격과 흠집에 강한 속성을 가지고 있어서 내구성이 좋습니다. 또한 시공, 유지보수, 그리고 철거가 용이하며, 접착 시공 없이 설치할 수 있어서 친환경적이라는 점도 장점으로 꼽힙니다.</s>\n"
     ]
    },
    {
     "name": "stderr",
     "output_type": "stream",
     "text": [
      "100%|████████████████████████████████████████████| 6/6 [00:40<00:00,  6.82s/it]"
     ]
    },
    {
     "name": "stdout",
     "output_type": "stream",
     "text": [
      ", 아이소핑크의 장점은 무엇인가요?또한</s>아이소핑크는 습기에 강하고 곰팡이 및 세균 증식을 막을 수 있으며 단열재 중 열전도율이 가장 낮은 편이고 시공이 간편하다는 장점이 있습니다.</s>\n"
     ]
    },
    {
     "name": "stderr",
     "output_type": "stream",
     "text": [
      "\n"
     ]
    }
   ],
   "source": [
    "file_path = \"result_kko_appendix_3.txt\"\n",
    "\n",
    "\n",
    "for idx, test_question in tqdm(appedix_dict_3.items()):\n",
    "    # 입력 텍스트를 토큰화하고 모델 입력 형태로 변환\n",
    "    \n",
    "    input_ids = tokenizer.encode(test_question + tokenizer.eos_token, return_tensors='pt')\n",
    "\n",
    "    # 답변 생성\n",
    "    with torch.no_grad():\n",
    "\n",
    "        # output_sequences = model.generate(\n",
    "        #     input_ids=input_ids.to(device),\n",
    "        #     max_length=2000,\n",
    "        #     min_length=20,\n",
    "        #     temperature=1.5,\n",
    "        #     top_k=120,\n",
    "        #     top_p=1.5,\n",
    "        #     repetition_penalty=1.0,\n",
    "        #     do_sample=True,\n",
    "        #     num_beams=120,\n",
    "        #     # no_repeat_ngram_size=3,\n",
    "        #     # num_return_sequences=1,\n",
    "        #     # eos_token_id=tokenizer.eos_token_id\n",
    "        # )\n",
    "        output_sequences = model.generate(\n",
    "            input_ids=input_ids.to(device),\n",
    "            max_length=700,\n",
    "            min_length=20,\n",
    "            temperature=0.9,\n",
    "            top_k=500,\n",
    "            top_p=0.9,\n",
    "            repetition_penalty=1.5,\n",
    "            do_sample=True,\n",
    "            num_beams=10,\n",
    "            no_repeat_ngram_size=5,\n",
    "            # num_return_sequences=1,\n",
    "            eos_token_id=tokenizer.eos_token_id\n",
    "        )\n",
    "\n",
    "    for generated_sequence in output_sequences:\n",
    "        full_text = tokenizer.decode(generated_sequence, skip_special_tokens=False)\n",
    "        print(full_text)\n",
    "        answer_start = full_text.find(tokenizer.eos_token) \n",
    "        anser_end = full_text.rfind(tokenizer.eos_token) \n",
    "        answer_only = full_text[answer_start+5:anser_end].strip()\n",
    "        answer_only = answer_only.replace('\\n', ' ')\n",
    "        preds.append(answer_only)\n",
    "        answer_only = str(idx)+answer_only+'\\n'\n",
    "    if idx==0:\n",
    "        with open(file_path, \"w\") as file:\n",
    "            file.write(answer_only)\n",
    "    else:\n",
    "        with open(file_path, \"a\") as file:\n",
    "            file.write(answer_only)\n",
    "    idx+=1"
   ]
  },
  {
   "cell_type": "code",
   "execution_count": null,
   "id": "0e2a3e6d-b53b-4dc3-9bc5-f9466245b55c",
   "metadata": {},
   "outputs": [],
   "source": [
    "test_df\n",
    "\n",
    "# source_prefix = \"<|source|>\"\n",
    "# cand1_prefix = \"<|candidate1|>\"\n",
    "# cand2_prefix = \"<|candidate2|>\"\n",
    "# inputs = [\"hello!\", \"I love you!\"]\n",
    "# candidates_A = [\"hi!\", \"I hate you!\"]\n",
    "# candidates_B = [\"f**k off!\", \"I love you, too!\"]\n",
    "# def tokenize_pair(sources:List[str], candidate1s:List[str], candidate2s:List[str], source_max_length=1224, candidate_max_length=412):\n",
    "#     ids = []\n",
    "#     assert len(sources) == len(candidate1s) == len(candidate2s)\n",
    "#     max_length = source_max_length + 2 * candidate_max_length\n",
    "#     for i in range(len(sources)):\n",
    "#         source_ids = tokenizer.encode(source_prefix + sources[i], max_length=source_max_length, truncation=True)\n",
    "#         candidate_max_length = (max_length - len(source_ids)) // 2\n",
    "#         candidate1_ids = tokenizer.encode(cand1_prefix + candidate1s[i], max_length=candidate_max_length, truncation=True)\n",
    "#         candidate2_ids = tokenizer.encode(cand2_prefix + candidate2s[i], max_length=candidate_max_length, truncation=True)\n",
    "#         ids.append(source_ids + candidate1_ids + candidate2_ids)\n",
    "#     encodings = tokenizer.pad({\"input_ids\": ids}, return_tensors=\"pt\", padding=\"max_length\", max_length=max_length)\n",
    "#     return encodings\n",
    "\n",
    "# encodings = tokenize_pair(inputs, candidates_A, candidates_B)\n",
    "# encodings = {k:v.to(pairrm.device) for k,v in encodings.items()}\n",
    "# outputs = pairrm(**encodings)\n",
    "# logits = outputs.logits.tolist()\n",
    "# comparison_results = outputs.logits > 0\n",
    "# print(logits)\n",
    "# # [1.9003021717071533, -1.2547134160995483]\n",
    "# print(comparison_results)"
   ]
  },
  {
   "cell_type": "code",
   "execution_count": null,
   "id": "3aeb3ca3-79db-4997-96b5-a0918f677309",
   "metadata": {},
   "outputs": [],
   "source": []
  },
  {
   "cell_type": "code",
   "execution_count": null,
   "id": "2125879a-50b4-43e8-9542-e987e6e656c3",
   "metadata": {},
   "outputs": [],
   "source": []
  }
 ],
 "metadata": {
  "kernelspec": {
   "display_name": "Python 3 (ipykernel)",
   "language": "python",
   "name": "python3"
  },
  "language_info": {
   "codemirror_mode": {
    "name": "ipython",
    "version": 3
   },
   "file_extension": ".py",
   "mimetype": "text/x-python",
   "name": "python",
   "nbconvert_exporter": "python",
   "pygments_lexer": "ipython3",
   "version": "3.8.10"
  }
 },
 "nbformat": 4,
 "nbformat_minor": 5
}
