{
 "cells": [
  {
   "cell_type": "code",
   "execution_count": 1,
   "id": "6874a3b7-8bec-4cc3-9a6b-68392aa14e4c",
   "metadata": {},
   "outputs": [],
   "source": [
    "# !pip install transformers\n",
    "import os\n",
    "os.environ[\"CUDA_VISIBLE_DEVICES\"]=\"2\"\n",
    "# loss 2.8460 - > 0.2065"
   ]
  },
  {
   "cell_type": "code",
   "execution_count": 2,
   "id": "0a7fa711-3db2-4c5d-9e86-ed0903646a59",
   "metadata": {},
   "outputs": [
    {
     "name": "stdout",
     "output_type": "stream",
     "text": [
      "Using device: cuda\n"
     ]
    }
   ],
   "source": [
    "import pandas as pd\n",
    "import numpy as np\n",
    "import torch\n",
    "import random\n",
    "\n",
    "from transformers import GPT2LMHeadModel, PreTrainedTokenizerFast, AdamW, AutoTokenizer\n",
    "from tqdm import tqdm\n",
    "from torch.utils.data import DataLoader, Dataset # 데이터를 모델에 사용할 수 있도록 정리해 주는 라이브러리\n",
    "\n",
    "# CUDA 사용 가능 여부 확인\n",
    "device = torch.device(\"cuda\" if torch.cuda.is_available() else \"cpu\")\n",
    "print(f\"Using device: {device}\")"
   ]
  },
  {
   "cell_type": "code",
   "execution_count": 3,
   "id": "76d46de4-96da-45fa-b273-c0e9c64ac2e2",
   "metadata": {},
   "outputs": [],
   "source": [
    "CFG = {\n",
    "    'LR' : 5e-6, # Learning Rate\n",
    "    'EPOCHS' : 30, # 학습 Epoch\n",
    "    'BATCH_SIZE' : 1,\n",
    "    # 'AUG_RATIO' : 0.15,\n",
    "    'AUG_PROB' : 0.5,\n",
    "}"
   ]
  },
  {
   "cell_type": "code",
   "execution_count": 4,
   "id": "82e08fd5-ad18-4d9e-b173-b798845f7ac0",
   "metadata": {},
   "outputs": [],
   "source": [
    "data_df = pd.read_csv('./data/train.csv')\n",
    "data_df = data_df.drop(['id','category'], axis=1)\n"
   ]
  },
  {
   "cell_type": "code",
   "execution_count": 5,
   "id": "3da01f05-f943-43e8-8909-af0cf4cd9554",
   "metadata": {},
   "outputs": [],
   "source": [
    "# tokenizer = PreTrainedTokenizerFast.from_pretrained('skt/kogpt2-base-v2', eos_token='</s>')\n",
    "tokenizer = PreTrainedTokenizerFast.from_pretrained('./skt_aug2_1_epoch/', max_length=10000, eos_token='</s>',  truncation=True)\n",
    "model = GPT2LMHeadModel.from_pretrained(\"./skt_aug2_1_epoch/\")"
   ]
  },
  {
   "cell_type": "code",
   "execution_count": 6,
   "id": "86e8711c-f955-4e65-9886-fbaad47d5f6f",
   "metadata": {},
   "outputs": [],
   "source": [
    "import random\n",
    "\n",
    "\n",
    "class HansolDataset(Dataset):\n",
    "    def __init__(self, data_df, tokenizer):\n",
    "        self.tokenizer = tokenizer\n",
    "        self.data_df = None\n",
    "        self.sentence_list = []\n",
    "        self._augment_question(data_df)\n",
    "        self._generate_data()\n",
    "        \n",
    "    def __getitem__(self, index):\n",
    "        return self.sentence_list[index]\n",
    "    \n",
    "    def __len__(self):\n",
    "        return len(self.sentence_list)\n",
    "\n",
    "    def _augment_question(self, data_df):\n",
    "        for _, row in data_df.iterrows():\n",
    "            new_row = {}\n",
    "            random_number = random.choice(range(0, len(data_df)))\n",
    "            new_row['질문_1'] = row['질문_1'] + ' ' + data_df['질문_1'][random_number]\n",
    "            new_row['질문_2'] = row['질문_2'] + ' ' + data_df['질문_2'][random_number]\n",
    "            new_row['답변_1'] = row['답변_1'] + ' ' + data_df['답변_1'][random_number]\n",
    "            new_row['답변_2'] = row['답변_2'] + ' ' + data_df['답변_2'][random_number]\n",
    "            new_row['답변_3'] = row['답변_3'] + ' ' + data_df['답변_3'][random_number]\n",
    "            new_row['답변_4'] = row['답변_4'] + ' ' + data_df['답변_4'][random_number]\n",
    "            new_row['답변_5'] = row['답변_5'] + ' ' + data_df['답변_5'][random_number]\n",
    "            df = pd.DataFrame(new_row,  index = [0])\n",
    "            data_df = pd.concat([data_df, df], ignore_index=True)\n",
    "        self.data_df = data_df.copy(deep=True)\n",
    "        \n",
    "    def _generate_data(self):\n",
    "        for _, row in self.data_df.iterrows():\n",
    "            for q_col in ['질문_1', '질문_2']:\n",
    "                for a_col in ['답변_1', '답변_2', '답변_3', '답변_4', '답변_5']:\n",
    "                    # 질문과 답변 쌍을 </s> token으로 연결\n",
    "                    input_text = row[q_col] + tokenizer.eos_token + row[a_col] + tokenizer.eos_token\n",
    "                    input_ids = tokenizer.encode(input_text, return_tensors='pt')\n",
    "                    self.sentence_list.append(input_ids)\n",
    "                    \n"
   ]
  },
  {
   "cell_type": "code",
   "execution_count": null,
   "id": "7c1264e9-37b5-4356-beb4-a2851d550258",
   "metadata": {},
   "outputs": [],
   "source": []
  },
  {
   "cell_type": "code",
   "execution_count": null,
   "id": "01592193-f165-463a-abb3-ddc33f57c238",
   "metadata": {},
   "outputs": [
    {
     "name": "stderr",
     "output_type": "stream",
     "text": [
      "/usr/local/lib/python3.8/dist-packages/transformers/optimization.py:429: FutureWarning: This implementation of AdamW is deprecated and will be removed in a future version. Use the PyTorch implementation torch.optim.AdamW instead, or set `no_deprecation_warning=True` to disable this warning\n",
      "  warnings.warn(\n",
      "Epoch 1 - Avg Loss: 0.0992: 100%|█████████████████████████████████████████████████████████████████████████████████████████████████████████████████████████████████████████| 12880/12880 [16:11<00:00, 13.25it/s]\n"
     ]
    },
    {
     "name": "stdout",
     "output_type": "stream",
     "text": [
      "Epoch 1/30, Average Loss: 0.09917274556116935\n"
     ]
    },
    {
     "name": "stderr",
     "output_type": "stream",
     "text": [
      "Epoch 2 - Avg Loss: 0.1016:  22%|██████████████████████████████▌                                                                                                           | 2849/12880 [03:38<13:08, 12.72it/s]"
     ]
    }
   ],
   "source": [
    "\n",
    "model.to(device) # 모델을 GPU단으로 이동\n",
    "\n",
    "# 모델 학습 설정\n",
    "optimizer = AdamW(model.parameters(), lr=CFG['LR'])\n",
    "model.train()\n",
    "\n",
    "# 모델 학습\n",
    "for epoch in range(CFG['EPOCHS']):\n",
    "    total_loss = 0\n",
    "    dataset = HansolDataset(data_df = data_df, tokenizer=tokenizer)\n",
    "    dataloader = DataLoader(dataset, batch_size=CFG['BATCH_SIZE'], shuffle=True) # 미니 배치 형태로 데이터 갖추기\n",
    "    progress_bar = tqdm(enumerate(dataloader), total=len(dataloader))\n",
    "    for batch_idx, batch in progress_bar:\n",
    "        # 데이터를 GPU단으로 이동\n",
    "        batch = batch[0]\n",
    "        batch.unsqueeze(0)\n",
    "        batch = batch.to(device)\n",
    "        outputs = model(batch, labels=batch)\n",
    "        loss = outputs.loss\n",
    "        loss.backward()\n",
    "        optimizer.step()\n",
    "        optimizer.zero_grad()\n",
    "\n",
    "        total_loss += loss.item()\n",
    "\n",
    "        # 진행률 표시줄에 평균 손실 업데이트\n",
    "        progress_bar.set_description(f\"Epoch {epoch+1} - Avg Loss: {total_loss / (batch_idx+1):.4f}\")\n",
    "\n",
    "    # 에폭의 평균 손실을 출력\n",
    "    print(f\"Epoch {epoch+1}/{CFG['EPOCHS']}, Average Loss: {total_loss / len(dataloader)}\")\n",
    "    model.save_pretrained(f\"./skt_aug2_2_{epoch}_epoch\")\n",
    "    tokenizer.save_pretrained(f\"./skt_aug2_2_{epoch}_epoch\")"
   ]
  },
  {
   "cell_type": "code",
   "execution_count": null,
   "id": "daf8e69c-6c5d-4357-87fe-8992d990da16",
   "metadata": {},
   "outputs": [],
   "source": []
  }
 ],
 "metadata": {
  "kernelspec": {
   "display_name": "Python 3 (ipykernel)",
   "language": "python",
   "name": "python3"
  },
  "language_info": {
   "codemirror_mode": {
    "name": "ipython",
    "version": 3
   },
   "file_extension": ".py",
   "mimetype": "text/x-python",
   "name": "python",
   "nbconvert_exporter": "python",
   "pygments_lexer": "ipython3",
   "version": "3.8.10"
  }
 },
 "nbformat": 4,
 "nbformat_minor": 5
}
