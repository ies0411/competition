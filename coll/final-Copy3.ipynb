{
 "cells": [
  {
   "cell_type": "code",
   "execution_count": 1,
   "id": "1db13f79",
   "metadata": {},
   "outputs": [],
   "source": [
    "#pseudo label -> randomrain, random snow\n",
    "# pip uninstall opencv-python-headless==4.5.5.62\n",
    "#pip install opencv-python-headless==4.5.2.52"
   ]
  },
  {
   "cell_type": "code",
   "execution_count": 2,
   "id": "ed9ba04b",
   "metadata": {},
   "outputs": [],
   "source": [
    "import numpy as np\n",
    "import pandas as pd\n",
    "\n",
    "import torch\n",
    "import torch.nn as nn\n",
    "import torch.nn.functional as F\n",
    "import pytorch_lightning as pl\n",
    "from torchsampler import ImbalancedDatasetSampler\n",
    "from sklearn.model_selection import KFold,StratifiedKFold\n",
    "import albumentations as A\n",
    "\n",
    "from datetime import datetime\n",
    "from sklearn.metrics import f1_score\n",
    "from torch.utils.data import Dataset, DataLoader\n",
    "from segmentation_models_pytorch.losses import FocalLoss\n",
    "from pytorch_lightning.callbacks import ModelCheckpoint, EarlyStopping\n",
    "import random\n",
    "import os\n",
    "import cv2\n",
    "from tqdm import tqdm\n",
    "from transformers import AutoModel, AutoImageProcessor, AutoConfig\n",
    "\n",
    "import warnings\n",
    "\n",
    "warnings.filterwarnings(\"ignore\")\n"
   ]
  },
  {
   "cell_type": "code",
   "execution_count": 3,
   "id": "8a95a426",
   "metadata": {},
   "outputs": [
    {
     "data": {
      "text/plain": [
       "device(type='cuda')"
      ]
     },
     "execution_count": 3,
     "metadata": {},
     "output_type": "execute_result"
    }
   ],
   "source": [
    "device = torch.device('cuda') if torch.cuda.is_available() else torch.device('cpu')\n",
    "device"
   ]
  },
  {
   "cell_type": "code",
   "execution_count": 4,
   "id": "8f09879e",
   "metadata": {},
   "outputs": [],
   "source": [
    "import pandas as pd\n",
    "all_df = pd.read_csv('./data/train.csv')\n",
    "test_df = pd.read_csv('./data/test.csv')"
   ]
  },
  {
   "cell_type": "code",
   "execution_count": 5,
   "id": "f0de55a5",
   "metadata": {},
   "outputs": [
    {
     "data": {
      "text/html": [
       "<div>\n",
       "<style scoped>\n",
       "    .dataframe tbody tr th:only-of-type {\n",
       "        vertical-align: middle;\n",
       "    }\n",
       "\n",
       "    .dataframe tbody tr th {\n",
       "        vertical-align: top;\n",
       "    }\n",
       "\n",
       "    .dataframe thead th {\n",
       "        text-align: right;\n",
       "    }\n",
       "</style>\n",
       "<table border=\"1\" class=\"dataframe\">\n",
       "  <thead>\n",
       "    <tr style=\"text-align: right;\">\n",
       "      <th></th>\n",
       "      <th>sample_id</th>\n",
       "      <th>video_path</th>\n",
       "      <th>label</th>\n",
       "    </tr>\n",
       "  </thead>\n",
       "  <tbody>\n",
       "    <tr>\n",
       "      <th>0</th>\n",
       "      <td>TRAIN_0000</td>\n",
       "      <td>./train/TRAIN_0000.mp4</td>\n",
       "      <td>7</td>\n",
       "    </tr>\n",
       "    <tr>\n",
       "      <th>1</th>\n",
       "      <td>TRAIN_0001</td>\n",
       "      <td>./train/TRAIN_0001.mp4</td>\n",
       "      <td>7</td>\n",
       "    </tr>\n",
       "    <tr>\n",
       "      <th>2</th>\n",
       "      <td>TRAIN_0002</td>\n",
       "      <td>./train/TRAIN_0002.mp4</td>\n",
       "      <td>0</td>\n",
       "    </tr>\n",
       "    <tr>\n",
       "      <th>3</th>\n",
       "      <td>TRAIN_0003</td>\n",
       "      <td>./train/TRAIN_0003.mp4</td>\n",
       "      <td>0</td>\n",
       "    </tr>\n",
       "    <tr>\n",
       "      <th>4</th>\n",
       "      <td>TRAIN_0004</td>\n",
       "      <td>./train/TRAIN_0004.mp4</td>\n",
       "      <td>1</td>\n",
       "    </tr>\n",
       "    <tr>\n",
       "      <th>...</th>\n",
       "      <td>...</td>\n",
       "      <td>...</td>\n",
       "      <td>...</td>\n",
       "    </tr>\n",
       "    <tr>\n",
       "      <th>2693</th>\n",
       "      <td>TRAIN_2693</td>\n",
       "      <td>./train/TRAIN_2693.mp4</td>\n",
       "      <td>3</td>\n",
       "    </tr>\n",
       "    <tr>\n",
       "      <th>2694</th>\n",
       "      <td>TRAIN_2694</td>\n",
       "      <td>./train/TRAIN_2694.mp4</td>\n",
       "      <td>5</td>\n",
       "    </tr>\n",
       "    <tr>\n",
       "      <th>2695</th>\n",
       "      <td>TRAIN_2695</td>\n",
       "      <td>./train/TRAIN_2695.mp4</td>\n",
       "      <td>0</td>\n",
       "    </tr>\n",
       "    <tr>\n",
       "      <th>2696</th>\n",
       "      <td>TRAIN_2696</td>\n",
       "      <td>./train/TRAIN_2696.mp4</td>\n",
       "      <td>0</td>\n",
       "    </tr>\n",
       "    <tr>\n",
       "      <th>2697</th>\n",
       "      <td>TRAIN_2697</td>\n",
       "      <td>./train/TRAIN_2697.mp4</td>\n",
       "      <td>0</td>\n",
       "    </tr>\n",
       "  </tbody>\n",
       "</table>\n",
       "<p>2698 rows × 3 columns</p>\n",
       "</div>"
      ],
      "text/plain": [
       "       sample_id              video_path  label\n",
       "0     TRAIN_0000  ./train/TRAIN_0000.mp4      7\n",
       "1     TRAIN_0001  ./train/TRAIN_0001.mp4      7\n",
       "2     TRAIN_0002  ./train/TRAIN_0002.mp4      0\n",
       "3     TRAIN_0003  ./train/TRAIN_0003.mp4      0\n",
       "4     TRAIN_0004  ./train/TRAIN_0004.mp4      1\n",
       "...          ...                     ...    ...\n",
       "2693  TRAIN_2693  ./train/TRAIN_2693.mp4      3\n",
       "2694  TRAIN_2694  ./train/TRAIN_2694.mp4      5\n",
       "2695  TRAIN_2695  ./train/TRAIN_2695.mp4      0\n",
       "2696  TRAIN_2696  ./train/TRAIN_2696.mp4      0\n",
       "2697  TRAIN_2697  ./train/TRAIN_2697.mp4      0\n",
       "\n",
       "[2698 rows x 3 columns]"
      ]
     },
     "execution_count": 5,
     "metadata": {},
     "output_type": "execute_result"
    }
   ],
   "source": [
    "all_df"
   ]
  },
  {
   "cell_type": "code",
   "execution_count": 77,
   "id": "21e99571",
   "metadata": {},
   "outputs": [
    {
     "data": {
      "text/plain": [
       "0     1783\n",
       "1      318\n",
       "7      317\n",
       "3       78\n",
       "2       51\n",
       "9       34\n",
       "11      33\n",
       "8       30\n",
       "5       28\n",
       "4       13\n",
       "12       6\n",
       "10       4\n",
       "6        3\n",
       "Name: label, dtype: int64"
      ]
     },
     "execution_count": 77,
     "metadata": {},
     "output_type": "execute_result"
    }
   ],
   "source": [
    "all_df['label'].value_counts()"
   ]
  },
  {
   "cell_type": "code",
   "execution_count": 74,
   "id": "94ac16ac",
   "metadata": {
    "collapsed": true
   },
   "outputs": [
    {
     "data": {
      "text/plain": [
       "([<matplotlib.patches.Wedge at 0x7f715126ec70>,\n",
       "  <matplotlib.patches.Wedge at 0x7f715126eb80>,\n",
       "  <matplotlib.patches.Wedge at 0x7f715120e880>,\n",
       "  <matplotlib.patches.Wedge at 0x7f715120ef10>,\n",
       "  <matplotlib.patches.Wedge at 0x7f715121b5e0>,\n",
       "  <matplotlib.patches.Wedge at 0x7f715121bc70>,\n",
       "  <matplotlib.patches.Wedge at 0x7f715122b340>,\n",
       "  <matplotlib.patches.Wedge at 0x7f715122b9d0>,\n",
       "  <matplotlib.patches.Wedge at 0x7f71511ba0a0>,\n",
       "  <matplotlib.patches.Wedge at 0x7f71511ba730>,\n",
       "  <matplotlib.patches.Wedge at 0x7f715126ec40>,\n",
       "  <matplotlib.patches.Wedge at 0x7f71511ca460>,\n",
       "  <matplotlib.patches.Wedge at 0x7f71511caaf0>],\n",
       " [Text(-0.5325310866300808, 0.9625022814376003, '0'),\n",
       "  Text(-0.20752850976271434, -1.0802462300955589, '1 '),\n",
       "  Text(0.5745845227575379, -0.9380045981803569, '2'),\n",
       "  Text(0.9312505194808931, -0.5854677360594407, '3'),\n",
       "  Text(1.0083769207737112, -0.43951790139985036, '4'),\n",
       "  Text(1.046872293515258, -0.3377253337700683, '5'),\n",
       "  Text(1.0700092334161624, -0.25510829152373027, '6'),\n",
       "  Text(1.085828936291206, -0.175998639519482, '7'),\n",
       "  Text(1.0952308039998275, -0.102320506106505, '8'),\n",
       "  Text(1.098865943765374, -0.04993633579502754, '9'),\n",
       "  Text(1.0997017216298914, -0.02561490668054735, '10'),\n",
       "  Text(1.0999254273925687, -0.01280836348935126, '11'),\n",
       "  Text(1.0999932881918424, -0.0038426466007609184, '12')],\n",
       " [Text(-0.29047150179822584, 0.5250012444205092, '66.09%'),\n",
       "  Text(-0.11319736896148053, -0.5892252164157593, '11.79%'),\n",
       "  Text(0.3134097396859297, -0.51163887173474, '11.75%'),\n",
       "  Text(0.5079548288077599, -0.31934603785060395, '2.89%'),\n",
       "  Text(0.5500237749674788, -0.23973703712719108, '1.89%'),\n",
       "  Text(0.5710212510083224, -0.18421381842003726, '1.26%'),\n",
       "  Text(0.5836414000451794, -0.13914997719476194, '1.22%'),\n",
       "  Text(0.5922703288861122, -0.09599925791971745, '1.11%'),\n",
       "  Text(0.5973986203635423, -0.055811185149002726, '1.04%'),\n",
       "  Text(0.5993814238720222, -0.027238001342742294, '0.48%'),\n",
       "  Text(0.5998373027072134, -0.013971767280298553, '0.22%'),\n",
       "  Text(0.5999593240323101, -0.006986380085100686, '0.15%'),\n",
       "  Text(0.5999963390137322, -0.0020959890549605005, '0.11%')])"
      ]
     },
     "execution_count": 74,
     "metadata": {},
     "output_type": "execute_result"
    },
    {
     "data": {
      "image/png": "[encoded data removed]",
      "text/plain": [
       "<Figure size 1100x1100 with 1 Axes>"
      ]
     },
     "metadata": {},
     "output_type": "display_data"
    }
   ],
   "source": [
    "import matplotlib as mpl\n",
    "import matplotlib.pyplot as plt\n",
    "plt.figure(figsize=(11,11))\n",
    "label = ['0', '1 ','2','3','4','5','6','7','8','9','10','11','12']\n",
    "plt.pie(all_df['label'].value_counts(),\n",
    "        labels=label, autopct='%.2f%%')"
   ]
  },
  {
   "cell_type": "code",
   "execution_count": 81,
   "id": "0ef3570b",
   "metadata": {},
   "outputs": [],
   "source": [
    "\n",
    "CFG = {\n",
    "    'VIDEO_LENGTH':10, \n",
    "    'IMG_SIZE':235,\n",
    "    'EPOCHS':4,\n",
    "    'LEARNING_RATE':1e-5,\n",
    "    'BATCH_SIZE':2,\n",
    "    'SEED':2023,\n",
    "    'SPLIT':5,\n",
    "    'ROOT':'./data',\n",
    "    'MODEL':'MCG-NJU/videomae-base-finetuned-ssv2',\n",
    "    'LOAD_WEIGHT':False,\n",
    "    'LOAD_WEIGHT_NAME' :'a',\n",
    "    'VAL_SCORE_THRES' : 0.98,\n",
    "    'NUM_ASB':5\n",
    "}"
   ]
  },
  {
   "cell_type": "code",
   "execution_count": 7,
   "id": "b42aa213",
   "metadata": {},
   "outputs": [],
   "source": [
    "skf = StratifiedKFold(n_splits = CFG['SPLIT'])"
   ]
  },
  {
   "cell_type": "code",
   "execution_count": 8,
   "id": "ee5d0e52",
   "metadata": {},
   "outputs": [],
   "source": [
    "all_df['video_path'] = all_df['video_path'].apply(lambda x:CFG['ROOT']+x[1:])\n",
    "test_df['video_path'] = test_df['video_path'].apply(lambda x:CFG['ROOT']+x[1:])\n",
    "\n",
    "crash_df = all_df.copy()\n",
    "crash_df['label'] = crash_df['label'].apply(lambda x: 1 if x != 0 else 0)\n"
   ]
  },
  {
   "cell_type": "code",
   "execution_count": 9,
   "id": "063fe5d9",
   "metadata": {},
   "outputs": [],
   "source": [
    "ego_df = all_df.copy()\n",
    "idx = ego_df[ego_df['label']==0].index\n",
    "ego_df.drop(idx,inplace=True)\n",
    "\n",
    "ego_df['label'] = ego_df['label'].apply(lambda x: 1 if x < 7 else 0)\n",
    "ego_df.reset_index(drop=True,inplace=True)"
   ]
  },
  {
   "cell_type": "code",
   "execution_count": 10,
   "id": "ed7281c5",
   "metadata": {},
   "outputs": [],
   "source": [
    "weather_df = all_df.copy()\n",
    "idx = weather_df[weather_df['label']==0].index\n",
    "weather_df.drop(idx,inplace=True)\n",
    "#0:normal,1:snow,2:rain\n",
    "weather_df['label'] = weather_df['label'].apply(lambda x: 0 if x==1 or x==2 or x==7 or x==8 else 1 if x==3 or x==4 or x==8 or x==9 else 2)\n",
    "weather_df.reset_index(drop=True,inplace=True)"
   ]
  },
  {
   "cell_type": "code",
   "execution_count": 11,
   "id": "4c3c58cb",
   "metadata": {},
   "outputs": [],
   "source": [
    "time_df = all_df.copy()\n",
    "idx = time_df[time_df['label']==0].index\n",
    "time_df.drop(idx,inplace=True)\n",
    "#0:normal,1:snow,2:rain\n",
    "time_df['label'] = time_df['label'].apply(lambda x: 0 if x%2==1 else 1)\n",
    "time_df.reset_index(drop=True,inplace=True)"
   ]
  },
  {
   "cell_type": "code",
   "execution_count": 12,
   "id": "65e1c289",
   "metadata": {},
   "outputs": [
    {
     "data": {
      "text/html": [
       "<div>\n",
       "<style scoped>\n",
       "    .dataframe tbody tr th:only-of-type {\n",
       "        vertical-align: middle;\n",
       "    }\n",
       "\n",
       "    .dataframe tbody tr th {\n",
       "        vertical-align: top;\n",
       "    }\n",
       "\n",
       "    .dataframe thead th {\n",
       "        text-align: right;\n",
       "    }\n",
       "</style>\n",
       "<table border=\"1\" class=\"dataframe\">\n",
       "  <thead>\n",
       "    <tr style=\"text-align: right;\">\n",
       "      <th></th>\n",
       "      <th>sample_id</th>\n",
       "      <th>video_path</th>\n",
       "      <th>label</th>\n",
       "    </tr>\n",
       "  </thead>\n",
       "  <tbody>\n",
       "    <tr>\n",
       "      <th>0</th>\n",
       "      <td>TRAIN_0000</td>\n",
       "      <td>./data/train/TRAIN_0000.mp4</td>\n",
       "      <td>7</td>\n",
       "    </tr>\n",
       "    <tr>\n",
       "      <th>1</th>\n",
       "      <td>TRAIN_0001</td>\n",
       "      <td>./data/train/TRAIN_0001.mp4</td>\n",
       "      <td>7</td>\n",
       "    </tr>\n",
       "    <tr>\n",
       "      <th>2</th>\n",
       "      <td>TRAIN_0002</td>\n",
       "      <td>./data/train/TRAIN_0002.mp4</td>\n",
       "      <td>0</td>\n",
       "    </tr>\n",
       "    <tr>\n",
       "      <th>3</th>\n",
       "      <td>TRAIN_0003</td>\n",
       "      <td>./data/train/TRAIN_0003.mp4</td>\n",
       "      <td>0</td>\n",
       "    </tr>\n",
       "    <tr>\n",
       "      <th>4</th>\n",
       "      <td>TRAIN_0004</td>\n",
       "      <td>./data/train/TRAIN_0004.mp4</td>\n",
       "      <td>1</td>\n",
       "    </tr>\n",
       "    <tr>\n",
       "      <th>...</th>\n",
       "      <td>...</td>\n",
       "      <td>...</td>\n",
       "      <td>...</td>\n",
       "    </tr>\n",
       "    <tr>\n",
       "      <th>2693</th>\n",
       "      <td>TRAIN_2693</td>\n",
       "      <td>./data/train/TRAIN_2693.mp4</td>\n",
       "      <td>3</td>\n",
       "    </tr>\n",
       "    <tr>\n",
       "      <th>2694</th>\n",
       "      <td>TRAIN_2694</td>\n",
       "      <td>./data/train/TRAIN_2694.mp4</td>\n",
       "      <td>5</td>\n",
       "    </tr>\n",
       "    <tr>\n",
       "      <th>2695</th>\n",
       "      <td>TRAIN_2695</td>\n",
       "      <td>./data/train/TRAIN_2695.mp4</td>\n",
       "      <td>0</td>\n",
       "    </tr>\n",
       "    <tr>\n",
       "      <th>2696</th>\n",
       "      <td>TRAIN_2696</td>\n",
       "      <td>./data/train/TRAIN_2696.mp4</td>\n",
       "      <td>0</td>\n",
       "    </tr>\n",
       "    <tr>\n",
       "      <th>2697</th>\n",
       "      <td>TRAIN_2697</td>\n",
       "      <td>./data/train/TRAIN_2697.mp4</td>\n",
       "      <td>0</td>\n",
       "    </tr>\n",
       "  </tbody>\n",
       "</table>\n",
       "<p>2698 rows × 3 columns</p>\n",
       "</div>"
      ],
      "text/plain": [
       "       sample_id                   video_path  label\n",
       "0     TRAIN_0000  ./data/train/TRAIN_0000.mp4      7\n",
       "1     TRAIN_0001  ./data/train/TRAIN_0001.mp4      7\n",
       "2     TRAIN_0002  ./data/train/TRAIN_0002.mp4      0\n",
       "3     TRAIN_0003  ./data/train/TRAIN_0003.mp4      0\n",
       "4     TRAIN_0004  ./data/train/TRAIN_0004.mp4      1\n",
       "...          ...                          ...    ...\n",
       "2693  TRAIN_2693  ./data/train/TRAIN_2693.mp4      3\n",
       "2694  TRAIN_2694  ./data/train/TRAIN_2694.mp4      5\n",
       "2695  TRAIN_2695  ./data/train/TRAIN_2695.mp4      0\n",
       "2696  TRAIN_2696  ./data/train/TRAIN_2696.mp4      0\n",
       "2697  TRAIN_2697  ./data/train/TRAIN_2697.mp4      0\n",
       "\n",
       "[2698 rows x 3 columns]"
      ]
     },
     "execution_count": 12,
     "metadata": {},
     "output_type": "execute_result"
    }
   ],
   "source": [
    "all_df"
   ]
  },
  {
   "cell_type": "code",
   "execution_count": 13,
   "id": "b433f3c4",
   "metadata": {},
   "outputs": [
    {
     "data": {
      "text/html": [
       "<div>\n",
       "<style scoped>\n",
       "    .dataframe tbody tr th:only-of-type {\n",
       "        vertical-align: middle;\n",
       "    }\n",
       "\n",
       "    .dataframe tbody tr th {\n",
       "        vertical-align: top;\n",
       "    }\n",
       "\n",
       "    .dataframe thead th {\n",
       "        text-align: right;\n",
       "    }\n",
       "</style>\n",
       "<table border=\"1\" class=\"dataframe\">\n",
       "  <thead>\n",
       "    <tr style=\"text-align: right;\">\n",
       "      <th></th>\n",
       "      <th>sample_id</th>\n",
       "      <th>video_path</th>\n",
       "      <th>label</th>\n",
       "    </tr>\n",
       "  </thead>\n",
       "  <tbody>\n",
       "    <tr>\n",
       "      <th>0</th>\n",
       "      <td>TRAIN_0000</td>\n",
       "      <td>./data/train/TRAIN_0000.mp4</td>\n",
       "      <td>0</td>\n",
       "    </tr>\n",
       "    <tr>\n",
       "      <th>1</th>\n",
       "      <td>TRAIN_0001</td>\n",
       "      <td>./data/train/TRAIN_0001.mp4</td>\n",
       "      <td>0</td>\n",
       "    </tr>\n",
       "    <tr>\n",
       "      <th>2</th>\n",
       "      <td>TRAIN_0004</td>\n",
       "      <td>./data/train/TRAIN_0004.mp4</td>\n",
       "      <td>1</td>\n",
       "    </tr>\n",
       "    <tr>\n",
       "      <th>3</th>\n",
       "      <td>TRAIN_0006</td>\n",
       "      <td>./data/train/TRAIN_0006.mp4</td>\n",
       "      <td>1</td>\n",
       "    </tr>\n",
       "    <tr>\n",
       "      <th>4</th>\n",
       "      <td>TRAIN_0007</td>\n",
       "      <td>./data/train/TRAIN_0007.mp4</td>\n",
       "      <td>0</td>\n",
       "    </tr>\n",
       "    <tr>\n",
       "      <th>...</th>\n",
       "      <td>...</td>\n",
       "      <td>...</td>\n",
       "      <td>...</td>\n",
       "    </tr>\n",
       "    <tr>\n",
       "      <th>910</th>\n",
       "      <td>TRAIN_2685</td>\n",
       "      <td>./data/train/TRAIN_2685.mp4</td>\n",
       "      <td>0</td>\n",
       "    </tr>\n",
       "    <tr>\n",
       "      <th>911</th>\n",
       "      <td>TRAIN_2689</td>\n",
       "      <td>./data/train/TRAIN_2689.mp4</td>\n",
       "      <td>1</td>\n",
       "    </tr>\n",
       "    <tr>\n",
       "      <th>912</th>\n",
       "      <td>TRAIN_2692</td>\n",
       "      <td>./data/train/TRAIN_2692.mp4</td>\n",
       "      <td>0</td>\n",
       "    </tr>\n",
       "    <tr>\n",
       "      <th>913</th>\n",
       "      <td>TRAIN_2693</td>\n",
       "      <td>./data/train/TRAIN_2693.mp4</td>\n",
       "      <td>1</td>\n",
       "    </tr>\n",
       "    <tr>\n",
       "      <th>914</th>\n",
       "      <td>TRAIN_2694</td>\n",
       "      <td>./data/train/TRAIN_2694.mp4</td>\n",
       "      <td>1</td>\n",
       "    </tr>\n",
       "  </tbody>\n",
       "</table>\n",
       "<p>915 rows × 3 columns</p>\n",
       "</div>"
      ],
      "text/plain": [
       "      sample_id                   video_path  label\n",
       "0    TRAIN_0000  ./data/train/TRAIN_0000.mp4      0\n",
       "1    TRAIN_0001  ./data/train/TRAIN_0001.mp4      0\n",
       "2    TRAIN_0004  ./data/train/TRAIN_0004.mp4      1\n",
       "3    TRAIN_0006  ./data/train/TRAIN_0006.mp4      1\n",
       "4    TRAIN_0007  ./data/train/TRAIN_0007.mp4      0\n",
       "..          ...                          ...    ...\n",
       "910  TRAIN_2685  ./data/train/TRAIN_2685.mp4      0\n",
       "911  TRAIN_2689  ./data/train/TRAIN_2689.mp4      1\n",
       "912  TRAIN_2692  ./data/train/TRAIN_2692.mp4      0\n",
       "913  TRAIN_2693  ./data/train/TRAIN_2693.mp4      1\n",
       "914  TRAIN_2694  ./data/train/TRAIN_2694.mp4      1\n",
       "\n",
       "[915 rows x 3 columns]"
      ]
     },
     "execution_count": 13,
     "metadata": {},
     "output_type": "execute_result"
    }
   ],
   "source": [
    "ego_df"
   ]
  },
  {
   "cell_type": "code",
   "execution_count": 14,
   "id": "660a98ac",
   "metadata": {},
   "outputs": [
    {
     "data": {
      "text/html": [
       "<div>\n",
       "<style scoped>\n",
       "    .dataframe tbody tr th:only-of-type {\n",
       "        vertical-align: middle;\n",
       "    }\n",
       "\n",
       "    .dataframe tbody tr th {\n",
       "        vertical-align: top;\n",
       "    }\n",
       "\n",
       "    .dataframe thead th {\n",
       "        text-align: right;\n",
       "    }\n",
       "</style>\n",
       "<table border=\"1\" class=\"dataframe\">\n",
       "  <thead>\n",
       "    <tr style=\"text-align: right;\">\n",
       "      <th></th>\n",
       "      <th>sample_id</th>\n",
       "      <th>video_path</th>\n",
       "      <th>label</th>\n",
       "    </tr>\n",
       "  </thead>\n",
       "  <tbody>\n",
       "    <tr>\n",
       "      <th>0</th>\n",
       "      <td>TRAIN_0000</td>\n",
       "      <td>./data/train/TRAIN_0000.mp4</td>\n",
       "      <td>1</td>\n",
       "    </tr>\n",
       "    <tr>\n",
       "      <th>1</th>\n",
       "      <td>TRAIN_0001</td>\n",
       "      <td>./data/train/TRAIN_0001.mp4</td>\n",
       "      <td>1</td>\n",
       "    </tr>\n",
       "    <tr>\n",
       "      <th>2</th>\n",
       "      <td>TRAIN_0002</td>\n",
       "      <td>./data/train/TRAIN_0002.mp4</td>\n",
       "      <td>0</td>\n",
       "    </tr>\n",
       "    <tr>\n",
       "      <th>3</th>\n",
       "      <td>TRAIN_0003</td>\n",
       "      <td>./data/train/TRAIN_0003.mp4</td>\n",
       "      <td>0</td>\n",
       "    </tr>\n",
       "    <tr>\n",
       "      <th>4</th>\n",
       "      <td>TRAIN_0004</td>\n",
       "      <td>./data/train/TRAIN_0004.mp4</td>\n",
       "      <td>1</td>\n",
       "    </tr>\n",
       "    <tr>\n",
       "      <th>...</th>\n",
       "      <td>...</td>\n",
       "      <td>...</td>\n",
       "      <td>...</td>\n",
       "    </tr>\n",
       "    <tr>\n",
       "      <th>2693</th>\n",
       "      <td>TRAIN_2693</td>\n",
       "      <td>./data/train/TRAIN_2693.mp4</td>\n",
       "      <td>1</td>\n",
       "    </tr>\n",
       "    <tr>\n",
       "      <th>2694</th>\n",
       "      <td>TRAIN_2694</td>\n",
       "      <td>./data/train/TRAIN_2694.mp4</td>\n",
       "      <td>1</td>\n",
       "    </tr>\n",
       "    <tr>\n",
       "      <th>2695</th>\n",
       "      <td>TRAIN_2695</td>\n",
       "      <td>./data/train/TRAIN_2695.mp4</td>\n",
       "      <td>0</td>\n",
       "    </tr>\n",
       "    <tr>\n",
       "      <th>2696</th>\n",
       "      <td>TRAIN_2696</td>\n",
       "      <td>./data/train/TRAIN_2696.mp4</td>\n",
       "      <td>0</td>\n",
       "    </tr>\n",
       "    <tr>\n",
       "      <th>2697</th>\n",
       "      <td>TRAIN_2697</td>\n",
       "      <td>./data/train/TRAIN_2697.mp4</td>\n",
       "      <td>0</td>\n",
       "    </tr>\n",
       "  </tbody>\n",
       "</table>\n",
       "<p>2698 rows × 3 columns</p>\n",
       "</div>"
      ],
      "text/plain": [
       "       sample_id                   video_path  label\n",
       "0     TRAIN_0000  ./data/train/TRAIN_0000.mp4      1\n",
       "1     TRAIN_0001  ./data/train/TRAIN_0001.mp4      1\n",
       "2     TRAIN_0002  ./data/train/TRAIN_0002.mp4      0\n",
       "3     TRAIN_0003  ./data/train/TRAIN_0003.mp4      0\n",
       "4     TRAIN_0004  ./data/train/TRAIN_0004.mp4      1\n",
       "...          ...                          ...    ...\n",
       "2693  TRAIN_2693  ./data/train/TRAIN_2693.mp4      1\n",
       "2694  TRAIN_2694  ./data/train/TRAIN_2694.mp4      1\n",
       "2695  TRAIN_2695  ./data/train/TRAIN_2695.mp4      0\n",
       "2696  TRAIN_2696  ./data/train/TRAIN_2696.mp4      0\n",
       "2697  TRAIN_2697  ./data/train/TRAIN_2697.mp4      0\n",
       "\n",
       "[2698 rows x 3 columns]"
      ]
     },
     "execution_count": 14,
     "metadata": {},
     "output_type": "execute_result"
    }
   ],
   "source": [
    "crash_df"
   ]
  },
  {
   "cell_type": "code",
   "execution_count": 15,
   "id": "8c2c19cd",
   "metadata": {},
   "outputs": [
    {
     "data": {
      "text/html": [
       "<div>\n",
       "<style scoped>\n",
       "    .dataframe tbody tr th:only-of-type {\n",
       "        vertical-align: middle;\n",
       "    }\n",
       "\n",
       "    .dataframe tbody tr th {\n",
       "        vertical-align: top;\n",
       "    }\n",
       "\n",
       "    .dataframe thead th {\n",
       "        text-align: right;\n",
       "    }\n",
       "</style>\n",
       "<table border=\"1\" class=\"dataframe\">\n",
       "  <thead>\n",
       "    <tr style=\"text-align: right;\">\n",
       "      <th></th>\n",
       "      <th>sample_id</th>\n",
       "      <th>video_path</th>\n",
       "      <th>label</th>\n",
       "    </tr>\n",
       "  </thead>\n",
       "  <tbody>\n",
       "    <tr>\n",
       "      <th>0</th>\n",
       "      <td>TRAIN_0000</td>\n",
       "      <td>./data/train/TRAIN_0000.mp4</td>\n",
       "      <td>0</td>\n",
       "    </tr>\n",
       "    <tr>\n",
       "      <th>1</th>\n",
       "      <td>TRAIN_0001</td>\n",
       "      <td>./data/train/TRAIN_0001.mp4</td>\n",
       "      <td>0</td>\n",
       "    </tr>\n",
       "    <tr>\n",
       "      <th>2</th>\n",
       "      <td>TRAIN_0004</td>\n",
       "      <td>./data/train/TRAIN_0004.mp4</td>\n",
       "      <td>0</td>\n",
       "    </tr>\n",
       "    <tr>\n",
       "      <th>3</th>\n",
       "      <td>TRAIN_0006</td>\n",
       "      <td>./data/train/TRAIN_0006.mp4</td>\n",
       "      <td>1</td>\n",
       "    </tr>\n",
       "    <tr>\n",
       "      <th>4</th>\n",
       "      <td>TRAIN_0007</td>\n",
       "      <td>./data/train/TRAIN_0007.mp4</td>\n",
       "      <td>0</td>\n",
       "    </tr>\n",
       "    <tr>\n",
       "      <th>...</th>\n",
       "      <td>...</td>\n",
       "      <td>...</td>\n",
       "      <td>...</td>\n",
       "    </tr>\n",
       "    <tr>\n",
       "      <th>910</th>\n",
       "      <td>TRAIN_2685</td>\n",
       "      <td>./data/train/TRAIN_2685.mp4</td>\n",
       "      <td>0</td>\n",
       "    </tr>\n",
       "    <tr>\n",
       "      <th>911</th>\n",
       "      <td>TRAIN_2689</td>\n",
       "      <td>./data/train/TRAIN_2689.mp4</td>\n",
       "      <td>0</td>\n",
       "    </tr>\n",
       "    <tr>\n",
       "      <th>912</th>\n",
       "      <td>TRAIN_2692</td>\n",
       "      <td>./data/train/TRAIN_2692.mp4</td>\n",
       "      <td>0</td>\n",
       "    </tr>\n",
       "    <tr>\n",
       "      <th>913</th>\n",
       "      <td>TRAIN_2693</td>\n",
       "      <td>./data/train/TRAIN_2693.mp4</td>\n",
       "      <td>1</td>\n",
       "    </tr>\n",
       "    <tr>\n",
       "      <th>914</th>\n",
       "      <td>TRAIN_2694</td>\n",
       "      <td>./data/train/TRAIN_2694.mp4</td>\n",
       "      <td>2</td>\n",
       "    </tr>\n",
       "  </tbody>\n",
       "</table>\n",
       "<p>915 rows × 3 columns</p>\n",
       "</div>"
      ],
      "text/plain": [
       "      sample_id                   video_path  label\n",
       "0    TRAIN_0000  ./data/train/TRAIN_0000.mp4      0\n",
       "1    TRAIN_0001  ./data/train/TRAIN_0001.mp4      0\n",
       "2    TRAIN_0004  ./data/train/TRAIN_0004.mp4      0\n",
       "3    TRAIN_0006  ./data/train/TRAIN_0006.mp4      1\n",
       "4    TRAIN_0007  ./data/train/TRAIN_0007.mp4      0\n",
       "..          ...                          ...    ...\n",
       "910  TRAIN_2685  ./data/train/TRAIN_2685.mp4      0\n",
       "911  TRAIN_2689  ./data/train/TRAIN_2689.mp4      0\n",
       "912  TRAIN_2692  ./data/train/TRAIN_2692.mp4      0\n",
       "913  TRAIN_2693  ./data/train/TRAIN_2693.mp4      1\n",
       "914  TRAIN_2694  ./data/train/TRAIN_2694.mp4      2\n",
       "\n",
       "[915 rows x 3 columns]"
      ]
     },
     "execution_count": 15,
     "metadata": {},
     "output_type": "execute_result"
    }
   ],
   "source": [
    "weather_df"
   ]
  },
  {
   "cell_type": "code",
   "execution_count": 16,
   "id": "427e048e",
   "metadata": {},
   "outputs": [
    {
     "data": {
      "text/html": [
       "<div>\n",
       "<style scoped>\n",
       "    .dataframe tbody tr th:only-of-type {\n",
       "        vertical-align: middle;\n",
       "    }\n",
       "\n",
       "    .dataframe tbody tr th {\n",
       "        vertical-align: top;\n",
       "    }\n",
       "\n",
       "    .dataframe thead th {\n",
       "        text-align: right;\n",
       "    }\n",
       "</style>\n",
       "<table border=\"1\" class=\"dataframe\">\n",
       "  <thead>\n",
       "    <tr style=\"text-align: right;\">\n",
       "      <th></th>\n",
       "      <th>sample_id</th>\n",
       "      <th>video_path</th>\n",
       "      <th>label</th>\n",
       "    </tr>\n",
       "  </thead>\n",
       "  <tbody>\n",
       "    <tr>\n",
       "      <th>0</th>\n",
       "      <td>TRAIN_0000</td>\n",
       "      <td>./data/train/TRAIN_0000.mp4</td>\n",
       "      <td>0</td>\n",
       "    </tr>\n",
       "    <tr>\n",
       "      <th>1</th>\n",
       "      <td>TRAIN_0001</td>\n",
       "      <td>./data/train/TRAIN_0001.mp4</td>\n",
       "      <td>0</td>\n",
       "    </tr>\n",
       "    <tr>\n",
       "      <th>2</th>\n",
       "      <td>TRAIN_0004</td>\n",
       "      <td>./data/train/TRAIN_0004.mp4</td>\n",
       "      <td>0</td>\n",
       "    </tr>\n",
       "    <tr>\n",
       "      <th>3</th>\n",
       "      <td>TRAIN_0006</td>\n",
       "      <td>./data/train/TRAIN_0006.mp4</td>\n",
       "      <td>0</td>\n",
       "    </tr>\n",
       "    <tr>\n",
       "      <th>4</th>\n",
       "      <td>TRAIN_0007</td>\n",
       "      <td>./data/train/TRAIN_0007.mp4</td>\n",
       "      <td>0</td>\n",
       "    </tr>\n",
       "    <tr>\n",
       "      <th>...</th>\n",
       "      <td>...</td>\n",
       "      <td>...</td>\n",
       "      <td>...</td>\n",
       "    </tr>\n",
       "    <tr>\n",
       "      <th>910</th>\n",
       "      <td>TRAIN_2685</td>\n",
       "      <td>./data/train/TRAIN_2685.mp4</td>\n",
       "      <td>1</td>\n",
       "    </tr>\n",
       "    <tr>\n",
       "      <th>911</th>\n",
       "      <td>TRAIN_2689</td>\n",
       "      <td>./data/train/TRAIN_2689.mp4</td>\n",
       "      <td>0</td>\n",
       "    </tr>\n",
       "    <tr>\n",
       "      <th>912</th>\n",
       "      <td>TRAIN_2692</td>\n",
       "      <td>./data/train/TRAIN_2692.mp4</td>\n",
       "      <td>0</td>\n",
       "    </tr>\n",
       "    <tr>\n",
       "      <th>913</th>\n",
       "      <td>TRAIN_2693</td>\n",
       "      <td>./data/train/TRAIN_2693.mp4</td>\n",
       "      <td>0</td>\n",
       "    </tr>\n",
       "    <tr>\n",
       "      <th>914</th>\n",
       "      <td>TRAIN_2694</td>\n",
       "      <td>./data/train/TRAIN_2694.mp4</td>\n",
       "      <td>0</td>\n",
       "    </tr>\n",
       "  </tbody>\n",
       "</table>\n",
       "<p>915 rows × 3 columns</p>\n",
       "</div>"
      ],
      "text/plain": [
       "      sample_id                   video_path  label\n",
       "0    TRAIN_0000  ./data/train/TRAIN_0000.mp4      0\n",
       "1    TRAIN_0001  ./data/train/TRAIN_0001.mp4      0\n",
       "2    TRAIN_0004  ./data/train/TRAIN_0004.mp4      0\n",
       "3    TRAIN_0006  ./data/train/TRAIN_0006.mp4      0\n",
       "4    TRAIN_0007  ./data/train/TRAIN_0007.mp4      0\n",
       "..          ...                          ...    ...\n",
       "910  TRAIN_2685  ./data/train/TRAIN_2685.mp4      1\n",
       "911  TRAIN_2689  ./data/train/TRAIN_2689.mp4      0\n",
       "912  TRAIN_2692  ./data/train/TRAIN_2692.mp4      0\n",
       "913  TRAIN_2693  ./data/train/TRAIN_2693.mp4      0\n",
       "914  TRAIN_2694  ./data/train/TRAIN_2694.mp4      0\n",
       "\n",
       "[915 rows x 3 columns]"
      ]
     },
     "execution_count": 16,
     "metadata": {},
     "output_type": "execute_result"
    }
   ],
   "source": [
    "time_df"
   ]
  },
  {
   "cell_type": "code",
   "execution_count": 17,
   "id": "9fed98cc",
   "metadata": {},
   "outputs": [],
   "source": [
    "def seed_everything(seed):\n",
    "    random.seed(seed)\n",
    "    os.environ['PYTHONHASHSEED'] = str(seed)\n",
    "    np.random.seed(seed)\n",
    "    torch.manual_seed(seed)\n",
    "    torch.cuda.manual_seed(seed)\n",
    "    torch.backends.cudnn.deterministic = True\n",
    "    torch.backends.cudnn.benchmark = True\n",
    "\n",
    "seed_everything(CFG['SEED']) # Seed 고정"
   ]
  },
  {
   "cell_type": "code",
   "execution_count": 18,
   "id": "58170cb6",
   "metadata": {
    "scrolled": true
   },
   "outputs": [
    {
     "name": "stderr",
     "output_type": "stream",
     "text": [
      "Some weights of VideoMAEForVideoClassification were not initialized from the model checkpoint at MCG-NJU/videomae-base-finetuned-ssv2 and are newly initialized because the shapes did not match:\n",
      "- classifier.weight: found shape torch.Size([174, 768]) in the checkpoint and torch.Size([2, 768]) in the model instantiated\n",
      "- classifier.bias: found shape torch.Size([174]) in the checkpoint and torch.Size([2]) in the model instantiated\n",
      "You should probably TRAIN this model on a down-stream task to be able to use it for predictions and inference.\n",
      "Some weights of VideoMAEForVideoClassification were not initialized from the model checkpoint at MCG-NJU/videomae-base-finetuned-ssv2 and are newly initialized because the shapes did not match:\n",
      "- classifier.weight: found shape torch.Size([174, 768]) in the checkpoint and torch.Size([2, 768]) in the model instantiated\n",
      "- classifier.bias: found shape torch.Size([174]) in the checkpoint and torch.Size([2]) in the model instantiated\n",
      "You should probably TRAIN this model on a down-stream task to be able to use it for predictions and inference.\n",
      "Some weights of VideoMAEForVideoClassification were not initialized from the model checkpoint at MCG-NJU/videomae-base-finetuned-ssv2 and are newly initialized because the shapes did not match:\n",
      "- classifier.weight: found shape torch.Size([174, 768]) in the checkpoint and torch.Size([3, 768]) in the model instantiated\n",
      "- classifier.bias: found shape torch.Size([174]) in the checkpoint and torch.Size([3]) in the model instantiated\n",
      "You should probably TRAIN this model on a down-stream task to be able to use it for predictions and inference.\n",
      "Some weights of VideoMAEForVideoClassification were not initialized from the model checkpoint at MCG-NJU/videomae-base-finetuned-ssv2 and are newly initialized because the shapes did not match:\n",
      "- classifier.weight: found shape torch.Size([174, 768]) in the checkpoint and torch.Size([2, 768]) in the model instantiated\n",
      "- classifier.bias: found shape torch.Size([174]) in the checkpoint and torch.Size([2]) in the model instantiated\n",
      "You should probably TRAIN this model on a down-stream task to be able to use it for predictions and inference.\n",
      "Could not find image processor class in the image processor config or the model config. Loading based on pattern matching with the model's feature extractor configuration.\n"
     ]
    }
   ],
   "source": [
    "from transformers import VideoMAEConfig, VideoMAEModel\n",
    "from transformers import AutoImageProcessor, VideoMAEForVideoClassification\n",
    "from transformers import XCLIPVisionModel, XCLIPVisionConfig\n",
    "\n",
    "\n",
    "crash_configuration = VideoMAEConfig()\n",
    "crash_configuration = AutoConfig.from_pretrained(CFG['MODEL'])\n",
    "crash_configuration.num_frames = CFG['VIDEO_LENGTH']\n",
    "crash_configuration.num_frames=CFG['VIDEO_LENGTH']\n",
    "crash_configuration.image_size=CFG['IMG_SIZE']\n",
    "crash_configuration.id2label = {0:'no crash',1:'crash'}\n",
    "crash_configuration.label2id = {'no crash':0,'crash':1}\n",
    "crash_model = VideoMAEForVideoClassification.from_pretrained(CFG['MODEL'],config=crash_configuration,ignore_mismatched_sizes=True)\n",
    "\n",
    "ego_configuration = VideoMAEConfig()\n",
    "ego_configuration = AutoConfig.from_pretrained(CFG['MODEL'])\n",
    "ego_configuration.num_frames = CFG['VIDEO_LENGTH']\n",
    "ego_configuration.num_frames=CFG['VIDEO_LENGTH']\n",
    "ego_configuration.image_size=CFG['IMG_SIZE']\n",
    "ego_configuration.id2label = {0:'other',1:'ego'}\n",
    "ego_configuration.label2id = {'other':0,'ego':1}\n",
    "ego_model = VideoMAEForVideoClassification.from_pretrained(CFG['MODEL'],config=ego_configuration,ignore_mismatched_sizes=True)\n",
    "\n",
    "weather_configuration = VideoMAEConfig()\n",
    "weather_configuration = AutoConfig.from_pretrained(CFG['MODEL'])\n",
    "weather_configuration.num_frames = CFG['VIDEO_LENGTH']\n",
    "weather_configuration.num_frames=CFG['VIDEO_LENGTH']\n",
    "weather_configuration.image_size=CFG['IMG_SIZE']\n",
    "weather_configuration.id2label = {0:'normal',1:'snow',2:'rain'}\n",
    "weather_configuration.label2id = {'normal':0,'snow':1,'rain':2}\n",
    "weather_model = VideoMAEForVideoClassification.from_pretrained(CFG['MODEL'],config=weather_configuration,ignore_mismatched_sizes=True)\n",
    "\n",
    "time_configuration = VideoMAEConfig()\n",
    "time_configuration = AutoConfig.from_pretrained(CFG['MODEL'])\n",
    "time_configuration.num_frames = CFG['VIDEO_LENGTH']\n",
    "time_configuration.num_frames=CFG['VIDEO_LENGTH']\n",
    "time_configuration.image_size=CFG['IMG_SIZE']\n",
    "time_configuration.id2label = {0:'day',1:'night'}\n",
    "time_configuration.label2id = {'day':0,'night':1}\n",
    "time_model = VideoMAEForVideoClassification.from_pretrained(CFG['MODEL'],config=time_configuration,ignore_mismatched_sizes=True)\n",
    "\n",
    "\n",
    "image_processor_config = AutoImageProcessor.from_pretrained(CFG['MODEL'])\n",
    "\n"
   ]
  },
  {
   "cell_type": "code",
   "execution_count": null,
   "id": "77ef4f6b",
   "metadata": {},
   "outputs": [],
   "source": [
    "pseudo_alb = A.Compose([\n",
    "        A.Resize(width=CFG['IMG_SIZE'], height=CFG['IMG_SIZE']),\n",
    "        A.HorizontalFlip(p=0.5),\n",
    "        A.OneOf([\n",
    "            A.Blur(blur_limit=3,p=0.3),\n",
    "            A.GaussNoise(p=0.3,var_limit=(0, 26)),\n",
    "            A.Downscale(p=0.3,scale_min=0.7, scale_max=0.99, interpolation=2),\n",
    "            A.RandomBrightness(p=0.2, limit=0.05),    \n",
    "            A.CoarseDropout(p=0.2, max_holes=10, max_height=8, max_width=8, min_holes=5, min_height=2, min_width=2),\n",
    "        ], p=0.7),\n",
    "        A.OneOf([\n",
    "        A.ElasticTransform(p=0.3),\n",
    "        A.SafeRotate(limit=45,p=0.3),\n",
    "        ],p=0.7),\n",
    "        \n",
    "        A.Normalize(mean=tuple(image_processor_config.image_mean)\n",
    "                   ,std=tuple(image_processor_config.image_std),p=1)\n",
    "    ], p=1)\n",
    "\n",
    "def pseudo_label(path,tfms):\n",
    "    pseudo_frame = []\n",
    "    frames=[]\n",
    "    cap = cv2.VideoCapture(path)\n",
    "    for idx in range(50):\n",
    "        if idx%5 == 3:\n",
    "            _, img = cap.read()\n",
    "#             img = cv2.resize(img, (CFG['IMG_SIZE'], CFG['IMG_SIZE']))\n",
    "            frames.append(img)\n",
    "    for frame in frames:\n",
    "        pseudo_frame.append((tfms(image = np.asarray(frame)))['image'])\n",
    "#     return frames\n",
    "\n",
    "frames = aug_video(frames, tfms=self.Alb)"
   ]
  },
  {
   "cell_type": "code",
   "execution_count": 19,
   "id": "414e3138",
   "metadata": {},
   "outputs": [],
   "source": [
    "Alb = A.Compose([\n",
    "        A.Resize(width=CFG['IMG_SIZE'], height=CFG['IMG_SIZE']),\n",
    "        A.HorizontalFlip(p=0.5),\n",
    "        A.OneOf([\n",
    "            A.Blur(blur_limit=3,p=0.3),\n",
    "            A.GaussNoise(p=0.3,var_limit=(0, 26)),\n",
    "            A.Downscale(p=0.3,scale_min=0.7, scale_max=0.99, interpolation=2),\n",
    "            A.RandomBrightness(p=0.2, limit=0.05),    \n",
    "            A.CoarseDropout(p=0.2, max_holes=10, max_height=8, max_width=8, min_holes=5, min_height=2, min_width=2),\n",
    "        ], p=0.7),\n",
    "        A.OneOf([\n",
    "        A.ElasticTransform(p=0.3),\n",
    "        A.SafeRotate(limit=45,p=0.3),\n",
    "        ],p=0.7),\n",
    "        \n",
    "        A.Normalize(mean=tuple(image_processor_config.image_mean)\n",
    "                   ,std=tuple(image_processor_config.image_std),p=1)\n",
    "    ], p=1)\n",
    "\n",
    "\n",
    "def aug_video(vid, tfms):\n",
    "    aug_vid = []\n",
    "    for x in vid:\n",
    "        aug_vid.append((tfms(image = np.asarray(x)))['image'])\n",
    "    return torch.from_numpy(np.stack(aug_vid))"
   ]
  },
  {
   "cell_type": "code",
   "execution_count": 20,
   "id": "7f3ffee3",
   "metadata": {},
   "outputs": [],
   "source": [
    "class VideoDataset(Dataset):\n",
    "    def __init__(self, video_path_list, label_list,transform=None):\n",
    "        self.video_path_list = video_path_list\n",
    "        self.label_list = label_list\n",
    "        self.Alb = transform\n",
    "    \n",
    "    def get_labels(self):   \n",
    "        return self.label_list  \n",
    "    \n",
    "    def __getitem__(self, index):\n",
    "        frames = self.get_video(self.video_path_list[index])\n",
    "        if self.label_list is not None:\n",
    "            label = self.label_list[index]\n",
    "            return frames, label\n",
    "        else:\n",
    "            return frames\n",
    "        \n",
    "    def __len__(self):\n",
    "        return len(self.video_path_list)\n",
    "    \n",
    "    def get_video(self, path):\n",
    "        frames = []\n",
    "        cap = cv2.VideoCapture(path)\n",
    "        for idx in range(50):\n",
    "            if idx%5 == 3:\n",
    "                _, img = cap.read()\n",
    "#                 img = cv2.resize(img, (CFG['IMG_SIZE'], CFG['IMG_SIZE']))\n",
    "                frames.append(img)\n",
    "        if self.Alb is not None:\n",
    "            frames = aug_video(frames, tfms=self.Alb)\n",
    "        return torch.FloatTensor(np.array(frames)).permute(0, 3, 1, 2)\n"
   ]
  },
  {
   "cell_type": "code",
   "execution_count": 21,
   "id": "05370681",
   "metadata": {},
   "outputs": [],
   "source": [
    "def train(skf_idx, model, optimizer, train_loader, val_loader, scheduler, device, cls_type):\n",
    "    model.to(device)\n",
    "    criterion = FocalLoss('multiclass')\n",
    "    best_val_score = 0\n",
    "    best_model = None\n",
    "    achieve = False\n",
    "    for epoch in range(1, CFG['EPOCHS']+1):\n",
    "        model.train()\n",
    "        train_loss = []\n",
    "        for videos, labels in tqdm(iter(train_loader)):\n",
    "            videos = videos.to(device)\n",
    "            labels = labels.to(device)\n",
    "            optimizer.zero_grad()\n",
    "            output = model(videos)\n",
    "            loss = criterion(output.logits, labels)\n",
    "            loss.backward()\n",
    "            optimizer.step()\n",
    "            train_loss.append(loss.item())\n",
    "            \n",
    "        _val_loss, _val_score = validation(model, criterion, val_loader, device)\n",
    "       \n",
    "        _train_loss = np.mean(train_loss)\n",
    "        print(f'Epoch [{epoch}], Train Loss : [{_train_loss:.5f}] Val Loss : [{_val_loss:.5f}] Val F1 : [{_val_score:.5f}]')\n",
    "        if _val_score > CFG['VAL_SCORE_THRES']:\n",
    "            achieve=True\n",
    "            print(\"archieve score!!\")\n",
    "#             break\n",
    "        if scheduler is not None:\n",
    "            scheduler.step(_val_score)\n",
    "            \n",
    "        if best_val_score < _val_score:\n",
    "            best_val_score = _val_score\n",
    "            best_model = model\n",
    "            date=datetime.today().strftime(\"%m_%d_%H_%M\")\n",
    "            torch.save(best_model.state_dict(), './'+cls_type + '_' + str(skf_idx) +'_'+ date + '_best_model.pth')\n",
    "        skf_idx+=1\n",
    "    return best_model,achieve,skf_idx"
   ]
  },
  {
   "cell_type": "code",
   "execution_count": 22,
   "id": "51fa21fa",
   "metadata": {},
   "outputs": [],
   "source": [
    "def validation(model, criterion, val_loader, device):\n",
    "    model.eval()\n",
    "    val_loss = []\n",
    "    preds, trues = [], []\n",
    "    \n",
    "    with torch.no_grad():\n",
    "        for videos, labels in tqdm(iter(val_loader)):\n",
    "            videos = videos.to(device)\n",
    "            labels = labels.to(device)\n",
    "            \n",
    "            output = model(videos)\n",
    "            \n",
    "            loss = criterion(output.logits, labels)\n",
    "            \n",
    "            val_loss.append(loss.item())\n",
    "            \n",
    "            preds += output.logits.argmax(1).detach().cpu().numpy().tolist()\n",
    "            trues += labels.detach().cpu().numpy().tolist()\n",
    "        \n",
    "        _val_loss = np.mean(val_loss)\n",
    "    \n",
    "    _val_score = f1_score(trues, preds, average='macro')\n",
    "    return _val_loss, _val_score"
   ]
  },
  {
   "cell_type": "code",
   "execution_count": 23,
   "id": "e833c2fb",
   "metadata": {},
   "outputs": [],
   "source": [
    "dict_pl = []\n",
    "\n",
    "crash = {\n",
    "    'model' : crash_model,\n",
    "    'cls_type' : 'crash',\n",
    "    'df' : crash_df\n",
    "}\n",
    "\n",
    "ego = {\n",
    "    'model' : ego_model,\n",
    "    'cls_type' : 'ego',\n",
    "    'df' : ego_df\n",
    "}\n",
    "\n",
    "weather = {\n",
    "    'model' : weather_model,\n",
    "    'cls_type' : 'weather',\n",
    "    'df' : weather_df\n",
    "}\n",
    "\n",
    "time = {\n",
    "    'model' : time_model,\n",
    "    'cls_type' : 'time',\n",
    "    'df' : time_df\n",
    "}\n",
    "\n",
    "dict_pl.append(crash)\n",
    "dict_pl.append(ego)\n",
    "dict_pl.append(weather)\n",
    "dict_pl.append(time)"
   ]
  },
  {
   "cell_type": "code",
   "execution_count": 24,
   "id": "5b731a4e",
   "metadata": {
    "scrolled": true
   },
   "outputs": [],
   "source": [
    "\n",
    "# # if CFG['LOAD_WEIGHT'] == True:\n",
    "# checkpoint = torch.load('./checkpoint/crash/crash_120230221015333_best_model.pth')\n",
    "# crash_model.load_state_dict(checkpoint)\n",
    "\n",
    "# print('crash_model')\n",
    "# apply_df = crash_df.copy()\n",
    "# cls_type = 'crash'\n",
    "# # optimizer = torch.optim.Adadelta(params = model.parameters(), lr = CFG[\"LEARNING_RATE\"])\n",
    "# optimizer = torch.optim.Adam(params = crash_model.parameters(), lr = CFG[\"LEARNING_RATE\"])\n",
    "# # scheduler = torch.optim.lr_scheduler.LambdaLR(optimizer, lr_lambda=[lambda1, lambda2], verbose=True)\n",
    "# scheduler = torch.optim.lr_scheduler.ReduceLROnPlateau(optimizer, mode='max', factor=0.5, patience=3,threshold_mode='abs',min_lr=1e-12, verbose=True)\n",
    "# skf_idx=1\n",
    "# for train_idx,val_idx in skf.split(apply_df['video_path'],apply_df['label']):\n",
    "#     train_dataset = VideoDataset(apply_df['video_path'][train_idx].values, apply_df['label'][train_idx].values,transform=Alb)\n",
    "#     val_dataset = VideoDataset(apply_df['video_path'][val_idx].values, apply_df['label'][val_idx].values, transform=Alb)\n",
    "#     train_loader = DataLoader(train_dataset,sampler=ImbalancedDatasetSampler(train_dataset),shuffle=False,batch_size = CFG['BATCH_SIZE'],  num_workers=4)\n",
    "#     val_loader = DataLoader(val_dataset, batch_size = CFG['BATCH_SIZE'], num_workers=4)\n",
    "#     crash_model,achieve,skf_idx= train(skf_idx,crash_model, optimizer, train_loader, val_loader, scheduler, device, cls_type)\n",
    "# #         skf_idx+=1\n",
    "# #     if achieve == True:\n",
    "# #         break"
   ]
  },
  {
   "cell_type": "code",
   "execution_count": 25,
   "id": "5094f185",
   "metadata": {
    "scrolled": true
   },
   "outputs": [],
   "source": [
    "# checkpoint = torch.load('./checkpoint/ego/ego_5_02_21_12_15_best_model.pth')\n",
    "\n",
    "\n",
    "# ego_model.load_state_dict(checkpoint)\n",
    "# print('ego model')\n",
    "# apply_df = ego_df.copy()\n",
    "# cls_type = 'ego'\n",
    "# # optimizer = torch.optim.Adadelta(params = model.parameters(), lr = CFG[\"LEARNING_RATE\"])\n",
    "# optimizer = torch.optim.Adam(params = ego_model.parameters(), lr = CFG[\"LEARNING_RATE\"])\n",
    "# # scheduler = torch.optim.lr_scheduler.LambdaLR(optimizer, lr_lambda=[lambda1, lambda2], verbose=True)\n",
    "# scheduler = torch.optim.lr_scheduler.ReduceLROnPlateau(optimizer, mode='max', factor=0.5, patience=3,threshold_mode='abs',min_lr=1e-12, verbose=True)\n",
    "# skf_idx=0\n",
    "# for train_idx,val_idx in skf.split(apply_df['video_path'],apply_df['label']):\n",
    "#     train_dataset = VideoDataset(apply_df['video_path'][train_idx].values, apply_df['label'][train_idx].values,transform=Alb)\n",
    "#     val_dataset = VideoDataset(apply_df['video_path'][val_idx].values, apply_df['label'][val_idx].values, transform=Alb)\n",
    "#     train_loader = DataLoader(train_dataset,sampler=ImbalancedDatasetSampler(train_dataset),shuffle=False,batch_size = CFG['BATCH_SIZE'],  num_workers=4)\n",
    "#     val_loader = DataLoader(val_dataset, batch_size = CFG['BATCH_SIZE'], num_workers=4)\n",
    "#     ego_model,achieve,skf_idx = train(skf_idx,ego_model, optimizer, train_loader, val_loader, scheduler, device, cls_type)\n"
   ]
  },
  {
   "cell_type": "code",
   "execution_count": 26,
   "id": "3857ea23",
   "metadata": {},
   "outputs": [],
   "source": [
    "# checkpoint = torch.load('./checkpoint/weather/weather_9_02_21_12_32_best_model.pth')\n",
    "\n",
    "\n",
    "# weather_model.load_state_dict(checkpoint)\n",
    "# print('weather model')\n",
    "# apply_df = weather_df.copy()\n",
    "# cls_type = 'weather'\n",
    "\n",
    "# optimizer = torch.optim.Adam(params = weather_model.parameters(), lr = CFG[\"LEARNING_RATE\"])\n",
    "# scheduler = torch.optim.lr_scheduler.ReduceLROnPlateau(optimizer, mode='max', factor=0.5, patience=3,threshold_mode='abs',min_lr=1e-12, verbose=True)\n",
    "# skf_idx=0\n",
    "# for train_idx,val_idx in skf.split(apply_df['video_path'],apply_df['label']):\n",
    "#     train_dataset = VideoDataset(apply_df['video_path'][train_idx].values, apply_df['label'][train_idx].values,transform=Alb)\n",
    "#     val_dataset = VideoDataset(apply_df['video_path'][val_idx].values, apply_df['label'][val_idx].values, transform=Alb)\n",
    "#     train_loader = DataLoader(train_dataset,sampler=ImbalancedDatasetSampler(train_dataset),shuffle=False,batch_size = CFG['BATCH_SIZE'],  num_workers=4)\n",
    "#     val_loader = DataLoader(val_dataset, batch_size = CFG['BATCH_SIZE'], num_workers=4)\n",
    "#     weather_model,achieve,skf_idx = train(skf_idx,weather_model, optimizer, train_loader, val_loader, scheduler, device, cls_type)\n",
    "# #         skf_idx+=1\n"
   ]
  },
  {
   "cell_type": "code",
   "execution_count": 27,
   "id": "daaca348",
   "metadata": {
    "scrolled": true
   },
   "outputs": [
    {
     "name": "stdout",
     "output_type": "stream",
     "text": [
      "time model\n"
     ]
    },
    {
     "name": "stderr",
     "output_type": "stream",
     "text": [
      "100%|████████████████████████████████████████████████████████████████████████████████████████████| 366/366 [01:07<00:00,  5.39it/s]\n",
      "100%|██████████████████████████████████████████████████████████████████████████████████████████████| 92/92 [00:05<00:00, 15.42it/s]\n"
     ]
    },
    {
     "name": "stdout",
     "output_type": "stream",
     "text": [
      "Epoch [1], Train Loss : [0.02144] Val Loss : [0.05905] Val F1 : [0.92541]\n"
     ]
    },
    {
     "name": "stderr",
     "output_type": "stream",
     "text": [
      "100%|████████████████████████████████████████████████████████████████████████████████████████████| 366/366 [01:07<00:00,  5.46it/s]\n",
      "100%|██████████████████████████████████████████████████████████████████████████████████████████████| 92/92 [00:05<00:00, 15.64it/s]\n"
     ]
    },
    {
     "name": "stdout",
     "output_type": "stream",
     "text": [
      "Epoch [2], Train Loss : [0.00295] Val Loss : [0.08061] Val F1 : [0.93897]\n"
     ]
    },
    {
     "name": "stderr",
     "output_type": "stream",
     "text": [
      "100%|████████████████████████████████████████████████████████████████████████████████████████████| 366/366 [01:07<00:00,  5.44it/s]\n",
      "100%|██████████████████████████████████████████████████████████████████████████████████████████████| 92/92 [00:05<00:00, 15.53it/s]\n"
     ]
    },
    {
     "name": "stdout",
     "output_type": "stream",
     "text": [
      "Epoch [3], Train Loss : [0.00035] Val Loss : [0.05621] Val F1 : [0.96199]\n"
     ]
    },
    {
     "name": "stderr",
     "output_type": "stream",
     "text": [
      "100%|████████████████████████████████████████████████████████████████████████████████████████████| 366/366 [01:07<00:00,  5.44it/s]\n",
      "100%|██████████████████████████████████████████████████████████████████████████████████████████████| 92/92 [00:05<00:00, 15.57it/s]"
     ]
    },
    {
     "name": "stdout",
     "output_type": "stream",
     "text": [
      "Epoch [4], Train Loss : [0.01273] Val Loss : [0.05221] Val F1 : [0.94833]\n"
     ]
    },
    {
     "name": "stderr",
     "output_type": "stream",
     "text": [
      "\n",
      "100%|████████████████████████████████████████████████████████████████████████████████████████████| 366/366 [01:06<00:00,  5.47it/s]\n",
      "100%|██████████████████████████████████████████████████████████████████████████████████████████████| 92/92 [00:05<00:00, 15.55it/s]\n"
     ]
    },
    {
     "name": "stdout",
     "output_type": "stream",
     "text": [
      "Epoch [1], Train Loss : [0.00954] Val Loss : [0.03397] Val F1 : [0.97310]\n"
     ]
    },
    {
     "name": "stderr",
     "output_type": "stream",
     "text": [
      "100%|████████████████████████████████████████████████████████████████████████████████████████████| 366/366 [01:07<00:00,  5.44it/s]\n",
      "100%|██████████████████████████████████████████████████████████████████████████████████████████████| 92/92 [00:05<00:00, 15.43it/s]"
     ]
    },
    {
     "name": "stdout",
     "output_type": "stream",
     "text": [
      "Epoch [2], Train Loss : [0.01105] Val Loss : [0.00702] Val F1 : [0.97310]\n"
     ]
    },
    {
     "name": "stderr",
     "output_type": "stream",
     "text": [
      "\n",
      "100%|████████████████████████████████████████████████████████████████████████████████████████████| 366/366 [01:07<00:00,  5.44it/s]\n",
      "100%|██████████████████████████████████████████████████████████████████████████████████████████████| 92/92 [00:05<00:00, 15.48it/s]\n"
     ]
    },
    {
     "name": "stdout",
     "output_type": "stream",
     "text": [
      "Epoch [3], Train Loss : [0.01389] Val Loss : [0.02966] Val F1 : [0.98682]\n",
      "archieve score!!\n"
     ]
    },
    {
     "name": "stderr",
     "output_type": "stream",
     "text": [
      "100%|████████████████████████████████████████████████████████████████████████████████████████████| 366/366 [01:07<00:00,  5.44it/s]\n",
      "100%|██████████████████████████████████████████████████████████████████████████████████████████████| 92/92 [00:05<00:00, 15.56it/s]"
     ]
    },
    {
     "name": "stdout",
     "output_type": "stream",
     "text": [
      "Epoch [4], Train Loss : [0.00258] Val Loss : [0.02836] Val F1 : [0.97310]\n"
     ]
    },
    {
     "name": "stderr",
     "output_type": "stream",
     "text": [
      "\n",
      "100%|████████████████████████████████████████████████████████████████████████████████████████████| 366/366 [01:07<00:00,  5.46it/s]\n",
      "100%|██████████████████████████████████████████████████████████████████████████████████████████████| 92/92 [00:05<00:00, 15.46it/s]\n"
     ]
    },
    {
     "name": "stdout",
     "output_type": "stream",
     "text": [
      "Epoch [1], Train Loss : [0.00883] Val Loss : [0.00132] Val F1 : [1.00000]\n",
      "archieve score!!\n"
     ]
    },
    {
     "name": "stderr",
     "output_type": "stream",
     "text": [
      "100%|████████████████████████████████████████████████████████████████████████████████████████████| 366/366 [01:07<00:00,  5.44it/s]\n",
      "100%|██████████████████████████████████████████████████████████████████████████████████████████████| 92/92 [00:05<00:00, 15.45it/s]"
     ]
    },
    {
     "name": "stdout",
     "output_type": "stream",
     "text": [
      "Epoch [2], Train Loss : [0.00402] Val Loss : [0.00226] Val F1 : [1.00000]\n",
      "archieve score!!\n"
     ]
    },
    {
     "name": "stderr",
     "output_type": "stream",
     "text": [
      "\n",
      "100%|████████████████████████████████████████████████████████████████████████████████████████████| 366/366 [01:07<00:00,  5.45it/s]\n",
      "100%|██████████████████████████████████████████████████████████████████████████████████████████████| 92/92 [00:05<00:00, 15.47it/s]"
     ]
    },
    {
     "name": "stdout",
     "output_type": "stream",
     "text": [
      "Epoch [3], Train Loss : [0.00754] Val Loss : [0.01496] Val F1 : [0.98682]\n",
      "archieve score!!\n"
     ]
    },
    {
     "name": "stderr",
     "output_type": "stream",
     "text": [
      "\n",
      "100%|████████████████████████████████████████████████████████████████████████████████████████████| 366/366 [01:07<00:00,  5.44it/s]\n",
      "100%|██████████████████████████████████████████████████████████████████████████████████████████████| 92/92 [00:05<00:00, 15.53it/s]"
     ]
    },
    {
     "name": "stdout",
     "output_type": "stream",
     "text": [
      "Epoch [4], Train Loss : [0.00050] Val Loss : [0.00114] Val F1 : [1.00000]\n",
      "archieve score!!\n"
     ]
    },
    {
     "name": "stderr",
     "output_type": "stream",
     "text": [
      "\n",
      "100%|████████████████████████████████████████████████████████████████████████████████████████████| 366/366 [01:07<00:00,  5.46it/s]\n",
      "100%|██████████████████████████████████████████████████████████████████████████████████████████████| 92/92 [00:05<00:00, 15.48it/s]\n"
     ]
    },
    {
     "name": "stdout",
     "output_type": "stream",
     "text": [
      "Epoch [1], Train Loss : [0.00419] Val Loss : [0.00057] Val F1 : [1.00000]\n",
      "archieve score!!\n",
      "Epoch    13: reducing learning rate of group 0 to 5.0000e-06.\n"
     ]
    },
    {
     "name": "stderr",
     "output_type": "stream",
     "text": [
      "100%|████████████████████████████████████████████████████████████████████████████████████████████| 366/366 [01:07<00:00,  5.43it/s]\n",
      "100%|██████████████████████████████████████████████████████████████████████████████████████████████| 92/92 [00:05<00:00, 15.47it/s]"
     ]
    },
    {
     "name": "stdout",
     "output_type": "stream",
     "text": [
      "Epoch [2], Train Loss : [0.00027] Val Loss : [0.00017] Val F1 : [1.00000]\n",
      "archieve score!!\n"
     ]
    },
    {
     "name": "stderr",
     "output_type": "stream",
     "text": [
      "\n",
      "100%|████████████████████████████████████████████████████████████████████████████████████████████| 366/366 [01:07<00:00,  5.44it/s]\n",
      "100%|██████████████████████████████████████████████████████████████████████████████████████████████| 92/92 [00:05<00:00, 15.45it/s]"
     ]
    },
    {
     "name": "stdout",
     "output_type": "stream",
     "text": [
      "Epoch [3], Train Loss : [0.00023] Val Loss : [0.00024] Val F1 : [1.00000]\n",
      "archieve score!!\n"
     ]
    },
    {
     "name": "stderr",
     "output_type": "stream",
     "text": [
      "\n",
      "100%|████████████████████████████████████████████████████████████████████████████████████████████| 366/366 [01:07<00:00,  5.44it/s]\n",
      "100%|██████████████████████████████████████████████████████████████████████████████████████████████| 92/92 [00:05<00:00, 15.51it/s]"
     ]
    },
    {
     "name": "stdout",
     "output_type": "stream",
     "text": [
      "Epoch [4], Train Loss : [0.00021] Val Loss : [0.00046] Val F1 : [1.00000]\n",
      "archieve score!!\n"
     ]
    },
    {
     "name": "stderr",
     "output_type": "stream",
     "text": [
      "\n",
      "100%|████████████████████████████████████████████████████████████████████████████████████████████| 366/366 [01:07<00:00,  5.46it/s]\n",
      "100%|██████████████████████████████████████████████████████████████████████████████████████████████| 92/92 [00:05<00:00, 15.49it/s]\n"
     ]
    },
    {
     "name": "stdout",
     "output_type": "stream",
     "text": [
      "Epoch [1], Train Loss : [0.00005] Val Loss : [0.00005] Val F1 : [1.00000]\n",
      "archieve score!!\n",
      "Epoch    17: reducing learning rate of group 0 to 2.5000e-06.\n"
     ]
    },
    {
     "name": "stderr",
     "output_type": "stream",
     "text": [
      "100%|████████████████████████████████████████████████████████████████████████████████████████████| 366/366 [01:07<00:00,  5.43it/s]\n",
      "100%|██████████████████████████████████████████████████████████████████████████████████████████████| 92/92 [00:05<00:00, 15.46it/s]"
     ]
    },
    {
     "name": "stdout",
     "output_type": "stream",
     "text": [
      "Epoch [2], Train Loss : [0.00012] Val Loss : [0.00004] Val F1 : [1.00000]\n",
      "archieve score!!\n"
     ]
    },
    {
     "name": "stderr",
     "output_type": "stream",
     "text": [
      "\n",
      "100%|████████████████████████████████████████████████████████████████████████████████████████████| 366/366 [01:07<00:00,  5.44it/s]\n",
      "100%|██████████████████████████████████████████████████████████████████████████████████████████████| 92/92 [00:05<00:00, 15.35it/s]"
     ]
    },
    {
     "name": "stdout",
     "output_type": "stream",
     "text": [
      "Epoch [3], Train Loss : [0.00007] Val Loss : [0.00003] Val F1 : [1.00000]\n",
      "archieve score!!\n"
     ]
    },
    {
     "name": "stderr",
     "output_type": "stream",
     "text": [
      "\n",
      "100%|████████████████████████████████████████████████████████████████████████████████████████████| 366/366 [01:07<00:00,  5.44it/s]\n",
      "100%|██████████████████████████████████████████████████████████████████████████████████████████████| 92/92 [00:05<00:00, 15.34it/s]"
     ]
    },
    {
     "name": "stdout",
     "output_type": "stream",
     "text": [
      "Epoch [4], Train Loss : [0.00004] Val Loss : [0.00003] Val F1 : [1.00000]\n",
      "archieve score!!\n"
     ]
    },
    {
     "name": "stderr",
     "output_type": "stream",
     "text": [
      "\n"
     ]
    }
   ],
   "source": [
    "checkpoint = torch.load('./checkpoint/time/time_4_02_21_12_49_best_model.pth')\n",
    "\n",
    "\n",
    "time_model.load_state_dict(checkpoint)\n",
    "print('time model')\n",
    "apply_df = time_df.copy()\n",
    "cls_type = 'time'\n",
    "\n",
    "optimizer = torch.optim.Adam(params = time_model.parameters(), lr = CFG[\"LEARNING_RATE\"])\n",
    "scheduler = torch.optim.lr_scheduler.ReduceLROnPlateau(optimizer, mode='max', factor=0.5, patience=3,threshold_mode='abs',min_lr=1e-12, verbose=True)\n",
    "skf_idx=0\n",
    "for train_idx,val_idx in skf.split(apply_df['video_path'],apply_df['label']):\n",
    "    train_dataset = VideoDataset(apply_df['video_path'][train_idx].values, apply_df['label'][train_idx].values,transform=Alb)\n",
    "    val_dataset = VideoDataset(apply_df['video_path'][val_idx].values, apply_df['label'][val_idx].values, transform=Alb)\n",
    "    train_loader = DataLoader(train_dataset,sampler=ImbalancedDatasetSampler(train_dataset),shuffle=False,batch_size = CFG['BATCH_SIZE'],  num_workers=4)\n",
    "    val_loader = DataLoader(val_dataset, batch_size = CFG['BATCH_SIZE'], num_workers=4)\n",
    "    time_model,achieve,skf_idx = train(skf_idx,time_model, optimizer, train_loader, val_loader, scheduler, device, cls_type)\n",
    "#         skf_idx+=1\n"
   ]
  },
  {
   "cell_type": "code",
   "execution_count": 82,
   "id": "dd895bef",
   "metadata": {},
   "outputs": [],
   "source": [
    "test_dataset = VideoDataset(test_df['video_path'].values,label_list= None, transform=Alb)\n",
    "test_loader = DataLoader(test_dataset, shuffle=False,batch_size = CFG['BATCH_SIZE'],  num_workers=4)\n",
    "   \n",
    "# train_test_dataset = VideoDataset(all_df['video_path'].values,label_list= None, transform=Alb)\n",
    "# train_test_loader = DataLoader(train_test_dataset, shuffle=False,batch_size = CFG['BATCH_SIZE'],  num_workers=4)\n",
    "\n"
   ]
  },
  {
   "cell_type": "code",
   "execution_count": 83,
   "id": "7d95f675",
   "metadata": {},
   "outputs": [],
   "source": [
    "def inference(model, test_loader, device):\n",
    "    model.to(device)\n",
    "    model.eval()\n",
    "    preds = []\n",
    "    with torch.no_grad():\n",
    "        for videos in tqdm(iter(test_loader)):\n",
    "            videos = videos.to(device)\n",
    "            output = model(videos)\n",
    "#             preds += output.logits.argmax(1).detach().cpu().numpy().tolist()\n",
    "            preds += output.logits.detach().cpu().numpy().tolist()\n",
    "\n",
    "    return preds"
   ]
  },
  {
   "cell_type": "code",
   "execution_count": 84,
   "id": "c9543b3f",
   "metadata": {},
   "outputs": [
    {
     "data": {
      "text/plain": [
       "<All keys matched successfully>"
      ]
     },
     "execution_count": 84,
     "metadata": {},
     "output_type": "execute_result"
    }
   ],
   "source": [
    "crash_checkpoint = torch.load('./checkpoint/crash/crash_4_02_21_16_03_best_model.pth')\n",
    "crash_model.load_state_dict(crash_checkpoint)\n",
    "\n",
    "ego_checkpoint = torch.load('./checkpoint/ego/ego_17_02_21_16_36_best_model.pth')\n",
    "ego_model.load_state_dict(ego_checkpoint)\n",
    "\n",
    "weather_checkpoint = torch.load('./checkpoint/weather/weather_16_02_21_16_59_best_model.pth')\n",
    "weather_model.load_state_dict(weather_checkpoint)\n",
    "\n",
    "time_checkpoint = torch.load('./checkpoint/time/time_16_02_21_17_27_best_model.pth')\n",
    "time_model.load_state_dict(time_checkpoint)"
   ]
  },
  {
   "cell_type": "code",
   "execution_count": 85,
   "id": "11f55d35",
   "metadata": {
    "scrolled": true
   },
   "outputs": [
    {
     "name": "stderr",
     "output_type": "stream",
     "text": [
      "100%|████████████████████████████████████████████████████████████████████████████████████████████| 900/900 [00:57<00:00, 15.76it/s]\n",
      "100%|████████████████████████████████████████████████████████████████████████████████████████████| 900/900 [00:58<00:00, 15.50it/s]\n",
      "100%|████████████████████████████████████████████████████████████████████████████████████████████| 900/900 [00:58<00:00, 15.40it/s]\n",
      "100%|████████████████████████████████████████████████████████████████████████████████████████████| 900/900 [00:58<00:00, 15.46it/s]\n",
      "100%|████████████████████████████████████████████████████████████████████████████████████████████| 900/900 [00:58<00:00, 15.40it/s]\n",
      "100%|████████████████████████████████████████████████████████████████████████████████████████████| 900/900 [00:58<00:00, 15.29it/s]\n",
      "100%|████████████████████████████████████████████████████████████████████████████████████████████| 900/900 [00:58<00:00, 15.34it/s]\n",
      "100%|████████████████████████████████████████████████████████████████████████████████████████████| 900/900 [00:58<00:00, 15.39it/s]\n",
      "100%|████████████████████████████████████████████████████████████████████████████████████████████| 900/900 [00:58<00:00, 15.31it/s]\n",
      "100%|████████████████████████████████████████████████████████████████████████████████████████████| 900/900 [00:58<00:00, 15.39it/s]\n",
      "100%|████████████████████████████████████████████████████████████████████████████████████████████| 900/900 [00:58<00:00, 15.39it/s]\n",
      "100%|████████████████████████████████████████████████████████████████████████████████████████████| 900/900 [00:58<00:00, 15.50it/s]\n",
      "100%|████████████████████████████████████████████████████████████████████████████████████████████| 900/900 [00:58<00:00, 15.43it/s]\n",
      "100%|████████████████████████████████████████████████████████████████████████████████████████████| 900/900 [00:58<00:00, 15.48it/s]\n",
      "100%|████████████████████████████████████████████████████████████████████████████████████████████| 900/900 [00:58<00:00, 15.46it/s]\n",
      "100%|████████████████████████████████████████████████████████████████████████████████████████████| 900/900 [00:58<00:00, 15.45it/s]\n",
      "100%|████████████████████████████████████████████████████████████████████████████████████████████| 900/900 [00:58<00:00, 15.42it/s]\n",
      "100%|████████████████████████████████████████████████████████████████████████████████████████████| 900/900 [00:58<00:00, 15.44it/s]\n",
      "100%|████████████████████████████████████████████████████████████████████████████████████████████| 900/900 [00:58<00:00, 15.45it/s]\n",
      "100%|████████████████████████████████████████████████████████████████████████████████████████████| 900/900 [00:58<00:00, 15.42it/s]\n"
     ]
    }
   ],
   "source": [
    "total_preds_list = []\n",
    "crash_preds_list=[]\n",
    "ego_preds_list=[]\n",
    "weather_preds_list=[]\n",
    "time_preds_list=[]\n",
    "crash_preds=None\n",
    "ego_preds=None\n",
    "weather_preds=None\n",
    "time_preds=None\n",
    "\n",
    "\n",
    "for idx in range(CFG['NUM_ASB']):\n",
    "    crash_preds = inference(crash_model, test_loader, device)\n",
    "    crash_preds_list.append(crash_preds)\n",
    "    \n",
    "crash_pred_sum = np.sum(crash_preds_list,axis=0)\n",
    "crash_max = crash_pred_sum.argmax(1).tolist()\n",
    "\n",
    "for idx in range(CFG['NUM_ASB']):\n",
    "    ego_preds = inference(ego_model, test_loader, device)\n",
    "    ego_preds_list.append(ego_preds)\n",
    "    \n",
    "ego_pred_sum = np.sum(ego_preds_list,axis=0)\n",
    "ego_max = ego_pred_sum.argmax(1).tolist()\n",
    "    \n",
    "for idx in range(CFG['NUM_ASB']):\n",
    "    weather_preds = inference(weather_model, test_loader, device)\n",
    "    weather_preds_list.append(weather_preds)\n",
    "\n",
    "weather_pred_sum = np.sum(weather_preds_list,axis=0)\n",
    "weather_max = weather_pred_sum.argmax(1).tolist()\n",
    "    \n",
    "for idx in range(CFG['NUM_ASB']):\n",
    "    time_preds = inference(time_model, test_loader, device)\n",
    "    time_preds_list.append(time_preds)\n",
    "\n",
    "time_pred_sum = np.sum(time_preds_list,axis=0)\n",
    "time_max = time_pred_sum.argmax(1).tolist()\n",
    "\n",
    "\n",
    "\n"
   ]
  },
  {
   "cell_type": "code",
   "execution_count": 86,
   "id": "92bdd37e",
   "metadata": {},
   "outputs": [
    {
     "name": "stdout",
     "output_type": "stream",
     "text": [
      "1800\n",
      "1800\n",
      "1800\n",
      "1800\n"
     ]
    }
   ],
   "source": [
    "# crash_preds_df = pd.DataFrame(crash_preds,columns=['crash'])\n",
    "# ego_preds_df = pd.DataFrame(ego_preds,columns=['ego'])\n",
    "# weather_preds_df = pd.DataFrame(weather_preds,columns=['weather'])\n",
    "# time_preds_df = pd.DataFrame(time_preds,columns=['time'])\n",
    "\n",
    "preds=[]\n",
    "\n",
    "print(len(crash_preds))\n",
    "print(len(ego_preds))\n",
    "print(len(weather_preds))\n",
    "print(len(time_preds))\n",
    "\n",
    "for idx,crash in enumerate(crash_max):\n",
    "    ego = ego_max[idx]\n",
    "    weather = weather_max[idx]\n",
    "    time = time_max[idx]\n",
    "    if crash == 0:\n",
    "        preds.append(0)\n",
    "    else:\n",
    "        if ego==0:\n",
    "            if weather==0:\n",
    "                if time == 0:\n",
    "                    preds.append(7)\n",
    "                else:\n",
    "                    preds.append(8)\n",
    "            elif weather==1:\n",
    "                if time == 0:\n",
    "                    preds.append(9)\n",
    "                else:\n",
    "                    preds.append(10)\n",
    "            else:\n",
    "                if time == 0:\n",
    "                    preds.append(11)\n",
    "                else:\n",
    "                    preds.append(12)\n",
    "                    \n",
    "        else:\n",
    "            if weather==0:\n",
    "                if time == 0:\n",
    "                    preds.append(1)\n",
    "                else:\n",
    "                    preds.append(2)\n",
    "            elif weather==1:\n",
    "                if time == 0:\n",
    "                    preds.append(3)\n",
    "                else:\n",
    "                    preds.append(4)\n",
    "            else:\n",
    "                if time == 0:\n",
    "                    preds.append(5)\n",
    "                else:\n",
    "                    preds.append(6)\n",
    "                "
   ]
  },
  {
   "cell_type": "code",
   "execution_count": 88,
   "id": "e4ac6501",
   "metadata": {},
   "outputs": [],
   "source": [
    "# # all_df['label'].values.tolist()\n",
    "# gt = crash_df['label'].values.tolist()\n",
    "# f1_score(gt,crash_max,average='macro')"
   ]
  },
  {
   "cell_type": "code",
   "execution_count": 89,
   "id": "c6b99bfc",
   "metadata": {},
   "outputs": [],
   "source": [
    "# gt = all_df['label'].values.tolist()\n",
    "# f1_score(gt, preds, average='macro')"
   ]
  },
  {
   "cell_type": "code",
   "execution_count": 94,
   "id": "02423dfb",
   "metadata": {},
   "outputs": [],
   "source": [
    "submit = pd.read_csv('./data/sample_submission.csv')\n",
    "comp = pd.read_csv('./submit/2023_02_21_10_44_04.csv')"
   ]
  },
  {
   "cell_type": "code",
   "execution_count": 91,
   "id": "0bc68cb1",
   "metadata": {},
   "outputs": [],
   "source": [
    "submit['label'] = preds"
   ]
  },
  {
   "cell_type": "code",
   "execution_count": 95,
   "id": "5b9c73d6",
   "metadata": {},
   "outputs": [
    {
     "data": {
      "text/plain": [
       "0     1221\n",
       "1      321\n",
       "7      131\n",
       "3       56\n",
       "2       45\n",
       "5        9\n",
       "8        8\n",
       "4        5\n",
       "9        3\n",
       "11       1\n",
       "Name: label, dtype: int64"
      ]
     },
     "execution_count": 95,
     "metadata": {},
     "output_type": "execute_result"
    }
   ],
   "source": [
    "comp['label'].value_counts()"
   ]
  },
  {
   "cell_type": "code",
   "execution_count": 92,
   "id": "043bfc90",
   "metadata": {
    "scrolled": true
   },
   "outputs": [
    {
     "data": {
      "text/plain": [
       "0     1221\n",
       "7      263\n",
       "1      160\n",
       "3       54\n",
       "2       36\n",
       "9       23\n",
       "8       18\n",
       "11      14\n",
       "5        8\n",
       "12       2\n",
       "4        1\n",
       "Name: label, dtype: int64"
      ]
     },
     "execution_count": 92,
     "metadata": {},
     "output_type": "execute_result"
    }
   ],
   "source": [
    "submit['label'].value_counts()"
   ]
  },
  {
   "cell_type": "code",
   "execution_count": 93,
   "id": "21e94bdd",
   "metadata": {},
   "outputs": [],
   "source": [
    "date=datetime.today().strftime(\"%Y_%m_%d_%H_%M_%S\")\n",
    "submit.to_csv('./'+date+'.csv', index=False)"
   ]
  },
  {
   "cell_type": "code",
   "execution_count": null,
   "id": "1d818da0",
   "metadata": {},
   "outputs": [],
   "source": []
  }
 ],
 "metadata": {
  "kernelspec": {
   "display_name": "Python 3 (ipykernel)",
   "language": "python",
   "name": "python3"
  },
  "language_info": {
   "codemirror_mode": {
    "name": "ipython",
    "version": 3
   },
   "file_extension": ".py",
   "mimetype": "text/x-python",
   "name": "python",
   "nbconvert_exporter": "python",
   "pygments_lexer": "ipython3",
   "version": "3.8.16"
  }
 },
 "nbformat": 4,
 "nbformat_minor": 5
}
