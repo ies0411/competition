{
 "cells": [
  {
   "attachments": {},
   "cell_type": "markdown",
   "metadata": {},
   "source": [
    "# Dacon 자동차 충돌 분석 AI 경진대회"
   ]
  },
  {
   "attachments": {},
   "cell_type": "markdown",
   "metadata": {},
   "source": [
    "- crash, ego, weather, timing 네 가지로 나누어 학습\n",
    "\n",
    "- MMAction2\n",
    "  - crash : Swin_base (video)\n",
    "  - ego : Swin_base (video)\n",
    "- MMClassification\n",
    "  - weather : ConvNeXt_large\n",
    "  - timing : EfficientNet_b0"
   ]
  },
  {
   "attachments": {},
   "cell_type": "markdown",
   "metadata": {},
   "source": [
    "Video Swin Transformer가 MMAction2 기반으로 구현되어있어 MMClassficiation 사용하면 패키지 관리하기 편하겠지! 했는데... <br>\n",
    "mmcv 버전이 안 맞아서 가상환경 두 개를 사용했습니다."
   ]
  },
  {
   "attachments": {},
   "cell_type": "markdown",
   "metadata": {},
   "source": [
    "터미널에서 code cell에 있는 것을 따라 치면 최종 submit csv를 재현할 수 있도록 작성했습니다."
   ]
  },
  {
   "cell_type": "code",
   "execution_count": null,
   "metadata": {},
   "outputs": [],
   "source": [
    "git clone https://github.com/miinngdok/Dacon-Car-Crash-Analysis-submission.git\n",
    "cd Dacon-Car-Crash-Analysis-submission"
   ]
  },
  {
   "attachments": {},
   "cell_type": "markdown",
   "metadata": {},
   "source": [
    "### Directory Structure"
   ]
  },
  {
   "attachments": {},
   "cell_type": "markdown",
   "metadata": {},
   "source": [
    "- 데이터셋을 다운받아 아래와 같이 준비해줍니다."
   ]
  },
  {
   "cell_type": "code",
   "execution_count": null,
   "metadata": {},
   "outputs": [],
   "source": [
    "# car_crash_analysis\n",
    "# |--- Video-Swin-Transformer\n",
    "# |--- mmclassification\n",
    "# |--- tools\n",
    "# |--- data \n",
    "# |    |--- train \n",
    "# |    |--- test\n",
    "# |    |--- train.csv\n",
    "# |    |--- test.csv\n",
    "# |    |--- sample_submission.csv"
   ]
  },
  {
   "attachments": {},
   "cell_type": "markdown",
   "metadata": {},
   "source": [
    "## Video Swin Transformer"
   ]
  },
  {
   "attachments": {},
   "cell_type": "markdown",
   "metadata": {},
   "source": [
    "https://github.com/SwinTransformer/Video-Swin-Transformer.git"
   ]
  },
  {
   "attachments": {},
   "cell_type": "markdown",
   "metadata": {},
   "source": [
    "### Install Libraries"
   ]
  },
  {
   "cell_type": "code",
   "execution_count": null,
   "metadata": {},
   "outputs": [],
   "source": [
    "conda create -n vst python=3.9\n",
    "conda activate vst\n",
    "pip install torch==1.13.1\n",
    "pip install torchvision==0.14.1\n",
    "pip install mmcv-full==1.4.0\n",
    "pip install timm\n",
    "pip install scipy\n",
    "pip install einops\n",
    "pip install decord\n",
    "pip install numpy==1.23.0\n",
    "git clone https://github.com/NVIDIA/apex.git\n",
    "cd apex\n",
    "python setup.py install\n",
    "cd .."
   ]
  },
  {
   "attachments": {},
   "cell_type": "markdown",
   "metadata": {},
   "source": [
    "### Make Dataset"
   ]
  },
  {
   "cell_type": "code",
   "execution_count": null,
   "metadata": {},
   "outputs": [],
   "source": [
    "cd tools\n",
    "python make_data_mmaction2_crash.py\n",
    "python make_data_mmaction2_ego.py\n",
    "cd.."
   ]
  },
  {
   "attachments": {},
   "cell_type": "markdown",
   "metadata": {},
   "source": [
    "### Train"
   ]
  },
  {
   "cell_type": "code",
   "execution_count": null,
   "metadata": {},
   "outputs": [],
   "source": [
    "cd Video-Swin-Transformer\n",
    "python train.py ./configs/recognition/_KDI_/swin_base_crash_final.py --seed 8\n",
    "python train.py ./configs/recognition/_KDI_/swin_base_ego_final.py --seed 8"
   ]
  },
  {
   "attachments": {},
   "cell_type": "markdown",
   "metadata": {},
   "source": [
    "### Inference"
   ]
  },
  {
   "cell_type": "code",
   "execution_count": null,
   "metadata": {},
   "outputs": [],
   "source": [
    "python inference_custom.py swin_base_crash_final --epoch 3\n",
    "python inference_custom.py swin_base_ego_final --epoch 20"
   ]
  },
  {
   "cell_type": "code",
   "execution_count": null,
   "metadata": {},
   "outputs": [],
   "source": [
    "conda deactivate\n",
    "cd .."
   ]
  },
  {
   "attachments": {},
   "cell_type": "markdown",
   "metadata": {},
   "source": [
    "## MMClassification"
   ]
  },
  {
   "attachments": {},
   "cell_type": "markdown",
   "metadata": {},
   "source": [
    "https://github.com/open-mmlab/mmclassification.git"
   ]
  },
  {
   "attachments": {},
   "cell_type": "markdown",
   "metadata": {},
   "source": [
    "### Install Libraries"
   ]
  },
  {
   "cell_type": "code",
   "execution_count": null,
   "metadata": {},
   "outputs": [],
   "source": [
    "conda create -n mmcls python=3.9\n",
    "conda activate mmcls\n",
    "pip install torch==1.13.1\n",
    "pip install torchvision==0.14.1\n",
    "pip install mmcv-full==1.7.0\n",
    "pip install tqdm\n",
    "pip install matplotlib"
   ]
  },
  {
   "attachments": {},
   "cell_type": "markdown",
   "metadata": {},
   "source": [
    "### Make Dataset"
   ]
  },
  {
   "cell_type": "code",
   "execution_count": null,
   "metadata": {},
   "outputs": [],
   "source": [
    "cd tools\n",
    "python make_data_mmcls_weather.py\n",
    "python make_data_mmcls_timing.py\n",
    "cd .."
   ]
  },
  {
   "attachments": {},
   "cell_type": "markdown",
   "metadata": {},
   "source": [
    "### train"
   ]
  },
  {
   "cell_type": "code",
   "execution_count": null,
   "metadata": {},
   "outputs": [],
   "source": [
    "cd mmclassification\n",
    "python train.py ./configs/_KDI_/convnext_large_weather_final.py --seed 8\n",
    "python train.py ./configs/_KDI_/efficientnet_b0_timing_final_0.py --seed 8\n",
    "python train.py ./configs/_KDI_/efficientnet_b0_timing_final_1.py --seed 8"
   ]
  },
  {
   "attachments": {},
   "cell_type": "markdown",
   "metadata": {},
   "source": [
    "### Inference"
   ]
  },
  {
   "cell_type": "code",
   "execution_count": null,
   "metadata": {},
   "outputs": [],
   "source": [
    "python inference_custom.py convnext_large_weather_final --epoch 4\n",
    "python inference_custom.py efficientnet_b0_timing_final_0 --epoch 1\n",
    "python inference_custom.py efficientnet_b0_timing_final_1 --epoch 1\n",
    "python inference_custom.py efficientnet_b0_timing_final_1 --epoch 4"
   ]
  },
  {
   "cell_type": "code",
   "execution_count": null,
   "metadata": {},
   "outputs": [],
   "source": [
    "cd .."
   ]
  },
  {
   "attachments": {},
   "cell_type": "markdown",
   "metadata": {},
   "source": [
    "## Merge csv"
   ]
  },
  {
   "cell_type": "code",
   "execution_count": null,
   "metadata": {},
   "outputs": [],
   "source": [
    "cd tools\n",
    "python merge_csv.py"
   ]
  }
 ],
 "metadata": {
  "kernelspec": {
   "display_name": "base",
   "language": "python",
   "name": "python3"
  },
  "language_info": {
   "codemirror_mode": {
    "name": "ipython",
    "version": 3
   },
   "file_extension": ".py",
   "mimetype": "text/x-python",
   "name": "python",
   "nbconvert_exporter": "python",
   "pygments_lexer": "ipython3",
   "version": "3.8.5"
  },
  "orig_nbformat": 4,
  "vscode": {
   "interpreter": {
    "hash": "d4d1e4263499bec80672ea0156c357c1ee493ec2b1c70f0acce89fc37c4a6abe"
   }
  }
 },
 "nbformat": 4,
 "nbformat_minor": 2
}
