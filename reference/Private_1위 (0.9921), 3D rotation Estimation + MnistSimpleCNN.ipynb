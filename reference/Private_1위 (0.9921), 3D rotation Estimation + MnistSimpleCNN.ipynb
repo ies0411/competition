{
 "cells": [
  {
   "cell_type": "markdown",
   "metadata": {},
   "source": [
    "## [step1] convert h5 data to npy"
   ]
  },
  {
   "cell_type": "code",
   "execution_count": 2,
   "metadata": {},
   "outputs": [],
   "source": [
    "import numpy as np\n",
    "from tqdm import tqdm\n",
    "\n",
    "import random\n",
    "import h5py\n",
    "import os\n",
    "import csv"
   ]
  },
  {
   "cell_type": "code",
   "execution_count": 3,
   "metadata": {},
   "outputs": [],
   "source": [
    "class H5DataLoader:\n",
    "    def __init__(self, data_path, mode='train', img_size=256):\n",
    "        self.it = 0\n",
    "        self.mode = mode\n",
    "        self.label = None\n",
    "        if mode == 'train':\n",
    "            self.off = 0\n",
    "            self.label = {r['ID']: r['label'] for r in csv.DictReader(open(os.path.join(data_path, 'train.csv')))}\n",
    "            self.data = h5py.File(os.path.join(data_path, \"train.h5\"), 'r')\n",
    "        elif mode == 'test':\n",
    "            self.off = 50000\n",
    "            self.data = h5py.File(os.path.join(data_path, \"test.h5\"), 'r')\n",
    "        self.img_size = img_size\n",
    "\n",
    "    def __iter__(self):\n",
    "        return self\n",
    "\n",
    "    def __next__(self):\n",
    "        index = self.it\n",
    "        if index >= len(self.data):\n",
    "            raise StopIteration\n",
    "        data = self.data[str(index + self.off)]\n",
    "        label = index + self.off\n",
    "        if self.mode == 'train':\n",
    "            label = self.label[str(index)]\n",
    "            label = np.array(label).astype(int)\n",
    "        self.it += 1\n",
    "        return str(index + self.off), data, label\n",
    "\n",
    "    def __len__(self):\n",
    "        return len(self.data)"
   ]
  },
  {
   "cell_type": "code",
   "execution_count": 4,
   "metadata": {},
   "outputs": [],
   "source": [
    "def h5_to_np(data_path, save_path):\n",
    "    [os.makedirs(\"%s/train/%d\" % (save_path, i), exist_ok=True) for i in range(10)]\n",
    "    os.makedirs(\"%s/test\" % save_path, exist_ok=True)\n",
    "\n",
    "    train_dl = H5DataLoader(data_path, mode='train')\n",
    "    bar = tqdm(train_dl, total=len(train_dl))\n",
    "    for index, dd, gt in bar:\n",
    "        np.save(\"%s/train/%d/%05d\" % (save_path, gt, int(index)), dd)\n",
    "    print('train data save complete')\n",
    "    test_dl = H5DataLoader(data_path, mode='test')\n",
    "    bar = tqdm(test_dl, total=len(test_dl))\n",
    "    for index, dd, gt in bar:\n",
    "        np.save(\"%s/test/%05d\" % (save_path, int(index)), dd)"
   ]
  },
  {
   "cell_type": "markdown",
   "metadata": {},
   "source": [
    "h5 파일은 pickel error 로 dataloader 에서 multiprocess 를 사용할수 없기에 npy 로 바꿔 사용"
   ]
  },
  {
   "cell_type": "code",
   "execution_count": null,
   "metadata": {},
   "outputs": [
    {
     "name": "stderr",
     "output_type": "stream",
     "text": [
      " 68%|██████▊   | 33966/50000 [08:50<04:12, 63.61it/s]"
     ]
    }
   ],
   "source": [
    "# run\n",
    "h5_to_np('/coldjeans/Data/raw', \"/coldjeans/Data/np\")"
   ]
  },
  {
   "cell_type": "markdown",
   "metadata": {},
   "source": [
    "## [step2] training rotation model\n",
    "데이터 rotation x, y, z 값 estimation"
   ]
  },
  {
   "cell_type": "markdown",
   "metadata": {},
   "source": [
    "##### 2.1 define model\n",
    "build regression model \n",
    "input : B x n x 3\n",
    "output : B x 3"
   ]
  },
  {
   "cell_type": "code",
   "execution_count": 9,
   "metadata": {},
   "outputs": [],
   "source": [
    "import torch\n",
    "from torch import Tensor\n",
    "import torch.nn as nn\n",
    "\n",
    "\n",
    "class DeepHoughModel(nn.Module):\n",
    "    def __init__(self, input_size=10000):\n",
    "        super(DeepHoughModel, self).__init__()\n",
    "        self.input_size = input_size\n",
    "        self.l1 = nn.Conv1d(3, 16, (100, ), (5, ))\n",
    "        self.l2 = nn.Conv1d(16, 64, (100, ), (5, ))\n",
    "        self.l3 = nn.Conv1d(64, 128, (10, ), (5, ))\n",
    "        self.l4 = nn.Conv1d(128, 256, (10, ), (5, ))\n",
    "        self.l5 = nn.Conv1d(256, 512, (10, ), (5, ))\n",
    "        self.fc1 = nn.Linear(512, 128)\n",
    "        self.fc2 = nn.Linear(128, 3)\n",
    "        self.active = nn.ReLU()\n",
    "        self.fc_active = nn.Tanh()\n",
    "\n",
    "    def forward(self, x: Tensor) -> Tensor:\n",
    "        c = x.permute(0, 2, 1)\n",
    "        c = self.l1(c)\n",
    "        c = self.active(c)\n",
    "        c = self.l2(c)\n",
    "        c = self.active(c)\n",
    "        c = self.l3(c)\n",
    "        c = self.active(c)\n",
    "        c = self.l4(c)\n",
    "        c = self.active(c)\n",
    "        c = self.l5(c)\n",
    "        c = self.active(c)\n",
    "        feature = torch.mean(c, dim=2)\n",
    "        c = self.fc1(feature)\n",
    "        c = self.fc_active(c)\n",
    "        pred = self.fc2(c)\n",
    "\n",
    "        return pred"
   ]
  },
  {
   "cell_type": "markdown",
   "metadata": {},
   "source": [
    "##### 2.2 define viz function"
   ]
  },
  {
   "cell_type": "code",
   "execution_count": 10,
   "metadata": {},
   "outputs": [],
   "source": [
    "def derotation(a, b, c, dots):\n",
    "    def _rotation(a, b, c, dots):\n",
    "        mx = np.array([[1, 0, 0], [0, np.cos(a), -np.sin(a)], [0, np.sin(a), np.cos(a)]])\n",
    "        my = np.array([[np.cos(b), 0, np.sin(b)], [0, 1, 0], [-np.sin(b), 0, np.cos(b)]])\n",
    "        mz = np.array([[np.cos(c), -np.sin(c), 0], [np.sin(c), np.cos(c), 0], [0, 0, 1]])\n",
    "        m = np.dot(np.dot(mx, my), mz)\n",
    "        dots = np.dot(dots, m.T)\n",
    "        return dots\n",
    "    dot = _rotation(0, 0, c, dots)\n",
    "    dot = _rotation(0, b, 0, dot)\n",
    "    dot = _rotation(a, 0, 0, dot)\n",
    "    return dot\n",
    "\n",
    "\n",
    "def viz_result(data, pred, gt):\n",
    "    b_size = data.shape[0]\n",
    "    in_list = []\n",
    "    pred_list = []\n",
    "    gt_list = []\n",
    "    for i in range(b_size):\n",
    "        dd = data[i].cpu().detach().numpy()\n",
    "        in_list.append(data2img(dd.copy()))\n",
    "        pp = pred[i].cpu().detach().numpy()\n",
    "        gg = gt[i]\n",
    "        x, y, z = pp\n",
    "        # x *= np.pi*2\n",
    "        # y *= np.pi*2\n",
    "        # z *= np.pi*2\n",
    "        result_data = derotation(-x, -y, -z, dd.copy())\n",
    "        result_img = data2img(result_data)\n",
    "        pred_list.append(result_img)\n",
    "        x, y, z = gg\n",
    "        # x *= np.pi*2\n",
    "        # y *= np.pi*2\n",
    "        # z *= np.pi*2\n",
    "        gt_data = derotation(-x, -y, -z, dd.copy())\n",
    "        gt_img = data2img(gt_data)\n",
    "        gt_list.append(gt_img)\n",
    "\n",
    "    in_list = np.concatenate(in_list, axis=1)\n",
    "    pred_list = np.concatenate(pred_list, axis=1)\n",
    "    gt_list = np.concatenate(gt_list, axis=1)\n",
    "    return np.concatenate([in_list, pred_list, gt_list])\n",
    "\n",
    "\n",
    "def data2img(data, img_size=224):\n",
    "    w = 1\n",
    "    index = np.array(data)\n",
    "    index = np.array((index + 1) * (img_size // 2), dtype=int)\n",
    "    img = np.zeros((img_size, img_size, img_size), dtype=float)\n",
    "    for i in index:\n",
    "        x, y, z = i\n",
    "        # img[x, y, z] += 1\n",
    "        img[x - w:x + w, y - w:y + w, z - w:z + w] += 1\n",
    "    # print(np.max(img))\n",
    "    img = img[img_size // 2, :, :]\n",
    "    # img = cv2.blur(img, (5, 5))\n",
    "    # img = cv2.blur(img, (11, 11))\n",
    "    img[img > 1] = 1\n",
    "    img *= 255\n",
    "    return img.astype(np.uint8)"
   ]
  },
  {
   "cell_type": "markdown",
   "metadata": {},
   "source": [
    "##### 2.3 define data loader"
   ]
  },
  {
   "cell_type": "code",
   "execution_count": 11,
   "metadata": {},
   "outputs": [],
   "source": [
    "from torch.utils.data import Dataset\n",
    "from torchvision import transforms\n",
    "\n",
    "class RotationLoader(Dataset):\n",
    "    def __init__(self, data_path, mode='train', img_size=128):\n",
    "        # data_path=\"F:\\\\Data\\\\mnist_3d\", mode='train'\n",
    "        self.mode = mode\n",
    "        self.data, self.label = self.get_img_list(data_path)\n",
    "        self.img_size = img_size\n",
    "        self.off = None\n",
    "        self.transform_3d = transforms.Compose([transforms.ToTensor(),\n",
    "                                             transforms.Normalize(mean=[0.5]*img_size,\n",
    "                                                                  std=[0.225]*img_size)\n",
    "                                             ])\n",
    "        self.transform = transforms.Compose([transforms.ToTensor()])\n",
    "\n",
    "    def get_img_list(self, data_path):\n",
    "        if self.mode == 'test':\n",
    "            img_list = glob(os.path.join(data_path, 'test', '*.npy'))\n",
    "            label_list = [int(img_l.split(os.sep)[-1].split('.')[0]) for img_l in img_list]\n",
    "            return img_list, label_list\n",
    "        else:\n",
    "            img_list = []\n",
    "            label_list = []\n",
    "            for i in range(10):\n",
    "                sub_path = os.path.join(data_path, 'train', '%d' % i)\n",
    "                sub_img_list = [os.path.join(sub_path, s) for s in os.listdir(sub_path) if 'npy' in s]\n",
    "                sub_img_num = len(sub_img_list)\n",
    "                sub_img_list.sort()\n",
    "                if self.mode == 'train':\n",
    "                    sub_img_list = sub_img_list[:int(sub_img_num*0.9)]\n",
    "                elif self.mode == 'val':\n",
    "                    sub_img_list = sub_img_list[int(sub_img_num*0.9):]\n",
    "                else:\n",
    "                    raise AssertionError\n",
    "                sub_label = [i for _ in range(len(sub_img_list))]\n",
    "                img_list += sub_img_list\n",
    "                label_list += sub_label\n",
    "\n",
    "            return img_list, label_list\n",
    "\n",
    "    @staticmethod\n",
    "    def rotation(a, b, c, dots):\n",
    "        def _rotation(a, b, c, dots):\n",
    "            mx = np.array([[1, 0, 0], [0, np.cos(a), -np.sin(a)], [0, np.sin(a), np.cos(a)]])\n",
    "            my = np.array([[np.cos(b), 0, np.sin(b)], [0, 1, 0], [-np.sin(b), 0, np.cos(b)]])\n",
    "            mz = np.array([[np.cos(c), -np.sin(c), 0], [np.sin(c), np.cos(c), 0], [0, 0, 1]])\n",
    "            m = np.dot(np.dot(mx, my), mz)\n",
    "            dots = np.dot(dots, m.T)\n",
    "            return dots\n",
    "        dot = _rotation(a, 0, 0, dots)\n",
    "        dot = _rotation(0, b, 0, dot)\n",
    "        dot = _rotation(0, 0, c, dot)\n",
    "        return dot\n",
    "\n",
    "    @staticmethod\n",
    "    def derotation(a, b, c, dots):\n",
    "        def _derotation(a, b, c, dots):\n",
    "            mx = np.array([[1, 0, 0], [0, np.cos(a), -np.sin(a)], [0, np.sin(a), np.cos(a)]])\n",
    "            my = np.array([[np.cos(b), 0, np.sin(b)], [0, 1, 0], [-np.sin(b), 0, np.cos(b)]])\n",
    "            mz = np.array([[np.cos(c), -np.sin(c), 0], [np.sin(c), np.cos(c), 0], [0, 0, 1]])\n",
    "            m = np.dot(np.dot(mx, my), mz)\n",
    "            dots = np.dot(dots, m.T)\n",
    "            return dots\n",
    "\n",
    "        dot = _derotation(0, 0, c, dots)\n",
    "        dot = _derotation(0, b, 0, dot)\n",
    "        dot = _derotation(a, 0, 0, dot)\n",
    "        return dot\n",
    "\n",
    "\n",
    "    def random_rotation(self, data):\n",
    "        # 45 -np.pi/4\n",
    "        # off = np.pi*2\n",
    "        if self.off is None:\n",
    "            off = 0.5*np.pi\n",
    "        else:\n",
    "            off = self.off\n",
    "        x, y, z = 2*np.random.rand(3) - 1\n",
    "        x *= off\n",
    "        y *= off\n",
    "        z *= off\n",
    "        return self.rotation(x, y, z, data), [x, y, z]\n",
    "\n",
    "    def cvt_data(self, data):\n",
    "        data_np = np.array(data[:, 14, :], dtype=np.float32)\n",
    "        data_np -= np.min(data_np)\n",
    "        data_np /= np.max(data_np)\n",
    "        img = np.array(data_np*255, dtype=np.uint8)\n",
    "        return cv2.cvtColor(img, cv2.COLOR_GRAY2BGR)\n",
    "\n",
    "    def data2img(self, data):\n",
    "        w = 1\n",
    "        index = np.array(data)\n",
    "        index = np.array((index + 1) * (self.img_size//2), dtype=int)\n",
    "        img = np.zeros((self.img_size, self.img_size, self.img_size), dtype=float)\n",
    "        for i in index:\n",
    "            x, y, z = i\n",
    "            img[x-w:x+w, y-w:y+w, z-w:z+w] += 1\n",
    "        # print(np.max(img))\n",
    "        img /= np.max(img)\n",
    "        img *= 255\n",
    "        return img.astype(np.uint8)\n",
    "\n",
    "    def sampling(self, data):\n",
    "        data_len = data.shape[0]\n",
    "        try:\n",
    "            idx = np.random.choice(np.array(range(0, data_len)), 10000, False)\n",
    "        except:\n",
    "            idx = np.random.choice(np.array(range(0, data_len)), 10000)\n",
    "        idx.sort()\n",
    "        feature = data[idx]\n",
    "        # sample_idx = torch.tensor(sample(range(0, data.shape[0]), 10000))\n",
    "        # feature = torch.index_select(data, 1, sample_idx)\n",
    "        return feature\n",
    "\n",
    "    def __getitem__(self, index):\n",
    "        # index = 0\n",
    "        data = self.data[index]\n",
    "        label = self.label[index]\n",
    "        try:\n",
    "            data = np.load(data)\n",
    "        except Exception as e:\n",
    "            print('='*100)\n",
    "            print(index, e)\n",
    "            print('='*100)\n",
    "            index = 0\n",
    "            data = self.data[index]\n",
    "            data = np.load(data)\n",
    "            label = self.label[index]\n",
    "\n",
    "        data, rota = self.random_rotation(data)\n",
    "        data = self.sampling(data.astype(np.float32))\n",
    "\n",
    "        # data = self.transform(data)[0]\n",
    "        # print(data.shape)\n",
    "        return data, label, np.array(rota, dtype=float)\n",
    "\n",
    "    def __len__(self):\n",
    "        return len(self.data)\n",
    "\n",
    "\n",
    "class TestRotationLoader(RotationLoader):\n",
    "    def __init__(self, data_path, mode='train', img_size=128):\n",
    "        # data_path=\"F:\\\\Data\\\\mnist_3d\", mode='train'\n",
    "        super().__init__(data_path, mode, img_size)\n",
    "        self.mode = mode\n",
    "        self.data, self.label = self.get_img_list(data_path)\n",
    "        self.img_size = img_size\n",
    "        self.transform_3d = transforms.Compose([transforms.ToTensor(),\n",
    "                                             transforms.Normalize(mean=[0.5]*img_size,\n",
    "                                                                  std=[0.225]*img_size)\n",
    "                                             ])\n",
    "        self.transform = transforms.Compose([transforms.ToTensor()])\n",
    "\n",
    "    def random_rotation(self, data, off=None):\n",
    "        # 45 -np.pi/4\n",
    "        # off = np.pi*2\n",
    "        if off is None:\n",
    "            off = np.pi * 0.5\n",
    "        x, y, z = np.random.rand(3)\n",
    "        # x, y, z = 1.0, 1.0, 1.0\n",
    "        x *= off\n",
    "        y *= off\n",
    "        z *= off\n",
    "        return self.rotation(x, y, z, data), [x, y, z]\n",
    "\n",
    "    def __getitem__(self, index):\n",
    "        # index = 0\n",
    "        data = self.data[index]\n",
    "        label = self.label[index]\n",
    "        try:\n",
    "            data = np.load(data)\n",
    "        except Exception as e:\n",
    "            print('='*100)\n",
    "            print(index, e)\n",
    "            print('='*100)\n",
    "            index = 0\n",
    "            data = self.data[index]\n",
    "            data = np.load(data)\n",
    "            label = self.label[index]\n",
    "\n",
    "        data, rota = self.random_rotation(data, np.pi*0.2)\n",
    "        data = self.sampling(data.astype(np.float32))\n",
    "\n",
    "        return data, label\n",
    "\n",
    "    def __len__(self):\n",
    "        return len(self.data)\n",
    "\n",
    "\n",
    "class TrainDataLoader(RotationLoader):\n",
    "    def __init__(self, data_path):\n",
    "        super().__init__(data_path)\n",
    "        self.data, self.label = self.get_img_list(data_path)\n",
    "        self.idx = 0\n",
    "\n",
    "    def get_img_list(self, data_path):\n",
    "        img_list = []\n",
    "        label_list = []\n",
    "        for i in range(10):\n",
    "            sub_path = os.path.join(data_path, 'train', '%d' % i)\n",
    "            sub_img_list = [os.path.join(sub_path, s) for s in os.listdir(sub_path) if 'npy' in s]\n",
    "            sub_img_list.sort()\n",
    "            sub_label = [i for _ in range(len(sub_img_list))]\n",
    "            img_list += sub_img_list\n",
    "            label_list += sub_label\n",
    "\n",
    "        return img_list, label_list\n",
    "\n",
    "    def __getitem__(self, index):\n",
    "        data_name = self.data[index]\n",
    "        label = self.label[index]\n",
    "        data = np.load(data_name)\n",
    "        data = self.sampling(data.astype(np.float32))\n",
    "        name = os.path.split(data_name)[-1].split('.')[0]\n",
    "        return data, label, name"
   ]
  },
  {
   "cell_type": "markdown",
   "metadata": {},
   "source": [
    "##### 2.4 train rotation\n",
    "원본 데이터 train data 에서 random 3d rotation (a,b,c) 를 시킨 데이터를 생성  \n",
    "regression model 에 입력으로 rotated 데이터가 들어가 (a', b', c') 값을 estimation  \n",
    "gt (a, b, c) 와 prediction result (a', b', c') 사이의 l1, l2 distance 값을 loss로 학습 "
   ]
  },
  {
   "cell_type": "code",
   "execution_count": null,
   "metadata": {},
   "outputs": [],
   "source": [
    "import os\n",
    "import cv2\n",
    "import numpy as np\n",
    "from glob import glob\n",
    "from tqdm import tqdm\n",
    "\n",
    "import torch\n",
    "import torch.optim as optim\n",
    "from torch.utils.data import DataLoader"
   ]
  },
  {
   "cell_type": "code",
   "execution_count": 13,
   "metadata": {},
   "outputs": [],
   "source": [
    "def train_rotation(data_path, save_path):\n",
    "    os.makedirs(save_path, exist_ok=True)\n",
    "\n",
    "    model = DeepHoughModel()\n",
    "    model = model.cuda()\n",
    "\n",
    "    train_dl = RotationLoader(data_path, mode='train', img_size=64)\n",
    "    train_loader = DataLoader(dataset=train_dl, batch_size=8, num_workers=4, shuffle=False)\n",
    "    optimizer = optim.Adam(model.parameters(), lr=0.0001, amsgrad=True, weight_decay=1e-4)  # default as 0.0001\n",
    "    val_dl = RotationLoader(data_path, mode='val', img_size=64)\n",
    "    val_loader = DataLoader(dataset=val_dl, batch_size=8, num_workers=4, shuffle=True)\n",
    "\n",
    "    for epoch in range(50):\n",
    "        print('train', epoch)\n",
    "        model.train()\n",
    "        pbar = tqdm(train_loader, total=len(train_loader))\n",
    "        total_loss = 0\n",
    "        for i, (data, label, gt) in enumerate(pbar):\n",
    "            optimizer.zero_grad()\n",
    "            pred = model(data.cuda())\n",
    "            distance = gt.cuda() - pred\n",
    "            l2_loss = torch.sum(torch.multiply(distance, distance))\n",
    "            l1_loss = torch.sum(torch.abs(distance))\n",
    "            loss = l1_loss + l2_loss\n",
    "            total_loss += float(loss)\n",
    "            loss.backward()\n",
    "            optimizer.step()\n",
    "            pbar.set_postfix({'loss': '%.4f (%.4f, %.4f)' % (loss, l1_loss, l2_loss)})\n",
    "            if i % 3000 == 0:\n",
    "                result_img = viz_result(data, pred, gt)\n",
    "                cv2.imwrite(os.path.join(save_path, \"train_%d_%d.png\" % (epoch, i//3000)), result_img)\n",
    "        total_loss /= len(train_loader)\n",
    "\n",
    "        val_loss = 0\n",
    "        with torch.no_grad():\n",
    "            for i, (data, label, gt) in enumerate(val_loader):\n",
    "                pred = model(data.cuda())\n",
    "                distance = gt.cuda() - pred\n",
    "                # distance = torch.cos(gt.cuda()) - torch.cos(pred)\n",
    "                val_loss += torch.sum(torch.multiply(distance, distance))\n",
    "                if i % 300 == 0:\n",
    "                    result_img = viz_result(data, pred, gt)\n",
    "                    cv2.imwrite(os.path.join(save_path, \"val_%d_%d.png\" % (epoch, i//300)), result_img)\n",
    "\n",
    "        model_save_path = os.path.join(save_path, \"%d_rotation1d_%.4f_%.4f.pth\" % (epoch, total_loss, val_loss/len(val_loader)))\n",
    "        torch.save({'weight': model.state_dict()}, model_save_path)\n",
    "        print(\"#\"*100)\n",
    "        print(\"[%d] validation loss : %.4f\" % (epoch, val_loss/len(val_loader)), end=' ')\n",
    "        print(\"#\"*100)"
   ]
  },
  {
   "cell_type": "code",
   "execution_count": 14,
   "metadata": {},
   "outputs": [],
   "source": [
    "np_data_path = \"/coldjeans/Data/np\"\n",
    "save_model_path = \"/coldjeans/model/rotation\"\n",
    "result_data_path = \"/coldjeans/Data/img\""
   ]
  },
  {
   "cell_type": "code",
   "execution_count": null,
   "metadata": {
    "collapsed": true,
    "jupyter": {
     "outputs_hidden": true
    }
   },
   "outputs": [
    {
     "name": "stderr",
     "output_type": "stream",
     "text": [
      "  0%|          | 0/5625 [00:00<?, ?it/s]"
     ]
    },
    {
     "name": "stdout",
     "output_type": "stream",
     "text": [
      "train 0\n"
     ]
    },
    {
     "name": "stderr",
     "output_type": "stream",
     "text": [
      "100%|██████████| 5625/5625 [02:07<00:00, 43.98it/s, loss=1.0615 (0.9284, 0.1330)]   \n",
      "  0%|          | 0/5625 [00:00<?, ?it/s]"
     ]
    },
    {
     "name": "stdout",
     "output_type": "stream",
     "text": [
      "####################################################################################################\n",
      "[0] validation loss : 1.7251 ####################################################################################################\n",
      "train 1\n"
     ]
    },
    {
     "name": "stderr",
     "output_type": "stream",
     "text": [
      "100%|██████████| 5625/5625 [01:31<00:00, 61.15it/s, loss=0.6008 (0.5484, 0.0524)]   \n",
      "  0%|          | 0/5625 [00:00<?, ?it/s]"
     ]
    },
    {
     "name": "stdout",
     "output_type": "stream",
     "text": [
      "####################################################################################################\n",
      "[1] validation loss : 0.7571 ####################################################################################################\n",
      "train 2\n"
     ]
    },
    {
     "name": "stderr",
     "output_type": "stream",
     "text": [
      "100%|██████████| 5625/5625 [01:30<00:00, 61.87it/s, loss=0.3880 (0.3677, 0.0203)]  \n",
      "  0%|          | 0/5625 [00:00<?, ?it/s]"
     ]
    },
    {
     "name": "stdout",
     "output_type": "stream",
     "text": [
      "####################################################################################################\n",
      "[2] validation loss : 0.5029 ####################################################################################################\n",
      "train 3\n"
     ]
    },
    {
     "name": "stderr",
     "output_type": "stream",
     "text": [
      "100%|██████████| 5625/5625 [01:31<00:00, 61.73it/s, loss=0.2213 (0.2135, 0.0079)] \n",
      "  0%|          | 0/5625 [00:00<?, ?it/s]"
     ]
    },
    {
     "name": "stdout",
     "output_type": "stream",
     "text": [
      "####################################################################################################\n",
      "[3] validation loss : 0.4207 ####################################################################################################\n",
      "train 4\n"
     ]
    },
    {
     "name": "stderr",
     "output_type": "stream",
     "text": [
      "100%|██████████| 5625/5625 [01:31<00:00, 61.16it/s, loss=0.2900 (0.2781, 0.0119)] \n",
      "  0%|          | 0/5625 [00:00<?, ?it/s]"
     ]
    },
    {
     "name": "stdout",
     "output_type": "stream",
     "text": [
      "####################################################################################################\n",
      "[4] validation loss : 0.3124 ####################################################################################################\n",
      "train 5\n"
     ]
    },
    {
     "name": "stderr",
     "output_type": "stream",
     "text": [
      "100%|██████████| 5625/5625 [01:31<00:00, 61.56it/s, loss=0.3250 (0.3058, 0.0192)] \n",
      "  0%|          | 0/5625 [00:00<?, ?it/s]"
     ]
    },
    {
     "name": "stdout",
     "output_type": "stream",
     "text": [
      "####################################################################################################\n",
      "[5] validation loss : 0.3684 ####################################################################################################\n",
      "train 6\n"
     ]
    },
    {
     "name": "stderr",
     "output_type": "stream",
     "text": [
      "100%|██████████| 5625/5625 [01:31<00:00, 61.44it/s, loss=0.3657 (0.3479, 0.0178)] \n",
      "  0%|          | 0/5625 [00:00<?, ?it/s]"
     ]
    },
    {
     "name": "stdout",
     "output_type": "stream",
     "text": [
      "####################################################################################################\n",
      "[6] validation loss : 0.2819 ####################################################################################################\n",
      "train 7\n"
     ]
    },
    {
     "name": "stderr",
     "output_type": "stream",
     "text": [
      "100%|██████████| 5625/5625 [01:30<00:00, 61.89it/s, loss=0.2898 (0.2776, 0.0122)] \n",
      "  0%|          | 0/5625 [00:00<?, ?it/s]"
     ]
    },
    {
     "name": "stdout",
     "output_type": "stream",
     "text": [
      "####################################################################################################\n",
      "[7] validation loss : 0.3459 ####################################################################################################\n",
      "train 8\n"
     ]
    },
    {
     "name": "stderr",
     "output_type": "stream",
     "text": [
      "100%|██████████| 5625/5625 [01:30<00:00, 62.33it/s, loss=0.3648 (0.3476, 0.0171)] \n",
      "  0%|          | 0/5625 [00:00<?, ?it/s]"
     ]
    },
    {
     "name": "stdout",
     "output_type": "stream",
     "text": [
      "####################################################################################################\n",
      "[8] validation loss : 0.3678 ####################################################################################################\n",
      "train 9\n"
     ]
    },
    {
     "name": "stderr",
     "output_type": "stream",
     "text": [
      "100%|██████████| 5625/5625 [01:30<00:00, 62.29it/s, loss=0.3143 (0.2991, 0.0152)] \n",
      "  0%|          | 0/5625 [00:00<?, ?it/s]"
     ]
    },
    {
     "name": "stdout",
     "output_type": "stream",
     "text": [
      "####################################################################################################\n",
      "[9] validation loss : 0.2705 ####################################################################################################\n",
      "train 10\n"
     ]
    },
    {
     "name": "stderr",
     "output_type": "stream",
     "text": [
      "100%|██████████| 5625/5625 [01:29<00:00, 62.64it/s, loss=0.3141 (0.2969, 0.0172)] \n",
      "  0%|          | 0/5625 [00:00<?, ?it/s]"
     ]
    },
    {
     "name": "stdout",
     "output_type": "stream",
     "text": [
      "####################################################################################################\n",
      "[10] validation loss : 0.2488 ####################################################################################################\n",
      "train 11\n"
     ]
    },
    {
     "name": "stderr",
     "output_type": "stream",
     "text": [
      "100%|██████████| 5625/5625 [01:30<00:00, 62.31it/s, loss=0.2974 (0.2825, 0.0149)] \n",
      "  0%|          | 0/5625 [00:00<?, ?it/s]"
     ]
    },
    {
     "name": "stdout",
     "output_type": "stream",
     "text": [
      "####################################################################################################\n",
      "[11] validation loss : 0.2924 ####################################################################################################\n",
      "train 12\n"
     ]
    },
    {
     "name": "stderr",
     "output_type": "stream",
     "text": [
      "100%|██████████| 5625/5625 [01:28<00:00, 63.24it/s, loss=0.2415 (0.2315, 0.0101)] \n",
      "  0%|          | 0/5625 [00:00<?, ?it/s]"
     ]
    },
    {
     "name": "stdout",
     "output_type": "stream",
     "text": [
      "####################################################################################################\n",
      "[12] validation loss : 0.3211 ####################################################################################################\n",
      "train 13\n"
     ]
    },
    {
     "name": "stderr",
     "output_type": "stream",
     "text": [
      "100%|██████████| 5625/5625 [01:31<00:00, 61.80it/s, loss=0.2213 (0.2128, 0.0085)] \n",
      "  0%|          | 0/5625 [00:00<?, ?it/s]"
     ]
    },
    {
     "name": "stdout",
     "output_type": "stream",
     "text": [
      "####################################################################################################\n",
      "[13] validation loss : 0.3022 ####################################################################################################\n",
      "train 14\n"
     ]
    },
    {
     "name": "stderr",
     "output_type": "stream",
     "text": [
      "100%|██████████| 5625/5625 [01:30<00:00, 62.37it/s, loss=0.2265 (0.2172, 0.0094)] \n",
      "  0%|          | 0/5625 [00:00<?, ?it/s]"
     ]
    },
    {
     "name": "stdout",
     "output_type": "stream",
     "text": [
      "####################################################################################################\n",
      "[14] validation loss : 0.2507 ####################################################################################################\n",
      "train 15\n"
     ]
    },
    {
     "name": "stderr",
     "output_type": "stream",
     "text": [
      "100%|██████████| 5625/5625 [01:31<00:00, 61.67it/s, loss=0.3546 (0.3335, 0.0211)] \n",
      "  0%|          | 0/5625 [00:00<?, ?it/s]"
     ]
    },
    {
     "name": "stdout",
     "output_type": "stream",
     "text": [
      "####################################################################################################\n",
      "[15] validation loss : 0.2763 ####################################################################################################\n",
      "train 16\n"
     ]
    },
    {
     "name": "stderr",
     "output_type": "stream",
     "text": [
      "100%|██████████| 5625/5625 [01:31<00:00, 61.81it/s, loss=0.2843 (0.2703, 0.0139)] \n",
      "  0%|          | 0/5625 [00:00<?, ?it/s]"
     ]
    },
    {
     "name": "stdout",
     "output_type": "stream",
     "text": [
      "####################################################################################################\n",
      "[16] validation loss : 0.2766 ####################################################################################################\n",
      "train 17\n"
     ]
    },
    {
     "name": "stderr",
     "output_type": "stream",
     "text": [
      "100%|██████████| 5625/5625 [01:31<00:00, 61.55it/s, loss=0.2895 (0.2788, 0.0107)] \n",
      "  0%|          | 0/5625 [00:00<?, ?it/s]"
     ]
    },
    {
     "name": "stdout",
     "output_type": "stream",
     "text": [
      "####################################################################################################\n",
      "[17] validation loss : 0.3461 ####################################################################################################\n",
      "train 18\n"
     ]
    },
    {
     "name": "stderr",
     "output_type": "stream",
     "text": [
      "100%|██████████| 5625/5625 [01:30<00:00, 62.14it/s, loss=0.3064 (0.2879, 0.0185)] \n",
      "  0%|          | 0/5625 [00:00<?, ?it/s]"
     ]
    },
    {
     "name": "stdout",
     "output_type": "stream",
     "text": [
      "####################################################################################################\n",
      "[18] validation loss : 0.4046 ####################################################################################################\n",
      "train 19\n"
     ]
    },
    {
     "name": "stderr",
     "output_type": "stream",
     "text": [
      "100%|██████████| 5625/5625 [01:30<00:00, 62.07it/s, loss=0.1877 (0.1826, 0.0050)] \n",
      "  0%|          | 0/5625 [00:00<?, ?it/s]"
     ]
    },
    {
     "name": "stdout",
     "output_type": "stream",
     "text": [
      "####################################################################################################\n",
      "[19] validation loss : 0.2755 ####################################################################################################\n",
      "train 20\n"
     ]
    },
    {
     "name": "stderr",
     "output_type": "stream",
     "text": [
      "100%|██████████| 5625/5625 [01:31<00:00, 61.62it/s, loss=0.3566 (0.3410, 0.0155)] \n",
      "  0%|          | 0/5625 [00:00<?, ?it/s]"
     ]
    },
    {
     "name": "stdout",
     "output_type": "stream",
     "text": [
      "####################################################################################################\n",
      "[20] validation loss : 0.3186 ####################################################################################################\n",
      "train 21\n"
     ]
    },
    {
     "name": "stderr",
     "output_type": "stream",
     "text": [
      "100%|██████████| 5625/5625 [01:30<00:00, 62.24it/s, loss=0.1936 (0.1882, 0.0054)] \n",
      "  0%|          | 0/5625 [00:00<?, ?it/s]"
     ]
    },
    {
     "name": "stdout",
     "output_type": "stream",
     "text": [
      "####################################################################################################\n",
      "[21] validation loss : 0.2464 ####################################################################################################\n",
      "train 22\n"
     ]
    },
    {
     "name": "stderr",
     "output_type": "stream",
     "text": [
      "100%|██████████| 5625/5625 [01:30<00:00, 62.02it/s, loss=0.1949 (0.1882, 0.0067)] \n",
      "  0%|          | 0/5625 [00:00<?, ?it/s]"
     ]
    },
    {
     "name": "stdout",
     "output_type": "stream",
     "text": [
      "####################################################################################################\n",
      "[22] validation loss : 0.2183 ####################################################################################################\n",
      "train 23\n"
     ]
    },
    {
     "name": "stderr",
     "output_type": "stream",
     "text": [
      "100%|██████████| 5625/5625 [01:31<00:00, 61.72it/s, loss=0.2099 (0.2035, 0.0064)] \n",
      "  0%|          | 0/5625 [00:00<?, ?it/s]"
     ]
    },
    {
     "name": "stdout",
     "output_type": "stream",
     "text": [
      "####################################################################################################\n",
      "[23] validation loss : 0.2133 ####################################################################################################\n",
      "train 24\n"
     ]
    },
    {
     "name": "stderr",
     "output_type": "stream",
     "text": [
      "100%|██████████| 5625/5625 [01:30<00:00, 62.47it/s, loss=0.1509 (0.1476, 0.0032)] \n",
      "  0%|          | 0/5625 [00:00<?, ?it/s]"
     ]
    },
    {
     "name": "stdout",
     "output_type": "stream",
     "text": [
      "####################################################################################################\n",
      "[24] validation loss : 0.2791 ####################################################################################################\n",
      "train 25\n"
     ]
    },
    {
     "name": "stderr",
     "output_type": "stream",
     "text": [
      "100%|██████████| 5625/5625 [01:31<00:00, 61.26it/s, loss=0.2172 (0.2106, 0.0066)] \n",
      "  0%|          | 0/5625 [00:00<?, ?it/s]"
     ]
    },
    {
     "name": "stdout",
     "output_type": "stream",
     "text": [
      "####################################################################################################\n",
      "[25] validation loss : 0.2381 ####################################################################################################\n",
      "train 26\n"
     ]
    },
    {
     "name": "stderr",
     "output_type": "stream",
     "text": [
      "100%|██████████| 5625/5625 [01:30<00:00, 62.17it/s, loss=0.1864 (0.1799, 0.0064)] \n",
      "  0%|          | 0/5625 [00:00<?, ?it/s]"
     ]
    },
    {
     "name": "stdout",
     "output_type": "stream",
     "text": [
      "####################################################################################################\n",
      "[26] validation loss : 0.3013 ####################################################################################################\n",
      "train 27\n"
     ]
    },
    {
     "name": "stderr",
     "output_type": "stream",
     "text": [
      "100%|██████████| 5625/5625 [01:30<00:00, 62.13it/s, loss=0.1761 (0.1717, 0.0044)] \n",
      "  0%|          | 0/5625 [00:00<?, ?it/s]"
     ]
    },
    {
     "name": "stdout",
     "output_type": "stream",
     "text": [
      "####################################################################################################\n",
      "[27] validation loss : 0.2585 ####################################################################################################\n",
      "train 28\n"
     ]
    },
    {
     "name": "stderr",
     "output_type": "stream",
     "text": [
      "100%|██████████| 5625/5625 [01:30<00:00, 61.98it/s, loss=0.1417 (0.1391, 0.0026)] \n",
      "  0%|          | 0/5625 [00:00<?, ?it/s]"
     ]
    },
    {
     "name": "stdout",
     "output_type": "stream",
     "text": [
      "####################################################################################################\n",
      "[28] validation loss : 0.1970 ####################################################################################################\n",
      "train 29\n"
     ]
    },
    {
     "name": "stderr",
     "output_type": "stream",
     "text": [
      "100%|██████████| 5625/5625 [01:29<00:00, 62.52it/s, loss=0.3302 (0.3160, 0.0143)] \n",
      "  0%|          | 0/5625 [00:00<?, ?it/s]"
     ]
    },
    {
     "name": "stdout",
     "output_type": "stream",
     "text": [
      "####################################################################################################\n",
      "[29] validation loss : 0.2598 ####################################################################################################\n",
      "train 30\n"
     ]
    },
    {
     "name": "stderr",
     "output_type": "stream",
     "text": [
      "100%|██████████| 5625/5625 [01:31<00:00, 61.60it/s, loss=0.2368 (0.2292, 0.0075)] \n",
      "  0%|          | 0/5625 [00:00<?, ?it/s]"
     ]
    },
    {
     "name": "stdout",
     "output_type": "stream",
     "text": [
      "####################################################################################################\n",
      "[30] validation loss : 0.2360 ####################################################################################################\n",
      "train 31\n"
     ]
    },
    {
     "name": "stderr",
     "output_type": "stream",
     "text": [
      "100%|██████████| 5625/5625 [01:30<00:00, 62.08it/s, loss=0.2245 (0.2167, 0.0078)] \n",
      "  0%|          | 0/5625 [00:00<?, ?it/s]"
     ]
    },
    {
     "name": "stdout",
     "output_type": "stream",
     "text": [
      "####################################################################################################\n",
      "[31] validation loss : 0.2221 ####################################################################################################\n",
      "train 32\n"
     ]
    },
    {
     "name": "stderr",
     "output_type": "stream",
     "text": [
      "100%|██████████| 5625/5625 [01:30<00:00, 62.17it/s, loss=0.1189 (0.1149, 0.0040)] \n",
      "  0%|          | 0/5625 [00:00<?, ?it/s]"
     ]
    },
    {
     "name": "stdout",
     "output_type": "stream",
     "text": [
      "####################################################################################################\n",
      "[32] validation loss : 0.2460 ####################################################################################################\n",
      "train 33\n"
     ]
    },
    {
     "name": "stderr",
     "output_type": "stream",
     "text": [
      "100%|██████████| 5625/5625 [01:30<00:00, 62.36it/s, loss=0.1242 (0.1214, 0.0028)] \n",
      "  0%|          | 0/5625 [00:00<?, ?it/s]"
     ]
    },
    {
     "name": "stdout",
     "output_type": "stream",
     "text": [
      "####################################################################################################\n",
      "[33] validation loss : 0.2278 ####################################################################################################\n",
      "train 34\n"
     ]
    },
    {
     "name": "stderr",
     "output_type": "stream",
     "text": [
      "100%|██████████| 5625/5625 [01:29<00:00, 63.13it/s, loss=0.2391 (0.2317, 0.0074)] \n",
      "  0%|          | 0/5625 [00:00<?, ?it/s]"
     ]
    },
    {
     "name": "stdout",
     "output_type": "stream",
     "text": [
      "####################################################################################################\n",
      "[34] validation loss : 0.2879 ####################################################################################################\n",
      "train 35\n"
     ]
    },
    {
     "name": "stderr",
     "output_type": "stream",
     "text": [
      "100%|██████████| 5625/5625 [01:29<00:00, 62.78it/s, loss=0.1590 (0.1542, 0.0048)] \n",
      "  0%|          | 0/5625 [00:00<?, ?it/s]"
     ]
    },
    {
     "name": "stdout",
     "output_type": "stream",
     "text": [
      "####################################################################################################\n",
      "[35] validation loss : 0.1871 ####################################################################################################\n",
      "train 36\n"
     ]
    },
    {
     "name": "stderr",
     "output_type": "stream",
     "text": [
      "100%|██████████| 5625/5625 [01:29<00:00, 62.79it/s, loss=0.2414 (0.2333, 0.0080)] \n",
      "  0%|          | 0/5625 [00:00<?, ?it/s]"
     ]
    },
    {
     "name": "stdout",
     "output_type": "stream",
     "text": [
      "####################################################################################################\n",
      "[36] validation loss : 0.2172 ####################################################################################################\n",
      "train 37\n"
     ]
    },
    {
     "name": "stderr",
     "output_type": "stream",
     "text": [
      "100%|██████████| 5625/5625 [01:31<00:00, 61.73it/s, loss=0.2060 (0.1995, 0.0065)] \n",
      "  0%|          | 0/5625 [00:00<?, ?it/s]"
     ]
    },
    {
     "name": "stdout",
     "output_type": "stream",
     "text": [
      "####################################################################################################\n",
      "[37] validation loss : 0.2330 ####################################################################################################\n",
      "train 38\n"
     ]
    },
    {
     "name": "stderr",
     "output_type": "stream",
     "text": [
      "100%|██████████| 5625/5625 [01:30<00:00, 62.17it/s, loss=0.2016 (0.1940, 0.0076)] \n",
      "  0%|          | 0/5625 [00:00<?, ?it/s]"
     ]
    },
    {
     "name": "stdout",
     "output_type": "stream",
     "text": [
      "####################################################################################################\n",
      "[38] validation loss : 0.2251 ####################################################################################################\n",
      "train 39\n"
     ]
    },
    {
     "name": "stderr",
     "output_type": "stream",
     "text": [
      "100%|██████████| 5625/5625 [01:30<00:00, 62.12it/s, loss=0.0818 (0.0806, 0.0012)] \n",
      "  0%|          | 0/5625 [00:00<?, ?it/s]"
     ]
    },
    {
     "name": "stdout",
     "output_type": "stream",
     "text": [
      "####################################################################################################\n",
      "[39] validation loss : 0.1717 ####################################################################################################\n",
      "train 40\n"
     ]
    },
    {
     "name": "stderr",
     "output_type": "stream",
     "text": [
      "100%|██████████| 5625/5625 [01:30<00:00, 62.48it/s, loss=0.1692 (0.1650, 0.0042)] \n",
      "  0%|          | 0/5625 [00:00<?, ?it/s]"
     ]
    },
    {
     "name": "stdout",
     "output_type": "stream",
     "text": [
      "####################################################################################################\n",
      "[40] validation loss : 0.2108 ####################################################################################################\n",
      "train 41\n"
     ]
    },
    {
     "name": "stderr",
     "output_type": "stream",
     "text": [
      "100%|██████████| 5625/5625 [01:30<00:00, 62.36it/s, loss=0.1761 (0.1709, 0.0052)] \n",
      "  0%|          | 0/5625 [00:00<?, ?it/s]"
     ]
    },
    {
     "name": "stdout",
     "output_type": "stream",
     "text": [
      "####################################################################################################\n",
      "[41] validation loss : 0.1907 ####################################################################################################\n",
      "train 42\n"
     ]
    },
    {
     "name": "stderr",
     "output_type": "stream",
     "text": [
      "100%|██████████| 5625/5625 [01:30<00:00, 62.24it/s, loss=0.1055 (0.1034, 0.0020)] \n",
      "  0%|          | 0/5625 [00:00<?, ?it/s]"
     ]
    },
    {
     "name": "stdout",
     "output_type": "stream",
     "text": [
      "####################################################################################################\n",
      "[42] validation loss : 0.1721 ####################################################################################################\n",
      "train 43\n"
     ]
    },
    {
     "name": "stderr",
     "output_type": "stream",
     "text": [
      "100%|██████████| 5625/5625 [01:30<00:00, 62.37it/s, loss=0.1863 (0.1815, 0.0048)] \n",
      "  0%|          | 0/5625 [00:00<?, ?it/s]"
     ]
    },
    {
     "name": "stdout",
     "output_type": "stream",
     "text": [
      "####################################################################################################\n",
      "[43] validation loss : 0.1907 ####################################################################################################\n",
      "train 44\n"
     ]
    },
    {
     "name": "stderr",
     "output_type": "stream",
     "text": [
      "100%|██████████| 5625/5625 [01:30<00:00, 62.37it/s, loss=0.1609 (0.1573, 0.0035)] \n",
      "  0%|          | 0/5625 [00:00<?, ?it/s]"
     ]
    },
    {
     "name": "stdout",
     "output_type": "stream",
     "text": [
      "####################################################################################################\n",
      "[44] validation loss : 0.2068 ####################################################################################################\n",
      "train 45\n"
     ]
    },
    {
     "name": "stderr",
     "output_type": "stream",
     "text": [
      " 92%|█████████▏| 5164/5625 [01:25<00:04, 94.74it/s, loss=0.4727 (0.4607, 0.0121)] IOPub message rate exceeded.\n",
      "The notebook server will temporarily stop sending output\n",
      "to the client in order to avoid crashing it.\n",
      "To change this limit, set the config variable\n",
      "`--NotebookApp.iopub_msg_rate_limit`.\n",
      "\n",
      "Current values:\n",
      "NotebookApp.iopub_msg_rate_limit=1000.0 (msgs/sec)\n",
      "NotebookApp.rate_limit_window=3.0 (secs)\n",
      "\n",
      "100%|██████████| 5625/5625 [01:29<00:00, 62.80it/s, loss=0.1601 (0.1564, 0.0036)] \n",
      "  0%|          | 0/5625 [00:00<?, ?it/s]"
     ]
    },
    {
     "name": "stdout",
     "output_type": "stream",
     "text": [
      "####################################################################################################\n",
      "[48] validation loss : 0.1853 ####################################################################################################\n",
      "train 49\n"
     ]
    },
    {
     "name": "stderr",
     "output_type": "stream",
     "text": [
      "  4%|▍         | 247/5625 [00:08<02:12, 40.61it/s, loss=0.6016 (0.5798, 0.0218)] "
     ]
    }
   ],
   "source": [
    "# train rotation model\n",
    "train_rotation(np_data_path, save_model_path)"
   ]
  },
  {
   "cell_type": "markdown",
   "metadata": {},
   "source": [
    "#### visualization\n",
    "아래 그림에서  \n",
    "1행 : 입력 데이터 2d projection  \n",
    "2행 : prediction result (a', b', c')의 - 값을 입력데이터에 적용하여 2d projection  \n",
    "3행 : gt (a, b, c) 의  - 값을 입력데이터에 적용하여 2d projection"
   ]
  },
  {
   "cell_type": "code",
   "execution_count": 28,
   "metadata": {},
   "outputs": [
    {
     "name": "stderr",
     "output_type": "stream",
     "text": [
      "Clipping input data to the valid range for imshow with RGB data ([0..1] for floats or [0..255] for integers).\n"
     ]
    },
    {
     "data": {
      "text/plain": [
       "<matplotlib.image.AxesImage at 0x7fc786128cd0>"
      ]
     },
     "execution_count": 28,
     "metadata": {},
     "output_type": "execute_result"
    },
    {
     "data": {
      "image/png": "[encoded data removed]",
      "text/plain": [
       "<Figure size 432x288 with 1 Axes>"
      ]
     },
     "metadata": {
      "needs_background": "light"
     },
     "output_type": "display_data"
    }
   ],
   "source": [
    "import cv2\n",
    "from matplotlib import pyplot as plt\n",
    "img = cv2.imread(\"/coldjeans/model/rotation/train_0_0.png\")\n",
    "img = cv2.GaussianBlur(img, (11, 11), 5) * 2.0\n",
    "plt.imshow(img[:, :400])"
   ]
  },
  {
   "cell_type": "code",
   "execution_count": 29,
   "metadata": {},
   "outputs": [
    {
     "name": "stderr",
     "output_type": "stream",
     "text": [
      "Clipping input data to the valid range for imshow with RGB data ([0..1] for floats or [0..255] for integers).\n"
     ]
    },
    {
     "data": {
      "text/plain": [
       "<matplotlib.image.AxesImage at 0x7fc786095890>"
      ]
     },
     "execution_count": 29,
     "metadata": {},
     "output_type": "execute_result"
    },
    {
     "data": {
      "image/png": "[encoded data removed]",
      "text/plain": [
       "<Figure size 432x288 with 1 Axes>"
      ]
     },
     "metadata": {
      "needs_background": "light"
     },
     "output_type": "display_data"
    }
   ],
   "source": [
    "img = cv2.imread(\"/coldjeans/model/rotation/val_12_1.png\")\n",
    "img = cv2.GaussianBlur(img, (11, 11), 5) * 2.0\n",
    "plt.imshow(img[:, :400])"
   ]
  },
  {
   "cell_type": "markdown",
   "metadata": {},
   "source": [
    "## [step3] 3d data to 2d image"
   ]
  },
  {
   "cell_type": "markdown",
   "metadata": {},
   "source": [
    "#### 3.1 train data convert"
   ]
  },
  {
   "cell_type": "markdown",
   "metadata": {},
   "source": [
    "def cvt_train_data_2d(data_path, save_path):\n",
    "    os.makedirs(save_path, exist_ok=True)\n",
    "    [os.makedirs(\"%s/%d\" % (save_path, i), exist_ok=True) for i in range(10)]\n",
    "    train_dl = TrainDataLoader(data_path)\n",
    "    train_loader = DataLoader(dataset=train_dl, batch_size=1, num_workers=4, shuffle=False)\n",
    "\n",
    "    pbar = tqdm(train_loader, total=len(train_loader))\n",
    "    for i, (data, label, name) in enumerate(pbar):\n",
    "        # print(data.shape, label, name)\n",
    "        img = data2img(data[0], 64)\n",
    "        cv2.imwrite(os.path.join(save_path, '%d' % label[0], name[0] + '.png'), img)"
   ]
  },
  {
   "cell_type": "code",
   "execution_count": null,
   "metadata": {},
   "outputs": [],
   "source": [
    "# run\n",
    "cvt_train_data_2d(np_data_path, result_data_path + '/train')"
   ]
  },
  {
   "cell_type": "markdown",
   "metadata": {},
   "source": [
    "#### 3.2 test data convert (with rotation inference)\n",
    "inference 한결과를 다시 inference (10번반복)  \n",
    "rotation model 이 학습한 -pi/2 ~ +pi/2 범위를 벗어난 데이터도 커버 가능 "
   ]
  },
  {
   "cell_type": "code",
   "execution_count": 21,
   "metadata": {},
   "outputs": [],
   "source": [
    "def inference_cascade_result(weight_path, data_path, save_path):\n",
    "    pre_weight = torch.load(weight_path)\n",
    "\n",
    "    os.makedirs(save_path, exist_ok=True)\n",
    "    [os.remove(p) for p in glob(save_path + '/*.png')]\n",
    "\n",
    "    model = DeepHoughModel()\n",
    "    model = model.cuda()\n",
    "    init_weight = model.state_dict()\n",
    "    init_weight.update(pre_weight['weight'])\n",
    "    model.load_state_dict(init_weight)\n",
    "    model = model.cuda()\n",
    "    model.eval()\n",
    "\n",
    "    test_dl = TestRotationLoader(data_path, mode='test', img_size=64)\n",
    "    test_loader = DataLoader(dataset=test_dl, batch_size=1, num_workers=32, shuffle=False)\n",
    "\n",
    "    with torch.no_grad():\n",
    "        pbar = tqdm(test_loader, total=len(test_loader))\n",
    "        for i, (data, label) in enumerate(pbar):\n",
    "            dd = data.cpu().detach().numpy()\n",
    "            for j in range(9):\n",
    "                pred = model(torch.from_numpy(dd.astype(np.float32)).cuda())\n",
    "                pp = pred[0].cpu().detach().numpy()\n",
    "                x, y, z = pp\n",
    "                dd = test_dl.derotation(-x, -y, -z, dd)\n",
    "            result_img = data2img(dd[0], 64)\n",
    "            cv2.imwrite(os.path.join(save_path, '%d.png' % label), result_img)"
   ]
  },
  {
   "cell_type": "markdown",
   "metadata": {},
   "source": [
    "아래는 10번 cascade 방식으로 하는 과정 시각화  \n",
    "(행으로 데이터 구분, 열로 cascade 단계 구분)   \n",
    "3행의 경우 초반에는 제대로 estimation 하지못하지만 결국 수렴하게 됨을 볼 수 있음"
   ]
  },
  {
   "cell_type": "code",
   "execution_count": 58,
   "metadata": {},
   "outputs": [
    {
     "name": "stderr",
     "output_type": "stream",
     "text": [
      "Clipping input data to the valid range for imshow with RGB data ([0..1] for floats or [0..255] for integers).\n"
     ]
    },
    {
     "data": {
      "text/plain": [
       "<matplotlib.image.AxesImage at 0x7fc9095f3b90>"
      ]
     },
     "execution_count": 58,
     "metadata": {},
     "output_type": "execute_result"
    },
    {
     "data": {
      "image/png": "[encoded data removed]",
      "text/plain": [
       "<Figure size 432x288 with 1 Axes>"
      ]
     },
     "metadata": {
      "needs_background": "light"
     },
     "output_type": "display_data"
    }
   ],
   "source": [
    "img = cv2.imread(\"cascade_result.png\")\n",
    "img = cv2.GaussianBlur(img, (5, 5), 5) * 1.2\n",
    "plt.imshow(img[:900])"
   ]
  },
  {
   "cell_type": "markdown",
   "metadata": {},
   "source": [
    "나중에 ensemble 을 위해 10개의 rotation model weight 를 이용하여 10개의 test dataset 생성"
   ]
  },
  {
   "cell_type": "code",
   "execution_count": null,
   "metadata": {},
   "outputs": [],
   "source": [
    "# run 10 model for ensemble\n",
    "for i in range(10):\n",
    "    ww = glob(\"%s/%d_*.pth\" % (save_model_path, 3*i + 22))[0]\n",
    "    ss = \"%s/test_%d\" % (result_data_path, i)\n",
    "    print(ww, ss)\n",
    "    inference_cascade_result(ww, np_data_path, ss)"
   ]
  },
  {
   "cell_type": "markdown",
   "metadata": {},
   "source": [
    "## [step4] train MnistSimpleCNN\n",
    "\n",
    "mnist dataset sota 인 MnistSimpleCNN 모델에서 M3 모델 사용  \n",
    "benchmark : https://paperswithcode.com/sota/image-classification-on-mnist  \n",
    "official code : https://github.com/ansh941/MnistSimpleCNN"
   ]
  },
  {
   "cell_type": "markdown",
   "metadata": {},
   "source": [
    "#### 4.1 define model"
   ]
  },
  {
   "cell_type": "code",
   "execution_count": 30,
   "metadata": {},
   "outputs": [],
   "source": [
    "import torch.nn as nn\n",
    "import torch.nn.functional as F\n",
    "import torchvision.transforms.functional as vf\n",
    "\n",
    "class EMA:\n",
    "    def __init__(self, model, decay):\n",
    "        self.decay = decay\n",
    "        self.shadow = {}\n",
    "        self.original = {}\n",
    "\n",
    "        for name, param in model.named_parameters():\n",
    "            if param.requires_grad:\n",
    "                self.shadow[name] = param.data.clone()\n",
    "\n",
    "    def __call__(self, model, num_updates):\n",
    "        decay = min(self.decay, (1.0 + num_updates) / (10.0 + num_updates))\n",
    "        for name, param in model.named_parameters():\n",
    "            if param.requires_grad:\n",
    "                assert name in self.shadow\n",
    "                new_average = (1.0 - decay) * param.data + decay * self.shadow[name]\n",
    "                self.shadow[name] = new_average.clone()\n",
    "\n",
    "    def assign(self, model):\n",
    "        for name, param in model.named_parameters():\n",
    "            if param.requires_grad:\n",
    "                assert name in self.shadow\n",
    "                self.original[name] = param.data.clone()\n",
    "                param.data = self.shadow[name]\n",
    "\n",
    "    def resume(self, model):\n",
    "        for name, param in model.named_parameters():\n",
    "            if param.requires_grad:\n",
    "                assert name in self.shadow\n",
    "                param.data = self.original[name]\n",
    "\n",
    "class ModelM3(nn.Module):\n",
    "    def __init__(self):\n",
    "        super(ModelM3, self).__init__()\n",
    "        self.conv1 = nn.Conv2d(1, 32, 3, bias=False)       # output becomes 26x26\n",
    "        self.conv1_bn = nn.BatchNorm2d(32)\n",
    "        self.conv2 = nn.Conv2d(32, 48, 3, bias=False)      # output becomes 24x24\n",
    "        self.conv2_bn = nn.BatchNorm2d(48)\n",
    "        self.conv3 = nn.Conv2d(48, 64, 3, bias=False)      # output becomes 22x22\n",
    "        self.conv3_bn = nn.BatchNorm2d(64)\n",
    "        self.conv4 = nn.Conv2d(64, 80, 3, bias=False)      # output becomes 20x20\n",
    "        self.conv4_bn = nn.BatchNorm2d(80)\n",
    "        self.conv5 = nn.Conv2d(80, 96, 3, bias=False)      # output becomes 18x18\n",
    "        self.conv5_bn = nn.BatchNorm2d(96)\n",
    "        self.conv6 = nn.Conv2d(96, 112, 3, bias=False)     # output becomes 16x16\n",
    "        self.conv6_bn = nn.BatchNorm2d(112)\n",
    "        self.conv7 = nn.Conv2d(112, 128, 3, bias=False)    # output becomes 14x14\n",
    "        self.conv7_bn = nn.BatchNorm2d(128)\n",
    "        self.conv8 = nn.Conv2d(128, 144, 3, bias=False)    # output becomes 12x12\n",
    "        self.conv8_bn = nn.BatchNorm2d(144)\n",
    "        self.conv9 = nn.Conv2d(144, 160, 3, bias=False)    # output becomes 10x10\n",
    "        self.conv9_bn = nn.BatchNorm2d(160)\n",
    "        self.conv10 = nn.Conv2d(160, 176, 3, bias=False)   # output becomes 8x8\n",
    "        self.conv10_bn = nn.BatchNorm2d(176)\n",
    "        self.fc1 = nn.Linear(11264, 10, bias=False)\n",
    "        self.fc1_bn = nn.BatchNorm1d(10)\n",
    "\n",
    "    def get_logits(self, x):\n",
    "        x = (x - 0.5) * 2.0\n",
    "        conv1 = F.relu(self.conv1_bn(self.conv1(x)))\n",
    "        conv2 = F.relu(self.conv2_bn(self.conv2(conv1)))\n",
    "        conv3 = F.relu(self.conv3_bn(self.conv3(conv2)))\n",
    "        conv4 = F.relu(self.conv4_bn(self.conv4(conv3)))\n",
    "        conv5 = F.relu(self.conv5_bn(self.conv5(conv4)))\n",
    "        conv6 = F.relu(self.conv6_bn(self.conv6(conv5)))\n",
    "        conv7 = F.relu(self.conv7_bn(self.conv7(conv6)))\n",
    "        conv8 = F.relu(self.conv8_bn(self.conv8(conv7)))\n",
    "        conv9 = F.relu(self.conv9_bn(self.conv9(conv8)))\n",
    "        conv10 = F.relu(self.conv10_bn(self.conv10(conv9)))\n",
    "        flat1 = torch.flatten(conv10.permute(0, 2, 3, 1), 1)\n",
    "        logits = self.fc1_bn(self.fc1(flat1))\n",
    "        return logits\n",
    "\n",
    "    def forward(self, x):\n",
    "        logits = self.get_logits(x)\n",
    "        return F.log_softmax(logits, dim=1)\n",
    "\n",
    "\n",
    "class RandomRotation(object):\n",
    "    def __init__(self, degrees, seed=1):\n",
    "        self.degrees = (-degrees, degrees)\n",
    "        random.seed(seed)\n",
    "\n",
    "    @staticmethod\n",
    "    def get_params(degrees):\n",
    "        angle = random.uniform(degrees[0], degrees[1])\n",
    "        return angle\n",
    "\n",
    "    def __call__(self, img):\n",
    "        angle = self.get_params(self.degrees)\n",
    "        return vf.rotate(img, angle, False, False, None, None)\n"
   ]
  },
  {
   "cell_type": "markdown",
   "metadata": {},
   "source": [
    "#### 4.2 define dataloader"
   ]
  },
  {
   "cell_type": "code",
   "execution_count": 36,
   "metadata": {},
   "outputs": [],
   "source": [
    "# 4.2 define dataloader\n",
    "\n",
    "class MnistRotaDatasetLabel(torch.utils.data.Dataset):\n",
    "    def __init__(self, img_path, mode=None, transform=None):\n",
    "        self.mode = mode\n",
    "        name_list, img_list, label_list = [], [], []\n",
    "        if mode == 'test':\n",
    "            for n in range(50000, 90000):\n",
    "                name_list.append(n)\n",
    "                img_list.append(os.path.join(img_path, '%s.png' % n))\n",
    "                label_list.append(0)\n",
    "        else:\n",
    "            name_list, img_list, label_list = self.get_img_list(img_path)\n",
    "        self.name_data = name_list\n",
    "        self.x_data = img_list\n",
    "        self.y_data = label_list\n",
    "        self.transform = transform\n",
    "\n",
    "    def get_img_list(self, data_path):\n",
    "        img_list = []\n",
    "        label_list = []\n",
    "        name_list = []\n",
    "        for i in range(10):\n",
    "            sub_path = os.path.join(data_path, 'train/%d' % i)\n",
    "            sub_img_list = [os.path.join(sub_path, s) for s in os.listdir(sub_path) if 'png' in s]\n",
    "            sub_img_num = len(sub_img_list)\n",
    "            sub_img_list.sort()\n",
    "            if self.mode == 'train':\n",
    "                sub_img_list = sub_img_list[:int(sub_img_num*0.9)]\n",
    "            elif self.mode == 'val':\n",
    "                sub_img_list = sub_img_list[int(sub_img_num*0.9):]\n",
    "            else:\n",
    "                raise AssertionError\n",
    "            sub_name = [p.split(os.sep)[-1] for p in sub_img_list]\n",
    "            name_list += sub_name\n",
    "            sub_label = [i for _ in range(len(sub_img_list))]\n",
    "            img_list += sub_img_list\n",
    "            label_list += sub_label\n",
    "\n",
    "        return name_list, img_list, label_list\n",
    "\n",
    "    def __len__(self):\n",
    "        return len(self.x_data)\n",
    "\n",
    "    def __getitem__(self, idx):\n",
    "        x = cv2.imread(self.x_data[idx], 0)\n",
    "        x[x > 1] = 255\n",
    "        x = cv2.resize(x, (28, 28))\n",
    "        x = np.reshape(x, (28, 28, 1)).astype(np.float32)\n",
    "        y = self.y_data[idx]\n",
    "        n = self.name_data[idx]\n",
    "        x = transforms.ToPILImage()(x)\n",
    "        if self.transform:\n",
    "            x = self.transform(x)\n",
    "        x = transforms.ToTensor()(np.array(x)/255)\n",
    "        return x, y, n\n"
   ]
  },
  {
   "cell_type": "markdown",
   "metadata": {},
   "source": [
    "#### 4.3 train cnn model\n",
    "train loss 가 가장 작은 모델을 저장"
   ]
  },
  {
   "cell_type": "code",
   "execution_count": 49,
   "metadata": {},
   "outputs": [],
   "source": [
    "\n",
    "import warnings\n",
    "warnings.filterwarnings(\"ignore\")\n",
    "def train(data_path, save_path, p_seed=0, p_epochs=150):\n",
    "    # random number generator seed ------------------------------------------------#\n",
    "    SEED = p_seed\n",
    "    torch.backends.cudnn.deterministic = True\n",
    "    torch.backends.cudnn.benchmark = False\n",
    "    torch.manual_seed(SEED)\n",
    "    torch.cuda.manual_seed_all(SEED)\n",
    "    np.random.seed(SEED)\n",
    "\n",
    "    # number of epochs ------------------------------------------------------------#\n",
    "    NUM_EPOCHS = p_epochs\n",
    "\n",
    "    # file names ------------------------------------------------------------------#\n",
    "    os.makedirs(\"%s\" % save_path, exist_ok=True)\n",
    "    MODEL_FILE = str(\"%s/model%03d.pth\" % (save_path, SEED))\n",
    "\n",
    "    # enable GPU usage ------------------------------------------------------------#\n",
    "    use_cuda = torch.cuda.is_available()\n",
    "    device = torch.device(\"cuda\" if use_cuda else \"cpu\")\n",
    "    if use_cuda == False:\n",
    "        print(\"WARNING: CPU will be used for training.\")\n",
    "        exit(0)\n",
    "\n",
    "    # data augmentation methods ---------------------------------------------------#\n",
    "    transform = transforms.Compose([\n",
    "        RandomRotation(20, seed=SEED),\n",
    "        transforms.RandomAffine(0, translate=(0.2, 0.2)),\n",
    "        ])\n",
    "\n",
    "    # data loader -----------------------------------------------------------------#\n",
    "    train_dataset = MnistRotaDatasetLabel(data_path, mode='train', transform=transform)\n",
    "    val_dataset = MnistRotaDatasetLabel(data_path, mode='val', transform=None)\n",
    "    train_loader = torch.utils.data.DataLoader(train_dataset, num_workers=4, batch_size=120, shuffle=True)\n",
    "    val_loader = torch.utils.data.DataLoader(val_dataset, num_workers=4, batch_size=120, shuffle=True)\n",
    "\n",
    "    # model selection -------------------------------------------------------------#\n",
    "    model = ModelM3().to(device)\n",
    "\n",
    "    # hyperparameter selection ----------------------------------------------------#\n",
    "    ema = EMA(model, decay=0.999)\n",
    "    optimizer = optim.Adam(model.parameters(), lr=0.001)\n",
    "    lr_scheduler = torch.optim.lr_scheduler.ExponentialLR(optimizer, gamma=0.98)\n",
    "\n",
    "    # global variables ------------------------------------------------------------#\n",
    "    g_step = 0\n",
    "    max_correct = 0\n",
    "    min_loss = 10\n",
    "\n",
    "    # training and evaluation loop ------------------------------------------------#\n",
    "    \n",
    "    for epoch in range(NUM_EPOCHS):\n",
    "        #--------------------------------------------------------------------------#\n",
    "        # train process                                                            #\n",
    "        #--------------------------------------------------------------------------#\n",
    "        model.train()\n",
    "        train_loss = 0\n",
    "        train_corr = 0\n",
    "        for batch_idx, (data, target, name) in enumerate(train_loader):\n",
    "            data, target = data.to(device), target.to(device, dtype=torch.int64)\n",
    "            optimizer.zero_grad()\n",
    "            output = model(data)\n",
    "            loss = F.nll_loss(output, target)\n",
    "            train_pred = output.argmax(dim=1, keepdim=True)\n",
    "            train_corr += train_pred.eq(target.view_as(train_pred)).sum().item()\n",
    "            train_loss += F.nll_loss(output, target, reduction='sum').item()\n",
    "            loss.backward()\n",
    "            optimizer.step()\n",
    "            g_step += 1\n",
    "            ema(model, g_step)\n",
    "#             if batch_idx % 100 == 0:\n",
    "#                 print('Train Epoch: {} [{:05d}/{} ({:.0f}%)]\\tLoss: {:.6f}'.format(\n",
    "#                     epoch, batch_idx * len(data), len(train_loader.dataset),\n",
    "#                     100. * batch_idx / len(train_loader), loss.item()))\n",
    "        train_loss /= len(train_loader.dataset)\n",
    "\n",
    "        if (train_loss < min_loss):\n",
    "            torch.save(model.state_dict(), MODEL_FILE)\n",
    "            min_loss = train_loss\n",
    "#             print(\"Save Model Best train loss %.4f\" % train_loss)\n",
    "        #--------------------------------------------------------------------------#\n",
    "        # test process                                                             #\n",
    "        #--------------------------------------------------------------------------#\n",
    "        model.eval()\n",
    "        ema.assign(model)\n",
    "        val_loss = 0\n",
    "        val_correct = 0\n",
    "        val_pred = np.zeros(0)\n",
    "        val_target = np.zeros(0)\n",
    "        with torch.no_grad():\n",
    "            for data, target, name in val_loader:\n",
    "                data, target = data.to(device), target.to(device,  dtype=torch.int64)\n",
    "                output = model(data)\n",
    "                val_loss += F.nll_loss(output, target, reduction='sum').item()\n",
    "                pred = output.argmax(dim=1, keepdim=True)\n",
    "                val_pred = np.append(val_pred, pred.cpu().numpy())\n",
    "                val_target = np.append(val_target, target.cpu().numpy())\n",
    "                val_correct += pred.eq(target.view_as(pred)).sum().item()\n",
    "        val_loss /= len(val_loader.dataset)\n",
    "        val_accuracy = 100 * val_correct / len(val_loader.dataset)\n",
    "#         print('Val set: Average loss: {:.4f}, Accuracy: {}/{} ({:.2f}%)\\n'.format(\n",
    "#             val_loss, val_correct, len(val_loader.dataset), val_accuracy))\n",
    "        ema.resume(model)\n",
    "\n",
    "        lr_scheduler.step()\n"
   ]
  },
  {
   "cell_type": "code",
   "execution_count": 60,
   "metadata": {},
   "outputs": [],
   "source": [
    "img_data_path = \"/coldjeans/Data/img\"\n",
    "save_model_path = \"/coldjeans/model/cnn\"\n",
    "save_result_path = \"/coldjeans/result\""
   ]
  },
  {
   "cell_type": "markdown",
   "metadata": {},
   "source": [
    "#### ensemble 을 위해 seed 값 다르게하여 10번 학습 진행"
   ]
  },
  {
   "cell_type": "code",
   "execution_count": 50,
   "metadata": {},
   "outputs": [
    {
     "name": "stdout",
     "output_type": "stream",
     "text": [
      "train 0\n",
      "train 1\n",
      "train 2\n",
      "train 3\n",
      "train 4\n",
      "train 5\n",
      "train 6\n",
      "train 7\n",
      "train 8\n",
      "train 9\n"
     ]
    }
   ],
   "source": [
    "# run train\n",
    "for i in range(10):\n",
    "    print('train', i)\n",
    "    train(img_data_path,\n",
    "          save_model_path,\n",
    "          p_seed=i,\n",
    "          p_epochs=100)"
   ]
  },
  {
   "cell_type": "markdown",
   "metadata": {},
   "source": [
    "#### 4.4 inference cnn model"
   ]
  },
  {
   "cell_type": "code",
   "execution_count": 68,
   "metadata": {},
   "outputs": [],
   "source": [
    "def inference(data_path, model_path, save_path, idx, p_seed=0):\n",
    "    os.makedirs(save_path, exist_ok=True)\n",
    "    for i in range(10):\n",
    "        os.makedirs(os.path.join(save_path, str(i)), exist_ok=True)\n",
    "    # enable GPU usage ------------------------------------------------------------#\n",
    "    use_cuda = torch.cuda.is_available()\n",
    "    device = torch.device(\"cuda\" if use_cuda else \"cpu\")\n",
    "    if use_cuda == False:\n",
    "        print(\"WARNING: CPU will be used for training.\")\n",
    "        exit(0)\n",
    "\n",
    "    # data loader -----------------------------------------------------------------#\n",
    "    test_dataset = MnistRotaDatasetLabel(data_path, mode='test', transform=None)\n",
    "    test_loader = torch.utils.data.DataLoader(test_dataset, batch_size=100, num_workers=16, shuffle=False)\n",
    "\n",
    "    # model selection -------------------------------------------------------------#\n",
    "    model1 = ModelM3().to(device)\n",
    "\n",
    "    print('load weight', \"%s/model%03d.pth\" % (model_path, p_seed))\n",
    "    model1.load_state_dict(torch.load(\"%s/model%03d.pth\" % (model_path, p_seed)))\n",
    "\n",
    "    model1.eval()\n",
    "\n",
    "    with open(os.path.join(save_path, 'result_%d_%02d.txt' % (idx, p_seed)), 'w') as f:\n",
    "        f.write(\"\")\n",
    "\n",
    "    with torch.no_grad():\n",
    "        correct_num = 0\n",
    "#         tq = tqdm(test_loader, total=len(test_loader))\n",
    "        for data, label, name in test_loader:\n",
    "            # data = data.to(device)\n",
    "            output = model1(data.to(device))\n",
    "            pred = output.argmax(dim=1, keepdim=True)\n",
    "            label = label.to(device)\n",
    "            cc = pred.eq(label.view_as(pred)).sum().item()\n",
    "            correct_num += cc\n",
    "            b_size = data.shape[0]\n",
    "            for b in range(b_size):\n",
    "                with open(os.path.join(save_path, 'result_%d_%02d.txt' % (idx, p_seed)), 'a') as f:\n",
    "                    f.write(\"%d, %d\\n\" % (int(name[b]), pred[b]))\n",
    "#         print('total', correct_num, correct_num/40000)"
   ]
  },
  {
   "cell_type": "markdown",
   "metadata": {},
   "source": [
    "#### 위에서 만든 10개의 test dataset, 10개의 model 을 조합하여 100번 inference 진행"
   ]
  },
  {
   "cell_type": "code",
   "execution_count": 69,
   "metadata": {},
   "outputs": [
    {
     "name": "stdout",
     "output_type": "stream",
     "text": [
      "inference 0 /coldjeans/Data/img/test_0\n",
      "load weight /coldjeans/model/cnn/model000.pth\n",
      "inference 1 /coldjeans/Data/img/test_0\n",
      "load weight /coldjeans/model/cnn/model001.pth\n",
      "inference 2 /coldjeans/Data/img/test_0\n",
      "load weight /coldjeans/model/cnn/model002.pth\n",
      "inference 3 /coldjeans/Data/img/test_0\n",
      "load weight /coldjeans/model/cnn/model003.pth\n",
      "inference 4 /coldjeans/Data/img/test_0\n",
      "load weight /coldjeans/model/cnn/model004.pth\n",
      "inference 5 /coldjeans/Data/img/test_0\n",
      "load weight /coldjeans/model/cnn/model005.pth\n",
      "inference 6 /coldjeans/Data/img/test_0\n",
      "load weight /coldjeans/model/cnn/model006.pth\n",
      "inference 7 /coldjeans/Data/img/test_0\n",
      "load weight /coldjeans/model/cnn/model007.pth\n",
      "inference 8 /coldjeans/Data/img/test_0\n",
      "load weight /coldjeans/model/cnn/model008.pth\n",
      "inference 9 /coldjeans/Data/img/test_0\n",
      "load weight /coldjeans/model/cnn/model009.pth\n",
      "inference 0 /coldjeans/Data/img/test_1\n",
      "load weight /coldjeans/model/cnn/model000.pth\n",
      "inference 1 /coldjeans/Data/img/test_1\n",
      "load weight /coldjeans/model/cnn/model001.pth\n",
      "inference 2 /coldjeans/Data/img/test_1\n",
      "load weight /coldjeans/model/cnn/model002.pth\n",
      "inference 3 /coldjeans/Data/img/test_1\n",
      "load weight /coldjeans/model/cnn/model003.pth\n",
      "inference 4 /coldjeans/Data/img/test_1\n",
      "load weight /coldjeans/model/cnn/model004.pth\n",
      "inference 5 /coldjeans/Data/img/test_1\n",
      "load weight /coldjeans/model/cnn/model005.pth\n",
      "inference 6 /coldjeans/Data/img/test_1\n",
      "load weight /coldjeans/model/cnn/model006.pth\n",
      "inference 7 /coldjeans/Data/img/test_1\n",
      "load weight /coldjeans/model/cnn/model007.pth\n",
      "inference 8 /coldjeans/Data/img/test_1\n",
      "load weight /coldjeans/model/cnn/model008.pth\n",
      "inference 9 /coldjeans/Data/img/test_1\n",
      "load weight /coldjeans/model/cnn/model009.pth\n",
      "inference 0 /coldjeans/Data/img/test_2\n",
      "load weight /coldjeans/model/cnn/model000.pth\n",
      "inference 1 /coldjeans/Data/img/test_2\n",
      "load weight /coldjeans/model/cnn/model001.pth\n",
      "inference 2 /coldjeans/Data/img/test_2\n",
      "load weight /coldjeans/model/cnn/model002.pth\n",
      "inference 3 /coldjeans/Data/img/test_2\n",
      "load weight /coldjeans/model/cnn/model003.pth\n",
      "inference 4 /coldjeans/Data/img/test_2\n",
      "load weight /coldjeans/model/cnn/model004.pth\n",
      "inference 5 /coldjeans/Data/img/test_2\n",
      "load weight /coldjeans/model/cnn/model005.pth\n",
      "inference 6 /coldjeans/Data/img/test_2\n",
      "load weight /coldjeans/model/cnn/model006.pth\n",
      "inference 7 /coldjeans/Data/img/test_2\n",
      "load weight /coldjeans/model/cnn/model007.pth\n",
      "inference 8 /coldjeans/Data/img/test_2\n",
      "load weight /coldjeans/model/cnn/model008.pth\n",
      "inference 9 /coldjeans/Data/img/test_2\n",
      "load weight /coldjeans/model/cnn/model009.pth\n",
      "inference 0 /coldjeans/Data/img/test_3\n",
      "load weight /coldjeans/model/cnn/model000.pth\n",
      "inference 1 /coldjeans/Data/img/test_3\n",
      "load weight /coldjeans/model/cnn/model001.pth\n",
      "inference 2 /coldjeans/Data/img/test_3\n",
      "load weight /coldjeans/model/cnn/model002.pth\n",
      "inference 3 /coldjeans/Data/img/test_3\n",
      "load weight /coldjeans/model/cnn/model003.pth\n",
      "inference 4 /coldjeans/Data/img/test_3\n",
      "load weight /coldjeans/model/cnn/model004.pth\n",
      "inference 5 /coldjeans/Data/img/test_3\n",
      "load weight /coldjeans/model/cnn/model005.pth\n",
      "inference 6 /coldjeans/Data/img/test_3\n",
      "load weight /coldjeans/model/cnn/model006.pth\n",
      "inference 7 /coldjeans/Data/img/test_3\n",
      "load weight /coldjeans/model/cnn/model007.pth\n",
      "inference 8 /coldjeans/Data/img/test_3\n",
      "load weight /coldjeans/model/cnn/model008.pth\n",
      "inference 9 /coldjeans/Data/img/test_3\n",
      "load weight /coldjeans/model/cnn/model009.pth\n",
      "inference 0 /coldjeans/Data/img/test_4\n",
      "load weight /coldjeans/model/cnn/model000.pth\n",
      "inference 1 /coldjeans/Data/img/test_4\n",
      "load weight /coldjeans/model/cnn/model001.pth\n",
      "inference 2 /coldjeans/Data/img/test_4\n",
      "load weight /coldjeans/model/cnn/model002.pth\n",
      "inference 3 /coldjeans/Data/img/test_4\n",
      "load weight /coldjeans/model/cnn/model003.pth\n",
      "inference 4 /coldjeans/Data/img/test_4\n",
      "load weight /coldjeans/model/cnn/model004.pth\n",
      "inference 5 /coldjeans/Data/img/test_4\n",
      "load weight /coldjeans/model/cnn/model005.pth\n",
      "inference 6 /coldjeans/Data/img/test_4\n",
      "load weight /coldjeans/model/cnn/model006.pth\n",
      "inference 7 /coldjeans/Data/img/test_4\n",
      "load weight /coldjeans/model/cnn/model007.pth\n",
      "inference 8 /coldjeans/Data/img/test_4\n",
      "load weight /coldjeans/model/cnn/model008.pth\n",
      "inference 9 /coldjeans/Data/img/test_4\n",
      "load weight /coldjeans/model/cnn/model009.pth\n",
      "inference 0 /coldjeans/Data/img/test_5\n",
      "load weight /coldjeans/model/cnn/model000.pth\n",
      "inference 1 /coldjeans/Data/img/test_5\n",
      "load weight /coldjeans/model/cnn/model001.pth\n",
      "inference 2 /coldjeans/Data/img/test_5\n",
      "load weight /coldjeans/model/cnn/model002.pth\n",
      "inference 3 /coldjeans/Data/img/test_5\n",
      "load weight /coldjeans/model/cnn/model003.pth\n",
      "inference 4 /coldjeans/Data/img/test_5\n",
      "load weight /coldjeans/model/cnn/model004.pth\n",
      "inference 5 /coldjeans/Data/img/test_5\n",
      "load weight /coldjeans/model/cnn/model005.pth\n",
      "inference 6 /coldjeans/Data/img/test_5\n",
      "load weight /coldjeans/model/cnn/model006.pth\n",
      "inference 7 /coldjeans/Data/img/test_5\n",
      "load weight /coldjeans/model/cnn/model007.pth\n",
      "inference 8 /coldjeans/Data/img/test_5\n",
      "load weight /coldjeans/model/cnn/model008.pth\n",
      "inference 9 /coldjeans/Data/img/test_5\n",
      "load weight /coldjeans/model/cnn/model009.pth\n",
      "inference 0 /coldjeans/Data/img/test_6\n",
      "load weight /coldjeans/model/cnn/model000.pth\n",
      "inference 1 /coldjeans/Data/img/test_6\n",
      "load weight /coldjeans/model/cnn/model001.pth\n",
      "inference 2 /coldjeans/Data/img/test_6\n",
      "load weight /coldjeans/model/cnn/model002.pth\n",
      "inference 3 /coldjeans/Data/img/test_6\n",
      "load weight /coldjeans/model/cnn/model003.pth\n",
      "inference 4 /coldjeans/Data/img/test_6\n",
      "load weight /coldjeans/model/cnn/model004.pth\n",
      "inference 5 /coldjeans/Data/img/test_6\n",
      "load weight /coldjeans/model/cnn/model005.pth\n",
      "inference 6 /coldjeans/Data/img/test_6\n",
      "load weight /coldjeans/model/cnn/model006.pth\n",
      "inference 7 /coldjeans/Data/img/test_6\n",
      "load weight /coldjeans/model/cnn/model007.pth\n",
      "inference 8 /coldjeans/Data/img/test_6\n",
      "load weight /coldjeans/model/cnn/model008.pth\n",
      "inference 9 /coldjeans/Data/img/test_6\n",
      "load weight /coldjeans/model/cnn/model009.pth\n",
      "inference 0 /coldjeans/Data/img/test_7\n",
      "load weight /coldjeans/model/cnn/model000.pth\n",
      "inference 1 /coldjeans/Data/img/test_7\n",
      "load weight /coldjeans/model/cnn/model001.pth\n",
      "inference 2 /coldjeans/Data/img/test_7\n",
      "load weight /coldjeans/model/cnn/model002.pth\n",
      "inference 3 /coldjeans/Data/img/test_7\n",
      "load weight /coldjeans/model/cnn/model003.pth\n",
      "inference 4 /coldjeans/Data/img/test_7\n",
      "load weight /coldjeans/model/cnn/model004.pth\n",
      "inference 5 /coldjeans/Data/img/test_7\n",
      "load weight /coldjeans/model/cnn/model005.pth\n",
      "inference 6 /coldjeans/Data/img/test_7\n",
      "load weight /coldjeans/model/cnn/model006.pth\n",
      "inference 7 /coldjeans/Data/img/test_7\n",
      "load weight /coldjeans/model/cnn/model007.pth\n",
      "inference 8 /coldjeans/Data/img/test_7\n",
      "load weight /coldjeans/model/cnn/model008.pth\n",
      "inference 9 /coldjeans/Data/img/test_7\n",
      "load weight /coldjeans/model/cnn/model009.pth\n",
      "inference 0 /coldjeans/Data/img/test_8\n",
      "load weight /coldjeans/model/cnn/model000.pth\n",
      "inference 1 /coldjeans/Data/img/test_8\n",
      "load weight /coldjeans/model/cnn/model001.pth\n",
      "inference 2 /coldjeans/Data/img/test_8\n",
      "load weight /coldjeans/model/cnn/model002.pth\n",
      "inference 3 /coldjeans/Data/img/test_8\n",
      "load weight /coldjeans/model/cnn/model003.pth\n",
      "inference 4 /coldjeans/Data/img/test_8\n",
      "load weight /coldjeans/model/cnn/model004.pth\n",
      "inference 5 /coldjeans/Data/img/test_8\n",
      "load weight /coldjeans/model/cnn/model005.pth\n",
      "inference 6 /coldjeans/Data/img/test_8\n",
      "load weight /coldjeans/model/cnn/model006.pth\n",
      "inference 7 /coldjeans/Data/img/test_8\n",
      "load weight /coldjeans/model/cnn/model007.pth\n",
      "inference 8 /coldjeans/Data/img/test_8\n",
      "load weight /coldjeans/model/cnn/model008.pth\n",
      "inference 9 /coldjeans/Data/img/test_8\n",
      "load weight /coldjeans/model/cnn/model009.pth\n",
      "inference 0 /coldjeans/Data/img/test_9\n",
      "load weight /coldjeans/model/cnn/model000.pth\n",
      "inference 1 /coldjeans/Data/img/test_9\n",
      "load weight /coldjeans/model/cnn/model001.pth\n",
      "inference 2 /coldjeans/Data/img/test_9\n",
      "load weight /coldjeans/model/cnn/model002.pth\n",
      "inference 3 /coldjeans/Data/img/test_9\n",
      "load weight /coldjeans/model/cnn/model003.pth\n",
      "inference 4 /coldjeans/Data/img/test_9\n",
      "load weight /coldjeans/model/cnn/model004.pth\n",
      "inference 5 /coldjeans/Data/img/test_9\n",
      "load weight /coldjeans/model/cnn/model005.pth\n",
      "inference 6 /coldjeans/Data/img/test_9\n",
      "load weight /coldjeans/model/cnn/model006.pth\n",
      "inference 7 /coldjeans/Data/img/test_9\n",
      "load weight /coldjeans/model/cnn/model007.pth\n",
      "inference 8 /coldjeans/Data/img/test_9\n",
      "load weight /coldjeans/model/cnn/model008.pth\n",
      "inference 9 /coldjeans/Data/img/test_9\n",
      "load weight /coldjeans/model/cnn/model009.pth\n"
     ]
    }
   ],
   "source": [
    "for j in range(10):\n",
    "    test_data = os.path.join(img_data_path, 'test_%d' % j)\n",
    "    for i in range(10):\n",
    "        print('inference', i, test_data)\n",
    "        inference(test_data,\n",
    "                  save_model_path,\n",
    "                  save_result_path,\n",
    "                  idx=j,\n",
    "                  p_seed=i)"
   ]
  },
  {
   "cell_type": "markdown",
   "metadata": {},
   "source": [
    "## [step5] ensemble result\n",
    "100개의 inference 결과를 조합하여 result.csv 생성"
   ]
  },
  {
   "cell_type": "code",
   "execution_count": 72,
   "metadata": {},
   "outputs": [],
   "source": [
    "# step5 ensemble result\n",
    "\n",
    "import os\n",
    "import numpy as np\n",
    "from glob import glob\n",
    "from collections import defaultdict\n",
    "\n",
    "\n",
    "def topk(arr):\n",
    "    count = defaultdict(int)\n",
    "    for a in arr:\n",
    "        count[a] += 1\n",
    "    # print(count, max(count, key=count.get))\n",
    "    return max(count, key=count.get)\n",
    "\n",
    "\n",
    "def ensemble_result(txt_path, save_path):\n",
    "    txt_list = glob(os.path.join(txt_path, '*.txt'))\n",
    "    txt_list.sort()\n",
    "    result = defaultdict(list)\n",
    "    for txt_l in txt_list:\n",
    "        with open(txt_l, 'r') as f:\n",
    "            data = f.read().split('\\n')[:-1]\n",
    "            print(txt_l, len(data))\n",
    "            if len(data) < 40000:\n",
    "                continue\n",
    "            for d in data:\n",
    "                idx, cat = d.split(', ')\n",
    "                result[idx].append(int(cat))\n",
    "    num_not_all = 0\n",
    "    # for i in range(40000, 90000, 1):\n",
    "\n",
    "    with open(os.path.join(save_path, 'result.csv'), 'w') as f:\n",
    "        f.write(\"ID,label\")\n",
    "    for k, v in result.items():\n",
    "        with open(os.path.join(save_path, 'result.csv'), 'a') as f:\n",
    "            f.write('\\n')\n",
    "        # print(k, np.median(np.array(v, dtype=int)))\n",
    "        cc = topk(v)\n",
    "        if np.sum(np.array(v) != v[0]):\n",
    "            num_not_all += 1\n",
    "#             print(k, v, cc)\n",
    "        with open(os.path.join(save_path, 'result.csv'), 'a') as f:\n",
    "            f.write('%s,%d' % (k, cc))\n",
    "    \n",
    "    print(num_not_all)"
   ]
  },
  {
   "cell_type": "code",
   "execution_count": 73,
   "metadata": {},
   "outputs": [
    {
     "name": "stdout",
     "output_type": "stream",
     "text": [
      "/coldjeans/result/result_0_00.txt 40000\n",
      "/coldjeans/result/result_0_01.txt 40000\n",
      "/coldjeans/result/result_0_02.txt 40000\n",
      "/coldjeans/result/result_0_03.txt 40000\n",
      "/coldjeans/result/result_0_04.txt 40000\n",
      "/coldjeans/result/result_0_05.txt 40000\n",
      "/coldjeans/result/result_0_06.txt 40000\n",
      "/coldjeans/result/result_0_07.txt 40000\n",
      "/coldjeans/result/result_0_08.txt 40000\n",
      "/coldjeans/result/result_0_09.txt 40000\n",
      "/coldjeans/result/result_1_00.txt 40000\n",
      "/coldjeans/result/result_1_01.txt 40000\n",
      "/coldjeans/result/result_1_02.txt 40000\n",
      "/coldjeans/result/result_1_03.txt 40000\n",
      "/coldjeans/result/result_1_04.txt 40000\n",
      "/coldjeans/result/result_1_05.txt 40000\n",
      "/coldjeans/result/result_1_06.txt 40000\n",
      "/coldjeans/result/result_1_07.txt 40000\n",
      "/coldjeans/result/result_1_08.txt 40000\n",
      "/coldjeans/result/result_1_09.txt 40000\n",
      "/coldjeans/result/result_2_00.txt 40000\n",
      "/coldjeans/result/result_2_01.txt 40000\n",
      "/coldjeans/result/result_2_02.txt 40000\n",
      "/coldjeans/result/result_2_03.txt 40000\n",
      "/coldjeans/result/result_2_04.txt 40000\n",
      "/coldjeans/result/result_2_05.txt 40000\n",
      "/coldjeans/result/result_2_06.txt 40000\n",
      "/coldjeans/result/result_2_07.txt 40000\n",
      "/coldjeans/result/result_2_08.txt 40000\n",
      "/coldjeans/result/result_2_09.txt 40000\n",
      "/coldjeans/result/result_3_00.txt 40000\n",
      "/coldjeans/result/result_3_01.txt 40000\n",
      "/coldjeans/result/result_3_02.txt 40000\n",
      "/coldjeans/result/result_3_03.txt 40000\n",
      "/coldjeans/result/result_3_04.txt 40000\n",
      "/coldjeans/result/result_3_05.txt 40000\n",
      "/coldjeans/result/result_3_06.txt 40000\n",
      "/coldjeans/result/result_3_07.txt 40000\n",
      "/coldjeans/result/result_3_08.txt 40000\n",
      "/coldjeans/result/result_3_09.txt 40000\n",
      "/coldjeans/result/result_4_00.txt 40000\n",
      "/coldjeans/result/result_4_01.txt 40000\n",
      "/coldjeans/result/result_4_02.txt 40000\n",
      "/coldjeans/result/result_4_03.txt 40000\n",
      "/coldjeans/result/result_4_04.txt 40000\n",
      "/coldjeans/result/result_4_05.txt 40000\n",
      "/coldjeans/result/result_4_06.txt 40000\n",
      "/coldjeans/result/result_4_07.txt 40000\n",
      "/coldjeans/result/result_4_08.txt 40000\n",
      "/coldjeans/result/result_4_09.txt 40000\n",
      "/coldjeans/result/result_5_00.txt 40000\n",
      "/coldjeans/result/result_5_01.txt 40000\n",
      "/coldjeans/result/result_5_02.txt 40000\n",
      "/coldjeans/result/result_5_03.txt 40000\n",
      "/coldjeans/result/result_5_04.txt 40000\n",
      "/coldjeans/result/result_5_05.txt 40000\n",
      "/coldjeans/result/result_5_06.txt 40000\n",
      "/coldjeans/result/result_5_07.txt 40000\n",
      "/coldjeans/result/result_5_08.txt 40000\n",
      "/coldjeans/result/result_5_09.txt 40000\n",
      "/coldjeans/result/result_6_00.txt 40000\n",
      "/coldjeans/result/result_6_01.txt 40000\n",
      "/coldjeans/result/result_6_02.txt 40000\n",
      "/coldjeans/result/result_6_03.txt 40000\n",
      "/coldjeans/result/result_6_04.txt 40000\n",
      "/coldjeans/result/result_6_05.txt 40000\n",
      "/coldjeans/result/result_6_06.txt 40000\n",
      "/coldjeans/result/result_6_07.txt 40000\n",
      "/coldjeans/result/result_6_08.txt 40000\n",
      "/coldjeans/result/result_6_09.txt 40000\n",
      "/coldjeans/result/result_7_00.txt 40000\n",
      "/coldjeans/result/result_7_01.txt 40000\n",
      "/coldjeans/result/result_7_02.txt 40000\n",
      "/coldjeans/result/result_7_03.txt 40000\n",
      "/coldjeans/result/result_7_04.txt 40000\n",
      "/coldjeans/result/result_7_05.txt 40000\n",
      "/coldjeans/result/result_7_06.txt 40000\n",
      "/coldjeans/result/result_7_07.txt 40000\n",
      "/coldjeans/result/result_7_08.txt 40000\n",
      "/coldjeans/result/result_7_09.txt 40000\n",
      "/coldjeans/result/result_8_00.txt 40000\n",
      "/coldjeans/result/result_8_01.txt 40000\n",
      "/coldjeans/result/result_8_02.txt 40000\n",
      "/coldjeans/result/result_8_03.txt 40000\n",
      "/coldjeans/result/result_8_04.txt 40000\n",
      "/coldjeans/result/result_8_05.txt 40000\n",
      "/coldjeans/result/result_8_06.txt 40000\n",
      "/coldjeans/result/result_8_07.txt 40000\n",
      "/coldjeans/result/result_8_08.txt 40000\n",
      "/coldjeans/result/result_8_09.txt 40000\n",
      "/coldjeans/result/result_9_00.txt 40000\n",
      "/coldjeans/result/result_9_01.txt 40000\n",
      "/coldjeans/result/result_9_02.txt 40000\n",
      "/coldjeans/result/result_9_03.txt 40000\n",
      "/coldjeans/result/result_9_04.txt 40000\n",
      "/coldjeans/result/result_9_05.txt 40000\n",
      "/coldjeans/result/result_9_06.txt 40000\n",
      "/coldjeans/result/result_9_07.txt 40000\n",
      "/coldjeans/result/result_9_08.txt 40000\n",
      "/coldjeans/result/result_9_09.txt 40000\n",
      "1711\n"
     ]
    }
   ],
   "source": [
    "# run ensemble\n",
    "ensemble_result('/coldjeans/result', '/coldjeans/result')"
   ]
  },
  {
   "cell_type": "markdown",
   "metadata": {},
   "source": [
    "## Appendix\n",
    "hough line transform 알고리즘을 3d 에서 확장한다면?"
   ]
  },
  {
   "cell_type": "code",
   "execution_count": 74,
   "metadata": {},
   "outputs": [
    {
     "data": {
      "image/png": "[encoded data removed]",
      "text/plain": [
       "<Figure size 432x288 with 1 Axes>"
      ]
     },
     "metadata": {
      "needs_background": "light"
     },
     "output_type": "display_data"
    }
   ],
   "source": [
    "import numpy as np\n",
    "from matplotlib import pyplot as plt\n",
    "from mpl_toolkits.mplot3d import Axes3D\n",
    "import h5py\n",
    "\n",
    "\n",
    "class Lind3D:\n",
    "    def __init__(self, a, b, c):\n",
    "        self.a = a\n",
    "        self.b = b\n",
    "        self.c = c\n",
    "    def __call__(self, xx, yy, *args, **kwargs):\n",
    "        z = 1/self.c - (self.a*xx/self.c + self.b*yy/self.c)\n",
    "        return z\n",
    "\n",
    "\n",
    "test_all = h5py.File(\"/coldjeans/Data/raw/test.h5\", 'r')\n",
    "fig = plt.figure()\n",
    "ax = fig.add_subplot(111, projection='3d')\n",
    "idx = '80000'\n",
    "dot = test_all[idx][:1000, :]\n",
    "for dd in dot:\n",
    "    a, b, c = dd\n",
    "    ftn = Lind3D(a, b, c)\n",
    "    x = np.array(list(range(-20, 20, 1)))\n",
    "    y = np.array(list(range(-20, 20, 1)))\n",
    "    z = []\n",
    "    for i, j in zip(x, y):\n",
    "        z_ = ftn(i, j)\n",
    "        # print(z_)\n",
    "        z.append(z_)\n",
    "    z = np.array(z)\n",
    "    ax.plot(x, y, z)\n",
    "plt.show()"
   ]
  },
  {
   "cell_type": "markdown",
   "metadata": {},
   "source": []
  }
 ],
 "metadata": {
  "kernelspec": {
   "display_name": "Vision",
   "language": "python",
   "name": "vision"
  },
  "language_info": {
   "codemirror_mode": {
    "name": "ipython",
    "version": 3
   },
   "file_extension": ".py",
   "mimetype": "text/x-python",
   "name": "python",
   "nbconvert_exporter": "python",
   "pygments_lexer": "ipython3",
   "version": "3.7.6"
  }
 },
 "nbformat": 4,
 "nbformat_minor": 4
}
