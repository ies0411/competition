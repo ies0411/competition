{
  "cells": [
    {
      "cell_type": "code",
      "execution_count": null,
      "metadata": {
        "id": "KHbWxrRC4sLB"
      },
      "outputs": [],
      "source": [
        "import numpy as np\n",
        "import pandas as pd\n",
        "import torch\n",
        "import torch.nn as nn\n",
        "import torch.optim as optim\n",
        "from torch.utils.data import Dataset, DataLoader\n",
        "from sklearn.model_selection import train_test_split\n",
        "from pytorch_tabnet.tab_model import TabNetClassification\n",
        "\n",
        "\n",
        "train = pd.read_csv('/content/drive/MyDrive/LG_Aimers2/open (7)/train.csv')\n",
        "test = pd.read_csv('/content/drive/MyDrive/LG_Aimers2/open (7)/test.csv')\n",
        "\n",
        "train,test, train_y, train_w = split_x_y(train,test)\n",
        "\n",
        "train,test = fillna(train,test,0)"
      ]
    },
    {
      "cell_type": "code",
      "execution_count": null,
      "metadata": {
        "id": "wFPJ8Ek6WgeQ"
      },
      "outputs": [],
      "source": [
        "import torch\n",
        "import torch.nn as nn\n",
        "from pytorch_tabnet.tab_model import TabNetModel\n",
        "\n",
        "class TabNetBClassifier(nn.Module):\n",
        "    def __init__(self, num_features, num_classes):\n",
        "        super(TabNetBClassifier, self).__init__()\n",
        "        \n",
        "        self.tabnet = TabNetModel(\n",
        "            input_dim= ,\n",
        "            output_dim= ,\n",
        "            n_d= ,\n",
        "            n_a= ,\n",
        "            n_steps= ,\n",
        "            gamma= ,\n",
        "            lambda_sparse= ,\n",
        "            momentum= ,\n",
        "            clip_value= ,\n",
        "            optimizer_fn=torch.optim. ,\n",
        "            optimizer_params=dict(lr= ),\n",
        "            mask_type=\" \",\n",
        "            scheduler_params=dict(\n",
        "                mode=\" \",\n",
        "                patience= ,\n",
        "                min_lr= ,\n",
        "                factor= ,\n",
        "                verbose=True\n",
        "            )\n",
        "        )\n",
        "\n",
        "    def forward(self, x):\n",
        "      \n",
        "        return self.tabnet(x)"
      ]
    },
    {
      "cell_type": "code",
      "execution_count": null,
      "metadata": {
        "id": "3xjhkT_gW51K"
      },
      "outputs": [],
      "source": [
        "model = TabNetBClassifier()\n",
        "\n",
        "criterion = torch.nn.()\n",
        "\n",
        "epochs = \n",
        "\n",
        "for epoch in range(epochs):\n",
        "    for x, y in train_loader:\n",
        "        optimizer.zero_grad()\n",
        "        output = model(x)\n",
        "        loss = criterion(output, y)\n",
        "        loss.backward()\n",
        "        optimizer.step()\n",
        "\n",
        "    with torch.no_grad():\n",
        "        valid_loss = 0\n",
        "        for x, y in valid_loader:\n",
        "            output = model(x)\n",
        "            loss = criterion(output, y)\n",
        "            valid_loss += loss.item()\n",
        "        valid_loss /= len(valid_loader)\n",
        "\n",
        "    print(f\"Epoch {epoch+1} loss: {valid_loss}\")"
      ]
    }
  ],
  "metadata": {
    "accelerator": "GPU",
    "colab": {
      "provenance": []
    },
    "gpuClass": "standard",
    "kernelspec": {
      "display_name": "Python 3",
      "language": "python",
      "name": "python3"
    },
    "language_info": {
      "name": "python",
      "version": "3.9.6 (default, Oct 18 2022, 12:41:40) \n[Clang 14.0.0 (clang-1400.0.29.202)]"
    },
    "vscode": {
      "interpreter": {
        "hash": "31f2aee4e71d21fbe5cf8b01ff0e069b9275f58929596ceb00d14d90e3e16cd6"
      }
    }
  },
  "nbformat": 4,
  "nbformat_minor": 0
}
