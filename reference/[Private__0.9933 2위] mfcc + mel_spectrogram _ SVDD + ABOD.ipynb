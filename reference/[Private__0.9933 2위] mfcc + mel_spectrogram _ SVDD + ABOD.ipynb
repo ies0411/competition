{
 "cells": [
  {
   "cell_type": "markdown",
   "id": "e06cb14b",
   "metadata": {},
   "source": [
    "## 접근 방향"
   ]
  },
  {
   "cell_type": "markdown",
   "id": "6988c712",
   "metadata": {},
   "source": [
    "- 데이터 수가 적어 과적합 발생을 우려하여 딥러닝 기반 모델 보다 __통계 기반 모델__을 사용하였습니다\n",
    "- Sound task 관련 논문을 보면 input data를 __Mel_spectorgram 또는 MFCC__를 사용하는 경우가 많았습니다. __type2__에 대한 모델링을 할 때는 mel_spectrogram/mfcc를 input data로 사용하여도 둘 다 우수한 성능을 보였지만 __type0__의 경우 mfcc를 사용하였을 때 성능이 좋지않아 mel_spectrogram만 사용하였습니다.\n",
    "- __TSNE__로 train_data를 2차원으로 축소하여 시각화 하였을 때, type에 따른 데이터 분포의 차이를 확인하였고 마찬가지로 type에 따라 이상치의 갯수가 다를 수도 있으므로 따로 모델링을 시도하였습니다.\n",
    "- KNN, LOF, OC-SVM등 일반적인 모델을 사용한 결과를 통해 이상치의 갯수가 적지 않을 것이라 생각하였고 이 경우 __이상치 간의 상관관계__가 높아 거리기반 / 밀도기반의 추정 방식이 성능이 좋지 않을 것이라 가정하여 객체와 객체를 비교하는 척도로 각도 개념을 사용하여 __고차원 공간에서도 일반적인 거리기반 / 밀도기반 이상치 측정 방법보다 좋은 이상치 탐지 성능을 가진 ABOD방식을 선택__하였습니다.\n",
    "\n",
    "- __ABOD paper : https://www.dbs.ifi.lmu.de/~zimek/publications/KDD2008/KDD08-ABOD.pdf__"
   ]
  },
  {
   "cell_type": "markdown",
   "id": "42523be0",
   "metadata": {},
   "source": [
    "## 방법1"
   ]
  },
  {
   "cell_type": "markdown",
   "id": "45d9b05c",
   "metadata": {},
   "source": [
    "#### [public_score] : 0.9867 / [private_ score] : 0.9915\n",
    "\n",
    "### Type 0 : ABOD\n",
    "\n",
    "input data : mel_spectrogram / \n",
    "n_neighbors : 6 /\n",
    "contamination : 0.03\n",
    "\n",
    "### Type 2 : ABOD\n",
    "\n",
    "input data : mel_spectrogram /\n",
    "n_neighbors : 6 /\n",
    "contamination : 0.015"
   ]
  },
  {
   "cell_type": "markdown",
   "id": "e09be303",
   "metadata": {},
   "source": [
    "## 방법2"
   ]
  },
  {
   "cell_type": "markdown",
   "id": "8d9f760d",
   "metadata": {},
   "source": [
    "#### [public_score] : 0.9911 / [private_ score] : 0.9905\n",
    "\n",
    "### Type 0 : ABOD\n",
    "\n",
    "input data : mel_spectrogram / \n",
    "n_neighbors : 6 /\n",
    "contamination : 0.03\n",
    "\n",
    "### Type 2 : SVDD\n",
    "\n",
    "input data : mfcc / \n",
    "gamma : 0.001"
   ]
  },
  {
   "cell_type": "markdown",
   "id": "336ccf87",
   "metadata": {},
   "source": [
    "## 최종 제출"
   ]
  },
  {
   "cell_type": "markdown",
   "id": "e992149e",
   "metadata": {},
   "source": [
    "__방법1과 방법2를 합쳐__ 두 개의 모델이 공통적으로 이상치라고 판단하는 case에 대해서만 이상치로 최종 선택하게 하였습니다. \n",
    "\n",
    "### [public_score] : 0.9911 / [private_ score] : 0.9933\n",
    "\n",
    "### Type 0 : ABOD\n",
    "\n",
    "input data : mel_spectrogram / \n",
    "n_neighbors : 6 /\n",
    "contamination : 0.03\n",
    "\n",
    "### Type 2 : ABOD + SVDD\n",
    "\n",
    "input data : mel_spectrogram / \n",
    "n_neighbors : 6 /\n",
    "contamination : 0.015\n",
    "\n",
    "input data : mfcc / \n",
    "gamma : 0.001"
   ]
  },
  {
   "cell_type": "markdown",
   "id": "dcccb665",
   "metadata": {},
   "source": [
    "## Code Review"
   ]
  },
  {
   "cell_type": "markdown",
   "id": "c25afb4e",
   "metadata": {},
   "source": [
    "## Setting"
   ]
  },
  {
   "cell_type": "code",
   "execution_count": 1,
   "id": "00e264c4",
   "metadata": {},
   "outputs": [],
   "source": [
    "import warnings\n",
    "warnings.filterwarnings(action='ignore')\n",
    "\n",
    "import random\n",
    "import pandas as pd\n",
    "import numpy as np\n",
    "import math\n",
    "import os\n",
    "from tqdm.auto import tqdm\n",
    "from glob import glob\n",
    "import librosa\n",
    "\n",
    "from sklearn.manifold import TSNE\n",
    "from pyod.models.abod import ABOD\n",
    "\n",
    "import matplotlib.pyplot as plt\n",
    "import seaborn as sns\n",
    "\n",
    "import time\n",
    "from collections import defaultdict\n",
    "from cvxopt import matrix, solvers\n",
    "from sklearn.base import BaseEstimator, OutlierMixin\n",
    "from sklearn.metrics import accuracy_score\n",
    "from sklearn.metrics.pairwise import pairwise_kernels\n",
    "from sklearn.model_selection import train_test_split\n",
    "from pycaret.anomaly import *"
   ]
  },
  {
   "cell_type": "code",
   "execution_count": 2,
   "id": "86b73779",
   "metadata": {},
   "outputs": [],
   "source": [
    "def seed_everything(seed):\n",
    "    random.seed(seed)\n",
    "    os.environ['PYTHONHASHSEED'] = str(seed)\n",
    "    np.random.seed(seed)\n",
    "\n",
    "seed_everything(1234)"
   ]
  },
  {
   "cell_type": "markdown",
   "id": "7bdf3224",
   "metadata": {},
   "source": [
    "## Load files"
   ]
  },
  {
   "cell_type": "code",
   "execution_count": 3,
   "id": "5e2c9b57",
   "metadata": {},
   "outputs": [],
   "source": [
    "train_path = glob('./train/*')\n",
    "train_path.sort()\n",
    "test_path = glob('./test/*')\n",
    "test_path.sort()"
   ]
  },
  {
   "cell_type": "code",
   "execution_count": 4,
   "id": "b8e952e5",
   "metadata": {},
   "outputs": [],
   "source": [
    "def get_feature_mel(path):\n",
    "    features = []\n",
    "    for i in tqdm(path):\n",
    "        data, sr = librosa.load(i, 16000)\n",
    "        n_fft = 2048\n",
    "        win_length = 2048\n",
    "        hop_length = 1024\n",
    "        n_mels = 128\n",
    " \n",
    "        D = np.abs(librosa.stft(data, n_fft=n_fft, win_length = win_length, hop_length=hop_length))\n",
    "        mel = librosa.feature.melspectrogram(S=D, sr=sr, n_mels=n_mels, hop_length=hop_length, win_length=win_length)\n",
    "\n",
    "    \n",
    "        m_mel = mel.mean(axis=1)\n",
    "        features.append(m_mel)\n",
    "    return np.array(features)"
   ]
  },
  {
   "cell_type": "code",
   "execution_count": 5,
   "id": "a88387d9",
   "metadata": {},
   "outputs": [],
   "source": [
    "def get_feature_mfcc(path):\n",
    "    features = []\n",
    "    for i in tqdm(path):\n",
    "        data, sr = librosa.load(i, 16000)\n",
    " \n",
    "        mfcc = librosa.feature.mfcc(data, sr=sr, n_mfcc=128)\n",
    "    \n",
    "        m_mfcc = mfcc.mean(axis=1)\n",
    "        features.append(m_mfcc)\n",
    "    return np.array(features)"
   ]
  },
  {
   "cell_type": "code",
   "execution_count": 6,
   "id": "67873580",
   "metadata": {},
   "outputs": [],
   "source": [
    "train_fan = pd.read_csv('train.csv').iloc[:,2]\n",
    "test_fan = pd.read_csv('test.csv').iloc[:,2]"
   ]
  },
  {
   "cell_type": "code",
   "execution_count": 7,
   "id": "8a2fa957",
   "metadata": {},
   "outputs": [
    {
     "data": {
      "application/vnd.jupyter.widget-view+json": {
       "model_id": "e39a5f4701394291abf19cb69b475537",
       "version_major": 2,
       "version_minor": 0
      },
      "text/plain": [
       "  0%|          | 0/639 [00:00<?, ?it/s]"
      ]
     },
     "metadata": {},
     "output_type": "display_data"
    },
    {
     "data": {
      "application/vnd.jupyter.widget-view+json": {
       "model_id": "348b0ad5344a4d17aa1a3e6489f757a5",
       "version_major": 2,
       "version_minor": 0
      },
      "text/plain": [
       "  0%|          | 0/640 [00:00<?, ?it/s]"
      ]
     },
     "metadata": {},
     "output_type": "display_data"
    },
    {
     "data": {
      "application/vnd.jupyter.widget-view+json": {
       "model_id": "6d266c2325864056ac29ce3a0bb8a43b",
       "version_major": 2,
       "version_minor": 0
      },
      "text/plain": [
       "  0%|          | 0/779 [00:00<?, ?it/s]"
      ]
     },
     "metadata": {},
     "output_type": "display_data"
    },
    {
     "data": {
      "application/vnd.jupyter.widget-view+json": {
       "model_id": "605fcc4bf41a43b9934bc65799560b34",
       "version_major": 2,
       "version_minor": 0
      },
      "text/plain": [
       "  0%|          | 0/735 [00:00<?, ?it/s]"
      ]
     },
     "metadata": {},
     "output_type": "display_data"
    }
   ],
   "source": [
    "train_f0 = get_feature_mfcc(np.array(train_path)[train_fan==0])\n",
    "train_f2 = get_feature_mfcc(np.array(train_path)[train_fan==2])\n",
    "test_f0 = get_feature_mfcc(np.array(test_path)[test_fan==0])\n",
    "test_f2 = get_feature_mfcc(np.array(test_path)[test_fan==2])"
   ]
  },
  {
   "cell_type": "code",
   "execution_count": 8,
   "id": "fd96d5dc",
   "metadata": {},
   "outputs": [
    {
     "data": {
      "application/vnd.jupyter.widget-view+json": {
       "model_id": "f5b0a664b8704e3c9ee4e1b65a384ea5",
       "version_major": 2,
       "version_minor": 0
      },
      "text/plain": [
       "  0%|          | 0/639 [00:00<?, ?it/s]"
      ]
     },
     "metadata": {},
     "output_type": "display_data"
    },
    {
     "data": {
      "application/vnd.jupyter.widget-view+json": {
       "model_id": "a12d773a8dc34f6a82384f2e59709d66",
       "version_major": 2,
       "version_minor": 0
      },
      "text/plain": [
       "  0%|          | 0/640 [00:00<?, ?it/s]"
      ]
     },
     "metadata": {},
     "output_type": "display_data"
    },
    {
     "data": {
      "application/vnd.jupyter.widget-view+json": {
       "model_id": "654cd0fcf0434386b23c19b84a9f5527",
       "version_major": 2,
       "version_minor": 0
      },
      "text/plain": [
       "  0%|          | 0/779 [00:00<?, ?it/s]"
      ]
     },
     "metadata": {},
     "output_type": "display_data"
    },
    {
     "data": {
      "application/vnd.jupyter.widget-view+json": {
       "model_id": "aa72287a973f47a0b743eadbf444e989",
       "version_major": 2,
       "version_minor": 0
      },
      "text/plain": [
       "  0%|          | 0/735 [00:00<?, ?it/s]"
      ]
     },
     "metadata": {},
     "output_type": "display_data"
    }
   ],
   "source": [
    "train_0 = get_feature_mel(np.array(train_path)[train_fan==0])\n",
    "train_2 = get_feature_mel(np.array(train_path)[train_fan==2])\n",
    "test_0 = get_feature_mel(np.array(test_path)[test_fan==0])\n",
    "test_2 = get_feature_mel(np.array(test_path)[test_fan==2])"
   ]
  },
  {
   "cell_type": "code",
   "execution_count": 9,
   "id": "299562ae",
   "metadata": {},
   "outputs": [
    {
     "data": {
      "application/vnd.jupyter.widget-view+json": {
       "model_id": "4688b95ec2144b9e8b15566b7042c66e",
       "version_major": 2,
       "version_minor": 0
      },
      "text/plain": [
       "  0%|          | 0/1279 [00:00<?, ?it/s]"
      ]
     },
     "metadata": {},
     "output_type": "display_data"
    },
    {
     "data": {
      "application/vnd.jupyter.widget-view+json": {
       "model_id": "86d2093bf05646f889a4537ebb831c82",
       "version_major": 2,
       "version_minor": 0
      },
      "text/plain": [
       "  0%|          | 0/1514 [00:00<?, ?it/s]"
      ]
     },
     "metadata": {},
     "output_type": "display_data"
    }
   ],
   "source": [
    "train_all = get_feature_mel(np.array(train_path))\n",
    "test_all = get_feature_mel(np.array(test_path))"
   ]
  },
  {
   "cell_type": "markdown",
   "id": "9df74438",
   "metadata": {},
   "source": [
    "## Trainset의 분포"
   ]
  },
  {
   "cell_type": "code",
   "execution_count": 10,
   "id": "0078b2f8",
   "metadata": {},
   "outputs": [
    {
     "data": {
      "text/plain": [
       "<AxesSubplot:xlabel='com1', ylabel='com2'>"
      ]
     },
     "execution_count": 10,
     "metadata": {},
     "output_type": "execute_result"
    },
    {
     "data": {
      "image/png": "[encoded data removed]",
      "text/plain": [
       "<Figure size 1008x1008 with 1 Axes>"
      ]
     },
     "metadata": {},
     "output_type": "display_data"
    }
   ],
   "source": [
    "np.random.seed(160)\n",
    "tsne = TSNE(n_components=2)\n",
    "tt = tsne.fit_transform(train_all)\n",
    "\n",
    "tt_df = pd.DataFrame(tt, columns=['com1', 'com2'])\n",
    "tt_df['label'] = train_fan\n",
    "\n",
    "sns.set_palette('deep')\n",
    "plt.figure(figsize=(14,14))\n",
    "sns.scatterplot(x='com1', y='com2', hue='label', data=tt_df)"
   ]
  },
  {
   "cell_type": "markdown",
   "id": "eeead865",
   "metadata": {},
   "source": [
    "## Modeling"
   ]
  },
  {
   "cell_type": "markdown",
   "id": "5b572c2d",
   "metadata": {},
   "source": [
    "## SVDD"
   ]
  },
  {
   "cell_type": "markdown",
   "id": "6f712933",
   "metadata": {},
   "source": [
    "다음 깃허브를 참고하였습니다\n",
    "##### https://github.com/iqiukp/SVDD-Python"
   ]
  },
  {
   "cell_type": "code",
   "execution_count": 11,
   "id": "a1c66db5",
   "metadata": {},
   "outputs": [],
   "source": [
    "class BaseSVDD(BaseEstimator, OutlierMixin):\n",
    "    \"\"\"One-Classification using Support Vector Data Description (SVDD).\n",
    "    Parameters\n",
    "    ----------\n",
    "    C : float, default=1.0\n",
    "        Regularization parameter. The strength of the regularization is\n",
    "        inversely proportional to C. Must be strictly positive. The penalty\n",
    "        is a squared l2 penalty.\n",
    "    kernel : {'linear', 'poly', 'rbf', 'sigmoid'}, default='rbf'\n",
    "        Specifies the kernel type to be used in the algorithm.\n",
    "        It must be one of 'linear', 'poly', 'rbf', 'sigmoid'.\n",
    "    degree : int, default=3\n",
    "        Degree of the polynomial kernel function ('poly').\n",
    "        Ignored by all other kernels.\n",
    "    gamma : {'scale', 'auto'} or float, default='scale'\n",
    "        Kernel coefficient for 'rbf', 'poly' and 'sigmoid'.\n",
    "        - if ``gamma='scale'`` (default) is passed then it uses\n",
    "          1 / (n_features * X.var()) as value of gamma,\n",
    "        - if 'auto', uses 1 / n_features.\n",
    "    coef0 : float, default=0.0\n",
    "        Independent term in kernel function.\n",
    "        It is only significant in 'poly' and 'sigmoid'.\n",
    "    n_jobs : int, default=None\n",
    "        The number of parallel jobs to run.\n",
    "        ``None`` means 1 unless in a :obj:`joblib.parallel_backend` context.\n",
    "        ``-1`` means using all processors. See :term:`Glossary <n_jobs>`\n",
    "        for more details.\n",
    "    \"\"\"\n",
    "\n",
    "    def __init__(self, \n",
    "                 C=0.9,\n",
    "                 kernel='rbf',\n",
    "                 degree=3,\n",
    "                 gamma=None,\n",
    "                 coef0=1,\n",
    "                 display='on',\n",
    "                 n_jobs=None):\n",
    "\n",
    "        self.C = C\n",
    "        self.kernel = kernel\n",
    "        self.degree = degree\n",
    "        self.gamma = gamma       \n",
    "        self.coef0 = coef0\n",
    "        self.n_jobs = n_jobs\n",
    "        self.display = display\n",
    "        self.X = None\n",
    "        self.y = None\n",
    "        self.weight = None\n",
    "        self.exist_label = True\n",
    "        self.label_type = None\n",
    "        self.support_vectors = None\n",
    "        self.support_vector_indices = None\n",
    "        self.n_support_vectors = None\n",
    "        self.n_iterations = None\n",
    "        self.object_value = None\n",
    "        self.alpha = None\n",
    "        self.alpha_tolerance = 1e-6\n",
    "        self.support_vector_alpha = None\n",
    "        self.n_support_vectors_ratio = None\n",
    "        self.radius = None\n",
    "        self.center = None\n",
    "        self.offset = None\n",
    "        self.distance = None\n",
    "        self.accuracy = None\n",
    "        self.predicted_y = None\n",
    "        self.running_time = None\n",
    "        self.boundary_indices = None\n",
    "        self.classes_ = None\n",
    "        \n",
    "\n",
    "   \n",
    "    @property \n",
    "    def n_samples(self):\n",
    "        return self.X.shape[0]\n",
    "    @property \n",
    "    def n_features(self):\n",
    "        return self.X.shape[1]\n",
    "    @property \n",
    "    def n_positive_samples(self):\n",
    "        return np.sum(self.y == 1)\n",
    "    @property \n",
    "    def n_negative_samples(self):\n",
    "        return np.sum(self.y == -1)\n",
    "    \n",
    " \n",
    "    def fit(self, X, y=None, weight=None):\n",
    "        \"\"\"Fit the model from data in X.\n",
    "        Parameters\n",
    "        ----------\n",
    "        X : {array-like, sparse matrix}, shape (n_samples, n_features)\n",
    "            The training input samples.\n",
    "        y : array-like, shape (n_samples, 1)\n",
    "            The target values (class labels in classification, \n",
    "            1 for positive samples and -1 for negative samples)\n",
    "        weight : array-like of shape (n_samples, 1), default=None\n",
    "            \n",
    "        Returns\n",
    "        -------\n",
    "        self : object\n",
    "            Returns self.\n",
    "        \"\"\"\n",
    "\n",
    "        start_time = time.time()\n",
    "        # parameter preprocessing\n",
    "        self.X, self.y, self.y_type, self.exist_y = self._check_X_y(X, y)\n",
    "\n",
    "        if self.y_type == 'single':\n",
    "            self.C = [self.C, 1]\n",
    "    \n",
    "        if self.y_type == 'hybrid':\n",
    "            self.C = [self.C, 2/self.n_negative_samples]\n",
    "            \n",
    "        if weight is None:\n",
    "            self.weight = np.ones((self.n_samples, 1), dtype=np.int64)\n",
    "        else:\n",
    "            self.weight = weight   \n",
    "            \n",
    "        # check 'gamma'\n",
    "        if self.gamma == 0:\n",
    "            raise ValueError(\n",
    "                \"The gamma value of 0.0 is invalid. Use 'auto' to set\"\n",
    "                \" gamma to a value of 1 / n_features.\") \n",
    "        if self.gamma is None:\n",
    "            self.gamma = 'scale'\n",
    "        if isinstance(self.gamma, str):\n",
    "            if self.gamma == \"scale\":\n",
    "                X_var = X.var()\n",
    "                self.gamma = 1.0 / (X.shape[1] * X_var) if X_var != 0 else 1.0\n",
    "            elif self.gamma == \"auto\":\n",
    "                self.gamma = 1.0 / X.shape[1]\n",
    "            else:\n",
    "                raise ValueError(\n",
    "                   \"When 'gamma' is a string, it should be either 'scale' or 'auto'.\")\n",
    "  \n",
    "        # get SVDD model\n",
    "        self.get_model()\n",
    "        display_ = self.display\n",
    "        self.display = 'off'\n",
    "        self.predicted_y_ = self.predict(self.X, self.y)\n",
    "        self.accuracy = accuracy_score(self.y, self.predicted_y_)\n",
    "        self.display = display_\n",
    "        end_time = time.time()\n",
    "        self.running_time = end_time - start_time\n",
    "\n",
    "        # display    \n",
    "        if self.display == 'on':\n",
    "            self.display_fit() \n",
    "        return self\n",
    "   \n",
    "    def get_model(self):\n",
    "        #\n",
    "        K = self._get_kernel(self.X, self.X)\n",
    "        self.solve_problem(K)\n",
    "\n",
    "    def _get_kernel(self, X, Y=None):\n",
    "        # get kernel matrix\n",
    "        if callable(self.kernel):\n",
    "            params = self.kernel_params or {}\n",
    "        else:\n",
    "            params = {\"gamma\": self.gamma, \"degree\": self.degree, \"coef0\": self.coef0}\n",
    "\n",
    "        return pairwise_kernels(\n",
    "            X, Y, metric=self.kernel, filter_params=True, n_jobs=self.n_jobs, **params)\n",
    "\n",
    "    def solve_problem(self, K):\n",
    "        \"\"\" \n",
    "        DESCRIPTION\n",
    "        \n",
    "        Solve the Lagrange dual problem using cvxopt\n",
    "        \n",
    "        minimize      (1/2)*x'*P*x + q'*x\n",
    "        subject to    G*x <= h\n",
    "                      A*x = b                    \n",
    "        --------------------------------------------------\n",
    "        \n",
    "        \"\"\" \n",
    "\n",
    "        solvers.options['show_progress'] = False\n",
    "        K = np.multiply(self.y * self.y.T, K)\n",
    "        \n",
    "        # P\n",
    "        n = K.shape[0]\n",
    "        P = K + K.T\n",
    "        \n",
    "        # q\n",
    "        q = -np.multiply(self.y, np.mat(np.diagonal(K)).T)\n",
    "\n",
    "        # G\n",
    "        G1 = -np.eye(n)\n",
    "        G2 = np.eye(n)\n",
    "        G = np.append(G1, G2, axis=0)\n",
    "        \n",
    "        # h\n",
    "        h1 = np.zeros([n, 1])\n",
    "        h2 = np.ones([n, 1])\n",
    "        \n",
    "        if self.y_type == 'single':\n",
    "            h2[self.y == 1] = self.C[0] * self.weight[self.y == 1]\n",
    "        \n",
    "        if self.y_type == 'hybrid':\n",
    "            h2[self.y == 1] = self.C[0] * self.weight[self.y == 1]\n",
    "            h2[self.y == -1] = self.C[1] * self.weight[self.y == -1]\n",
    "\n",
    "        h = np.append(h1, h2, axis=0)\n",
    "        h2_ = h2\n",
    "        \n",
    "        # A, b\n",
    "        A = np.ones([n, 1]).T\n",
    "        b = np.ones([1, 1])\n",
    "\n",
    "        # \n",
    "        P = matrix(P)\n",
    "        q = matrix(q)\n",
    "        G = matrix(G)\n",
    "        h = matrix(h)\n",
    "        A = matrix(A)\n",
    "        b = matrix(b)\n",
    "\n",
    "        #\n",
    "        sol = solvers.qp(P, q, G, h, A, b)\n",
    "        \n",
    "        self.object_value = np.array(sol['dual objective'])\n",
    "        self.n_iterations = np.array(sol['iterations'])\n",
    "\n",
    "        if len(np.array(sol['x'])) == 0:\n",
    "            warnings.warn(\"No solution for the SVDD model could be found.\\n\")\n",
    "            self.alpha = np.zeros((self.n_samples, 1))\n",
    "            self.alpha[0][0] = 1\n",
    "        else:\n",
    "            self.alpha = np.array(sol['x'])     \n",
    "\n",
    "        self.alpha = self.y * self.alpha\n",
    "        self.support_vector_indices = np.where(np.abs(self.alpha) > self.alpha_tolerance)[0][:]\n",
    "        \n",
    "        # boundary indices  \n",
    "        tmp_1 = self.alpha[self.support_vector_indices, 0]\n",
    "        tmp_2 = h2_[self.support_vector_indices, 0]\n",
    "        tmp_3 = np.where(tmp_1 < tmp_2)[0][:] \n",
    "        tmp_4 = np.where(tmp_1 > self.alpha_tolerance)[0][:] \n",
    "        self.boundary_indices = self.support_vector_indices[np.array(list(set(tmp_3) & set(tmp_4)))]\n",
    "\n",
    "        # support vectors\n",
    "        self.alpha[np.where(np.abs(self.alpha) < self.alpha_tolerance)[0][:]] = 0\n",
    "        self.support_vectors = self.X[self.support_vector_indices, :]\n",
    "        self.support_vector_alpha = self.alpha[self.support_vector_indices]\n",
    "        self.n_support_vectors = self.support_vector_indices.shape[0]\n",
    "        self.n_support_vectors_ratio = self.n_support_vectors/self.n_samples\n",
    "\n",
    "        if self.n_support_vectors_ratio > 0.5:\n",
    "            warnings.warn(\"The fitted SVDD model may be overfitting.\\n\")\n",
    "\n",
    "        # offset, center, radius\n",
    "        tmp_5 = np.dot(np.ones((self.n_samples, 1)), self.alpha.T)\n",
    "        tmp_6 = np.multiply(tmp_5, K)\n",
    "        tmp_ = -2*np.sum(tmp_6, axis=1, keepdims=True)        \n",
    "        self.offset = np.sum(np.multiply(np.dot(self.alpha, self.alpha.T), K)) \n",
    "        self.center = np.dot(self.alpha.T, self.X)\n",
    "        self.radius = np.sqrt(np.mean(np.diag(K)) + self.offset+np.mean(tmp_[self.boundary_indices, 0]))\n",
    "\n",
    "    def predict(self, X, y=None):\n",
    "        \"\"\"Predict the class labels for the provided data.\n",
    "        Parameters\n",
    "        ----------\n",
    "        X : array-like of shape (n_queries, n_features)\n",
    "            Test samples.\n",
    "        y : (optional) array-like, shape (n_samples, 1)\n",
    "            The target values (class labels in classification, \n",
    "            1 for positive samples and -1 for negative samples)\n",
    "        Returns\n",
    "        -------\n",
    "        predicted_y : array-like, shape (n_samples, 1)\n",
    "            The predicted target values \n",
    "        \"\"\"\n",
    "\n",
    "        start_time = time.time()\n",
    "        results = {}\n",
    "        results['X'], results['y'], results['y_type'], results['exist_y'] = self._check_X_y(X, y)\n",
    "        results['n_samples'] = results['X'].shape[0]\n",
    "        results['distance'] = self.get_distance(X)\n",
    "        results['predicted_y'] = np.mat(np.ones(results['n_samples'])).T\n",
    "        index_ = results['distance'] > self.radius\n",
    "        results['predicted_y'][index_] = -1\n",
    "        results['n_alarm'] = np.sum(index_==True)  \n",
    "          \n",
    "        if results['exist_y'] == True:\n",
    "            results['accuracy'] = accuracy_score(results['y'], results['predicted_y'])\n",
    "\n",
    "        end_time = time.time()\n",
    "        results['running_time'] = end_time - start_time\n",
    "        # display    \n",
    "        if self.display == 'on':\n",
    "            self.display_predict(results)\n",
    "        return results['predicted_y']\n",
    "    \n",
    "    def get_distance(self, X):\n",
    "        # compute the distance between the samples and the center\n",
    "        K = self._get_kernel(X, self.X)\n",
    "        K_ = self._get_kernel(X, X)\n",
    "        tmp_1 = np.dot(np.ones((X.shape[0], 1), dtype=np.int64), self.alpha.T)\n",
    "        tmp_2 = np.multiply(tmp_1, K)\n",
    "        tmp_ = -2*np.sum(tmp_2, axis=1, keepdims=True)  \n",
    "        distance = np.sqrt(np.mat(np.diag(K_)).T+self.offset+tmp_)\n",
    "        return distance\n",
    "    \n",
    "    def fit_predict(self, X, y=None, weight=None):\n",
    "        # Perform fit on X and returns labels for X.\n",
    "        self.fit(X, y, weight)\n",
    "        return self.predict(X, y)\n",
    "        \n",
    "    def decision_function(self, X):\n",
    "        \"\"\"Signed distance to the separating hyperplane.\n",
    "        Signed distance is positive for an inlier and negative for an outlier.\n",
    "        Parameters\n",
    "        ----------\n",
    "        X : array-like of shape (n_samples, n_features)\n",
    "            The data matrix.\n",
    "        Returns\n",
    "        -------\n",
    "        dec : ndarray of shape (n_samples, 1)\n",
    "            Returns the decision function of the samples.\n",
    "            The anomaly score of the input samples. The lower, \n",
    "            the more abnormal. Negative scores represent outliers,\n",
    "            positive scores represent inliers.\n",
    "            \n",
    "        \"\"\"\n",
    "        return self.radius-self.get_distance(X)\n",
    "    \n",
    "    def get_params(self, deep=True):\n",
    "        \"\"\"\n",
    "        Get parameters for this estimator.\n",
    "        Parameters\n",
    "        ----------\n",
    "        deep : bool, default=True\n",
    "            If True, will return the parameters for this estimator and\n",
    "            contained subobjects that are estimators.\n",
    "        Returns\n",
    "        -------\n",
    "        params : dict\n",
    "            Parameter names mapped to their values.\n",
    "        \"\"\"\n",
    "        out = dict()\n",
    "        for key in self._get_param_names():\n",
    "            value = getattr(self, key)\n",
    "            if deep and hasattr(value, \"get_params\"):\n",
    "                deep_items = value.get_params().items()\n",
    "                out.update((key + \"__\" + k, val) for k, val in deep_items)\n",
    "            out[key] = value\n",
    "        return out \n",
    "\n",
    "    def set_params(self, **params):\n",
    "        \"\"\"\n",
    "        Set the parameters of this estimator.\n",
    "        The method works on simple estimators as well as on nested objects\n",
    "        (such as :class:`~sklearn.pipeline.Pipeline`). The latter have\n",
    "        parameters of the form ``<component>__<parameter>`` so that it's\n",
    "        possible to update each component of a nested object.\n",
    "        Parameters\n",
    "        ----------\n",
    "        **params : dict\n",
    "            Estimator parameters.\n",
    "        Returns\n",
    "        -------\n",
    "        self : estimator instance\n",
    "            Estimator instance.\n",
    "        \"\"\"\n",
    "        if not params:\n",
    "            # Simple optimization to gain speed (inspect is slow)\n",
    "            return self\n",
    "        valid_params = self.get_params(deep=True)\n",
    "\n",
    "        nested_params = defaultdict(dict)  # grouped by prefix\n",
    "        for key, value in params.items():\n",
    "            key, delim, sub_key = key.partition(\"__\")\n",
    "            if key not in valid_params:\n",
    "                raise ValueError(\n",
    "                    \"Invalid parameter %s for estimator %s. \"\n",
    "                    \"Check the list of available parameters \"\n",
    "                    \"with `estimator.get_params().keys()`.\" % (key, self)\n",
    "                )\n",
    "\n",
    "            if delim:\n",
    "                nested_params[key][sub_key] = value\n",
    "            else:\n",
    "                setattr(self, key, value)\n",
    "                valid_params[key] = value\n",
    "\n",
    "        for key, sub_params in nested_params.items():\n",
    "            valid_params[key].set_params(**sub_params)\n",
    "\n",
    "        return self\n",
    " \n",
    "    def _check_X_y(self, X, y):\n",
    "\n",
    "        # check for labels\n",
    "        if y is None:\n",
    "            y = np.ones((X.shape[0], 1))\n",
    "            exist_y = False\n",
    "        else:\n",
    "            exist_y = True   \n",
    "\n",
    "        # check for object type (numpy.ndarray)\n",
    "        if type(X) is not np.ndarray or type(y) is not np.ndarray:\n",
    "            raise SyntaxError(\"The type of X and y must be 'numpy.ndarray'.\\n\")\n",
    "        \n",
    "        # check for data dimensionality\n",
    "        if len(X.shape) != 2 or len(y.shape) != 2:\n",
    "            raise SyntaxError(\"The X and y must be 2D.\\n\")\n",
    "          \n",
    "        # check for data length\n",
    "        if X.shape[0] != y.shape[0]:\n",
    "            raise SyntaxError(\"The length of X and y must the same.\\n\")   \n",
    "             \n",
    "        # check for label values\n",
    "        tmp_ = np.unique(y)\n",
    "        if np.all(tmp_ == np.array([1])) or np.all(tmp_ == np.array([-1])):\n",
    "            y_type = 'single'\n",
    "           \n",
    "        elif np.all(tmp_ == np.array([1, -1])) or np.all(tmp_ == np.array([-1, 1])):\n",
    "            y_type = 'hybrid'        \n",
    "          \n",
    "        else:\n",
    "            errorText = \"SVDD is only supported for one-class or binary classification. \"\\\n",
    "                        \"The label must be 1 for positive samples or -1 for negative samples.\\n\"\n",
    "            raise SyntaxError(errorText)\n",
    "            \n",
    "        self.classes_ = np.unique(y)\n",
    "\n",
    "        return X, y, y_type, exist_y\n",
    "\n",
    "    def display_fit(self):\n",
    "        # display the fitting results       \n",
    "        print('\\n')\n",
    "        print('*** Fitting of the SVDD model is completed. ***\\n')\n",
    "        print('running time         = %.4f seconds'   % self.running_time)\n",
    "        print('kernel function      = %s'             % self.kernel)\n",
    "        print('iterations           = %d'             % self.n_iterations)\n",
    "        print('number of samples    = %d'             % self.n_samples)\n",
    "        print('number of features   = %d'             % self.n_features)\n",
    "        print('number of SVs        = %d'             % self.n_support_vectors)\n",
    "        print('ratio of SVs         = %.4f %%'        % (100*self.n_support_vectors_ratio))\n",
    "        print('accuracy             = %.4f %%'        % (100*self.accuracy))\n",
    "        print('\\n')        \n",
    "        \n",
    "    def display_predict(self, results):\n",
    "        # display test results       \n",
    "        print('\\n')\n",
    "        print('*** Prediction of the provided data is completed. ***\\n')\n",
    "        print('running time         = %.4f seconds'   % results['running_time'])\n",
    "        print('number of samples    = %d'             % results['n_samples'])                                                        \n",
    "        print('number of alarm      = %d'             % results['n_alarm'])  \n",
    "        if results['exist_y'] == True:\n",
    "            print('accuracy             = %.4f %%'        % (100*results['accuracy']))\n",
    "        print('\\n')  \n",
    "\n",
    "    def plot_distance(self, radius, distance):\n",
    "        \"\"\" \n",
    "        DESCRIPTION\n",
    "        \n",
    "        Plot the curve of distance\n",
    "        --------------------------------------------------------------- \n",
    "        \n",
    "        \"\"\" \n",
    "\n",
    "        n = distance.shape[0]\n",
    "        fig = plt.figure(figsize=(10, 6))\n",
    "        ax = fig.add_subplot(1, 1, 1)\n",
    "        radius = np.ones((n, 1))*radius\n",
    "\n",
    "        ax.plot(radius, \n",
    "                color='r',\n",
    "                linestyle='-', \n",
    "                marker='None',\n",
    "                linewidth=3, \n",
    "                markeredgecolor='k',\n",
    "                markerfacecolor='w', \n",
    "                markersize=6)\n",
    "        \n",
    "        ax.plot(distance,\n",
    "                color='k',\n",
    "                linestyle=':',\n",
    "                marker='o',\n",
    "                linewidth=1,\n",
    "                markeredgecolor='k',\n",
    "                markerfacecolor='C4',\n",
    "                markersize=6)\n",
    "        \n",
    "        ax.set_xlabel('Samples')\n",
    "        ax.set_ylabel('Distance')\n",
    "        \n",
    "        ax.legend([\"Radius\", \"Distance\"], \n",
    "                  ncol=1, loc=0, \n",
    "                  edgecolor='black', \n",
    "                  markerscale=1, fancybox=True)\n",
    "        ax.yaxis.grid()\n",
    "        plt.show()\n",
    "\n",
    "    def plot_boundary(self, X, y=None, expand_ratio=0.2, n_grids=50, \n",
    "                      color_map='RdYlBu', n_level=6):\n",
    "        \"\"\" \n",
    "        DESCRIPTION\n",
    "        \n",
    "        Plot the boundary\n",
    "        --------------------------------------------------------------- \n",
    "        \n",
    "        \"\"\" \n",
    "        start_time = time.time()  \n",
    "        dim = X.shape[1]\n",
    "        if dim != 2:\n",
    "            raise SyntaxError('Visualization of decision boundary only supports for 2D data')\n",
    "        x_range = np.zeros(shape=(n_grids, 2))\n",
    "        for i in range(2):  \n",
    "            _tmp_ = (np.max(X[:, i])-np.min(X[:, i]))*expand_ratio\n",
    "            xlim_1 = np.min(X[:, i])-_tmp_\n",
    "            xlim_2 = np.max(X[:, i])+_tmp_\n",
    "            x_range[:, i] = np.linspace(xlim_1, xlim_2, n_grids)\n",
    "        \n",
    "        # grid\n",
    "        xv, yv = np.meshgrid(x_range[:, 0], x_range[:, 1])\n",
    "        num1 = xv.shape[0]\n",
    "        num2 = yv.shape[0]\n",
    "        print('Calculating the grid scores (%04d*%04d)...\\n' %(num1, num2))\n",
    "        distance_ = self.get_distance(np.c_[xv.ravel(), yv.ravel()])\n",
    "        distance = distance_.reshape(xv.shape)\n",
    "        end_time = time.time()\n",
    "        print('Calculation of the grid scores is completed. Time cost %.4f seconds\\n' % (end_time-start_time))\n",
    "\n",
    "        fig = plt.figure(figsize=(20, 6))\n",
    "        \n",
    "        # figure 1: the 3D contour\n",
    "        ax1 = fig.add_subplot(1, 3, 1, projection='3d') \n",
    "        ax1.plot_surface(xv, yv, distance, cmap=color_map)\n",
    "        ax1.contourf(xv, yv, distance.A, n_level, zdir='z', offset=np.min(distance)*0.9, cmap=color_map)\n",
    "        ax1.set_zlim(np.min(distance)*0.9, np.max(distance)*1.05)\n",
    "\n",
    "        # figure 2: the 2D contour\n",
    "        ax2 = fig.add_subplot(1, 3, 2)    \n",
    "        ctf1 = ax2.contourf(xv, yv, distance, n_level, alpha=0.8, cmap=color_map)\n",
    "        ctf2 = ax2.contour(xv, yv, distance, n_level, colors='black', linewidths=1)\n",
    "        plt.clabel(ctf2, inline=True)\n",
    "        plt.colorbar(ctf1)\n",
    "\n",
    "        # figure 3: the 2D contour and data\n",
    "        ax3 = fig.add_subplot(1, 3, 3)\n",
    "        _, y, _, _ = self._check_X_y(X, y) \n",
    "        tmp_1 = y == 1\n",
    "        tmp_2 = y == -1\n",
    "        positive_indices = tmp_1[:, 0]\n",
    "        negative_indices = tmp_2[:, 0]\n",
    "\n",
    "        if self.y_type == 'single':\n",
    "\n",
    "            ax3.scatter(X[:, 0], \n",
    "                        X[:, 1],\n",
    "                        facecolor='C0', marker='o', s=100, linewidths=2,\n",
    "                        edgecolor='black', zorder=2)\n",
    "\n",
    "            ax3.scatter(X[self.support_vector_indices, 0],\n",
    "                        X[self.support_vector_indices, 1],\n",
    "                        facecolor='C2', marker='o', s=144, linewidths=2,\n",
    "                        edgecolor='black', zorder=2)\n",
    "        \n",
    "            ax3.contour(xv, yv, distance, levels=[self.radius],\n",
    "                        colors='C3', linewidths=7, zorder=1)\n",
    "            \n",
    "            ax3.legend([\"Data\", \"Support vectors\"], \n",
    "                      ncol=1, loc='upper left', edgecolor='black',\n",
    "                      markerscale=1.2, fancybox=True) \n",
    "                \n",
    "        else:\n",
    "            ax3.scatter(X[positive_indices, 0], \n",
    "                        X[positive_indices, 1],\n",
    "                        facecolor='C0', marker='o', s=100, linewidths=2,\n",
    "                        edgecolor='black', zorder=2)\n",
    "            \n",
    "            ax3.scatter(X[negative_indices, 0], \n",
    "                        X[negative_indices, 1],\n",
    "                        facecolor='C4', marker='s', s =100, linewidths=2,\n",
    "                        edgecolor='black', zorder=2)\n",
    "        \n",
    "            ax3.scatter(X[self.support_vector_indices, 0],\n",
    "                        X[self.support_vector_indices, 1],\n",
    "                        facecolor='C2', marker='o', s=144, linewidths=2,\n",
    "                        edgecolor='black', zorder=2)\n",
    "            \n",
    "            ax3.contour(xv, yv, distance, levels=[self.radius],\n",
    "                        colors='C3', linewidths=7, zorder=1)\n",
    "            \n",
    "            ax3.legend([\"Data (+)\", \"Data (-)\", \"Support vectors\"], \n",
    "                      ncol=1, loc='upper left', edgecolor='black',\n",
    "                      markerscale=1.2, fancybox=True) \n",
    "\n",
    "        plt.grid()\n",
    "        plt.show()\n",
    "    \n",
    "class BananaDataset():\n",
    "    \"\"\"\n",
    "        Banana-shaped dataset generation and partitioning.\n",
    "        \n",
    "    \"\"\"\n",
    "    def generate(**kwargs):\n",
    "        # Banana-shaped dataset generation\n",
    "        number = kwargs['number']\n",
    "        display = kwargs['display']\n",
    "        \n",
    "        # parameters for banana-shaped dataset\n",
    "        sizeBanana = 3\n",
    "        varBanana = 1.2\n",
    "        param_1 = 0.02\n",
    "        param_2 = 0.02\n",
    "        param_3 = 0.98\n",
    "        param_4 = -0.8 # x-axsis shift\n",
    "        # generate \n",
    "        class_p = param_1 * np.pi+np.random.rand(number, 1) * param_3 * np.pi\n",
    "        data_p = np.append(sizeBanana * np.sin(class_p), sizeBanana * np.cos(class_p), axis=1)\n",
    "        data_p = data_p + np.random.rand(number, 2) * varBanana\n",
    "        data_p[:, 0] = data_p[:, 0] - sizeBanana * 0.5\n",
    "        label_p = np.ones((number, 1), dtype=np.int64)\n",
    "        \n",
    "        class_n = param_2 * np.pi - np.random.rand(number, 1) * param_3 * np.pi\n",
    "        data_n = np.append(sizeBanana * np.sin(class_n), sizeBanana * np.cos(class_n), axis=1)\n",
    "        data_n = data_n + np.random.rand(number, 2)*varBanana\n",
    "        data_n = data_n + np.ones((number, 1)) * [sizeBanana * param_4, sizeBanana * param_4]\n",
    "        data_n[:, 0] = data_n[:, 0] + sizeBanana * 0.5\n",
    "        label_n = -np.ones((number, 1), dtype=np.int64)\n",
    "        \n",
    "        # banana-shaped dataset\n",
    "        data = np.append(data_p, data_n, axis=0)\n",
    "        label = np.append(label_p, label_n, axis=0)\n",
    "        \n",
    "        if display == 'on':\n",
    "            pIndex = label == 1\n",
    "            nIndex = label == -1\n",
    "            fig = plt.figure(figsize=(10, 6))\n",
    "            ax = fig.add_subplot(1, 1, 1)\n",
    "            ax.scatter(data[pIndex[:, 0], 0], data[pIndex[:, 0], 1],\n",
    "                    facecolor='C0', marker='o', s=100, linewidths=2,\n",
    "                    edgecolor='black', zorder=2)\n",
    "            \n",
    "            ax.scatter(data[nIndex[:, 0], 0], data[nIndex[:, 0], 1],\n",
    "                    facecolor='C3', marker='o', s = 100, linewidths=2,\n",
    "                    edgecolor='black', zorder=2)\n",
    "            \n",
    "            ax.set_xlim([-6, 5])\n",
    "            ax.set_ylim([-7, 7])\n",
    "        \n",
    "        return data, label\n",
    "    \n",
    "    def split(data, label, **kwargs):\n",
    "        # Banana-shaped dataset partitioning.\n",
    "        \n",
    "        ratio = kwargs['ratio']\n",
    "        X_train, X_test, y_train, y_test = train_test_split(data, label, test_size=ratio,\n",
    "                                                             random_state=None, shuffle=True, stratify=label)\n",
    "        pIndex = y_train == 1\n",
    "        nIndex = y_train == -1\n",
    "        X_train = np.append(X_train[pIndex[:, 0], :], X_train[nIndex[:, 0], :], axis=0)\n",
    "        y_train = np.append(y_train[pIndex[:, 0], :], y_train[nIndex[:, 0], :], axis=0)\n",
    "\n",
    "        pIndex = y_test == 1\n",
    "        nIndex = y_test == -1\n",
    "        X_test = np.append(X_test[pIndex[:, 0], :], X_test[nIndex[:, 0], :], axis=0)\n",
    "        y_test = np.append(y_test[pIndex[:, 0], :], y_test[nIndex[:, 0], :], axis=0)\n",
    "        \n",
    "        return X_train, X_test ,y_train, y_test"
   ]
  },
  {
   "cell_type": "code",
   "execution_count": 13,
   "id": "347a3cfa",
   "metadata": {},
   "outputs": [
    {
     "name": "stdout",
     "output_type": "stream",
     "text": [
      "\n",
      "\n",
      "*** Fitting of the SVDD model is completed. ***\n",
      "\n",
      "running time         = 0.4505 seconds\n",
      "kernel function      = rbf\n",
      "iterations           = 14\n",
      "number of samples    = 640\n",
      "number of features   = 128\n",
      "number of SVs        = 12\n",
      "ratio of SVs         = 1.8750 %\n",
      "accuracy             = 98.9062 %\n",
      "\n",
      "\n",
      "\n",
      "\n",
      "*** Prediction of the provided data is completed. ***\n",
      "\n",
      "running time         = 0.0496 seconds\n",
      "number of samples    = 735\n",
      "number of alarm      = 363\n",
      "\n",
      "\n"
     ]
    }
   ],
   "source": [
    "svdd = BaseSVDD(C=0.9, gamma=0.001, kernel='rbf', display='on')\n",
    "svdd.fit(train_f2)\n",
    "svdd_label = np.where(svdd.predict(test_f2)==1, 0, 1).reshape(-1)"
   ]
  },
  {
   "cell_type": "markdown",
   "id": "9e65677b",
   "metadata": {},
   "source": [
    "## ABOD"
   ]
  },
  {
   "cell_type": "markdown",
   "id": "2f63f4cb",
   "metadata": {},
   "source": [
    "### Type 0"
   ]
  },
  {
   "cell_type": "code",
   "execution_count": 14,
   "id": "767b36dd",
   "metadata": {},
   "outputs": [],
   "source": [
    "angle_0 = ABOD(n_neighbors=6, contamination=0.03)\n",
    "angle_0.fit(train_0)\n",
    "type0_label = angle_0.predict(test_0)"
   ]
  },
  {
   "cell_type": "markdown",
   "id": "74691239",
   "metadata": {},
   "source": [
    "### Type 2"
   ]
  },
  {
   "cell_type": "code",
   "execution_count": 15,
   "id": "68ab4477",
   "metadata": {},
   "outputs": [],
   "source": [
    "angle_2 = ABOD(n_neighbors=6, contamination=0.03)\n",
    "angle_2.fit(train_2)\n",
    "abod_label = angle_2.predict(test_2)"
   ]
  },
  {
   "cell_type": "markdown",
   "id": "54889a73",
   "metadata": {},
   "source": [
    "## Ensemble"
   ]
  },
  {
   "cell_type": "code",
   "execution_count": 16,
   "id": "c4c49a61",
   "metadata": {},
   "outputs": [],
   "source": [
    "type2_label = np.where((svdd_label + abod_label)<=1, 0, 1)"
   ]
  },
  {
   "cell_type": "code",
   "execution_count": 17,
   "id": "452c1571",
   "metadata": {},
   "outputs": [],
   "source": [
    "label = np.zeros(len(test_all), dtype='int')"
   ]
  },
  {
   "cell_type": "code",
   "execution_count": 18,
   "id": "103f3a9a",
   "metadata": {},
   "outputs": [],
   "source": [
    "label[test_fan==0] = type0_label\n",
    "label[test_fan==2] = type2_label"
   ]
  },
  {
   "cell_type": "markdown",
   "id": "3f17a930",
   "metadata": {},
   "source": [
    "## Summit"
   ]
  },
  {
   "cell_type": "code",
   "execution_count": 19,
   "id": "c1637c67",
   "metadata": {},
   "outputs": [],
   "source": [
    "submit = pd.read_csv('./sample_submission.csv')"
   ]
  },
  {
   "cell_type": "code",
   "execution_count": 20,
   "id": "8b30c234",
   "metadata": {},
   "outputs": [
    {
     "data": {
      "text/html": [
       "<div>\n",
       "<style scoped>\n",
       "    .dataframe tbody tr th:only-of-type {\n",
       "        vertical-align: middle;\n",
       "    }\n",
       "\n",
       "    .dataframe tbody tr th {\n",
       "        vertical-align: top;\n",
       "    }\n",
       "\n",
       "    .dataframe thead th {\n",
       "        text-align: right;\n",
       "    }\n",
       "</style>\n",
       "<table border=\"1\" class=\"dataframe\">\n",
       "  <thead>\n",
       "    <tr style=\"text-align: right;\">\n",
       "      <th></th>\n",
       "      <th>SAMPLE_ID</th>\n",
       "      <th>LABEL</th>\n",
       "    </tr>\n",
       "  </thead>\n",
       "  <tbody>\n",
       "    <tr>\n",
       "      <th>0</th>\n",
       "      <td>TEST_0000</td>\n",
       "      <td>0</td>\n",
       "    </tr>\n",
       "    <tr>\n",
       "      <th>1</th>\n",
       "      <td>TEST_0001</td>\n",
       "      <td>0</td>\n",
       "    </tr>\n",
       "    <tr>\n",
       "      <th>2</th>\n",
       "      <td>TEST_0002</td>\n",
       "      <td>1</td>\n",
       "    </tr>\n",
       "    <tr>\n",
       "      <th>3</th>\n",
       "      <td>TEST_0003</td>\n",
       "      <td>1</td>\n",
       "    </tr>\n",
       "    <tr>\n",
       "      <th>4</th>\n",
       "      <td>TEST_0004</td>\n",
       "      <td>1</td>\n",
       "    </tr>\n",
       "  </tbody>\n",
       "</table>\n",
       "</div>"
      ],
      "text/plain": [
       "   SAMPLE_ID  LABEL\n",
       "0  TEST_0000      0\n",
       "1  TEST_0001      0\n",
       "2  TEST_0002      1\n",
       "3  TEST_0003      1\n",
       "4  TEST_0004      1"
      ]
     },
     "execution_count": 20,
     "metadata": {},
     "output_type": "execute_result"
    }
   ],
   "source": [
    "submit['LABEL'] = label\n",
    "submit.head()"
   ]
  },
  {
   "cell_type": "code",
   "execution_count": 21,
   "id": "6169833b",
   "metadata": {},
   "outputs": [],
   "source": [
    "submit.to_csv('./final_summit.csv', index=False)"
   ]
  }
 ],
 "metadata": {
  "kernelspec": {
   "display_name": "Python 3",
   "language": "python",
   "name": "python3"
  },
  "language_info": {
   "codemirror_mode": {
    "name": "ipython",
    "version": 3
   },
   "file_extension": ".py",
   "mimetype": "text/x-python",
   "name": "python",
   "nbconvert_exporter": "python",
   "pygments_lexer": "ipython3",
   "version": "3.6.9"
  }
 },
 "nbformat": 4,
 "nbformat_minor": 5
}
